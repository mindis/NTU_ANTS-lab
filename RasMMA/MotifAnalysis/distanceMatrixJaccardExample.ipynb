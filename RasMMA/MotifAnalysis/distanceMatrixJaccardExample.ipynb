{
 "cells": [
  {
   "cell_type": "markdown",
   "metadata": {},
   "source": [
    "### Distance Matrix -- Jaccard Example"
   ]
  },
  {
   "cell_type": "code",
   "execution_count": 1,
   "metadata": {
    "collapsed": true
   },
   "outputs": [],
   "source": [
    "# if using Hooklog3\n",
    "%run Hooklog3.ipynb\n",
    "Hooklog = Hooklog3\n",
    "\n",
    "# elis using NestedHooklog3\n",
    "#%run NestedHooklog3.ipynb\n",
    "#Hooklog = NestedHooklog3\n",
    "\n",
    "# elis using FeatureHooklog3\n",
    "#%run FeatureHooklog3.ipynb\n",
    "#Hooklog = FeatureHooklog3\n",
    "\n",
    "# elis using NestedFeatureHooklog3\n",
    "#%run NestedFeatureHooklog3.ipynb\n",
    "#Hooklog = NestedFeatureHooklog3\n",
    "\n",
    "%run distanceMatrixJaccard.ipynb"
   ]
  },
  {
   "cell_type": "code",
   "execution_count": 2,
   "metadata": {
    "collapsed": true
   },
   "outputs": [],
   "source": [
    "# input \n",
    "in_tag = \"morstar\"\n",
    "in_hl_list = None\n",
    "in_picklefile = 'pickle/hl_list_'+ in_tag + '.pickle'\n",
    "in_parseFirstPar = True\n",
    "in_window = 1\n",
    "\n",
    "# output\n",
    "out_matrix = None\n",
    "out_tag = in_tag\n",
    "\n",
    "# outfile\n",
    "out_picklefile = 'pickle/matrix_'+ out_tag + '.pickle'"
   ]
  },
  {
   "cell_type": "code",
   "execution_count": 3,
   "metadata": {
    "collapsed": true
   },
   "outputs": [],
   "source": [
    "# Example\n",
    "import os\n",
    "import pickle\n",
    "\n",
    "with open(in_picklefile, 'rb') as f:\n",
    "    in_hl_list = pickle.load(f)\n",
    "    \n",
    "out_matrix = distanceMatrixJaccard(in_tag, in_hl_list, in_parseFirstPar, in_window)"
   ]
  },
  {
   "cell_type": "code",
   "execution_count": 4,
   "metadata": {},
   "outputs": [
    {
     "name": "stdout",
     "output_type": "stream",
     "text": [
      "31\n",
      "['C:/Users/hsiao/Dropbox/notebook/data/morstar/03ae42959b733f11a168e268_1264.trace.hooklog', 'C:/Users/hsiao/Dropbox/notebook/data/morstar/03ae42959b733f11a168e268_1332.trace.hooklog', 'C:/Users/hsiao/Dropbox/notebook/data/morstar/22f1e10e563130d67bb55961a7271447_1564.trace.hooklog', 'C:/Users/hsiao/Dropbox/notebook/data/morstar/27f348177560314182f161d9ee90b999_1528.trace.hooklog', 'C:/Users/hsiao/Dropbox/notebook/data/morstar/27f348177560314182f161d9ee90b999_1680.trace.hooklog', 'C:/Users/hsiao/Dropbox/notebook/data/morstar/28e17f1e110f3508ceb611839986a4f4_1356.trace.hooklog', 'C:/Users/hsiao/Dropbox/notebook/data/morstar/28e17f1e110f3508ceb611839986a4f4_1396.trace.hooklog', 'C:/Users/hsiao/Dropbox/notebook/data/morstar/3b5196f28dc56ed39f2b2508_1332.trace.hooklog', 'C:/Users/hsiao/Dropbox/notebook/data/morstar/43924db8aac9fb6f0a3bd408_1368.trace.hooklog', 'C:/Users/hsiao/Dropbox/notebook/data/morstar/43924db8aac9fb6f0a3bd408_616.trace.hooklog', 'C:/Users/hsiao/Dropbox/notebook/data/morstar/484818d0428a2303dabdd37b_1024.trace.hooklog', 'C:/Users/hsiao/Dropbox/notebook/data/morstar/484818d0428a2303dabdd37b_1344.trace.hooklog', 'C:/Users/hsiao/Dropbox/notebook/data/morstar/6e68e0ff5efce1297faa3b49_1420.trace.hooklog', 'C:/Users/hsiao/Dropbox/notebook/data/morstar/6e68e0ff5efce1297faa3b49_1876.trace.hooklog', 'C:/Users/hsiao/Dropbox/notebook/data/morstar/6fbee5fb53dcc2f466b10bd8_1404.trace.hooklog', 'C:/Users/hsiao/Dropbox/notebook/data/morstar/739ab4da384acaeebcba0c66_1308.trace.hooklog', 'C:/Users/hsiao/Dropbox/notebook/data/morstar/739ab4da384acaeebcba0c66_624.trace.hooklog', 'C:/Users/hsiao/Dropbox/notebook/data/morstar/79c4772eefb301379a510721_1512.trace.hooklog', 'C:/Users/hsiao/Dropbox/notebook/data/morstar/79c4772eefb301379a510721_496.trace.hooklog', 'C:/Users/hsiao/Dropbox/notebook/data/morstar/81c2d13624f473c10f9866dee8ce79fb_1468.trace.hooklog', 'C:/Users/hsiao/Dropbox/notebook/data/morstar/81c2d13624f473c10f9866dee8ce79fb_1632.trace.hooklog', 'C:/Users/hsiao/Dropbox/notebook/data/morstar/90489a23cb732ae082adf3def0b5d243_1460.trace.hooklog', 'C:/Users/hsiao/Dropbox/notebook/data/morstar/90489a23cb732ae082adf3def0b5d243_304.trace.hooklog', 'C:/Users/hsiao/Dropbox/notebook/data/morstar/930bc9f36310286d105c318a96264eba_288.trace.hooklog', 'C:/Users/hsiao/Dropbox/notebook/data/morstar/930bc9f36310286d105c318a96264eba_s1448.exe_772.trace.hooklog', 'C:/Users/hsiao/Dropbox/notebook/data/morstar/940f7e9ab19be7a9ce0008a6e6b01f9f_1340.trace.hooklog', 'C:/Users/hsiao/Dropbox/notebook/data/morstar/940f7e9ab19be7a9ce0008a6e6b01f9f_s6942.exe_316.trace.hooklog', 'C:/Users/hsiao/Dropbox/notebook/data/morstar/e955be2b1ffe866f54d2b261_140.trace.hooklog', 'C:/Users/hsiao/Dropbox/notebook/data/morstar/e955be2b1ffe866f54d2b261_1420.trace.hooklog', 'C:/Users/hsiao/Dropbox/notebook/data/morstar/f9449d87262a5016f0993d99_1368.trace.hooklog', 'C:/Users/hsiao/Dropbox/notebook/data/morstar/f9449d87262a5016f0993d99_1948.trace.hooklog']\n"
     ]
    }
   ],
   "source": [
    "# Test\n",
    "\n",
    "print(len(in_hl_list))\n",
    "\n",
    "print(in_hl_list)\n",
    "\n",
    "#for i in out_matrix:\n",
    "#    print(i)"
   ]
  },
  {
   "cell_type": "code",
   "execution_count": 5,
   "metadata": {
    "collapsed": true
   },
   "outputs": [],
   "source": [
    "# output\n",
    "import pickle\n",
    "\n",
    "out_hl_list = in_hl_list\n",
    "out_tag = in_tag\n",
    "with open(out_picklefile, 'wb') as o:\n",
    "    pickle.dump(out_matrix, o)"
   ]
  }
 ],
 "metadata": {
  "kernelspec": {
   "display_name": "Python 3",
   "language": "python",
   "name": "python3"
  },
  "language_info": {
   "codemirror_mode": {
    "name": "ipython",
    "version": 3
   },
   "file_extension": ".py",
   "mimetype": "text/x-python",
   "name": "python",
   "nbconvert_exporter": "python",
   "pygments_lexer": "ipython3",
   "version": "3.6.0"
  }
 },
 "nbformat": 4,
 "nbformat_minor": 2
}
