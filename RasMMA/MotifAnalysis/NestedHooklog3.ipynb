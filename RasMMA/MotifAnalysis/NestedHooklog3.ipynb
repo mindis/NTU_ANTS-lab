{
 "cells": [
  {
   "cell_type": "code",
   "execution_count": 1,
   "metadata": {
    "collapsed": true
   },
   "outputs": [],
   "source": [
    "%run Hooklog3.ipynb"
   ]
  },
  {
   "cell_type": "code",
   "execution_count": 2,
   "metadata": {
    "collapsed": true
   },
   "outputs": [],
   "source": [
    "import os"
   ]
  },
  {
   "cell_type": "code",
   "execution_count": 3,
   "metadata": {
    "collapsed": true
   },
   "outputs": [],
   "source": [
    "class NestedHooklog3(Hooklog3):\n",
    "    \n",
    "    def __init__(self, path, par):\n",
    "        self.path = path\n",
    "        self.par = par\n",
    "        self.li = list()\n",
    "        self.length = 0\n",
    "        \n",
    "        self._parseDigitname()\n",
    "        self.__parseHooklog() # use NestedHooklog3's __parseHooklog, not Hooklog3\n",
    "        self.__deleteNested()\n",
    "    \n",
    "    def __str__(self):\n",
    "        return \"class NestedHooklog3, %s, par = %d, len = %d, digit name = %s\" % (self.path, self.par, self.length, self.digitname)\n",
    "    \n",
    "    # private functions\n",
    "    def __parseHooklog(self):\n",
    "        if self.isExist():\n",
    "            handle = open(self.path, 'rb')\n",
    "            index = 0 # MIKE: 20170616, Nested return index\n",
    "            \n",
    "            while 1:\n",
    "                (tick, api) = self._getNextPair(handle)\n",
    "                if tick == 0:\n",
    "                    break # end of file or fail to read\n",
    "                self.li.append((tick, api, index))\n",
    "                self.length += 1\n",
    "                index += 1\n",
    "            if handle: handle.close()\n",
    "            \n",
    "            # MIKE: 20170616, will sorted by nested structure by ____deleteNested, not tick anymore!\n",
    "            self.li.sort(key = lambda tup: tup[0]) # sort by tick\n",
    "            \n",
    "        else:\n",
    "            pass\n",
    "    \n",
    "    def __deleteNested(self):\n",
    "        # MIKE: uncomment for debug nestedhooklog\n",
    "        #for i, (t, a, r) in enumerate(self.li):\n",
    "        #    print(i, t, a, r)\n",
    "        \n",
    "        pre_c, pre_r = -1, -1\n",
    "        deleted = 0\n",
    "        length = len(self.li)\n",
    "        for call in range(length): # MIKE: dont use len() here, list length changes\n",
    "            index = call - deleted\n",
    "            (tick, api, ret) = self.li[index]\n",
    "            \n",
    "            if pre_c == pre_r or call == ret: # ! not nested\n",
    "                # for compatibility remove ret\n",
    "                self.li[index] = (tick, api)\n",
    "            else:\n",
    "                del self.li[index]\n",
    "                deleted += 1\n",
    "            pre_c, pre_r = call, ret\n",
    "            \n",
    "        # update length\n",
    "        self.length = len(self.li)"
   ]
  }
 ],
 "metadata": {
  "kernelspec": {
   "display_name": "Python 3",
   "language": "python",
   "name": "python3"
  },
  "language_info": {
   "codemirror_mode": {
    "name": "ipython",
    "version": 3
   },
   "file_extension": ".py",
   "mimetype": "text/x-python",
   "name": "python",
   "nbconvert_exporter": "python",
   "pygments_lexer": "ipython3",
   "version": "3.6.0"
  }
 },
 "nbformat": 4,
 "nbformat_minor": 2
}
