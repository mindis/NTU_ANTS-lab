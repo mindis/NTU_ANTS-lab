{
 "cells": [
  {
   "cell_type": "markdown",
   "metadata": {
    "deletable": true,
    "editable": true
   },
   "source": [
    "## Check Two Data Structure: MatchMatrix, GapSeqList\n",
    "\n",
    "    Given three datastructure: (featureProfile, MatchMatrix, GapSeqList), check if (MatchMatrix, GapSeqList) are correct.\n",
    "    output: true/false"
   ]
  },
  {
   "cell_type": "code",
   "execution_count": 1,
   "metadata": {
    "collapsed": false,
    "deletable": true,
    "editable": true
   },
   "outputs": [],
   "source": [
    "def checkStruct(featureProfile, gapSeqList, matchMatrix): \n",
    "    #recheck data in two structures are the same by compariing their length\n",
    "    hkName_li = [hk for hk, stat, api in matchMatrix[1]]\n",
    "    \n",
    "    for hk in hkName_li:\n",
    "        len_featureK = len(featureProfile[hk])\n",
    "        totalLen = 0\n",
    "\n",
    "        for i in gapSeqList:\n",
    "            for hkIN , sub in gapSeqList[i]:\n",
    "                if hk == hkIN:\n",
    "                    totalLen += len(sub)\n",
    "                    break\n",
    "                    \n",
    "        for i in matchMatrix:\n",
    "            for hkIN, stat, api in matchMatrix[i]:\n",
    "                if hk == hkIN and stat != 'gap':\n",
    "                    totalLen += 1\n",
    "                    break\n",
    "                    \n",
    "        if len_featureK != totalLen: \n",
    "            print ('len_featureK:', len_featureK, 'gapSeqList + matchMatrix:', totalLen)\n",
    "            print (k, 'structure has error!')\n",
    "            return False\n",
    "        \n",
    "    return True"
   ]
  },
  {
   "cell_type": "markdown",
   "metadata": {
    "deletable": true,
    "editable": true
   },
   "source": [
    "### Example"
   ]
  },
  {
   "cell_type": "code",
   "execution_count": 2,
   "metadata": {
    "collapsed": false,
    "deletable": true,
    "editable": true
   },
   "outputs": [],
   "source": [
    "# 1.Get a dict of feature profiles (out: a hkName list, a featureProfile dict)\n",
    "%run \"FeatureHooklog.ipynb\"\n",
    "testDir = \"test/hooklogs/\"\n",
    "hkName_li = list(filter(lambda f:f.endswith('.trace.hooklog'), os.listdir(testDir)))\n",
    "fp_dict = {f:FeatureHooklog(testDir + f, 0).getHkli_noContainTS() for f in hkName_li } \n",
    "        \n",
    "# 2.Get a dict of pairwise alignment result \n",
    "# (in: a featureProfile dict; out: alignmentProfile dict, alingmnt baseline)\n",
    "%run \"Alignment.ipynb\"\n",
    "BASE = hkName_li[0]\n",
    "fpBASE = fp_dict[BASE]\n",
    "ali_dict = {hk:pairwise_NW( fpBASE, fp_dict[hk], 2, -1, -3, 1, 0, 1)[2] for hk in hkName_li } \n",
    "\n",
    "# 3. Get matchMatrix, gapSeqList\n",
    "# (in: alignmentProfile dict; out: matchMatrix, gapSeqList)\n",
    "%run \"StructMatchGap.ipynb\"\n",
    "data = structMatchGap(ali_dict)\n",
    "matchMatrix = data[0]\n",
    "gapSeqList = data[1]"
   ]
  },
  {
   "cell_type": "markdown",
   "metadata": {
    "deletable": true,
    "editable": true
   },
   "source": [
    "##### check two data structure: matchMatrix, gapSeqList"
   ]
  },
  {
   "cell_type": "code",
   "execution_count": 3,
   "metadata": {
    "collapsed": false,
    "deletable": true,
    "editable": true
   },
   "outputs": [
    {
     "data": {
      "text/plain": [
       "True"
      ]
     },
     "execution_count": 3,
     "metadata": {},
     "output_type": "execute_result"
    }
   ],
   "source": [
    "checkStruct(fp_dict, matchMatrix, gapSeqList)"
   ]
  }
 ],
 "metadata": {
  "kernelspec": {
   "display_name": "Python 3",
   "language": "python",
   "name": "python3"
  },
  "language_info": {
   "codemirror_mode": {
    "name": "ipython",
    "version": 3
   },
   "file_extension": ".py",
   "mimetype": "text/x-python",
   "name": "python",
   "nbconvert_exporter": "python",
   "pygments_lexer": "ipython3",
   "version": "3.5.2"
  }
 },
 "nbformat": 4,
 "nbformat_minor": 0
}
