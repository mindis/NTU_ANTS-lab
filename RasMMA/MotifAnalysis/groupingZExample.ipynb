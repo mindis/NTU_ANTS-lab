{
 "cells": [
  {
   "cell_type": "markdown",
   "metadata": {},
   "source": [
    "### groupingZExample"
   ]
  },
  {
   "cell_type": "code",
   "execution_count": 1,
   "metadata": {
    "collapsed": true
   },
   "outputs": [],
   "source": [
    "%run groupingZ.ipynb"
   ]
  },
  {
   "cell_type": "code",
   "execution_count": 2,
   "metadata": {
    "collapsed": true
   },
   "outputs": [],
   "source": [
    "# input \n",
    "in_tag = \"morstar\"\n",
    "in_upgma_threshold = 0.4\n",
    "\n",
    "# auto-input\n",
    "in_hl_list = None\n",
    "in_hl_list_pkf = 'pickle/hl_list_'+ in_tag + '.pickle'\n",
    "in_Z = None\n",
    "in_Z_pkf = 'pickle/Z_'+ in_tag + '.pickle'\n",
    "\n",
    "# output\n",
    "out_tag = in_tag\n",
    "out_group_dict = None\n",
    "\n",
    "# outfile\n",
    "out_group_dict_pkf = 'pickle/group_dict_' + out_tag + '.pickle'"
   ]
  },
  {
   "cell_type": "code",
   "execution_count": 3,
   "metadata": {
    "collapsed": true
   },
   "outputs": [],
   "source": [
    "# Example\n",
    "import os\n",
    "import pickle\n",
    "\n",
    "with open(in_hl_list_pkf, 'rb') as f:\n",
    "    in_hl_list = pickle.load(f)\n",
    "with open(in_Z_pkf, 'rb') as f:\n",
    "    in_Z = pickle.load(f)\n",
    "\n",
    "group_dict = groupingZ(in_Z, in_hl_list, in_upgma_threshold)"
   ]
  },
  {
   "cell_type": "code",
   "execution_count": 4,
   "metadata": {},
   "outputs": [
    {
     "name": "stdout",
     "output_type": "stream",
     "text": [
      "Total 5 groups @ threshold = 0.4\n",
      "==\n",
      "G-2, size 1, height -1.000000\n",
      "   2 22f1e1-1564\n",
      "==\n",
      "G-7, size 1, height -1.000000\n",
      "   7 3b5196-1332\n",
      "==\n",
      "G-14, size 1, height -1.000000\n",
      "   14 6fbee5-1404\n",
      "==\n",
      "G-54, size 14, height 0.091032\n",
      "   1 03ae42-1332\n",
      "   4 27f348-1680\n",
      "   5 28e17f-1356\n",
      "   8 43924d-1368\n",
      "   11 484818-1344\n",
      "   12 6e68e0-1420\n",
      "   15 739ab4-1308\n",
      "   17 79c477-1512\n",
      "   20 81c2d1-1632\n",
      "   21 90489a-1460\n",
      "   23 930bc9-288\n",
      "   25 940f7e-1340\n",
      "   28 e955be-1420\n",
      "   29 f9449d-1368\n",
      "==\n",
      "G-56, size 14, height 0.207302\n",
      "   0 03ae42-1264\n",
      "   3 27f348-1528\n",
      "   6 28e17f-1396\n",
      "   9 43924d-616\n",
      "   10 484818-1024\n",
      "   13 6e68e0-1876\n",
      "   16 739ab4-624\n",
      "   18 79c477-496\n",
      "   19 81c2d1-1468\n",
      "   22 90489a-304\n",
      "   24 930bc9-772\n",
      "   26 940f7e-316\n",
      "   27 e955be-140\n",
      "   30 f9449d-1948\n"
     ]
    }
   ],
   "source": [
    "# Test\n",
    "\n",
    "num_leaves = len(in_hl_list)\n",
    "print('Total', len(group_dict), 'groups @ threshold =', in_upgma_threshold)\n",
    "\n",
    "for g in group_dict:\n",
    "    \n",
    "    group_index = g\n",
    "    height = group_dict[group_index][0]\n",
    "    member_set = group_dict[group_index][1]\n",
    "    \n",
    "    print(\"==\")\n",
    "    print(\"G-%d, size %d, height %f\" % (group_index, len(member_set), height))\n",
    "    \n",
    "    for m in member_set:\n",
    "        pathfilename = in_hl_list[m]\n",
    "        digitname = pathfilename.split('/')[-1][:6] + '-' + pathfilename.split('_')[-1].split('.')[0]\n",
    "        print(\"  \", m, digitname)"
   ]
  },
  {
   "cell_type": "code",
   "execution_count": 5,
   "metadata": {
    "collapsed": true
   },
   "outputs": [],
   "source": [
    "# output\n",
    "import pickle\n",
    "\n",
    "out_tag = in_tag\n",
    "out_group_dict = group_dict\n",
    "\n",
    "with open(out_group_dict_pkf, 'wb') as o:\n",
    "    pickle.dump(out_group_dict, o)"
   ]
  },
  {
   "cell_type": "code",
   "execution_count": 6,
   "metadata": {},
   "outputs": [
    {
     "name": "stdout",
     "output_type": "stream",
     "text": [
      "C:\\Users\\hsiao\\Dropbox\\notebook\\MotifAnalysis\\hooklogs\\morstar_g_\n"
     ]
    }
   ],
   "source": [
    "# output 2\n",
    "new_dir = moveHooklogByGroupDict(group_dict, in_hl_list, in_tag + \"_g\")\n",
    "\n",
    "import os\n",
    "print(os.path.abspath(new_dir))"
   ]
  }
 ],
 "metadata": {
  "kernelspec": {
   "display_name": "Python 3",
   "language": "python",
   "name": "python3"
  },
  "language_info": {
   "codemirror_mode": {
    "name": "ipython",
    "version": 3
   },
   "file_extension": ".py",
   "mimetype": "text/x-python",
   "name": "python",
   "nbconvert_exporter": "python",
   "pygments_lexer": "ipython3",
   "version": "3.6.0"
  }
 },
 "nbformat": 4,
 "nbformat_minor": 2
}
