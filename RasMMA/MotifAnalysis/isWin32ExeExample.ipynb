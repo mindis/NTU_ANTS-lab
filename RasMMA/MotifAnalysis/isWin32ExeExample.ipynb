{
 "cells": [
  {
   "cell_type": "markdown",
   "metadata": {},
   "source": [
    "### isWin32Exe Exmaple"
   ]
  },
  {
   "cell_type": "code",
   "execution_count": 1,
   "metadata": {
    "collapsed": true
   },
   "outputs": [],
   "source": [
    "%run isWin32Exe.ipynb"
   ]
  },
  {
   "cell_type": "code",
   "execution_count": 2,
   "metadata": {
    "collapsed": true
   },
   "outputs": [],
   "source": [
    "# input\n",
    "in_directory = \"C:\\Windows\"\n",
    "in_tag = \"windows\"\n",
    "\n",
    "# output\n",
    "out_pickle = None\n",
    "out_tag = in_tag\n",
    "\n",
    "# outfile\n",
    "out_picklefile = 'pickle/win32_list_'+ out_tag + '.pickle'"
   ]
  },
  {
   "cell_type": "code",
   "execution_count": 3,
   "metadata": {},
   "outputs": [
    {
     "name": "stdout",
     "output_type": "stream",
     "text": [
      "Total 31 files ; total 3 PE files.\n",
      "C:\\Windows\\RtlExUpd.dll\n",
      "C:\\Windows\\twain_32.dll\n",
      "C:\\Windows\\winhlp32.exe\n",
      "Pickkle is saved here: pickle/win32_list_windows.pickle\n"
     ]
    }
   ],
   "source": [
    "# Example\n",
    "import os\n",
    "\n",
    "file_list = next(os.walk(in_directory))[2]\n",
    "file_list = [os.path.join(in_directory, f) for f in file_list]\n",
    "\n",
    "# You can try this first\n",
    "#pe_list = list(filter(isPE, file_list)) \n",
    "#print(pe_list)\n",
    "\n",
    "win32_list = list(filter(isWin32Exe, file_list)) # None, EXE, MZ, or PE\n",
    "print(\"Total\", len(file_list), \"files\", \"; total\", len(win32_list), \"PE files.\")\n",
    "for w in win32_list:\n",
    "    print(w)\n",
    "print(\"Pickkle is saved here:\", out_picklefile)"
   ]
  },
  {
   "cell_type": "code",
   "execution_count": 4,
   "metadata": {
    "collapsed": true
   },
   "outputs": [],
   "source": [
    "# output\n",
    "out_pickle = win32_list\n",
    "\n",
    "import pickle\n",
    "with open(out_picklefile, 'wb') as o:\n",
    "    pickle.dump(out_pickle, o)"
   ]
  }
 ],
 "metadata": {
  "kernelspec": {
   "display_name": "Python 3",
   "language": "python",
   "name": "python3"
  },
  "language_info": {
   "codemirror_mode": {
    "name": "ipython",
    "version": 3
   },
   "file_extension": ".py",
   "mimetype": "text/x-python",
   "name": "python",
   "nbconvert_exporter": "python",
   "pygments_lexer": "ipython3",
   "version": "3.6.0"
  }
 },
 "nbformat": 4,
 "nbformat_minor": 2
}
