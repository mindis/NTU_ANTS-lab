{
 "cells": [
  {
   "cell_type": "markdown",
   "metadata": {},
   "source": [
    "### Distance Matrix -- Jaccard"
   ]
  },
  {
   "cell_type": "code",
   "execution_count": 1,
   "metadata": {
    "collapsed": true
   },
   "outputs": [],
   "source": [
    "#%run Hooklog3.ipynb"
   ]
  },
  {
   "cell_type": "code",
   "execution_count": 2,
   "metadata": {
    "collapsed": true
   },
   "outputs": [],
   "source": [
    "def distanceMatrixJaccard(in_tag, in_hl_list, in_parseFirstPar, in_window):\n",
    "\n",
    "    # distance matrix, use half of it\n",
    "    matrix  = [[0 for x in range(len(in_hl_list))] for x in range(len(in_hl_list))]\n",
    "    \n",
    "    # Jaccard\n",
    "    for i in range(len(in_hl_list)):\n",
    "        try:\n",
    "            h1 = Hooklog(in_hl_list[i], in_parseFirstPar)\n",
    "            h1_set = h1.getWinSet(in_window)\n",
    "\n",
    "            for j in range(i, len(in_hl_list)):\n",
    "                if i == j:\n",
    "                    matrix[i][j] = 0.0\n",
    "                else: # i < j\n",
    "                    h2 = Hooklog(in_hl_list[j], in_parseFirstPar)\n",
    "                    h2_set = h2.getWinSet(in_window)\n",
    "\n",
    "                    inter = len(h1_set.intersection(h2_set))\n",
    "                    union = len(h1_set.union(h2_set))\n",
    "\n",
    "                    matrix[i][j] = 1.0 - round(float(inter)/float(union), 8) if union != 0 else 0.0\n",
    "                    matrix[j][i] = matrix[i][j]\n",
    "        except:\n",
    "            print(\"Exception\")\n",
    "            \n",
    "    return matrix"
   ]
  }
 ],
 "metadata": {
  "kernelspec": {
   "display_name": "Python 3",
   "language": "python",
   "name": "python3"
  },
  "language_info": {
   "codemirror_mode": {
    "name": "ipython",
    "version": 3
   },
   "file_extension": ".py",
   "mimetype": "text/x-python",
   "name": "python",
   "nbconvert_exporter": "python",
   "pygments_lexer": "ipython3",
   "version": "3.6.0"
  }
 },
 "nbformat": 4,
 "nbformat_minor": 2
}
