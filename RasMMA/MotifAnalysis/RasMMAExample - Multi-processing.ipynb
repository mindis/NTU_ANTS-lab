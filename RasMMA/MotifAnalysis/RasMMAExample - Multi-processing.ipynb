{
 "cells": [
  {
   "cell_type": "markdown",
   "metadata": {},
   "source": [
    "## RasMMA usage\n",
    "Usage of RasMMA.ipynb"
   ]
  },
  {
   "cell_type": "code",
   "execution_count": null,
   "metadata": {},
   "outputs": [],
   "source": [
    "# do clustering and output two pickle files. (@_intermediate.pickle and @_nameDict.pickle)\n",
    "% run RasMMA.ipynb\n",
    "import os\n",
    "\n",
    "def startClustering(data_directory, tag, outputPath, thresholdValue=None):\n",
    "    if not os.listdir(data_directory):\n",
    "        print(\"Data Empty\")\n",
    "        return\n",
    "    \n",
    "    # Create Directories if didn't exist\n",
    "    if not os.path.isdir(outputPath): os.makedirs(outputPath)\n",
    "    pickleDir = outputPath + \"pickle/\"\n",
    "    if not os.path.isdir(pickleDir): os.makedirs(pickleDir)\n",
    "        \n",
    "    # link RasMMA algorithm logic\n",
    "    intermediatePool, initialDict, roundInfos, residual = do_RasMMA_clustering(data_directory,\n",
    "                                                                               tag,\n",
    "                                                                               outputPath,\n",
    "                                                                               thresholdValue)\n",
    "\n",
    "    # saving intermediatePool as pickle file\n",
    "    with open(pickleDir + tag + '_intermediate.pickle', 'wb') as handle:\n",
    "        pickle.dump(intermediatePool, handle, protocol=pickle.HIGHEST_PROTOCOL)\n",
    "\n",
    "    # saving initialNames dict as pickle file\n",
    "    with open(pickleDir + tag + '_initialDict.pickle', 'wb') as handle:\n",
    "        pickle.dump(initialDict, handle, protocol=pickle.HIGHEST_PROTOCOL)\n",
    "        \n",
    "    # saving round information dict as pickle file\n",
    "    with open(pickleDir + tag + '_roundInfos.pickle', 'wb') as handle:\n",
    "        pickle.dump(roundInfos, handle, protocol=pickle.HIGHEST_PROTOCOL)\n",
    "        \n",
    "    if(residual is not None):\n",
    "        # saving round information dict as pickle file\n",
    "        with open(pickleDir + tag + '_residual.pickle', 'wb') as handle:\n",
    "            pickle.dump(residual, handle, protocol=pickle.HIGHEST_PROTOCOL)"
   ]
  },
  {
   "cell_type": "markdown",
   "metadata": {},
   "source": [
    "## Main Cell\n",
    "usage example of get clustering results"
   ]
  },
  {
   "cell_type": "code",
   "execution_count": null,
   "metadata": {},
   "outputs": [],
   "source": [
    "# basic global inputs variable\n",
    "def main(data_directory, tag, outputPath, manualThresholdNumber):\n",
    "    import datetime\n",
    "    date_time = datetime.datetime.now()\n",
    "    print(date_time.strftime(\"%Y-%b-%d %H:%M\"))\n",
    "    startClustering(data_directory, tag, outputPath, manualThresholdNumber)\n",
    "    date_time = datetime.datetime.now()\n",
    "    print(date_time.strftime(\"%Y-%b-%d %H:%M\"))\n",
    "\n",
    "\n",
    "# manualThresholdNumber = 0.8 # defined the threshold of merge score\n",
    "# familyName = \"domaiq\"\n",
    "# data_directory = \"/home/master/r07725027/dataset/aries_v2_simplified_15up/9.domaiq/\" # data trace directory\n",
    "# tag = familyName + \"_0.8\" # used for naming pickle\n",
    "# outputPath = \"/home/master/r07725027/dataset/rasMMA-output/\" + tag + \"/\"\n",
    "# pickleDir = outputPath + \"pickle/\"\n",
    "\n",
    "# print(outputPath, pickleDir)\n",
    "# main(data_directory, tag, outputPath, manualThresholdNumber)"
   ]
  },
  {
   "cell_type": "markdown",
   "metadata": {},
   "source": [
    "## Run RasMMA in Multi-processes for Aries_V2_simplified_15up"
   ]
  },
  {
   "cell_type": "code",
   "execution_count": null,
   "metadata": {},
   "outputs": [],
   "source": [
    "manualThresholdNumber = 0.8 # defined the threshold of merge score"
   ]
  },
  {
   "cell_type": "code",
   "execution_count": null,
   "metadata": {},
   "outputs": [],
   "source": [
    "import sys\n",
    "from multiprocessing import Pool, Manager\n",
    "\n",
    "extract_family_range = [1, 15] # set family ID range you want to run rasMMA\n",
    "family_folder_path = '/home/master/r07725027/dataset/aries_v2_simplified_15up' # change to your dataset path\n",
    "output_path_root = \"/home/master/r07725027/dataset/rasMMA-output\" # change to output path\n",
    "pickle_dir = ''\n",
    "\n",
    "families = os.listdir(family_folder_path)\n",
    "\n",
    "# return family directory within range\n",
    "def get_family_names():\n",
    "    family_names = []\n",
    "    for family in families:\n",
    "        (family_num, family_name) = family.split('.')\n",
    "        family_num = int(family_num)\n",
    "\n",
    "        if extract_family_range[0] <= family_num <= extract_family_range[1]:\n",
    "            family_names.append(family)\n",
    "            \n",
    "    return family_names\n",
    "\n",
    "# extract function for multiprocessing\n",
    "def extract(family_name, error_messages):\n",
    "    global pickle_dir\n",
    "    \n",
    "    data_directory = f'{family_folder_path}/{family_name}/'\n",
    "    tag = family_name.split('.')[1] + \"_0.8\" # used for naming pickle\n",
    "    output_path = f'{output_path_root}/{tag}/'\n",
    "    pickle_dir = f'{output_path}pickle/'\n",
    "    \n",
    "    try:\n",
    "        main(data_directory, tag, output_path, manualThresholdNumber)\n",
    "    except Exception as e:\n",
    "        error_type = sys.exc_info()[0]\n",
    "        error = str(e)\n",
    "        print('Error: ' + family_name, type(e).__name__, ': ', error)\n",
    "        error_messages.put(f'{tag} -> {type(e).__name__}: {error}')\n",
    "    \n",
    "\n",
    "def main_extract():\n",
    "    # shared memory error list between processes\n",
    "    manager = Manager()\n",
    "    error_messages = manager.Queue()\n",
    "\n",
    "    # use multiprocess\n",
    "    with Pool(processes = 15) as pool: # define how many processes to run\n",
    "        # use starmap to map job to process, and pass multiple args to extract function\n",
    "        pool.starmap(extract, [(family, error_messages) for family in get_family_names()])\n",
    "    \n",
    "    print('\\n----- Error Messages -----')\n",
    "    while error_messages.empty() is False:\n",
    "        print(error_messages.get())\n",
    "        \n",
    "main_extract()"
   ]
  }
 ],
 "metadata": {
  "kernelspec": {
   "display_name": "Python 3",
   "language": "python",
   "name": "python3"
  },
  "language_info": {
   "codemirror_mode": {
    "name": "ipython",
    "version": 3
   },
   "file_extension": ".py",
   "mimetype": "text/x-python",
   "name": "python",
   "nbconvert_exporter": "python",
   "pygments_lexer": "ipython3",
   "version": "3.6.5"
  }
 },
 "nbformat": 4,
 "nbformat_minor": 2
}
