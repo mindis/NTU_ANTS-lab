{
 "cells": [
  {
   "cell_type": "code",
   "execution_count": 2,
   "metadata": {},
   "outputs": [
    {
     "name": "stderr",
     "output_type": "stream",
     "text": [
      "/home/leoqaz12/anaconda3/lib/python3.6/site-packages/h5py/__init__.py:36: FutureWarning: Conversion of the second argument of issubdtype from `float` to `np.floating` is deprecated. In future, it will be treated as `np.float64 == np.dtype(float).type`.\n",
      "  from ._conv import register_converters as _register_converters\n",
      "Using TensorFlow backend.\n"
     ]
    }
   ],
   "source": [
    "import keras\n",
    "import seq2seq\n",
    "from seq2seq.models import AttentionSeq2Seq\n",
    "import tensorflow as tf\n",
    "import numpy as np\n",
    "import pandas as pd"
   ]
  },
  {
   "cell_type": "markdown",
   "metadata": {},
   "source": [
    "### Get only api call w/o parameters\n",
    "* deal with X"
   ]
  },
  {
   "cell_type": "code",
   "execution_count": 1,
   "metadata": {},
   "outputs": [],
   "source": [
    "%run MotifAnalysis/Hooklog3.ipynb\n",
    "Hooklog = Hooklog3\n"
   ]
  },
  {
   "cell_type": "code",
   "execution_count": 3,
   "metadata": {},
   "outputs": [],
   "source": [
    "# input \n",
    "in_directory = \"./MotifAnalysis/hooklogs/allaple_woj_g_98/\" # make sure the last character is '/'\n",
    "#in_tag = \"morstar\"\n",
    "in_tag = in_directory.split(\"/\")[-2]\n",
    "in_parseFirstPar = False\n",
    "in_window = 1\n",
    "\n",
    "# output\n",
    "out_hl_list = None\n",
    "out_tag = in_tag\n",
    "\n",
    "# outfile\n",
    "out_csvfile = './MotifAnalysis/output/hl_list_'+ out_tag + '.csv'\n",
    "out_featuretabfile = './MotifAnalysis/output/featurecsvfile_'+ out_tag + '.tab'\n",
    "out_picklefile = './MotifAnalysis/pickle/hl_list_'+ out_tag + '.pickle'\n",
    "out_apifreq_pk = './MotifAnalysis/pickle/apifreq_dict_'+ out_tag + '.pickle'"
   ]
  },
  {
   "cell_type": "code",
   "execution_count": 4,
   "metadata": {},
   "outputs": [],
   "source": [
    "# Example\n",
    "import os\n",
    "\n",
    "hl_list = next(os.walk(in_directory))[2] # get all filenames in the in_directory\n",
    "hl_list = [os.path.join(in_directory, f) for f in hl_list] # filepathname list\n",
    "\n",
    "hl_list = list(filter(lambda f: f.endswith(\".hooklog\"), hl_list)) # in case some non-hooklog file in the folder\n",
    "\n",
    "for file in hl_list:\n",
    "    hl3 = Hooklog(file, in_parseFirstPar)"
   ]
  },
  {
   "cell_type": "code",
   "execution_count": 5,
   "metadata": {
    "scrolled": true
   },
   "outputs": [
    {
     "name": "stdout",
     "output_type": "stream",
     "text": [
      "=====\n",
      "class Hooklog3, ./MotifAnalysis/hooklogs/allaple_woj_g_98/329d35de1e16f1060805b04bc4ee3a3a14c5474d754cd13ad82692a202f53cb9_3328.trace_gSDXp90.hooklog, par = 0, len = 108, digit name = 329d35-gSDXp90\n",
      "('225320000', 'LoadLibrary')\n",
      "('225560000', 'LoadLibrary')\n",
      "('226150000', 'LoadLibrary')\n",
      "('226430000', 'LoadLibrary')\n",
      "('226580000', 'LoadLibrary')\n",
      "('226730000', 'LoadLibrary')\n",
      "('227030000', 'LoadLibrary')\n",
      "('227160000', 'LoadLibrary')\n",
      "('227450000', 'RegQueryValue')\n",
      "('227450000', 'RegQueryValue')\n",
      "('227500000', 'LoadLibrary')\n",
      "('227890000', 'RegQueryValue')\n",
      "('228160000', 'LoadLibrary')\n",
      "('228820000', 'CreateFile')\n",
      "('229050000', 'RegQueryValue')\n",
      "('229060000', 'RegQueryValue')\n",
      "('229070000', 'RegEnumValue')\n",
      "('229340000', 'LoadLibrary')\n",
      "('229890000', 'RegQueryValue')\n",
      "('229900000', 'LoadLibrary')\n",
      "('230230000', 'LoadLibrary')\n",
      "('230330000', 'LoadLibrary')\n",
      "('230650000', 'LoadLibrary')\n",
      "('230840000', 'LoadLibrary')\n",
      "('231230000', 'CreateFile')\n",
      "('231240000', 'CreateFile')\n",
      "('232320000', 'RegCreateKey')\n",
      "('232390000', 'RegSetValue')\n",
      "('232440000', 'RegCreateKey')\n",
      "('232480000', 'RegSetValue')\n",
      "('232880000', 'RegQueryValue')\n",
      "('232900000', 'RegQueryValue')\n",
      "('232900000', 'RegQueryValue')\n",
      "('232910000', 'RegQueryValue')\n",
      "('232910000', 'RegQueryValue')\n",
      "('232930000', 'RegQueryValue')\n",
      "('232930000', 'RegQueryValue')\n",
      "('232950000', 'RegQueryValue')\n",
      "('232950000', 'RegQueryValue')\n",
      "('232960000', 'RegQueryValue')\n",
      "('232970000', 'RegQueryValue')\n",
      "('232980000', 'RegQueryValue')\n",
      "('232980000', 'RegQueryValue')\n",
      "('233000000', 'RegQueryValue')\n",
      "('233000000', 'RegQueryValue')\n",
      "('233020000', 'RegQueryValue')\n",
      "('233020000', 'RegQueryValue')\n",
      "('233040000', 'RegQueryValue')\n",
      "('233040000', 'RegQueryValue')\n",
      "('233050000', 'RegQueryValue')\n",
      "('233060000', 'RegQueryValue')\n",
      "('233080000', 'RegQueryValue')\n",
      "('233080000', 'RegQueryValue')\n",
      "('233090000', 'RegQueryValue')\n",
      "('233100000', 'RegQueryValue')\n",
      "('233110000', 'RegQueryValue')\n",
      "('233120000', 'RegQueryValue')\n",
      "('233130000', 'RegQueryValue')\n",
      "('233130000', 'RegQueryValue')\n",
      "('233150000', 'RegQueryValue')\n",
      "('233150000', 'RegQueryValue')\n",
      "('233180000', 'RegQueryValue')\n",
      "('233180000', 'RegQueryValue')\n",
      "('233190000', 'RegQueryValue')\n",
      "('233210000', 'RegQueryValue')\n",
      "('233210000', 'RegQueryValue')\n",
      "('233220000', 'RegQueryValue')\n",
      "('233220000', 'RegQueryValue')\n",
      "('233230000', 'RegQueryValue')\n",
      "('233230000', 'RegQueryValue')\n",
      "('233230000', 'RegQueryValue')\n",
      "('233240000', 'RegQueryValue')\n",
      "('233240000', 'RegQueryValue')\n",
      "('233250000', 'RegQueryValue')\n",
      "('233260000', 'RegQueryValue')\n",
      "('233260000', 'RegQueryValue')\n",
      "('233270000', 'RegQueryValue')\n",
      "('233270000', 'RegQueryValue')\n",
      "('233270000', 'RegQueryValue')\n",
      "('233270000', 'RegQueryValue')\n",
      "('233280000', 'RegQueryValue')\n",
      "('233280000', 'RegQueryValue')\n",
      "('233290000', 'RegQueryValue')\n",
      "('233300000', 'RegQueryValue')\n",
      "('233300000', 'RegQueryValue')\n",
      "('233310000', 'RegQueryValue')\n",
      "('233310000', 'RegQueryValue')\n",
      "('233320000', 'RegQueryValue')\n",
      "('233320000', 'RegQueryValue')\n",
      "('233320000', 'RegQueryValue')\n",
      "('233320000', 'RegQueryValue')\n",
      "('233330000', 'RegQueryValue')\n",
      "('233460000', 'CreateFile')\n",
      "('233460000', 'CopyFile')\n",
      "('233510000', 'CreateProcessInternal')\n",
      "('233510000', 'CreateProcessInternal')\n",
      "('233510000', 'CreateProcess')\n",
      "('235290000', 'RegQueryValue')\n",
      "('235320000', 'LoadLibrary')\n",
      "('236750000', 'CreateProcessInternal')\n",
      "('236750000', 'CreateProcessInternal')\n",
      "('236750000', 'CreateProcess')\n",
      "('237500000', 'LoadLibrary')\n",
      "('239150000', 'CreateProcessInternal')\n",
      "('239150000', 'CreateProcessInternal')\n",
      "('239150000', 'CreateProcess')\n",
      "('239830000', 'LoadLibrary')\n",
      "('240940000', 'ExitProcess')\n"
     ]
    }
   ],
   "source": [
    "# Test\n",
    "\n",
    "# print last hl3\n",
    "print(\"=====\")\n",
    "print(hl3)\n",
    "\n",
    "# get the api call sequence of last hk3\n",
    "#print(\"=====\")\n",
    "#for time, api in hl3.li:\n",
    "#    print(time, api)\n",
    "\n",
    "# print each item\n",
    "for i in hl3.li:\n",
    "    print(i)"
   ]
  },
  {
   "cell_type": "code",
   "execution_count": 6,
   "metadata": {},
   "outputs": [],
   "source": [
    "# output\n",
    "import pickle\n",
    "\n",
    "out_hl_list = hl_list\n",
    "out_tag = in_tag\n",
    "with open(out_picklefile, 'wb') as o:\n",
    "    pickle.dump(out_hl_list, o)"
   ]
  },
  {
   "cell_type": "code",
   "execution_count": 13,
   "metadata": {},
   "outputs": [
    {
     "data": {
      "text/plain": [
       "<__main__.Hooklog3 at 0x7f66fdb73748>"
      ]
     },
     "execution_count": 13,
     "metadata": {},
     "output_type": "execute_result"
    }
   ],
   "source": [
    "hl3"
   ]
  },
  {
   "cell_type": "code",
   "execution_count": 7,
   "metadata": {},
   "outputs": [],
   "source": [
    "# output 2\n",
    "with open(out_csvfile, 'wb') as o:\n",
    "    o.write(b\"hooklog\\n\")\n",
    "    for h in hl_list:\n",
    "        o.write(h.encode(\"ascii\") + b\"\\n\")"
   ]
  },
  {
   "cell_type": "code",
   "execution_count": 8,
   "metadata": {},
   "outputs": [],
   "source": [
    "# output 3\n",
    "total_api_set = set()\n",
    "for file in hl_list:\n",
    "    hl3 = Hooklog(file, in_parseFirstPar)\n",
    "    total_api_set.update(hl3.getWinSet(in_window))\n",
    "\n",
    "with open(out_featuretabfile, 'wb') as o:\n",
    "    o.write(b\"hooklog\")\n",
    "    for api in total_api_set:\n",
    "        o.write(b\"\\t\" + api.encode(\"ascii\"))\n",
    "    o.write(b\"\\n\")\n",
    "    \n",
    "    for h in hl_list:\n",
    "        hl3 = Hooklog(h, in_parseFirstPar)\n",
    "        hl3_set = hl3.getWinSet(in_window)\n",
    "        o.write(hl3.digitname.encode(\"ascii\"))\n",
    "        for api in total_api_set:\n",
    "            if api in hl3_set:\n",
    "                o.write(b\"\\tTrue\")\n",
    "            else:\n",
    "                o.write(b\"\\tFalse\")\n",
    "        o.write(b\"\\n\")"
   ]
  },
  {
   "cell_type": "code",
   "execution_count": 9,
   "metadata": {},
   "outputs": [
    {
     "name": "stdout",
     "output_type": "stream",
     "text": [
      "{'LoadLibrary': 550, 'RegQueryValue': 2456, 'CreateFile': 296, 'RegEnumValue': 34, 'RegCreateKey': 64, 'RegSetValue': 64, 'CreateThread': 135, 'CopyFile': 5, 'CreateProcessInternal': 30, 'CreateProcess': 15, 'ExitProcess': 6}\n"
     ]
    }
   ],
   "source": [
    "# output 4\n",
    "# count api freq\n",
    "freq_dict = dict()\n",
    "for file in hl_list:\n",
    "    hl3 = Hooklog(file, in_parseFirstPar)\n",
    "    for i in hl3.li:\n",
    "        if i[1] not in freq_dict:\n",
    "            freq_dict[i[1]] = 1\n",
    "        else:\n",
    "            freq_dict[i[1]] += 1\n",
    "\n",
    "print(freq_dict)\n",
    "\n",
    "import pickle\n",
    "with open(out_apifreq_pk, 'wb') as o:\n",
    "    pickle.dump(freq_dict, o)"
   ]
  },
  {
   "cell_type": "markdown",
   "metadata": {},
   "source": [
    "### Build  Stage1Phase1 seq2seq model"
   ]
  },
  {
   "cell_type": "code",
   "execution_count": 2,
   "metadata": {},
   "outputs": [],
   "source": [
    "model = AttentionSeq2Seq(input_dim=5, input_length=7, hidden_dim=10, \n",
    "                         output_length=8, output_dim=20, depth=4)\n",
    "model.compile(loss='mse', optimizer='rmsprop')"
   ]
  },
  {
   "cell_type": "code",
   "execution_count": null,
   "metadata": {},
   "outputs": [],
   "source": [
    "\n",
    "model.fit()"
   ]
  }
 ],
 "metadata": {
  "kernelspec": {
   "display_name": "Python [conda env:anaconda3]",
   "language": "python",
   "name": "conda-env-anaconda3-py"
  },
  "language_info": {
   "codemirror_mode": {
    "name": "ipython",
    "version": 3
   },
   "file_extension": ".py",
   "mimetype": "text/x-python",
   "name": "python",
   "nbconvert_exporter": "python",
   "pygments_lexer": "ipython3",
   "version": "3.6.5"
  }
 },
 "nbformat": 4,
 "nbformat_minor": 2
}
