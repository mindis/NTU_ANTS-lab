{
 "cells": [
  {
   "cell_type": "code",
   "execution_count": 1,
   "metadata": {},
   "outputs": [],
   "source": [
    "import mosspy"
   ]
  },
  {
   "cell_type": "code",
   "execution_count": 26,
   "metadata": {},
   "outputs": [
    {
     "name": "stdout",
     "output_type": "stream",
     "text": [
      "Report Url: http://moss.stanford.edu/results/717461005\n"
     ]
    }
   ],
   "source": [
    "userid = 211537647\n",
    "\n",
    "m = mosspy.Moss(userid, \"cc\") #c/cc\n",
    "\n",
    "# m.addBaseFile(\"client.cpp\")\n",
    "# m.addBaseFile(\"server.cpp\")\n",
    "\n",
    "# # Submission Files\n",
    "# m.addFile(\"*.cpp\")\n",
    "m.addFilesByWildcard(\"./submission/DemoIII/*.*\") #.c / .cpp\n",
    "\n",
    "url = m.send() # Submission Report URL\n",
    "\n",
    "print (\"Report Url: \" + url)\n",
    "\n",
    "# # Save report file\n",
    "# m.saveWebPage(url, \"submission/report.html\")\n",
    "\n",
    "# # Download whole report locally including code diff links\n",
    "# mosspy.download_report(url, \"submission/report/\", connections=8)"
   ]
  },
  {
   "cell_type": "code",
   "execution_count": 16,
   "metadata": {},
   "outputs": [
    {
     "name": "stderr",
     "output_type": "stream",
     "text": [
      "DEBUG:root:================================================================================\n",
      "DEBUG:root:Downloading Moss Report - URL: http://moss.stanford.edu/results/26568272\n",
      "DEBUG:root:================================================================================\n",
      "DEBUG:root:Processing URL: http://moss.stanford.edu/results/26568272\n",
      "DEBUG:root:Waiting for all threads to complete\n"
     ]
    }
   ],
   "source": [
    "mosspy.download_report(url, \"submission/report/\", connections=8)"
   ]
  }
 ],
 "metadata": {
  "kernelspec": {
   "display_name": "Python [conda env:anaconda3]",
   "language": "python",
   "name": "conda-env-anaconda3-py"
  },
  "language_info": {
   "codemirror_mode": {
    "name": "ipython",
    "version": 3
   },
   "file_extension": ".py",
   "mimetype": "text/x-python",
   "name": "python",
   "nbconvert_exporter": "python",
   "pygments_lexer": "ipython3",
   "version": "3.6.7"
  }
 },
 "nbformat": 4,
 "nbformat_minor": 2
}
