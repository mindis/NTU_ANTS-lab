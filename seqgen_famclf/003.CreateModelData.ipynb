{
 "cells": [
  {
   "cell_type": "code",
   "execution_count": 1,
   "metadata": {},
   "outputs": [
    {
     "name": "stderr",
     "output_type": "stream",
     "text": [
      "Using TensorFlow backend.\n"
     ]
    }
   ],
   "source": [
    "import os,sys,glob\n",
    "# os.environ[\"CUDA_DEVICE_ORDER\"]=\"PCI_BUS_ID\"\n",
    "# The GPU id to use, usually either \"0\" or \"1\"\n",
    "# os.environ[\"CUDA_VISIBLE_DEVICES\"]=\"0\" \n",
    "\n",
    "import numpy as np\n",
    "import pandas as pd\n",
    "import shutil\n",
    "import pickle\n",
    "import tqdm\n",
    "from tqdm import tqdm\n",
    "from random import shuffle\n",
    "from math import log, floor\n",
    "from keras.utils import *\n",
    "from keras.utils.generic_utils import *\n",
    "from keras.preprocessing.text import *\n",
    "from keras.preprocessing.sequence import *\n",
    "from keras.preprocessing.image import *\n",
    "from multiprocessing import *\n",
    "import gensim\n",
    "from gensim.models.word2vec import *\n",
    "from sklearn.metrics.pairwise import *\n",
    "from sklearn.model_selection import *\n",
    "from sklearn.manifold import *\n",
    "from sklearn.decomposition import *\n",
    "from sklearn.cluster import *\n",
    "from sklearn import preprocessing\n",
    "import sent2vec\n",
    "import re\n",
    "import string\n",
    "import unicodedata as udata\n",
    "import matplotlib\n",
    "import matplotlib.pyplot as plt\n",
    "from collections import Counter\n",
    "from operator import itemgetter\n",
    "from collections import OrderedDict\n",
    "import random"
   ]
  },
  {
   "cell_type": "code",
   "execution_count": 2,
   "metadata": {},
   "outputs": [
    {
     "data": {
      "text/plain": [
       "26"
      ]
     },
     "execution_count": 2,
     "metadata": {},
     "output_type": "execute_result"
    }
   ],
   "source": [
    "model = sent2vec.Sent2vecModel()\n",
    "model.load_model('model/o2o_o2m_Sent2Vec_lower_woParam_0616_768.bin') # sent2vec model\n",
    "dil= r\"[,.;\\-+^()/@#?!&$:{}\\\\*%~\\'\\\"\\=\\_]+\\ *\" #等號、底線被保留，注意要跟先前一致\n",
    "# all_df = pd.read_csv('./data/tree-rep-profiles-partial/process2family_df.csv')\n",
    "api_li = ['LoadLibrary',\n",
    "'CreateProcess',\n",
    "'OpenProcess',\n",
    "'ExitProcess',\n",
    "'TerminateProcess',\n",
    "'WinExec',\n",
    "'CreateRemoteThread',\n",
    "'CreateThread',\n",
    "'CopyFile',\n",
    "'CreateFile',\n",
    "'DeleteFile',\n",
    "'RegSetValue',\n",
    "'RegCreateKey',\n",
    "'RegDeleteKey',\n",
    "'RegDeleteValue',\n",
    "'RegQueryValue',\n",
    "'RegEnumValue',\n",
    "'WinHttpConnect',\n",
    "'WinHttpOpen',\n",
    "'WinHttpOpenRequest',\n",
    "'WinHttpReadData',\n",
    "'WinHttpSendRequest',\n",
    "# 'WinHttpWriteData', #少了\n",
    "'InternetOpen',\n",
    "'InternetConnect',\n",
    "'HttpSendRequest',\n",
    "'GetUrlCacheEntryInfo']\n",
    "api_li = [x.lower() for x in api_li] #lowrer case?\n",
    "len(api_li)"
   ]
  },
  {
   "cell_type": "code",
   "execution_count": 3,
   "metadata": {},
   "outputs": [
    {
     "data": {
      "text/plain": [
       "{'loadlibrary': 1,\n",
       " 'createprocess': 2,\n",
       " 'openprocess': 3,\n",
       " 'exitprocess': 4,\n",
       " 'terminateprocess': 5,\n",
       " 'winexec': 6,\n",
       " 'createremotethread': 7,\n",
       " 'createthread': 8,\n",
       " 'copyfile': 9,\n",
       " 'createfile': 10,\n",
       " 'deletefile': 11,\n",
       " 'regsetvalue': 12,\n",
       " 'regcreatekey': 13,\n",
       " 'regdeletekey': 14,\n",
       " 'regdeletevalue': 15,\n",
       " 'regqueryvalue': 16,\n",
       " 'regenumvalue': 17,\n",
       " 'winhttpconnect': 18,\n",
       " 'winhttpopen': 19,\n",
       " 'winhttpopenrequest': 20,\n",
       " 'winhttpreaddata': 21,\n",
       " 'winhttpsendrequest': 22,\n",
       " 'internetopen': 23,\n",
       " 'internetconnect': 24,\n",
       " 'httpsendrequest': 25,\n",
       " 'geturlcacheentryinfo': 26}"
      ]
     },
     "execution_count": 3,
     "metadata": {},
     "output_type": "execute_result"
    }
   ],
   "source": [
    "encode_dict = {}\n",
    "for i,v in enumerate(api_li):\n",
    "    encode_dict[v] = i+1\n",
    "pickle.dump(file=open('data/tree-rep-profiles_o2o/encode_dict.pkl','wb'),obj=encode_dict)\n",
    "encode_dict\n",
    "# encode_dict = pickle.load(open('data/tree-rep-profiles-partial/encode_dict.pkl','rb'))\n",
    "# encode_dict"
   ]
  },
  {
   "cell_type": "markdown",
   "metadata": {},
   "source": [
    "## Build Data"
   ]
  },
  {
   "cell_type": "code",
   "execution_count": 4,
   "metadata": {
    "scrolled": true
   },
   "outputs": [],
   "source": [
    "test_dir = './data/tree-rep-profiles_o2o/TEST/'"
   ]
  },
  {
   "cell_type": "code",
   "execution_count": 5,
   "metadata": {},
   "outputs": [],
   "source": [
    "def Sent2vec_emb(root_dir,dev=False,max_length=226,model=model,dim=768,encode_dict=encode_dict,dil=dil,test_dir=test_dir,train_only=False):\n",
    "    # root_dir = './data/tree-rep-profiles_one2many/'\n",
    "#     samples_pid_aliases = []\n",
    "#     processed_pid = []\n",
    "#     rasmma_dir = next(os.walk(root_dir))[1]\n",
    "#     samples_pid_valid = valid_pids_df.index.tolist()\n",
    "#     samples_pid_test = test_pids_df.index.tolist()\n",
    "    # max_length = 347\n",
    "    # dim = 768\n",
    "\n",
    "    dev_pids_path = [] #儲存profile順序?\n",
    "    \n",
    "    sent_pad = [0]*dim\n",
    "    # encode_dict = encode_dict_lower\n",
    "    all_profiles = []\n",
    "    all_api_name = []\n",
    "    all_fam_ans = []\n",
    "    all_byterep=[]\n",
    "    hl_rep = []\n",
    "    sen2vec_length_normalize = []\n",
    "    sen2vec_dim_normalize = []\n",
    "    loner = False\n",
    "    if root_dir.split('/')[-2] in 'EXP': #partial match EXP dir\n",
    "        loner = True\n",
    "#     for rasmma in rasmma_dir:\n",
    "    fam_dir = next(os.walk(root_dir))[1]\n",
    "    for fam in tqdm(fam_dir):\n",
    "        tree_dir = next(os.walk(root_dir +fam))[1]\n",
    "        for tree in tree_dir:\n",
    "            if train_only:\n",
    "                dest_dir = test_dir + fam + '/' + tree #r檢查此dir是否存在於TEST當中\n",
    "                if not os.path.exists(dest_dir):\n",
    "                    continue\n",
    "            in_directory = root_dir + fam +  '/' + tree + '/'\n",
    "            hl_list = next(os.walk(in_directory))[2]\n",
    "            hl_list = [os.path.join(in_directory, f) for f in hl_list]\n",
    "            hl_list = list(filter(lambda f: f.endswith(\".profile\"), hl_list))\n",
    "            for hl_f in hl_list:\n",
    "                profile_emb = [] #整個api invocation call\n",
    "                func_name_emb = [] #僅有api function name\n",
    "                if not loner:\n",
    "                    byterep = hl_f.replace('.profile','_byterep.pickle') #拿出hl_f所對應的byterep\n",
    "                    rep = pickle.load(open(byterep,'rb')) #list type\n",
    "                    if len(rep) < max_length: #Y1\n",
    "                        for _ in range(max_length-len(rep)):\n",
    "                            rep.append(0)\n",
    "                with open(hl_f,encoding='ISO 8859-1') as f: #X2\n",
    "                    lines = f.read()\n",
    "                lines = re.sub(r'[^\\x00-\\x7F]+','', lines)\n",
    "                lines = re.sub(r'[\\x1e\\x7f\\x15\\x10\\x0c\\x1c]+','', lines)\n",
    "                lines = re.sub('=\\\\n','',lines)\n",
    "                lines = re.sub('y\\\\n','',lines)\n",
    "                lines = lines.splitlines()\n",
    "                if len(lines) > max_length:\n",
    "                    print(\"ERR length too long:\",hl_f,'=>',len(lines))\n",
    "                    continue\n",
    "                dev_pids_path.append(hl_f)\n",
    "                for line in lines:\n",
    "                    temp = re.sub(dil,\" \",line.lower()) # lower? 跟先前一致\n",
    "                    temp = temp.split(\" \")\n",
    "                    temp = list(filter(None, temp))\n",
    "                    temp = ' '.join(temp)\n",
    "                    func_name = temp.split(' ')[0] # X1\n",
    "                    if func_name not in api_li:\n",
    "                        print('=ERROR:=',hl_f,'=>',temp)\n",
    "                    func_name_emb.append(encode_dict[func_name]) # encode証術數數字\n",
    "                    emb = model.embed_sentence(temp)\n",
    "                    emb = emb[0]\n",
    "                    profile_emb.append(emb) #放入embdding，句子=>profile\n",
    "                    sen2vec_dim_normalize.append(emb) #dim norm用\n",
    "                sen2vec_length_normalize.append(len(lines))\n",
    "                if len(lines) < max_length:\n",
    "                    for _ in range(max_length-len(lines)):\n",
    "                        profile_emb.append(sent_pad)\n",
    "                if not loner:\n",
    "                    hl_rep.append(rep) #Y1\n",
    "                all_profiles.append(profile_emb) #X2\n",
    "                all_api_name.append(func_name_emb) #X1\n",
    "    #             all_byterep.extend(rep_list)\n",
    "    all_api_name = pad_sequences(all_api_name,maxlen=max_length,padding='post',value=0) #X1\n",
    "\n",
    "    if not loner:\n",
    "        return np.array(all_api_name) , np.array(all_profiles) , np.array(hl_rep),np.array(sen2vec_dim_normalize) ,sen2vec_length_normalize, dev_pids_path\n",
    "    else:\n",
    "        return np.array(all_api_name) , np.array(all_profiles) ,np.array(sen2vec_dim_normalize) ,sen2vec_length_normalize,dev_pids_path\n"
   ]
  },
  {
   "cell_type": "code",
   "execution_count": 6,
   "metadata": {},
   "outputs": [
    {
     "name": "stderr",
     "output_type": "stream",
     "text": [
      "100%|██████████| 133/133 [02:54<00:00,  3.47it/s]\n",
      "  2%|▏         | 1/47 [00:00<00:05,  8.79it/s]"
     ]
    },
    {
     "name": "stdout",
     "output_type": "stream",
     "text": [
      "(7215, 226) (7215, 226, 768) (7215, 226)\n"
     ]
    },
    {
     "name": "stderr",
     "output_type": "stream",
     "text": [
      "100%|██████████| 47/47 [00:11<00:00,  4.21it/s]\n",
      "  2%|▏         | 1/47 [00:00<00:07,  5.87it/s]"
     ]
    },
    {
     "name": "stdout",
     "output_type": "stream",
     "text": [
      "(453, 226) (453, 226, 768) (453, 226)\n"
     ]
    },
    {
     "name": "stderr",
     "output_type": "stream",
     "text": [
      "100%|██████████| 47/47 [00:12<00:00,  3.74it/s]\n"
     ]
    },
    {
     "name": "stdout",
     "output_type": "stream",
     "text": [
      "(508, 226) (508, 226, 768) (508, 226)\n"
     ]
    }
   ],
   "source": [
    "train_dir = './data/tree-rep-profiles_o2o/normal/'\n",
    "train_api,train_emb, train_rep, train_normalize , train_len_norm,train_pid_paths =   Sent2vec_emb(train_dir)\n",
    "print(train_api.shape,train_emb.shape,train_rep.shape)\n",
    "valid_dir = './data/tree-rep-profiles_o2o/DEV/'\n",
    "valid_api,valid_emb, valid_rep, valid_normalize , valid_len_norm,valid_pid_paths =   Sent2vec_emb(valid_dir)\n",
    "print(valid_api.shape,valid_emb.shape,valid_rep.shape)\n",
    "test_dir = './data/tree-rep-profiles_o2o/TEST/'\n",
    "test_api,test_emb, test_rep, test_normalize , test_len_norm,test_pid_paths =   Sent2vec_emb(test_dir)\n",
    "print(test_api.shape,test_emb.shape,test_rep.shape)\n",
    "\n"
   ]
  },
  {
   "cell_type": "code",
   "execution_count": 7,
   "metadata": {},
   "outputs": [
    {
     "name": "stderr",
     "output_type": "stream",
     "text": [
      "\r",
      "  0%|          | 0/159 [00:00<?, ?it/s]"
     ]
    },
    {
     "name": "stdout",
     "output_type": "stream",
     "text": [
      "ERR length too long: ./data/tree-rep-profiles_o2o/small_short/18.domaiq_0.8/G345/9577445247f0d203e606f22edda7f3de6800649d783b9ad2607bb60c17cf1e08_3248.profile => 376\n",
      "ERR length too long: ./data/tree-rep-profiles_o2o/small_short/18.domaiq_0.8/G345/9577445247f0d203e606f22edda7f3de6800649d783b9ad2607bb60c17cf1e08_3240.profile => 376\n",
      "ERR length too long: ./data/tree-rep-profiles_o2o/small_short/18.domaiq_0.8/G329/3920ce44e1ecdb0712266738883f15053f8b46e571b1ca4629c0b1445a5d3a29_3184.profile => 268\n",
      "ERR length too long: ./data/tree-rep-profiles_o2o/small_short/18.domaiq_0.8/G329/3920ce44e1ecdb0712266738883f15053f8b46e571b1ca4629c0b1445a5d3a29_3224.profile => 268\n",
      "ERR length too long: ./data/tree-rep-profiles_o2o/small_short/18.domaiq_0.8/G359/d1b6ca346d4ce05bdfcf59bb8acbd6b55ae2267a61ead432e636011dd56e561b_2908.profile => 325\n",
      "ERR length too long: ./data/tree-rep-profiles_o2o/small_short/18.domaiq_0.8/G359/1c850670c2f3ba12b32b4a896e572fb5e2f202c5b04697bfe053aed4fc9fb268_3304.profile => 272\n"
     ]
    },
    {
     "name": "stderr",
     "output_type": "stream",
     "text": [
      "\r",
      "  1%|▏         | 2/159 [00:00<00:33,  4.68it/s]"
     ]
    },
    {
     "name": "stdout",
     "output_type": "stream",
     "text": [
      "ERR length too long: ./data/tree-rep-profiles_o2o/small_short/18.domaiq_0.8/G354/82cd72f730f2b79f37c845654a8c0b5b369dd004af34a7f8e585ca0451be4ee9_3268.profile => 399\n",
      "ERR length too long: ./data/tree-rep-profiles_o2o/small_short/18.domaiq_0.8/G354/82cd72f730f2b79f37c845654a8c0b5b369dd004af34a7f8e585ca0451be4ee9_3200.profile => 366\n"
     ]
    },
    {
     "name": "stderr",
     "output_type": "stream",
     "text": [
      "  3%|▎         | 4/159 [00:00<00:28,  5.49it/s]"
     ]
    },
    {
     "name": "stdout",
     "output_type": "stream",
     "text": [
      "ERR length too long: ./data/tree-rep-profiles_o2o/small_short/75.crytex_0.8/G68/02d364c7605a4fd88b3c7afa916273190354c045a178d5061e24b9a03362fdcd_3348.profile => 244\n",
      "ERR length too long: ./data/tree-rep-profiles_o2o/small_short/75.crytex_0.8/G68/a5fea80f6c50e4e8a6e3c435dfa9b3df3b2772c05e53ebef6433c1d39ed3da6c_3224.profile => 256\n",
      "ERR length too long: ./data/tree-rep-profiles_o2o/small_short/213.arqpcaf_0.8/G22/6eb6f270320f9c49b39613741739f9b5be8b4023ebfb704dcfcac25024cac277_3200.profile => 422\n",
      "ERR length too long: ./data/tree-rep-profiles_o2o/small_short/213.arqpcaf_0.8/G22/6dac800d8a34db09a8af2ad1c29aafc7e79bc271cb43dc674432e5bdc0081c96_3196.profile => 422\n",
      "ERR length too long: ./data/tree-rep-profiles_o2o/small_short/213.arqpcaf_0.8/G23/6eb6f270320f9c49b39613741739f9b5be8b4023ebfb704dcfcac25024cac277_3232.profile => 418\n",
      "ERR length too long: ./data/tree-rep-profiles_o2o/small_short/213.arqpcaf_0.8/G23/6dac800d8a34db09a8af2ad1c29aafc7e79bc271cb43dc674432e5bdc0081c96_3216.profile => 445\n"
     ]
    },
    {
     "name": "stderr",
     "output_type": "stream",
     "text": [
      "\r",
      "  4%|▍         | 6/159 [00:00<00:24,  6.24it/s]"
     ]
    },
    {
     "name": "stdout",
     "output_type": "stream",
     "text": [
      "ERR length too long: ./data/tree-rep-profiles_o2o/small_short/65.smshoax_0.8/G80/069ae80420b68965549e143427a1dda40ff469e6026eaa08129d72ec41dba77d_2868.profile => 336\n",
      "ERR length too long: ./data/tree-rep-profiles_o2o/small_short/65.smshoax_0.8/G80/069ae80420b68965549e143427a1dda40ff469e6026eaa08129d72ec41dba77d_2844.profile => 337\n",
      "ERR length too long: ./data/tree-rep-profiles_o2o/small_short/65.smshoax_0.8/G78/0fe0cc4f596941f7c4301f324cc5cb15be90617d4a92be8651674cf40fcec158_3380.profile => 240\n",
      "ERR length too long: ./data/tree-rep-profiles_o2o/small_short/65.smshoax_0.8/G78/0fe0cc4f596941f7c4301f324cc5cb15be90617d4a92be8651674cf40fcec158_3268.profile => 248\n",
      "ERR length too long: ./data/tree-rep-profiles_o2o/small_short/61.virlock_0.8/G97/15954a742368c8f32a30d0e683ae361c113399ce172d82759a52a1758ea566f8_3372.profile => 315\n",
      "ERR length too long: ./data/tree-rep-profiles_o2o/small_short/61.virlock_0.8/G97/7c61dd56a57ababeb64974dbae190e9ce097e90abe22e6c7d2f3f0353bec8011_3004.profile => 319\n"
     ]
    },
    {
     "name": "stderr",
     "output_type": "stream",
     "text": [
      "  5%|▌         | 8/159 [00:01<00:21,  6.89it/s]"
     ]
    },
    {
     "name": "stdout",
     "output_type": "stream",
     "text": [
      "ERR length too long: ./data/tree-rep-profiles_o2o/small_short/102.vundo_0.8/G31/0b305b489f8da7c4bd0fe1702effbb1fd58de8a5d8b0c49947cd75536f82c349_3020.profile => 512\n",
      "ERR length too long: ./data/tree-rep-profiles_o2o/small_short/102.vundo_0.8/G31/11d2758916990181a746d1595bf3746ce939e4919e3d0d5babfee12c69c01451_3260.profile => 500\n",
      "ERR length too long: ./data/tree-rep-profiles_o2o/small_short/11.zusy_0.8/G481/097f02c1f9bef32aa17f51c0c6f1ed836fe974cfe4152f450a053a63e237c10f_3164.profile => 631\n",
      "ERR length too long: ./data/tree-rep-profiles_o2o/small_short/11.zusy_0.8/G481/023bb8c0a37e56554981c31b756c0a13ad868f7946f5ea8ae1f11070d4cb69e2_3188.profile => 631\n",
      "ERR length too long: ./data/tree-rep-profiles_o2o/small_short/11.zusy_0.8/G501/5239fbeb58938c5940a6752896e605815c6292a639bbbd7c542531548c2a75f1_3044.profile => 805\n",
      "ERR length too long: ./data/tree-rep-profiles_o2o/small_short/11.zusy_0.8/G501/5239fbeb58938c5940a6752896e605815c6292a639bbbd7c542531548c2a75f1_2932.profile => 799\n",
      "ERR length too long: ./data/tree-rep-profiles_o2o/small_short/11.zusy_0.8/G512/0d2a1fbe5b7d9cfb79bc9ef48d15b63ffaae811d230bbabe99b45a8b1e0effc0_3324.profile => 676\n",
      "ERR length too long: ./data/tree-rep-profiles_o2o/small_short/11.zusy_0.8/G512/0cc4f21cad6d8925471dbf0a5e32eeb505c8aa129bfba127f8a8d9e25fa90727_3288.profile => 676\n",
      "ERR length too long: ./data/tree-rep-profiles_o2o/small_short/11.zusy_0.8/G524/b367165aab9ecec288eee4f244964716976af243166bac23b703fb7004a284ee_3348.profile => 270\n",
      "ERR length too long: ./data/tree-rep-profiles_o2o/small_short/11.zusy_0.8/G524/b367165aab9ecec288eee4f244964716976af243166bac23b703fb7004a284ee_3208.profile => 292\n",
      "ERR length too long: ./data/tree-rep-profiles_o2o/small_short/11.zusy_0.8/G510/dee2cc0a272346690c193cca54c30853818d5c30bc225bc8df3c035f182179db_3312.profile => 1964\n",
      "ERR length too long: ./data/tree-rep-profiles_o2o/small_short/11.zusy_0.8/G510/18aea26ff68fc02ae6bd96948e1bc4ce23f040aacd1656fc8f7844af138d7529_3236.profile => 2055\n"
     ]
    },
    {
     "name": "stderr",
     "output_type": "stream",
     "text": [
      "\r",
      "  6%|▋         | 10/159 [00:02<00:36,  4.05it/s]"
     ]
    },
    {
     "name": "stdout",
     "output_type": "stream",
     "text": [
      "ERR length too long: ./data/tree-rep-profiles_o2o/small_short/11.zusy_0.8/G534/4a4ad8e944ba10e65dfdea0622cb6fd2f41bc9884bbab74bd55dab373b62382b_3344.profile => 383\n",
      "ERR length too long: ./data/tree-rep-profiles_o2o/small_short/11.zusy_0.8/G534/00a8d77da1e9383d30408fd341bb3c4ae8ab16d4c0617633d091c635443108f2_3400.profile => 336\n",
      "ERR length too long: ./data/tree-rep-profiles_o2o/small_short/2.zbot_0.8/G1129/fe059a3926ab8e5da3341f22094b669271a7abf59144ba31ff2c28928354eb16_3340.profile => 241\n",
      "ERR length too long: ./data/tree-rep-profiles_o2o/small_short/2.zbot_0.8/G1129/d7deb0c6393df61129791f280ce2295161ace7610d01c41eb34ff24c532162d3_3252.profile => 241\n",
      "ERR length too long: ./data/tree-rep-profiles_o2o/small_short/2.zbot_0.8/G1066/0147b501b066608c082eba9418d88a82d8a786d51c709cf060f9f1718210bf8b_3388.profile => 264\n",
      "ERR length too long: ./data/tree-rep-profiles_o2o/small_short/2.zbot_0.8/G1066/068a5e60b1f3142fb3f64e8f725e764ce16e9e6e0acc5d4579b14bc4401a0597_3240.profile => 264\n",
      "ERR length too long: ./data/tree-rep-profiles_o2o/small_short/2.zbot_0.8/G1078/4c3f7678e21fbec645a2d8cfa95f0a05a3b3472dab7fef60dff17b44b70846b2_3424.profile => 243\n",
      "ERR length too long: ./data/tree-rep-profiles_o2o/small_short/2.zbot_0.8/G1078/e8779b1f050677620b4daa940a1f0b1b0390b414a52242daad7b607e917153a5_3276.profile => 243\n",
      "ERR length too long: ./data/tree-rep-profiles_o2o/small_short/2.zbot_0.8/G1061/2ee52a813443ba17f5ce1c72d99d74712ed39f01035e694110c5411084c378fb_3116.profile => 231\n",
      "ERR length too long: ./data/tree-rep-profiles_o2o/small_short/2.zbot_0.8/G1061/2ee52a813443ba17f5ce1c72d99d74712ed39f01035e694110c5411084c378fb_3456.profile => 231\n",
      "ERR length too long: ./data/tree-rep-profiles_o2o/small_short/2.zbot_0.8/G1168/1e75ecf271c0a4a370256e23a61550ecbc80d7a111e0b4a0fc50ac48c3740aa9_3312.profile => 238\n",
      "ERR length too long: ./data/tree-rep-profiles_o2o/small_short/2.zbot_0.8/G1168/1e75ecf271c0a4a370256e23a61550ecbc80d7a111e0b4a0fc50ac48c3740aa9_3140.profile => 246\n",
      "ERR length too long: ./data/tree-rep-profiles_o2o/small_short/2.zbot_0.8/G1180/0eaca7d33d7519dc65349a5f8b62db722ab9357f1c18eba57a6b2e78a0d365ba_3292.profile => 532\n",
      "ERR length too long: ./data/tree-rep-profiles_o2o/small_short/2.zbot_0.8/G1180/09dc94877288b4ef6d1b6e8df85fae5affe4f45faa46d5312dc264fa775841c9_3268.profile => 532\n",
      "ERR length too long: ./data/tree-rep-profiles_o2o/small_short/2.zbot_0.8/G1128/2958bb0601c93412511fdf6a66425ce306fe78127c7eb8ea92e1b0d95791c883_2960.profile => 241\n",
      "ERR length too long: ./data/tree-rep-profiles_o2o/small_short/2.zbot_0.8/G1128/d9d2b1bd495c00e4dc2d9a7456c216f8a9e02416094f1d11284dce398a136bb0_3288.profile => 241\n",
      "ERR length too long: ./data/tree-rep-profiles_o2o/small_short/2.zbot_0.8/G1110/4234482faaa3a28e12a54c73874a857ddcd69909d9c04ab788dd5e7dfb8f5594_3324.profile => 243\n",
      "ERR length too long: ./data/tree-rep-profiles_o2o/small_short/2.zbot_0.8/G1110/be0192147a790d1d3b9f0f14f9fcb5034347f3ffdd0dfff9ad2c5dfb0ec348d6_3268.profile => 243\n",
      "ERR length too long: ./data/tree-rep-profiles_o2o/small_short/2.zbot_0.8/G1193/150a714aa37fc38fe07d9df3f81834c8df748dab01c16fa2095ce5b384724610_3324.profile => 477\n",
      "ERR length too long: ./data/tree-rep-profiles_o2o/small_short/2.zbot_0.8/G1193/01f83f523ac6e7b3c8ae00b2a46b540efdcd9e64de86117afdf065b7c40cc0cb_3384.profile => 504\n"
     ]
    },
    {
     "name": "stderr",
     "output_type": "stream",
     "text": [
      "  8%|▊         | 12/159 [00:03<01:07,  2.19it/s]"
     ]
    },
    {
     "name": "stdout",
     "output_type": "stream",
     "text": [
      "ERR length too long: ./data/tree-rep-profiles_o2o/small_short/2.zbot_0.8/G1191/2d2305da91d9c661607071889715cf80f53295776dced46d688337eab69037f3_3412.profile => 248\n",
      "ERR length too long: ./data/tree-rep-profiles_o2o/small_short/2.zbot_0.8/G1191/2d2305da91d9c661607071889715cf80f53295776dced46d688337eab69037f3_3440.profile => 242\n",
      "ERR length too long: ./data/tree-rep-profiles_o2o/small_short/26.autoit_0.8/G238/10d598d888a61e798fb375f1b9332b9715fafc70c2a078350586c7aacadacd1e_3332.profile => 370\n",
      "ERR length too long: ./data/tree-rep-profiles_o2o/small_short/26.autoit_0.8/G238/024a85637596e0b4525f182962c54049ad5e20e94564a0fbfd29df00d8c96a24_3412.profile => 360\n",
      "ERR length too long: ./data/tree-rep-profiles_o2o/small_short/26.autoit_0.8/G241/263fdbc7c5bb063ad9e600fa1e8642ff3e9f3c27f362caae6c4e08e78ea3fa23_3336.profile => 252\n",
      "ERR length too long: ./data/tree-rep-profiles_o2o/small_short/26.autoit_0.8/G241/0b63abba7a0519b4f8e22ac6c0bd3c95e32fe28703a104ec15d95e64128d265a_3296.profile => 260\n",
      "ERR length too long: ./data/tree-rep-profiles_o2o/small_short/26.autoit_0.8/G236/12f485912ab55af1f2b963ff9630c86c17c94baab89e3c13833523297dbc361a_2892.profile => 749\n",
      "ERR length too long: ./data/tree-rep-profiles_o2o/small_short/26.autoit_0.8/G236/01d6fefd5e6d01aaeca6974bbdd2fe50a9208d8b85b77629780e9639f90b9814_3136.profile => 748\n"
     ]
    },
    {
     "name": "stderr",
     "output_type": "stream",
     "text": [
      " 11%|█         | 17/159 [00:04<00:44,  3.22it/s]"
     ]
    },
    {
     "name": "stdout",
     "output_type": "stream",
     "text": [
      "ERR length too long: ./data/tree-rep-profiles_o2o/small_short/26.autoit_0.8/G222/a49367f26da22b2684f0bdbf632993ba51eb86c6060cfc5b7cd0a39ab27159c9_3364.profile => 247\n",
      "ERR length too long: ./data/tree-rep-profiles_o2o/small_short/26.autoit_0.8/G222/a49367f26da22b2684f0bdbf632993ba51eb86c6060cfc5b7cd0a39ab27159c9_3240.profile => 247\n",
      "ERR length too long: ./data/tree-rep-profiles_o2o/small_short/77.bifrose_0.8/G48/09eb3c3d79dd445d1e4ac2b1e4ce62f3fb0f9c1e5a4aab93e15ebfd45dbd5544_2884.profile => 520\n",
      "ERR length too long: ./data/tree-rep-profiles_o2o/small_short/77.bifrose_0.8/G48/0109fc9392b28ff23fb7f4e5161184b7a220fdaecc3f72fbd83c810f587d997f_3072.profile => 511\n",
      "ERR length too long: ./data/tree-rep-profiles_o2o/small_short/25.browsefox_0.8/G290/50c06aca1493be637de60b4dea6539769ef9df1a6cdc42b59cfad22f3dfa8f89_3360.profile => 254\n",
      "ERR length too long: ./data/tree-rep-profiles_o2o/small_short/25.browsefox_0.8/G290/50c06aca1493be637de60b4dea6539769ef9df1a6cdc42b59cfad22f3dfa8f89_3444.profile => 260\n",
      "ERR length too long: ./data/tree-rep-profiles_o2o/small_short/25.browsefox_0.8/G297/d3880c8e57ebe92731ca39047be72f6c024db2a9166dd9aa9f9602fc1f3aca7c_3280.profile => 573\n",
      "ERR length too long: ./data/tree-rep-profiles_o2o/small_short/25.browsefox_0.8/G297/d3880c8e57ebe92731ca39047be72f6c024db2a9166dd9aa9f9602fc1f3aca7c_3296.profile => 584\n",
      "ERR length too long: ./data/tree-rep-profiles_o2o/small_short/25.browsefox_0.8/G270/796bc3bcabe3d13074c71c31e501c02fcfafca7dbca2a699bd83b1dc459fbbae_3376.profile => 263\n"
     ]
    },
    {
     "name": "stderr",
     "output_type": "stream",
     "text": [
      "\r",
      " 12%|█▏        | 19/159 [00:05<00:44,  3.16it/s]"
     ]
    },
    {
     "name": "stdout",
     "output_type": "stream",
     "text": [
      "ERR length too long: ./data/tree-rep-profiles_o2o/small_short/25.browsefox_0.8/G270/716d5ab677ee91b2aca8144bb3652b0d9a01c11d9c4bab4034d18b1e9dbdce37_3308.profile => 266\n",
      "ERR length too long: ./data/tree-rep-profiles_o2o/small_short/137.vbna_0.8/G20/df3073fa75fcdd344918fce7bada05260d59b9acf63a3564e9e2fcbda282c256_3328.profile => 420\n",
      "ERR length too long: ./data/tree-rep-profiles_o2o/small_short/137.vbna_0.8/G20/0067b9a662d9864d8dc91ab4c7ef9b5482a0228061013b55493c10d408d9eea4_3244.profile => 420\n",
      "ERR length too long: ./data/tree-rep-profiles_o2o/small_short/20.ramnit_0.8/G459/14a262b425513da781fa83fda8d606f46cde467f0913628266b975576ea69780_3244.profile => 528\n",
      "ERR length too long: ./data/tree-rep-profiles_o2o/small_short/20.ramnit_0.8/G459/128f93ba5f4090ebe83240e4c6c4bbe134517d1d8043894345ff78d5fb32e909_2836.profile => 521\n",
      "ERR length too long: ./data/tree-rep-profiles_o2o/small_short/20.ramnit_0.8/G445/1fe610e7cc798fefe3f958eb98bc1b4d5e35bea4a48fac1a5b8c43de7f21ca0a_3316.profile => 674\n",
      "ERR length too long: ./data/tree-rep-profiles_o2o/small_short/20.ramnit_0.8/G445/1fe610e7cc798fefe3f958eb98bc1b4d5e35bea4a48fac1a5b8c43de7f21ca0a_3388.profile => 685\n",
      "ERR length too long: ./data/tree-rep-profiles_o2o/small_short/20.ramnit_0.8/G456/0d8c29dfddb47e5fdad2040cc86a5edd267b18f52a97bcbe1d40d10dad1a227b_3244.profile => 872\n",
      "ERR length too long: ./data/tree-rep-profiles_o2o/small_short/20.ramnit_0.8/G456/c7755b732e24a3fefcc93442995f4f76831779ced9749aa8e98788d2680be76c_3176.profile => 871\n",
      "ERR length too long: ./data/tree-rep-profiles_o2o/small_short/20.ramnit_0.8/G396/55e81bcebafb92b80e5b19a168ef79be88a39cfe41d3d36e1ef6798b8d9d0893_2940.profile => 425\n",
      "ERR length too long: ./data/tree-rep-profiles_o2o/small_short/20.ramnit_0.8/G396/55e81bcebafb92b80e5b19a168ef79be88a39cfe41d3d36e1ef6798b8d9d0893_3268.profile => 425\n",
      "ERR length too long: ./data/tree-rep-profiles_o2o/small_short/20.ramnit_0.8/G429/41d12460217adefe8318265cf20e757c7a43a773c269e6c4bf8e8258609bf47b_3428.profile => 562\n",
      "ERR length too long: ./data/tree-rep-profiles_o2o/small_short/20.ramnit_0.8/G429/41d12460217adefe8318265cf20e757c7a43a773c269e6c4bf8e8258609bf47b_3248.profile => 562\n",
      "ERR length too long: ./data/tree-rep-profiles_o2o/small_short/20.ramnit_0.8/G472/06ea8239931431991b219f53c2e4dbf208a69da1fb1d3bdbe6f89f71a32baedd_3280.profile => 231\n",
      "ERR length too long: ./data/tree-rep-profiles_o2o/small_short/20.ramnit_0.8/G472/15ce5025cd727cb785c19487937dc31c3d958e0251825aaa776376465cdab67e_3404.profile => 249\n"
     ]
    },
    {
     "name": "stderr",
     "output_type": "stream",
     "text": [
      "\r",
      " 14%|█▍        | 22/159 [00:06<00:41,  3.29it/s]"
     ]
    },
    {
     "name": "stdout",
     "output_type": "stream",
     "text": [
      "ERR length too long: ./data/tree-rep-profiles_o2o/small_short/20.ramnit_0.8/G465/c54ed1868f267b4cf2499739675a9c8a27b8f10fa469e4413112daa126488478_3500.profile => 544\n",
      "ERR length too long: ./data/tree-rep-profiles_o2o/small_short/20.ramnit_0.8/G465/0143cf7007a1a28efb1f6bd484cf6958ae460c30e25911f530eacdabf8aed16f_3400.profile => 586\n",
      "ERR length too long: ./data/tree-rep-profiles_o2o/small_short/20.ramnit_0.8/G428/0e40238e516dfa5db77d1044208136e51fef9f06d07e2f18ee9d16924f49c787_3332.profile => 532\n",
      "ERR length too long: ./data/tree-rep-profiles_o2o/small_short/20.ramnit_0.8/G428/0a26d8f4c39650635979db7568597e89ea8c6b266d700dad7d5d0b8810acaa2b_3196.profile => 532\n",
      "ERR length too long: ./data/tree-rep-profiles_o2o/small_short/20.ramnit_0.8/G416/6f85856d4c926c8a7c9a4f23c2c91e286fba25a0bab61b9d759e40a8ec03ff34_3184.profile => 260\n",
      "ERR length too long: ./data/tree-rep-profiles_o2o/small_short/20.ramnit_0.8/G416/b150732d132fe75f468002ff69c6c26265446dc450a96ccd3f05bf2c854f028e_3260.profile => 260\n",
      "ERR length too long: ./data/tree-rep-profiles_o2o/small_short/20.ramnit_0.8/G442/1943d90655704ee7e3a1d426450387446f2ce4839ddd4f2a8416dafa1dd23b34_3292.profile => 1221\n",
      "ERR length too long: ./data/tree-rep-profiles_o2o/small_short/20.ramnit_0.8/G442/1fa0c2fa319f7f8a4ea75a7e2d3555fe319bd26cadeb2fc43c2f31b291d8a6a3_3304.profile => 1237\n",
      "ERR length too long: ./data/tree-rep-profiles_o2o/small_short/19.installcore_0.8/G311/c3ce6341195ad30ada1666eebd258a4942e87f91b7747f0e51c92818f7a776fd_3252.profile => 640\n",
      "ERR length too long: ./data/tree-rep-profiles_o2o/small_short/19.installcore_0.8/G311/c3ce6341195ad30ada1666eebd258a4942e87f91b7747f0e51c92818f7a776fd_3404.profile => 662\n",
      "ERR length too long: ./data/tree-rep-profiles_o2o/small_short/19.installcore_0.8/G312/8f7b584fb57f9763ba6aa241140da3d98ab32f7c6977044ae8b8c1f5adfb1527_432.profile => 270\n",
      "ERR length too long: ./data/tree-rep-profiles_o2o/small_short/19.installcore_0.8/G312/d6bd2bf654284e8b4b1256318681372e4fae4d6eb61c433570ff78839d963502_428.profile => 276\n",
      "ERR length too long: ./data/tree-rep-profiles_o2o/small_short/19.installcore_0.8/G326/6896d0d4b86b9d413e16a87b2a5e8bd43db45e04109609beadfac452e06696f5_3020.profile => 277\n",
      "ERR length too long: ./data/tree-rep-profiles_o2o/small_short/19.installcore_0.8/G326/0dd8f19f327b990f8df1ae4f157073b113998acde86318af96f191562af1a690_3240.profile => 264\n"
     ]
    },
    {
     "name": "stderr",
     "output_type": "stream",
     "text": [
      "\r",
      " 15%|█▌        | 24/159 [00:06<00:42,  3.15it/s]"
     ]
    },
    {
     "name": "stdout",
     "output_type": "stream",
     "text": [
      "ERR length too long: ./data/tree-rep-profiles_o2o/small_short/17.sality_0.8/G341/596202db39a7a4da374951d3ac23ff56dc01057acf8a7d32691502861203dd59_3288.profile => 297\n",
      "ERR length too long: ./data/tree-rep-profiles_o2o/small_short/17.sality_0.8/G341/596202db39a7a4da374951d3ac23ff56dc01057acf8a7d32691502861203dd59_3460.profile => 297\n"
     ]
    },
    {
     "name": "stderr",
     "output_type": "stream",
     "text": [
      "\r",
      " 16%|█▌        | 25/159 [00:07<00:59,  2.25it/s]"
     ]
    },
    {
     "name": "stdout",
     "output_type": "stream",
     "text": [
      "ERR length too long: ./data/tree-rep-profiles_o2o/small_short/17.sality_0.8/G342/8c4c28ee154b10eae637c0fea3d7a5ffe69faf074cf0076dd0ea7a6ac069bf50_3040.profile => 278\n",
      "ERR length too long: ./data/tree-rep-profiles_o2o/small_short/17.sality_0.8/G342/8c4c28ee154b10eae637c0fea3d7a5ffe69faf074cf0076dd0ea7a6ac069bf50_3340.profile => 278\n",
      "ERR length too long: ./data/tree-rep-profiles_o2o/small_short/17.sality_0.8/G338/5f6d44621c5a45196d33c427529655844ec260ec8283480aaf471602e3430ea5_3840.profile => 426\n",
      "ERR length too long: ./data/tree-rep-profiles_o2o/small_short/17.sality_0.8/G338/5f6d44621c5a45196d33c427529655844ec260ec8283480aaf471602e3430ea5_3348.profile => 452\n",
      "ERR length too long: ./data/tree-rep-profiles_o2o/small_short/17.sality_0.8/G327/0bfe734c16c292b745562d5bf70258faf6a8c0818066bd49a3b87047d07ab9dd_3228.profile => 754\n",
      "ERR length too long: ./data/tree-rep-profiles_o2o/small_short/17.sality_0.8/G327/0bfe734c16c292b745562d5bf70258faf6a8c0818066bd49a3b87047d07ab9dd_2972.profile => 756\n"
     ]
    },
    {
     "name": "stderr",
     "output_type": "stream",
     "text": [
      "\r",
      " 16%|█▋        | 26/159 [00:07<00:45,  2.90it/s]"
     ]
    },
    {
     "name": "stdout",
     "output_type": "stream",
     "text": [
      "ERR length too long: ./data/tree-rep-profiles_o2o/small_short/53.killav_0.8/G93/133b2d9d6b04299bdff761cafe77e877d49b59ac58aae57731aeb6c9d66597b6_3272.profile => 515\n",
      "ERR length too long: ./data/tree-rep-profiles_o2o/small_short/53.killav_0.8/G93/11e1c6c6adacd6fd7d062770234b673d19a49428bde691f44a6a3a7e29bd2f4d_2980.profile => 517\n",
      "ERR length too long: ./data/tree-rep-profiles_o2o/small_short/53.killav_0.8/G94/06bcbc4d92854d3d39ff5828271fdedb9e83e64ec1e7d4cecdcfd9f27361c41c_3268.profile => 436\n",
      "ERR length too long: ./data/tree-rep-profiles_o2o/small_short/53.killav_0.8/G94/10cd2149d967e82dfaa6a67084468164b6db7e2da5874bbbfadae802a3682fb3_3208.profile => 372\n",
      "ERR length too long: ./data/tree-rep-profiles_o2o/small_short/126.swizzor_0.8/G22/0be1ccde103ea004a6edb8504ffeb641302a251868722cde01d9c3dc4aa6f505_3376.profile => 496\n",
      "ERR length too long: ./data/tree-rep-profiles_o2o/small_short/126.swizzor_0.8/G22/1db690e2981080e3e511ff36f188a6bedce4792b8011e2b001dbe00080b5b742_3284.profile => 503\n",
      "ERR length too long: ./data/tree-rep-profiles_o2o/small_short/51.ircbot_0.8/G101/0d47628759090f586bf672cc8b40a2e4e9b6c5d2379d463bbcb4050bd7146667_2896.profile => 671\n",
      "ERR length too long: ./data/tree-rep-profiles_o2o/small_short/51.ircbot_0.8/G101/0d3369eb11e471b6e38a049ac3bf50e30c5a8ce7ca6e40ce6c7fc0a9d9789271_2876.profile => 739\n"
     ]
    },
    {
     "name": "stderr",
     "output_type": "stream",
     "text": [
      " 18%|█▊        | 29/159 [00:08<00:30,  4.25it/s]"
     ]
    },
    {
     "name": "stdout",
     "output_type": "stream",
     "text": [
      "ERR length too long: ./data/tree-rep-profiles_o2o/small_short/70.lollipop_0.8/G60/00bd16a53d1f05d5a2f3c9023f1ed9ea93e2f7bd1268bd6628a94d96879b3466_3344.profile => 676\n",
      "ERR length too long: ./data/tree-rep-profiles_o2o/small_short/70.lollipop_0.8/G60/0b3f01cdbb991b82060e472fe6255a28417deeff8e867de161d7ad6f02234f1e_2980.profile => 676\n",
      "ERR length too long: ./data/tree-rep-profiles_o2o/small_short/70.lollipop_0.8/G61/02f80bec621d05265543eb7679aa19c73c08da7e5a6f6f843133bf1f568782dc_2872.profile => 532\n",
      "ERR length too long: ./data/tree-rep-profiles_o2o/small_short/70.lollipop_0.8/G61/0ef6058fd7ac71e2c9b4d92e7b834ae6118922618b685f07cce0d03298ebd9b8_3248.profile => 538\n",
      "ERR length too long: ./data/tree-rep-profiles_o2o/small_short/70.lollipop_0.8/G64/00bee59eac08fd48c77560d6b6d8dbe4966f8d722d3a6e329264b270d6f5fc3c_3304.profile => 521\n",
      "ERR length too long: ./data/tree-rep-profiles_o2o/small_short/70.lollipop_0.8/G64/0b510ebefd2a9781c78ab8495188c30f822d0778d2d04daf848a76ce0af05e35_3096.profile => 498\n",
      "ERR length too long: ./data/tree-rep-profiles_o2o/small_short/72.gamevance_0.8/G49/0a06c22e171032e15a243813378a87a945c6f7434bc0a4566924c782419be447_3412.profile => 559\n",
      "ERR length too long: ./data/tree-rep-profiles_o2o/small_short/72.gamevance_0.8/G49/147ed767f909d997fb8eae0aa68306b0c1bff9f01bc12dd72756f87957bd3124_3324.profile => 513\n"
     ]
    },
    {
     "name": "stderr",
     "output_type": "stream",
     "text": [
      "\r",
      " 19%|█▉        | 30/159 [00:08<00:25,  5.09it/s]"
     ]
    },
    {
     "name": "stdout",
     "output_type": "stream",
     "text": [
      "ERR length too long: ./data/tree-rep-profiles_o2o/small_short/16.sytro_0.8/G395/5e41b88421547b3d79e745758ece22f38ae4cbcb68782f8b903873f0cdd14ac5_3512.profile => 982\n",
      "ERR length too long: ./data/tree-rep-profiles_o2o/small_short/16.sytro_0.8/G395/3586190e6074f10799a6dcc51a7f2755c9744747a62539de18fb6a7f45a16aef_3476.profile => 1032\n",
      "ERR length too long: ./data/tree-rep-profiles_o2o/small_short/16.sytro_0.8/G396/088ab6b2dfe3525c1e66c2e0ea9716bbc616633d78bdc1e949c39b0085111454_3320.profile => 240\n",
      "ERR length too long: ./data/tree-rep-profiles_o2o/small_short/16.sytro_0.8/G396/088ab6b2dfe3525c1e66c2e0ea9716bbc616633d78bdc1e949c39b0085111454_3276.profile => 248\n",
      "ERR length too long: ./data/tree-rep-profiles_o2o/small_short/16.sytro_0.8/G314/5b1fa1522291b6107fe513314ac8b46865c2885ee0373752e1ade56be36fb348_3416.profile => 260\n",
      "ERR length too long: ./data/tree-rep-profiles_o2o/small_short/16.sytro_0.8/G314/edb3867c31eeb95dfa5744c9f03d981356e92873812697aec6626e713270b43d_3200.profile => 260\n"
     ]
    },
    {
     "name": "stderr",
     "output_type": "stream",
     "text": [
      "\r",
      " 20%|██        | 32/159 [00:08<00:22,  5.52it/s]"
     ]
    },
    {
     "name": "stdout",
     "output_type": "stream",
     "text": [
      "ERR length too long: ./data/tree-rep-profiles_o2o/small_short/48.upatre_0.8/G137/7fc8511b7afba2755e1c188fb17265072d2ffd1e9223760dabddc2313f2f9314_3300.profile => 631\n",
      "ERR length too long: ./data/tree-rep-profiles_o2o/small_short/48.upatre_0.8/G137/7fc8511b7afba2755e1c188fb17265072d2ffd1e9223760dabddc2313f2f9314_3296.profile => 640\n",
      "ERR length too long: ./data/tree-rep-profiles_o2o/small_short/48.upatre_0.8/G130/fbf90ab477779e70633dc4cdb76707b801d28df6b02e619413d2963e18989717_3376.profile => 229\n",
      "ERR length too long: ./data/tree-rep-profiles_o2o/small_short/48.upatre_0.8/G130/00daeeb1c2727a34dd4274b912bab5ef88f67dc42bfd73cc94b8e7013c7dc52b_3224.profile => 229\n",
      "ERR length too long: ./data/tree-rep-profiles_o2o/small_short/48.upatre_0.8/G121/bfa99cfcc15048ba118516178180d19c33c0642772bb855924219a0f9b3be77b_3164.profile => 243\n",
      "ERR length too long: ./data/tree-rep-profiles_o2o/small_short/48.upatre_0.8/G121/bfa99cfcc15048ba118516178180d19c33c0642772bb855924219a0f9b3be77b_2884.profile => 243\n",
      "ERR length too long: ./data/tree-rep-profiles_o2o/small_short/48.upatre_0.8/G133/4afbb275bc1cc6166f2c4ec8505ccd64bdbe0be77b86745c3b15d5d5f9ef81c5_3256.profile => 633\n",
      "ERR length too long: ./data/tree-rep-profiles_o2o/small_short/48.upatre_0.8/G133/4afbb275bc1cc6166f2c4ec8505ccd64bdbe0be77b86745c3b15d5d5f9ef81c5_2940.profile => 636\n",
      "ERR length too long: ./data/tree-rep-profiles_o2o/small_short/48.upatre_0.8/G131/cc9cfac97be68109a327a31efd610696f56c230225b19583899e531a7c0c30ff_3344.profile => 243\n",
      "ERR length too long: ./data/tree-rep-profiles_o2o/small_short/48.upatre_0.8/G131/0031b3ec313a3363acb501d2ba1483decbafa54000ce6263983ef6b2952a0405_2952.profile => 243\n"
     ]
    },
    {
     "name": "stderr",
     "output_type": "stream",
     "text": [
      "\r",
      " 21%|██        | 33/159 [00:08<00:24,  5.23it/s]"
     ]
    },
    {
     "name": "stdout",
     "output_type": "stream",
     "text": [
      "ERR length too long: ./data/tree-rep-profiles_o2o/small_short/30.kdz_0.8/G162/51b5c9b80d21e982e1cc92cdffe558cf4334a1ea87e7236814854be25629b765_3116.profile => 1012\n",
      "ERR length too long: ./data/tree-rep-profiles_o2o/small_short/30.kdz_0.8/G162/76a889cb09289bb51d1b37c96c14af5429743b81bb878f055ed3f2710b61bd1a_3148.profile => 1012\n"
     ]
    },
    {
     "name": "stderr",
     "output_type": "stream",
     "text": [
      "\r",
      " 22%|██▏       | 35/159 [00:09<00:26,  4.63it/s]"
     ]
    },
    {
     "name": "stdout",
     "output_type": "stream",
     "text": [
      "ERR length too long: ./data/tree-rep-profiles_o2o/small_short/30.kdz_0.8/G174/1ecc5004eecac737824fa66b361fd95534ff8138dae8642f4648dabc2f213b4d_2816.profile => 532\n",
      "ERR length too long: ./data/tree-rep-profiles_o2o/small_short/30.kdz_0.8/G174/1ffe647f121d447bf513e65c418e03d864015a6ddf06e8c6f92250a958122816_2864.profile => 532\n",
      "ERR length too long: ./data/tree-rep-profiles_o2o/small_short/30.kdz_0.8/G185/02fbc59091a54f1f39890d4372d8784cbc8f8df5a5052123e34113e2d74aa1c1_3376.profile => 530\n",
      "ERR length too long: ./data/tree-rep-profiles_o2o/small_short/30.kdz_0.8/G185/019ef3c26567f30ac2726c15b10ef9bdde87cbdb43a8685d0a197154ba3f024e_2964.profile => 517\n",
      "ERR length too long: ./data/tree-rep-profiles_o2o/small_short/30.kdz_0.8/G181/10e1bdf457c29b07225ca5242f9d2e13083f4dbbec9f8ae1de8f4082bf994bd6_3172.profile => 240\n",
      "ERR length too long: ./data/tree-rep-profiles_o2o/small_short/30.kdz_0.8/G181/10e1bdf457c29b07225ca5242f9d2e13083f4dbbec9f8ae1de8f4082bf994bd6_3084.profile => 248\n",
      "ERR length too long: ./data/tree-rep-profiles_o2o/small_short/64.hupigon_0.8/G62/13fd9e2e97c53355148f55391bb133496548a0e33daf4038472cb91d52639c41_3316.profile => 523\n",
      "ERR length too long: ./data/tree-rep-profiles_o2o/small_short/64.hupigon_0.8/G62/02b47c2f0aaf37d5702e1d57d32dbd7a7ce91d3f40ea7e0f30e2bf05e83a0763_3440.profile => 530\n",
      "ERR length too long: ./data/tree-rep-profiles_o2o/small_short/64.hupigon_0.8/G61/02bf8ed164bd3a3d3bd8ee190f9a40e022b8758e1a42620c6d2e9508dd14f9ba_2940.profile => 506\n",
      "ERR length too long: ./data/tree-rep-profiles_o2o/small_short/64.hupigon_0.8/G61/1f06c6b2eea1c9979e1741c92b72a77a4dfb880c4dee4d15ebf3a69b847df3dd_3180.profile => 498\n"
     ]
    },
    {
     "name": "stderr",
     "output_type": "stream",
     "text": [
      " 25%|██▍       | 39/159 [00:09<00:17,  6.91it/s]"
     ]
    },
    {
     "name": "stdout",
     "output_type": "stream",
     "text": [
      "ERR length too long: ./data/tree-rep-profiles_o2o/small_short/93.casino_0.8/G27/1d4e47d1bd14ee02ec162a1f22e8c3963665d321e3401a77840d8e5ef7b043c8_3412.profile => 503\n",
      "ERR length too long: ./data/tree-rep-profiles_o2o/small_short/93.casino_0.8/G27/0a3f98da0b6f072be5c4df81f66f1651e6a8b7f79e9b318a4247609abf427f38_3392.profile => 517\n",
      "ERR length too long: ./data/tree-rep-profiles_o2o/small_short/6.virut_0.8/G1067/9a6c5b6c4e7a8118de9c1b443d3f7257960d870dd33e6616b4906bb0de71c325_3308.profile => 263\n",
      "ERR length too long: ./data/tree-rep-profiles_o2o/small_short/6.virut_0.8/G1067/0abc0a6292c949db3267f214c55cb82402e0ac4980566f52c34fe0f391288f66_3152.profile => 263\n",
      "ERR length too long: ./data/tree-rep-profiles_o2o/small_short/6.virut_0.8/G1262/96c1c091117bc02228df3e778ec5992ab0fad1206c94de171b93fd89ac484a94_3144.profile => 259\n",
      "ERR length too long: ./data/tree-rep-profiles_o2o/small_short/6.virut_0.8/G1262/ab25ff4fdf0e78642578d6e702fcd1149df33836569f6ec7a9ff48df671d5cd5_3404.profile => 266\n",
      "ERR length too long: ./data/tree-rep-profiles_o2o/small_short/6.virut_0.8/G1283/16f0483e8be1b7655281208faf1ed786bf903dfe5f268b4b66525414be841e2b_2944.profile => 261\n",
      "ERR length too long: ./data/tree-rep-profiles_o2o/small_short/6.virut_0.8/G1283/37670f04e9897063ac182d82bb9e979075b9be7fd2dbf29017763a46e8ffe6d0_3428.profile => 267\n",
      "ERR length too long: ./data/tree-rep-profiles_o2o/small_short/6.virut_0.8/G1279/d380d7ef2b191b6f2c86c446b1e2d25fe86f05785fe2e2252a3e814c83b7f8dd_1112.profile => 530\n",
      "ERR length too long: ./data/tree-rep-profiles_o2o/small_short/6.virut_0.8/G1279/d380d7ef2b191b6f2c86c446b1e2d25fe86f05785fe2e2252a3e814c83b7f8dd_3424.profile => 494\n",
      "ERR length too long: ./data/tree-rep-profiles_o2o/small_short/6.virut_0.8/G1285/e5eba33bb3245d463f8284a4e683d67aa1b6f12f3cdf3d0a5d739f26a36a7cff_3176.profile => 647\n",
      "ERR length too long: ./data/tree-rep-profiles_o2o/small_short/6.virut_0.8/G1285/81ba4691182abee2c6dd4c2678e591713450e10cebfe1b21fb4edcce5377e587_3364.profile => 679\n",
      "ERR length too long: ./data/tree-rep-profiles_o2o/small_short/6.virut_0.8/G1202/134c6f71fdeace010895c2d3599d661e6b19261ca6b320848844ab197dcbaebe_2976.profile => 646\n",
      "ERR length too long: ./data/tree-rep-profiles_o2o/small_short/6.virut_0.8/G1202/659b01a6b8c21c3be0034d88bc8e8781c4cfe6c114ddaaceb19ab6778d3e0443_2896.profile => 656\n",
      "ERR length too long: ./data/tree-rep-profiles_o2o/small_short/6.virut_0.8/G1227/73ba42681817be41d3237ce41e5f424325a940e63fc66c8d9800f50c87b45ec6_432.profile => 273\n",
      "ERR length too long: ./data/tree-rep-profiles_o2o/small_short/6.virut_0.8/G1227/1a6ce23c6b7c1b51a03b1605b99b41fac9bdea2d9e066721816a11f8cd3bf882_440.profile => 276\n",
      "ERR length too long: ./data/tree-rep-profiles_o2o/small_short/6.virut_0.8/G1194/6c81ccac35787a7ba5ce2ea812ab8b622d480635a3fb8674d7ca5156f3d9f5a7_2996.profile => 534\n",
      "ERR length too long: ./data/tree-rep-profiles_o2o/small_short/6.virut_0.8/G1194/cfbaf28313f96af91ea5a61fa6628031486751c3206bedaeb3bc8edbaf32e668_3068.profile => 540\n",
      "ERR length too long: ./data/tree-rep-profiles_o2o/small_short/6.virut_0.8/G1245/5f58bc437e486453ab3e4d381593303d2f5f11f6280a30ba79e6767ab448021b_432.profile => 273\n",
      "ERR length too long: ./data/tree-rep-profiles_o2o/small_short/6.virut_0.8/G1245/79c11a1d8a13d073c6fe46b7f449eaddf2385b213a3cd472885d2e8226091d72_432.profile => 268\n",
      "ERR length too long: ./data/tree-rep-profiles_o2o/small_short/6.virut_0.8/G1298/14d3296ae8da256e595bade61307fbf8fe388a83c322f193104ed5b3555b6299_436.profile => 279\n",
      "ERR length too long: ./data/tree-rep-profiles_o2o/small_short/6.virut_0.8/G1298/17514e8770361d51f26754e4b85fe1a65a942ce39d68928f76d09e2267d15843_436.profile => 272\n",
      "ERR length too long: ./data/tree-rep-profiles_o2o/small_short/6.virut_0.8/G1141/fd8eb960d729fe79f598589fdb71e87e6f8ff079aaa3179a3af543f9d0073541_3288.profile => 422\n",
      "ERR length too long: ./data/tree-rep-profiles_o2o/small_short/6.virut_0.8/G1141/fd8eb960d729fe79f598589fdb71e87e6f8ff079aaa3179a3af543f9d0073541_3396.profile => 422\n",
      "ERR length too long: ./data/tree-rep-profiles_o2o/small_short/6.virut_0.8/G1056/1960c9863315e690c89713d96502a8d0e57e25f2065b96f383c7db30c5577910_3292.profile => 233\n",
      "ERR length too long: ./data/tree-rep-profiles_o2o/small_short/6.virut_0.8/G1056/1960c9863315e690c89713d96502a8d0e57e25f2065b96f383c7db30c5577910_2832.profile => 233\n",
      "ERR length too long: ./data/tree-rep-profiles_o2o/small_short/6.virut_0.8/G1140/e1a9a4b06adc168af5cc72b32947f0b4e7d92c14e26f10d522b589ad82dc8626_3212.profile => 565\n",
      "ERR length too long: ./data/tree-rep-profiles_o2o/small_short/6.virut_0.8/G1140/e1a9a4b06adc168af5cc72b32947f0b4e7d92c14e26f10d522b589ad82dc8626_2964.profile => 565\n",
      "ERR length too long: ./data/tree-rep-profiles_o2o/small_short/6.virut_0.8/G1169/994c94a2bb5bde35c1795076d11bcc8702bc6fb76ff217e1324016513ac5a260_3260.profile => 727\n",
      "ERR length too long: ./data/tree-rep-profiles_o2o/small_short/6.virut_0.8/G1169/82bc9b16920a26f03ac128f78a2f04bc7b13fbf6e53accc39549e4fd539b4c43_3404.profile => 727\n",
      "ERR length too long: ./data/tree-rep-profiles_o2o/small_short/6.virut_0.8/G1199/0426b04a07d3c0a73387fa6f5b8480c1f9c98d557be1dcd26e97e1476db7cadb_444.profile => 264\n",
      "ERR length too long: ./data/tree-rep-profiles_o2o/small_short/6.virut_0.8/G1199/6e340c24561098b8e689853953cfde5106190e5b98c53741342a5ed93fd97600_428.profile => 264\n"
     ]
    },
    {
     "name": "stderr",
     "output_type": "stream",
     "text": [
      "\r",
      " 26%|██▌       | 41/159 [00:11<00:56,  2.10it/s]"
     ]
    },
    {
     "name": "stdout",
     "output_type": "stream",
     "text": [
      "ERR length too long: ./data/tree-rep-profiles_o2o/small_short/59.installrex_0.8/G90/df6c89f0f5a806ade5e44edaa92bf446fbcbe63dbbbfb249fa014368103e1037_3336.profile => 250\n",
      "ERR length too long: ./data/tree-rep-profiles_o2o/small_short/91.loring_0.8/G32/11fda895222e03db7be8788f21109b92d685877fffb05e027acf1ff0e57d7fc0_3284.profile => 1237\n",
      "ERR length too long: ./data/tree-rep-profiles_o2o/small_short/91.loring_0.8/G32/07e70a2e8b01cb313c35af616c152ab6903c1e3c347a6b218a453af482c86baa_2864.profile => 1237\n",
      "ERR length too long: ./data/tree-rep-profiles_o2o/small_short/91.loring_0.8/G34/091ddc720fbf18a3544225e6ad07839fba1a1f181cf9e6c4967023e5bbd42b09_3260.profile => 634\n",
      "ERR length too long: ./data/tree-rep-profiles_o2o/small_short/91.loring_0.8/G34/095effde5e471f308dd3d2262efd67c04a9d87e5cb7e8409ec0398d595f2b67b_3424.profile => 629\n"
     ]
    },
    {
     "name": "stderr",
     "output_type": "stream",
     "text": [
      " 28%|██▊       | 45/159 [00:12<00:37,  3.03it/s]"
     ]
    },
    {
     "name": "stdout",
     "output_type": "stream",
     "text": [
      "ERR length too long: ./data/tree-rep-profiles_o2o/small_short/27.downloa_0.8/G189/0c677116f843fc35c387f83f9e7df29ddb57c73962170b6d273154c778ce914b_3428.profile => 376\n",
      "ERR length too long: ./data/tree-rep-profiles_o2o/small_short/27.downloa_0.8/G189/0f518a6749f57f78213123e62135cded66c446f7a92b81e56ad046a185d876ac_3324.profile => 453\n",
      "ERR length too long: ./data/tree-rep-profiles_o2o/small_short/27.downloa_0.8/G184/0fcc147864f1b4343687491d48e69a415a65b830d03933426a0ee4a729e33554_3252.profile => 483\n",
      "ERR length too long: ./data/tree-rep-profiles_o2o/small_short/27.downloa_0.8/G184/0f76fd55276a5585e404e083095ed67c8a2ae55ba9d68dcdd082ed03828b1ce2_3332.profile => 509\n",
      "ERR length too long: ./data/tree-rep-profiles_o2o/small_short/5.ursu_0.8/G827/00f2358a97dac4c9f6c5407e8c3276b8d29ea54ffa3ebaff084e186d423b9178_3244.profile => 371\n",
      "ERR length too long: ./data/tree-rep-profiles_o2o/small_short/5.ursu_0.8/G827/01c29000e34d0a686df133ed2a6eb3b8f6fd1458806e9c2b21b38adc817739f2_3176.profile => 371\n",
      "ERR length too long: ./data/tree-rep-profiles_o2o/small_short/5.ursu_0.8/G912/0b8aa94ddd11b1225bdc7e7bb5a9fb7baf14fc605fdae0d37fa17d0f5833899b_3388.profile => 336\n",
      "ERR length too long: ./data/tree-rep-profiles_o2o/small_short/5.ursu_0.8/G912/0b8aa94ddd11b1225bdc7e7bb5a9fb7baf14fc605fdae0d37fa17d0f5833899b_3352.profile => 337\n",
      "ERR length too long: ./data/tree-rep-profiles_o2o/small_short/5.ursu_0.8/G943/0aaab33e15f24c757fb3644ca60b35c610a3f925f2ea8e246390f3e4fc0f4f72_2936.profile => 709\n",
      "ERR length too long: ./data/tree-rep-profiles_o2o/small_short/5.ursu_0.8/G943/0aa87bf2904955377a5ac88ca881a28799d7caf192a30d7a22f2b18822bb8b9a_3372.profile => 758\n",
      "ERR length too long: ./data/tree-rep-profiles_o2o/small_short/5.ursu_0.8/G919/0e8983804a2d4194f0e21019ccb40a4a550ace9a4859c95ba93ce28d1d6970f4_3408.profile => 265\n",
      "ERR length too long: ./data/tree-rep-profiles_o2o/small_short/5.ursu_0.8/G919/1d1a9aa5c29ae1ecfb15924dae4fca2711d694017824dec3a46add300caa8280_3372.profile => 259\n",
      "ERR length too long: ./data/tree-rep-profiles_o2o/small_short/5.ursu_0.8/G929/0c3b8c1e43126ec464a17f9f230c2711fead5c5c087042c33120497cd8dbbc1c_2968.profile => 753\n",
      "ERR length too long: ./data/tree-rep-profiles_o2o/small_short/5.ursu_0.8/G929/0d90dab9cec2fb1f6087c3101718fac55d1af3be6e4062b87fb3e962419ec749_3348.profile => 817\n",
      "ERR length too long: ./data/tree-rep-profiles_o2o/small_short/5.ursu_0.8/G927/0b670845f6b08c856f049def08b9e67655d0e8126f32a6b4d0486a9965b6cae1_3380.profile => 228\n",
      "ERR length too long: ./data/tree-rep-profiles_o2o/small_short/5.ursu_0.8/G927/0ddbb6d6c75a6b0a4e383547d1f1c44015dc94bfc378fc1f2f5d31573dd9b4f7_3276.profile => 237\n"
     ]
    },
    {
     "name": "stderr",
     "output_type": "stream",
     "text": [
      "\r",
      " 29%|██▉       | 46/159 [00:13<01:05,  1.73it/s]"
     ]
    },
    {
     "name": "stdout",
     "output_type": "stream",
     "text": [
      "ERR length too long: ./data/tree-rep-profiles_o2o/small_short/12.expiro_0.8/G567/1efd287bb75f57663ca12d5bd4ec03be4e06cd67f4514943c3cba39cc3b8525a_3320.profile => 239\n",
      "ERR length too long: ./data/tree-rep-profiles_o2o/small_short/12.expiro_0.8/G570/bc7a79ebc9562a76fed3a6cc8951ee76b230d8bf47aa8e15874fe7e0d5c6d53a_3184.profile => 308\n",
      "ERR length too long: ./data/tree-rep-profiles_o2o/small_short/12.expiro_0.8/G570/bc7a79ebc9562a76fed3a6cc8951ee76b230d8bf47aa8e15874fe7e0d5c6d53a_3276.profile => 317\n",
      "ERR length too long: ./data/tree-rep-profiles_o2o/small_short/12.expiro_0.8/G521/1669232219509c7acb09bbace0a31902014a4038dd6fd7189663fea4270225b4_3040.profile => 278\n",
      "ERR length too long: ./data/tree-rep-profiles_o2o/small_short/12.expiro_0.8/G521/1669232219509c7acb09bbace0a31902014a4038dd6fd7189663fea4270225b4_3360.profile => 279\n"
     ]
    },
    {
     "name": "stderr",
     "output_type": "stream",
     "text": [
      "\r",
      " 30%|██▉       | 47/159 [00:14<01:21,  1.38it/s]"
     ]
    },
    {
     "name": "stdout",
     "output_type": "stream",
     "text": [
      "ERR length too long: ./data/tree-rep-profiles_o2o/small_short/12.expiro_0.8/G495/44747ce5a9055fab069d15667aa381c456df1a615bc18f9dc87906fbdd126524_2880.profile => 229\n",
      "ERR length too long: ./data/tree-rep-profiles_o2o/small_short/12.expiro_0.8/G495/44747ce5a9055fab069d15667aa381c456df1a615bc18f9dc87906fbdd126524_3316.profile => 230\n",
      "ERR length too long: ./data/tree-rep-profiles_o2o/small_short/150.manbat_0.8/G19/7585c6bc2ef6308654e51ed226d6d3297cf895dc57728b0809fbf7b74b29fdc9_2956.profile => 699\n",
      "ERR length too long: ./data/tree-rep-profiles_o2o/small_short/150.manbat_0.8/G19/7585c6bc2ef6308654e51ed226d6d3297cf895dc57728b0809fbf7b74b29fdc9_2948.profile => 722\n",
      "ERR length too long: ./data/tree-rep-profiles_o2o/small_short/92.valla_0.8/G35/a50eba8c8e805dcc2d539b56aacf9defa41aaf9c844694c45c50d636b5d90345_3240.profile => 279\n",
      "ERR length too long: ./data/tree-rep-profiles_o2o/small_short/92.valla_0.8/G35/a50eba8c8e805dcc2d539b56aacf9defa41aaf9c844694c45c50d636b5d90345_3352.profile => 279\n"
     ]
    },
    {
     "name": "stderr",
     "output_type": "stream",
     "text": [
      " 32%|███▏      | 51/159 [00:15<00:44,  2.43it/s]"
     ]
    },
    {
     "name": "stdout",
     "output_type": "stream",
     "text": [
      "ERR length too long: ./data/tree-rep-profiles_o2o/small_short/31.elkern_0.8/G164/527a25ad13e99b0f75d048f2bae524b1d7772914de1f1338eebb687eb8ea6014_3196.profile => 272\n",
      "ERR length too long: ./data/tree-rep-profiles_o2o/small_short/31.elkern_0.8/G164/b52c4ecfc4c0b83ad6ca54a44e844a7b0f55a8a89ac8cf808709622431b7c6b4_3108.profile => 271\n",
      "ERR length too long: ./data/tree-rep-profiles_o2o/small_short/32.outbrowse_0.8/G243/95b3dcf92ec54b1fca6f05360bc5da5cd5e1b61ef54e0e28cf24eda5db8ec876_3216.profile => 271\n",
      "ERR length too long: ./data/tree-rep-profiles_o2o/small_short/32.outbrowse_0.8/G243/95b3dcf92ec54b1fca6f05360bc5da5cd5e1b61ef54e0e28cf24eda5db8ec876_3412.profile => 324\n",
      "ERR length too long: ./data/tree-rep-profiles_o2o/small_short/32.outbrowse_0.8/G241/9677dd1a6eceb05636afc6d29c0392ca3784d999b981af0c9168b586220ad1e1_3368.profile => 253\n",
      "ERR length too long: ./data/tree-rep-profiles_o2o/small_short/32.outbrowse_0.8/G241/71a98772f7a643a0980bed5741d69c7c02dfce7c75d196a21234f278ba6f47e4_3360.profile => 265\n"
     ]
    },
    {
     "name": "stderr",
     "output_type": "stream",
     "text": [
      "\r",
      " 33%|███▎      | 52/159 [00:15<00:43,  2.43it/s]"
     ]
    },
    {
     "name": "stdout",
     "output_type": "stream",
     "text": [
      "ERR length too long: ./data/tree-rep-profiles_o2o/small_short/117.sdbot_0.8/G25/11e4ffa7435e1ecf5822fa22e222727702aedbbfca53995c3e400c75b0ed0f25_3252.profile => 766\n",
      "ERR length too long: ./data/tree-rep-profiles_o2o/small_short/117.sdbot_0.8/G25/15f7648c72adb45df00a1d81500e03f8637168d7132e8c178f83006698dd399c_3224.profile => 767\n",
      "ERR length too long: ./data/tree-rep-profiles_o2o/small_short/117.sdbot_0.8/G24/08bb439e0f17798090b43faa5728398aa2d881c2ad32b3e30d3257579b953ce3_3260.profile => 285\n",
      "ERR length too long: ./data/tree-rep-profiles_o2o/small_short/117.sdbot_0.8/G24/08ee35925f4072450e9754b90fcd4e3d583cc71866b8b481da9edf971af4d63f_3228.profile => 285\n",
      "ERR length too long: ./data/tree-rep-profiles_o2o/small_short/117.sdbot_0.8/G26/1f725b9f434ce422978f39312fa391abd4d0bfeeded62789b24ff5acb1b41e36_3296.profile => 498\n",
      "ERR length too long: ./data/tree-rep-profiles_o2o/small_short/117.sdbot_0.8/G26/b0b209f9e15110bc8b805235ad7067372e99ee466e4f950bb52ddc90f3e676f5_3288.profile => 506\n",
      "ERR length too long: ./data/tree-rep-profiles_o2o/small_short/95.farfli_0.8/G30/6da7046d4b10ae510d6bb4a734ed667ed8756a12bf77410f5d95c009f384b214_3168.profile => 356\n",
      "ERR length too long: ./data/tree-rep-profiles_o2o/small_short/95.farfli_0.8/G30/7a9e638d2cf111e1f109937281e3fb8b84692858f09d815aef99b0675cebc32f_3292.profile => 356\n"
     ]
    },
    {
     "name": "stderr",
     "output_type": "stream",
     "text": [
      "\r",
      " 34%|███▍      | 54/159 [00:16<00:34,  3.05it/s]"
     ]
    },
    {
     "name": "stdout",
     "output_type": "stream",
     "text": [
      "ERR length too long: ./data/tree-rep-profiles_o2o/small_short/13.vobfus_0.8/G419/029cdbf5f777c31599c0ee1685e227a104d3244ddefea2a34f756e81d19df8c1_3240.profile => 1105\n",
      "ERR length too long: ./data/tree-rep-profiles_o2o/small_short/13.vobfus_0.8/G419/016aaaea53428d0a2e18a5808efded03124ecd808951e9c8b8168fc02eb0de58_3260.profile => 1058\n"
     ]
    },
    {
     "name": "stderr",
     "output_type": "stream",
     "text": [
      "\r",
      " 35%|███▍      | 55/159 [00:16<00:39,  2.65it/s]"
     ]
    },
    {
     "name": "stdout",
     "output_type": "stream",
     "text": [
      "ERR length too long: ./data/tree-rep-profiles_o2o/small_short/13.vobfus_0.8/G391/023be0d2fca6d3cd9047efa45194ee3fc3fa09e95cabc9a3cc37c818d2398f08_3204.profile => 431\n",
      "ERR length too long: ./data/tree-rep-profiles_o2o/small_short/13.vobfus_0.8/G391/019c6c2b8071cffe543907e901d3c83a71c73820cb6d86d51db22d84fad34190_2884.profile => 436\n"
     ]
    },
    {
     "name": "stderr",
     "output_type": "stream",
     "text": [
      "\r",
      " 35%|███▌      | 56/159 [00:16<00:33,  3.10it/s]"
     ]
    },
    {
     "name": "stdout",
     "output_type": "stream",
     "text": [
      "ERR length too long: ./data/tree-rep-profiles_o2o/small_short/40.msil_0.8/G112/0027f28a05c655e34a820666bb3cf4e50b961f7784a53b25cc52d2b230f05774_2968.profile => 512\n",
      "ERR length too long: ./data/tree-rep-profiles_o2o/small_short/40.msil_0.8/G112/d44859482ad22a0ca99a8554f2fa5b4d2783abbfa63838bf38c8506f0053e2f9_3004.profile => 498\n",
      "ERR length too long: ./data/tree-rep-profiles_o2o/small_short/15.graftor_0.8/G399/8ca1a6bd6e857018a34505bd98ea87637e71f9c17c7d225151fdf3778ea36f54_3348.profile => 382\n",
      "ERR length too long: ./data/tree-rep-profiles_o2o/small_short/15.graftor_0.8/G399/ee7175fd587e292649fbe4a8b4d454074f70a831367852325b0ae7df89c2d3a2_3120.profile => 336\n",
      "ERR length too long: ./data/tree-rep-profiles_o2o/small_short/15.graftor_0.8/G355/12b41a5731bb280b1393e14f3354a85be0b70baf82e2ede2f6565ded5d2ac718_3264.profile => 401\n",
      "ERR length too long: ./data/tree-rep-profiles_o2o/small_short/15.graftor_0.8/G355/1daa04c34d2f252f199403f2f719f355b020921bd3280e2d7676e59f6e7b802e_3204.profile => 401\n"
     ]
    },
    {
     "name": "stderr",
     "output_type": "stream",
     "text": [
      "\r",
      " 36%|███▌      | 57/159 [00:17<00:54,  1.86it/s]"
     ]
    },
    {
     "name": "stdout",
     "output_type": "stream",
     "text": [
      "ERR length too long: ./data/tree-rep-profiles_o2o/small_short/15.graftor_0.8/G397/be639e1716ec6fda3f65555b596f208266d16285a0ca95e670dd9fd4cf39f201_3336.profile => 256\n",
      "ERR length too long: ./data/tree-rep-profiles_o2o/small_short/15.graftor_0.8/G397/0f2906dfcb1c4a77425f10d3d20d4e852ec303e3ecb2d67a3582464605f94575_3272.profile => 260\n",
      "ERR length too long: ./data/tree-rep-profiles_o2o/small_short/15.graftor_0.8/G402/009c75206caade4fdecf854fbfd8242b6fbae2098a68c5e89e2be7180f6d5db1_3148.profile => 782\n",
      "ERR length too long: ./data/tree-rep-profiles_o2o/small_short/15.graftor_0.8/G402/088f65aabd90b8225deb428851cb3bba72414fce8d6ab5c5bfe21aea6ca99c19_3320.profile => 847\n",
      "ERR length too long: ./data/tree-rep-profiles_o2o/small_short/4.kazy_0.8/G1202/9388f51cf9ae06c6ad9f995f11a1bab29ffb686ec42e6966c8fd163c11b850d1_3108.profile => 255\n",
      "ERR length too long: ./data/tree-rep-profiles_o2o/small_short/4.kazy_0.8/G1202/69ae455f218b490ebd6329509aca0b356fd0437785a093b6afee69f79a5a6c66_3020.profile => 229\n",
      "ERR length too long: ./data/tree-rep-profiles_o2o/small_short/4.kazy_0.8/G1099/1e1a29cb3e574f00a85dd75fd12da6fcd474feebd35ad31da199818657090b84_2856.profile => 366\n",
      "ERR length too long: ./data/tree-rep-profiles_o2o/small_short/4.kazy_0.8/G1099/1dc3b5c14fce456bea54527be6b29a0e282aaae96e97d018f585c19dedc89d44_3304.profile => 366\n",
      "ERR length too long: ./data/tree-rep-profiles_o2o/small_short/4.kazy_0.8/G1185/079bbc371fb3d7ff4e756a89ca291bd6f0ec4d6660094f2bd57fdc4bf35313be_3184.profile => 540\n",
      "ERR length too long: ./data/tree-rep-profiles_o2o/small_short/4.kazy_0.8/G1185/fc260de438cfc5b52c72bd87e3aef9c9c1ef5627c2e1f16090c54f159a1588a7_3332.profile => 528\n",
      "ERR length too long: ./data/tree-rep-profiles_o2o/small_short/4.kazy_0.8/G1160/091d4aa6984e80be621c5af634263a5caec0f81a1109ad972e28e0f540947252_3328.profile => 245\n",
      "ERR length too long: ./data/tree-rep-profiles_o2o/small_short/4.kazy_0.8/G1160/b810dab12c58b8c94e2e7d15f77e974abc7dcf446df1e31454cff57660919a6e_3224.profile => 239\n",
      "ERR length too long: ./data/tree-rep-profiles_o2o/small_short/4.kazy_0.8/G1143/9388f51cf9ae06c6ad9f995f11a1bab29ffb686ec42e6966c8fd163c11b850d1_3008.profile => 278\n",
      "ERR length too long: ./data/tree-rep-profiles_o2o/small_short/4.kazy_0.8/G1143/69ae455f218b490ebd6329509aca0b356fd0437785a093b6afee69f79a5a6c66_2896.profile => 278\n",
      "ERR length too long: ./data/tree-rep-profiles_o2o/small_short/4.kazy_0.8/G1145/b69d4da953e34cdaa57555840ab530edd0b76545d477bb509329935307a90893_2936.profile => 296\n",
      "ERR length too long: ./data/tree-rep-profiles_o2o/small_short/4.kazy_0.8/G1145/26a086f1b00bcefdabb5788b1bd48da47163873c67bbd701f0cf4c9afa9b8894_3348.profile => 296\n",
      "ERR length too long: ./data/tree-rep-profiles_o2o/small_short/4.kazy_0.8/G1151/bf46ffe0e14f2ad7c8148420bfef9765656e9b8cc7a36666496850cd780026cc_3292.profile => 292\n",
      "ERR length too long: ./data/tree-rep-profiles_o2o/small_short/4.kazy_0.8/G1151/584d892912a9ac4da7f5df3998869fef454f8c9245e464ca462cd859e5501567_3252.profile => 293\n",
      "ERR length too long: ./data/tree-rep-profiles_o2o/small_short/4.kazy_0.8/G1038/4ee4f47393d89fc0cf8b3b25433f26081af8c3e4b1f5c27b22ae297ebcf47094_3200.profile => 1012\n",
      "ERR length too long: ./data/tree-rep-profiles_o2o/small_short/4.kazy_0.8/G1038/6e0b838a6d17b1edb0c5407bd8f6bba961230467aaab941ac9843adc80193956_3224.profile => 1012\n"
     ]
    },
    {
     "name": "stderr",
     "output_type": "stream",
     "text": [
      "\r",
      " 36%|███▋      | 58/159 [00:18<01:06,  1.52it/s]"
     ]
    },
    {
     "name": "stdout",
     "output_type": "stream",
     "text": [
      "ERR length too long: ./data/tree-rep-profiles_o2o/small_short/4.kazy_0.8/G1213/0eccc9ecf2710019c1a5b01d2634c1eca0d7c076e6098066057f4e6a26c1a5b4_3468.profile => 393\n",
      "ERR length too long: ./data/tree-rep-profiles_o2o/small_short/4.kazy_0.8/G1213/e799862e3e666effe6d67a0b3e0f1c367f3ceebe3c4a14ea4da161782dd0200a_3468.profile => 345\n",
      "ERR length too long: ./data/tree-rep-profiles_o2o/small_short/7.solimba_0.8/G674/fefc01deeb00ff4e1956ec620b30656729f14599e824517104a7d4a8e4f0f2c5_3196.profile => 279\n",
      "ERR length too long: ./data/tree-rep-profiles_o2o/small_short/7.solimba_0.8/G674/00cebd669e0d609675370c0a3cc738da8dcf5b848ff6ab7520cf29671411eb93_3128.profile => 278\n",
      "ERR length too long: ./data/tree-rep-profiles_o2o/small_short/7.solimba_0.8/G652/0db5909eead380b4eef915207966dc4ff04ef5d2460254540d9f9f740d35794f_3368.profile => 528\n",
      "ERR length too long: ./data/tree-rep-profiles_o2o/small_short/7.solimba_0.8/G652/0c3b6012ee924b748504cdcb1204b2c24f89e10714eea56eaf6ad6b5ae0a38a8_2996.profile => 528\n"
     ]
    },
    {
     "name": "stderr",
     "output_type": "stream",
     "text": [
      " 38%|███▊      | 61/159 [00:19<00:51,  1.89it/s]"
     ]
    },
    {
     "name": "stdout",
     "output_type": "stream",
     "text": [
      "ERR length too long: ./data/tree-rep-profiles_o2o/small_short/41.ibryte_0.8/G116/847695df7966fd1338468262bd779e4254842e49df66f1520d071d899bffc62e_3208.profile => 576\n",
      "ERR length too long: ./data/tree-rep-profiles_o2o/small_short/41.ibryte_0.8/G116/0b316299cd9ff9f93402b68567994973805410ca8f13be0b1c58c3ae59061142_2876.profile => 576\n",
      "ERR length too long: ./data/tree-rep-profiles_o2o/small_short/41.ibryte_0.8/G125/474423296ed8973c697fb63e7f4d418795791ca5b967aae4746769c373ad569f_3064.profile => 561\n",
      "ERR length too long: ./data/tree-rep-profiles_o2o/small_short/41.ibryte_0.8/G125/732f1aa66031b6d49233f743808e2925d7f7302c5f7baae3f84adcc44b164799_3328.profile => 558\n",
      "ERR length too long: ./data/tree-rep-profiles_o2o/small_short/41.ibryte_0.8/G115/6a39d95fac7b1cfbc300740f88332e80a2d37540219643a50a49ea69658458a3_2904.profile => 247\n",
      "ERR length too long: ./data/tree-rep-profiles_o2o/small_short/41.ibryte_0.8/G115/6a39d95fac7b1cfbc300740f88332e80a2d37540219643a50a49ea69658458a3_2996.profile => 247\n",
      "ERR length too long: ./data/tree-rep-profiles_o2o/small_short/41.ibryte_0.8/G127/cf7ac6d6ae8cdf6be206137157ce42ec45f23a8f4b659778628c0a2166e03315_2872.profile => 255\n",
      "ERR length too long: ./data/tree-rep-profiles_o2o/small_short/41.ibryte_0.8/G127/e155fc543f663cc16114d933ff1fc5e29134fddc8ee96f880a736b9497454714_3220.profile => 255\n",
      "ERR length too long: ./data/tree-rep-profiles_o2o/small_short/9.loadmoney_0.8/G576/0bc7b6af30113f2c535ab4c54c20917bf29ffe9badc8f6928ced06409ae00484_3464.profile => 534\n",
      "ERR length too long: ./data/tree-rep-profiles_o2o/small_short/9.loadmoney_0.8/G576/090ed9b537d2bb24a924f73c71a5b669d6b30ffaa4c578610307d32d3eba210c_2956.profile => 549\n",
      "ERR length too long: ./data/tree-rep-profiles_o2o/small_short/9.loadmoney_0.8/G548/5b091625569646d515dc21e2dc5862debb5926e6388403cf4b4a8a9bec2def13_3224.profile => 640\n",
      "ERR length too long: ./data/tree-rep-profiles_o2o/small_short/9.loadmoney_0.8/G548/5b091625569646d515dc21e2dc5862debb5926e6388403cf4b4a8a9bec2def13_3292.profile => 640\n",
      "ERR length too long: ./data/tree-rep-profiles_o2o/small_short/9.loadmoney_0.8/G562/13a0621ca19712567de8cf692a1c002930411f5ee626072e1b78ee18866c86ea_3316.profile => 534\n",
      "ERR length too long: ./data/tree-rep-profiles_o2o/small_short/9.loadmoney_0.8/G562/0be8fb8cd7b75e77b21cd730f284378622b2b9145fd59b9c86ceb2adf1164840_3300.profile => 534\n"
     ]
    },
    {
     "name": "stderr",
     "output_type": "stream",
     "text": [
      "\r",
      " 39%|███▉      | 62/159 [00:20<00:53,  1.83it/s]"
     ]
    },
    {
     "name": "stdout",
     "output_type": "stream",
     "text": [
      "ERR length too long: ./data/tree-rep-profiles_o2o/small_short/90.rimecud_0.8/G35/150b5e068907812b10be1a48dea9418404b59336380ed3dfc5d8de5eaf08a678_3240.profile => 498\n",
      "ERR length too long: ./data/tree-rep-profiles_o2o/small_short/90.rimecud_0.8/G35/0c8b0d0416e534b8491a84c0417f659171ed4adbb3542686d5100c26345b0938_3360.profile => 506\n"
     ]
    },
    {
     "name": "stderr",
     "output_type": "stream",
     "text": [
      "\r",
      " 41%|████      | 65/159 [00:20<00:38,  2.47it/s]"
     ]
    },
    {
     "name": "stdout",
     "output_type": "stream",
     "text": [
      "ERR length too long: ./data/tree-rep-profiles_o2o/small_short/106.gator_0.8/G27/12e814c07a80039c057429c51284cec4f9a71c7f0b0e923e8891bd6afa339234_3296.profile => 529\n",
      "ERR length too long: ./data/tree-rep-profiles_o2o/small_short/106.gator_0.8/G27/1f266286548d3fdf90679f210605403529efea49425a6e6cee7574724edab9ab_3240.profile => 523\n",
      "ERR length too long: ./data/tree-rep-profiles_o2o/small_short/44.startpage_0.8/G103/476576c06113ca5971ef68ff60bedc78510e475b35027b94ed1efae9db1a2f99_3436.profile => 755\n",
      "ERR length too long: ./data/tree-rep-profiles_o2o/small_short/44.startpage_0.8/G103/476576c06113ca5971ef68ff60bedc78510e475b35027b94ed1efae9db1a2f99_3228.profile => 755\n",
      "ERR length too long: ./data/tree-rep-profiles_o2o/small_short/44.startpage_0.8/G110/06d13d437de4ed2964af1f6c9927ae592aaf8d5977f51a1f52622fbb520c1c37_2888.profile => 436\n",
      "ERR length too long: ./data/tree-rep-profiles_o2o/small_short/44.startpage_0.8/G110/1ef07612de806b3c59b17c872a784b6b6566bad91de66d67f4a40d7cadd1cb6b_3300.profile => 436\n"
     ]
    },
    {
     "name": "stderr",
     "output_type": "stream",
     "text": [
      "\r",
      " 42%|████▏     | 66/159 [00:20<00:38,  2.44it/s]"
     ]
    },
    {
     "name": "stdout",
     "output_type": "stream",
     "text": [
      "ERR length too long: ./data/tree-rep-profiles_o2o/small_short/44.startpage_0.8/G114/11d98c251e5d2471cc0635081c099cd6908b4dd2135b59551d43dde2a4834d2c_3180.profile => 1029\n",
      "ERR length too long: ./data/tree-rep-profiles_o2o/small_short/44.startpage_0.8/G114/07b67c39b601f4234e2246007cb83690b0b502e5a0aee058c96f5310ebe39fb8_3216.profile => 949\n"
     ]
    },
    {
     "name": "stderr",
     "output_type": "stream",
     "text": [
      "\r",
      " 43%|████▎     | 68/159 [00:21<00:27,  3.27it/s]"
     ]
    },
    {
     "name": "stdout",
     "output_type": "stream",
     "text": [
      "ERR length too long: ./data/tree-rep-profiles_o2o/small_short/152.navipromo_0.8/G17/ee895b20e71db0cda642d1ebc9ffc7a2987b5bf7736171794b339dbc76c88dd2_2976.profile => 243\n",
      "ERR length too long: ./data/tree-rep-profiles_o2o/small_short/152.navipromo_0.8/G17/ee895b20e71db0cda642d1ebc9ffc7a2987b5bf7736171794b339dbc76c88dd2_3300.profile => 243\n"
     ]
    },
    {
     "name": "stderr",
     "output_type": "stream",
     "text": [
      "\r",
      " 44%|████▍     | 70/159 [00:21<00:24,  3.62it/s]"
     ]
    },
    {
     "name": "stdout",
     "output_type": "stream",
     "text": [
      "ERR length too long: ./data/tree-rep-profiles_o2o/small_short/47.mikey_0.8/G132/5960e7aff7dc05c3e8c14edd5306c10c90125554ff544f2522765c7ee301a6c7_3280.profile => 254\n",
      "ERR length too long: ./data/tree-rep-profiles_o2o/small_short/47.mikey_0.8/G132/53b8f9136307efe75c0d8d95270d7494236102eba97411fecde17f3a36e902da_3416.profile => 272\n",
      "ERR length too long: ./data/tree-rep-profiles_o2o/small_short/47.mikey_0.8/G131/4065e1545701bedccf44de0900d0b82ede8ea04fb1f73413838cda5be5e7252a_3712.profile => 490\n",
      "ERR length too long: ./data/tree-rep-profiles_o2o/small_short/47.mikey_0.8/G131/4065e1545701bedccf44de0900d0b82ede8ea04fb1f73413838cda5be5e7252a_3256.profile => 452\n"
     ]
    },
    {
     "name": "stderr",
     "output_type": "stream",
     "text": [
      "\r",
      " 45%|████▍     | 71/159 [00:22<00:30,  2.92it/s]"
     ]
    },
    {
     "name": "stdout",
     "output_type": "stream",
     "text": [
      "ERR length too long: ./data/tree-rep-profiles_o2o/small_short/14.hotbar_0.8/G348/0ad9019bce8a73f6932a469d3091ef07dc9fb53935a2bb26c95b1c3b85814b3c_3404.profile => 675\n",
      "ERR length too long: ./data/tree-rep-profiles_o2o/small_short/14.hotbar_0.8/G348/0cfbc15357460116bdbb60f7aca1ba0c2db759745c9e09d743eac9fd2c5c1073_3308.profile => 676\n",
      "ERR length too long: ./data/tree-rep-profiles_o2o/small_short/14.hotbar_0.8/G343/077f46e3cebd0a8ccac448bde20b3e684fbf1ebcd2c379255c663b41e41ba2bd_3336.profile => 383\n",
      "ERR length too long: ./data/tree-rep-profiles_o2o/small_short/14.hotbar_0.8/G343/14ea85c6d5814c5eb4d4bfc04e62e88b96258836b70f2d1d83c18d525d2f67cf_3100.profile => 383\n",
      "ERR length too long: ./data/tree-rep-profiles_o2o/small_short/14.hotbar_0.8/G349/164cce2bdf666762e79c587c13d11f4ff776f56a00dac20fc6c6cbbc9be2295e_3256.profile => 246\n",
      "ERR length too long: ./data/tree-rep-profiles_o2o/small_short/14.hotbar_0.8/G349/164cce2bdf666762e79c587c13d11f4ff776f56a00dac20fc6c6cbbc9be2295e_3348.profile => 250\n",
      "ERR length too long: ./data/tree-rep-profiles_o2o/small_short/14.hotbar_0.8/G338/fc0651fa6506a170aeac6f3fd2a3843ae20f3ebfaccd8feac28b34cdbdc85dd7_3256.profile => 376\n",
      "ERR length too long: ./data/tree-rep-profiles_o2o/small_short/14.hotbar_0.8/G338/fc0651fa6506a170aeac6f3fd2a3843ae20f3ebfaccd8feac28b34cdbdc85dd7_3320.profile => 376\n"
     ]
    },
    {
     "name": "stderr",
     "output_type": "stream",
     "text": [
      "\r",
      " 46%|████▌     | 73/159 [00:22<00:24,  3.47it/s]"
     ]
    },
    {
     "name": "stdout",
     "output_type": "stream",
     "text": [
      "ERR length too long: ./data/tree-rep-profiles_o2o/small_short/29.parite_0.8/G219/f7a040c9b5da48b8130b9c5e7cbcd32927bf8b27d41008063d1d11a67ea45ea7_3228.profile => 296\n",
      "ERR length too long: ./data/tree-rep-profiles_o2o/small_short/29.parite_0.8/G219/f7a040c9b5da48b8130b9c5e7cbcd32927bf8b27d41008063d1d11a67ea45ea7_3336.profile => 296\n",
      "ERR length too long: ./data/tree-rep-profiles_o2o/small_short/29.parite_0.8/G238/59e4eb2df2128208c56ccdda79d8b7e56a5f83cb953273bfc618b418a84b8262_3268.profile => 341\n",
      "ERR length too long: ./data/tree-rep-profiles_o2o/small_short/29.parite_0.8/G238/b260d2384090405e0c52ba282e41e7843c5a2ee960190c6eb6a90f13d65ad3d1_3308.profile => 341\n",
      "ERR length too long: ./data/tree-rep-profiles_o2o/small_short/29.parite_0.8/G264/6b0a315a56b7dd7e1c0a4fae18d487069ab9562bdd0163811f09ab12af261ae3_428.profile => 275\n",
      "ERR length too long: ./data/tree-rep-profiles_o2o/small_short/29.parite_0.8/G264/6b1fa2ec3fa6a8059fab46c84e8c5f0f56f65dffffe16bf618aeae92e7a64b3d_428.profile => 285\n"
     ]
    },
    {
     "name": "stderr",
     "output_type": "stream",
     "text": [
      "\r",
      " 47%|████▋     | 74/159 [00:22<00:29,  2.88it/s]"
     ]
    },
    {
     "name": "stdout",
     "output_type": "stream",
     "text": [
      "ERR length too long: ./data/tree-rep-profiles_o2o/small_short/1.fakeav_0.8/G2096/0a68af4bb20bbbfb39478258e6a9f79a09eefffda4c7869eaba0ea02d5cf7488_3408.profile => 822\n",
      "ERR length too long: ./data/tree-rep-profiles_o2o/small_short/1.fakeav_0.8/G2096/0bf37d24813118b226c25004890524e6e27cb940988c74c72b2c0918dd87bdcb_3320.profile => 817\n",
      "ERR length too long: ./data/tree-rep-profiles_o2o/small_short/1.fakeav_0.8/G2064/11f1f4040fe5b99bda77267ca3e1826eb155b666f844a38d2977e63f7a15aef1_3276.profile => 676\n",
      "ERR length too long: ./data/tree-rep-profiles_o2o/small_short/1.fakeav_0.8/G2064/0fa740f75387ac7c35196c92c29b41de5bd74d3cca41f6ba4ff7ee7e96da8d66_3388.profile => 676\n",
      "ERR length too long: ./data/tree-rep-profiles_o2o/small_short/1.fakeav_0.8/G1832/59d02f826a429edc066f30780b91bedc89098930e0788f86fcbf10d9fff46f19_3140.profile => 341\n",
      "ERR length too long: ./data/tree-rep-profiles_o2o/small_short/1.fakeav_0.8/G1832/7af42dd9d325cfa006185cf21191d611ee65e9bdbebcda1668be196e99ca8961_3316.profile => 341\n",
      "ERR length too long: ./data/tree-rep-profiles_o2o/small_short/1.fakeav_0.8/G2004/0f94368cfad4581dad11fc08f9e9dce017fbf8e4f7a54103c728e24d1c4444aa_3348.profile => 237\n",
      "ERR length too long: ./data/tree-rep-profiles_o2o/small_short/1.fakeav_0.8/G2004/0f57def69d957ce742ddc7a4cb5c2ce99f7f7ae8cfae5ef25272121cea68cc30_3336.profile => 233\n",
      "ERR length too long: ./data/tree-rep-profiles_o2o/small_short/1.fakeav_0.8/G1983/96c0287687ffee3e5b3c1d534b62c9d1e23abe44566e6c72576890d6cb5db884_1260.profile => 244\n",
      "ERR length too long: ./data/tree-rep-profiles_o2o/small_short/1.fakeav_0.8/G1983/3e9454778c70acd2a7a4cc660037d6efadd963d1f5f78bc578ebc6bdb8642b8f_1084.profile => 244\n",
      "ERR length too long: ./data/tree-rep-profiles_o2o/small_short/1.fakeav_0.8/G2086/1f30a630f65f57da5d6b098cd1a91dff4753bbc4db22cbdd983c8173773acc83_3312.profile => 737\n",
      "ERR length too long: ./data/tree-rep-profiles_o2o/small_short/1.fakeav_0.8/G2086/06a8398c638fbb39eaf542aefef48ef8a33c2f2e20e82593107125000d9d9bde_3304.profile => 749\n",
      "ERR length too long: ./data/tree-rep-profiles_o2o/small_short/1.fakeav_0.8/G2010/13b10a3f8bf6a3f14f7950211a233f50931c1cca8088ab6e1ee8be42933cb762_2836.profile => 545\n",
      "ERR length too long: ./data/tree-rep-profiles_o2o/small_short/1.fakeav_0.8/G2010/02ffd2ad60d74f72c676ed83a458602d220fe4dc99e0a710ab657bdb3819c0c1_2904.profile => 546\n"
     ]
    },
    {
     "name": "stderr",
     "output_type": "stream",
     "text": [
      "\r",
      " 47%|████▋     | 75/159 [00:24<01:01,  1.36it/s]"
     ]
    },
    {
     "name": "stdout",
     "output_type": "stream",
     "text": [
      "ERR length too long: ./data/tree-rep-profiles_o2o/small_short/37.somoto_0.8/G191/11e5a9bb72475070d04809b63c338fab025d035d77bb091a86547b49a495f96c_2868.profile => 532\n",
      "ERR length too long: ./data/tree-rep-profiles_o2o/small_short/37.somoto_0.8/G191/06b3d096a73319acd3de324d0f86015771a14e7f022dd190642b16e6a45bf3f8_3176.profile => 532\n"
     ]
    },
    {
     "name": "stderr",
     "output_type": "stream",
     "text": [
      "\r",
      " 48%|████▊     | 76/159 [00:24<00:52,  1.57it/s]"
     ]
    },
    {
     "name": "stdout",
     "output_type": "stream",
     "text": [
      "ERR length too long: ./data/tree-rep-profiles_o2o/small_short/144.cosmu_0.8/G21/0db144fa94bf69b8b00574453c60337149a8ac5a9d54ea9787a5db13766440be_3416.profile => 513\n",
      "ERR length too long: ./data/tree-rep-profiles_o2o/small_short/144.cosmu_0.8/G21/01c0ed0d180976ce4951fabeddaf534467985aee29ed0f599648b9628ed1949c_3328.profile => 513\n",
      "ERR length too long: ./data/tree-rep-profiles_o2o/small_short/8.fakealert_0.8/G486/05ceae47062df72f266edf3502094932eadb898ea9fd3a66537aad255d4a5ce2_3268.profile => 439\n",
      "ERR length too long: ./data/tree-rep-profiles_o2o/small_short/8.fakealert_0.8/G486/035bb2108a45847adb999c3350ba216cf2464ad6d75b5996c87fd3d110cc04ff_3296.profile => 448\n",
      "ERR length too long: ./data/tree-rep-profiles_o2o/small_short/8.fakealert_0.8/G459/070fae0c769e646c3ef4f489406c0c5777f8c61e2fa20882e46e4be70556b1a8_3280.profile => 532\n",
      "ERR length too long: ./data/tree-rep-profiles_o2o/small_short/8.fakealert_0.8/G459/019c1e95430a67b5bf3491512b108111560a0bd3f3d6b829456feec520826da8_3220.profile => 532\n",
      "ERR length too long: ./data/tree-rep-profiles_o2o/small_short/8.fakealert_0.8/G500/08a5f122414c5d6035ac4fb48bef138fd2e26f4bd4f424e0eb7c70f7de4373a9_3280.profile => 753\n",
      "ERR length too long: ./data/tree-rep-profiles_o2o/small_short/8.fakealert_0.8/G500/120c97fd87e94f9b6f7098f621c15ae4d1054e5acc72ffdc87d92e516cc91e48_2912.profile => 713\n"
     ]
    },
    {
     "name": "stderr",
     "output_type": "stream",
     "text": [
      " 51%|█████     | 81/159 [00:25<00:25,  3.02it/s]"
     ]
    },
    {
     "name": "stdout",
     "output_type": "stream",
     "text": [
      "ERR length too long: ./data/tree-rep-profiles_o2o/small_short/76.chir_0.8/G86/1e975e93045f2364c66c6d4d64155a4aa558aaf668ff7d2e5149f9c5520d2964_2856.profile => 507\n",
      "ERR length too long: ./data/tree-rep-profiles_o2o/small_short/76.chir_0.8/G86/164c38b07df248271b25eda46f4db2dbaa4b2a3dff22a0515191e97a123142ec_3240.profile => 552\n",
      "ERR length too long: ./data/tree-rep-profiles_o2o/small_short/38.firseria_0.8/G191/3e93f62055147867fba3a3b8bcf7d9546cdd82aa45f1de126b68dae62d742c04_3412.profile => 357\n",
      "ERR length too long: ./data/tree-rep-profiles_o2o/small_short/38.firseria_0.8/G191/23e9da03eff2ff2c105ecd1ad5426456a8467b9c70361574fe27a07db22b693f_3456.profile => 372\n",
      "ERR length too long: ./data/tree-rep-profiles_o2o/small_short/38.firseria_0.8/G166/d45ad1a9a0cd1744e9f5627bc17f154d65d3b52a286ef5b34dd63f7bab8d5d9b_1424.profile => 229\n",
      "ERR length too long: ./data/tree-rep-profiles_o2o/small_short/38.firseria_0.8/G166/b57072058dd15f8d4c9f5d9eb3e16cb541ccf2ee1f17d498d4837b604c2dfd66_3400.profile => 229\n",
      "ERR length too long: ./data/tree-rep-profiles_o2o/small_short/38.firseria_0.8/G184/747bab4a5e50d1372ce94fcc5d0985649cfb59c397813aa15ebb63bee4cad1ad_3208.profile => 262\n",
      "ERR length too long: ./data/tree-rep-profiles_o2o/small_short/38.firseria_0.8/G184/747bab4a5e50d1372ce94fcc5d0985649cfb59c397813aa15ebb63bee4cad1ad_3476.profile => 262\n"
     ]
    },
    {
     "name": "stderr",
     "output_type": "stream",
     "text": [
      "\r",
      " 52%|█████▏    | 82/159 [00:25<00:21,  3.54it/s]"
     ]
    },
    {
     "name": "stdout",
     "output_type": "stream",
     "text": [
      "ERR length too long: ./data/tree-rep-profiles_o2o/small_short/38.firseria_0.8/G179/87f87e3bcbbc3de68f7199cba1b2b4cdcff8f9730d752bace0d73b67140464e1_3320.profile => 292\n",
      "ERR length too long: ./data/tree-rep-profiles_o2o/small_short/38.firseria_0.8/G179/893e205d240706c77d58d42e04545490b57fe51bcb48fbd4c6beebce1a0de1de_3320.profile => 292\n",
      "ERR length too long: ./data/tree-rep-profiles_o2o/small_short/38.firseria_0.8/G178/100f5ab046772cf7fcdf4fb3df936171121f54b6189b1589c8ec78705622de39_3388.profile => 442\n",
      "ERR length too long: ./data/tree-rep-profiles_o2o/small_short/38.firseria_0.8/G178/1e1d0d8df2ffa79f3b253532c0aaced729d62379631e66dda950a91c3e7beef9_3228.profile => 444\n",
      "ERR length too long: ./data/tree-rep-profiles_o2o/small_short/38.firseria_0.8/G185/233a2f19144826c25d093ca7f7d2bfd630c4bc324ce5aea277e37142e06984d0_3396.profile => 292\n",
      "ERR length too long: ./data/tree-rep-profiles_o2o/small_short/38.firseria_0.8/G185/233a2f19144826c25d093ca7f7d2bfd630c4bc324ce5aea277e37142e06984d0_2928.profile => 293\n"
     ]
    },
    {
     "name": "stderr",
     "output_type": "stream",
     "text": [
      " 54%|█████▍    | 86/159 [00:26<00:13,  5.34it/s]"
     ]
    },
    {
     "name": "stdout",
     "output_type": "stream",
     "text": [
      "ERR length too long: ./data/tree-rep-profiles_o2o/small_short/87.adload_0.8/G43/65cb7f4af958d0ea8f1ccfa9130cc52bd2e8ccda9118f946109d56b50fb53912_3352.profile => 640\n",
      "ERR length too long: ./data/tree-rep-profiles_o2o/small_short/87.adload_0.8/G43/65cb7f4af958d0ea8f1ccfa9130cc52bd2e8ccda9118f946109d56b50fb53912_2980.profile => 640\n",
      "ERR length too long: ./data/tree-rep-profiles_o2o/small_short/87.adload_0.8/G48/1f1b93046173ac10ba59e44d9a9494df573fb049922a16a5f5be45f4781e9155_3024.profile => 260\n",
      "ERR length too long: ./data/tree-rep-profiles_o2o/small_short/87.adload_0.8/G48/1f1b93046173ac10ba59e44d9a9494df573fb049922a16a5f5be45f4781e9155_3364.profile => 257\n",
      "ERR length too long: ./data/tree-rep-profiles_o2o/small_short/89.downloadguide_0.8/G41/4e1610dbb361f78660959ca33b27d581ed66c4a0dc70b6f274cd6f6e9dcb5309_3352.profile => 780\n",
      "ERR length too long: ./data/tree-rep-profiles_o2o/small_short/89.downloadguide_0.8/G41/22067b04a1d92161e787c2a241d5fc4f954a4269031ec30964f55116c2ed04b2_3356.profile => 808\n"
     ]
    },
    {
     "name": "stderr",
     "output_type": "stream",
     "text": [
      " 56%|█████▌    | 89/159 [00:27<00:17,  4.03it/s]"
     ]
    },
    {
     "name": "stdout",
     "output_type": "stream",
     "text": [
      "ERR length too long: ./data/tree-rep-profiles_o2o/small_short/62.directdow_0.8/G177/0e60a0847a46add84f29398fa19368ec3bcc7a38dbc1e20851baa43db7bb311a_3352.profile => 503\n",
      "ERR length too long: ./data/tree-rep-profiles_o2o/small_short/62.directdow_0.8/G177/11f145e661d9ba5d83971492eb46b5c87557504ec1ae8176d31c9e663f73ceb5_3248.profile => 502\n"
     ]
    },
    {
     "name": "stderr",
     "output_type": "stream",
     "text": [
      "\r",
      " 57%|█████▋    | 90/159 [00:27<00:15,  4.50it/s]"
     ]
    },
    {
     "name": "stdout",
     "output_type": "stream",
     "text": [
      "ERR length too long: ./data/tree-rep-profiles_o2o/small_short/78.koutodoor_0.8/G51/00dca0f3b0faf88ef1921a2c53a90ab4410c4c56ce864f2da9d3f17102e4d7c4_3304.profile => 564\n",
      "ERR length too long: ./data/tree-rep-profiles_o2o/small_short/78.koutodoor_0.8/G51/0c989607f86403690b99fab9f87dfd646ba7ebcd6ae933f5ffbd8aaf238b3054_3348.profile => 564\n",
      "ERR length too long: ./data/tree-rep-profiles_o2o/small_short/78.koutodoor_0.8/G50/12fcfc94bf793d77ca83593e91470bad82bcac4b52cc15af93f2459d7134252e_2904.profile => 498\n",
      "ERR length too long: ./data/tree-rep-profiles_o2o/small_short/78.koutodoor_0.8/G50/085d3e5f15ddab98df2765b19ac05d06256f389c0ac0a3fc3468c5b49c78a93e_2876.profile => 529\n"
     ]
    },
    {
     "name": "stderr",
     "output_type": "stream",
     "text": [
      " 58%|█████▊    | 92/159 [00:27<00:13,  5.07it/s]"
     ]
    },
    {
     "name": "stdout",
     "output_type": "stream",
     "text": [
      "ERR length too long: ./data/tree-rep-profiles_o2o/small_short/50.shodi_0.8/G116/00f3b33450e95ba57b6aa0caad1241629ae5cf0993f5314332ab9df659d3e45f_3380.profile => 509\n",
      "ERR length too long: ./data/tree-rep-profiles_o2o/small_short/50.shodi_0.8/G116/88232b13d16efa06b53d211e568198771148aee0db04f8afcd3de9d51d28f84a_2916.profile => 498\n",
      "ERR length too long: ./data/tree-rep-profiles_o2o/small_short/24.softpulse_0.8/G300/fb26bea6764cf9f2be11f0af0fe9924a48361800c94bb393d3302131ad3be199_3360.profile => 297\n",
      "ERR length too long: ./data/tree-rep-profiles_o2o/small_short/24.softpulse_0.8/G300/90df5daf5b1510d9722dbf41e0b593bc3e0432e3b8555945df4eee8f3706be50_3224.profile => 296\n",
      "ERR length too long: ./data/tree-rep-profiles_o2o/small_short/24.softpulse_0.8/G298/b4913425fa50c6d992125a3b7001d6e6b743b9d25e2d355a2bba8c3346134213_3432.profile => 297\n",
      "ERR length too long: ./data/tree-rep-profiles_o2o/small_short/24.softpulse_0.8/G298/1d0308a817098c631c08a55ad7760ef9ee1a1fe0b3490158f2f937129fdea86c_3368.profile => 297\n"
     ]
    },
    {
     "name": "stderr",
     "output_type": "stream",
     "text": [
      "\r",
      " 58%|█████▊    | 93/159 [00:28<00:22,  2.97it/s]"
     ]
    },
    {
     "name": "stdout",
     "output_type": "stream",
     "text": [
      "ERR length too long: ./data/tree-rep-profiles_o2o/small_short/24.softpulse_0.8/G307/cef9ebca9a030319877ea1c3d12562806ea2e655c117143524e9c48e314af6ad_3360.profile => 712\n",
      "ERR length too long: ./data/tree-rep-profiles_o2o/small_short/24.softpulse_0.8/G307/bbf29bd54aeff7ff6d53dad26b5378dcc8b06705e7ba7e367a9230e5ae28c35a_3260.profile => 667\n",
      "ERR length too long: ./data/tree-rep-profiles_o2o/small_short/24.softpulse_0.8/G308/296f7155808563aacf269b627bbeab2e60e02e6ab1e7d2106fbcc794af835ebb_3400.profile => 256\n",
      "ERR length too long: ./data/tree-rep-profiles_o2o/small_short/24.softpulse_0.8/G308/2e3bb9cc361708da84852baaff3fb988429b3da8fddf9a2559ae7081789abbdc_2972.profile => 253\n"
     ]
    },
    {
     "name": "stderr",
     "output_type": "stream",
     "text": [
      "\r",
      " 59%|█████▉    | 94/159 [00:28<00:18,  3.54it/s]"
     ]
    },
    {
     "name": "stdout",
     "output_type": "stream",
     "text": [
      "ERR length too long: ./data/tree-rep-profiles_o2o/small_short/21.soft_0.8/G223/0fbc0b1e68a8a1688d1c20b4201e3981a42be79e034cd0bef767fe97937e2742_3196.profile => 374\n",
      "ERR length too long: ./data/tree-rep-profiles_o2o/small_short/21.soft_0.8/G223/9ca36900cbee400a38333e29bad56d219dc18304a88c795f9e69c924e69edc5f_3380.profile => 420\n"
     ]
    },
    {
     "name": "stderr",
     "output_type": "stream",
     "text": [
      " 63%|██████▎   | 100/159 [00:29<00:11,  5.19it/s]"
     ]
    },
    {
     "name": "stdout",
     "output_type": "stream",
     "text": [
      "ERR length too long: ./data/tree-rep-profiles_o2o/small_short/21.soft_0.8/G222/92e88c842a80e923069cf6e3a82c5a49b192240fc0ab74f8cde6d0cfef8e5987_3372.profile => 252\n",
      "ERR length too long: ./data/tree-rep-profiles_o2o/small_short/21.soft_0.8/G222/0f5d921e35e557d0e8868d23a5f06b0619142c89288dbe0de537dd5c5aa5df5c_3076.profile => 267\n",
      "ERR length too long: ./data/tree-rep-profiles_o2o/small_short/163.klez_0.8/G19/0e2c1db70d7a5cadf48450a335801b4ff3fe59c9a515b86991a8e330d4d0f8dd_2980.profile => 711\n",
      "ERR length too long: ./data/tree-rep-profiles_o2o/small_short/163.klez_0.8/G19/5dbb412278f4c58f28ad8d40ecf2a92f277acdd9738723804f9935b489ea5222_3448.profile => 612\n",
      "ERR length too long: ./data/tree-rep-profiles_o2o/small_short/88.rebhip_0.8/G38/f90c2402558c2c5b1f49b253d4720a27173ace0ce918d4bb5df6e2a1d34c3ee9_3384.profile => 456\n",
      "ERR length too long: ./data/tree-rep-profiles_o2o/small_short/88.rebhip_0.8/G38/47a67899bb326c546464bce22fbec6247177b81f3a04384e80f598e43c7d0234_3232.profile => 451\n",
      "ERR length too long: ./data/tree-rep-profiles_o2o/small_short/60.mydoom_0.8/G100/0c46328b2fbb0e1d8cfaec89efef485c9e741a2951507e2436eae6f7a0e58762_3264.profile => 436\n",
      "ERR length too long: ./data/tree-rep-profiles_o2o/small_short/60.mydoom_0.8/G100/0d82f0994d09e7b8c3aeeb1e6df7705741a418a057150432f0f13eb7f9909c24_3384.profile => 395\n",
      "ERR length too long: ./data/tree-rep-profiles_o2o/small_short/176.brontok_0.8/G35/2ceba9babb27c73a13f7f5c53248909e8b819d1283b571da097c68b1bcb73d5c_3304.profile => 255\n"
     ]
    },
    {
     "name": "stderr",
     "output_type": "stream",
     "text": [
      "\r",
      " 64%|██████▍   | 102/159 [00:29<00:10,  5.63it/s]"
     ]
    },
    {
     "name": "stdout",
     "output_type": "stream",
     "text": [
      "ERR length too long: ./data/tree-rep-profiles_o2o/small_short/176.brontok_0.8/G35/2ceba9babb27c73a13f7f5c53248909e8b819d1283b571da097c68b1bcb73d5c_3340.profile => 270\n",
      "ERR length too long: ./data/tree-rep-profiles_o2o/small_short/176.brontok_0.8/G37/013ef7ab4bda626489e7188615124544218b7696846283b222d472d69d00a236_2944.profile => 519\n",
      "ERR length too long: ./data/tree-rep-profiles_o2o/small_short/176.brontok_0.8/G37/030e6b21f04ee028cc3702d58344f61e4a1f662e213493502a04121f83103412_2944.profile => 565\n"
     ]
    },
    {
     "name": "stderr",
     "output_type": "stream",
     "text": [
      " 68%|██████▊   | 108/159 [00:29<00:06,  8.38it/s]"
     ]
    },
    {
     "name": "stdout",
     "output_type": "stream",
     "text": [
      "ERR length too long: ./data/tree-rep-profiles_o2o/small_short/114.rbot_0.8/G33/0d83c294346ba0d5547ba4abe83c87fe4878c6bc3149b23b084f61a840278432_3412.profile => 498\n",
      "ERR length too long: ./data/tree-rep-profiles_o2o/small_short/114.rbot_0.8/G33/14b4cc2e21a3078d7ec47ec6c79433b25f68fc8e8ff500b2eb83ada9ca115256_2852.profile => 516\n",
      "ERR length too long: ./data/tree-rep-profiles_o2o/small_short/54.fesber_0.8/G330/080d7adda14e0fdde2c22ceefc79603b0d0238ee8910749ab6a42f27ad33d81b_3268.profile => 676\n",
      "ERR length too long: ./data/tree-rep-profiles_o2o/small_short/54.fesber_0.8/G330/0cad98a13448b533102fe2db170e2af7d89b5d944d6cb40775868ded9b0a9d7c_3356.profile => 675\n",
      "ERR length too long: ./data/tree-rep-profiles_o2o/small_short/54.fesber_0.8/G325/14d7fe211331d2d461d7679d98b5d291d8c6edc6e8886c6835c586a4edf0b1fe_3284.profile => 513\n",
      "ERR length too long: ./data/tree-rep-profiles_o2o/small_short/54.fesber_0.8/G325/07fc0b3466b184567a91ace90a2db3640f973f113252b44dffb29eb1e25d4468_3276.profile => 517\n"
     ]
    },
    {
     "name": "stderr",
     "output_type": "stream",
     "text": [
      "\r",
      " 69%|██████▉   | 110/159 [00:30<00:10,  4.78it/s]"
     ]
    },
    {
     "name": "stdout",
     "output_type": "stream",
     "text": [
      "ERR length too long: ./data/tree-rep-profiles_o2o/small_short/36.delf_0.8/G145/1eb67288d2e5346df2260220062c11396ca3b139850486e9b860453289ccd5e2_2952.profile => 252\n",
      "ERR length too long: ./data/tree-rep-profiles_o2o/small_short/36.delf_0.8/G145/240cb38859a64f7717bc797996d2953489413553fd96c557980c0e9856605cab_3396.profile => 252\n",
      "ERR length too long: ./data/tree-rep-profiles_o2o/small_short/36.delf_0.8/G152/f0316cb77e3119ce0a737abb9e90f60607e33755d6de8d0f0daf330a932610b1_2988.profile => 1010\n",
      "ERR length too long: ./data/tree-rep-profiles_o2o/small_short/36.delf_0.8/G152/9b079208af3e0d8a5bc2351145973d3ed3312713db82c03acb361bc940777e70_3204.profile => 1084\n",
      "ERR length too long: ./data/tree-rep-profiles_o2o/small_short/36.delf_0.8/G151/731c49e2b1e2d4ebe6891de3c7d07e74d7a99fb5e979d40b8e54219288d4427c_3204.profile => 9861\n",
      "ERR length too long: ./data/tree-rep-profiles_o2o/small_short/36.delf_0.8/G151/0a5451f49dd4a5e5262b1f2318437f78540851f9f0fb0994ebcd71b7cb6a3ff9_3000.profile => 11008\n",
      "ERR length too long: ./data/tree-rep-profiles_o2o/small_short/67.mywebsearch_0.8/G80/0e6441c7d2666b4e0d6cc8896ab3efa049ddd4ca2fb293f8edc3a609e325bad3_3276.profile => 532\n",
      "ERR length too long: ./data/tree-rep-profiles_o2o/small_short/67.mywebsearch_0.8/G80/1f8f52d43ca5d119ffefe03e74b15cf23573e9ce1b4ba9f9b0bf4f1f09f03503_2892.profile => 532\n",
      "ERR length too long: ./data/tree-rep-profiles_o2o/small_short/67.mywebsearch_0.8/G79/116f5e3dae3a9664b22359c269b0d8c06964453ff5130026250fd43a93b5ba0d_3344.profile => 436\n",
      "ERR length too long: ./data/tree-rep-profiles_o2o/small_short/67.mywebsearch_0.8/G79/07f9c0fd69231026038d190fdaeea5e3743677e6f2a47d41890d0e72f9d72e37_2912.profile => 436\n",
      "ERR length too long: ./data/tree-rep-profiles_o2o/small_short/28.strictor_0.8/G197/d0381b065f2fe792c1bc495b11f8bf465be05e59707c5a9abd8f6db3787645b0_3424.profile => 443\n",
      "ERR length too long: ./data/tree-rep-profiles_o2o/small_short/28.strictor_0.8/G197/5ad0ce3719f7c7580acac82a2a2728ecd70176eae8e7f6b3c1e008560f10f09a_3316.profile => 434\n",
      "ERR length too long: ./data/tree-rep-profiles_o2o/small_short/28.strictor_0.8/G200/bad455e3906cca93d5faccbcb69f1ba37c701b0f8e75db6acfb52fe605ea34aa_3320.profile => 255\n",
      "ERR length too long: ./data/tree-rep-profiles_o2o/small_short/28.strictor_0.8/G200/6a9f78eab77db66683d2c28de6ab22fc8e7de1e3b3bc7bbd06b8d485fea9d2db_3220.profile => 259\n",
      "ERR length too long: ./data/tree-rep-profiles_o2o/small_short/28.strictor_0.8/G192/59b10ea956d52bce6abfe6eb00d08575e8b22a734b623c383332fd689b50704f_3288.profile => 443\n",
      "ERR length too long: ./data/tree-rep-profiles_o2o/small_short/28.strictor_0.8/G192/59b10ea956d52bce6abfe6eb00d08575e8b22a734b623c383332fd689b50704f_3260.profile => 442\n"
     ]
    },
    {
     "name": "stderr",
     "output_type": "stream",
     "text": [
      "\r",
      " 71%|███████   | 113/159 [00:30<00:08,  5.14it/s]"
     ]
    },
    {
     "name": "stdout",
     "output_type": "stream",
     "text": [
      "ERR length too long: ./data/tree-rep-profiles_o2o/small_short/22.razy_0.8/G257/0b9c9bce9e4a9e9264e5a5630ba64dc2fd0d8f287e02fafb3cb4a8c68199ffc0_3420.profile => 431\n",
      "ERR length too long: ./data/tree-rep-profiles_o2o/small_short/22.razy_0.8/G257/0b2a1997447338e7c45cb1db1f376b2fb7a10f366e06d500944727a86cc16ed9_2912.profile => 403\n",
      "ERR length too long: ./data/tree-rep-profiles_o2o/small_short/22.razy_0.8/G253/075c145356d2c9d310fc52efe05bd09e39c7e3469408a3dbb7886a9cb2b38999_3264.profile => 532\n",
      "ERR length too long: ./data/tree-rep-profiles_o2o/small_short/22.razy_0.8/G253/0e29fea31b7eefac07b365baa9c70ec0bc2a39b958cb3f9bf4ae372e7a329727_3448.profile => 532\n",
      "ERR length too long: ./data/tree-rep-profiles_o2o/small_short/22.razy_0.8/G261/0e0972302eaabdf4a50760f12c1fc93f83ff1eb7c05385df3b46e83c18da5378_3628.profile => 270\n"
     ]
    },
    {
     "name": "stderr",
     "output_type": "stream",
     "text": [
      "\r",
      " 72%|███████▏  | 114/159 [00:31<00:12,  3.68it/s]"
     ]
    },
    {
     "name": "stdout",
     "output_type": "stream",
     "text": [
      "ERR length too long: ./data/tree-rep-profiles_o2o/small_short/73.yantai_0.8/G46/25caf8823f52d495786c80169158de889e9535e3f56a99d9382857debc159453_3448.profile => 507\n",
      "ERR length too long: ./data/tree-rep-profiles_o2o/small_short/73.yantai_0.8/G46/b369770b69c983d174bc98124c970578eb8d00b13557c95fdcff5dc9bc2500fb_3352.profile => 498\n",
      "ERR length too long: ./data/tree-rep-profiles_o2o/small_short/108.zegost_0.8/G30/14e7329a7a0981e2ae31663994a0e2f48ce30d916904217c1ee14d948b8f7270_3248.profile => 516\n",
      "ERR length too long: ./data/tree-rep-profiles_o2o/small_short/108.zegost_0.8/G30/161d36e42eb1fc417b216483c0980defb2d41f4298ecba8d3f119ff8d7f66dcf_3240.profile => 506\n"
     ]
    },
    {
     "name": "stderr",
     "output_type": "stream",
     "text": [
      " 76%|███████▌  | 121/159 [00:31<00:06,  6.03it/s]"
     ]
    },
    {
     "name": "stdout",
     "output_type": "stream",
     "text": [
      "ERR length too long: ./data/tree-rep-profiles_o2o/small_short/196.ripinip_0.8/G19/00a3f7ffed25497cf06818cd7794f5e4a799fe60afa91b99c0ed66b445fd8c18_3380.profile => 532\n",
      "ERR length too long: ./data/tree-rep-profiles_o2o/small_short/196.ripinip_0.8/G19/0f60024916ae17d9fdee54a847853f217999637344a30998625ae5a7e711b583_3236.profile => 532\n",
      "ERR length too long: ./data/tree-rep-profiles_o2o/small_short/196.ripinip_0.8/G20/01cf1510d4ad0d3f34f7078de9898bd4ac118890d48b371af16432bfa4a47824_3132.profile => 248\n",
      "ERR length too long: ./data/tree-rep-profiles_o2o/small_short/196.ripinip_0.8/G20/01cf1510d4ad0d3f34f7078de9898bd4ac118890d48b371af16432bfa4a47824_3260.profile => 240\n",
      "ERR length too long: ./data/tree-rep-profiles_o2o/small_short/161.crossrider_0.8/G17/b857007c30495c6bcec999ddcca195a2292d383022758876a831a2fe9b03215d_2908.profile => 229\n",
      "ERR length too long: ./data/tree-rep-profiles_o2o/small_short/161.crossrider_0.8/G17/b857007c30495c6bcec999ddcca195a2292d383022758876a831a2fe9b03215d_3336.profile => 229\n",
      "ERR length too long: ./data/tree-rep-profiles_o2o/small_short/119.shipup_0.8/G20/15500f6869e70ec7e95ec25c749a7315125fd7d394e295f25cc3e240111d82be_3452.profile => 512\n",
      "ERR length too long: ./data/tree-rep-profiles_o2o/small_short/119.shipup_0.8/G20/178778b3a3755d823eaa351f22c200ac8154bc504558dc816c0a01444b4a336f_3476.profile => 514\n",
      "ERR length too long: ./data/tree-rep-profiles_o2o/small_short/10.symmi_0.8/G551/4e63da4925aebc81bf8e4ad571a94e819dd2dd9cc13031e2c80259c723dd9416_428.profile => 266\n",
      "ERR length too long: ./data/tree-rep-profiles_o2o/small_short/10.symmi_0.8/G551/b3c29c98eb3160d7f016a9f2a104070cca51a281a62ce3eb922ce1a890aaa0a0_444.profile => 265\n",
      "ERR length too long: ./data/tree-rep-profiles_o2o/small_short/10.symmi_0.8/G584/1d1aadc3ac884a16f1f39be110f92eee416e497ad0322f89f7afcf9a3b8e03eb_3320.profile => 676\n",
      "ERR length too long: ./data/tree-rep-profiles_o2o/small_short/10.symmi_0.8/G584/1d06edecf04aa738527d62c567f73940a6d63d6aed26d346f3b05ecabcfc3b56_3172.profile => 676\n",
      "ERR length too long: ./data/tree-rep-profiles_o2o/small_short/10.symmi_0.8/G576/06c26b260c2bc4161ba56453a88638e3224f200e9ae9825fea9d3686f14db3c0_3356.profile => 676\n",
      "ERR length too long: ./data/tree-rep-profiles_o2o/small_short/10.symmi_0.8/G576/009eb5d5c1e653ae8d2e3236e0e7acff32ec7e2bbb2e2911aa6a34e2389f324d_3292.profile => 675\n",
      "ERR length too long: ./data/tree-rep-profiles_o2o/small_short/10.symmi_0.8/G579/01ea44f528ef4e7f078a8198a72bb730c739586bb54c3b7265596f7fbe3a2e68_3484.profile => 336\n",
      "ERR length too long: ./data/tree-rep-profiles_o2o/small_short/10.symmi_0.8/G579/01ea44f528ef4e7f078a8198a72bb730c739586bb54c3b7265596f7fbe3a2e68_3436.profile => 337\n",
      "ERR length too long: ./data/tree-rep-profiles_o2o/small_short/10.symmi_0.8/G548/6ff06b0c8177ea86cb74934ba2201f93f4b0e62f3905210c59e8cd2e500f1a8e_2984.profile => 1237\n",
      "ERR length too long: ./data/tree-rep-profiles_o2o/small_short/10.symmi_0.8/G548/60edf747dc4fe4ab2c20c5880ee8a84c2169fe8a9d01f4b268a25f9f5d294aed_2900.profile => 1237\n",
      "ERR length too long: ./data/tree-rep-profiles_o2o/small_short/10.symmi_0.8/G583/bedb3e3e49c20dd015a748ae761bcea6e7a73ff57504b0c015b2cc03a5d7bc08_3288.profile => 661\n",
      "ERR length too long: ./data/tree-rep-profiles_o2o/small_short/10.symmi_0.8/G583/aae6f2c5c02ebb9232b3d4988c09f58e741c6a031633e05231176354ce0197d3_3376.profile => 683\n",
      "ERR length too long: ./data/tree-rep-profiles_o2o/small_short/10.symmi_0.8/G591/130e85c0d0b32d92d509b9ef10fb271e6c6aeb47482717ba86c7c734951878ac_3396.profile => 435\n",
      "ERR length too long: ./data/tree-rep-profiles_o2o/small_short/10.symmi_0.8/G591/145a03cf45ec6a7e1e79679fb2656814607c43db5754968f00dbcb48f352a6bc_3364.profile => 450\n"
     ]
    },
    {
     "name": "stderr",
     "output_type": "stream",
     "text": [
      "\r",
      " 77%|███████▋  | 123/159 [00:33<00:11,  3.14it/s]"
     ]
    },
    {
     "name": "stdout",
     "output_type": "stream",
     "text": [
      "ERR length too long: ./data/tree-rep-profiles_o2o/small_short/10.symmi_0.8/G531/20f3fa700747b042634d9d4aa17ba67c4582c0e6c17a6776cd2b62808b920848_3300.profile => 540\n",
      "ERR length too long: ./data/tree-rep-profiles_o2o/small_short/10.symmi_0.8/G531/4b0738af695a072b3fc59bed91b50e494d64b2d652994e0a3dcf590a494eeaa6_3320.profile => 540\n",
      "ERR length too long: ./data/tree-rep-profiles_o2o/small_short/10.symmi_0.8/G588/26878433f1009097ef331c65d559a81431cdf71536ba7e9e3994f781011dea98_3260.profile => 562\n",
      "ERR length too long: ./data/tree-rep-profiles_o2o/small_short/10.symmi_0.8/G588/0ab5f3462a644e8464f62037088bf53e30c5d296584c853f43b9a9ca519d0c21_3288.profile => 504\n",
      "ERR length too long: ./data/tree-rep-profiles_o2o/small_short/33.mira_0.8/G203/6dda801f1df0dc83679143a3ec253af340829f8fed988876b68d017ea275309a_1600.profile => 278\n",
      "ERR length too long: ./data/tree-rep-profiles_o2o/small_short/33.mira_0.8/G203/b84c974fdd7b30589181e7feac9229f86bcbe36410fc0e7d998120e80c0ae36d_2916.profile => 278\n",
      "ERR length too long: ./data/tree-rep-profiles_o2o/small_short/33.mira_0.8/G211/d6ac87737fdfcbbf9ef1c00b01af8634dd40715f36237a5b7891046cec51b95a_2888.profile => 249\n",
      "ERR length too long: ./data/tree-rep-profiles_o2o/small_short/33.mira_0.8/G211/d84cef1726aa31905036206f288f6fa9f965a2cfa7268a8a37a894222ef7c888_3108.profile => 264\n"
     ]
    },
    {
     "name": "stderr",
     "output_type": "stream",
     "text": [
      " 79%|███████▉  | 126/159 [00:33<00:09,  3.53it/s]"
     ]
    },
    {
     "name": "stdout",
     "output_type": "stream",
     "text": [
      "ERR length too long: ./data/tree-rep-profiles_o2o/small_short/33.mira_0.8/G205/f74ad2b8e2579413cf50c9980c05bd0bd54960d2413e3599ba7b070e2a1c5ff7_3000.profile => 502\n",
      "ERR length too long: ./data/tree-rep-profiles_o2o/small_short/33.mira_0.8/G205/ddbb2a8c2996dc2d6e6a8cab036f54005c1483aac302d5804fd6cf8159293c63_3256.profile => 510\n",
      "ERR length too long: ./data/tree-rep-profiles_o2o/small_short/133.installiq_0.8/G32/1f410bf97d25fd2c89dcb9990dd7a57c255b59b6e6ef8debef6f2a628621874d_3308.profile => 498\n",
      "ERR length too long: ./data/tree-rep-profiles_o2o/small_short/133.installiq_0.8/G32/14a341852f774f5e4c0af1759d17d000d29301f6d2b05a2a5ea16dfa9c6ae790_3416.profile => 588\n",
      "ERR length too long: ./data/tree-rep-profiles_o2o/small_short/23.mplug_0.8/G304/942e430268be20b198c57f98ee03732ecb3735d37a2e00c14bd8b0051bdd0b45_424.profile => 277\n",
      "ERR length too long: ./data/tree-rep-profiles_o2o/small_short/23.mplug_0.8/G304/aab26eea3b50120b890cb6db3fe5fd9e0596efeb6b37d3707fa752b7fdd74188_428.profile => 277\n",
      "ERR length too long: ./data/tree-rep-profiles_o2o/small_short/23.mplug_0.8/G324/13ef0fb4062141eebed6ae8d1b4d20765b92745a874bfe1764031d04918e27d4_2932.profile => 484\n",
      "ERR length too long: ./data/tree-rep-profiles_o2o/small_short/23.mplug_0.8/G324/09c29d408d59dd332a3ce84a3c21c055711a3ed4e971d7e1a19d02fbb5b397e2_3380.profile => 469\n",
      "ERR length too long: ./data/tree-rep-profiles_o2o/small_short/23.mplug_0.8/G294/010f18c6eced263d35ac897b3cd2ab6e2982f0e06ea8f3340b9c3c923ea79aa3_3196.profile => 532\n",
      "ERR length too long: ./data/tree-rep-profiles_o2o/small_short/23.mplug_0.8/G294/031de3ddb3f36928734a7da2137554f4fafe9d038a78236f3ab8b59a33c335da_3276.profile => 532\n"
     ]
    },
    {
     "name": "stderr",
     "output_type": "stream",
     "text": [
      " 81%|████████  | 129/159 [00:34<00:07,  3.84it/s]"
     ]
    },
    {
     "name": "stdout",
     "output_type": "stream",
     "text": [
      "ERR length too long: ./data/tree-rep-profiles_o2o/small_short/23.mplug_0.8/G299/43681e0a4a5a3555f282a76290e4c81f6fb136faa5ec126ec0879d9b638cd4cd_3396.profile => 282\n",
      "ERR length too long: ./data/tree-rep-profiles_o2o/small_short/23.mplug_0.8/G299/42ec91818d25e0ee6996d5cd4c78e3b91a750c2e2613375c6cd418103537921c_3224.profile => 282\n",
      "ERR length too long: ./data/tree-rep-profiles_o2o/small_short/3.allaple_0.8/G1924/242359e9483a7a5b4df3da277933887c607be1da577a87338dc8557d368afa5b_3320.profile => 628\n",
      "ERR length too long: ./data/tree-rep-profiles_o2o/small_short/3.allaple_0.8/G1924/242359e9483a7a5b4df3da277933887c607be1da577a87338dc8557d368afa5b_3056.profile => 649\n",
      "ERR length too long: ./data/tree-rep-profiles_o2o/small_short/3.allaple_0.8/G1933/c153b592588989c6ec54a0e1f8acf5197e692bc8210447e1486c599393934868_2984.profile => 618\n",
      "ERR length too long: ./data/tree-rep-profiles_o2o/small_short/3.allaple_0.8/G1933/8035c687bfd55331334a5b0a340dc81f10a77a8bbf3ea90c13f5dafb99fee883_3284.profile => 580\n",
      "ERR length too long: ./data/tree-rep-profiles_o2o/small_short/3.allaple_0.8/G1928/1f010e5aa3642f215c3546ba8948fa35e40f3bc207f27658b03b5fd2f2ae2a15_3212.profile => 436\n",
      "ERR length too long: ./data/tree-rep-profiles_o2o/small_short/3.allaple_0.8/G1928/1d8944d591ef90233ed952595b11b32d8dfffe3b906baa4f0de5ad96eb9c5672_2924.profile => 436\n",
      "ERR length too long: ./data/tree-rep-profiles_o2o/small_short/3.allaple_0.8/G1905/e980282147565f1cc67237f09b2d28a13949dea1e3c5a9ce591a26180b904bb5_3312.profile => 717\n",
      "ERR length too long: ./data/tree-rep-profiles_o2o/small_short/3.allaple_0.8/G1905/ee5136d74f69489d699ad1f500d76afac03ce028c83a632ebd9e785061dd9f38_3256.profile => 716\n",
      "ERR length too long: ./data/tree-rep-profiles_o2o/small_short/3.allaple_0.8/G1935/4a8581ee09a6f9794b3cafa0cbe493eb43604978e51dd460b2dfbbc3f344938b_3288.profile => 578\n",
      "ERR length too long: ./data/tree-rep-profiles_o2o/small_short/3.allaple_0.8/G1935/a70c1f66c37b0aa1f68a6bc7502b10a56a16a5e8ee01c41128a525891f166d1f_3252.profile => 603\n",
      "ERR length too long: ./data/tree-rep-profiles_o2o/small_short/3.allaple_0.8/G1940/420b2da5ba2fb58a8b0a93698cb72502b8441ab4b2710d4531fbd3584fdad021_3200.profile => 1146\n",
      "ERR length too long: ./data/tree-rep-profiles_o2o/small_short/3.allaple_0.8/G1940/4baad8f76fd2b2e1201c9e339e6a645b1424a314046565d635e0462358a35620_2920.profile => 1210\n",
      "ERR length too long: ./data/tree-rep-profiles_o2o/small_short/3.allaple_0.8/G1947/9d01bf349b0eef12b417cfe3e36a89965b07f3bf95bfb3b023e89ad203619d83_3352.profile => 258\n",
      "ERR length too long: ./data/tree-rep-profiles_o2o/small_short/3.allaple_0.8/G1947/d822025020725d639c7f45d14e8fdd5ab9fcf389bf8e11de7b2a4bc0e99042fb_3388.profile => 256\n",
      "ERR length too long: ./data/tree-rep-profiles_o2o/small_short/3.allaple_0.8/G1941/dc5e91b17b5b77e8130c6fbe2def2b6de630114c63faeabbe462e59bedb8697f_3328.profile => 278\n",
      "ERR length too long: ./data/tree-rep-profiles_o2o/small_short/3.allaple_0.8/G1941/ce84f46ea8acbe37cb2cc7e232676ca49bba5908580c959ae84a129d6d595e28_3248.profile => 278\n",
      "ERR length too long: ./data/tree-rep-profiles_o2o/small_short/3.allaple_0.8/G1475/c6d288841b9719a01bd340da55538ce43aaa74265791a41ee493cabde9d2402e_2960.profile => 441\n",
      "ERR length too long: ./data/tree-rep-profiles_o2o/small_short/3.allaple_0.8/G1475/10fc12532d259eb24f9e11be47ca7cbba4e240050dd3ce9139b8822475e8989f_3208.profile => 441\n",
      "ERR length too long: ./data/tree-rep-profiles_o2o/small_short/3.allaple_0.8/G1884/f1bf21602cb1b76b62d489c228419ca5db3a3cccf9aeb4dc3430e6639709e7c2_3356.profile => 250\n",
      "ERR length too long: ./data/tree-rep-profiles_o2o/small_short/3.allaple_0.8/G1884/8a70cecd34fe38286a898eef4a3ddc26c4ac5acfc2e656d170d9da1552f0587d_3212.profile => 250\n",
      "ERR length too long: ./data/tree-rep-profiles_o2o/small_short/3.allaple_0.8/G1426/c153b592588989c6ec54a0e1f8acf5197e692bc8210447e1486c599393934868_2936.profile => 239\n",
      "ERR length too long: ./data/tree-rep-profiles_o2o/small_short/3.allaple_0.8/G1426/8035c687bfd55331334a5b0a340dc81f10a77a8bbf3ea90c13f5dafb99fee883_3228.profile => 239\n"
     ]
    },
    {
     "name": "stderr",
     "output_type": "stream",
     "text": [
      "\r",
      " 82%|████████▏ | 130/159 [00:35<00:14,  1.94it/s]"
     ]
    },
    {
     "name": "stdout",
     "output_type": "stream",
     "text": [
      "ERR length too long: ./data/tree-rep-profiles_o2o/small_short/3.allaple_0.8/G1929/5d6b10e26d92d7da0b44bffb8a6d389fb5198627faa289b0aa04893515aacf47_3308.profile => 330\n",
      "ERR length too long: ./data/tree-rep-profiles_o2o/small_short/3.allaple_0.8/G1929/7a28c094df41ac1e150ad6acfd914de86b9fb1e350a550d7a51d760e2cf1d1ef_2948.profile => 324\n",
      "ERR length too long: ./data/tree-rep-profiles_o2o/small_short/3.allaple_0.8/G1921/9e8421bf401be4f0232112fb161c9c3ae474c6846526ca3ecbe58accd0756554_2864.profile => 289\n",
      "ERR length too long: ./data/tree-rep-profiles_o2o/small_short/3.allaple_0.8/G1921/d3826176b53d2f5fda1bfa1a453da6280780fd30d0b69043f2fec2f972702ca6_3292.profile => 291\n",
      "ERR length too long: ./data/tree-rep-profiles_o2o/small_short/3.allaple_0.8/G1931/90a8a97449fae15709ce9efccd76442de4a749e3071db52331d9e0701448a8df_440.profile => 262\n",
      "ERR length too long: ./data/tree-rep-profiles_o2o/small_short/3.allaple_0.8/G1931/d2cbf072c39ce0449fcbf59a000d88e6825faf1c77e058903dac526ee68cfe67_428.profile => 264\n",
      "ERR length too long: ./data/tree-rep-profiles_o2o/small_short/3.allaple_0.8/G1967/1e41690fd2d99f00e74faa95d73cc6f6820e874521ddb70852078b0b616f39d1_3216.profile => 1001\n",
      "ERR length too long: ./data/tree-rep-profiles_o2o/small_short/3.allaple_0.8/G1967/15bf9cdba07a91e3de0dfff630f631b320f759ee2eed0f7492f55c8d2dcac302_2940.profile => 939\n"
     ]
    },
    {
     "name": "stderr",
     "output_type": "stream",
     "text": [
      " 86%|████████▌ | 137/159 [00:36<00:05,  4.40it/s]"
     ]
    },
    {
     "name": "stdout",
     "output_type": "stream",
     "text": [
      "ERR length too long: ./data/tree-rep-profiles_o2o/small_short/104.yakes_0.8/G22/07b7c375f258d3414aab481f5bf1fc2b4b2acadd4a1c685d0d842e097fa790ca_3340.profile => 506\n",
      "ERR length too long: ./data/tree-rep-profiles_o2o/small_short/104.yakes_0.8/G22/001eda61bb769ebeedf6ef13529c292f7fe39fdca80da863ccaf7b3ea57b0f05_3364.profile => 498\n",
      "ERR length too long: ./data/tree-rep-profiles_o2o/small_short/111.imali_0.8/G41/39b3c8935687b134133d7ca83846128dd10b16384269b10f71373c7b76d73d23_3396.profile => 510\n",
      "ERR length too long: ./data/tree-rep-profiles_o2o/small_short/111.imali_0.8/G41/b121ba876baf1019333deb8b7cff92f0a65c29f0e599387f9a4fa6ed9253c9d4_3336.profile => 502\n"
     ]
    },
    {
     "name": "stderr",
     "output_type": "stream",
     "text": [
      "\r",
      " 87%|████████▋ | 139/159 [00:36<00:03,  5.59it/s]"
     ]
    },
    {
     "name": "stdout",
     "output_type": "stream",
     "text": [
      "ERR length too long: ./data/tree-rep-profiles_o2o/small_short/35.morstar_0.8/G214/f2af3fc4e27c320d2373a70b81ad143b2444ff1d32b115fade2c70ab1c9fd32b_3332.profile => 799\n",
      "ERR length too long: ./data/tree-rep-profiles_o2o/small_short/35.morstar_0.8/G214/8791b67dc5cd957e9f6681da0c352cd3de9e104ba779efb704bb9817e89cdf89_3332.profile => 795\n",
      "ERR length too long: ./data/tree-rep-profiles_o2o/small_short/35.morstar_0.8/G220/80b7fda1c1d2a43ceb90a162d75d9d4bba432dc5bb3f62e1a83ca5129deb4765_3348.profile => 333\n",
      "ERR length too long: ./data/tree-rep-profiles_o2o/small_short/35.morstar_0.8/G220/e47b77e3230e216abeed983c913c24db388e4dc0ba565ccff4cd114914fd911f_3016.profile => 369\n",
      "ERR length too long: ./data/tree-rep-profiles_o2o/small_short/35.morstar_0.8/G218/698232545a6feff5940a355f04203329a9d656ec47f39bab1d707a4f2811eb9d_3392.profile => 229\n",
      "ERR length too long: ./data/tree-rep-profiles_o2o/small_short/35.morstar_0.8/G198/56b3e238169381cd4552e03c1974ca7ff389ca44e3f012f0f128c632ebe62088_3432.profile => 1237\n",
      "ERR length too long: ./data/tree-rep-profiles_o2o/small_short/35.morstar_0.8/G198/b578992b29c6529d4b05c7562eabd1a8244e1dc1b099177e1796f5bbc91615a5_3308.profile => 1237\n"
     ]
    },
    {
     "name": "stderr",
     "output_type": "stream",
     "text": [
      "\r",
      " 89%|████████▊ | 141/159 [00:36<00:02,  6.13it/s]"
     ]
    },
    {
     "name": "stdout",
     "output_type": "stream",
     "text": [
      "ERR length too long: ./data/tree-rep-profiles_o2o/small_short/35.morstar_0.8/G187/3221dfd663279944e7d0e8a29a63de8f7aeb8f162f0cc3fd2d3297b8a7c88ba5_3380.profile => 245\n",
      "ERR length too long: ./data/tree-rep-profiles_o2o/small_short/35.morstar_0.8/G187/3221dfd663279944e7d0e8a29a63de8f7aeb8f162f0cc3fd2d3297b8a7c88ba5_2892.profile => 245\n",
      "ERR length too long: ./data/tree-rep-profiles_o2o/small_short/43.tepfer_0.8/G107/10a43e8305b5133978de125c71eade8394f73a5918b5fc116dba572f32659ce7_3288.profile => 532\n",
      "ERR length too long: ./data/tree-rep-profiles_o2o/small_short/43.tepfer_0.8/G107/0f5fa6dec8551408ed40937e1bb60270c0085c6ea6e7ab9465d375c99a196faa_3168.profile => 532\n",
      "ERR length too long: ./data/tree-rep-profiles_o2o/small_short/43.tepfer_0.8/G112/15a63185b2336af79beeab9be2ac058001d735dbbc4163dd1e57ba6389fd9e63_2920.profile => 719\n",
      "ERR length too long: ./data/tree-rep-profiles_o2o/small_short/43.tepfer_0.8/G112/02e649fd70d8930773895c40fcfc0399b2fa813314afe21b2f946a6b587f8410_3260.profile => 746\n"
     ]
    },
    {
     "name": "stderr",
     "output_type": "stream",
     "text": [
      "\r",
      " 90%|████████▉ | 143/159 [00:37<00:02,  5.50it/s]"
     ]
    },
    {
     "name": "stdout",
     "output_type": "stream",
     "text": [
      "ERR length too long: ./data/tree-rep-profiles_o2o/small_short/69.clickdownload_0.8/G61/0a92a6bdfd4ed425584b401b949b627c655db1800a3ca5453c1b186d80604813_3272.profile => 532\n",
      "ERR length too long: ./data/tree-rep-profiles_o2o/small_short/69.clickdownload_0.8/G61/0de18579bd90c95c441ac9c479d2981b840dea299e5ae06a6b190c0cce5ac139_3460.profile => 532\n"
     ]
    },
    {
     "name": "stderr",
     "output_type": "stream",
     "text": [
      " 94%|█████████▎| 149/159 [00:37<00:01,  7.89it/s]"
     ]
    },
    {
     "name": "stdout",
     "output_type": "stream",
     "text": [
      "ERR length too long: ./data/tree-rep-profiles_o2o/small_short/134.turkojan_0.8/G19/13c24d72415655025d89a97153f3fb93f781ae31a40cc7da2b5742ffbc7821f3_3212.profile => 421\n",
      "ERR length too long: ./data/tree-rep-profiles_o2o/small_short/134.turkojan_0.8/G19/1f6c1c7ac6b3f29f0c12a68a8563d50b792959682b2a2fd164e4833d8d05d96c_2860.profile => 464\n",
      "ERR length too long: ./data/tree-rep-profiles_o2o/small_short/34.barys_0.8/G146/1dfe6f0e1e5d6be3bcdce16bb97a74dfe9ca2aef6f040b067af052ca5912a952_3212.profile => 525\n",
      "ERR length too long: ./data/tree-rep-profiles_o2o/small_short/34.barys_0.8/G146/09fd4ac673b77aa05ab2d2302280f7a3e119ff466c0dee42cb3f16c931f5b7a4_3364.profile => 535\n",
      "ERR length too long: ./data/tree-rep-profiles_o2o/small_short/34.barys_0.8/G143/be8b355c76cf606d313f3ab406f5b74b4f26fe3eed3e57d2a0dddd3f6e764a83_3332.profile => 262\n",
      "ERR length too long: ./data/tree-rep-profiles_o2o/small_short/34.barys_0.8/G143/be8b355c76cf606d313f3ab406f5b74b4f26fe3eed3e57d2a0dddd3f6e764a83_3244.profile => 262\n"
     ]
    },
    {
     "name": "stderr",
     "output_type": "stream",
     "text": [
      " 96%|█████████▌| 153/159 [00:38<00:00,  6.80it/s]"
     ]
    },
    {
     "name": "stdout",
     "output_type": "stream",
     "text": [
      "ERR length too long: ./data/tree-rep-profiles_o2o/small_short/80.viking_0.8/G54/4168b05541813f4414d27f3ea873b56b7223d7fc19f49076d47fc3ea49314542_3128.profile => 295\n",
      "ERR length too long: ./data/tree-rep-profiles_o2o/small_short/80.viking_0.8/G54/282eba1cb3cc7d7613733af11728228b1b0b43f540054fa8e28a753f550234f8_3140.profile => 257\n",
      "ERR length too long: ./data/tree-rep-profiles_o2o/small_short/115.alman_0.8/G30/09de8ccdbeec19b34da389c297e34d4abbe663a8bab1259313d30febaceef2d1_3268.profile => 504\n",
      "ERR length too long: ./data/tree-rep-profiles_o2o/small_short/115.alman_0.8/G30/761f98b86030708872b7b6868ac566399a5afe78c5c50f566a2d5a98cc8dccf3_3376.profile => 532\n"
     ]
    },
    {
     "name": "stderr",
     "output_type": "stream",
     "text": [
      "\r",
      " 98%|█████████▊| 156/159 [00:38<00:00,  8.06it/s]"
     ]
    },
    {
     "name": "stdout",
     "output_type": "stream",
     "text": [
      "ERR length too long: ./data/tree-rep-profiles_o2o/small_short/103.fynloski_0.8/G44/150e9b5d2fc9e45af2cbf3dd0d89d087e7c610f8506ee0499b7daf1b95ed3bf5_3092.profile => 565\n",
      "ERR length too long: ./data/tree-rep-profiles_o2o/small_short/103.fynloski_0.8/G44/661fd0baa01726208477d594969c273dfe128348f4a37eb403f7c75b2be65812_3300.profile => 544\n",
      "ERR length too long: ./data/tree-rep-profiles_o2o/small_short/103.fynloski_0.8/G45/090b912680052864ebce185843b1a3a88fbdbc7aa6e002f35b99da3952b08464_3180.profile => 676\n",
      "ERR length too long: ./data/tree-rep-profiles_o2o/small_short/103.fynloski_0.8/G45/0ab3f6999047bb98f3bc29b8e869f742f3dcf9e7bcbeef261281ead8b65a71e1_3352.profile => 676\n",
      "ERR length too long: ./data/tree-rep-profiles_o2o/small_short/94.bundlore_0.8/G44/bd266b12436ba846a573fdd3e85dc332a6a210c61c65abda08516c506925b514_3400.profile => 422\n",
      "ERR length too long: ./data/tree-rep-profiles_o2o/small_short/94.bundlore_0.8/G44/bd266b12436ba846a573fdd3e85dc332a6a210c61c65abda08516c506925b514_3208.profile => 422\n",
      "ERR length too long: ./data/tree-rep-profiles_o2o/small_short/94.bundlore_0.8/G52/44016f2398143b0caefcbd03d5806355788db845ff95c7e9b8db8f3363ea14a0_3036.profile => 278\n",
      "ERR length too long: ./data/tree-rep-profiles_o2o/small_short/94.bundlore_0.8/G52/b4af2a6c1d08d6bac024e43cd99a21df849b6352d229771e9eb72e66be20c508_3332.profile => 329\n",
      "ERR length too long: ./data/tree-rep-profiles_o2o/small_short/94.bundlore_0.8/G48/c1d331401192e903b6c9099dc481346ec9423ac2f1640e6305ec62ab4fbf1661_2972.profile => 716\n",
      "ERR length too long: ./data/tree-rep-profiles_o2o/small_short/94.bundlore_0.8/G48/86fc3e627270e50c85268158d109bd0075ffcfc9f9981f0a1cc725b71b1b019a_3316.profile => 716\n",
      "ERR length too long: ./data/tree-rep-profiles_o2o/small_short/94.bundlore_0.8/G47/16eb6f09233b94724bdd3032d0dc76c9916e5640c3e4f35c5d5669e7f08b312d_2912.profile => 268\n",
      "ERR length too long: ./data/tree-rep-profiles_o2o/small_short/94.bundlore_0.8/G47/16eb6f09233b94724bdd3032d0dc76c9916e5640c3e4f35c5d5669e7f08b312d_3252.profile => 268\n",
      "ERR length too long: ./data/tree-rep-profiles_o2o/small_short/94.bundlore_0.8/G51/6e756bf437c0f0f7ca12e6b67ae022a8d73dd116443adac45ee493c8fdc60996_2952.profile => 809\n",
      "ERR length too long: ./data/tree-rep-profiles_o2o/small_short/94.bundlore_0.8/G51/7fa3154e90413cf45e71ca0e98c51b616d63371c7c492f0c1183af3cef3ebb3c_3404.profile => 918\n"
     ]
    },
    {
     "name": "stderr",
     "output_type": "stream",
     "text": [
      "100%|██████████| 159/159 [00:38<00:00,  4.09it/s]"
     ]
    },
    {
     "name": "stdout",
     "output_type": "stream",
     "text": [
      "ERR length too long: ./data/tree-rep-profiles_o2o/small_short/121.dialer_0.8/G29/133b0920838fe2b0aaffff6c6bd44d6572fced039a3ff723607f7cd50d4501a8_2852.profile => 1222\n",
      "ERR length too long: ./data/tree-rep-profiles_o2o/small_short/121.dialer_0.8/G29/107d1cd442e03489aa00997d5fe60434e8929817530fa9927a38cad596da1eae_2836.profile => 1144\n"
     ]
    },
    {
     "name": "stderr",
     "output_type": "stream",
     "text": [
      "\n"
     ]
    },
    {
     "name": "stdout",
     "output_type": "stream",
     "text": [
      "(2855, 226) (2855, 226, 768) (2855, 226)\n"
     ]
    }
   ],
   "source": [
    "# 會噴ERR事正常的\n",
    "small_short_dir = './data/tree-rep-profiles_o2o/small_short/'\n",
    "small_short_api,small_short_emb, small_short_rep, small_short_normalize , small_short_len_norm,small_short_pid_paths =   Sent2vec_emb(small_short_dir)\n",
    "print(small_short_api.shape,small_short_emb.shape,small_short_rep.shape)"
   ]
  },
  {
   "cell_type": "code",
   "execution_count": 8,
   "metadata": {
    "scrolled": true
   },
   "outputs": [
    {
     "name": "stderr",
     "output_type": "stream",
     "text": [
      "100%|██████████| 45/45 [01:06<00:00,  2.16s/it]\n"
     ]
    },
    {
     "name": "stdout",
     "output_type": "stream",
     "text": [
      "(3893, 226) (3893, 226, 768)\n"
     ]
    }
   ],
   "source": [
    "exp_dir = './data/tree-rep-profiles_o2o/EXP/'\n",
    "exp_api,exp_emb, exp_normalize , exp_len_norm,exp_pid_paths =   Sent2vec_emb(exp_dir)\n",
    "print(exp_api.shape,exp_emb.shape)"
   ]
  },
  {
   "cell_type": "code",
   "execution_count": 9,
   "metadata": {},
   "outputs": [],
   "source": [
    "# put small_short into train data?\n",
    "o2o_api = np.concatenate((train_api,small_short_api),axis=0)\n",
    "o2o_emb = np.concatenate((train_emb,small_short_emb),axis=0)\n",
    "o2o_rep = np.concatenate((train_rep,small_short_rep),axis=0)\n",
    "o2o_normalize = np.concatenate((train_normalize,small_short_normalize),axis=0)\n",
    "o2o_len_norm = train_len_norm\n",
    "o2o_len_norm.extend(small_short_len_norm)\n",
    "o2o_pid_paths = train_pid_paths\n",
    "o2o_pid_paths.extend(small_short_pid_paths)\n",
    "assert len(o2o_api) == len(o2o_emb) == len(o2o_rep) == len(o2o_pid_paths) == len(o2o_len_norm)"
   ]
  },
  {
   "cell_type": "code",
   "execution_count": 10,
   "metadata": {
    "scrolled": true
   },
   "outputs": [
    {
     "name": "stderr",
     "output_type": "stream",
     "text": [
      "100%|██████████| 133/133 [01:39<00:00,  1.33it/s]\n"
     ]
    },
    {
     "name": "stdout",
     "output_type": "stream",
     "text": [
      "(4104, 226) (4104, 226, 768) (4104, 226)\n"
     ]
    }
   ],
   "source": [
    "# phase2 for encoder: train_only=True\n",
    "train_dir = './data/tree-rep-profiles_o2o/normal/'\n",
    "train_only_api,train_only_emb, train_only_rep, train_only_normalize , train_only_len_norm,train_only_pid_paths =   Sent2vec_emb(train_dir,train_only=True)\n",
    "print(train_only_api.shape,train_only_emb.shape,train_only_rep.shape)"
   ]
  },
  {
   "cell_type": "code",
   "execution_count": 14,
   "metadata": {},
   "outputs": [
    {
     "data": {
      "text/plain": [
       "['LoadLibrary#PR@ARB@x-msdownloadransf-er-encodg4b\\x05ar@DLL#Ret#N',\n",
       " 'LoadLibrary#PR@ARB@@DLL#Ret#N',\n",
       " 'ExitProcess#PR@-2146435052']"
      ]
     },
     "execution_count": 14,
     "metadata": {},
     "output_type": "execute_result"
    }
   ],
   "source": [
    "# hl_f = './data/tree-rep-profiles_o2o/EXP/virut/G0/a1be329703e11e79ee94a173700cdece80badbfe5ed04fdfc497b4d141113674_3216.profile'\n",
    "# with open(hl_f,encoding='ISO 8859-1') as f: #X2\n",
    "#     lines = f.read()\n",
    "# lines = re.sub(r'[^\\x00-\\x7F]+','', lines)\n",
    "# lines = re.sub(r'[\\x1e\\x7f\\x15\\x10\\x0c\\x1c]+','', lines)\n",
    "# lines = re.sub('=\\\\n','',lines)\n",
    "# lines = re.sub('y\\\\n','',lines)\n",
    "# # lines = lines.splitlines()\n",
    "# lines"
   ]
  },
  {
   "cell_type": "markdown",
   "metadata": {},
   "source": [
    "## dim normalize"
   ]
  },
  {
   "cell_type": "code",
   "execution_count": 11,
   "metadata": {},
   "outputs": [
    {
     "data": {
      "text/plain": [
       "((768,), (768,))"
      ]
     },
     "execution_count": 11,
     "metadata": {},
     "output_type": "execute_result"
    }
   ],
   "source": [
    "alls = np.concatenate([train_only_normalize,valid_normalize,test_normalize])\n",
    "mean = np.mean(alls,axis=0)\n",
    "std = np.std(alls,axis=0)\n",
    "mean.shape , std.shape"
   ]
  },
  {
   "cell_type": "code",
   "execution_count": 12,
   "metadata": {},
   "outputs": [],
   "source": [
    "def normalize_dim(emb,length,mean=mean,std=std):\n",
    "    sent_emb = (emb[:length,:] - mean)/std\n",
    "    final_emb = np.concatenate([sent_emb, emb[length:,:]],axis=0)\n",
    "    return final_emb"
   ]
  },
  {
   "cell_type": "code",
   "execution_count": 13,
   "metadata": {},
   "outputs": [
    {
     "name": "stdout",
     "output_type": "stream",
     "text": [
      "(4104, 226, 768) (453, 226, 768) (508, 226, 768) (3893, 226, 768) (10070, 226, 768)\n"
     ]
    }
   ],
   "source": [
    "test_emb_norm = []\n",
    "valid_emb_norm = []\n",
    "train_only_emb_norm = [] #pahse2\n",
    "exp_emb_norm = []\n",
    "o2o_emb_norm = [] #phase1 for encoder\n",
    "for emb,length in zip(train_only_emb,train_only_len_norm):\n",
    "    emb_norm = normalize_dim(emb,length)\n",
    "    train_only_emb_norm.append(emb_norm)\n",
    "for emb,length in zip(valid_emb,valid_len_norm):\n",
    "    emb_norm = normalize_dim(emb,length)\n",
    "    valid_emb_norm.append(emb_norm)\n",
    "for emb,length in zip(test_emb,test_len_norm):\n",
    "    emb_norm = normalize_dim(emb,length)\n",
    "    test_emb_norm.append(emb_norm)\n",
    "for emb,length in zip(exp_emb,exp_len_norm):\n",
    "    emb_norm = normalize_dim(emb,length)\n",
    "    exp_emb_norm.append(emb_norm)\n",
    "for emb,length in zip(o2o_emb,o2o_len_norm):\n",
    "    emb_norm = normalize_dim(emb,length)\n",
    "    o2o_emb_norm.append(emb_norm)\n",
    "train_only_emb = np.array(train_only_emb_norm)\n",
    "valid_emb = np.array(valid_emb_norm)\n",
    "test_emb = np.array(test_emb_norm)\n",
    "exp_emb = np.array(exp_emb_norm)\n",
    "o2o_emb = np.array(o2o_emb_norm)\n",
    "print(train_only_emb.shape,valid_emb.shape,test_emb.shape,exp_emb.shape,o2o_emb.shape)"
   ]
  },
  {
   "cell_type": "code",
   "execution_count": 14,
   "metadata": {},
   "outputs": [],
   "source": [
    "root_dir = './data/tree-rep-profiles_o2o/'\n",
    "pickle.dump(file=open(root_dir + 'pids_train_only.pkl','wb')\n",
    "            ,obj=(train_only_api , train_only_emb , train_only_rep),protocol=4)\n",
    "pickle.dump(file=open(root_dir + 'pids_valid.pkl','wb')\n",
    "            ,obj=(valid_api,valid_emb,valid_rep),protocol=4)\n",
    "pickle.dump(file=open(root_dir + 'pids_test.pkl','wb')\n",
    "            ,obj=(test_api,test_emb,test_rep),protocol=4)\n",
    "pickle.dump(file=open(root_dir + 'pids_exp.pkl','wb')\n",
    "            ,obj=(exp_api,exp_emb),protocol=4)\n",
    "pickle.dump(file=open(root_dir + 'pids_o2o.pkl','wb')\n",
    "            ,obj=(o2o_api,o2o_emb,o2o_rep),protocol=4)\n",
    "\n",
    "pickle.dump(file=open(root_dir + 'train_only_pid_paths.pkl','wb'),obj=train_only_pid_paths)\n",
    "pickle.dump(file=open(root_dir + 'valid_pid_paths.pkl','wb'),obj=valid_pid_paths)\n",
    "pickle.dump(file=open(root_dir + 'test_pid_paths.pkl','wb'),obj=test_pid_paths)\n",
    "pickle.dump(file=open(root_dir + 'exp_pid_paths.pkl','wb'),obj=exp_pid_paths)\n",
    "pickle.dump(file=open(root_dir + 'o2o_pid_paths.pkl','wb'),obj=o2o_pid_paths)"
   ]
  }
 ],
 "metadata": {
  "kernelspec": {
   "display_name": "Python [conda env:root] *",
   "language": "python",
   "name": "conda-root-py"
  },
  "language_info": {
   "codemirror_mode": {
    "name": "ipython",
    "version": 3
   },
   "file_extension": ".py",
   "mimetype": "text/x-python",
   "name": "python",
   "nbconvert_exporter": "python",
   "pygments_lexer": "ipython3",
   "version": "3.6.8"
  }
 },
 "nbformat": 4,
 "nbformat_minor": 2
}
