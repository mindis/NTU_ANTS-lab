{
 "cells": [
  {
   "cell_type": "code",
   "execution_count": 6,
   "metadata": {},
   "outputs": [],
   "source": [
    "import os,sys\n",
    "# os.environ[\"CUDA_DEVICE_ORDER\"]=\"PCI_BUS_ID\"\n",
    "# The GPU id to use, usually either \"0\" or \"1\"\n",
    "# os.environ[\"CUDA_VISIBLE_DEVICES\"]=\"0\" \n",
    "\n",
    "import numpy as np\n",
    "import pandas as pd\n",
    "import shutil\n",
    "import pickle\n",
    "import tqdm\n",
    "from tqdm import tqdm\n",
    "from random import shuffle\n",
    "from math import log, floor\n",
    "from keras.utils import *\n",
    "from keras.utils.generic_utils import *\n",
    "from keras.preprocessing.text import *\n",
    "from keras.preprocessing.sequence import *\n",
    "from keras.preprocessing.image import *\n",
    "from multiprocessing import *\n",
    "import gensim\n",
    "from gensim.models.word2vec import *\n",
    "from sklearn.metrics.pairwise import *\n",
    "from sklearn.model_selection import *\n",
    "from sklearn.manifold import *\n",
    "from sklearn.decomposition import *\n",
    "from sklearn.cluster import *\n",
    "from sklearn import preprocessing\n",
    "import sent2vec\n",
    "import re\n",
    "import string\n",
    "import unicodedata as udata\n",
    "import matplotlib\n",
    "import matplotlib.pyplot as plt\n",
    "from collections import Counter\n",
    "from operator import itemgetter\n",
    "from collections import OrderedDict\n",
    "import random"
   ]
  },
  {
   "cell_type": "code",
   "execution_count": 66,
   "metadata": {},
   "outputs": [
    {
     "data": {
      "text/plain": [
       "26"
      ]
     },
     "execution_count": 66,
     "metadata": {},
     "output_type": "execute_result"
    }
   ],
   "source": [
    "model = sent2vec.Sent2vecModel()\n",
    "model.load_model('model/sent2vec_o2o_o2m_0523.bin') # sent2vec model\n",
    "all_df = pd.read_csv('./data/tree-rep-profiles-partial/process2family_df.csv')\n",
    "api_li = ['LoadLibrary',\n",
    "'CreateProcess',\n",
    "'OpenProcess',\n",
    "'ExitProcess',\n",
    "'TerminateProcess',\n",
    "'WinExec',\n",
    "'CreateRemoteThread',\n",
    "'CreateThread',\n",
    "'CopyFile',\n",
    "'CreateFile',\n",
    "'DeleteFile',\n",
    "'RegSetValue',\n",
    "'RegCreateKey',\n",
    "'RegDeleteKey',\n",
    "'RegDeleteValue',\n",
    "'RegQueryValue',\n",
    "'RegEnumValue',\n",
    "'WinHttpConnect',\n",
    "'WinHttpOpen',\n",
    "'WinHttpOpenRequest',\n",
    "'WinHttpReadData',\n",
    "'WinHttpSendRequest',\n",
    "# 'WinHttpWriteData', #少了\n",
    "'InternetOpen',\n",
    "'InternetConnect',\n",
    "'HttpSendRequest',\n",
    "'GetUrlCacheEntryInfo']\n",
    "# api_li = [x.lower() for x in api_li] #lowrer case?\n",
    "len(api_li)"
   ]
  },
  {
   "cell_type": "code",
   "execution_count": 43,
   "metadata": {},
   "outputs": [
    {
     "data": {
      "text/plain": [
       "{'LoadLibrary': 1,\n",
       " 'CreateProcess': 2,\n",
       " 'OpenProcess': 3,\n",
       " 'ExitProcess': 4,\n",
       " 'TerminateProcess': 5,\n",
       " 'WinExec': 6,\n",
       " 'CreateRemoteThread': 7,\n",
       " 'CreateThread': 8,\n",
       " 'CopyFile': 9,\n",
       " 'CreateFile': 10,\n",
       " 'DeleteFile': 11,\n",
       " 'RegSetValue': 12,\n",
       " 'RegCreateKey': 13,\n",
       " 'RegDeleteKey': 14,\n",
       " 'RegDeleteValue': 15,\n",
       " 'RegQueryValue': 16,\n",
       " 'RegEnumValue': 17,\n",
       " 'WinHttpConnect': 18,\n",
       " 'WinHttpOpen': 19,\n",
       " 'WinHttpOpenRequest': 20,\n",
       " 'WinHttpReadData': 21,\n",
       " 'WinHttpSendRequest': 22,\n",
       " 'InternetOpen': 23,\n",
       " 'InternetConnect': 24,\n",
       " 'HttpSendRequest': 25,\n",
       " 'GetUrlCacheEntryInfo': 26}"
      ]
     },
     "execution_count": 43,
     "metadata": {},
     "output_type": "execute_result"
    }
   ],
   "source": [
    "encode_dict = {}\n",
    "for i,v in enumerate(api_li):\n",
    "    encode_dict[v] = i+1\n",
    "pickle.dump(file=open('data/tree-rep-profiles-partial/encode_dict.pkl','wb'),obj=encode_dict)\n",
    "encode_dict\n"
   ]
  },
  {
   "cell_type": "code",
   "execution_count": 91,
   "metadata": {
    "scrolled": true
   },
   "outputs": [
    {
     "data": {
      "text/plain": [
       "['1.fakeav',\n",
       " '2.fakealert',\n",
       " '3.kazy',\n",
       " '4.zbot',\n",
       " '5.symmi',\n",
       " '6.allaple',\n",
       " '7.virut',\n",
       " '8.ursu',\n",
       " '9.solimba',\n",
       " '10.zusy',\n",
       " '11.virtob',\n",
       " '12.loadmoney',\n",
       " '13.graftor',\n",
       " '14.vobfus',\n",
       " '15.barys',\n",
       " '16.soft',\n",
       " '17.expiro',\n",
       " '18.sytro',\n",
       " '19.razy',\n",
       " '20.hotbar',\n",
       " '21.ramnit',\n",
       " '22.domaiq',\n",
       " '23.sality',\n",
       " '24.kryptik',\n",
       " '25.installcore',\n",
       " '26.lmn',\n",
       " '27.softpulse',\n",
       " '28.strictor',\n",
       " '29.delf',\n",
       " '30.mplug',\n",
       " '31.kdz',\n",
       " '32.browsefox',\n",
       " '33.autoit',\n",
       " '34.downloa',\n",
       " '35.nimnul',\n",
       " '36.morstar',\n",
       " '37.parite',\n",
       " '38.msil',\n",
       " '39.elkern',\n",
       " '40.tepfer',\n",
       " '41.outbrowse',\n",
       " '42.sirefef',\n",
       " '43.mira',\n",
       " '44.screensaver',\n",
       " '45.firseria',\n",
       " '46.killav',\n",
       " '47.somoto',\n",
       " '48.rahack',\n",
       " '49.upatre',\n",
       " '50.brresmon',\n",
       " '51.shodi',\n",
       " '52.startpage',\n",
       " '54.soltern',\n",
       " '55.zygug',\n",
       " '57.mikey',\n",
       " '58.ibryte',\n",
       " '59.megasearch',\n",
       " '60.conjar',\n",
       " '63.jorik',\n",
       " '64.installerex',\n",
       " '65.shipup',\n",
       " '66.bdmj',\n",
       " '67.madangel',\n",
       " '68.bredo',\n",
       " '70.hoax',\n",
       " '71.eggnog',\n",
       " '72.vbkrypt',\n",
       " '74.installrex',\n",
       " '75.fesber',\n",
       " '76.virlock',\n",
       " '77.lollipop',\n",
       " '78.vilsel',\n",
       " '80.madang',\n",
       " '81.picsys',\n",
       " '84.directdow',\n",
       " '88.clickdownload',\n",
       " '96.mabezat',\n",
       " '103.yantai',\n",
       " '104.mresmon',\n",
       " '111.vbran',\n",
       " '121.fiseria',\n",
       " '124.avmh',\n",
       " '133.ipamor',\n",
       " '135.pcclient',\n",
       " '149.hidp',\n",
       " '151.downloadadmin',\n",
       " '156.vtflooder']"
      ]
     },
     "execution_count": 91,
     "metadata": {},
     "output_type": "execute_result"
    }
   ],
   "source": [
    "root_dir = './data/tree-rep-profiles-partial/normal/'\n",
    "fam_dir = next(os.walk(root_dir))[1]\n",
    "fam_dir = [x.split('_')[0] for x in fam_dir]\n",
    "av_df_col = []\n",
    "for name in av_col:\n",
    "    if name in fam_dir:\n",
    "        av_df_col.append(name)\n",
    "# av_df_col = ['profile'] + av_df_col\n",
    "av_df_col"
   ]
  },
  {
   "cell_type": "code",
   "execution_count": 95,
   "metadata": {
    "scrolled": true
   },
   "outputs": [
    {
     "data": {
      "text/plain": [
       "'./data/tree-rep-profiles_one2many/small_short/6.allaple_0.8/G1478/c6d288841b9719a01bd340da55538ce43aaa74265791a41ee493cabde9d2402e_2960.profile'"
      ]
     },
     "execution_count": 95,
     "metadata": {},
     "output_type": "execute_result"
    }
   ],
   "source": [
    "# pid = profile.split('/')[-1].split('.')[0]\n",
    "# profile_df = all_df[all_df.profile == pid]\n",
    "# list(profile_df[av_df_col].values[0])\n",
    "profile = 'c6d288841b9719a01bd340da55538ce43aaa74265791a41ee493cabde9d2402e_2960.profile''"
   ]
  },
  {
   "cell_type": "code",
   "execution_count": 97,
   "metadata": {},
   "outputs": [],
   "source": [
    "def byterep_ans(byterep_list,max_length):\n",
    "    '''\n",
    "    Input: byte sequenxe (list of pickles path) \n",
    "    '''\n",
    "    rep_list=[]\n",
    "    for byterep in byterep_list:\n",
    "        rep = pickle.load(open(byterep,'rb'))\n",
    "        if len(rep) < max_length:\n",
    "            for _ in range(max_length-len(rep)):\n",
    "                rep.append(0)\n",
    "        rep_list.append(rep)\n",
    "    return rep_list\n",
    "\n",
    "# 寫不同模組 來處理x2 y1 y2\n",
    "def Sent2vec_emb(root_dir,max_length,model=model,dim=700,encode_dict=encode_dict,av_df_col=av_df_col):\n",
    "    '''\n",
    "    Create sent2vec profile embedding\n",
    "    Input: root_dir=>fam-tree-profile\n",
    "    Output: \n",
    "    '''\n",
    "    sent_pad = [0]*dim\n",
    "    all_profiles = []\n",
    "    all_api_name = []\n",
    "    all_fam_ans = []\n",
    "    all_byterep=[]\n",
    "    fam_dir = next(os.walk(root_dir))[1]\n",
    "    for fam in tqdm(fam_dir):\n",
    "        tree_dir = next(os.walk(root_dir + fam))[1]\n",
    "        for tree in tree_dir:\n",
    "            in_directory = root_dir + fam +  '/' + tree + '/'\n",
    "            hl_list = next(os.walk(in_directory))[2]\n",
    "            hl_list = list(filter(lambda f: f.endswith(\".profile\"), hl_list))\n",
    "            byterep_list = [x.split('.')[0]+'_byterep.pickle' for x in hl_list]\n",
    "            hl_list = [os.path.join(in_directory, f) for f in hl_list]\n",
    "            byterep_list = [os.path.join(in_directory, f) for f in byterep_list]\n",
    "            rep_list = byterep_ans(byterep_list,max_length)\n",
    "            for profile in hl_list:\n",
    "                pid = profile.split('/')[-1].split('.')[0]\n",
    "                profile_df = all_df[all_df.profile == pid]\n",
    "                fam_ans = list(profile_df[av_df_col].values[0])\n",
    "\n",
    "                profile_emb = []\n",
    "                func_name_emb = []\n",
    "                with open(profile,encoding='ISO 8859-1') as f:\n",
    "                    lines = f.read()\n",
    "                lines = re.sub(r'[^\\x00-\\x7F]+','', lines)\n",
    "                lines = re.sub(r'[\\x1e\\x7f\\x15\\x10\\x0c]+','', lines)\n",
    "                lines = lines.splitlines()\n",
    "                for line in lines:\n",
    "                    temp = re.sub(dil,\" \",line) # lower? 跟先前一致\n",
    "                    temp = temp.split(\" \")\n",
    "                    temp = list(filter(None, temp))\n",
    "                    temp = ' '.join(temp)\n",
    "                    func_name = temp.split(' ')[0]\n",
    "                    if func_name not in api_li:\n",
    "                        print('=ERROR:=',profile,'=>',temp)\n",
    "                    func_name_emb.append(encode_dict[func_name])\n",
    "                    emb = model.embed_sentence(temp)\n",
    "                    emb = emb[0]\n",
    "                    profile_emb.append(emb)\n",
    "                if len(lines) < max_length:\n",
    "                    for _ in range(max_length-len(lines)):\n",
    "                        profile_emb.append(sent_pad)\n",
    "                all_profiles.append(profile_emb)\n",
    "                all_api_name.append(func_name_emb)\n",
    "                all_fam_ans.append(fam_ans)\n",
    "            all_byterep.extend(rep_list)\n",
    "    all_api_name = pad_sequences(all_api_name,maxlen=max_length,padding='post',value=0)\n",
    "    return np.array(all_profiles) , np.array(all_api_name) , np.array(all_fam_ans) , np.array(all_byterep)"
   ]
  },
  {
   "cell_type": "code",
   "execution_count": 98,
   "metadata": {
    "scrolled": true
   },
   "outputs": [
    {
     "name": "stderr",
     "output_type": "stream",
     "text": [
      "100%|██████████| 88/88 [05:35<00:00,  5.89s/it]\n",
      "  2%|▏         | 2/88 [00:00<00:04, 18.41it/s]"
     ]
    },
    {
     "name": "stdout",
     "output_type": "stream",
     "text": [
      "train of sent2vec vector: (11925, 213, 700) (11925, 213) (11925, 87) (11925, 213)\n"
     ]
    },
    {
     "name": "stderr",
     "output_type": "stream",
     "text": [
      "100%|██████████| 88/88 [00:09<00:00,  8.99it/s]\n",
      "  3%|▎         | 3/88 [00:00<00:04, 17.67it/s]"
     ]
    },
    {
     "name": "stdout",
     "output_type": "stream",
     "text": [
      "valid of sent2vec vector: (336, 213, 700) (336, 213) (336, 87) (336, 213)\n"
     ]
    },
    {
     "name": "stderr",
     "output_type": "stream",
     "text": [
      "100%|██████████| 88/88 [00:08<00:00, 10.57it/s]\n"
     ]
    },
    {
     "name": "stdout",
     "output_type": "stream",
     "text": [
      "test of sent2vec vector: (272, 213, 700) (272, 213) (272, 87) (272, 213)\n"
     ]
    }
   ],
   "source": [
    "dil= r\"[,.;\\-+^()/@#?!&$:{}\\\\*%~\\'\\\"]+\\ *\" #等號、底線被保留，注意要跟先前一致\n",
    "max_length = 213\n",
    "\n",
    "root_dir = './data/tree-rep-profiles-partial/normal/'\n",
    "train_emb, train_emb_api, train_fam_ans, train_rep_ans = Sent2vec_emb(root_dir,max_length)\n",
    "print('train of sent2vec vector:',train_emb.shape,train_emb_api.shape,train_fam_ans.shape,train_rep_ans.shape)\n",
    "\n",
    "root_dir = './data/tree-rep-profiles-partial/DEV/'\n",
    "valid_emb, valid_emb_api,valid_fam_ans,valid_rep_ans = Sent2vec_emb(root_dir,max_length)\n",
    "print('valid of sent2vec vector:',valid_emb.shape,valid_emb_api.shape,valid_fam_ans.shape,valid_rep_ans.shape)\n",
    "\n",
    "root_dir = './data/tree-rep-profiles-partial/TEST/'\n",
    "test_emb, test_emb_api,test_fam_ans,test_rep_ans = Sent2vec_emb(root_dir,max_length)\n",
    "print('test of sent2vec vector:',test_emb.shape,test_emb_api.shape,test_fam_ans.shape,test_rep_ans.shape)\n",
    "\n",
    "for val in test_emb:\n",
    "    if len(val) != max_length:\n",
    "        print(len(val))"
   ]
  },
  {
   "cell_type": "code",
   "execution_count": 101,
   "metadata": {},
   "outputs": [],
   "source": [
    "pickle.dump(file=open('data/tree-rep-profiles-partial/TRAIN_vec.pkl','wb'),protocol=4,obj=(train_emb, train_emb_api, train_fam_ans, train_rep_ans))\n",
    "pickle.dump(file=open('data/tree-rep-profiles-partial/DEV_vec.pkl','wb'),protocol=4,obj=(valid_emb, valid_emb_api,valid_fam_ans,valid_rep_ans))\n",
    "pickle.dump(file=open('data/tree-rep-profiles-partial/TEST_vec.pkl','wb'),protocol=4,obj=(test_emb, test_emb_api,test_fam_ans,test_rep_ans))"
   ]
  }
 ],
 "metadata": {
  "kernelspec": {
   "display_name": "Python [conda env:anaconda3]",
   "language": "python",
   "name": "conda-env-anaconda3-py"
  },
  "language_info": {
   "codemirror_mode": {
    "name": "ipython",
    "version": 3
   },
   "file_extension": ".py",
   "mimetype": "text/x-python",
   "name": "python",
   "nbconvert_exporter": "python",
   "pygments_lexer": "ipython3",
   "version": "3.6.8"
  }
 },
 "nbformat": 4,
 "nbformat_minor": 2
}
