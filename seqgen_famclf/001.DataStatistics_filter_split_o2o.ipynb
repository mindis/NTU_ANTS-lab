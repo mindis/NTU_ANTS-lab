{
 "cells": [
  {
   "cell_type": "code",
   "execution_count": 1,
   "metadata": {},
   "outputs": [],
   "source": [
    "import os, sys, glob, csv\n",
    "# os.environ[\"CUDA_DEVICE_ORDER\"]=\"PCI_BUS_ID\"\n",
    "# The GPU id to use, usually either \"0\" or \"1\"\n",
    "# os.environ[\"CUDA_VISIBLE_DEVICES\"]=\"1\" \n",
    "import numpy as np\n",
    "import pandas as pd\n",
    "import shutil\n",
    "import pickle\n",
    "import tqdm\n",
    "from tqdm import tqdm\n",
    "import xlsxwriter\n",
    "import random\n",
    "from random import shuffle\n",
    "from math import log, floor\n",
    "import re\n",
    "import collections\n",
    "from collections import Counter\n",
    "import string\n",
    "import unicodedata as udata\n",
    "import pause, datetime\n",
    "import matplotlib.pyplot as plt\n",
    "import seaborn as sns\n",
    "from pathlib import Path\n",
    "from distutils.dir_util import copy_tree\n",
    "import sklearn\n",
    "from sklearn.metrics import *\n",
    "import itertools as it"
   ]
  },
  {
   "cell_type": "code",
   "execution_count": 6,
   "metadata": {},
   "outputs": [],
   "source": [
    "def basic_statistics(all_length):\n",
    "    '''\n",
    "    input: length list of elements\n",
    "    output1: mean、std、mode、min、q1、median(q2)、q3、max、iqr、outlier、far out\n",
    "    output2: statistics graph、10%~90% form\n",
    "    '''\n",
    "    stat_dict = {}\n",
    "    stat_dict['mean'] = np.mean(all_length)\n",
    "    stat_dict['std'] = np.std(all_length)\n",
    "    stat_dict['mode'] = np.argmax(np.bincount(all_length))\n",
    "    stat_dict['min'] = np.min(all_length)\n",
    "    stat_dict['q1'] = np.quantile(all_length,0.25)\n",
    "    stat_dict['median'] = np.quantile(all_length,0.5)\n",
    "    stat_dict['q3'] = np.quantile(all_length,0.75)\n",
    "    stat_dict['max'] = np.max(all_length)\n",
    "    stat_dict['iqr'] = stat_dict['q3'] - stat_dict['q1']\n",
    "    stat_dict['outlier'] = stat_dict['q3'] + 1.5*stat_dict['iqr']\n",
    "    stat_dict['far_out'] = stat_dict['q3'] + 3*stat_dict['iqr']\n",
    "    for i in [10,20,30,40,50,60,70,80,90,100]:\n",
    "        stat_dict[str(i)+'%'] = np.percentile(all_length,i)\n",
    "    return pd.DataFrame.from_dict(stat_dict,orient='index',columns=['length'])"
   ]
  },
  {
   "cell_type": "markdown",
   "metadata": {},
   "source": [
    "# 需要\n",
    "* tree-rep-profiles-o2o/\n",
    "* tree-rep-profiles_one2one/"
   ]
  },
  {
   "cell_type": "markdown",
   "metadata": {},
   "source": [
    "### 計算overall processes length dist.\n",
    "* 包含small short & normal\n",
    "* 目前還差了loner\n",
    "* assertion test for checking dataset"
   ]
  },
  {
   "cell_type": "code",
   "execution_count": 10,
   "metadata": {},
   "outputs": [
    {
     "name": "stderr",
     "output_type": "stream",
     "text": [
      "100%|██████████| 157/157 [00:00<00:00, 970.08it/s]\n",
      "  0%|          | 0/159 [00:00<?, ?it/s]"
     ]
    },
    {
     "name": "stdout",
     "output_type": "stream",
     "text": [
      "duplicate ERR: ['./data/tree-rep-profiles_o2o_smallshort/small/151.brresmon_0.8/G17/3fb338d03c574cb7535ab5735de39eaf5c82c37f26b500f95aace158972cbb3b_2960.profile', './data/tree-rep-profiles_o2o_smallshort/short/151.brresmon_0.8/G17/3fb338d03c574cb7535ab5735de39eaf5c82c37f26b500f95aace158972cbb3b_2960.profile']\n",
      "duplicate ERR: ['./data/tree-rep-profiles_o2o_smallshort/small/151.brresmon_0.8/G17/3fb338d03c574cb7535ab5735de39eaf5c82c37f26b500f95aace158972cbb3b_2892.profile', './data/tree-rep-profiles_o2o_smallshort/short/151.brresmon_0.8/G17/3fb338d03c574cb7535ab5735de39eaf5c82c37f26b500f95aace158972cbb3b_2892.profile']\n",
      "duplicate ERR: ['./data/tree-rep-profiles_o2o_smallshort/small/18.domaiq_0.8/G345/9577445247f0d203e606f22edda7f3de6800649d783b9ad2607bb60c17cf1e08_3248.profile', './data/tree-rep-profiles_o2o_smallshort/short/18.domaiq_0.8/G345/9577445247f0d203e606f22edda7f3de6800649d783b9ad2607bb60c17cf1e08_3248.profile']\n",
      "duplicate ERR: ['./data/tree-rep-profiles_o2o_smallshort/small/18.domaiq_0.8/G345/9577445247f0d203e606f22edda7f3de6800649d783b9ad2607bb60c17cf1e08_3240.profile', './data/tree-rep-profiles_o2o_smallshort/short/18.domaiq_0.8/G345/9577445247f0d203e606f22edda7f3de6800649d783b9ad2607bb60c17cf1e08_3240.profile']\n",
      "duplicate ERR: ['./data/tree-rep-profiles_o2o_smallshort/small/18.domaiq_0.8/G311/fcc5245ff60e19f10599e63df17e9496fd4924e2a9b8f8567c2298cb6b0b0760_3280.profile', './data/tree-rep-profiles_o2o_smallshort/short/18.domaiq_0.8/G311/fcc5245ff60e19f10599e63df17e9496fd4924e2a9b8f8567c2298cb6b0b0760_3280.profile']\n",
      "duplicate ERR: ['./data/tree-rep-profiles_o2o_smallshort/small/18.domaiq_0.8/G311/3a622f41047ce229f0e2d1e7c1ad9f0e6781cc02b997bdcc41146d19ea8a4589_3288.profile', './data/tree-rep-profiles_o2o_smallshort/short/18.domaiq_0.8/G311/3a622f41047ce229f0e2d1e7c1ad9f0e6781cc02b997bdcc41146d19ea8a4589_3288.profile']\n",
      "duplicate ERR: ['./data/tree-rep-profiles_o2o_smallshort/small/18.domaiq_0.8/G310/a6736906022a329a383ed668489657f7afce6a2c2babe8faa1f178f646e6b0fa_3352.profile', './data/tree-rep-profiles_o2o_smallshort/short/18.domaiq_0.8/G310/a6736906022a329a383ed668489657f7afce6a2c2babe8faa1f178f646e6b0fa_3352.profile']\n",
      "duplicate ERR: ['./data/tree-rep-profiles_o2o_smallshort/small/18.domaiq_0.8/G310/564a400c878111f5e320aaf5223775af03d65def7630103e939c7f002d66de81_3368.profile', './data/tree-rep-profiles_o2o_smallshort/short/18.domaiq_0.8/G310/564a400c878111f5e320aaf5223775af03d65def7630103e939c7f002d66de81_3368.profile']\n",
      "duplicate ERR: ['./data/tree-rep-profiles_o2o_smallshort/small/18.domaiq_0.8/G329/3920ce44e1ecdb0712266738883f15053f8b46e571b1ca4629c0b1445a5d3a29_3184.profile', './data/tree-rep-profiles_o2o_smallshort/short/18.domaiq_0.8/G329/3920ce44e1ecdb0712266738883f15053f8b46e571b1ca4629c0b1445a5d3a29_3184.profile']\n",
      "duplicate ERR: ['./data/tree-rep-profiles_o2o_smallshort/small/18.domaiq_0.8/G329/3920ce44e1ecdb0712266738883f15053f8b46e571b1ca4629c0b1445a5d3a29_3224.profile', './data/tree-rep-profiles_o2o_smallshort/short/18.domaiq_0.8/G329/3920ce44e1ecdb0712266738883f15053f8b46e571b1ca4629c0b1445a5d3a29_3224.profile']\n",
      "duplicate ERR: ['./data/tree-rep-profiles_o2o_smallshort/small/18.domaiq_0.8/G359/d1b6ca346d4ce05bdfcf59bb8acbd6b55ae2267a61ead432e636011dd56e561b_2908.profile', './data/tree-rep-profiles_o2o_smallshort/short/18.domaiq_0.8/G359/d1b6ca346d4ce05bdfcf59bb8acbd6b55ae2267a61ead432e636011dd56e561b_2908.profile']\n",
      "duplicate ERR: ['./data/tree-rep-profiles_o2o_smallshort/small/18.domaiq_0.8/G359/1c850670c2f3ba12b32b4a896e572fb5e2f202c5b04697bfe053aed4fc9fb268_3304.profile', './data/tree-rep-profiles_o2o_smallshort/short/18.domaiq_0.8/G359/1c850670c2f3ba12b32b4a896e572fb5e2f202c5b04697bfe053aed4fc9fb268_3304.profile']\n",
      "duplicate ERR: ['./data/tree-rep-profiles_o2o_smallshort/small/18.domaiq_0.8/G340/81e5da3e8c918fa9bb817df541953b92c1299766151baee8b8d10df0e9db54ed_2960.profile', './data/tree-rep-profiles_o2o_smallshort/short/18.domaiq_0.8/G340/81e5da3e8c918fa9bb817df541953b92c1299766151baee8b8d10df0e9db54ed_2960.profile']\n",
      "duplicate ERR: ['./data/tree-rep-profiles_o2o_smallshort/small/18.domaiq_0.8/G340/db8614502ac4d779e6ebd3c86cf681b75b449890d44d4432a8542035a86d6c89_2996.profile', './data/tree-rep-profiles_o2o_smallshort/short/18.domaiq_0.8/G340/db8614502ac4d779e6ebd3c86cf681b75b449890d44d4432a8542035a86d6c89_2996.profile']\n",
      "duplicate ERR: ['./data/tree-rep-profiles_o2o_smallshort/small/18.domaiq_0.8/G317/3920ce44e1ecdb0712266738883f15053f8b46e571b1ca4629c0b1445a5d3a29_3292.profile', './data/tree-rep-profiles_o2o_smallshort/short/18.domaiq_0.8/G317/3920ce44e1ecdb0712266738883f15053f8b46e571b1ca4629c0b1445a5d3a29_3292.profile']\n",
      "duplicate ERR: ['./data/tree-rep-profiles_o2o_smallshort/small/18.domaiq_0.8/G317/3920ce44e1ecdb0712266738883f15053f8b46e571b1ca4629c0b1445a5d3a29_3284.profile', './data/tree-rep-profiles_o2o_smallshort/short/18.domaiq_0.8/G317/3920ce44e1ecdb0712266738883f15053f8b46e571b1ca4629c0b1445a5d3a29_3284.profile']\n",
      "duplicate ERR: ['./data/tree-rep-profiles_o2o_smallshort/small/18.domaiq_0.8/G347/84684dfec8c4fe92b8d66174950e48a77d0aa4fdef5a8ec3879df571288e113f_3444.profile', './data/tree-rep-profiles_o2o_smallshort/short/18.domaiq_0.8/G347/84684dfec8c4fe92b8d66174950e48a77d0aa4fdef5a8ec3879df571288e113f_3444.profile']\n",
      "duplicate ERR: ['./data/tree-rep-profiles_o2o_smallshort/small/18.domaiq_0.8/G347/84684dfec8c4fe92b8d66174950e48a77d0aa4fdef5a8ec3879df571288e113f_3416.profile', './data/tree-rep-profiles_o2o_smallshort/short/18.domaiq_0.8/G347/84684dfec8c4fe92b8d66174950e48a77d0aa4fdef5a8ec3879df571288e113f_3416.profile']\n",
      "duplicate ERR: ['./data/tree-rep-profiles_o2o_smallshort/small/18.domaiq_0.8/G297/19fa13be0546fc777be60ccd83337d96effea9e4a33155c74b23dfaebfe92b2c_3352.profile', './data/tree-rep-profiles_o2o_smallshort/short/18.domaiq_0.8/G297/19fa13be0546fc777be60ccd83337d96effea9e4a33155c74b23dfaebfe92b2c_3352.profile']\n",
      "duplicate ERR: ['./data/tree-rep-profiles_o2o_smallshort/small/18.domaiq_0.8/G297/32c16a7179693955d4c1ae7fc8aedc8529dfe618ecf818fe75416c9424e948ff_3272.profile', './data/tree-rep-profiles_o2o_smallshort/short/18.domaiq_0.8/G297/32c16a7179693955d4c1ae7fc8aedc8529dfe618ecf818fe75416c9424e948ff_3272.profile']\n",
      "duplicate ERR: ['./data/tree-rep-profiles_o2o_smallshort/small/18.domaiq_0.8/G309/59b80e4231d3b0e741e0376e0a6c77afa957f318ee3c25400edb7b9d02be8b3a_3400.profile', './data/tree-rep-profiles_o2o_smallshort/short/18.domaiq_0.8/G309/59b80e4231d3b0e741e0376e0a6c77afa957f318ee3c25400edb7b9d02be8b3a_3400.profile']\n",
      "duplicate ERR: ['./data/tree-rep-profiles_o2o_smallshort/small/18.domaiq_0.8/G309/091f32539679ee80a22962b5da70a7d96ec12da1d96b463c9b66ee2664d6cc55_3256.profile', './data/tree-rep-profiles_o2o_smallshort/short/18.domaiq_0.8/G309/091f32539679ee80a22962b5da70a7d96ec12da1d96b463c9b66ee2664d6cc55_3256.profile']\n",
      "duplicate ERR: ['./data/tree-rep-profiles_o2o_smallshort/small/18.domaiq_0.8/G342/d1b6ca346d4ce05bdfcf59bb8acbd6b55ae2267a61ead432e636011dd56e561b_2956.profile', './data/tree-rep-profiles_o2o_smallshort/short/18.domaiq_0.8/G342/d1b6ca346d4ce05bdfcf59bb8acbd6b55ae2267a61ead432e636011dd56e561b_2956.profile']\n",
      "duplicate ERR: ['./data/tree-rep-profiles_o2o_smallshort/small/18.domaiq_0.8/G342/1c850670c2f3ba12b32b4a896e572fb5e2f202c5b04697bfe053aed4fc9fb268_3352.profile', './data/tree-rep-profiles_o2o_smallshort/short/18.domaiq_0.8/G342/1c850670c2f3ba12b32b4a896e572fb5e2f202c5b04697bfe053aed4fc9fb268_3352.profile']\n",
      "duplicate ERR: ['./data/tree-rep-profiles_o2o_smallshort/small/18.domaiq_0.8/G354/82cd72f730f2b79f37c845654a8c0b5b369dd004af34a7f8e585ca0451be4ee9_3268.profile', './data/tree-rep-profiles_o2o_smallshort/short/18.domaiq_0.8/G354/82cd72f730f2b79f37c845654a8c0b5b369dd004af34a7f8e585ca0451be4ee9_3268.profile']\n",
      "duplicate ERR: ['./data/tree-rep-profiles_o2o_smallshort/small/18.domaiq_0.8/G354/82cd72f730f2b79f37c845654a8c0b5b369dd004af34a7f8e585ca0451be4ee9_3200.profile', './data/tree-rep-profiles_o2o_smallshort/short/18.domaiq_0.8/G354/82cd72f730f2b79f37c845654a8c0b5b369dd004af34a7f8e585ca0451be4ee9_3200.profile']\n",
      "duplicate ERR: ['./data/tree-rep-profiles_o2o_smallshort/small/18.domaiq_0.8/G351/fc8092ee60d48e85b40cf07df60c8c3134479c9e3d37d8d4c345f21034edea2b_3364.profile', './data/tree-rep-profiles_o2o_smallshort/short/18.domaiq_0.8/G351/fc8092ee60d48e85b40cf07df60c8c3134479c9e3d37d8d4c345f21034edea2b_3364.profile']\n",
      "duplicate ERR: ['./data/tree-rep-profiles_o2o_smallshort/small/18.domaiq_0.8/G351/3debbc4043ea7664a67c3dd094ab7ffe875569502925d1741ad4a3e4c3095f42_2924.profile', './data/tree-rep-profiles_o2o_smallshort/short/18.domaiq_0.8/G351/3debbc4043ea7664a67c3dd094ab7ffe875569502925d1741ad4a3e4c3095f42_2924.profile']\n",
      "duplicate ERR: ['./data/tree-rep-profiles_o2o_smallshort/small/18.domaiq_0.8/G307/886184ba006727ec1dbc6df3861bfb73b2fc69759b4c7c25fdc4ebf7cfe68094_3232.profile', './data/tree-rep-profiles_o2o_smallshort/short/18.domaiq_0.8/G307/886184ba006727ec1dbc6df3861bfb73b2fc69759b4c7c25fdc4ebf7cfe68094_3232.profile']\n",
      "duplicate ERR: ['./data/tree-rep-profiles_o2o_smallshort/small/18.domaiq_0.8/G307/ddaff2321d7a46427d5421c079dd3129666316faacfdede4749f7727b3bc8aab_2964.profile', './data/tree-rep-profiles_o2o_smallshort/short/18.domaiq_0.8/G307/ddaff2321d7a46427d5421c079dd3129666316faacfdede4749f7727b3bc8aab_2964.profile']\n",
      "duplicate ERR: ['./data/tree-rep-profiles_o2o_smallshort/small/18.domaiq_0.8/G299/d1b6ca346d4ce05bdfcf59bb8acbd6b55ae2267a61ead432e636011dd56e561b_3028.profile', './data/tree-rep-profiles_o2o_smallshort/short/18.domaiq_0.8/G299/d1b6ca346d4ce05bdfcf59bb8acbd6b55ae2267a61ead432e636011dd56e561b_3028.profile']\n",
      "duplicate ERR: ['./data/tree-rep-profiles_o2o_smallshort/small/18.domaiq_0.8/G299/1c850670c2f3ba12b32b4a896e572fb5e2f202c5b04697bfe053aed4fc9fb268_3396.profile', './data/tree-rep-profiles_o2o_smallshort/short/18.domaiq_0.8/G299/1c850670c2f3ba12b32b4a896e572fb5e2f202c5b04697bfe053aed4fc9fb268_3396.profile']\n",
      "duplicate ERR: ['./data/tree-rep-profiles_o2o_smallshort/small/18.domaiq_0.8/G316/03b1d03479c5eb82b2a7db362594d528f4f1a07e44fe197f24e142e49e0d10d9_3284.profile', './data/tree-rep-profiles_o2o_smallshort/short/18.domaiq_0.8/G316/03b1d03479c5eb82b2a7db362594d528f4f1a07e44fe197f24e142e49e0d10d9_3284.profile']\n",
      "duplicate ERR: ['./data/tree-rep-profiles_o2o_smallshort/small/18.domaiq_0.8/G316/03b1d03479c5eb82b2a7db362594d528f4f1a07e44fe197f24e142e49e0d10d9_3296.profile', './data/tree-rep-profiles_o2o_smallshort/short/18.domaiq_0.8/G316/03b1d03479c5eb82b2a7db362594d528f4f1a07e44fe197f24e142e49e0d10d9_3296.profile']\n",
      "duplicate ERR: ['./data/tree-rep-profiles_o2o_smallshort/small/18.domaiq_0.8/G302/59b80e4231d3b0e741e0376e0a6c77afa957f318ee3c25400edb7b9d02be8b3a_3388.profile', './data/tree-rep-profiles_o2o_smallshort/short/18.domaiq_0.8/G302/59b80e4231d3b0e741e0376e0a6c77afa957f318ee3c25400edb7b9d02be8b3a_3388.profile']\n"
     ]
    },
    {
     "name": "stderr",
     "output_type": "stream",
     "text": [
      "\r",
      "  1%|▏         | 2/159 [00:00<01:16,  2.05it/s]"
     ]
    },
    {
     "name": "stdout",
     "output_type": "stream",
     "text": [
      "duplicate ERR: ['./data/tree-rep-profiles_o2o_smallshort/small/18.domaiq_0.8/G302/091f32539679ee80a22962b5da70a7d96ec12da1d96b463c9b66ee2664d6cc55_3224.profile', './data/tree-rep-profiles_o2o_smallshort/short/18.domaiq_0.8/G302/091f32539679ee80a22962b5da70a7d96ec12da1d96b463c9b66ee2664d6cc55_3224.profile']\n",
      "duplicate ERR: ['./data/tree-rep-profiles_o2o_smallshort/small/18.domaiq_0.8/G308/82386f6da0db0c35edf3afa527e65940b12663b2267ddaac61c478d2c0b7b8b3_3076.profile', './data/tree-rep-profiles_o2o_smallshort/short/18.domaiq_0.8/G308/82386f6da0db0c35edf3afa527e65940b12663b2267ddaac61c478d2c0b7b8b3_3076.profile']\n",
      "duplicate ERR: ['./data/tree-rep-profiles_o2o_smallshort/small/18.domaiq_0.8/G308/0d9f4495510f39c0d4af39f6670db1dbeab5f8560171ae62620bbc57407b6098_3200.profile', './data/tree-rep-profiles_o2o_smallshort/short/18.domaiq_0.8/G308/0d9f4495510f39c0d4af39f6670db1dbeab5f8560171ae62620bbc57407b6098_3200.profile']\n",
      "duplicate ERR: ['./data/tree-rep-profiles_o2o_smallshort/small/18.domaiq_0.8/G305/d0d1f7ba46aa73a37a643ca6cc17d4e249050e4c228c9b509a10d658033b4540_2948.profile', './data/tree-rep-profiles_o2o_smallshort/short/18.domaiq_0.8/G305/d0d1f7ba46aa73a37a643ca6cc17d4e249050e4c228c9b509a10d658033b4540_2948.profile']\n",
      "duplicate ERR: ['./data/tree-rep-profiles_o2o_smallshort/small/18.domaiq_0.8/G305/8723927b89130b2d6148598029e256e855fb1dbe60cffd3a672875e0cf6798c1_2988.profile', './data/tree-rep-profiles_o2o_smallshort/short/18.domaiq_0.8/G305/8723927b89130b2d6148598029e256e855fb1dbe60cffd3a672875e0cf6798c1_2988.profile']\n",
      "duplicate ERR: ['./data/tree-rep-profiles_o2o_smallshort/small/85.ipamor_0.8/G91/b00300bf2f14d8d949d85a0cfd6126e73952bb391379a95b2969db14afab41b8_3056.profile', './data/tree-rep-profiles_o2o_smallshort/short/85.ipamor_0.8/G91/b00300bf2f14d8d949d85a0cfd6126e73952bb391379a95b2969db14afab41b8_3056.profile']\n",
      "duplicate ERR: ['./data/tree-rep-profiles_o2o_smallshort/small/85.ipamor_0.8/G91/b00300bf2f14d8d949d85a0cfd6126e73952bb391379a95b2969db14afab41b8_3408.profile', './data/tree-rep-profiles_o2o_smallshort/short/85.ipamor_0.8/G91/b00300bf2f14d8d949d85a0cfd6126e73952bb391379a95b2969db14afab41b8_3408.profile']\n",
      "duplicate ERR: ['./data/tree-rep-profiles_o2o_smallshort/small/85.ipamor_0.8/G90/bea74ce6973508ed1b6a8d02f52e69be32528cb5be166e354cfbec90edfe8e13_2836.profile', './data/tree-rep-profiles_o2o_smallshort/short/85.ipamor_0.8/G90/bea74ce6973508ed1b6a8d02f52e69be32528cb5be166e354cfbec90edfe8e13_2836.profile']\n",
      "duplicate ERR: ['./data/tree-rep-profiles_o2o_smallshort/small/85.ipamor_0.8/G90/4aa680b42a05f2f78dcfca5b0d8860a7fa5917b8b9d8bf62f604e1dc9f2e3da7_3256.profile', './data/tree-rep-profiles_o2o_smallshort/short/85.ipamor_0.8/G90/4aa680b42a05f2f78dcfca5b0d8860a7fa5917b8b9d8bf62f604e1dc9f2e3da7_3256.profile']\n"
     ]
    },
    {
     "name": "stderr",
     "output_type": "stream",
     "text": [
      "\r",
      "  2%|▏         | 3/159 [00:01<01:00,  2.59it/s]"
     ]
    },
    {
     "name": "stdout",
     "output_type": "stream",
     "text": [
      "duplicate ERR: ['./data/tree-rep-profiles_o2o_smallshort/small/85.ipamor_0.8/G82/0283d3fcaee8d5c64df6eabd09f930f417a398a7b6902ad5c961b622e49e6da0_3336.profile', './data/tree-rep-profiles_o2o_smallshort/short/85.ipamor_0.8/G82/0283d3fcaee8d5c64df6eabd09f930f417a398a7b6902ad5c961b622e49e6da0_3336.profile']\n",
      "duplicate ERR: ['./data/tree-rep-profiles_o2o_smallshort/small/85.ipamor_0.8/G82/0283d3fcaee8d5c64df6eabd09f930f417a398a7b6902ad5c961b622e49e6da0_3220.profile', './data/tree-rep-profiles_o2o_smallshort/short/85.ipamor_0.8/G82/0283d3fcaee8d5c64df6eabd09f930f417a398a7b6902ad5c961b622e49e6da0_3220.profile']\n",
      "duplicate ERR: ['./data/tree-rep-profiles_o2o_smallshort/small/75.crytex_0.8/G60/b7bb64d4bd4be14273a7f3101a3757fe1705b6bfcb1f08e053350bc0a12d9211_3504.profile', './data/tree-rep-profiles_o2o_smallshort/short/75.crytex_0.8/G60/b7bb64d4bd4be14273a7f3101a3757fe1705b6bfcb1f08e053350bc0a12d9211_3504.profile']\n",
      "duplicate ERR: ['./data/tree-rep-profiles_o2o_smallshort/small/75.crytex_0.8/G60/b7bb64d4bd4be14273a7f3101a3757fe1705b6bfcb1f08e053350bc0a12d9211_3476.profile', './data/tree-rep-profiles_o2o_smallshort/short/75.crytex_0.8/G60/b7bb64d4bd4be14273a7f3101a3757fe1705b6bfcb1f08e053350bc0a12d9211_3476.profile']\n",
      "duplicate ERR: ['./data/tree-rep-profiles_o2o_smallshort/small/75.crytex_0.8/G68/02d364c7605a4fd88b3c7afa916273190354c045a178d5061e24b9a03362fdcd_3348.profile', './data/tree-rep-profiles_o2o_smallshort/short/75.crytex_0.8/G68/02d364c7605a4fd88b3c7afa916273190354c045a178d5061e24b9a03362fdcd_3348.profile']\n",
      "duplicate ERR: ['./data/tree-rep-profiles_o2o_smallshort/small/75.crytex_0.8/G68/a5fea80f6c50e4e8a6e3c435dfa9b3df3b2772c05e53ebef6433c1d39ed3da6c_3224.profile', './data/tree-rep-profiles_o2o_smallshort/short/75.crytex_0.8/G68/a5fea80f6c50e4e8a6e3c435dfa9b3df3b2772c05e53ebef6433c1d39ed3da6c_3224.profile']\n",
      "duplicate ERR: ['./data/tree-rep-profiles_o2o_smallshort/small/75.crytex_0.8/G56/b7bb64d4bd4be14273a7f3101a3757fe1705b6bfcb1f08e053350bc0a12d9211_3636.profile', './data/tree-rep-profiles_o2o_smallshort/short/75.crytex_0.8/G56/b7bb64d4bd4be14273a7f3101a3757fe1705b6bfcb1f08e053350bc0a12d9211_3636.profile']\n",
      "duplicate ERR: ['./data/tree-rep-profiles_o2o_smallshort/small/75.crytex_0.8/G56/b7bb64d4bd4be14273a7f3101a3757fe1705b6bfcb1f08e053350bc0a12d9211_3616.profile', './data/tree-rep-profiles_o2o_smallshort/short/75.crytex_0.8/G56/b7bb64d4bd4be14273a7f3101a3757fe1705b6bfcb1f08e053350bc0a12d9211_3616.profile']\n"
     ]
    },
    {
     "name": "stderr",
     "output_type": "stream",
     "text": [
      "\r",
      "  3%|▎         | 4/159 [00:01<00:53,  2.89it/s]"
     ]
    },
    {
     "name": "stdout",
     "output_type": "stream",
     "text": [
      "duplicate ERR: ['./data/tree-rep-profiles_o2o_smallshort/small/75.crytex_0.8/G65/5b2e54dd8e0009ac9bb087bd5454d416f38311357ffd3493ef341229bc992ad8_3220.profile', './data/tree-rep-profiles_o2o_smallshort/short/75.crytex_0.8/G65/5b2e54dd8e0009ac9bb087bd5454d416f38311357ffd3493ef341229bc992ad8_3220.profile']\n",
      "duplicate ERR: ['./data/tree-rep-profiles_o2o_smallshort/small/75.crytex_0.8/G65/028dbd4c06ae625fdb82ed254a8b945a4d2b4a8f15da4406daef76a051b5c70a_3244.profile', './data/tree-rep-profiles_o2o_smallshort/short/75.crytex_0.8/G65/028dbd4c06ae625fdb82ed254a8b945a4d2b4a8f15da4406daef76a051b5c70a_3244.profile']\n",
      "duplicate ERR: ['./data/tree-rep-profiles_o2o_smallshort/small/75.crytex_0.8/G67/b7bb64d4bd4be14273a7f3101a3757fe1705b6bfcb1f08e053350bc0a12d9211_3364.profile', './data/tree-rep-profiles_o2o_smallshort/short/75.crytex_0.8/G67/b7bb64d4bd4be14273a7f3101a3757fe1705b6bfcb1f08e053350bc0a12d9211_3364.profile']\n",
      "duplicate ERR: ['./data/tree-rep-profiles_o2o_smallshort/small/75.crytex_0.8/G67/b7bb64d4bd4be14273a7f3101a3757fe1705b6bfcb1f08e053350bc0a12d9211_3356.profile', './data/tree-rep-profiles_o2o_smallshort/short/75.crytex_0.8/G67/b7bb64d4bd4be14273a7f3101a3757fe1705b6bfcb1f08e053350bc0a12d9211_3356.profile']\n",
      "duplicate ERR: ['./data/tree-rep-profiles_o2o_smallshort/small/213.arqpcaf_0.8/G21/6dac800d8a34db09a8af2ad1c29aafc7e79bc271cb43dc674432e5bdc0081c96_3408.profile', './data/tree-rep-profiles_o2o_smallshort/short/213.arqpcaf_0.8/G21/6dac800d8a34db09a8af2ad1c29aafc7e79bc271cb43dc674432e5bdc0081c96_3408.profile']\n",
      "duplicate ERR: ['./data/tree-rep-profiles_o2o_smallshort/small/213.arqpcaf_0.8/G21/6dac800d8a34db09a8af2ad1c29aafc7e79bc271cb43dc674432e5bdc0081c96_3292.profile', './data/tree-rep-profiles_o2o_smallshort/short/213.arqpcaf_0.8/G21/6dac800d8a34db09a8af2ad1c29aafc7e79bc271cb43dc674432e5bdc0081c96_3292.profile']\n",
      "duplicate ERR: ['./data/tree-rep-profiles_o2o_smallshort/small/213.arqpcaf_0.8/G22/6eb6f270320f9c49b39613741739f9b5be8b4023ebfb704dcfcac25024cac277_3200.profile', './data/tree-rep-profiles_o2o_smallshort/short/213.arqpcaf_0.8/G22/6eb6f270320f9c49b39613741739f9b5be8b4023ebfb704dcfcac25024cac277_3200.profile']\n",
      "duplicate ERR: ['./data/tree-rep-profiles_o2o_smallshort/small/213.arqpcaf_0.8/G22/6dac800d8a34db09a8af2ad1c29aafc7e79bc271cb43dc674432e5bdc0081c96_3196.profile', './data/tree-rep-profiles_o2o_smallshort/short/213.arqpcaf_0.8/G22/6dac800d8a34db09a8af2ad1c29aafc7e79bc271cb43dc674432e5bdc0081c96_3196.profile']\n",
      "duplicate ERR: ['./data/tree-rep-profiles_o2o_smallshort/small/213.arqpcaf_0.8/G23/6eb6f270320f9c49b39613741739f9b5be8b4023ebfb704dcfcac25024cac277_3232.profile', './data/tree-rep-profiles_o2o_smallshort/short/213.arqpcaf_0.8/G23/6eb6f270320f9c49b39613741739f9b5be8b4023ebfb704dcfcac25024cac277_3232.profile']\n"
     ]
    },
    {
     "name": "stderr",
     "output_type": "stream",
     "text": [
      "\r",
      "  3%|▎         | 5/159 [00:01<00:44,  3.49it/s]"
     ]
    },
    {
     "name": "stdout",
     "output_type": "stream",
     "text": [
      "duplicate ERR: ['./data/tree-rep-profiles_o2o_smallshort/small/213.arqpcaf_0.8/G23/6dac800d8a34db09a8af2ad1c29aafc7e79bc271cb43dc674432e5bdc0081c96_3216.profile', './data/tree-rep-profiles_o2o_smallshort/short/213.arqpcaf_0.8/G23/6dac800d8a34db09a8af2ad1c29aafc7e79bc271cb43dc674432e5bdc0081c96_3216.profile']\n",
      "duplicate ERR: ['./data/tree-rep-profiles_o2o_smallshort/small/65.smshoax_0.8/G75/0fe0cc4f596941f7c4301f324cc5cb15be90617d4a92be8651674cf40fcec158_3280.profile', './data/tree-rep-profiles_o2o_smallshort/short/65.smshoax_0.8/G75/0fe0cc4f596941f7c4301f324cc5cb15be90617d4a92be8651674cf40fcec158_3280.profile']\n",
      "duplicate ERR: ['./data/tree-rep-profiles_o2o_smallshort/small/65.smshoax_0.8/G75/0fe0cc4f596941f7c4301f324cc5cb15be90617d4a92be8651674cf40fcec158_3388.profile', './data/tree-rep-profiles_o2o_smallshort/short/65.smshoax_0.8/G75/0fe0cc4f596941f7c4301f324cc5cb15be90617d4a92be8651674cf40fcec158_3388.profile']\n",
      "duplicate ERR: ['./data/tree-rep-profiles_o2o_smallshort/small/65.smshoax_0.8/G74/0fe0cc4f596941f7c4301f324cc5cb15be90617d4a92be8651674cf40fcec158_3460.profile', './data/tree-rep-profiles_o2o_smallshort/short/65.smshoax_0.8/G74/0fe0cc4f596941f7c4301f324cc5cb15be90617d4a92be8651674cf40fcec158_3460.profile']\n",
      "duplicate ERR: ['./data/tree-rep-profiles_o2o_smallshort/small/65.smshoax_0.8/G74/0fe0cc4f596941f7c4301f324cc5cb15be90617d4a92be8651674cf40fcec158_3368.profile', './data/tree-rep-profiles_o2o_smallshort/short/65.smshoax_0.8/G74/0fe0cc4f596941f7c4301f324cc5cb15be90617d4a92be8651674cf40fcec158_3368.profile']\n",
      "duplicate ERR: ['./data/tree-rep-profiles_o2o_smallshort/small/65.smshoax_0.8/G76/0db3b1309a10279854fd310ff5b64a4b6e57220b538ad815be93fcfec12c95d6_2960.profile', './data/tree-rep-profiles_o2o_smallshort/short/65.smshoax_0.8/G76/0db3b1309a10279854fd310ff5b64a4b6e57220b538ad815be93fcfec12c95d6_2960.profile']\n",
      "duplicate ERR: ['./data/tree-rep-profiles_o2o_smallshort/small/65.smshoax_0.8/G76/06fb7b90aa3b0d0bb3222c508955d1061a821adf701595700672e064223f7b10_3244.profile', './data/tree-rep-profiles_o2o_smallshort/short/65.smshoax_0.8/G76/06fb7b90aa3b0d0bb3222c508955d1061a821adf701595700672e064223f7b10_3244.profile']\n",
      "duplicate ERR: ['./data/tree-rep-profiles_o2o_smallshort/small/65.smshoax_0.8/G80/069ae80420b68965549e143427a1dda40ff469e6026eaa08129d72ec41dba77d_2868.profile', './data/tree-rep-profiles_o2o_smallshort/short/65.smshoax_0.8/G80/069ae80420b68965549e143427a1dda40ff469e6026eaa08129d72ec41dba77d_2868.profile']\n"
     ]
    },
    {
     "name": "stderr",
     "output_type": "stream",
     "text": [
      "\r",
      "  4%|▍         | 6/159 [00:01<00:49,  3.12it/s]"
     ]
    },
    {
     "name": "stdout",
     "output_type": "stream",
     "text": [
      "duplicate ERR: ['./data/tree-rep-profiles_o2o_smallshort/small/65.smshoax_0.8/G80/069ae80420b68965549e143427a1dda40ff469e6026eaa08129d72ec41dba77d_2844.profile', './data/tree-rep-profiles_o2o_smallshort/short/65.smshoax_0.8/G80/069ae80420b68965549e143427a1dda40ff469e6026eaa08129d72ec41dba77d_2844.profile']\n",
      "duplicate ERR: ['./data/tree-rep-profiles_o2o_smallshort/small/65.smshoax_0.8/G73/0a5a9aff3d22b75c4549c67a75242940bf2e9b45341ab1a787a43446090dd875_3396.profile', './data/tree-rep-profiles_o2o_smallshort/short/65.smshoax_0.8/G73/0a5a9aff3d22b75c4549c67a75242940bf2e9b45341ab1a787a43446090dd875_3396.profile']\n",
      "duplicate ERR: ['./data/tree-rep-profiles_o2o_smallshort/small/65.smshoax_0.8/G73/0fb5e75ed1f8ee46ac1a2adb4dbc6c8f94e2cf063bb1d6b357c47ab5c994aa7d_2904.profile', './data/tree-rep-profiles_o2o_smallshort/short/65.smshoax_0.8/G73/0fb5e75ed1f8ee46ac1a2adb4dbc6c8f94e2cf063bb1d6b357c47ab5c994aa7d_2904.profile']\n",
      "duplicate ERR: ['./data/tree-rep-profiles_o2o_smallshort/small/65.smshoax_0.8/G77/0aaba625aa61eb9564cccbb150436aee7fe40a4139a74fbe3c6a8d16a2c11f9b_3308.profile', './data/tree-rep-profiles_o2o_smallshort/short/65.smshoax_0.8/G77/0aaba625aa61eb9564cccbb150436aee7fe40a4139a74fbe3c6a8d16a2c11f9b_3308.profile']\n",
      "duplicate ERR: ['./data/tree-rep-profiles_o2o_smallshort/small/65.smshoax_0.8/G77/0aaba625aa61eb9564cccbb150436aee7fe40a4139a74fbe3c6a8d16a2c11f9b_3380.profile', './data/tree-rep-profiles_o2o_smallshort/short/65.smshoax_0.8/G77/0aaba625aa61eb9564cccbb150436aee7fe40a4139a74fbe3c6a8d16a2c11f9b_3380.profile']\n",
      "duplicate ERR: ['./data/tree-rep-profiles_o2o_smallshort/small/65.smshoax_0.8/G78/0fe0cc4f596941f7c4301f324cc5cb15be90617d4a92be8651674cf40fcec158_3380.profile', './data/tree-rep-profiles_o2o_smallshort/short/65.smshoax_0.8/G78/0fe0cc4f596941f7c4301f324cc5cb15be90617d4a92be8651674cf40fcec158_3380.profile']\n",
      "duplicate ERR: ['./data/tree-rep-profiles_o2o_smallshort/small/65.smshoax_0.8/G78/0fe0cc4f596941f7c4301f324cc5cb15be90617d4a92be8651674cf40fcec158_3268.profile', './data/tree-rep-profiles_o2o_smallshort/short/65.smshoax_0.8/G78/0fe0cc4f596941f7c4301f324cc5cb15be90617d4a92be8651674cf40fcec158_3268.profile']\n",
      "duplicate ERR: ['./data/tree-rep-profiles_o2o_smallshort/small/65.smshoax_0.8/G81/0a5e0cd782c1c724b1a6f83857aa7786b7f26242c91359385c04764586b99db5_2872.profile', './data/tree-rep-profiles_o2o_smallshort/short/65.smshoax_0.8/G81/0a5e0cd782c1c724b1a6f83857aa7786b7f26242c91359385c04764586b99db5_2872.profile']\n",
      "duplicate ERR: ['./data/tree-rep-profiles_o2o_smallshort/small/65.smshoax_0.8/G81/0bd76922b2e662ee5b5fafdeb32041cd2a9d3eced45571f835d1f931b78db8ef_3292.profile', './data/tree-rep-profiles_o2o_smallshort/short/65.smshoax_0.8/G81/0bd76922b2e662ee5b5fafdeb32041cd2a9d3eced45571f835d1f931b78db8ef_3292.profile']\n",
      "duplicate ERR: ['./data/tree-rep-profiles_o2o_smallshort/small/61.virlock_0.8/G97/15954a742368c8f32a30d0e683ae361c113399ce172d82759a52a1758ea566f8_3372.profile', './data/tree-rep-profiles_o2o_smallshort/short/61.virlock_0.8/G97/15954a742368c8f32a30d0e683ae361c113399ce172d82759a52a1758ea566f8_3372.profile']\n",
      "duplicate ERR: ['./data/tree-rep-profiles_o2o_smallshort/small/61.virlock_0.8/G97/7c61dd56a57ababeb64974dbae190e9ce097e90abe22e6c7d2f3f0353bec8011_3004.profile', './data/tree-rep-profiles_o2o_smallshort/short/61.virlock_0.8/G97/7c61dd56a57ababeb64974dbae190e9ce097e90abe22e6c7d2f3f0353bec8011_3004.profile']\n",
      "duplicate ERR: ['./data/tree-rep-profiles_o2o_smallshort/small/61.virlock_0.8/G83/7c61dd56a57ababeb64974dbae190e9ce097e90abe22e6c7d2f3f0353bec8011_3176.profile', './data/tree-rep-profiles_o2o_smallshort/short/61.virlock_0.8/G83/7c61dd56a57ababeb64974dbae190e9ce097e90abe22e6c7d2f3f0353bec8011_3176.profile']\n",
      "duplicate ERR: ['./data/tree-rep-profiles_o2o_smallshort/small/61.virlock_0.8/G83/71396ee6de74e255b5dd35f655e5737772d2d2120450321a2988b0e92b4938aa_3268.profile', './data/tree-rep-profiles_o2o_smallshort/short/61.virlock_0.8/G83/71396ee6de74e255b5dd35f655e5737772d2d2120450321a2988b0e92b4938aa_3268.profile']\n",
      "duplicate ERR: ['./data/tree-rep-profiles_o2o_smallshort/small/61.virlock_0.8/G95/ef1e4235faebe7d8e6afb0ed7cbcf2ebb8a5bcf827f0a22d02dc770d2c7fd4d7_3352.profile', './data/tree-rep-profiles_o2o_smallshort/short/61.virlock_0.8/G95/ef1e4235faebe7d8e6afb0ed7cbcf2ebb8a5bcf827f0a22d02dc770d2c7fd4d7_3352.profile']\n",
      "duplicate ERR: ['./data/tree-rep-profiles_o2o_smallshort/small/61.virlock_0.8/G95/ef1e4235faebe7d8e6afb0ed7cbcf2ebb8a5bcf827f0a22d02dc770d2c7fd4d7_3400.profile', './data/tree-rep-profiles_o2o_smallshort/short/61.virlock_0.8/G95/ef1e4235faebe7d8e6afb0ed7cbcf2ebb8a5bcf827f0a22d02dc770d2c7fd4d7_3400.profile']\n",
      "duplicate ERR: ['./data/tree-rep-profiles_o2o_smallshort/small/61.virlock_0.8/G91/d13968092d2b750f9d1e79f5313e79b0e7f2e1f189fb2a3863c4ff36a1d3c11e_3364.profile', './data/tree-rep-profiles_o2o_smallshort/short/61.virlock_0.8/G91/d13968092d2b750f9d1e79f5313e79b0e7f2e1f189fb2a3863c4ff36a1d3c11e_3364.profile']\n",
      "duplicate ERR: ['./data/tree-rep-profiles_o2o_smallshort/small/61.virlock_0.8/G91/a02d51f4bbb89d3e2aa31e65b018598130f5356d8b416167f4ea525d107c7ff5_3228.profile', './data/tree-rep-profiles_o2o_smallshort/short/61.virlock_0.8/G91/a02d51f4bbb89d3e2aa31e65b018598130f5356d8b416167f4ea525d107c7ff5_3228.profile']\n",
      "duplicate ERR: ['./data/tree-rep-profiles_o2o_smallshort/small/61.virlock_0.8/G94/184cd0c740316c3c3f60584aadce548f62680144e30ec35b55c7e7e09c16be5c_3312.profile', './data/tree-rep-profiles_o2o_smallshort/short/61.virlock_0.8/G94/184cd0c740316c3c3f60584aadce548f62680144e30ec35b55c7e7e09c16be5c_3312.profile']\n"
     ]
    },
    {
     "name": "stderr",
     "output_type": "stream",
     "text": [
      "\r",
      "  4%|▍         | 7/159 [00:02<00:50,  3.03it/s]"
     ]
    },
    {
     "name": "stdout",
     "output_type": "stream",
     "text": [
      "duplicate ERR: ['./data/tree-rep-profiles_o2o_smallshort/small/61.virlock_0.8/G94/184cd0c740316c3c3f60584aadce548f62680144e30ec35b55c7e7e09c16be5c_3356.profile', './data/tree-rep-profiles_o2o_smallshort/short/61.virlock_0.8/G94/184cd0c740316c3c3f60584aadce548f62680144e30ec35b55c7e7e09c16be5c_3356.profile']\n",
      "duplicate ERR: ['./data/tree-rep-profiles_o2o_smallshort/small/61.virlock_0.8/G82/d037fe03233f22d14df6d6cc800a7c109266c1cd916611792d1dd9f7bc404fac_3344.profile', './data/tree-rep-profiles_o2o_smallshort/short/61.virlock_0.8/G82/d037fe03233f22d14df6d6cc800a7c109266c1cd916611792d1dd9f7bc404fac_3344.profile']\n",
      "duplicate ERR: ['./data/tree-rep-profiles_o2o_smallshort/small/61.virlock_0.8/G82/65632be868af44045475e7d529c732ec8718e1a43921b20bc4504ecb846be5a6_2904.profile', './data/tree-rep-profiles_o2o_smallshort/short/61.virlock_0.8/G82/65632be868af44045475e7d529c732ec8718e1a43921b20bc4504ecb846be5a6_2904.profile']\n",
      "duplicate ERR: ['./data/tree-rep-profiles_o2o_smallshort/small/61.virlock_0.8/G81/b927ffd01aa2d89caf7280860148198cf91668b7a662c3e5d00f494127f7e003_3468.profile', './data/tree-rep-profiles_o2o_smallshort/short/61.virlock_0.8/G81/b927ffd01aa2d89caf7280860148198cf91668b7a662c3e5d00f494127f7e003_3468.profile']\n",
      "duplicate ERR: ['./data/tree-rep-profiles_o2o_smallshort/small/61.virlock_0.8/G81/b927ffd01aa2d89caf7280860148198cf91668b7a662c3e5d00f494127f7e003_3188.profile', './data/tree-rep-profiles_o2o_smallshort/short/61.virlock_0.8/G81/b927ffd01aa2d89caf7280860148198cf91668b7a662c3e5d00f494127f7e003_3188.profile']\n",
      "duplicate ERR: ['./data/tree-rep-profiles_o2o_smallshort/small/79.lydra_0.8/G48/d75db91458e4e3ee1326b43095b6a23f8aff94cbc2279fee7c2407dc5e838f1e_3252.profile', './data/tree-rep-profiles_o2o_smallshort/short/79.lydra_0.8/G48/d75db91458e4e3ee1326b43095b6a23f8aff94cbc2279fee7c2407dc5e838f1e_3252.profile']\n",
      "duplicate ERR: ['./data/tree-rep-profiles_o2o_smallshort/small/79.lydra_0.8/G48/71362ec6f86ca2c1cf9f0ad828ff86968e1c4f7a0202703bfac7809235932b25_3324.profile', './data/tree-rep-profiles_o2o_smallshort/short/79.lydra_0.8/G48/71362ec6f86ca2c1cf9f0ad828ff86968e1c4f7a0202703bfac7809235932b25_3324.profile']\n",
      "duplicate ERR: ['./data/tree-rep-profiles_o2o_smallshort/small/102.vundo_0.8/G30/08d4f33b7eed100426a968abaa59fc291566310239cd178895f284fe55dd0010_3204.profile', './data/tree-rep-profiles_o2o_smallshort/short/102.vundo_0.8/G30/08d4f33b7eed100426a968abaa59fc291566310239cd178895f284fe55dd0010_3204.profile']\n"
     ]
    },
    {
     "name": "stderr",
     "output_type": "stream",
     "text": [
      "\r",
      "  6%|▌         | 9/159 [00:02<00:38,  3.94it/s]"
     ]
    },
    {
     "name": "stdout",
     "output_type": "stream",
     "text": [
      "duplicate ERR: ['./data/tree-rep-profiles_o2o_smallshort/small/102.vundo_0.8/G30/0d0f63f285ea91e62201e1e90fd079b1507dfec39142efdd34f13029df410e8e_3244.profile', './data/tree-rep-profiles_o2o_smallshort/short/102.vundo_0.8/G30/0d0f63f285ea91e62201e1e90fd079b1507dfec39142efdd34f13029df410e8e_3244.profile']\n",
      "duplicate ERR: ['./data/tree-rep-profiles_o2o_smallshort/small/102.vundo_0.8/G31/0b305b489f8da7c4bd0fe1702effbb1fd58de8a5d8b0c49947cd75536f82c349_3020.profile', './data/tree-rep-profiles_o2o_smallshort/short/102.vundo_0.8/G31/0b305b489f8da7c4bd0fe1702effbb1fd58de8a5d8b0c49947cd75536f82c349_3020.profile']\n",
      "duplicate ERR: ['./data/tree-rep-profiles_o2o_smallshort/small/102.vundo_0.8/G31/11d2758916990181a746d1595bf3746ce939e4919e3d0d5babfee12c69c01451_3260.profile', './data/tree-rep-profiles_o2o_smallshort/short/102.vundo_0.8/G31/11d2758916990181a746d1595bf3746ce939e4919e3d0d5babfee12c69c01451_3260.profile']\n",
      "duplicate ERR: ['./data/tree-rep-profiles_o2o_smallshort/small/11.zusy_0.8/G459/69492cb074218ba2c21b1b236a144ea83fd286faf7ffdd994fabdb46165af138_3324.profile', './data/tree-rep-profiles_o2o_smallshort/short/11.zusy_0.8/G459/69492cb074218ba2c21b1b236a144ea83fd286faf7ffdd994fabdb46165af138_3324.profile']\n",
      "duplicate ERR: ['./data/tree-rep-profiles_o2o_smallshort/small/11.zusy_0.8/G459/69492cb074218ba2c21b1b236a144ea83fd286faf7ffdd994fabdb46165af138_3248.profile', './data/tree-rep-profiles_o2o_smallshort/short/11.zusy_0.8/G459/69492cb074218ba2c21b1b236a144ea83fd286faf7ffdd994fabdb46165af138_3248.profile']\n",
      "duplicate ERR: ['./data/tree-rep-profiles_o2o_smallshort/small/11.zusy_0.8/G445/138dcab6043dd127b793a8263d4e832cc1b08aa40cad653c6a13bf1626c24566_3264.profile', './data/tree-rep-profiles_o2o_smallshort/short/11.zusy_0.8/G445/138dcab6043dd127b793a8263d4e832cc1b08aa40cad653c6a13bf1626c24566_3264.profile']\n",
      "duplicate ERR: ['./data/tree-rep-profiles_o2o_smallshort/small/11.zusy_0.8/G445/06a8a29db6372a51468ba673d70a4509901447b8065c346150e84b17266d1436_3336.profile', './data/tree-rep-profiles_o2o_smallshort/short/11.zusy_0.8/G445/06a8a29db6372a51468ba673d70a4509901447b8065c346150e84b17266d1436_3336.profile']\n",
      "duplicate ERR: ['./data/tree-rep-profiles_o2o_smallshort/small/11.zusy_0.8/G481/097f02c1f9bef32aa17f51c0c6f1ed836fe974cfe4152f450a053a63e237c10f_3164.profile', './data/tree-rep-profiles_o2o_smallshort/short/11.zusy_0.8/G481/097f02c1f9bef32aa17f51c0c6f1ed836fe974cfe4152f450a053a63e237c10f_3164.profile']\n",
      "duplicate ERR: ['./data/tree-rep-profiles_o2o_smallshort/small/11.zusy_0.8/G481/023bb8c0a37e56554981c31b756c0a13ad868f7946f5ea8ae1f11070d4cb69e2_3188.profile', './data/tree-rep-profiles_o2o_smallshort/short/11.zusy_0.8/G481/023bb8c0a37e56554981c31b756c0a13ad868f7946f5ea8ae1f11070d4cb69e2_3188.profile']\n",
      "duplicate ERR: ['./data/tree-rep-profiles_o2o_smallshort/small/11.zusy_0.8/G454/0bb6314868e520055b3af127c4dd57d4db7633afc2d6d375240a63f35479e576_3024.profile', './data/tree-rep-profiles_o2o_smallshort/short/11.zusy_0.8/G454/0bb6314868e520055b3af127c4dd57d4db7633afc2d6d375240a63f35479e576_3024.profile']\n",
      "duplicate ERR: ['./data/tree-rep-profiles_o2o_smallshort/small/11.zusy_0.8/G454/0ebaf7b92afcde2f5a522b4cd18e8997979e93566ff294513260799fe880c2ec_2952.profile', './data/tree-rep-profiles_o2o_smallshort/short/11.zusy_0.8/G454/0ebaf7b92afcde2f5a522b4cd18e8997979e93566ff294513260799fe880c2ec_2952.profile']\n",
      "duplicate ERR: ['./data/tree-rep-profiles_o2o_smallshort/small/11.zusy_0.8/G456/01c41a0dcfc172fcb5d35ced83d106cd61f0bdb7e6105cc3bcf7614c5bf0d14e_2960.profile', './data/tree-rep-profiles_o2o_smallshort/short/11.zusy_0.8/G456/01c41a0dcfc172fcb5d35ced83d106cd61f0bdb7e6105cc3bcf7614c5bf0d14e_2960.profile']\n",
      "duplicate ERR: ['./data/tree-rep-profiles_o2o_smallshort/small/11.zusy_0.8/G456/0a6875ac745b5890f9d6595514a5956d9c180e98d360303c95c1eb83b4f12d07_3368.profile', './data/tree-rep-profiles_o2o_smallshort/short/11.zusy_0.8/G456/0a6875ac745b5890f9d6595514a5956d9c180e98d360303c95c1eb83b4f12d07_3368.profile']\n",
      "duplicate ERR: ['./data/tree-rep-profiles_o2o_smallshort/small/11.zusy_0.8/G501/5239fbeb58938c5940a6752896e605815c6292a639bbbd7c542531548c2a75f1_3044.profile', './data/tree-rep-profiles_o2o_smallshort/short/11.zusy_0.8/G501/5239fbeb58938c5940a6752896e605815c6292a639bbbd7c542531548c2a75f1_3044.profile']\n",
      "duplicate ERR: ['./data/tree-rep-profiles_o2o_smallshort/small/11.zusy_0.8/G501/5239fbeb58938c5940a6752896e605815c6292a639bbbd7c542531548c2a75f1_2932.profile', './data/tree-rep-profiles_o2o_smallshort/short/11.zusy_0.8/G501/5239fbeb58938c5940a6752896e605815c6292a639bbbd7c542531548c2a75f1_2932.profile']\n",
      "duplicate ERR: ['./data/tree-rep-profiles_o2o_smallshort/small/11.zusy_0.8/G466/69492cb074218ba2c21b1b236a144ea83fd286faf7ffdd994fabdb46165af138_3208.profile', './data/tree-rep-profiles_o2o_smallshort/short/11.zusy_0.8/G466/69492cb074218ba2c21b1b236a144ea83fd286faf7ffdd994fabdb46165af138_3208.profile']\n",
      "duplicate ERR: ['./data/tree-rep-profiles_o2o_smallshort/small/11.zusy_0.8/G466/69492cb074218ba2c21b1b236a144ea83fd286faf7ffdd994fabdb46165af138_3312.profile', './data/tree-rep-profiles_o2o_smallshort/short/11.zusy_0.8/G466/69492cb074218ba2c21b1b236a144ea83fd286faf7ffdd994fabdb46165af138_3312.profile']\n",
      "duplicate ERR: ['./data/tree-rep-profiles_o2o_smallshort/small/11.zusy_0.8/G517/01f0c4d93dacca8afd88a749a863aff6e5cb0c486db84672f3ff036ad9cfdb5d_3280.profile', './data/tree-rep-profiles_o2o_smallshort/short/11.zusy_0.8/G517/01f0c4d93dacca8afd88a749a863aff6e5cb0c486db84672f3ff036ad9cfdb5d_3280.profile']\n",
      "duplicate ERR: ['./data/tree-rep-profiles_o2o_smallshort/small/11.zusy_0.8/G517/bf75544ef11b07f1a33846160dde2ebd9ae439d6d112be619ce8e3da544d31bf_3204.profile', './data/tree-rep-profiles_o2o_smallshort/short/11.zusy_0.8/G517/bf75544ef11b07f1a33846160dde2ebd9ae439d6d112be619ce8e3da544d31bf_3204.profile']\n",
      "duplicate ERR: ['./data/tree-rep-profiles_o2o_smallshort/small/11.zusy_0.8/G512/0d2a1fbe5b7d9cfb79bc9ef48d15b63ffaae811d230bbabe99b45a8b1e0effc0_3324.profile', './data/tree-rep-profiles_o2o_smallshort/short/11.zusy_0.8/G512/0d2a1fbe5b7d9cfb79bc9ef48d15b63ffaae811d230bbabe99b45a8b1e0effc0_3324.profile']\n",
      "duplicate ERR: ['./data/tree-rep-profiles_o2o_smallshort/small/11.zusy_0.8/G512/0cc4f21cad6d8925471dbf0a5e32eeb505c8aa129bfba127f8a8d9e25fa90727_3288.profile', './data/tree-rep-profiles_o2o_smallshort/short/11.zusy_0.8/G512/0cc4f21cad6d8925471dbf0a5e32eeb505c8aa129bfba127f8a8d9e25fa90727_3288.profile']\n",
      "duplicate ERR: ['./data/tree-rep-profiles_o2o_smallshort/small/11.zusy_0.8/G468/792a27f6a59e1dbf7153617446f4414dba208dfb9d5bcc2e5a72e21de26d5bd6_3260.profile', './data/tree-rep-profiles_o2o_smallshort/short/11.zusy_0.8/G468/792a27f6a59e1dbf7153617446f4414dba208dfb9d5bcc2e5a72e21de26d5bd6_3260.profile']\n",
      "duplicate ERR: ['./data/tree-rep-profiles_o2o_smallshort/small/11.zusy_0.8/G468/792a27f6a59e1dbf7153617446f4414dba208dfb9d5bcc2e5a72e21de26d5bd6_3276.profile', './data/tree-rep-profiles_o2o_smallshort/short/11.zusy_0.8/G468/792a27f6a59e1dbf7153617446f4414dba208dfb9d5bcc2e5a72e21de26d5bd6_3276.profile']\n",
      "duplicate ERR: ['./data/tree-rep-profiles_o2o_smallshort/small/11.zusy_0.8/G467/0bb6314868e520055b3af127c4dd57d4db7633afc2d6d375240a63f35479e576_2988.profile', './data/tree-rep-profiles_o2o_smallshort/short/11.zusy_0.8/G467/0bb6314868e520055b3af127c4dd57d4db7633afc2d6d375240a63f35479e576_2988.profile']\n",
      "duplicate ERR: ['./data/tree-rep-profiles_o2o_smallshort/small/11.zusy_0.8/G467/0ebaf7b92afcde2f5a522b4cd18e8997979e93566ff294513260799fe880c2ec_2920.profile', './data/tree-rep-profiles_o2o_smallshort/short/11.zusy_0.8/G467/0ebaf7b92afcde2f5a522b4cd18e8997979e93566ff294513260799fe880c2ec_2920.profile']\n",
      "duplicate ERR: ['./data/tree-rep-profiles_o2o_smallshort/small/11.zusy_0.8/G532/0d167553705f2aeea584f1842e52b3802be989e651d2fd9abf051f1c92a2f3a0_3456.profile', './data/tree-rep-profiles_o2o_smallshort/short/11.zusy_0.8/G532/0d167553705f2aeea584f1842e52b3802be989e651d2fd9abf051f1c92a2f3a0_3456.profile']\n",
      "duplicate ERR: ['./data/tree-rep-profiles_o2o_smallshort/small/11.zusy_0.8/G532/0d167553705f2aeea584f1842e52b3802be989e651d2fd9abf051f1c92a2f3a0_3308.profile', './data/tree-rep-profiles_o2o_smallshort/short/11.zusy_0.8/G532/0d167553705f2aeea584f1842e52b3802be989e651d2fd9abf051f1c92a2f3a0_3308.profile']\n"
     ]
    },
    {
     "name": "stdout",
     "output_type": "stream",
     "text": [
      "duplicate ERR: ['./data/tree-rep-profiles_o2o_smallshort/small/11.zusy_0.8/G524/b367165aab9ecec288eee4f244964716976af243166bac23b703fb7004a284ee_3348.profile', './data/tree-rep-profiles_o2o_smallshort/short/11.zusy_0.8/G524/b367165aab9ecec288eee4f244964716976af243166bac23b703fb7004a284ee_3348.profile']\n",
      "duplicate ERR: ['./data/tree-rep-profiles_o2o_smallshort/small/11.zusy_0.8/G524/b367165aab9ecec288eee4f244964716976af243166bac23b703fb7004a284ee_3208.profile', './data/tree-rep-profiles_o2o_smallshort/short/11.zusy_0.8/G524/b367165aab9ecec288eee4f244964716976af243166bac23b703fb7004a284ee_3208.profile']\n",
      "duplicate ERR: ['./data/tree-rep-profiles_o2o_smallshort/small/11.zusy_0.8/G503/001f8b9cbcb14171ff8906e9da7526b2bbf96a6fdc2826279ad27d83ee9e9535_3328.profile', './data/tree-rep-profiles_o2o_smallshort/short/11.zusy_0.8/G503/001f8b9cbcb14171ff8906e9da7526b2bbf96a6fdc2826279ad27d83ee9e9535_3328.profile']\n",
      "duplicate ERR: ['./data/tree-rep-profiles_o2o_smallshort/small/11.zusy_0.8/G503/002e0204fdad01ddcde8683a3f03bc410be215cc9c69f445d1861a3b74e1a8c3_3252.profile', './data/tree-rep-profiles_o2o_smallshort/short/11.zusy_0.8/G503/002e0204fdad01ddcde8683a3f03bc410be215cc9c69f445d1861a3b74e1a8c3_3252.profile']\n",
      "duplicate ERR: ['./data/tree-rep-profiles_o2o_smallshort/small/11.zusy_0.8/G538/0cf6f830e612685a526886dd8dd0884ab6688bc30f3cae5c76019e4274961895_3360.profile', './data/tree-rep-profiles_o2o_smallshort/short/11.zusy_0.8/G538/0cf6f830e612685a526886dd8dd0884ab6688bc30f3cae5c76019e4274961895_3360.profile']\n",
      "duplicate ERR: ['./data/tree-rep-profiles_o2o_smallshort/small/11.zusy_0.8/G538/0cf6f830e612685a526886dd8dd0884ab6688bc30f3cae5c76019e4274961895_3408.profile', './data/tree-rep-profiles_o2o_smallshort/short/11.zusy_0.8/G538/0cf6f830e612685a526886dd8dd0884ab6688bc30f3cae5c76019e4274961895_3408.profile']\n",
      "duplicate ERR: ['./data/tree-rep-profiles_o2o_smallshort/small/11.zusy_0.8/G479/9e997f2c0cdffa38586c734f2fa0d1f1374d5c25267503ccb014434c14d82da9_3276.profile', './data/tree-rep-profiles_o2o_smallshort/short/11.zusy_0.8/G479/9e997f2c0cdffa38586c734f2fa0d1f1374d5c25267503ccb014434c14d82da9_3276.profile']\n",
      "duplicate ERR: ['./data/tree-rep-profiles_o2o_smallshort/small/11.zusy_0.8/G479/9e997f2c0cdffa38586c734f2fa0d1f1374d5c25267503ccb014434c14d82da9_3316.profile', './data/tree-rep-profiles_o2o_smallshort/short/11.zusy_0.8/G479/9e997f2c0cdffa38586c734f2fa0d1f1374d5c25267503ccb014434c14d82da9_3316.profile']\n",
      "duplicate ERR: ['./data/tree-rep-profiles_o2o_smallshort/small/11.zusy_0.8/G528/13f0053caee38a00d11d2a7bb151af2f0084fb66729bf371857a0dfa4d90349a_3176.profile', './data/tree-rep-profiles_o2o_smallshort/short/11.zusy_0.8/G528/13f0053caee38a00d11d2a7bb151af2f0084fb66729bf371857a0dfa4d90349a_3176.profile']\n",
      "duplicate ERR: ['./data/tree-rep-profiles_o2o_smallshort/small/11.zusy_0.8/G528/08b28bae6151ed068e5628196c4fd4f29907b3a44b7fd08ed11c2f3e9005765e_3100.profile', './data/tree-rep-profiles_o2o_smallshort/short/11.zusy_0.8/G528/08b28bae6151ed068e5628196c4fd4f29907b3a44b7fd08ed11c2f3e9005765e_3100.profile']\n",
      "duplicate ERR: ['./data/tree-rep-profiles_o2o_smallshort/small/11.zusy_0.8/G472/0fce480934c793170c120182e647cb21e556c921f8d9900badfcf9b4dcb9f913_3344.profile', './data/tree-rep-profiles_o2o_smallshort/short/11.zusy_0.8/G472/0fce480934c793170c120182e647cb21e556c921f8d9900badfcf9b4dcb9f913_3344.profile']\n",
      "duplicate ERR: ['./data/tree-rep-profiles_o2o_smallshort/small/11.zusy_0.8/G472/01e6b25fd1e6ddda3d86a32e4ea9d6dfdbcf1f49d264fea211f90a749099e468_3336.profile', './data/tree-rep-profiles_o2o_smallshort/short/11.zusy_0.8/G472/01e6b25fd1e6ddda3d86a32e4ea9d6dfdbcf1f49d264fea211f90a749099e468_3336.profile']\n",
      "duplicate ERR: ['./data/tree-rep-profiles_o2o_smallshort/small/11.zusy_0.8/G509/5bdcd41bf2859fca0bd6fc301e690374a8847570d06d1c473ccf1fa9db72fa09_2876.profile', './data/tree-rep-profiles_o2o_smallshort/short/11.zusy_0.8/G509/5bdcd41bf2859fca0bd6fc301e690374a8847570d06d1c473ccf1fa9db72fa09_2876.profile']\n",
      "duplicate ERR: ['./data/tree-rep-profiles_o2o_smallshort/small/11.zusy_0.8/G509/06f3912952aeda12fe797216f101965c04a62030544ee8a03fa9fc9ed0a867e4_3268.profile', './data/tree-rep-profiles_o2o_smallshort/short/11.zusy_0.8/G509/06f3912952aeda12fe797216f101965c04a62030544ee8a03fa9fc9ed0a867e4_3268.profile']\n",
      "duplicate ERR: ['./data/tree-rep-profiles_o2o_smallshort/small/11.zusy_0.8/G510/dee2cc0a272346690c193cca54c30853818d5c30bc225bc8df3c035f182179db_3312.profile', './data/tree-rep-profiles_o2o_smallshort/short/11.zusy_0.8/G510/dee2cc0a272346690c193cca54c30853818d5c30bc225bc8df3c035f182179db_3312.profile']\n",
      "duplicate ERR: ['./data/tree-rep-profiles_o2o_smallshort/small/11.zusy_0.8/G510/18aea26ff68fc02ae6bd96948e1bc4ce23f040aacd1656fc8f7844af138d7529_3236.profile', './data/tree-rep-profiles_o2o_smallshort/short/11.zusy_0.8/G510/18aea26ff68fc02ae6bd96948e1bc4ce23f040aacd1656fc8f7844af138d7529_3236.profile']\n",
      "duplicate ERR: ['./data/tree-rep-profiles_o2o_smallshort/small/11.zusy_0.8/G531/00e2181c6676a973f34b6dc31b9797e88cf0839ec19e6893d80d984331020402_1484.profile', './data/tree-rep-profiles_o2o_smallshort/short/11.zusy_0.8/G531/00e2181c6676a973f34b6dc31b9797e88cf0839ec19e6893d80d984331020402_1484.profile']\n",
      "duplicate ERR: ['./data/tree-rep-profiles_o2o_smallshort/small/11.zusy_0.8/G531/091aefa9e2f5feee1fdbdb76fc26656e6bfecd9ede121234f47c9644b6bd4411_2856.profile', './data/tree-rep-profiles_o2o_smallshort/short/11.zusy_0.8/G531/091aefa9e2f5feee1fdbdb76fc26656e6bfecd9ede121234f47c9644b6bd4411_2856.profile']\n",
      "duplicate ERR: ['./data/tree-rep-profiles_o2o_smallshort/small/11.zusy_0.8/G480/471cb52b4483d48eff2e1e7551baef783dba54b6c65d4406be4ccdae039ce0a8_3284.profile', './data/tree-rep-profiles_o2o_smallshort/short/11.zusy_0.8/G480/471cb52b4483d48eff2e1e7551baef783dba54b6c65d4406be4ccdae039ce0a8_3284.profile']\n",
      "duplicate ERR: ['./data/tree-rep-profiles_o2o_smallshort/small/11.zusy_0.8/G480/7631fc1069cab6fe6d872067682a72fe431928fc4a257ceecee9adbd7ccc7968_3320.profile', './data/tree-rep-profiles_o2o_smallshort/short/11.zusy_0.8/G480/7631fc1069cab6fe6d872067682a72fe431928fc4a257ceecee9adbd7ccc7968_3320.profile']\n",
      "duplicate ERR: ['./data/tree-rep-profiles_o2o_smallshort/small/11.zusy_0.8/G537/ce18d4983f6e6beb19476d4a38beeffc0c702ac8523c0132018eddffcaba7a78_3356.profile', './data/tree-rep-profiles_o2o_smallshort/short/11.zusy_0.8/G537/ce18d4983f6e6beb19476d4a38beeffc0c702ac8523c0132018eddffcaba7a78_3356.profile']\n",
      "duplicate ERR: ['./data/tree-rep-profiles_o2o_smallshort/small/11.zusy_0.8/G537/807e832bcf2ff575f3972bd0d325a4b34092eb697387adc37b0b45713c047320_2960.profile', './data/tree-rep-profiles_o2o_smallshort/short/11.zusy_0.8/G537/807e832bcf2ff575f3972bd0d325a4b34092eb697387adc37b0b45713c047320_2960.profile']\n",
      "duplicate ERR: ['./data/tree-rep-profiles_o2o_smallshort/small/11.zusy_0.8/G465/7add15d82c3527d09f3d3eecf18162893b97848b6ce09e1be3ba9cb5afe72050_3252.profile', './data/tree-rep-profiles_o2o_smallshort/short/11.zusy_0.8/G465/7add15d82c3527d09f3d3eecf18162893b97848b6ce09e1be3ba9cb5afe72050_3252.profile']\n",
      "duplicate ERR: ['./data/tree-rep-profiles_o2o_smallshort/small/11.zusy_0.8/G465/0dbbc2efcf2d0878e9d01a4c85fce532a688776ad47500a59b99354038ab0f5a_2964.profile', './data/tree-rep-profiles_o2o_smallshort/short/11.zusy_0.8/G465/0dbbc2efcf2d0878e9d01a4c85fce532a688776ad47500a59b99354038ab0f5a_2964.profile']\n",
      "duplicate ERR: ['./data/tree-rep-profiles_o2o_smallshort/small/11.zusy_0.8/G525/12f315dc1b3eca24e9ec984275e4c863369fc2f6bd69bc9ff29373c33dab33db_3268.profile', './data/tree-rep-profiles_o2o_smallshort/short/11.zusy_0.8/G525/12f315dc1b3eca24e9ec984275e4c863369fc2f6bd69bc9ff29373c33dab33db_3268.profile']\n",
      "duplicate ERR: ['./data/tree-rep-profiles_o2o_smallshort/small/11.zusy_0.8/G525/0ba32f44006289533c14cecf5e0304cf628551824a87aa6cd4c132e329a0a6e5_3348.profile', './data/tree-rep-profiles_o2o_smallshort/short/11.zusy_0.8/G525/0ba32f44006289533c14cecf5e0304cf628551824a87aa6cd4c132e329a0a6e5_3348.profile']\n",
      "duplicate ERR: ['./data/tree-rep-profiles_o2o_smallshort/small/11.zusy_0.8/G498/00ae3b74422faeef15718c1bf29a167680b5b6cbbf8a906576fc1fd12fcbfd87_3200.profile', './data/tree-rep-profiles_o2o_smallshort/short/11.zusy_0.8/G498/00ae3b74422faeef15718c1bf29a167680b5b6cbbf8a906576fc1fd12fcbfd87_3200.profile']\n"
     ]
    },
    {
     "name": "stderr",
     "output_type": "stream",
     "text": [
      "\r",
      "  6%|▋         | 10/159 [00:03<01:25,  1.75it/s]"
     ]
    },
    {
     "name": "stdout",
     "output_type": "stream",
     "text": [
      "duplicate ERR: ['./data/tree-rep-profiles_o2o_smallshort/small/11.zusy_0.8/G498/8f18c7d09bf6ccc0fb6a44ad67c1035ad408214ebc1d3c2b362d8d8dfe7d1060_2988.profile', './data/tree-rep-profiles_o2o_smallshort/short/11.zusy_0.8/G498/8f18c7d09bf6ccc0fb6a44ad67c1035ad408214ebc1d3c2b362d8d8dfe7d1060_2988.profile']\n",
      "duplicate ERR: ['./data/tree-rep-profiles_o2o_smallshort/small/11.zusy_0.8/G534/4a4ad8e944ba10e65dfdea0622cb6fd2f41bc9884bbab74bd55dab373b62382b_3344.profile', './data/tree-rep-profiles_o2o_smallshort/short/11.zusy_0.8/G534/4a4ad8e944ba10e65dfdea0622cb6fd2f41bc9884bbab74bd55dab373b62382b_3344.profile']\n",
      "duplicate ERR: ['./data/tree-rep-profiles_o2o_smallshort/small/11.zusy_0.8/G534/00a8d77da1e9383d30408fd341bb3c4ae8ab16d4c0617633d091c635443108f2_3400.profile', './data/tree-rep-profiles_o2o_smallshort/short/11.zusy_0.8/G534/00a8d77da1e9383d30408fd341bb3c4ae8ab16d4c0617633d091c635443108f2_3400.profile']\n",
      "duplicate ERR: ['./data/tree-rep-profiles_o2o_smallshort/small/2.zbot_0.8/G1035/bab402f596496fdb48c5fc6a97812f894a95627ccfa67282d3fc7fb68a083a49_3272.profile', './data/tree-rep-profiles_o2o_smallshort/short/2.zbot_0.8/G1035/bab402f596496fdb48c5fc6a97812f894a95627ccfa67282d3fc7fb68a083a49_3272.profile']\n",
      "duplicate ERR: ['./data/tree-rep-profiles_o2o_smallshort/small/2.zbot_0.8/G1035/50f46502e759ccb089bff656ca2225a5b94caa27c4ae5d09fd610f6a9e16dfcd_3284.profile', './data/tree-rep-profiles_o2o_smallshort/short/2.zbot_0.8/G1035/50f46502e759ccb089bff656ca2225a5b94caa27c4ae5d09fd610f6a9e16dfcd_3284.profile']\n",
      "duplicate ERR: ['./data/tree-rep-profiles_o2o_smallshort/small/2.zbot_0.8/G1012/2f71f6e05948fae6e65c051610398e598d9a89f3bab6ca7b4015759923a7bf79_3296.profile', './data/tree-rep-profiles_o2o_smallshort/short/2.zbot_0.8/G1012/2f71f6e05948fae6e65c051610398e598d9a89f3bab6ca7b4015759923a7bf79_3296.profile']\n",
      "duplicate ERR: ['./data/tree-rep-profiles_o2o_smallshort/small/2.zbot_0.8/G1012/2b1d464d536ed93dd03072e79a9c8aa87b0626d49f69bf123fb39b404f83e35c_3312.profile', './data/tree-rep-profiles_o2o_smallshort/short/2.zbot_0.8/G1012/2b1d464d536ed93dd03072e79a9c8aa87b0626d49f69bf123fb39b404f83e35c_3312.profile']\n",
      "duplicate ERR: ['./data/tree-rep-profiles_o2o_smallshort/small/2.zbot_0.8/G1205/1737bea404a2ea905c01afef13636781569ddb3c0c266f25143bf77ca63ea0a4_2856.profile', './data/tree-rep-profiles_o2o_smallshort/short/2.zbot_0.8/G1205/1737bea404a2ea905c01afef13636781569ddb3c0c266f25143bf77ca63ea0a4_2856.profile']\n",
      "duplicate ERR: ['./data/tree-rep-profiles_o2o_smallshort/small/2.zbot_0.8/G1205/1737bea404a2ea905c01afef13636781569ddb3c0c266f25143bf77ca63ea0a4_2904.profile', './data/tree-rep-profiles_o2o_smallshort/short/2.zbot_0.8/G1205/1737bea404a2ea905c01afef13636781569ddb3c0c266f25143bf77ca63ea0a4_2904.profile']\n",
      "duplicate ERR: ['./data/tree-rep-profiles_o2o_smallshort/small/2.zbot_0.8/G1196/0f8eadb9e05da1f065fa12f946ab7b9ccb07b473d55a1d5b3c1bf5fe7af77c27_2928.profile', './data/tree-rep-profiles_o2o_smallshort/short/2.zbot_0.8/G1196/0f8eadb9e05da1f065fa12f946ab7b9ccb07b473d55a1d5b3c1bf5fe7af77c27_2928.profile']\n",
      "duplicate ERR: ['./data/tree-rep-profiles_o2o_smallshort/small/2.zbot_0.8/G1196/0ee7de58292cee9e9660922d5ae1f5aff9a476bd74be17897931947d8065b167_3372.profile', './data/tree-rep-profiles_o2o_smallshort/short/2.zbot_0.8/G1196/0ee7de58292cee9e9660922d5ae1f5aff9a476bd74be17897931947d8065b167_3372.profile']\n",
      "duplicate ERR: ['./data/tree-rep-profiles_o2o_smallshort/small/2.zbot_0.8/G1097/0ca413ba08d15f2842a2aeec4ca4046093ea02d49f933ff2056abdd0a40726e3_3356.profile', './data/tree-rep-profiles_o2o_smallshort/short/2.zbot_0.8/G1097/0ca413ba08d15f2842a2aeec4ca4046093ea02d49f933ff2056abdd0a40726e3_3356.profile']\n",
      "duplicate ERR: ['./data/tree-rep-profiles_o2o_smallshort/small/2.zbot_0.8/G1097/0ef1279966403ef35ceb0a8ae7d5c64d9b698bdf268e4246fb6e95163e73ac70_3364.profile', './data/tree-rep-profiles_o2o_smallshort/short/2.zbot_0.8/G1097/0ef1279966403ef35ceb0a8ae7d5c64d9b698bdf268e4246fb6e95163e73ac70_3364.profile']\n",
      "duplicate ERR: ['./data/tree-rep-profiles_o2o_smallshort/small/2.zbot_0.8/G1077/a9a2f2e62dd82962c2fc7f91fd709c9a3ad765e9cdbe51f5b738c9d399b0b4e9_3400.profile', './data/tree-rep-profiles_o2o_smallshort/short/2.zbot_0.8/G1077/a9a2f2e62dd82962c2fc7f91fd709c9a3ad765e9cdbe51f5b738c9d399b0b4e9_3400.profile']\n",
      "duplicate ERR: ['./data/tree-rep-profiles_o2o_smallshort/small/2.zbot_0.8/G1077/ae8f3aacd849f9c258c561a388304bf0d02c5b77b3e2a0329e9726bdc852e737_3492.profile', './data/tree-rep-profiles_o2o_smallshort/short/2.zbot_0.8/G1077/ae8f3aacd849f9c258c561a388304bf0d02c5b77b3e2a0329e9726bdc852e737_3492.profile']\n",
      "duplicate ERR: ['./data/tree-rep-profiles_o2o_smallshort/small/2.zbot_0.8/G1099/0d155607d460140bca72272a95d11f78a62b2a0ff8d3448eaccc950ca773658c_3012.profile', './data/tree-rep-profiles_o2o_smallshort/short/2.zbot_0.8/G1099/0d155607d460140bca72272a95d11f78a62b2a0ff8d3448eaccc950ca773658c_3012.profile']\n",
      "duplicate ERR: ['./data/tree-rep-profiles_o2o_smallshort/small/2.zbot_0.8/G1099/1c824a8a6e30f2eb2e6b1329205d452c92083177353835fa420c3ad8db6e004c_3336.profile', './data/tree-rep-profiles_o2o_smallshort/short/2.zbot_0.8/G1099/1c824a8a6e30f2eb2e6b1329205d452c92083177353835fa420c3ad8db6e004c_3336.profile']\n",
      "duplicate ERR: ['./data/tree-rep-profiles_o2o_smallshort/small/2.zbot_0.8/G1152/d7deb0c6393df61129791f280ce2295161ace7610d01c41eb34ff24c532162d3_3304.profile', './data/tree-rep-profiles_o2o_smallshort/short/2.zbot_0.8/G1152/d7deb0c6393df61129791f280ce2295161ace7610d01c41eb34ff24c532162d3_3304.profile']\n",
      "duplicate ERR: ['./data/tree-rep-profiles_o2o_smallshort/small/2.zbot_0.8/G1152/fe059a3926ab8e5da3341f22094b669271a7abf59144ba31ff2c28928354eb16_3384.profile', './data/tree-rep-profiles_o2o_smallshort/short/2.zbot_0.8/G1152/fe059a3926ab8e5da3341f22094b669271a7abf59144ba31ff2c28928354eb16_3384.profile']\n",
      "duplicate ERR: ['./data/tree-rep-profiles_o2o_smallshort/small/2.zbot_0.8/G1087/1f6851e75bb4b42afb68ac52afd88b11f7eb87fa953a8579ba0c2ce1c9848946_3112.profile', './data/tree-rep-profiles_o2o_smallshort/short/2.zbot_0.8/G1087/1f6851e75bb4b42afb68ac52afd88b11f7eb87fa953a8579ba0c2ce1c9848946_3112.profile']\n",
      "duplicate ERR: ['./data/tree-rep-profiles_o2o_smallshort/small/2.zbot_0.8/G1087/1daa072859306a6273246ec5f4617981aa359112d0243104b57a573688ef2b99_2884.profile', './data/tree-rep-profiles_o2o_smallshort/short/2.zbot_0.8/G1087/1daa072859306a6273246ec5f4617981aa359112d0243104b57a573688ef2b99_2884.profile']\n",
      "duplicate ERR: ['./data/tree-rep-profiles_o2o_smallshort/small/2.zbot_0.8/G1003/94f455f47f1e76f8dcaacf3f5b8bc4460a1971fc4e9f6f0318f57d3a083288c7_3212.profile', './data/tree-rep-profiles_o2o_smallshort/short/2.zbot_0.8/G1003/94f455f47f1e76f8dcaacf3f5b8bc4460a1971fc4e9f6f0318f57d3a083288c7_3212.profile']\n",
      "duplicate ERR: ['./data/tree-rep-profiles_o2o_smallshort/small/2.zbot_0.8/G1003/5f3134103b96f7bd4aaf7d24fb0598f3234da17078e2f5e8a4bf1b6efb568f0a_3308.profile', './data/tree-rep-profiles_o2o_smallshort/short/2.zbot_0.8/G1003/5f3134103b96f7bd4aaf7d24fb0598f3234da17078e2f5e8a4bf1b6efb568f0a_3308.profile']\n",
      "duplicate ERR: ['./data/tree-rep-profiles_o2o_smallshort/small/2.zbot_0.8/G1129/fe059a3926ab8e5da3341f22094b669271a7abf59144ba31ff2c28928354eb16_3340.profile', './data/tree-rep-profiles_o2o_smallshort/short/2.zbot_0.8/G1129/fe059a3926ab8e5da3341f22094b669271a7abf59144ba31ff2c28928354eb16_3340.profile']\n",
      "duplicate ERR: ['./data/tree-rep-profiles_o2o_smallshort/small/2.zbot_0.8/G1129/d7deb0c6393df61129791f280ce2295161ace7610d01c41eb34ff24c532162d3_3252.profile', './data/tree-rep-profiles_o2o_smallshort/short/2.zbot_0.8/G1129/d7deb0c6393df61129791f280ce2295161ace7610d01c41eb34ff24c532162d3_3252.profile']\n",
      "duplicate ERR: ['./data/tree-rep-profiles_o2o_smallshort/small/2.zbot_0.8/G1066/0147b501b066608c082eba9418d88a82d8a786d51c709cf060f9f1718210bf8b_3388.profile', './data/tree-rep-profiles_o2o_smallshort/short/2.zbot_0.8/G1066/0147b501b066608c082eba9418d88a82d8a786d51c709cf060f9f1718210bf8b_3388.profile']\n",
      "duplicate ERR: ['./data/tree-rep-profiles_o2o_smallshort/small/2.zbot_0.8/G1066/068a5e60b1f3142fb3f64e8f725e764ce16e9e6e0acc5d4579b14bc4401a0597_3240.profile', './data/tree-rep-profiles_o2o_smallshort/short/2.zbot_0.8/G1066/068a5e60b1f3142fb3f64e8f725e764ce16e9e6e0acc5d4579b14bc4401a0597_3240.profile']\n",
      "duplicate ERR: ['./data/tree-rep-profiles_o2o_smallshort/small/2.zbot_0.8/G1134/061c6b9ace939c060bc5cf740074b272ed92a7140f9261cb8a8c67144373fa49_3340.profile', './data/tree-rep-profiles_o2o_smallshort/short/2.zbot_0.8/G1134/061c6b9ace939c060bc5cf740074b272ed92a7140f9261cb8a8c67144373fa49_3340.profile']\n",
      "duplicate ERR: ['./data/tree-rep-profiles_o2o_smallshort/small/2.zbot_0.8/G1134/1e1abb7a181182e00f97c08220098f207b276387a8e9554576d5148bc807fe5e_2832.profile', './data/tree-rep-profiles_o2o_smallshort/short/2.zbot_0.8/G1134/1e1abb7a181182e00f97c08220098f207b276387a8e9554576d5148bc807fe5e_2832.profile']\n",
      "duplicate ERR: ['./data/tree-rep-profiles_o2o_smallshort/small/2.zbot_0.8/G1091/5d527d7bc44c0bc0242c7ba76aa88eb81bbbb09bbe857534a389104733b68496_3224.profile', './data/tree-rep-profiles_o2o_smallshort/short/2.zbot_0.8/G1091/5d527d7bc44c0bc0242c7ba76aa88eb81bbbb09bbe857534a389104733b68496_3224.profile']\n",
      "duplicate ERR: ['./data/tree-rep-profiles_o2o_smallshort/small/2.zbot_0.8/G1091/57b3a2cc18c8fde370561a44a5625439b0cc130eaf0ca015f8a2d541a23c1d92_2888.profile', './data/tree-rep-profiles_o2o_smallshort/short/2.zbot_0.8/G1091/57b3a2cc18c8fde370561a44a5625439b0cc130eaf0ca015f8a2d541a23c1d92_2888.profile']\n",
      "duplicate ERR: ['./data/tree-rep-profiles_o2o_smallshort/small/2.zbot_0.8/G1147/2958bb0601c93412511fdf6a66425ce306fe78127c7eb8ea92e1b0d95791c883_3004.profile', './data/tree-rep-profiles_o2o_smallshort/short/2.zbot_0.8/G1147/2958bb0601c93412511fdf6a66425ce306fe78127c7eb8ea92e1b0d95791c883_3004.profile']\n",
      "duplicate ERR: ['./data/tree-rep-profiles_o2o_smallshort/small/2.zbot_0.8/G1147/d9d2b1bd495c00e4dc2d9a7456c216f8a9e02416094f1d11284dce398a136bb0_3348.profile', './data/tree-rep-profiles_o2o_smallshort/short/2.zbot_0.8/G1147/d9d2b1bd495c00e4dc2d9a7456c216f8a9e02416094f1d11284dce398a136bb0_3348.profile']\n",
      "duplicate ERR: ['./data/tree-rep-profiles_o2o_smallshort/small/2.zbot_0.8/G1166/1f7f4a76c725998dd323fd726e1482858e13bfae521cdeb00910e11f579e8ae9_2944.profile', './data/tree-rep-profiles_o2o_smallshort/short/2.zbot_0.8/G1166/1f7f4a76c725998dd323fd726e1482858e13bfae521cdeb00910e11f579e8ae9_2944.profile']\n",
      "duplicate ERR: ['./data/tree-rep-profiles_o2o_smallshort/small/2.zbot_0.8/G1166/1f0120aaff93d99a9be1444b7a543a6237c48d2b2c67c2758e5250da293ced43_3168.profile', './data/tree-rep-profiles_o2o_smallshort/short/2.zbot_0.8/G1166/1f0120aaff93d99a9be1444b7a543a6237c48d2b2c67c2758e5250da293ced43_3168.profile']\n"
     ]
    },
    {
     "name": "stdout",
     "output_type": "stream",
     "text": [
      "duplicate ERR: ['./data/tree-rep-profiles_o2o_smallshort/small/2.zbot_0.8/G1078/4c3f7678e21fbec645a2d8cfa95f0a05a3b3472dab7fef60dff17b44b70846b2_3424.profile', './data/tree-rep-profiles_o2o_smallshort/short/2.zbot_0.8/G1078/4c3f7678e21fbec645a2d8cfa95f0a05a3b3472dab7fef60dff17b44b70846b2_3424.profile']\n",
      "duplicate ERR: ['./data/tree-rep-profiles_o2o_smallshort/small/2.zbot_0.8/G1078/e8779b1f050677620b4daa940a1f0b1b0390b414a52242daad7b607e917153a5_3276.profile', './data/tree-rep-profiles_o2o_smallshort/short/2.zbot_0.8/G1078/e8779b1f050677620b4daa940a1f0b1b0390b414a52242daad7b607e917153a5_3276.profile']\n",
      "duplicate ERR: ['./data/tree-rep-profiles_o2o_smallshort/small/2.zbot_0.8/G1029/88138e962a0532e945669c3a62bb4709c51328a00eb7963a1d6944b433e7b141_3340.profile', './data/tree-rep-profiles_o2o_smallshort/short/2.zbot_0.8/G1029/88138e962a0532e945669c3a62bb4709c51328a00eb7963a1d6944b433e7b141_3340.profile']\n",
      "duplicate ERR: ['./data/tree-rep-profiles_o2o_smallshort/small/2.zbot_0.8/G1029/1d9576f78526532fa6ea9961174ce718c23cd96fce49c4baa6a9435a4e36efda_3108.profile', './data/tree-rep-profiles_o2o_smallshort/short/2.zbot_0.8/G1029/1d9576f78526532fa6ea9961174ce718c23cd96fce49c4baa6a9435a4e36efda_3108.profile']\n",
      "duplicate ERR: ['./data/tree-rep-profiles_o2o_smallshort/small/2.zbot_0.8/G1164/ae8f3aacd849f9c258c561a388304bf0d02c5b77b3e2a0329e9726bdc852e737_3392.profile', './data/tree-rep-profiles_o2o_smallshort/short/2.zbot_0.8/G1164/ae8f3aacd849f9c258c561a388304bf0d02c5b77b3e2a0329e9726bdc852e737_3392.profile']\n",
      "duplicate ERR: ['./data/tree-rep-profiles_o2o_smallshort/small/2.zbot_0.8/G1164/a9a2f2e62dd82962c2fc7f91fd709c9a3ad765e9cdbe51f5b738c9d399b0b4e9_3328.profile', './data/tree-rep-profiles_o2o_smallshort/short/2.zbot_0.8/G1164/a9a2f2e62dd82962c2fc7f91fd709c9a3ad765e9cdbe51f5b738c9d399b0b4e9_3328.profile']\n",
      "duplicate ERR: ['./data/tree-rep-profiles_o2o_smallshort/small/2.zbot_0.8/G1211/02a040ae18f74bb783d3d92200dbbdb003a3c5b794b0bc3a1bff2a6634fd96ae_3304.profile', './data/tree-rep-profiles_o2o_smallshort/short/2.zbot_0.8/G1211/02a040ae18f74bb783d3d92200dbbdb003a3c5b794b0bc3a1bff2a6634fd96ae_3304.profile']\n",
      "duplicate ERR: ['./data/tree-rep-profiles_o2o_smallshort/small/2.zbot_0.8/G1211/137ffd38d88cab14d8eb3aadaf7e026a36853e15695d77ca2f4b6245b037f3a9_2820.profile', './data/tree-rep-profiles_o2o_smallshort/short/2.zbot_0.8/G1211/137ffd38d88cab14d8eb3aadaf7e026a36853e15695d77ca2f4b6245b037f3a9_2820.profile']\n",
      "duplicate ERR: ['./data/tree-rep-profiles_o2o_smallshort/small/2.zbot_0.8/G1061/2ee52a813443ba17f5ce1c72d99d74712ed39f01035e694110c5411084c378fb_3116.profile', './data/tree-rep-profiles_o2o_smallshort/short/2.zbot_0.8/G1061/2ee52a813443ba17f5ce1c72d99d74712ed39f01035e694110c5411084c378fb_3116.profile']\n",
      "duplicate ERR: ['./data/tree-rep-profiles_o2o_smallshort/small/2.zbot_0.8/G1061/2ee52a813443ba17f5ce1c72d99d74712ed39f01035e694110c5411084c378fb_3456.profile', './data/tree-rep-profiles_o2o_smallshort/short/2.zbot_0.8/G1061/2ee52a813443ba17f5ce1c72d99d74712ed39f01035e694110c5411084c378fb_3456.profile']\n",
      "duplicate ERR: ['./data/tree-rep-profiles_o2o_smallshort/small/2.zbot_0.8/G1040/0e4a14ff535bf556e1dd8af99cafb300754116fd4322f8af0ba0486723142fac_3364.profile', './data/tree-rep-profiles_o2o_smallshort/short/2.zbot_0.8/G1040/0e4a14ff535bf556e1dd8af99cafb300754116fd4322f8af0ba0486723142fac_3364.profile']\n",
      "duplicate ERR: ['./data/tree-rep-profiles_o2o_smallshort/small/2.zbot_0.8/G1040/0aa2e4f28311b6d25b74aeb8fa042168962156a342d46bf61958b582b344fb00_3304.profile', './data/tree-rep-profiles_o2o_smallshort/short/2.zbot_0.8/G1040/0aa2e4f28311b6d25b74aeb8fa042168962156a342d46bf61958b582b344fb00_3304.profile']\n",
      "duplicate ERR: ['./data/tree-rep-profiles_o2o_smallshort/small/2.zbot_0.8/G1168/1e75ecf271c0a4a370256e23a61550ecbc80d7a111e0b4a0fc50ac48c3740aa9_3312.profile', './data/tree-rep-profiles_o2o_smallshort/short/2.zbot_0.8/G1168/1e75ecf271c0a4a370256e23a61550ecbc80d7a111e0b4a0fc50ac48c3740aa9_3312.profile']\n",
      "duplicate ERR: ['./data/tree-rep-profiles_o2o_smallshort/small/2.zbot_0.8/G1168/1e75ecf271c0a4a370256e23a61550ecbc80d7a111e0b4a0fc50ac48c3740aa9_3140.profile', './data/tree-rep-profiles_o2o_smallshort/short/2.zbot_0.8/G1168/1e75ecf271c0a4a370256e23a61550ecbc80d7a111e0b4a0fc50ac48c3740aa9_3140.profile']\n",
      "duplicate ERR: ['./data/tree-rep-profiles_o2o_smallshort/small/2.zbot_0.8/G1180/0eaca7d33d7519dc65349a5f8b62db722ab9357f1c18eba57a6b2e78a0d365ba_3292.profile', './data/tree-rep-profiles_o2o_smallshort/short/2.zbot_0.8/G1180/0eaca7d33d7519dc65349a5f8b62db722ab9357f1c18eba57a6b2e78a0d365ba_3292.profile']\n",
      "duplicate ERR: ['./data/tree-rep-profiles_o2o_smallshort/small/2.zbot_0.8/G1180/09dc94877288b4ef6d1b6e8df85fae5affe4f45faa46d5312dc264fa775841c9_3268.profile', './data/tree-rep-profiles_o2o_smallshort/short/2.zbot_0.8/G1180/09dc94877288b4ef6d1b6e8df85fae5affe4f45faa46d5312dc264fa775841c9_3268.profile']\n",
      "duplicate ERR: ['./data/tree-rep-profiles_o2o_smallshort/small/2.zbot_0.8/G1128/2958bb0601c93412511fdf6a66425ce306fe78127c7eb8ea92e1b0d95791c883_2960.profile', './data/tree-rep-profiles_o2o_smallshort/short/2.zbot_0.8/G1128/2958bb0601c93412511fdf6a66425ce306fe78127c7eb8ea92e1b0d95791c883_2960.profile']\n",
      "duplicate ERR: ['./data/tree-rep-profiles_o2o_smallshort/small/2.zbot_0.8/G1128/d9d2b1bd495c00e4dc2d9a7456c216f8a9e02416094f1d11284dce398a136bb0_3288.profile', './data/tree-rep-profiles_o2o_smallshort/short/2.zbot_0.8/G1128/d9d2b1bd495c00e4dc2d9a7456c216f8a9e02416094f1d11284dce398a136bb0_3288.profile']\n",
      "duplicate ERR: ['./data/tree-rep-profiles_o2o_smallshort/small/2.zbot_0.8/G1068/145e283d3ffb594811bf26a9e1287ebce4737ade90f0db4369c8f9b4a3e70d9b_3196.profile', './data/tree-rep-profiles_o2o_smallshort/short/2.zbot_0.8/G1068/145e283d3ffb594811bf26a9e1287ebce4737ade90f0db4369c8f9b4a3e70d9b_3196.profile']\n",
      "duplicate ERR: ['./data/tree-rep-profiles_o2o_smallshort/small/2.zbot_0.8/G1068/1e4361495096c5f2938f2e0ffbf0b4222f192affb67cf7f316c357ad43956c90_3232.profile', './data/tree-rep-profiles_o2o_smallshort/short/2.zbot_0.8/G1068/1e4361495096c5f2938f2e0ffbf0b4222f192affb67cf7f316c357ad43956c90_3232.profile']\n",
      "duplicate ERR: ['./data/tree-rep-profiles_o2o_smallshort/small/2.zbot_0.8/G1075/0dad41bbf70d258359f8f6914a621950d30b4c7eba53fec664a4ade5c8eb23bb_3356.profile', './data/tree-rep-profiles_o2o_smallshort/short/2.zbot_0.8/G1075/0dad41bbf70d258359f8f6914a621950d30b4c7eba53fec664a4ade5c8eb23bb_3356.profile']\n",
      "duplicate ERR: ['./data/tree-rep-profiles_o2o_smallshort/small/2.zbot_0.8/G1075/0d93a91311594c80a57e89f3795c29a04adf147938953f3be208f9aa28075337_3316.profile', './data/tree-rep-profiles_o2o_smallshort/short/2.zbot_0.8/G1075/0d93a91311594c80a57e89f3795c29a04adf147938953f3be208f9aa28075337_3316.profile']\n",
      "duplicate ERR: ['./data/tree-rep-profiles_o2o_smallshort/small/2.zbot_0.8/G1055/3e7b66610b8bb9b9626fb1212c2f9fa8070ef0e02c328c2bdee4e22b5268f60d_1252.profile', './data/tree-rep-profiles_o2o_smallshort/short/2.zbot_0.8/G1055/3e7b66610b8bb9b9626fb1212c2f9fa8070ef0e02c328c2bdee4e22b5268f60d_1252.profile']\n",
      "duplicate ERR: ['./data/tree-rep-profiles_o2o_smallshort/small/2.zbot_0.8/G1055/9dabebc14061051cb3f953b3812c2e87375ddfa0552723de3d47ff2d00e8b584_3164.profile', './data/tree-rep-profiles_o2o_smallshort/short/2.zbot_0.8/G1055/9dabebc14061051cb3f953b3812c2e87375ddfa0552723de3d47ff2d00e8b584_3164.profile']\n",
      "duplicate ERR: ['./data/tree-rep-profiles_o2o_smallshort/small/2.zbot_0.8/G1030/16cc385d161368676914ca8ecec89ee2fbda3d880ca33a43cf9cd646ffbc43d1_3356.profile', './data/tree-rep-profiles_o2o_smallshort/short/2.zbot_0.8/G1030/16cc385d161368676914ca8ecec89ee2fbda3d880ca33a43cf9cd646ffbc43d1_3356.profile']\n",
      "duplicate ERR: ['./data/tree-rep-profiles_o2o_smallshort/small/2.zbot_0.8/G1030/111e29a54e5d04a25fe5b4ec0bb0635b24b0393f60cb04b259a1343ffb1a92e7_3424.profile', './data/tree-rep-profiles_o2o_smallshort/short/2.zbot_0.8/G1030/111e29a54e5d04a25fe5b4ec0bb0635b24b0393f60cb04b259a1343ffb1a92e7_3424.profile']\n",
      "duplicate ERR: ['./data/tree-rep-profiles_o2o_smallshort/small/2.zbot_0.8/G1122/8754db45aa206c26e83a74c6be66b5b1f5bb33cabead4adccc8fa4d54eae5fd9_3328.profile', './data/tree-rep-profiles_o2o_smallshort/short/2.zbot_0.8/G1122/8754db45aa206c26e83a74c6be66b5b1f5bb33cabead4adccc8fa4d54eae5fd9_3328.profile']\n",
      "duplicate ERR: ['./data/tree-rep-profiles_o2o_smallshort/small/2.zbot_0.8/G1122/7c74f2379b5bd49f5a0305052d64c7063903f3d788d1d12444919f57c731d152_3336.profile', './data/tree-rep-profiles_o2o_smallshort/short/2.zbot_0.8/G1122/7c74f2379b5bd49f5a0305052d64c7063903f3d788d1d12444919f57c731d152_3336.profile']\n",
      "duplicate ERR: ['./data/tree-rep-profiles_o2o_smallshort/small/2.zbot_0.8/G1189/5a9d7b49cf537da243f5acc9539cc624553ff9f7ab860a57b06ee5af26e8d7e4_2856.profile', './data/tree-rep-profiles_o2o_smallshort/short/2.zbot_0.8/G1189/5a9d7b49cf537da243f5acc9539cc624553ff9f7ab860a57b06ee5af26e8d7e4_2856.profile']\n",
      "duplicate ERR: ['./data/tree-rep-profiles_o2o_smallshort/small/2.zbot_0.8/G1189/3d5ff2e7406514f1c396315b0904718555d7bbee288d467cac11074d08b5b123_2836.profile', './data/tree-rep-profiles_o2o_smallshort/short/2.zbot_0.8/G1189/3d5ff2e7406514f1c396315b0904718555d7bbee288d467cac11074d08b5b123_2836.profile']\n",
      "duplicate ERR: ['./data/tree-rep-profiles_o2o_smallshort/small/2.zbot_0.8/G1156/be0192147a790d1d3b9f0f14f9fcb5034347f3ffdd0dfff9ad2c5dfb0ec348d6_3320.profile', './data/tree-rep-profiles_o2o_smallshort/short/2.zbot_0.8/G1156/be0192147a790d1d3b9f0f14f9fcb5034347f3ffdd0dfff9ad2c5dfb0ec348d6_3320.profile']\n",
      "duplicate ERR: ['./data/tree-rep-profiles_o2o_smallshort/small/2.zbot_0.8/G1156/4234482faaa3a28e12a54c73874a857ddcd69909d9c04ab788dd5e7dfb8f5594_3364.profile', './data/tree-rep-profiles_o2o_smallshort/short/2.zbot_0.8/G1156/4234482faaa3a28e12a54c73874a857ddcd69909d9c04ab788dd5e7dfb8f5594_3364.profile']\n",
      "duplicate ERR: ['./data/tree-rep-profiles_o2o_smallshort/small/2.zbot_0.8/G1207/0b331bb9ace149f724799d4fc4f54074b8acb24e5bf84111281f78a329b7ec7f_3384.profile', './data/tree-rep-profiles_o2o_smallshort/short/2.zbot_0.8/G1207/0b331bb9ace149f724799d4fc4f54074b8acb24e5bf84111281f78a329b7ec7f_3384.profile']\n"
     ]
    },
    {
     "name": "stdout",
     "output_type": "stream",
     "text": [
      "duplicate ERR: ['./data/tree-rep-profiles_o2o_smallshort/small/2.zbot_0.8/G1207/0d81b7a12eddbc9c01b50522edb840a9901f900c9e5b44c2de9ed827dc01a2fc_3484.profile', './data/tree-rep-profiles_o2o_smallshort/short/2.zbot_0.8/G1207/0d81b7a12eddbc9c01b50522edb840a9901f900c9e5b44c2de9ed827dc01a2fc_3484.profile']\n",
      "duplicate ERR: ['./data/tree-rep-profiles_o2o_smallshort/small/2.zbot_0.8/G1096/1fb346e5b0791a6ce690371eb29faef156ce77312fba21efb1359ac4ff786083_3208.profile', './data/tree-rep-profiles_o2o_smallshort/short/2.zbot_0.8/G1096/1fb346e5b0791a6ce690371eb29faef156ce77312fba21efb1359ac4ff786083_3208.profile']\n",
      "duplicate ERR: ['./data/tree-rep-profiles_o2o_smallshort/small/2.zbot_0.8/G1096/0b1d390424d37e9105aa7e7ded178a0ac46ff69cade13ad14283cff299b11175_3428.profile', './data/tree-rep-profiles_o2o_smallshort/short/2.zbot_0.8/G1096/0b1d390424d37e9105aa7e7ded178a0ac46ff69cade13ad14283cff299b11175_3428.profile']\n",
      "duplicate ERR: ['./data/tree-rep-profiles_o2o_smallshort/small/2.zbot_0.8/G1141/58ef211a9cb6d19f6f206393114b353b4e4d7cadee5a6422194433e140dcded1_3260.profile', './data/tree-rep-profiles_o2o_smallshort/short/2.zbot_0.8/G1141/58ef211a9cb6d19f6f206393114b353b4e4d7cadee5a6422194433e140dcded1_3260.profile']\n",
      "duplicate ERR: ['./data/tree-rep-profiles_o2o_smallshort/small/2.zbot_0.8/G1141/14970334986376f24a7c6ae394fdb53d5e5b3e449f2feb87604c62674cfb66f7_3280.profile', './data/tree-rep-profiles_o2o_smallshort/short/2.zbot_0.8/G1141/14970334986376f24a7c6ae394fdb53d5e5b3e449f2feb87604c62674cfb66f7_3280.profile']\n",
      "duplicate ERR: ['./data/tree-rep-profiles_o2o_smallshort/small/2.zbot_0.8/G1219/0e4ed9c79a56c555eb0728f7b31ab0c5f272cd70a8e33c0a57967ddd827092bf_3328.profile', './data/tree-rep-profiles_o2o_smallshort/short/2.zbot_0.8/G1219/0e4ed9c79a56c555eb0728f7b31ab0c5f272cd70a8e33c0a57967ddd827092bf_3328.profile']\n",
      "duplicate ERR: ['./data/tree-rep-profiles_o2o_smallshort/small/2.zbot_0.8/G1219/121c6223a4e29a9e8e8e795c89daf205a652419814ef9365dcccbdae06730c55_3128.profile', './data/tree-rep-profiles_o2o_smallshort/short/2.zbot_0.8/G1219/121c6223a4e29a9e8e8e795c89daf205a652419814ef9365dcccbdae06730c55_3128.profile']\n",
      "duplicate ERR: ['./data/tree-rep-profiles_o2o_smallshort/small/2.zbot_0.8/G1104/5bb70f7a2b8c89756d47672b931b515c906255d4a1153edd50e51e08c73b6831_544.profile', './data/tree-rep-profiles_o2o_smallshort/short/2.zbot_0.8/G1104/5bb70f7a2b8c89756d47672b931b515c906255d4a1153edd50e51e08c73b6831_544.profile']\n",
      "duplicate ERR: ['./data/tree-rep-profiles_o2o_smallshort/small/2.zbot_0.8/G1104/1f23f2308104536f869c40201b377fc2953b830989321efd487172cbbf9392ba_2896.profile', './data/tree-rep-profiles_o2o_smallshort/short/2.zbot_0.8/G1104/1f23f2308104536f869c40201b377fc2953b830989321efd487172cbbf9392ba_2896.profile']\n",
      "duplicate ERR: ['./data/tree-rep-profiles_o2o_smallshort/small/2.zbot_0.8/G1088/2ee52a813443ba17f5ce1c72d99d74712ed39f01035e694110c5411084c378fb_3500.profile', './data/tree-rep-profiles_o2o_smallshort/short/2.zbot_0.8/G1088/2ee52a813443ba17f5ce1c72d99d74712ed39f01035e694110c5411084c378fb_3500.profile']\n",
      "duplicate ERR: ['./data/tree-rep-profiles_o2o_smallshort/small/2.zbot_0.8/G1088/2ee52a813443ba17f5ce1c72d99d74712ed39f01035e694110c5411084c378fb_3152.profile', './data/tree-rep-profiles_o2o_smallshort/short/2.zbot_0.8/G1088/2ee52a813443ba17f5ce1c72d99d74712ed39f01035e694110c5411084c378fb_3152.profile']\n",
      "duplicate ERR: ['./data/tree-rep-profiles_o2o_smallshort/small/2.zbot_0.8/G1059/5c96487526d02376921987c77b5d9cfbd7ed9b978fc42f6044ca920daabec1c7_2824.profile', './data/tree-rep-profiles_o2o_smallshort/short/2.zbot_0.8/G1059/5c96487526d02376921987c77b5d9cfbd7ed9b978fc42f6044ca920daabec1c7_2824.profile']\n",
      "duplicate ERR: ['./data/tree-rep-profiles_o2o_smallshort/small/2.zbot_0.8/G1059/9b607b6405daff7944d697c640c60040ff44197d3217483e73ecc85d02c5da7d_3076.profile', './data/tree-rep-profiles_o2o_smallshort/short/2.zbot_0.8/G1059/9b607b6405daff7944d697c640c60040ff44197d3217483e73ecc85d02c5da7d_3076.profile']\n",
      "duplicate ERR: ['./data/tree-rep-profiles_o2o_smallshort/small/2.zbot_0.8/G1103/bcb9eb7395331ea192c9b1a1a699cd913e8808724b04248b2e54cc2e99893102_2916.profile', './data/tree-rep-profiles_o2o_smallshort/short/2.zbot_0.8/G1103/bcb9eb7395331ea192c9b1a1a699cd913e8808724b04248b2e54cc2e99893102_2916.profile']\n",
      "duplicate ERR: ['./data/tree-rep-profiles_o2o_smallshort/small/2.zbot_0.8/G1103/bcb9eb7395331ea192c9b1a1a699cd913e8808724b04248b2e54cc2e99893102_3368.profile', './data/tree-rep-profiles_o2o_smallshort/short/2.zbot_0.8/G1103/bcb9eb7395331ea192c9b1a1a699cd913e8808724b04248b2e54cc2e99893102_3368.profile']\n",
      "duplicate ERR: ['./data/tree-rep-profiles_o2o_smallshort/small/2.zbot_0.8/G1110/4234482faaa3a28e12a54c73874a857ddcd69909d9c04ab788dd5e7dfb8f5594_3324.profile', './data/tree-rep-profiles_o2o_smallshort/short/2.zbot_0.8/G1110/4234482faaa3a28e12a54c73874a857ddcd69909d9c04ab788dd5e7dfb8f5594_3324.profile']\n",
      "duplicate ERR: ['./data/tree-rep-profiles_o2o_smallshort/small/2.zbot_0.8/G1110/be0192147a790d1d3b9f0f14f9fcb5034347f3ffdd0dfff9ad2c5dfb0ec348d6_3268.profile', './data/tree-rep-profiles_o2o_smallshort/short/2.zbot_0.8/G1110/be0192147a790d1d3b9f0f14f9fcb5034347f3ffdd0dfff9ad2c5dfb0ec348d6_3268.profile']\n",
      "duplicate ERR: ['./data/tree-rep-profiles_o2o_smallshort/small/2.zbot_0.8/G1193/150a714aa37fc38fe07d9df3f81834c8df748dab01c16fa2095ce5b384724610_3324.profile', './data/tree-rep-profiles_o2o_smallshort/short/2.zbot_0.8/G1193/150a714aa37fc38fe07d9df3f81834c8df748dab01c16fa2095ce5b384724610_3324.profile']\n",
      "duplicate ERR: ['./data/tree-rep-profiles_o2o_smallshort/small/2.zbot_0.8/G1193/01f83f523ac6e7b3c8ae00b2a46b540efdcd9e64de86117afdf065b7c40cc0cb_3384.profile', './data/tree-rep-profiles_o2o_smallshort/short/2.zbot_0.8/G1193/01f83f523ac6e7b3c8ae00b2a46b540efdcd9e64de86117afdf065b7c40cc0cb_3384.profile']\n",
      "duplicate ERR: ['./data/tree-rep-profiles_o2o_smallshort/small/2.zbot_0.8/G1074/42a1997be0d8a462bdd1adb5d8220eccd3f11b961f29ac5eaccae05874f669ce_2812.profile', './data/tree-rep-profiles_o2o_smallshort/short/2.zbot_0.8/G1074/42a1997be0d8a462bdd1adb5d8220eccd3f11b961f29ac5eaccae05874f669ce_2812.profile']\n",
      "duplicate ERR: ['./data/tree-rep-profiles_o2o_smallshort/small/2.zbot_0.8/G1074/18ba0d29c57a5c87690d293f6a2dc941d9cfc872b05697f5060651a9fd93e7d7_2840.profile', './data/tree-rep-profiles_o2o_smallshort/short/2.zbot_0.8/G1074/18ba0d29c57a5c87690d293f6a2dc941d9cfc872b05697f5060651a9fd93e7d7_2840.profile']\n",
      "duplicate ERR: ['./data/tree-rep-profiles_o2o_smallshort/small/2.zbot_0.8/G1225/1c766fa73e8e9e642109da0a68d981f7e4219776fb6ed5f2a2a5b4c618237138_3348.profile', './data/tree-rep-profiles_o2o_smallshort/short/2.zbot_0.8/G1225/1c766fa73e8e9e642109da0a68d981f7e4219776fb6ed5f2a2a5b4c618237138_3348.profile']\n",
      "duplicate ERR: ['./data/tree-rep-profiles_o2o_smallshort/small/2.zbot_0.8/G1225/77b4e4fed1ca2b0062df79f1a63630faa0a662170aa86a0fcdf283effe105435_3276.profile', './data/tree-rep-profiles_o2o_smallshort/short/2.zbot_0.8/G1225/77b4e4fed1ca2b0062df79f1a63630faa0a662170aa86a0fcdf283effe105435_3276.profile']\n",
      "duplicate ERR: ['./data/tree-rep-profiles_o2o_smallshort/small/2.zbot_0.8/G1187/066d84d91907d43fd6e0d2d3950c1a2b5de4603c601d4fddfd8c680fab79ae52_2868.profile', './data/tree-rep-profiles_o2o_smallshort/short/2.zbot_0.8/G1187/066d84d91907d43fd6e0d2d3950c1a2b5de4603c601d4fddfd8c680fab79ae52_2868.profile']\n",
      "duplicate ERR: ['./data/tree-rep-profiles_o2o_smallshort/small/2.zbot_0.8/G1187/119ff51960fa4d43851a0a5ede0fedfb69e5b915a95ebff171c92655ee574c1f_3116.profile', './data/tree-rep-profiles_o2o_smallshort/short/2.zbot_0.8/G1187/119ff51960fa4d43851a0a5ede0fedfb69e5b915a95ebff171c92655ee574c1f_3116.profile']\n",
      "duplicate ERR: ['./data/tree-rep-profiles_o2o_smallshort/small/2.zbot_0.8/G1228/3d678bb01678e11b8e01388356891a3f6016824cabc67a427bcd7c2152eb272a_3096.profile', './data/tree-rep-profiles_o2o_smallshort/short/2.zbot_0.8/G1228/3d678bb01678e11b8e01388356891a3f6016824cabc67a427bcd7c2152eb272a_3096.profile']\n",
      "duplicate ERR: ['./data/tree-rep-profiles_o2o_smallshort/small/2.zbot_0.8/G1228/48e875022c0ce800f88cd756d8ad7c57c9b2cfa2aead8ad1bbf33fd02b3a67cc_2856.profile', './data/tree-rep-profiles_o2o_smallshort/short/2.zbot_0.8/G1228/48e875022c0ce800f88cd756d8ad7c57c9b2cfa2aead8ad1bbf33fd02b3a67cc_2856.profile']\n",
      "duplicate ERR: ['./data/tree-rep-profiles_o2o_smallshort/small/2.zbot_0.8/G1201/41e79b4dd076deaafa649595a777979549f8710eecd58c33d8ae13e4518684dd_3316.profile', './data/tree-rep-profiles_o2o_smallshort/short/2.zbot_0.8/G1201/41e79b4dd076deaafa649595a777979549f8710eecd58c33d8ae13e4518684dd_3316.profile']\n",
      "duplicate ERR: ['./data/tree-rep-profiles_o2o_smallshort/small/2.zbot_0.8/G1201/42a4c3b02189291681466bf1fe59f2e05926f6e2d931d1719750080bf6d50715_2896.profile', './data/tree-rep-profiles_o2o_smallshort/short/2.zbot_0.8/G1201/42a4c3b02189291681466bf1fe59f2e05926f6e2d931d1719750080bf6d50715_2896.profile']\n",
      "duplicate ERR: ['./data/tree-rep-profiles_o2o_smallshort/small/2.zbot_0.8/G1220/5ace329fe9c78f1cee7a9cb8b83fe27e5341a325cd416c626e2df91c7aa0e08a_3152.profile', './data/tree-rep-profiles_o2o_smallshort/short/2.zbot_0.8/G1220/5ace329fe9c78f1cee7a9cb8b83fe27e5341a325cd416c626e2df91c7aa0e08a_3152.profile']\n",
      "duplicate ERR: ['./data/tree-rep-profiles_o2o_smallshort/small/2.zbot_0.8/G1220/08e3907f968c83fc282c39e6aa0e45f8d8da8406391e81fbc7c9b758314c2fed_2876.profile', './data/tree-rep-profiles_o2o_smallshort/short/2.zbot_0.8/G1220/08e3907f968c83fc282c39e6aa0e45f8d8da8406391e81fbc7c9b758314c2fed_2876.profile']\n",
      "duplicate ERR: ['./data/tree-rep-profiles_o2o_smallshort/small/2.zbot_0.8/G1191/2d2305da91d9c661607071889715cf80f53295776dced46d688337eab69037f3_3412.profile', './data/tree-rep-profiles_o2o_smallshort/short/2.zbot_0.8/G1191/2d2305da91d9c661607071889715cf80f53295776dced46d688337eab69037f3_3412.profile']\n",
      "duplicate ERR: ['./data/tree-rep-profiles_o2o_smallshort/small/2.zbot_0.8/G1191/2d2305da91d9c661607071889715cf80f53295776dced46d688337eab69037f3_3440.profile', './data/tree-rep-profiles_o2o_smallshort/short/2.zbot_0.8/G1191/2d2305da91d9c661607071889715cf80f53295776dced46d688337eab69037f3_3440.profile']\n"
     ]
    },
    {
     "name": "stderr",
     "output_type": "stream",
     "text": [
      "\r",
      "  7%|▋         | 11/159 [00:06<02:58,  1.21s/it]"
     ]
    },
    {
     "name": "stdout",
     "output_type": "stream",
     "text": [
      "duplicate ERR: ['./data/tree-rep-profiles_o2o_smallshort/small/2.zbot_0.8/G1100/0ba1a9020add6f5f9934e73c7640c2a2c5a38c8161f051637d13b70355ff1361_3340.profile', './data/tree-rep-profiles_o2o_smallshort/short/2.zbot_0.8/G1100/0ba1a9020add6f5f9934e73c7640c2a2c5a38c8161f051637d13b70355ff1361_3340.profile']\n",
      "duplicate ERR: ['./data/tree-rep-profiles_o2o_smallshort/small/2.zbot_0.8/G1100/0a78ce2b8288ca132c2096103ce46b71d65df5cc1bf766707452f2fa2a78297c_3228.profile', './data/tree-rep-profiles_o2o_smallshort/short/2.zbot_0.8/G1100/0a78ce2b8288ca132c2096103ce46b71d65df5cc1bf766707452f2fa2a78297c_3228.profile']\n",
      "duplicate ERR: ['./data/tree-rep-profiles_o2o_smallshort/small/2.zbot_0.8/G1215/03ee844b3e45605724541d36d63e89424ad968f53509a92297692626af163db4_3264.profile', './data/tree-rep-profiles_o2o_smallshort/short/2.zbot_0.8/G1215/03ee844b3e45605724541d36d63e89424ad968f53509a92297692626af163db4_3264.profile']\n",
      "duplicate ERR: ['./data/tree-rep-profiles_o2o_smallshort/small/2.zbot_0.8/G1215/0dc0927f92f6877f45f075c89c8d6d51081300d6a92e7df12f48cab7dea69c1e_3292.profile', './data/tree-rep-profiles_o2o_smallshort/short/2.zbot_0.8/G1215/0dc0927f92f6877f45f075c89c8d6d51081300d6a92e7df12f48cab7dea69c1e_3292.profile']\n",
      "duplicate ERR: ['./data/tree-rep-profiles_o2o_smallshort/small/2.zbot_0.8/G1049/3d93b8ad304b666b369d12cc183ee499f97b00b65027a029571c13eefa6303a0_3144.profile', './data/tree-rep-profiles_o2o_smallshort/short/2.zbot_0.8/G1049/3d93b8ad304b666b369d12cc183ee499f97b00b65027a029571c13eefa6303a0_3144.profile']\n",
      "duplicate ERR: ['./data/tree-rep-profiles_o2o_smallshort/small/2.zbot_0.8/G1049/4f6c04a4374aef3f0d123ac90672bc2095861c6e60e11d330cb52498621bc975_3244.profile', './data/tree-rep-profiles_o2o_smallshort/short/2.zbot_0.8/G1049/4f6c04a4374aef3f0d123ac90672bc2095861c6e60e11d330cb52498621bc975_3244.profile']\n",
      "duplicate ERR: ['./data/tree-rep-profiles_o2o_smallshort/small/82.madangel_0.8/G60/3efb01b4caddbb259492ff882b999eb1912a63e1058adb278ef1104105f28748_3068.profile', './data/tree-rep-profiles_o2o_smallshort/short/82.madangel_0.8/G60/3efb01b4caddbb259492ff882b999eb1912a63e1058adb278ef1104105f28748_3068.profile']\n",
      "duplicate ERR: ['./data/tree-rep-profiles_o2o_smallshort/small/82.madangel_0.8/G60/3efb01b4caddbb259492ff882b999eb1912a63e1058adb278ef1104105f28748_3044.profile', './data/tree-rep-profiles_o2o_smallshort/short/82.madangel_0.8/G60/3efb01b4caddbb259492ff882b999eb1912a63e1058adb278ef1104105f28748_3044.profile']\n"
     ]
    },
    {
     "name": "stderr",
     "output_type": "stream",
     "text": [
      "\r",
      "  8%|▊         | 12/159 [00:06<02:08,  1.14it/s]"
     ]
    },
    {
     "name": "stdout",
     "output_type": "stream",
     "text": [
      "duplicate ERR: ['./data/tree-rep-profiles_o2o_smallshort/small/82.madangel_0.8/G65/bf047271ef501b7a822d09e3cb78bbc9b5300cbe77b6094430ca4d51c2ba792f_2920.profile', './data/tree-rep-profiles_o2o_smallshort/short/82.madangel_0.8/G65/bf047271ef501b7a822d09e3cb78bbc9b5300cbe77b6094430ca4d51c2ba792f_2920.profile']\n",
      "duplicate ERR: ['./data/tree-rep-profiles_o2o_smallshort/small/82.madangel_0.8/G65/7c0d7f01fa27ae6baee66747839253fd42998e4af410b62b40ae156c29de1604_3296.profile', './data/tree-rep-profiles_o2o_smallshort/short/82.madangel_0.8/G65/7c0d7f01fa27ae6baee66747839253fd42998e4af410b62b40ae156c29de1604_3296.profile']\n",
      "duplicate ERR: ['./data/tree-rep-profiles_o2o_smallshort/small/158.amonetize_0.8/G19/0ab0e0b6ef452eca7e8a1daa98080a401d6139bd53d7c874e4ba0ac148d1255e_3064.profile', './data/tree-rep-profiles_o2o_smallshort/short/158.amonetize_0.8/G19/0ab0e0b6ef452eca7e8a1daa98080a401d6139bd53d7c874e4ba0ac148d1255e_3064.profile']\n",
      "duplicate ERR: ['./data/tree-rep-profiles_o2o_smallshort/small/158.amonetize_0.8/G19/0ab0e0b6ef452eca7e8a1daa98080a401d6139bd53d7c874e4ba0ac148d1255e_3052.profile', './data/tree-rep-profiles_o2o_smallshort/short/158.amonetize_0.8/G19/0ab0e0b6ef452eca7e8a1daa98080a401d6139bd53d7c874e4ba0ac148d1255e_3052.profile']\n",
      "duplicate ERR: ['./data/tree-rep-profiles_o2o_smallshort/small/26.autoit_0.8/G245/3c437821a5dc73652d1aa2a4bd75a06745ae41185b2c6aa3a77df39f532f88d4_3488.profile', './data/tree-rep-profiles_o2o_smallshort/short/26.autoit_0.8/G245/3c437821a5dc73652d1aa2a4bd75a06745ae41185b2c6aa3a77df39f532f88d4_3488.profile']\n",
      "duplicate ERR: ['./data/tree-rep-profiles_o2o_smallshort/small/26.autoit_0.8/G245/0ea9481cd9db16ce82fe7afbe8b70ac0670df838f378eac7a111a8e8167bb33c_3028.profile', './data/tree-rep-profiles_o2o_smallshort/short/26.autoit_0.8/G245/0ea9481cd9db16ce82fe7afbe8b70ac0670df838f378eac7a111a8e8167bb33c_3028.profile']\n",
      "duplicate ERR: ['./data/tree-rep-profiles_o2o_smallshort/small/26.autoit_0.8/G246/1d2e32edb509361256b06034536bf04486e017f0d02ebd9caf97002ce4e797a2_2892.profile', './data/tree-rep-profiles_o2o_smallshort/short/26.autoit_0.8/G246/1d2e32edb509361256b06034536bf04486e017f0d02ebd9caf97002ce4e797a2_2892.profile']\n",
      "duplicate ERR: ['./data/tree-rep-profiles_o2o_smallshort/small/26.autoit_0.8/G246/034afae7d857b2cacffe2b1782e87c3b2dce77c8b5599e6a9e48f6d8065f06eb_3200.profile', './data/tree-rep-profiles_o2o_smallshort/short/26.autoit_0.8/G246/034afae7d857b2cacffe2b1782e87c3b2dce77c8b5599e6a9e48f6d8065f06eb_3200.profile']\n",
      "duplicate ERR: ['./data/tree-rep-profiles_o2o_smallshort/small/26.autoit_0.8/G243/3127766cf710daa6b4b47b38cc1fafe5d5be4b1c0d8feacb5a8889dcf0cbead3_3332.profile', './data/tree-rep-profiles_o2o_smallshort/short/26.autoit_0.8/G243/3127766cf710daa6b4b47b38cc1fafe5d5be4b1c0d8feacb5a8889dcf0cbead3_3332.profile']\n",
      "duplicate ERR: ['./data/tree-rep-profiles_o2o_smallshort/small/26.autoit_0.8/G243/3127766cf710daa6b4b47b38cc1fafe5d5be4b1c0d8feacb5a8889dcf0cbead3_3276.profile', './data/tree-rep-profiles_o2o_smallshort/short/26.autoit_0.8/G243/3127766cf710daa6b4b47b38cc1fafe5d5be4b1c0d8feacb5a8889dcf0cbead3_3276.profile']\n",
      "duplicate ERR: ['./data/tree-rep-profiles_o2o_smallshort/small/26.autoit_0.8/G238/10d598d888a61e798fb375f1b9332b9715fafc70c2a078350586c7aacadacd1e_3332.profile', './data/tree-rep-profiles_o2o_smallshort/short/26.autoit_0.8/G238/10d598d888a61e798fb375f1b9332b9715fafc70c2a078350586c7aacadacd1e_3332.profile']\n",
      "duplicate ERR: ['./data/tree-rep-profiles_o2o_smallshort/small/26.autoit_0.8/G238/024a85637596e0b4525f182962c54049ad5e20e94564a0fbfd29df00d8c96a24_3412.profile', './data/tree-rep-profiles_o2o_smallshort/short/26.autoit_0.8/G238/024a85637596e0b4525f182962c54049ad5e20e94564a0fbfd29df00d8c96a24_3412.profile']\n",
      "duplicate ERR: ['./data/tree-rep-profiles_o2o_smallshort/small/26.autoit_0.8/G241/263fdbc7c5bb063ad9e600fa1e8642ff3e9f3c27f362caae6c4e08e78ea3fa23_3336.profile', './data/tree-rep-profiles_o2o_smallshort/short/26.autoit_0.8/G241/263fdbc7c5bb063ad9e600fa1e8642ff3e9f3c27f362caae6c4e08e78ea3fa23_3336.profile']\n",
      "duplicate ERR: ['./data/tree-rep-profiles_o2o_smallshort/small/26.autoit_0.8/G241/0b63abba7a0519b4f8e22ac6c0bd3c95e32fe28703a104ec15d95e64128d265a_3296.profile', './data/tree-rep-profiles_o2o_smallshort/short/26.autoit_0.8/G241/0b63abba7a0519b4f8e22ac6c0bd3c95e32fe28703a104ec15d95e64128d265a_3296.profile']\n",
      "duplicate ERR: ['./data/tree-rep-profiles_o2o_smallshort/small/26.autoit_0.8/G226/5a5ff15fe2cbdea64f9ac61ed28459c348e16db43efb969f71928275cb6fe6a1_3404.profile', './data/tree-rep-profiles_o2o_smallshort/short/26.autoit_0.8/G226/5a5ff15fe2cbdea64f9ac61ed28459c348e16db43efb969f71928275cb6fe6a1_3404.profile']\n",
      "duplicate ERR: ['./data/tree-rep-profiles_o2o_smallshort/small/26.autoit_0.8/G226/07c12903b33aaf0cb1eccbcb5e52c7d61c8aa8b828020f59fdc18d2bc350cd1e_2880.profile', './data/tree-rep-profiles_o2o_smallshort/short/26.autoit_0.8/G226/07c12903b33aaf0cb1eccbcb5e52c7d61c8aa8b828020f59fdc18d2bc350cd1e_2880.profile']\n",
      "duplicate ERR: ['./data/tree-rep-profiles_o2o_smallshort/small/26.autoit_0.8/G220/757588655575b1dd2879d3ae388be5a9fa27fe8f94bc6c2669a928a4a504ce72_2924.profile', './data/tree-rep-profiles_o2o_smallshort/short/26.autoit_0.8/G220/757588655575b1dd2879d3ae388be5a9fa27fe8f94bc6c2669a928a4a504ce72_2924.profile']\n",
      "duplicate ERR: ['./data/tree-rep-profiles_o2o_smallshort/small/26.autoit_0.8/G220/c345d6b91f1cf0acb51ae8dd7cee8ae507b33e0b8c6463725279df509549401f_3316.profile', './data/tree-rep-profiles_o2o_smallshort/short/26.autoit_0.8/G220/c345d6b91f1cf0acb51ae8dd7cee8ae507b33e0b8c6463725279df509549401f_3316.profile']\n",
      "duplicate ERR: ['./data/tree-rep-profiles_o2o_smallshort/small/26.autoit_0.8/G236/12f485912ab55af1f2b963ff9630c86c17c94baab89e3c13833523297dbc361a_2892.profile', './data/tree-rep-profiles_o2o_smallshort/short/26.autoit_0.8/G236/12f485912ab55af1f2b963ff9630c86c17c94baab89e3c13833523297dbc361a_2892.profile']\n",
      "duplicate ERR: ['./data/tree-rep-profiles_o2o_smallshort/small/26.autoit_0.8/G236/01d6fefd5e6d01aaeca6974bbdd2fe50a9208d8b85b77629780e9639f90b9814_3136.profile', './data/tree-rep-profiles_o2o_smallshort/short/26.autoit_0.8/G236/01d6fefd5e6d01aaeca6974bbdd2fe50a9208d8b85b77629780e9639f90b9814_3136.profile']\n",
      "duplicate ERR: ['./data/tree-rep-profiles_o2o_smallshort/small/26.autoit_0.8/G209/a49367f26da22b2684f0bdbf632993ba51eb86c6060cfc5b7cd0a39ab27159c9_3324.profile', './data/tree-rep-profiles_o2o_smallshort/short/26.autoit_0.8/G209/a49367f26da22b2684f0bdbf632993ba51eb86c6060cfc5b7cd0a39ab27159c9_3324.profile']\n",
      "duplicate ERR: ['./data/tree-rep-profiles_o2o_smallshort/small/26.autoit_0.8/G209/a49367f26da22b2684f0bdbf632993ba51eb86c6060cfc5b7cd0a39ab27159c9_3412.profile', './data/tree-rep-profiles_o2o_smallshort/short/26.autoit_0.8/G209/a49367f26da22b2684f0bdbf632993ba51eb86c6060cfc5b7cd0a39ab27159c9_3412.profile']\n",
      "duplicate ERR: ['./data/tree-rep-profiles_o2o_smallshort/small/26.autoit_0.8/G239/0e13110350edca6c5c788df3f2dadc70b1f0d89795ca6eeb2fad55976310caa4_3368.profile', './data/tree-rep-profiles_o2o_smallshort/short/26.autoit_0.8/G239/0e13110350edca6c5c788df3f2dadc70b1f0d89795ca6eeb2fad55976310caa4_3368.profile']\n",
      "duplicate ERR: ['./data/tree-rep-profiles_o2o_smallshort/small/26.autoit_0.8/G239/00b8136d28e889f8506e6d73f651e5254ea3b796bbf92d27e926bd2eff248ddb_3244.profile', './data/tree-rep-profiles_o2o_smallshort/short/26.autoit_0.8/G239/00b8136d28e889f8506e6d73f651e5254ea3b796bbf92d27e926bd2eff248ddb_3244.profile']\n",
      "duplicate ERR: ['./data/tree-rep-profiles_o2o_smallshort/small/26.autoit_0.8/G217/11cf4372d3e137ffd37141a9e9fb823f5d1febd13cb528ec2bafd42150b09dce_3152.profile', './data/tree-rep-profiles_o2o_smallshort/short/26.autoit_0.8/G217/11cf4372d3e137ffd37141a9e9fb823f5d1febd13cb528ec2bafd42150b09dce_3152.profile']\n",
      "duplicate ERR: ['./data/tree-rep-profiles_o2o_smallshort/small/26.autoit_0.8/G217/0b9c3c67968c9ec6a3f7a4e80f28b57e7675206e6296d0d23ac6c92cbade0532_3296.profile', './data/tree-rep-profiles_o2o_smallshort/short/26.autoit_0.8/G217/0b9c3c67968c9ec6a3f7a4e80f28b57e7675206e6296d0d23ac6c92cbade0532_3296.profile']\n",
      "duplicate ERR: ['./data/tree-rep-profiles_o2o_smallshort/small/26.autoit_0.8/G211/a7919af6f7fb3ce06d8de813511976dab10bedb0791e168a6164d533b042a3c3_3392.profile', './data/tree-rep-profiles_o2o_smallshort/short/26.autoit_0.8/G211/a7919af6f7fb3ce06d8de813511976dab10bedb0791e168a6164d533b042a3c3_3392.profile']\n",
      "duplicate ERR: ['./data/tree-rep-profiles_o2o_smallshort/small/26.autoit_0.8/G211/1d1e3e620f9b89817675065f9c69a585b238eefa29cd67406f9c62a8a0b30221_3476.profile', './data/tree-rep-profiles_o2o_smallshort/short/26.autoit_0.8/G211/1d1e3e620f9b89817675065f9c69a585b238eefa29cd67406f9c62a8a0b30221_3476.profile']\n",
      "duplicate ERR: ['./data/tree-rep-profiles_o2o_smallshort/small/26.autoit_0.8/G221/086e52c50145b6741b58db6f0f83bc49fa22c513fe9dfeb5a3b72d1dbe53e945_3356.profile', './data/tree-rep-profiles_o2o_smallshort/short/26.autoit_0.8/G221/086e52c50145b6741b58db6f0f83bc49fa22c513fe9dfeb5a3b72d1dbe53e945_3356.profile']\n",
      "duplicate ERR: ['./data/tree-rep-profiles_o2o_smallshort/small/26.autoit_0.8/G221/086e52c50145b6741b58db6f0f83bc49fa22c513fe9dfeb5a3b72d1dbe53e945_3300.profile', './data/tree-rep-profiles_o2o_smallshort/short/26.autoit_0.8/G221/086e52c50145b6741b58db6f0f83bc49fa22c513fe9dfeb5a3b72d1dbe53e945_3300.profile']\n",
      "duplicate ERR: ['./data/tree-rep-profiles_o2o_smallshort/small/26.autoit_0.8/G223/0fd55e31330572470e96ad0a55dbb33d8fd16c84ca637319d415abe91bef2a8e_3176.profile', './data/tree-rep-profiles_o2o_smallshort/short/26.autoit_0.8/G223/0fd55e31330572470e96ad0a55dbb33d8fd16c84ca637319d415abe91bef2a8e_3176.profile']\n",
      "duplicate ERR: ['./data/tree-rep-profiles_o2o_smallshort/small/26.autoit_0.8/G223/ec99f753eba78db60a590c907bcc1ae4424c17b776317323a377f10a5b0815d1_3152.profile', './data/tree-rep-profiles_o2o_smallshort/short/26.autoit_0.8/G223/ec99f753eba78db60a590c907bcc1ae4424c17b776317323a377f10a5b0815d1_3152.profile']\n"
     ]
    },
    {
     "name": "stderr",
     "output_type": "stream",
     "text": [
      "\r",
      "  9%|▉         | 14/159 [00:07<01:49,  1.33it/s]"
     ]
    },
    {
     "name": "stdout",
     "output_type": "stream",
     "text": [
      "duplicate ERR: ['./data/tree-rep-profiles_o2o_smallshort/small/26.autoit_0.8/G228/0fcb083914f9fbee5db93515d3a9d153cd2089e3324dc68d560f009d61c4443f_2924.profile', './data/tree-rep-profiles_o2o_smallshort/short/26.autoit_0.8/G228/0fcb083914f9fbee5db93515d3a9d153cd2089e3324dc68d560f009d61c4443f_2924.profile']\n",
      "duplicate ERR: ['./data/tree-rep-profiles_o2o_smallshort/small/26.autoit_0.8/G228/0c233b008b692aed851165565eda2b4801272dd42505024a8c4581364b1fe871_2988.profile', './data/tree-rep-profiles_o2o_smallshort/short/26.autoit_0.8/G228/0c233b008b692aed851165565eda2b4801272dd42505024a8c4581364b1fe871_2988.profile']\n",
      "duplicate ERR: ['./data/tree-rep-profiles_o2o_smallshort/small/26.autoit_0.8/G242/1deac90357444c3fe3190a8f53315a0f6992099ea246f508b0607c188f42d807_2840.profile', './data/tree-rep-profiles_o2o_smallshort/short/26.autoit_0.8/G242/1deac90357444c3fe3190a8f53315a0f6992099ea246f508b0607c188f42d807_2840.profile']\n",
      "duplicate ERR: ['./data/tree-rep-profiles_o2o_smallshort/small/26.autoit_0.8/G242/06f0138c633722bc569e9c5fb44109387e29b4a56dc68c3426bf1a20cbec2dc2_3292.profile', './data/tree-rep-profiles_o2o_smallshort/short/26.autoit_0.8/G242/06f0138c633722bc569e9c5fb44109387e29b4a56dc68c3426bf1a20cbec2dc2_3292.profile']\n",
      "duplicate ERR: ['./data/tree-rep-profiles_o2o_smallshort/small/26.autoit_0.8/G222/a49367f26da22b2684f0bdbf632993ba51eb86c6060cfc5b7cd0a39ab27159c9_3364.profile', './data/tree-rep-profiles_o2o_smallshort/short/26.autoit_0.8/G222/a49367f26da22b2684f0bdbf632993ba51eb86c6060cfc5b7cd0a39ab27159c9_3364.profile']\n",
      "duplicate ERR: ['./data/tree-rep-profiles_o2o_smallshort/small/26.autoit_0.8/G222/a49367f26da22b2684f0bdbf632993ba51eb86c6060cfc5b7cd0a39ab27159c9_3240.profile', './data/tree-rep-profiles_o2o_smallshort/short/26.autoit_0.8/G222/a49367f26da22b2684f0bdbf632993ba51eb86c6060cfc5b7cd0a39ab27159c9_3240.profile']\n",
      "duplicate ERR: ['./data/tree-rep-profiles_o2o_smallshort/small/139.softonic_0.8/G31/0822998b58fc1c74c8202b2902b9505db34ac35fbd6413e4009a727058ca2ba1_3360.profile', './data/tree-rep-profiles_o2o_smallshort/short/139.softonic_0.8/G31/0822998b58fc1c74c8202b2902b9505db34ac35fbd6413e4009a727058ca2ba1_3360.profile']\n",
      "duplicate ERR: ['./data/tree-rep-profiles_o2o_smallshort/small/139.softonic_0.8/G31/e3104989e3fcb1c441dd740b04c70c4ab39bd96d3cf8cf216cedc8cf8bdcd47d_3264.profile', './data/tree-rep-profiles_o2o_smallshort/short/139.softonic_0.8/G31/e3104989e3fcb1c441dd740b04c70c4ab39bd96d3cf8cf216cedc8cf8bdcd47d_3264.profile']\n"
     ]
    },
    {
     "name": "stderr",
     "output_type": "stream",
     "text": [
      "\r",
      " 10%|█         | 16/159 [00:07<01:17,  1.84it/s]"
     ]
    },
    {
     "name": "stdout",
     "output_type": "stream",
     "text": [
      "duplicate ERR: ['./data/tree-rep-profiles_o2o_smallshort/small/148.dldpk_0.8/G21/1a566be9f7ae6c58b501743f6af880ad4ef3a3ead1e34099f1b4f5f42e3d08d5_3516.profile', './data/tree-rep-profiles_o2o_smallshort/short/148.dldpk_0.8/G21/1a566be9f7ae6c58b501743f6af880ad4ef3a3ead1e34099f1b4f5f42e3d08d5_3516.profile']\n",
      "duplicate ERR: ['./data/tree-rep-profiles_o2o_smallshort/small/148.dldpk_0.8/G21/1a566be9f7ae6c58b501743f6af880ad4ef3a3ead1e34099f1b4f5f42e3d08d5_3524.profile', './data/tree-rep-profiles_o2o_smallshort/short/148.dldpk_0.8/G21/1a566be9f7ae6c58b501743f6af880ad4ef3a3ead1e34099f1b4f5f42e3d08d5_3524.profile']\n",
      "duplicate ERR: ['./data/tree-rep-profiles_o2o_smallshort/small/57.vilsel_0.8/G319/0068b5e330bafc5624ab51ced85489e2f973513e10340a2851f080f0468c6140_3404.profile', './data/tree-rep-profiles_o2o_smallshort/short/57.vilsel_0.8/G319/0068b5e330bafc5624ab51ced85489e2f973513e10340a2851f080f0468c6140_3404.profile']\n",
      "duplicate ERR: ['./data/tree-rep-profiles_o2o_smallshort/small/57.vilsel_0.8/G319/02b8531e552022934d37a4b66cf7a74c4833a73881735f08a92e104ce744cac9_3440.profile', './data/tree-rep-profiles_o2o_smallshort/short/57.vilsel_0.8/G319/02b8531e552022934d37a4b66cf7a74c4833a73881735f08a92e104ce744cac9_3440.profile']\n",
      "duplicate ERR: ['./data/tree-rep-profiles_o2o_smallshort/small/57.vilsel_0.8/G365/cdde22533019c41a6dfdefd31d7666a36d8f35c21b27d3d74e216c889f29c3e0_3616.profile', './data/tree-rep-profiles_o2o_smallshort/short/57.vilsel_0.8/G365/cdde22533019c41a6dfdefd31d7666a36d8f35c21b27d3d74e216c889f29c3e0_3616.profile']\n",
      "duplicate ERR: ['./data/tree-rep-profiles_o2o_smallshort/small/57.vilsel_0.8/G365/7c196c432432be3a495a24edfaacb5f638c033ede8c6b25e28811e39693d2bcc_3440.profile', './data/tree-rep-profiles_o2o_smallshort/short/57.vilsel_0.8/G365/7c196c432432be3a495a24edfaacb5f638c033ede8c6b25e28811e39693d2bcc_3440.profile']\n",
      "duplicate ERR: ['./data/tree-rep-profiles_o2o_smallshort/small/57.vilsel_0.8/G297/7c407183d74e8373a567da381b0d563682ebb1a2b9c0abd84c12bb1430dc2b69_3476.profile', './data/tree-rep-profiles_o2o_smallshort/short/57.vilsel_0.8/G297/7c407183d74e8373a567da381b0d563682ebb1a2b9c0abd84c12bb1430dc2b69_3476.profile']\n",
      "duplicate ERR: ['./data/tree-rep-profiles_o2o_smallshort/small/57.vilsel_0.8/G297/241ac659aac582fd1e93527fa57fe9f35211199075832b332fe8b083a02e10eb_3016.profile', './data/tree-rep-profiles_o2o_smallshort/short/57.vilsel_0.8/G297/241ac659aac582fd1e93527fa57fe9f35211199075832b332fe8b083a02e10eb_3016.profile']\n"
     ]
    },
    {
     "name": "stderr",
     "output_type": "stream",
     "text": [
      "\r",
      " 11%|█         | 17/159 [00:07<01:05,  2.18it/s]"
     ]
    },
    {
     "name": "stdout",
     "output_type": "stream",
     "text": [
      "duplicate ERR: ['./data/tree-rep-profiles_o2o_smallshort/small/57.vilsel_0.8/G351/b55b5977676707c2f11a01cacefbdabe560c3192d24186fb3993f5b78b659c42_3372.profile', './data/tree-rep-profiles_o2o_smallshort/short/57.vilsel_0.8/G351/b55b5977676707c2f11a01cacefbdabe560c3192d24186fb3993f5b78b659c42_3372.profile']\n",
      "duplicate ERR: ['./data/tree-rep-profiles_o2o_smallshort/small/57.vilsel_0.8/G351/1530a06339f274b98b7e03765befda08afb7d9316ccfd1c7e74bde8f896d5900_3320.profile', './data/tree-rep-profiles_o2o_smallshort/short/57.vilsel_0.8/G351/1530a06339f274b98b7e03765befda08afb7d9316ccfd1c7e74bde8f896d5900_3320.profile']\n",
      "duplicate ERR: ['./data/tree-rep-profiles_o2o_smallshort/small/57.vilsel_0.8/G316/02e852c39629f12613b7cc7e7f3a0b37ca48511b69df54e3d383244e88bf57ab_3320.profile', './data/tree-rep-profiles_o2o_smallshort/short/57.vilsel_0.8/G316/02e852c39629f12613b7cc7e7f3a0b37ca48511b69df54e3d383244e88bf57ab_3320.profile']\n",
      "duplicate ERR: ['./data/tree-rep-profiles_o2o_smallshort/small/57.vilsel_0.8/G316/133eba8b1c970b54d842b1cd0ffdc51fca009dc53bc430adb55419218bf84161_2888.profile', './data/tree-rep-profiles_o2o_smallshort/short/57.vilsel_0.8/G316/133eba8b1c970b54d842b1cd0ffdc51fca009dc53bc430adb55419218bf84161_2888.profile']\n",
      "duplicate ERR: ['./data/tree-rep-profiles_o2o_smallshort/small/77.bifrose_0.8/G48/09eb3c3d79dd445d1e4ac2b1e4ce62f3fb0f9c1e5a4aab93e15ebfd45dbd5544_2884.profile', './data/tree-rep-profiles_o2o_smallshort/short/77.bifrose_0.8/G48/09eb3c3d79dd445d1e4ac2b1e4ce62f3fb0f9c1e5a4aab93e15ebfd45dbd5544_2884.profile']\n",
      "duplicate ERR: ['./data/tree-rep-profiles_o2o_smallshort/small/77.bifrose_0.8/G48/0109fc9392b28ff23fb7f4e5161184b7a220fdaecc3f72fbd83c810f587d997f_3072.profile', './data/tree-rep-profiles_o2o_smallshort/short/77.bifrose_0.8/G48/0109fc9392b28ff23fb7f4e5161184b7a220fdaecc3f72fbd83c810f587d997f_3072.profile']\n",
      "duplicate ERR: ['./data/tree-rep-profiles_o2o_smallshort/small/25.browsefox_0.8/G290/50c06aca1493be637de60b4dea6539769ef9df1a6cdc42b59cfad22f3dfa8f89_3360.profile', './data/tree-rep-profiles_o2o_smallshort/short/25.browsefox_0.8/G290/50c06aca1493be637de60b4dea6539769ef9df1a6cdc42b59cfad22f3dfa8f89_3360.profile']\n",
      "duplicate ERR: ['./data/tree-rep-profiles_o2o_smallshort/small/25.browsefox_0.8/G290/50c06aca1493be637de60b4dea6539769ef9df1a6cdc42b59cfad22f3dfa8f89_3444.profile', './data/tree-rep-profiles_o2o_smallshort/short/25.browsefox_0.8/G290/50c06aca1493be637de60b4dea6539769ef9df1a6cdc42b59cfad22f3dfa8f89_3444.profile']\n",
      "duplicate ERR: ['./data/tree-rep-profiles_o2o_smallshort/small/25.browsefox_0.8/G284/1239598f203a9a8a5b0fac28fcf0f2229d8514de906e53c1d927162227a2e11b_2940.profile', './data/tree-rep-profiles_o2o_smallshort/short/25.browsefox_0.8/G284/1239598f203a9a8a5b0fac28fcf0f2229d8514de906e53c1d927162227a2e11b_2940.profile']\n",
      "duplicate ERR: ['./data/tree-rep-profiles_o2o_smallshort/small/25.browsefox_0.8/G284/1088abbe2e404307f5195e40177cebc1bcf44b8b732df64936404a7056ca6c6e_3392.profile', './data/tree-rep-profiles_o2o_smallshort/short/25.browsefox_0.8/G284/1088abbe2e404307f5195e40177cebc1bcf44b8b732df64936404a7056ca6c6e_3392.profile']\n",
      "duplicate ERR: ['./data/tree-rep-profiles_o2o_smallshort/small/25.browsefox_0.8/G263/8370580ba494843b468b3b64b9536314c189f58c943c7650e4edc83c9337decd_3332.profile', './data/tree-rep-profiles_o2o_smallshort/short/25.browsefox_0.8/G263/8370580ba494843b468b3b64b9536314c189f58c943c7650e4edc83c9337decd_3332.profile']\n",
      "duplicate ERR: ['./data/tree-rep-profiles_o2o_smallshort/small/25.browsefox_0.8/G263/8370580ba494843b468b3b64b9536314c189f58c943c7650e4edc83c9337decd_3412.profile', './data/tree-rep-profiles_o2o_smallshort/short/25.browsefox_0.8/G263/8370580ba494843b468b3b64b9536314c189f58c943c7650e4edc83c9337decd_3412.profile']\n",
      "duplicate ERR: ['./data/tree-rep-profiles_o2o_smallshort/small/25.browsefox_0.8/G253/0f3e18c69d7e05f514e9675d5f47bc61423e34dbf94605b97056069925748636_3168.profile', './data/tree-rep-profiles_o2o_smallshort/short/25.browsefox_0.8/G253/0f3e18c69d7e05f514e9675d5f47bc61423e34dbf94605b97056069925748636_3168.profile']\n",
      "duplicate ERR: ['./data/tree-rep-profiles_o2o_smallshort/small/25.browsefox_0.8/G253/aac1b938089f7e429e0be14dfe4ba03b8b68d0a7a428fd30a1aefe7c59568f4d_2908.profile', './data/tree-rep-profiles_o2o_smallshort/short/25.browsefox_0.8/G253/aac1b938089f7e429e0be14dfe4ba03b8b68d0a7a428fd30a1aefe7c59568f4d_2908.profile']\n",
      "duplicate ERR: ['./data/tree-rep-profiles_o2o_smallshort/small/25.browsefox_0.8/G261/d8c6555f8a44ec570a4fcd9bca913dec0bb4b0e4be3fed18ad4118155a80c8c8_3388.profile', './data/tree-rep-profiles_o2o_smallshort/short/25.browsefox_0.8/G261/d8c6555f8a44ec570a4fcd9bca913dec0bb4b0e4be3fed18ad4118155a80c8c8_3388.profile']\n",
      "duplicate ERR: ['./data/tree-rep-profiles_o2o_smallshort/small/25.browsefox_0.8/G261/19fabb02f0b5c24e4d975bfe0f5a50eefbf4bb3ecc67e829c7de9148a557e4c0_3168.profile', './data/tree-rep-profiles_o2o_smallshort/short/25.browsefox_0.8/G261/19fabb02f0b5c24e4d975bfe0f5a50eefbf4bb3ecc67e829c7de9148a557e4c0_3168.profile']\n",
      "duplicate ERR: ['./data/tree-rep-profiles_o2o_smallshort/small/25.browsefox_0.8/G285/c2bbdf36d3a2b5751abe547ed4e5dbc6b078386000f66bbb401b60909a8fecbd_2892.profile', './data/tree-rep-profiles_o2o_smallshort/short/25.browsefox_0.8/G285/c2bbdf36d3a2b5751abe547ed4e5dbc6b078386000f66bbb401b60909a8fecbd_2892.profile']\n",
      "duplicate ERR: ['./data/tree-rep-profiles_o2o_smallshort/small/25.browsefox_0.8/G285/2a4da84497ab3a03e44c23051c0b1b8c4c3c56245919f50e463a793b63a93bec_3328.profile', './data/tree-rep-profiles_o2o_smallshort/short/25.browsefox_0.8/G285/2a4da84497ab3a03e44c23051c0b1b8c4c3c56245919f50e463a793b63a93bec_3328.profile']\n",
      "duplicate ERR: ['./data/tree-rep-profiles_o2o_smallshort/small/25.browsefox_0.8/G258/10aabb77d1f1275f6be9cd454ccb556fe823c69ab4dff2b7e720dd7979a90576_3204.profile', './data/tree-rep-profiles_o2o_smallshort/short/25.browsefox_0.8/G258/10aabb77d1f1275f6be9cd454ccb556fe823c69ab4dff2b7e720dd7979a90576_3204.profile']\n",
      "duplicate ERR: ['./data/tree-rep-profiles_o2o_smallshort/small/25.browsefox_0.8/G258/c88b1b4c54a62c532d0de50e03d4f1e90fcc372a018f394d8e23c1c7815c30e5_3356.profile', './data/tree-rep-profiles_o2o_smallshort/short/25.browsefox_0.8/G258/c88b1b4c54a62c532d0de50e03d4f1e90fcc372a018f394d8e23c1c7815c30e5_3356.profile']\n",
      "duplicate ERR: ['./data/tree-rep-profiles_o2o_smallshort/small/25.browsefox_0.8/G298/e56ba440205d18a9ba3de6d94ed8bae12b89746a537214ac06236fac371c8692_3272.profile', './data/tree-rep-profiles_o2o_smallshort/short/25.browsefox_0.8/G298/e56ba440205d18a9ba3de6d94ed8bae12b89746a537214ac06236fac371c8692_3272.profile']\n",
      "duplicate ERR: ['./data/tree-rep-profiles_o2o_smallshort/small/25.browsefox_0.8/G298/ca60450a0c0eefdfa4cedc8e5220cc60a66753400eb975f5c2e4b83f236140c5_3080.profile', './data/tree-rep-profiles_o2o_smallshort/short/25.browsefox_0.8/G298/ca60450a0c0eefdfa4cedc8e5220cc60a66753400eb975f5c2e4b83f236140c5_3080.profile']\n",
      "duplicate ERR: ['./data/tree-rep-profiles_o2o_smallshort/small/25.browsefox_0.8/G297/d3880c8e57ebe92731ca39047be72f6c024db2a9166dd9aa9f9602fc1f3aca7c_3280.profile', './data/tree-rep-profiles_o2o_smallshort/short/25.browsefox_0.8/G297/d3880c8e57ebe92731ca39047be72f6c024db2a9166dd9aa9f9602fc1f3aca7c_3280.profile']\n",
      "duplicate ERR: ['./data/tree-rep-profiles_o2o_smallshort/small/25.browsefox_0.8/G297/d3880c8e57ebe92731ca39047be72f6c024db2a9166dd9aa9f9602fc1f3aca7c_3296.profile', './data/tree-rep-profiles_o2o_smallshort/short/25.browsefox_0.8/G297/d3880c8e57ebe92731ca39047be72f6c024db2a9166dd9aa9f9602fc1f3aca7c_3296.profile']\n",
      "duplicate ERR: ['./data/tree-rep-profiles_o2o_smallshort/small/25.browsefox_0.8/G294/d25dd0bfe37cc20c532441ab85112d561dc0640862f25541eb0021a3fb7bad7f_3196.profile', './data/tree-rep-profiles_o2o_smallshort/short/25.browsefox_0.8/G294/d25dd0bfe37cc20c532441ab85112d561dc0640862f25541eb0021a3fb7bad7f_3196.profile']\n"
     ]
    },
    {
     "name": "stderr",
     "output_type": "stream",
     "text": [
      "\r",
      " 12%|█▏        | 19/159 [00:08<01:01,  2.29it/s]"
     ]
    },
    {
     "name": "stdout",
     "output_type": "stream",
     "text": [
      "duplicate ERR: ['./data/tree-rep-profiles_o2o_smallshort/small/25.browsefox_0.8/G294/d25dd0bfe37cc20c532441ab85112d561dc0640862f25541eb0021a3fb7bad7f_3296.profile', './data/tree-rep-profiles_o2o_smallshort/short/25.browsefox_0.8/G294/d25dd0bfe37cc20c532441ab85112d561dc0640862f25541eb0021a3fb7bad7f_3296.profile']\n",
      "duplicate ERR: ['./data/tree-rep-profiles_o2o_smallshort/small/25.browsefox_0.8/G282/d3817de6f910a4a5fc4d593428c24d9603a37f4be9adb4d11fae011dd346866e_3320.profile', './data/tree-rep-profiles_o2o_smallshort/short/25.browsefox_0.8/G282/d3817de6f910a4a5fc4d593428c24d9603a37f4be9adb4d11fae011dd346866e_3320.profile']\n",
      "duplicate ERR: ['./data/tree-rep-profiles_o2o_smallshort/small/25.browsefox_0.8/G282/d3817de6f910a4a5fc4d593428c24d9603a37f4be9adb4d11fae011dd346866e_3268.profile', './data/tree-rep-profiles_o2o_smallshort/short/25.browsefox_0.8/G282/d3817de6f910a4a5fc4d593428c24d9603a37f4be9adb4d11fae011dd346866e_3268.profile']\n",
      "duplicate ERR: ['./data/tree-rep-profiles_o2o_smallshort/small/25.browsefox_0.8/G260/7c5cf0827d69c9db358b16a028ee07002eed70efbd89be728593f6f8404fb198_3228.profile', './data/tree-rep-profiles_o2o_smallshort/short/25.browsefox_0.8/G260/7c5cf0827d69c9db358b16a028ee07002eed70efbd89be728593f6f8404fb198_3228.profile']\n",
      "duplicate ERR: ['./data/tree-rep-profiles_o2o_smallshort/small/25.browsefox_0.8/G260/5671b93342f55f40239460d06e0d3224c8760c7f725d54ed4ca7bef60de650de_3288.profile', './data/tree-rep-profiles_o2o_smallshort/short/25.browsefox_0.8/G260/5671b93342f55f40239460d06e0d3224c8760c7f725d54ed4ca7bef60de650de_3288.profile']\n",
      "duplicate ERR: ['./data/tree-rep-profiles_o2o_smallshort/small/25.browsefox_0.8/G293/7c5cf0827d69c9db358b16a028ee07002eed70efbd89be728593f6f8404fb198_3060.profile', './data/tree-rep-profiles_o2o_smallshort/short/25.browsefox_0.8/G293/7c5cf0827d69c9db358b16a028ee07002eed70efbd89be728593f6f8404fb198_3060.profile']\n",
      "duplicate ERR: ['./data/tree-rep-profiles_o2o_smallshort/small/25.browsefox_0.8/G293/ea0c0b380a6b5dbfdbd6d93828f5ba1eab0bd11e69a0328ec5824d1160be6719_3484.profile', './data/tree-rep-profiles_o2o_smallshort/short/25.browsefox_0.8/G293/ea0c0b380a6b5dbfdbd6d93828f5ba1eab0bd11e69a0328ec5824d1160be6719_3484.profile']\n",
      "duplicate ERR: ['./data/tree-rep-profiles_o2o_smallshort/small/25.browsefox_0.8/G270/796bc3bcabe3d13074c71c31e501c02fcfafca7dbca2a699bd83b1dc459fbbae_3376.profile', './data/tree-rep-profiles_o2o_smallshort/short/25.browsefox_0.8/G270/796bc3bcabe3d13074c71c31e501c02fcfafca7dbca2a699bd83b1dc459fbbae_3376.profile']\n",
      "duplicate ERR: ['./data/tree-rep-profiles_o2o_smallshort/small/25.browsefox_0.8/G270/716d5ab677ee91b2aca8144bb3652b0d9a01c11d9c4bab4034d18b1e9dbdce37_3308.profile', './data/tree-rep-profiles_o2o_smallshort/short/25.browsefox_0.8/G270/716d5ab677ee91b2aca8144bb3652b0d9a01c11d9c4bab4034d18b1e9dbdce37_3308.profile']\n"
     ]
    },
    {
     "name": "stderr",
     "output_type": "stream",
     "text": [
      "\r",
      " 13%|█▎        | 21/159 [00:08<00:45,  3.06it/s]"
     ]
    },
    {
     "name": "stdout",
     "output_type": "stream",
     "text": [
      "duplicate ERR: ['./data/tree-rep-profiles_o2o_smallshort/small/137.vbna_0.8/G21/df3073fa75fcdd344918fce7bada05260d59b9acf63a3564e9e2fcbda282c256_3440.profile', './data/tree-rep-profiles_o2o_smallshort/short/137.vbna_0.8/G21/df3073fa75fcdd344918fce7bada05260d59b9acf63a3564e9e2fcbda282c256_3440.profile']\n",
      "duplicate ERR: ['./data/tree-rep-profiles_o2o_smallshort/small/137.vbna_0.8/G21/eefe0807244b0257543843526f695d1564421ef13b05b92e7195792ac017014d_3300.profile', './data/tree-rep-profiles_o2o_smallshort/short/137.vbna_0.8/G21/eefe0807244b0257543843526f695d1564421ef13b05b92e7195792ac017014d_3300.profile']\n",
      "duplicate ERR: ['./data/tree-rep-profiles_o2o_smallshort/small/137.vbna_0.8/G20/df3073fa75fcdd344918fce7bada05260d59b9acf63a3564e9e2fcbda282c256_3328.profile', './data/tree-rep-profiles_o2o_smallshort/short/137.vbna_0.8/G20/df3073fa75fcdd344918fce7bada05260d59b9acf63a3564e9e2fcbda282c256_3328.profile']\n",
      "duplicate ERR: ['./data/tree-rep-profiles_o2o_smallshort/small/137.vbna_0.8/G20/0067b9a662d9864d8dc91ab4c7ef9b5482a0228061013b55493c10d408d9eea4_3244.profile', './data/tree-rep-profiles_o2o_smallshort/short/137.vbna_0.8/G20/0067b9a662d9864d8dc91ab4c7ef9b5482a0228061013b55493c10d408d9eea4_3244.profile']\n",
      "duplicate ERR: ['./data/tree-rep-profiles_o2o_smallshort/small/118.asoecem_0.8/G17/4c9eafd41edb496cf9878a9ef9f939ac486d6d4d9e411843f4892cb93a873c26_3252.profile', './data/tree-rep-profiles_o2o_smallshort/short/118.asoecem_0.8/G17/4c9eafd41edb496cf9878a9ef9f939ac486d6d4d9e411843f4892cb93a873c26_3252.profile']\n",
      "duplicate ERR: ['./data/tree-rep-profiles_o2o_smallshort/small/118.asoecem_0.8/G17/39bb4065d226f81e242d655537f6bc043900ee1cb622f5e0daa13cf2d87df42c_3296.profile', './data/tree-rep-profiles_o2o_smallshort/short/118.asoecem_0.8/G17/39bb4065d226f81e242d655537f6bc043900ee1cb622f5e0daa13cf2d87df42c_3296.profile']\n",
      "duplicate ERR: ['./data/tree-rep-profiles_o2o_smallshort/small/20.ramnit_0.8/G459/14a262b425513da781fa83fda8d606f46cde467f0913628266b975576ea69780_3244.profile', './data/tree-rep-profiles_o2o_smallshort/short/20.ramnit_0.8/G459/14a262b425513da781fa83fda8d606f46cde467f0913628266b975576ea69780_3244.profile']\n",
      "duplicate ERR: ['./data/tree-rep-profiles_o2o_smallshort/small/20.ramnit_0.8/G459/128f93ba5f4090ebe83240e4c6c4bbe134517d1d8043894345ff78d5fb32e909_2836.profile', './data/tree-rep-profiles_o2o_smallshort/short/20.ramnit_0.8/G459/128f93ba5f4090ebe83240e4c6c4bbe134517d1d8043894345ff78d5fb32e909_2836.profile']\n",
      "duplicate ERR: ['./data/tree-rep-profiles_o2o_smallshort/small/20.ramnit_0.8/G417/a46e6cea1094eec0e0c12417914413bef8c0fa3a048f281b0f3befb922170332_3368.profile', './data/tree-rep-profiles_o2o_smallshort/short/20.ramnit_0.8/G417/a46e6cea1094eec0e0c12417914413bef8c0fa3a048f281b0f3befb922170332_3368.profile']\n",
      "duplicate ERR: ['./data/tree-rep-profiles_o2o_smallshort/small/20.ramnit_0.8/G417/cf56e08499ada6ef5834c65208eb35f11b8dfa57780a37256886f2fbe8012542_3380.profile', './data/tree-rep-profiles_o2o_smallshort/short/20.ramnit_0.8/G417/cf56e08499ada6ef5834c65208eb35f11b8dfa57780a37256886f2fbe8012542_3380.profile']\n",
      "duplicate ERR: ['./data/tree-rep-profiles_o2o_smallshort/small/20.ramnit_0.8/G445/1fe610e7cc798fefe3f958eb98bc1b4d5e35bea4a48fac1a5b8c43de7f21ca0a_3316.profile', './data/tree-rep-profiles_o2o_smallshort/short/20.ramnit_0.8/G445/1fe610e7cc798fefe3f958eb98bc1b4d5e35bea4a48fac1a5b8c43de7f21ca0a_3316.profile']\n",
      "duplicate ERR: ['./data/tree-rep-profiles_o2o_smallshort/small/20.ramnit_0.8/G445/1fe610e7cc798fefe3f958eb98bc1b4d5e35bea4a48fac1a5b8c43de7f21ca0a_3388.profile', './data/tree-rep-profiles_o2o_smallshort/short/20.ramnit_0.8/G445/1fe610e7cc798fefe3f958eb98bc1b4d5e35bea4a48fac1a5b8c43de7f21ca0a_3388.profile']\n",
      "duplicate ERR: ['./data/tree-rep-profiles_o2o_smallshort/small/20.ramnit_0.8/G422/0421ee07fe67523a06ba35fbf83d55c7fa6103fc2101ebf844767599502bde59_2880.profile', './data/tree-rep-profiles_o2o_smallshort/short/20.ramnit_0.8/G422/0421ee07fe67523a06ba35fbf83d55c7fa6103fc2101ebf844767599502bde59_2880.profile']\n",
      "duplicate ERR: ['./data/tree-rep-profiles_o2o_smallshort/small/20.ramnit_0.8/G422/0421ee07fe67523a06ba35fbf83d55c7fa6103fc2101ebf844767599502bde59_3280.profile', './data/tree-rep-profiles_o2o_smallshort/short/20.ramnit_0.8/G422/0421ee07fe67523a06ba35fbf83d55c7fa6103fc2101ebf844767599502bde59_3280.profile']\n",
      "duplicate ERR: ['./data/tree-rep-profiles_o2o_smallshort/small/20.ramnit_0.8/G456/0d8c29dfddb47e5fdad2040cc86a5edd267b18f52a97bcbe1d40d10dad1a227b_3244.profile', './data/tree-rep-profiles_o2o_smallshort/short/20.ramnit_0.8/G456/0d8c29dfddb47e5fdad2040cc86a5edd267b18f52a97bcbe1d40d10dad1a227b_3244.profile']\n",
      "duplicate ERR: ['./data/tree-rep-profiles_o2o_smallshort/small/20.ramnit_0.8/G456/c7755b732e24a3fefcc93442995f4f76831779ced9749aa8e98788d2680be76c_3176.profile', './data/tree-rep-profiles_o2o_smallshort/short/20.ramnit_0.8/G456/c7755b732e24a3fefcc93442995f4f76831779ced9749aa8e98788d2680be76c_3176.profile']\n",
      "duplicate ERR: ['./data/tree-rep-profiles_o2o_smallshort/small/20.ramnit_0.8/G423/c26d28624e5ee744e6627b97a8254737ecac44f7e0eb78d5ed2be98c38344fc6_3476.profile', './data/tree-rep-profiles_o2o_smallshort/short/20.ramnit_0.8/G423/c26d28624e5ee744e6627b97a8254737ecac44f7e0eb78d5ed2be98c38344fc6_3476.profile']\n",
      "duplicate ERR: ['./data/tree-rep-profiles_o2o_smallshort/small/20.ramnit_0.8/G423/c26d28624e5ee744e6627b97a8254737ecac44f7e0eb78d5ed2be98c38344fc6_3048.profile', './data/tree-rep-profiles_o2o_smallshort/short/20.ramnit_0.8/G423/c26d28624e5ee744e6627b97a8254737ecac44f7e0eb78d5ed2be98c38344fc6_3048.profile']\n",
      "duplicate ERR: ['./data/tree-rep-profiles_o2o_smallshort/small/20.ramnit_0.8/G396/55e81bcebafb92b80e5b19a168ef79be88a39cfe41d3d36e1ef6798b8d9d0893_2940.profile', './data/tree-rep-profiles_o2o_smallshort/short/20.ramnit_0.8/G396/55e81bcebafb92b80e5b19a168ef79be88a39cfe41d3d36e1ef6798b8d9d0893_2940.profile']\n",
      "duplicate ERR: ['./data/tree-rep-profiles_o2o_smallshort/small/20.ramnit_0.8/G396/55e81bcebafb92b80e5b19a168ef79be88a39cfe41d3d36e1ef6798b8d9d0893_3268.profile', './data/tree-rep-profiles_o2o_smallshort/short/20.ramnit_0.8/G396/55e81bcebafb92b80e5b19a168ef79be88a39cfe41d3d36e1ef6798b8d9d0893_3268.profile']\n",
      "duplicate ERR: ['./data/tree-rep-profiles_o2o_smallshort/small/20.ramnit_0.8/G399/f099f1cd7c1e59a0f21ec5a2bbb3d97c7876df366f140204a0f078f7640f51f9_2916.profile', './data/tree-rep-profiles_o2o_smallshort/short/20.ramnit_0.8/G399/f099f1cd7c1e59a0f21ec5a2bbb3d97c7876df366f140204a0f078f7640f51f9_2916.profile']\n",
      "duplicate ERR: ['./data/tree-rep-profiles_o2o_smallshort/small/20.ramnit_0.8/G399/f099f1cd7c1e59a0f21ec5a2bbb3d97c7876df366f140204a0f078f7640f51f9_3364.profile', './data/tree-rep-profiles_o2o_smallshort/short/20.ramnit_0.8/G399/f099f1cd7c1e59a0f21ec5a2bbb3d97c7876df366f140204a0f078f7640f51f9_3364.profile']\n",
      "duplicate ERR: ['./data/tree-rep-profiles_o2o_smallshort/small/20.ramnit_0.8/G474/41d12460217adefe8318265cf20e757c7a43a773c269e6c4bf8e8258609bf47b_3548.profile', './data/tree-rep-profiles_o2o_smallshort/short/20.ramnit_0.8/G474/41d12460217adefe8318265cf20e757c7a43a773c269e6c4bf8e8258609bf47b_3548.profile']\n",
      "duplicate ERR: ['./data/tree-rep-profiles_o2o_smallshort/small/20.ramnit_0.8/G474/f39d60f0cffbfb6541c3e074e24e2f6589e89efb089a1797514901ebc7766cd1_3464.profile', './data/tree-rep-profiles_o2o_smallshort/short/20.ramnit_0.8/G474/f39d60f0cffbfb6541c3e074e24e2f6589e89efb089a1797514901ebc7766cd1_3464.profile']\n",
      "duplicate ERR: ['./data/tree-rep-profiles_o2o_smallshort/small/20.ramnit_0.8/G429/41d12460217adefe8318265cf20e757c7a43a773c269e6c4bf8e8258609bf47b_3428.profile', './data/tree-rep-profiles_o2o_smallshort/short/20.ramnit_0.8/G429/41d12460217adefe8318265cf20e757c7a43a773c269e6c4bf8e8258609bf47b_3428.profile']\n",
      "duplicate ERR: ['./data/tree-rep-profiles_o2o_smallshort/small/20.ramnit_0.8/G429/41d12460217adefe8318265cf20e757c7a43a773c269e6c4bf8e8258609bf47b_3248.profile', './data/tree-rep-profiles_o2o_smallshort/short/20.ramnit_0.8/G429/41d12460217adefe8318265cf20e757c7a43a773c269e6c4bf8e8258609bf47b_3248.profile']\n",
      "duplicate ERR: ['./data/tree-rep-profiles_o2o_smallshort/small/20.ramnit_0.8/G432/0a940caf00f9550bf4cb1f7c1d60d0f03ba2061657af7513f277d4eb18145e91_3184.profile', './data/tree-rep-profiles_o2o_smallshort/short/20.ramnit_0.8/G432/0a940caf00f9550bf4cb1f7c1d60d0f03ba2061657af7513f277d4eb18145e91_3184.profile']\n"
     ]
    },
    {
     "name": "stdout",
     "output_type": "stream",
     "text": [
      "duplicate ERR: ['./data/tree-rep-profiles_o2o_smallshort/small/20.ramnit_0.8/G432/1e6ece94123cd0f22f5985642fcdc67a69a1288a4aa0c4532d82df94813d243e_3256.profile', './data/tree-rep-profiles_o2o_smallshort/short/20.ramnit_0.8/G432/1e6ece94123cd0f22f5985642fcdc67a69a1288a4aa0c4532d82df94813d243e_3256.profile']\n",
      "duplicate ERR: ['./data/tree-rep-profiles_o2o_smallshort/small/20.ramnit_0.8/G468/033be654073d1da3aff83a58b019af939a6f10166f92ec99dac4654703fe1b36_2912.profile', './data/tree-rep-profiles_o2o_smallshort/short/20.ramnit_0.8/G468/033be654073d1da3aff83a58b019af939a6f10166f92ec99dac4654703fe1b36_2912.profile']\n",
      "duplicate ERR: ['./data/tree-rep-profiles_o2o_smallshort/small/20.ramnit_0.8/G468/06ea8239931431991b219f53c2e4dbf208a69da1fb1d3bdbe6f89f71a32baedd_3232.profile', './data/tree-rep-profiles_o2o_smallshort/short/20.ramnit_0.8/G468/06ea8239931431991b219f53c2e4dbf208a69da1fb1d3bdbe6f89f71a32baedd_3232.profile']\n",
      "duplicate ERR: ['./data/tree-rep-profiles_o2o_smallshort/small/20.ramnit_0.8/G393/c26d28624e5ee744e6627b97a8254737ecac44f7e0eb78d5ed2be98c38344fc6_3388.profile', './data/tree-rep-profiles_o2o_smallshort/short/20.ramnit_0.8/G393/c26d28624e5ee744e6627b97a8254737ecac44f7e0eb78d5ed2be98c38344fc6_3388.profile']\n",
      "duplicate ERR: ['./data/tree-rep-profiles_o2o_smallshort/small/20.ramnit_0.8/G393/c26d28624e5ee744e6627b97a8254737ecac44f7e0eb78d5ed2be98c38344fc6_2932.profile', './data/tree-rep-profiles_o2o_smallshort/short/20.ramnit_0.8/G393/c26d28624e5ee744e6627b97a8254737ecac44f7e0eb78d5ed2be98c38344fc6_2932.profile']\n",
      "duplicate ERR: ['./data/tree-rep-profiles_o2o_smallshort/small/20.ramnit_0.8/G461/a802d46c10b3b3cb085a9bf111679aeca9701cdcad4f50a38ca11d1dec5fd8fa_3276.profile', './data/tree-rep-profiles_o2o_smallshort/short/20.ramnit_0.8/G461/a802d46c10b3b3cb085a9bf111679aeca9701cdcad4f50a38ca11d1dec5fd8fa_3276.profile']\n",
      "duplicate ERR: ['./data/tree-rep-profiles_o2o_smallshort/small/20.ramnit_0.8/G461/8f012ce2cb44c7029ebdf390133e3b9272c407fb9623186fa159794fd2b68460_3296.profile', './data/tree-rep-profiles_o2o_smallshort/short/20.ramnit_0.8/G461/8f012ce2cb44c7029ebdf390133e3b9272c407fb9623186fa159794fd2b68460_3296.profile']\n",
      "duplicate ERR: ['./data/tree-rep-profiles_o2o_smallshort/small/20.ramnit_0.8/G427/2fef06b3613ef944547c4a1bfad3b2ca206d782cf4de4e1fe0b61914f7e56460_3676.profile', './data/tree-rep-profiles_o2o_smallshort/short/20.ramnit_0.8/G427/2fef06b3613ef944547c4a1bfad3b2ca206d782cf4de4e1fe0b61914f7e56460_3676.profile']\n",
      "duplicate ERR: ['./data/tree-rep-profiles_o2o_smallshort/small/20.ramnit_0.8/G427/0a1fdbb1a627b8a8b1bfc8e593a5bdb5a935f1e15926beb95b7d2d6f007a564b_3264.profile', './data/tree-rep-profiles_o2o_smallshort/short/20.ramnit_0.8/G427/0a1fdbb1a627b8a8b1bfc8e593a5bdb5a935f1e15926beb95b7d2d6f007a564b_3264.profile']\n",
      "duplicate ERR: ['./data/tree-rep-profiles_o2o_smallshort/small/20.ramnit_0.8/G479/68d7524045f6e94dbec44b857376f9385bc94945e6292a763edfc731c6140d6d_2920.profile', './data/tree-rep-profiles_o2o_smallshort/short/20.ramnit_0.8/G479/68d7524045f6e94dbec44b857376f9385bc94945e6292a763edfc731c6140d6d_2920.profile']\n",
      "duplicate ERR: ['./data/tree-rep-profiles_o2o_smallshort/small/20.ramnit_0.8/G479/0dd393b7fa3da6a26564570eb1fe1f6bc282d9198fd938c4180b22b7c2eb09ac_3440.profile', './data/tree-rep-profiles_o2o_smallshort/short/20.ramnit_0.8/G479/0dd393b7fa3da6a26564570eb1fe1f6bc282d9198fd938c4180b22b7c2eb09ac_3440.profile']\n",
      "duplicate ERR: ['./data/tree-rep-profiles_o2o_smallshort/small/20.ramnit_0.8/G447/0dd393b7fa3da6a26564570eb1fe1f6bc282d9198fd938c4180b22b7c2eb09ac_3584.profile', './data/tree-rep-profiles_o2o_smallshort/short/20.ramnit_0.8/G447/0dd393b7fa3da6a26564570eb1fe1f6bc282d9198fd938c4180b22b7c2eb09ac_3584.profile']\n",
      "duplicate ERR: ['./data/tree-rep-profiles_o2o_smallshort/small/20.ramnit_0.8/G447/6d1da85ee48afa9ea496626db2c000f632442518037a451215070c78a06f8f1a_3504.profile', './data/tree-rep-profiles_o2o_smallshort/short/20.ramnit_0.8/G447/6d1da85ee48afa9ea496626db2c000f632442518037a451215070c78a06f8f1a_3504.profile']\n",
      "duplicate ERR: ['./data/tree-rep-profiles_o2o_smallshort/small/20.ramnit_0.8/G471/14a262b425513da781fa83fda8d606f46cde467f0913628266b975576ea69780_3200.profile', './data/tree-rep-profiles_o2o_smallshort/short/20.ramnit_0.8/G471/14a262b425513da781fa83fda8d606f46cde467f0913628266b975576ea69780_3200.profile']\n",
      "duplicate ERR: ['./data/tree-rep-profiles_o2o_smallshort/small/20.ramnit_0.8/G471/128f93ba5f4090ebe83240e4c6c4bbe134517d1d8043894345ff78d5fb32e909_2800.profile', './data/tree-rep-profiles_o2o_smallshort/short/20.ramnit_0.8/G471/128f93ba5f4090ebe83240e4c6c4bbe134517d1d8043894345ff78d5fb32e909_2800.profile']\n",
      "duplicate ERR: ['./data/tree-rep-profiles_o2o_smallshort/small/20.ramnit_0.8/G409/6f85856d4c926c8a7c9a4f23c2c91e286fba25a0bab61b9d759e40a8ec03ff34_3232.profile', './data/tree-rep-profiles_o2o_smallshort/short/20.ramnit_0.8/G409/6f85856d4c926c8a7c9a4f23c2c91e286fba25a0bab61b9d759e40a8ec03ff34_3232.profile']\n",
      "duplicate ERR: ['./data/tree-rep-profiles_o2o_smallshort/small/20.ramnit_0.8/G409/b150732d132fe75f468002ff69c6c26265446dc450a96ccd3f05bf2c854f028e_3304.profile', './data/tree-rep-profiles_o2o_smallshort/short/20.ramnit_0.8/G409/b150732d132fe75f468002ff69c6c26265446dc450a96ccd3f05bf2c854f028e_3304.profile']\n",
      "duplicate ERR: ['./data/tree-rep-profiles_o2o_smallshort/small/20.ramnit_0.8/G472/06ea8239931431991b219f53c2e4dbf208a69da1fb1d3bdbe6f89f71a32baedd_3280.profile', './data/tree-rep-profiles_o2o_smallshort/short/20.ramnit_0.8/G472/06ea8239931431991b219f53c2e4dbf208a69da1fb1d3bdbe6f89f71a32baedd_3280.profile']\n",
      "duplicate ERR: ['./data/tree-rep-profiles_o2o_smallshort/small/20.ramnit_0.8/G472/15ce5025cd727cb785c19487937dc31c3d958e0251825aaa776376465cdab67e_3404.profile', './data/tree-rep-profiles_o2o_smallshort/short/20.ramnit_0.8/G472/15ce5025cd727cb785c19487937dc31c3d958e0251825aaa776376465cdab67e_3404.profile']\n",
      "duplicate ERR: ['./data/tree-rep-profiles_o2o_smallshort/small/20.ramnit_0.8/G392/c26d28624e5ee744e6627b97a8254737ecac44f7e0eb78d5ed2be98c38344fc6_3580.profile', './data/tree-rep-profiles_o2o_smallshort/short/20.ramnit_0.8/G392/c26d28624e5ee744e6627b97a8254737ecac44f7e0eb78d5ed2be98c38344fc6_3580.profile']\n",
      "duplicate ERR: ['./data/tree-rep-profiles_o2o_smallshort/small/20.ramnit_0.8/G392/c26d28624e5ee744e6627b97a8254737ecac44f7e0eb78d5ed2be98c38344fc6_3156.profile', './data/tree-rep-profiles_o2o_smallshort/short/20.ramnit_0.8/G392/c26d28624e5ee744e6627b97a8254737ecac44f7e0eb78d5ed2be98c38344fc6_3156.profile']\n",
      "duplicate ERR: ['./data/tree-rep-profiles_o2o_smallshort/small/20.ramnit_0.8/G430/70c2beadf8325e847be7ddb4af5da7aa3d555237d5ddc90d01d26446c402c569_3340.profile', './data/tree-rep-profiles_o2o_smallshort/short/20.ramnit_0.8/G430/70c2beadf8325e847be7ddb4af5da7aa3d555237d5ddc90d01d26446c402c569_3340.profile']\n",
      "duplicate ERR: ['./data/tree-rep-profiles_o2o_smallshort/small/20.ramnit_0.8/G430/ff3a7c7d4ff196cd77844a5c4798385a475d7f03a6e70fbaf4a3fbd887eb72df_3240.profile', './data/tree-rep-profiles_o2o_smallshort/short/20.ramnit_0.8/G430/ff3a7c7d4ff196cd77844a5c4798385a475d7f03a6e70fbaf4a3fbd887eb72df_3240.profile']\n",
      "duplicate ERR: ['./data/tree-rep-profiles_o2o_smallshort/small/20.ramnit_0.8/G426/927d2b38c76fd8d075a16509792f5885fcb52e90017afec7b094f8bd44cd0ecc_3248.profile', './data/tree-rep-profiles_o2o_smallshort/short/20.ramnit_0.8/G426/927d2b38c76fd8d075a16509792f5885fcb52e90017afec7b094f8bd44cd0ecc_3248.profile']\n",
      "duplicate ERR: ['./data/tree-rep-profiles_o2o_smallshort/small/20.ramnit_0.8/G426/927d2b38c76fd8d075a16509792f5885fcb52e90017afec7b094f8bd44cd0ecc_2944.profile', './data/tree-rep-profiles_o2o_smallshort/short/20.ramnit_0.8/G426/927d2b38c76fd8d075a16509792f5885fcb52e90017afec7b094f8bd44cd0ecc_2944.profile']\n",
      "duplicate ERR: ['./data/tree-rep-profiles_o2o_smallshort/small/20.ramnit_0.8/G437/1fe610e7cc798fefe3f958eb98bc1b4d5e35bea4a48fac1a5b8c43de7f21ca0a_3300.profile', './data/tree-rep-profiles_o2o_smallshort/short/20.ramnit_0.8/G437/1fe610e7cc798fefe3f958eb98bc1b4d5e35bea4a48fac1a5b8c43de7f21ca0a_3300.profile']\n",
      "duplicate ERR: ['./data/tree-rep-profiles_o2o_smallshort/small/20.ramnit_0.8/G437/1fe610e7cc798fefe3f958eb98bc1b4d5e35bea4a48fac1a5b8c43de7f21ca0a_3376.profile', './data/tree-rep-profiles_o2o_smallshort/short/20.ramnit_0.8/G437/1fe610e7cc798fefe3f958eb98bc1b4d5e35bea4a48fac1a5b8c43de7f21ca0a_3376.profile']\n",
      "duplicate ERR: ['./data/tree-rep-profiles_o2o_smallshort/small/20.ramnit_0.8/G465/c54ed1868f267b4cf2499739675a9c8a27b8f10fa469e4413112daa126488478_3500.profile', './data/tree-rep-profiles_o2o_smallshort/short/20.ramnit_0.8/G465/c54ed1868f267b4cf2499739675a9c8a27b8f10fa469e4413112daa126488478_3500.profile']\n",
      "duplicate ERR: ['./data/tree-rep-profiles_o2o_smallshort/small/20.ramnit_0.8/G465/0143cf7007a1a28efb1f6bd484cf6958ae460c30e25911f530eacdabf8aed16f_3400.profile', './data/tree-rep-profiles_o2o_smallshort/short/20.ramnit_0.8/G465/0143cf7007a1a28efb1f6bd484cf6958ae460c30e25911f530eacdabf8aed16f_3400.profile']\n",
      "duplicate ERR: ['./data/tree-rep-profiles_o2o_smallshort/small/20.ramnit_0.8/G428/0e40238e516dfa5db77d1044208136e51fef9f06d07e2f18ee9d16924f49c787_3332.profile', './data/tree-rep-profiles_o2o_smallshort/short/20.ramnit_0.8/G428/0e40238e516dfa5db77d1044208136e51fef9f06d07e2f18ee9d16924f49c787_3332.profile']\n",
      "duplicate ERR: ['./data/tree-rep-profiles_o2o_smallshort/small/20.ramnit_0.8/G428/0a26d8f4c39650635979db7568597e89ea8c6b266d700dad7d5d0b8810acaa2b_3196.profile', './data/tree-rep-profiles_o2o_smallshort/short/20.ramnit_0.8/G428/0a26d8f4c39650635979db7568597e89ea8c6b266d700dad7d5d0b8810acaa2b_3196.profile']\n",
      "duplicate ERR: ['./data/tree-rep-profiles_o2o_smallshort/small/20.ramnit_0.8/G416/6f85856d4c926c8a7c9a4f23c2c91e286fba25a0bab61b9d759e40a8ec03ff34_3184.profile', './data/tree-rep-profiles_o2o_smallshort/short/20.ramnit_0.8/G416/6f85856d4c926c8a7c9a4f23c2c91e286fba25a0bab61b9d759e40a8ec03ff34_3184.profile']\n",
      "duplicate ERR: ['./data/tree-rep-profiles_o2o_smallshort/small/20.ramnit_0.8/G416/b150732d132fe75f468002ff69c6c26265446dc450a96ccd3f05bf2c854f028e_3260.profile', './data/tree-rep-profiles_o2o_smallshort/short/20.ramnit_0.8/G416/b150732d132fe75f468002ff69c6c26265446dc450a96ccd3f05bf2c854f028e_3260.profile']\n",
      "duplicate ERR: ['./data/tree-rep-profiles_o2o_smallshort/small/20.ramnit_0.8/G442/1943d90655704ee7e3a1d426450387446f2ce4839ddd4f2a8416dafa1dd23b34_3292.profile', './data/tree-rep-profiles_o2o_smallshort/short/20.ramnit_0.8/G442/1943d90655704ee7e3a1d426450387446f2ce4839ddd4f2a8416dafa1dd23b34_3292.profile']\n"
     ]
    },
    {
     "name": "stderr",
     "output_type": "stream",
     "text": [
      "\r",
      " 14%|█▍        | 22/159 [00:10<01:28,  1.54it/s]"
     ]
    },
    {
     "name": "stdout",
     "output_type": "stream",
     "text": [
      "duplicate ERR: ['./data/tree-rep-profiles_o2o_smallshort/small/20.ramnit_0.8/G442/1fa0c2fa319f7f8a4ea75a7e2d3555fe319bd26cadeb2fc43c2f31b291d8a6a3_3304.profile', './data/tree-rep-profiles_o2o_smallshort/short/20.ramnit_0.8/G442/1fa0c2fa319f7f8a4ea75a7e2d3555fe319bd26cadeb2fc43c2f31b291d8a6a3_3304.profile']\n",
      "duplicate ERR: ['./data/tree-rep-profiles_o2o_smallshort/small/101.banker_0.8/G31/131b6db91b63d56208e2ca25877ff81f80d6ebb9666380323aaeb44af89d4aac_2872.profile', './data/tree-rep-profiles_o2o_smallshort/short/101.banker_0.8/G31/131b6db91b63d56208e2ca25877ff81f80d6ebb9666380323aaeb44af89d4aac_2872.profile']\n",
      "duplicate ERR: ['./data/tree-rep-profiles_o2o_smallshort/small/101.banker_0.8/G31/13e09cb9979d42ccab61246f0a9001dfafbee35311660907e351a7522557d80d_2812.profile', './data/tree-rep-profiles_o2o_smallshort/short/101.banker_0.8/G31/13e09cb9979d42ccab61246f0a9001dfafbee35311660907e351a7522557d80d_2812.profile']\n",
      "duplicate ERR: ['./data/tree-rep-profiles_o2o_smallshort/small/19.installcore_0.8/G284/aa9742760b53d3f2b7527ef2725a6639bb456582efce74c8529000a9f7d50700_3336.profile', './data/tree-rep-profiles_o2o_smallshort/short/19.installcore_0.8/G284/aa9742760b53d3f2b7527ef2725a6639bb456582efce74c8529000a9f7d50700_3336.profile']\n",
      "duplicate ERR: ['./data/tree-rep-profiles_o2o_smallshort/small/19.installcore_0.8/G284/074bd0f014e5299e6fc217af7912a76b10fe27131cb8fedd34a2ec0721fea321_3260.profile', './data/tree-rep-profiles_o2o_smallshort/short/19.installcore_0.8/G284/074bd0f014e5299e6fc217af7912a76b10fe27131cb8fedd34a2ec0721fea321_3260.profile']\n",
      "duplicate ERR: ['./data/tree-rep-profiles_o2o_smallshort/small/19.installcore_0.8/G311/c3ce6341195ad30ada1666eebd258a4942e87f91b7747f0e51c92818f7a776fd_3252.profile', './data/tree-rep-profiles_o2o_smallshort/short/19.installcore_0.8/G311/c3ce6341195ad30ada1666eebd258a4942e87f91b7747f0e51c92818f7a776fd_3252.profile']\n",
      "duplicate ERR: ['./data/tree-rep-profiles_o2o_smallshort/small/19.installcore_0.8/G311/c3ce6341195ad30ada1666eebd258a4942e87f91b7747f0e51c92818f7a776fd_3404.profile', './data/tree-rep-profiles_o2o_smallshort/short/19.installcore_0.8/G311/c3ce6341195ad30ada1666eebd258a4942e87f91b7747f0e51c92818f7a776fd_3404.profile']\n",
      "duplicate ERR: ['./data/tree-rep-profiles_o2o_smallshort/small/19.installcore_0.8/G310/0f45023a25d6a323f631f81839590b9cdf7e222938e8bf8346fd72cb105269bb_3460.profile', './data/tree-rep-profiles_o2o_smallshort/short/19.installcore_0.8/G310/0f45023a25d6a323f631f81839590b9cdf7e222938e8bf8346fd72cb105269bb_3460.profile']\n",
      "duplicate ERR: ['./data/tree-rep-profiles_o2o_smallshort/small/19.installcore_0.8/G310/0cbf99d26f28d788887d2f78cb6207d8356fff8387004e9ee0628faf5f6e4b60_3224.profile', './data/tree-rep-profiles_o2o_smallshort/short/19.installcore_0.8/G310/0cbf99d26f28d788887d2f78cb6207d8356fff8387004e9ee0628faf5f6e4b60_3224.profile']\n",
      "duplicate ERR: ['./data/tree-rep-profiles_o2o_smallshort/small/19.installcore_0.8/G329/4ecd0330716b48c60260d666b3074206bb89c6f9b6f50239b371e00c5781fbdf_3312.profile', './data/tree-rep-profiles_o2o_smallshort/short/19.installcore_0.8/G329/4ecd0330716b48c60260d666b3074206bb89c6f9b6f50239b371e00c5781fbdf_3312.profile']\n",
      "duplicate ERR: ['./data/tree-rep-profiles_o2o_smallshort/small/19.installcore_0.8/G329/67cfdb95a7d59526e888f2eac0ee700676b5f2827b9c1151ab260f3229efc4b3_3296.profile', './data/tree-rep-profiles_o2o_smallshort/short/19.installcore_0.8/G329/67cfdb95a7d59526e888f2eac0ee700676b5f2827b9c1151ab260f3229efc4b3_3296.profile']\n",
      "duplicate ERR: ['./data/tree-rep-profiles_o2o_smallshort/small/19.installcore_0.8/G319/3561774d7fffe4034c63972758cea3af2cc62e47e8c73dbcd7af6e0631725175_3236.profile', './data/tree-rep-profiles_o2o_smallshort/short/19.installcore_0.8/G319/3561774d7fffe4034c63972758cea3af2cc62e47e8c73dbcd7af6e0631725175_3236.profile']\n",
      "duplicate ERR: ['./data/tree-rep-profiles_o2o_smallshort/small/19.installcore_0.8/G319/00af558552fffaea323d10e97d66f899815f0bff6d001869d914aa9482383e06_3460.profile', './data/tree-rep-profiles_o2o_smallshort/short/19.installcore_0.8/G319/00af558552fffaea323d10e97d66f899815f0bff6d001869d914aa9482383e06_3460.profile']\n",
      "duplicate ERR: ['./data/tree-rep-profiles_o2o_smallshort/small/19.installcore_0.8/G292/e18a9f5d4e1ab005efd274a13ebca82041a20ecd3aba7a772b9a51021003958e_3272.profile', './data/tree-rep-profiles_o2o_smallshort/short/19.installcore_0.8/G292/e18a9f5d4e1ab005efd274a13ebca82041a20ecd3aba7a772b9a51021003958e_3272.profile']\n",
      "duplicate ERR: ['./data/tree-rep-profiles_o2o_smallshort/small/19.installcore_0.8/G292/e18a9f5d4e1ab005efd274a13ebca82041a20ecd3aba7a772b9a51021003958e_2968.profile', './data/tree-rep-profiles_o2o_smallshort/short/19.installcore_0.8/G292/e18a9f5d4e1ab005efd274a13ebca82041a20ecd3aba7a772b9a51021003958e_2968.profile']\n",
      "duplicate ERR: ['./data/tree-rep-profiles_o2o_smallshort/small/19.installcore_0.8/G312/8f7b584fb57f9763ba6aa241140da3d98ab32f7c6977044ae8b8c1f5adfb1527_432.profile', './data/tree-rep-profiles_o2o_smallshort/short/19.installcore_0.8/G312/8f7b584fb57f9763ba6aa241140da3d98ab32f7c6977044ae8b8c1f5adfb1527_432.profile']\n",
      "duplicate ERR: ['./data/tree-rep-profiles_o2o_smallshort/small/19.installcore_0.8/G312/d6bd2bf654284e8b4b1256318681372e4fae4d6eb61c433570ff78839d963502_428.profile', './data/tree-rep-profiles_o2o_smallshort/short/19.installcore_0.8/G312/d6bd2bf654284e8b4b1256318681372e4fae4d6eb61c433570ff78839d963502_428.profile']\n",
      "duplicate ERR: ['./data/tree-rep-profiles_o2o_smallshort/small/19.installcore_0.8/G324/16d6cc2f3b2a9cef3f782ddc851adaf9080e7ac7252ec0bed6f571f53f4cd62d_3112.profile', './data/tree-rep-profiles_o2o_smallshort/short/19.installcore_0.8/G324/16d6cc2f3b2a9cef3f782ddc851adaf9080e7ac7252ec0bed6f571f53f4cd62d_3112.profile']\n",
      "duplicate ERR: ['./data/tree-rep-profiles_o2o_smallshort/small/19.installcore_0.8/G324/1db215d8ec748cc63fc45b3d1a056b01f19073541f8fbdb03dc7209f754fe4f4_3172.profile', './data/tree-rep-profiles_o2o_smallshort/short/19.installcore_0.8/G324/1db215d8ec748cc63fc45b3d1a056b01f19073541f8fbdb03dc7209f754fe4f4_3172.profile']\n",
      "duplicate ERR: ['./data/tree-rep-profiles_o2o_smallshort/small/19.installcore_0.8/G320/ca73a066b7bbef2cea2ec6f4dace9409464a2e066c4fa715ed12a9be879c8487_3048.profile', './data/tree-rep-profiles_o2o_smallshort/short/19.installcore_0.8/G320/ca73a066b7bbef2cea2ec6f4dace9409464a2e066c4fa715ed12a9be879c8487_3048.profile']\n",
      "duplicate ERR: ['./data/tree-rep-profiles_o2o_smallshort/small/19.installcore_0.8/G320/ca73a066b7bbef2cea2ec6f4dace9409464a2e066c4fa715ed12a9be879c8487_2908.profile', './data/tree-rep-profiles_o2o_smallshort/short/19.installcore_0.8/G320/ca73a066b7bbef2cea2ec6f4dace9409464a2e066c4fa715ed12a9be879c8487_2908.profile']\n",
      "duplicate ERR: ['./data/tree-rep-profiles_o2o_smallshort/small/19.installcore_0.8/G309/7512ae4122fc1b81321669fdcb56e848e094179f86b7cce23ef302c904cf651e_3216.profile', './data/tree-rep-profiles_o2o_smallshort/short/19.installcore_0.8/G309/7512ae4122fc1b81321669fdcb56e848e094179f86b7cce23ef302c904cf651e_3216.profile']\n",
      "duplicate ERR: ['./data/tree-rep-profiles_o2o_smallshort/small/19.installcore_0.8/G309/7512ae4122fc1b81321669fdcb56e848e094179f86b7cce23ef302c904cf651e_3364.profile', './data/tree-rep-profiles_o2o_smallshort/short/19.installcore_0.8/G309/7512ae4122fc1b81321669fdcb56e848e094179f86b7cce23ef302c904cf651e_3364.profile']\n",
      "duplicate ERR: ['./data/tree-rep-profiles_o2o_smallshort/small/19.installcore_0.8/G294/13afb115c1d3f9c37a09bb353a015790cd1f223ee9cb247662349b072c26d7bf_3296.profile', './data/tree-rep-profiles_o2o_smallshort/short/19.installcore_0.8/G294/13afb115c1d3f9c37a09bb353a015790cd1f223ee9cb247662349b072c26d7bf_3296.profile']\n",
      "duplicate ERR: ['./data/tree-rep-profiles_o2o_smallshort/small/19.installcore_0.8/G294/dc6a85c71624d911a5e7bf8f6ec8557b0474d4e1f3394a9e22f2f7ea29dff2f2_2872.profile', './data/tree-rep-profiles_o2o_smallshort/short/19.installcore_0.8/G294/dc6a85c71624d911a5e7bf8f6ec8557b0474d4e1f3394a9e22f2f7ea29dff2f2_2872.profile']\n",
      "duplicate ERR: ['./data/tree-rep-profiles_o2o_smallshort/small/19.installcore_0.8/G326/6896d0d4b86b9d413e16a87b2a5e8bd43db45e04109609beadfac452e06696f5_3020.profile', './data/tree-rep-profiles_o2o_smallshort/short/19.installcore_0.8/G326/6896d0d4b86b9d413e16a87b2a5e8bd43db45e04109609beadfac452e06696f5_3020.profile']\n",
      "duplicate ERR: ['./data/tree-rep-profiles_o2o_smallshort/small/19.installcore_0.8/G326/0dd8f19f327b990f8df1ae4f157073b113998acde86318af96f191562af1a690_3240.profile', './data/tree-rep-profiles_o2o_smallshort/short/19.installcore_0.8/G326/0dd8f19f327b990f8df1ae4f157073b113998acde86318af96f191562af1a690_3240.profile']\n",
      "duplicate ERR: ['./data/tree-rep-profiles_o2o_smallshort/small/19.installcore_0.8/G291/0a59916b578d82bd15c5d8f2945ecf78597def13ab311d0b7c0fec7ab76b8331_2960.profile', './data/tree-rep-profiles_o2o_smallshort/short/19.installcore_0.8/G291/0a59916b578d82bd15c5d8f2945ecf78597def13ab311d0b7c0fec7ab76b8331_2960.profile']\n",
      "duplicate ERR: ['./data/tree-rep-profiles_o2o_smallshort/small/19.installcore_0.8/G291/0f95f23440e6033a679228ecc038ecd1dd916b8c6e58343ad7dffffb7591dc96_2968.profile', './data/tree-rep-profiles_o2o_smallshort/short/19.installcore_0.8/G291/0f95f23440e6033a679228ecc038ecd1dd916b8c6e58343ad7dffffb7591dc96_2968.profile']\n",
      "duplicate ERR: ['./data/tree-rep-profiles_o2o_smallshort/small/19.installcore_0.8/G293/c3ce6341195ad30ada1666eebd258a4942e87f91b7747f0e51c92818f7a776fd_3388.profile', './data/tree-rep-profiles_o2o_smallshort/short/19.installcore_0.8/G293/c3ce6341195ad30ada1666eebd258a4942e87f91b7747f0e51c92818f7a776fd_3388.profile']\n",
      "duplicate ERR: ['./data/tree-rep-profiles_o2o_smallshort/small/19.installcore_0.8/G293/c3ce6341195ad30ada1666eebd258a4942e87f91b7747f0e51c92818f7a776fd_3196.profile', './data/tree-rep-profiles_o2o_smallshort/short/19.installcore_0.8/G293/c3ce6341195ad30ada1666eebd258a4942e87f91b7747f0e51c92818f7a776fd_3196.profile']\n",
      "duplicate ERR: ['./data/tree-rep-profiles_o2o_smallshort/small/19.installcore_0.8/G327/59c9ce9e952c1e4f9a5b203b38c75ee409ed73c354eb846cc0dfac180ed31832_3004.profile', './data/tree-rep-profiles_o2o_smallshort/short/19.installcore_0.8/G327/59c9ce9e952c1e4f9a5b203b38c75ee409ed73c354eb846cc0dfac180ed31832_3004.profile']\n"
     ]
    },
    {
     "name": "stderr",
     "output_type": "stream",
     "text": [
      "\r",
      " 15%|█▌        | 24/159 [00:11<01:21,  1.65it/s]"
     ]
    },
    {
     "name": "stdout",
     "output_type": "stream",
     "text": [
      "duplicate ERR: ['./data/tree-rep-profiles_o2o_smallshort/small/19.installcore_0.8/G327/c1c8cf53bc5d89898ded8bec779500caff97f7c77023e88acc799b3d39257322_3320.profile', './data/tree-rep-profiles_o2o_smallshort/short/19.installcore_0.8/G327/c1c8cf53bc5d89898ded8bec779500caff97f7c77023e88acc799b3d39257322_3320.profile']\n",
      "duplicate ERR: ['./data/tree-rep-profiles_o2o_smallshort/small/19.installcore_0.8/G323/08abd62ce89a4b28dcbfb0d8bb7ff6804beb9ce87ea7e35614f990a8da46113b_3272.profile', './data/tree-rep-profiles_o2o_smallshort/short/19.installcore_0.8/G323/08abd62ce89a4b28dcbfb0d8bb7ff6804beb9ce87ea7e35614f990a8da46113b_3272.profile']\n",
      "duplicate ERR: ['./data/tree-rep-profiles_o2o_smallshort/small/19.installcore_0.8/G323/08db7885316b736b447fd96418054265d111659f671c321ec2d8f7fcb1c0e2b5_3156.profile', './data/tree-rep-profiles_o2o_smallshort/short/19.installcore_0.8/G323/08db7885316b736b447fd96418054265d111659f671c321ec2d8f7fcb1c0e2b5_3156.profile']\n",
      "duplicate ERR: ['./data/tree-rep-profiles_o2o_smallshort/small/19.installcore_0.8/G322/0b93266737ed3f9930bd4588358b57a5bbdbcac7818f7515aff1c67732500485_3272.profile', './data/tree-rep-profiles_o2o_smallshort/short/19.installcore_0.8/G322/0b93266737ed3f9930bd4588358b57a5bbdbcac7818f7515aff1c67732500485_3272.profile']\n",
      "duplicate ERR: ['./data/tree-rep-profiles_o2o_smallshort/small/19.installcore_0.8/G322/0b29b231e37ad2541f4934b846ed6bcad5665d989f85fc5764961db795c85139_3368.profile', './data/tree-rep-profiles_o2o_smallshort/short/19.installcore_0.8/G322/0b29b231e37ad2541f4934b846ed6bcad5665d989f85fc5764961db795c85139_3368.profile']\n",
      "duplicate ERR: ['./data/tree-rep-profiles_o2o_smallshort/small/19.installcore_0.8/G313/d6bd2bf654284e8b4b1256318681372e4fae4d6eb61c433570ff78839d963502_3060.profile', './data/tree-rep-profiles_o2o_smallshort/short/19.installcore_0.8/G313/d6bd2bf654284e8b4b1256318681372e4fae4d6eb61c433570ff78839d963502_3060.profile']\n",
      "duplicate ERR: ['./data/tree-rep-profiles_o2o_smallshort/small/19.installcore_0.8/G313/d6bd2bf654284e8b4b1256318681372e4fae4d6eb61c433570ff78839d963502_3048.profile', './data/tree-rep-profiles_o2o_smallshort/short/19.installcore_0.8/G313/d6bd2bf654284e8b4b1256318681372e4fae4d6eb61c433570ff78839d963502_3048.profile']\n",
      "duplicate ERR: ['./data/tree-rep-profiles_o2o_smallshort/small/19.installcore_0.8/G286/a9d4a10b662fc8f3394e2561e1d3cf68a303188662dfa7a3e7417e4fb7f75912_3024.profile', './data/tree-rep-profiles_o2o_smallshort/short/19.installcore_0.8/G286/a9d4a10b662fc8f3394e2561e1d3cf68a303188662dfa7a3e7417e4fb7f75912_3024.profile']\n",
      "duplicate ERR: ['./data/tree-rep-profiles_o2o_smallshort/small/19.installcore_0.8/G286/91b5cc72d04300d881893aee0b714856ad96c4fdc8aa0ce1d82c2f20f8ba151d_3232.profile', './data/tree-rep-profiles_o2o_smallshort/short/19.installcore_0.8/G286/91b5cc72d04300d881893aee0b714856ad96c4fdc8aa0ce1d82c2f20f8ba151d_3232.profile']\n",
      "duplicate ERR: ['./data/tree-rep-profiles_o2o_smallshort/small/17.sality_0.8/G311/1dc573187f100c910ef3e8b28db99e54a74713b307671a49845fae2b9e0ce4b2_2836.profile', './data/tree-rep-profiles_o2o_smallshort/short/17.sality_0.8/G311/1dc573187f100c910ef3e8b28db99e54a74713b307671a49845fae2b9e0ce4b2_2836.profile']\n",
      "duplicate ERR: ['./data/tree-rep-profiles_o2o_smallshort/small/17.sality_0.8/G311/07c94a01bfcdf9d4dcce2afb5c7a84d3bbe9e2b244258e3bd61ec2722030ee4e_3300.profile', './data/tree-rep-profiles_o2o_smallshort/short/17.sality_0.8/G311/07c94a01bfcdf9d4dcce2afb5c7a84d3bbe9e2b244258e3bd61ec2722030ee4e_3300.profile']\n",
      "duplicate ERR: ['./data/tree-rep-profiles_o2o_smallshort/small/17.sality_0.8/G310/d55098c676921662279c543191e735cdfda67e03b07c84c480916111e43a06e4_3288.profile', './data/tree-rep-profiles_o2o_smallshort/short/17.sality_0.8/G310/d55098c676921662279c543191e735cdfda67e03b07c84c480916111e43a06e4_3288.profile']\n",
      "duplicate ERR: ['./data/tree-rep-profiles_o2o_smallshort/small/17.sality_0.8/G310/2e1ad79e83daed0f9f397573b3c3d345fc095e64ceb038fcf016832620a4bd39_3268.profile', './data/tree-rep-profiles_o2o_smallshort/short/17.sality_0.8/G310/2e1ad79e83daed0f9f397573b3c3d345fc095e64ceb038fcf016832620a4bd39_3268.profile']\n",
      "duplicate ERR: ['./data/tree-rep-profiles_o2o_smallshort/small/17.sality_0.8/G318/4f97f2a6920b229a47f5c3d4d613cdef0d10e9c6f5840f48f27dc43a5bd33a34_2884.profile', './data/tree-rep-profiles_o2o_smallshort/short/17.sality_0.8/G318/4f97f2a6920b229a47f5c3d4d613cdef0d10e9c6f5840f48f27dc43a5bd33a34_2884.profile']\n",
      "duplicate ERR: ['./data/tree-rep-profiles_o2o_smallshort/small/17.sality_0.8/G318/b7033b1c04704f751c94e5343a00af9501b4c4b285ca1301235445e51a8072ff_3316.profile', './data/tree-rep-profiles_o2o_smallshort/short/17.sality_0.8/G318/b7033b1c04704f751c94e5343a00af9501b4c4b285ca1301235445e51a8072ff_3316.profile']\n",
      "duplicate ERR: ['./data/tree-rep-profiles_o2o_smallshort/small/17.sality_0.8/G341/596202db39a7a4da374951d3ac23ff56dc01057acf8a7d32691502861203dd59_3288.profile', './data/tree-rep-profiles_o2o_smallshort/short/17.sality_0.8/G341/596202db39a7a4da374951d3ac23ff56dc01057acf8a7d32691502861203dd59_3288.profile']\n",
      "duplicate ERR: ['./data/tree-rep-profiles_o2o_smallshort/small/17.sality_0.8/G341/596202db39a7a4da374951d3ac23ff56dc01057acf8a7d32691502861203dd59_3460.profile', './data/tree-rep-profiles_o2o_smallshort/short/17.sality_0.8/G341/596202db39a7a4da374951d3ac23ff56dc01057acf8a7d32691502861203dd59_3460.profile']\n",
      "duplicate ERR: ['./data/tree-rep-profiles_o2o_smallshort/small/17.sality_0.8/G319/65e4ad4d233392d25d91c69f3b6cd4536b31ebea3707ceb0bb3ac6f475979aa0_3432.profile', './data/tree-rep-profiles_o2o_smallshort/short/17.sality_0.8/G319/65e4ad4d233392d25d91c69f3b6cd4536b31ebea3707ceb0bb3ac6f475979aa0_3432.profile']\n",
      "duplicate ERR: ['./data/tree-rep-profiles_o2o_smallshort/small/17.sality_0.8/G319/65e4ad4d233392d25d91c69f3b6cd4536b31ebea3707ceb0bb3ac6f475979aa0_3272.profile', './data/tree-rep-profiles_o2o_smallshort/short/17.sality_0.8/G319/65e4ad4d233392d25d91c69f3b6cd4536b31ebea3707ceb0bb3ac6f475979aa0_3272.profile']\n",
      "duplicate ERR: ['./data/tree-rep-profiles_o2o_smallshort/small/17.sality_0.8/G331/7a0a61d305474ce659b933d19623ade8b932cfb3bfb75da765e9b5c6adea5800_2932.profile', './data/tree-rep-profiles_o2o_smallshort/short/17.sality_0.8/G331/7a0a61d305474ce659b933d19623ade8b932cfb3bfb75da765e9b5c6adea5800_2932.profile']\n",
      "duplicate ERR: ['./data/tree-rep-profiles_o2o_smallshort/small/17.sality_0.8/G331/7a0a61d305474ce659b933d19623ade8b932cfb3bfb75da765e9b5c6adea5800_3284.profile', './data/tree-rep-profiles_o2o_smallshort/short/17.sality_0.8/G331/7a0a61d305474ce659b933d19623ade8b932cfb3bfb75da765e9b5c6adea5800_3284.profile']\n",
      "duplicate ERR: ['./data/tree-rep-profiles_o2o_smallshort/small/17.sality_0.8/G317/a64a9dd26f606eaf07e515dd215c668afaa4e3c05093705ff06296edbabda8c2_3316.profile', './data/tree-rep-profiles_o2o_smallshort/short/17.sality_0.8/G317/a64a9dd26f606eaf07e515dd215c668afaa4e3c05093705ff06296edbabda8c2_3316.profile']\n",
      "duplicate ERR: ['./data/tree-rep-profiles_o2o_smallshort/small/17.sality_0.8/G317/a64a9dd26f606eaf07e515dd215c668afaa4e3c05093705ff06296edbabda8c2_3260.profile', './data/tree-rep-profiles_o2o_smallshort/short/17.sality_0.8/G317/a64a9dd26f606eaf07e515dd215c668afaa4e3c05093705ff06296edbabda8c2_3260.profile']\n",
      "duplicate ERR: ['./data/tree-rep-profiles_o2o_smallshort/small/17.sality_0.8/G304/f73f10dd6f834d3c6049235635757fe8b1c1db21d561ac6460454e014b5fd8cb_2956.profile', './data/tree-rep-profiles_o2o_smallshort/short/17.sality_0.8/G304/f73f10dd6f834d3c6049235635757fe8b1c1db21d561ac6460454e014b5fd8cb_2956.profile']\n",
      "duplicate ERR: ['./data/tree-rep-profiles_o2o_smallshort/small/17.sality_0.8/G304/f73f10dd6f834d3c6049235635757fe8b1c1db21d561ac6460454e014b5fd8cb_2908.profile', './data/tree-rep-profiles_o2o_smallshort/short/17.sality_0.8/G304/f73f10dd6f834d3c6049235635757fe8b1c1db21d561ac6460454e014b5fd8cb_2908.profile']\n",
      "duplicate ERR: ['./data/tree-rep-profiles_o2o_smallshort/small/17.sality_0.8/G348/ed042283777b574a21c89aafb2141025e9262a3294d006af4fca47b9b99fca33_2932.profile', './data/tree-rep-profiles_o2o_smallshort/short/17.sality_0.8/G348/ed042283777b574a21c89aafb2141025e9262a3294d006af4fca47b9b99fca33_2932.profile']\n",
      "duplicate ERR: ['./data/tree-rep-profiles_o2o_smallshort/small/17.sality_0.8/G348/ed042283777b574a21c89aafb2141025e9262a3294d006af4fca47b9b99fca33_3308.profile', './data/tree-rep-profiles_o2o_smallshort/short/17.sality_0.8/G348/ed042283777b574a21c89aafb2141025e9262a3294d006af4fca47b9b99fca33_3308.profile']\n"
     ]
    },
    {
     "name": "stdout",
     "output_type": "stream",
     "text": [
      "duplicate ERR: ['./data/tree-rep-profiles_o2o_smallshort/small/17.sality_0.8/G333/64029aae511cbfe5334ee3b8780713f3fae12784f3ac3f7a8605245ff5ebc8a7_3280.profile', './data/tree-rep-profiles_o2o_smallshort/short/17.sality_0.8/G333/64029aae511cbfe5334ee3b8780713f3fae12784f3ac3f7a8605245ff5ebc8a7_3280.profile']\n",
      "duplicate ERR: ['./data/tree-rep-profiles_o2o_smallshort/small/17.sality_0.8/G333/64029aae511cbfe5334ee3b8780713f3fae12784f3ac3f7a8605245ff5ebc8a7_3416.profile', './data/tree-rep-profiles_o2o_smallshort/short/17.sality_0.8/G333/64029aae511cbfe5334ee3b8780713f3fae12784f3ac3f7a8605245ff5ebc8a7_3416.profile']\n",
      "duplicate ERR: ['./data/tree-rep-profiles_o2o_smallshort/small/17.sality_0.8/G314/a581af9f71c88fb3fffbc938846b30eb11c5c7f813e4e7dbb31d671615bd09c5_2920.profile', './data/tree-rep-profiles_o2o_smallshort/short/17.sality_0.8/G314/a581af9f71c88fb3fffbc938846b30eb11c5c7f813e4e7dbb31d671615bd09c5_2920.profile']\n",
      "duplicate ERR: ['./data/tree-rep-profiles_o2o_smallshort/small/17.sality_0.8/G314/5f6d44621c5a45196d33c427529655844ec260ec8283480aaf471602e3430ea5_3248.profile', './data/tree-rep-profiles_o2o_smallshort/short/17.sality_0.8/G314/5f6d44621c5a45196d33c427529655844ec260ec8283480aaf471602e3430ea5_3248.profile']\n",
      "duplicate ERR: ['./data/tree-rep-profiles_o2o_smallshort/small/17.sality_0.8/G344/9476671ac576175576e0b1e7eac6d0a1ebc2f3eded87355999e3f1726d5ebfa6_2976.profile', './data/tree-rep-profiles_o2o_smallshort/short/17.sality_0.8/G344/9476671ac576175576e0b1e7eac6d0a1ebc2f3eded87355999e3f1726d5ebfa6_2976.profile']\n",
      "duplicate ERR: ['./data/tree-rep-profiles_o2o_smallshort/small/17.sality_0.8/G344/9476671ac576175576e0b1e7eac6d0a1ebc2f3eded87355999e3f1726d5ebfa6_3148.profile', './data/tree-rep-profiles_o2o_smallshort/short/17.sality_0.8/G344/9476671ac576175576e0b1e7eac6d0a1ebc2f3eded87355999e3f1726d5ebfa6_3148.profile']\n",
      "duplicate ERR: ['./data/tree-rep-profiles_o2o_smallshort/small/17.sality_0.8/G328/0bfe734c16c292b745562d5bf70258faf6a8c0818066bd49a3b87047d07ab9dd_3280.profile', './data/tree-rep-profiles_o2o_smallshort/short/17.sality_0.8/G328/0bfe734c16c292b745562d5bf70258faf6a8c0818066bd49a3b87047d07ab9dd_3280.profile']\n",
      "duplicate ERR: ['./data/tree-rep-profiles_o2o_smallshort/small/17.sality_0.8/G328/0bfe734c16c292b745562d5bf70258faf6a8c0818066bd49a3b87047d07ab9dd_3028.profile', './data/tree-rep-profiles_o2o_smallshort/short/17.sality_0.8/G328/0bfe734c16c292b745562d5bf70258faf6a8c0818066bd49a3b87047d07ab9dd_3028.profile']\n",
      "duplicate ERR: ['./data/tree-rep-profiles_o2o_smallshort/small/17.sality_0.8/G343/4d81e2e5b55bad372d0762a1b0b66ada368670e42b1a40d3020211f890e88956_2908.profile', './data/tree-rep-profiles_o2o_smallshort/short/17.sality_0.8/G343/4d81e2e5b55bad372d0762a1b0b66ada368670e42b1a40d3020211f890e88956_2908.profile']\n",
      "duplicate ERR: ['./data/tree-rep-profiles_o2o_smallshort/small/17.sality_0.8/G343/4d81e2e5b55bad372d0762a1b0b66ada368670e42b1a40d3020211f890e88956_3372.profile', './data/tree-rep-profiles_o2o_smallshort/short/17.sality_0.8/G343/4d81e2e5b55bad372d0762a1b0b66ada368670e42b1a40d3020211f890e88956_3372.profile']\n",
      "duplicate ERR: ['./data/tree-rep-profiles_o2o_smallshort/small/17.sality_0.8/G342/8c4c28ee154b10eae637c0fea3d7a5ffe69faf074cf0076dd0ea7a6ac069bf50_3040.profile', './data/tree-rep-profiles_o2o_smallshort/short/17.sality_0.8/G342/8c4c28ee154b10eae637c0fea3d7a5ffe69faf074cf0076dd0ea7a6ac069bf50_3040.profile']\n",
      "duplicate ERR: ['./data/tree-rep-profiles_o2o_smallshort/small/17.sality_0.8/G342/8c4c28ee154b10eae637c0fea3d7a5ffe69faf074cf0076dd0ea7a6ac069bf50_3340.profile', './data/tree-rep-profiles_o2o_smallshort/short/17.sality_0.8/G342/8c4c28ee154b10eae637c0fea3d7a5ffe69faf074cf0076dd0ea7a6ac069bf50_3340.profile']\n",
      "duplicate ERR: ['./data/tree-rep-profiles_o2o_smallshort/small/17.sality_0.8/G303/6fa19c1ee022d88e690b5f7112095ed571bd5848c1c54d77f9225d4bb1da9d49_2904.profile', './data/tree-rep-profiles_o2o_smallshort/short/17.sality_0.8/G303/6fa19c1ee022d88e690b5f7112095ed571bd5848c1c54d77f9225d4bb1da9d49_2904.profile']\n",
      "duplicate ERR: ['./data/tree-rep-profiles_o2o_smallshort/small/17.sality_0.8/G303/6fa19c1ee022d88e690b5f7112095ed571bd5848c1c54d77f9225d4bb1da9d49_3268.profile', './data/tree-rep-profiles_o2o_smallshort/short/17.sality_0.8/G303/6fa19c1ee022d88e690b5f7112095ed571bd5848c1c54d77f9225d4bb1da9d49_3268.profile']\n",
      "duplicate ERR: ['./data/tree-rep-profiles_o2o_smallshort/small/17.sality_0.8/G315/c874ef8ff2e998644e28ea598a6be611e3ec2c3f35f0e958d2433da57eb88e74_2896.profile', './data/tree-rep-profiles_o2o_smallshort/short/17.sality_0.8/G315/c874ef8ff2e998644e28ea598a6be611e3ec2c3f35f0e958d2433da57eb88e74_2896.profile']\n",
      "duplicate ERR: ['./data/tree-rep-profiles_o2o_smallshort/small/17.sality_0.8/G315/c874ef8ff2e998644e28ea598a6be611e3ec2c3f35f0e958d2433da57eb88e74_3032.profile', './data/tree-rep-profiles_o2o_smallshort/short/17.sality_0.8/G315/c874ef8ff2e998644e28ea598a6be611e3ec2c3f35f0e958d2433da57eb88e74_3032.profile']\n",
      "duplicate ERR: ['./data/tree-rep-profiles_o2o_smallshort/small/17.sality_0.8/G336/0f738c6f0f9bbeda76ecdd98384d00b1388cee4c133d978c8f12f97a36291b26_3364.profile', './data/tree-rep-profiles_o2o_smallshort/short/17.sality_0.8/G336/0f738c6f0f9bbeda76ecdd98384d00b1388cee4c133d978c8f12f97a36291b26_3364.profile']\n",
      "duplicate ERR: ['./data/tree-rep-profiles_o2o_smallshort/small/17.sality_0.8/G336/0b2ef9cde1200ff2db1b9db1a7d64d3ce048fdb69a814b47b9eedc4efa277a7d_3244.profile', './data/tree-rep-profiles_o2o_smallshort/short/17.sality_0.8/G336/0b2ef9cde1200ff2db1b9db1a7d64d3ce048fdb69a814b47b9eedc4efa277a7d_3244.profile']\n",
      "duplicate ERR: ['./data/tree-rep-profiles_o2o_smallshort/small/17.sality_0.8/G338/5f6d44621c5a45196d33c427529655844ec260ec8283480aaf471602e3430ea5_3840.profile', './data/tree-rep-profiles_o2o_smallshort/short/17.sality_0.8/G338/5f6d44621c5a45196d33c427529655844ec260ec8283480aaf471602e3430ea5_3840.profile']\n",
      "duplicate ERR: ['./data/tree-rep-profiles_o2o_smallshort/small/17.sality_0.8/G338/5f6d44621c5a45196d33c427529655844ec260ec8283480aaf471602e3430ea5_3348.profile', './data/tree-rep-profiles_o2o_smallshort/short/17.sality_0.8/G338/5f6d44621c5a45196d33c427529655844ec260ec8283480aaf471602e3430ea5_3348.profile']\n",
      "duplicate ERR: ['./data/tree-rep-profiles_o2o_smallshort/small/17.sality_0.8/G327/0bfe734c16c292b745562d5bf70258faf6a8c0818066bd49a3b87047d07ab9dd_3228.profile', './data/tree-rep-profiles_o2o_smallshort/short/17.sality_0.8/G327/0bfe734c16c292b745562d5bf70258faf6a8c0818066bd49a3b87047d07ab9dd_3228.profile']\n",
      "duplicate ERR: ['./data/tree-rep-profiles_o2o_smallshort/small/17.sality_0.8/G327/0bfe734c16c292b745562d5bf70258faf6a8c0818066bd49a3b87047d07ab9dd_2972.profile', './data/tree-rep-profiles_o2o_smallshort/short/17.sality_0.8/G327/0bfe734c16c292b745562d5bf70258faf6a8c0818066bd49a3b87047d07ab9dd_2972.profile']\n",
      "duplicate ERR: ['./data/tree-rep-profiles_o2o_smallshort/small/17.sality_0.8/G316/d2f350caa24e2f9ebafc6642d44730a23ca28314f4045ea658e6ec73a1633c45_2972.profile', './data/tree-rep-profiles_o2o_smallshort/short/17.sality_0.8/G316/d2f350caa24e2f9ebafc6642d44730a23ca28314f4045ea658e6ec73a1633c45_2972.profile']\n",
      "duplicate ERR: ['./data/tree-rep-profiles_o2o_smallshort/small/17.sality_0.8/G316/d2f350caa24e2f9ebafc6642d44730a23ca28314f4045ea658e6ec73a1633c45_3308.profile', './data/tree-rep-profiles_o2o_smallshort/short/17.sality_0.8/G316/d2f350caa24e2f9ebafc6642d44730a23ca28314f4045ea658e6ec73a1633c45_3308.profile']\n",
      "duplicate ERR: ['./data/tree-rep-profiles_o2o_smallshort/small/17.sality_0.8/G302/42014f1b689d310b5b64967a4e93de145795de326e21bf0e4700c150f56f2cbe_2904.profile', './data/tree-rep-profiles_o2o_smallshort/short/17.sality_0.8/G302/42014f1b689d310b5b64967a4e93de145795de326e21bf0e4700c150f56f2cbe_2904.profile']\n",
      "duplicate ERR: ['./data/tree-rep-profiles_o2o_smallshort/small/17.sality_0.8/G302/20f0278dfc4c8d067721ecf673ecb708223491f776232d42298391f35fcd9786_3236.profile', './data/tree-rep-profiles_o2o_smallshort/short/17.sality_0.8/G302/20f0278dfc4c8d067721ecf673ecb708223491f776232d42298391f35fcd9786_3236.profile']\n"
     ]
    },
    {
     "name": "stderr",
     "output_type": "stream",
     "text": [
      "\r",
      " 16%|█▌        | 25/159 [00:12<01:42,  1.31it/s]"
     ]
    },
    {
     "name": "stdout",
     "output_type": "stream",
     "text": [
      "duplicate ERR: ['./data/tree-rep-profiles_o2o_smallshort/small/17.sality_0.8/G346/0d2adb7263f924fc13048ab952b901a05b8520626da58ca07211bdbbdc2f613e_3392.profile', './data/tree-rep-profiles_o2o_smallshort/short/17.sality_0.8/G346/0d2adb7263f924fc13048ab952b901a05b8520626da58ca07211bdbbdc2f613e_3392.profile']\n",
      "duplicate ERR: ['./data/tree-rep-profiles_o2o_smallshort/small/17.sality_0.8/G346/eba999ad1a175545291f0680d4335cd501710803fef59ed6da1662c005c29aa2_3264.profile', './data/tree-rep-profiles_o2o_smallshort/short/17.sality_0.8/G346/eba999ad1a175545291f0680d4335cd501710803fef59ed6da1662c005c29aa2_3264.profile']\n",
      "duplicate ERR: ['./data/tree-rep-profiles_o2o_smallshort/small/53.killav_0.8/G93/133b2d9d6b04299bdff761cafe77e877d49b59ac58aae57731aeb6c9d66597b6_3272.profile', './data/tree-rep-profiles_o2o_smallshort/short/53.killav_0.8/G93/133b2d9d6b04299bdff761cafe77e877d49b59ac58aae57731aeb6c9d66597b6_3272.profile']\n",
      "duplicate ERR: ['./data/tree-rep-profiles_o2o_smallshort/small/53.killav_0.8/G93/11e1c6c6adacd6fd7d062770234b673d19a49428bde691f44a6a3a7e29bd2f4d_2980.profile', './data/tree-rep-profiles_o2o_smallshort/short/53.killav_0.8/G93/11e1c6c6adacd6fd7d062770234b673d19a49428bde691f44a6a3a7e29bd2f4d_2980.profile']\n",
      "duplicate ERR: ['./data/tree-rep-profiles_o2o_smallshort/small/53.killav_0.8/G87/1d713ea45110328a8d08ac802e85fb461a0255571e022e7053d6334d65a0e2b5_3360.profile', './data/tree-rep-profiles_o2o_smallshort/short/53.killav_0.8/G87/1d713ea45110328a8d08ac802e85fb461a0255571e022e7053d6334d65a0e2b5_3360.profile']\n",
      "duplicate ERR: ['./data/tree-rep-profiles_o2o_smallshort/small/53.killav_0.8/G87/07ae7bb4e38ff29982fd450f9c758d54fdae80637f5e292e4189ea92e279a413_3100.profile', './data/tree-rep-profiles_o2o_smallshort/short/53.killav_0.8/G87/07ae7bb4e38ff29982fd450f9c758d54fdae80637f5e292e4189ea92e279a413_3100.profile']\n",
      "duplicate ERR: ['./data/tree-rep-profiles_o2o_smallshort/small/53.killav_0.8/G85/0ba08dd12ad8505f2ef9834a2dc2b1e4aa5bfd772c630bf6cafaf094c6c24313_3344.profile', './data/tree-rep-profiles_o2o_smallshort/short/53.killav_0.8/G85/0ba08dd12ad8505f2ef9834a2dc2b1e4aa5bfd772c630bf6cafaf094c6c24313_3344.profile']\n",
      "duplicate ERR: ['./data/tree-rep-profiles_o2o_smallshort/small/53.killav_0.8/G85/0fd2772e139867d64e8be04bc1b423681282895957feeb9d8fc4c75aa869b2e6_3348.profile', './data/tree-rep-profiles_o2o_smallshort/short/53.killav_0.8/G85/0fd2772e139867d64e8be04bc1b423681282895957feeb9d8fc4c75aa869b2e6_3348.profile']\n"
     ]
    },
    {
     "name": "stderr",
     "output_type": "stream",
     "text": [
      "\r",
      " 16%|█▋        | 26/159 [00:12<01:21,  1.64it/s]"
     ]
    },
    {
     "name": "stdout",
     "output_type": "stream",
     "text": [
      "duplicate ERR: ['./data/tree-rep-profiles_o2o_smallshort/small/53.killav_0.8/G91/10cd2149d967e82dfaa6a67084468164b6db7e2da5874bbbfadae802a3682fb3_3128.profile', './data/tree-rep-profiles_o2o_smallshort/short/53.killav_0.8/G91/10cd2149d967e82dfaa6a67084468164b6db7e2da5874bbbfadae802a3682fb3_3128.profile']\n",
      "duplicate ERR: ['./data/tree-rep-profiles_o2o_smallshort/small/53.killav_0.8/G91/133b2d9d6b04299bdff761cafe77e877d49b59ac58aae57731aeb6c9d66597b6_3232.profile', './data/tree-rep-profiles_o2o_smallshort/short/53.killav_0.8/G91/133b2d9d6b04299bdff761cafe77e877d49b59ac58aae57731aeb6c9d66597b6_3232.profile']\n",
      "duplicate ERR: ['./data/tree-rep-profiles_o2o_smallshort/small/53.killav_0.8/G94/06bcbc4d92854d3d39ff5828271fdedb9e83e64ec1e7d4cecdcfd9f27361c41c_3268.profile', './data/tree-rep-profiles_o2o_smallshort/short/53.killav_0.8/G94/06bcbc4d92854d3d39ff5828271fdedb9e83e64ec1e7d4cecdcfd9f27361c41c_3268.profile']\n",
      "duplicate ERR: ['./data/tree-rep-profiles_o2o_smallshort/small/53.killav_0.8/G94/10cd2149d967e82dfaa6a67084468164b6db7e2da5874bbbfadae802a3682fb3_3208.profile', './data/tree-rep-profiles_o2o_smallshort/short/53.killav_0.8/G94/10cd2149d967e82dfaa6a67084468164b6db7e2da5874bbbfadae802a3682fb3_3208.profile']\n",
      "duplicate ERR: ['./data/tree-rep-profiles_o2o_smallshort/small/126.swizzor_0.8/G22/0be1ccde103ea004a6edb8504ffeb641302a251868722cde01d9c3dc4aa6f505_3376.profile', './data/tree-rep-profiles_o2o_smallshort/short/126.swizzor_0.8/G22/0be1ccde103ea004a6edb8504ffeb641302a251868722cde01d9c3dc4aa6f505_3376.profile']\n",
      "duplicate ERR: ['./data/tree-rep-profiles_o2o_smallshort/small/126.swizzor_0.8/G22/1db690e2981080e3e511ff36f188a6bedce4792b8011e2b001dbe00080b5b742_3284.profile', './data/tree-rep-profiles_o2o_smallshort/short/126.swizzor_0.8/G22/1db690e2981080e3e511ff36f188a6bedce4792b8011e2b001dbe00080b5b742_3284.profile']\n",
      "duplicate ERR: ['./data/tree-rep-profiles_o2o_smallshort/small/51.ircbot_0.8/G103/44968a375be56e2c0cd6958d2b766ae161e2ac9569c0147f98d5895ecdbf28b5_2876.profile', './data/tree-rep-profiles_o2o_smallshort/short/51.ircbot_0.8/G103/44968a375be56e2c0cd6958d2b766ae161e2ac9569c0147f98d5895ecdbf28b5_2876.profile']\n",
      "duplicate ERR: ['./data/tree-rep-profiles_o2o_smallshort/small/51.ircbot_0.8/G103/44968a375be56e2c0cd6958d2b766ae161e2ac9569c0147f98d5895ecdbf28b5_2940.profile', './data/tree-rep-profiles_o2o_smallshort/short/51.ircbot_0.8/G103/44968a375be56e2c0cd6958d2b766ae161e2ac9569c0147f98d5895ecdbf28b5_2940.profile']\n"
     ]
    },
    {
     "name": "stderr",
     "output_type": "stream",
     "text": [
      "\r",
      " 18%|█▊        | 28/159 [00:12<01:01,  2.14it/s]"
     ]
    },
    {
     "name": "stdout",
     "output_type": "stream",
     "text": [
      "duplicate ERR: ['./data/tree-rep-profiles_o2o_smallshort/small/51.ircbot_0.8/G101/0d47628759090f586bf672cc8b40a2e4e9b6c5d2379d463bbcb4050bd7146667_2896.profile', './data/tree-rep-profiles_o2o_smallshort/short/51.ircbot_0.8/G101/0d47628759090f586bf672cc8b40a2e4e9b6c5d2379d463bbcb4050bd7146667_2896.profile']\n",
      "duplicate ERR: ['./data/tree-rep-profiles_o2o_smallshort/small/51.ircbot_0.8/G101/0d3369eb11e471b6e38a049ac3bf50e30c5a8ce7ca6e40ce6c7fc0a9d9789271_2876.profile', './data/tree-rep-profiles_o2o_smallshort/short/51.ircbot_0.8/G101/0d3369eb11e471b6e38a049ac3bf50e30c5a8ce7ca6e40ce6c7fc0a9d9789271_2876.profile']\n",
      "duplicate ERR: ['./data/tree-rep-profiles_o2o_smallshort/small/51.ircbot_0.8/G95/128d12f55c25a90edc11ee251db77cc3dbfbcaa198c0a5a95c80176f055b0bff_3332.profile', './data/tree-rep-profiles_o2o_smallshort/short/51.ircbot_0.8/G95/128d12f55c25a90edc11ee251db77cc3dbfbcaa198c0a5a95c80176f055b0bff_3332.profile']\n",
      "duplicate ERR: ['./data/tree-rep-profiles_o2o_smallshort/small/51.ircbot_0.8/G95/128d12f55c25a90edc11ee251db77cc3dbfbcaa198c0a5a95c80176f055b0bff_3300.profile', './data/tree-rep-profiles_o2o_smallshort/short/51.ircbot_0.8/G95/128d12f55c25a90edc11ee251db77cc3dbfbcaa198c0a5a95c80176f055b0bff_3300.profile']\n",
      "duplicate ERR: ['./data/tree-rep-profiles_o2o_smallshort/small/51.ircbot_0.8/G96/bbe3a251a57003c5bd5a5cf6e239f01d7c13ba99c9cf7a3b47ecf69341b9f8dc_3404.profile', './data/tree-rep-profiles_o2o_smallshort/short/51.ircbot_0.8/G96/bbe3a251a57003c5bd5a5cf6e239f01d7c13ba99c9cf7a3b47ecf69341b9f8dc_3404.profile']\n",
      "duplicate ERR: ['./data/tree-rep-profiles_o2o_smallshort/small/51.ircbot_0.8/G96/116f356ee19e5b57ef9121238f0341438c565df9418853192ae24e0bc5305692_2852.profile', './data/tree-rep-profiles_o2o_smallshort/short/51.ircbot_0.8/G96/116f356ee19e5b57ef9121238f0341438c565df9418853192ae24e0bc5305692_2852.profile']\n",
      "duplicate ERR: ['./data/tree-rep-profiles_o2o_smallshort/small/70.lollipop_0.8/G60/00bd16a53d1f05d5a2f3c9023f1ed9ea93e2f7bd1268bd6628a94d96879b3466_3344.profile', './data/tree-rep-profiles_o2o_smallshort/short/70.lollipop_0.8/G60/00bd16a53d1f05d5a2f3c9023f1ed9ea93e2f7bd1268bd6628a94d96879b3466_3344.profile']\n",
      "duplicate ERR: ['./data/tree-rep-profiles_o2o_smallshort/small/70.lollipop_0.8/G60/0b3f01cdbb991b82060e472fe6255a28417deeff8e867de161d7ad6f02234f1e_2980.profile', './data/tree-rep-profiles_o2o_smallshort/short/70.lollipop_0.8/G60/0b3f01cdbb991b82060e472fe6255a28417deeff8e867de161d7ad6f02234f1e_2980.profile']\n",
      "duplicate ERR: ['./data/tree-rep-profiles_o2o_smallshort/small/70.lollipop_0.8/G62/0f31d385a17ff4195a7383f9a1c57496ccc4c3cacd13041702dbbb48e54aa733_2888.profile', './data/tree-rep-profiles_o2o_smallshort/short/70.lollipop_0.8/G62/0f31d385a17ff4195a7383f9a1c57496ccc4c3cacd13041702dbbb48e54aa733_2888.profile']\n",
      "duplicate ERR: ['./data/tree-rep-profiles_o2o_smallshort/small/70.lollipop_0.8/G62/0aed09036edb4e086cda70ff48ba1121ee7b0f81bdc1806df6c4845d24cac1a9_3208.profile', './data/tree-rep-profiles_o2o_smallshort/short/70.lollipop_0.8/G62/0aed09036edb4e086cda70ff48ba1121ee7b0f81bdc1806df6c4845d24cac1a9_3208.profile']\n",
      "duplicate ERR: ['./data/tree-rep-profiles_o2o_smallshort/small/70.lollipop_0.8/G61/02f80bec621d05265543eb7679aa19c73c08da7e5a6f6f843133bf1f568782dc_2872.profile', './data/tree-rep-profiles_o2o_smallshort/short/70.lollipop_0.8/G61/02f80bec621d05265543eb7679aa19c73c08da7e5a6f6f843133bf1f568782dc_2872.profile']\n",
      "duplicate ERR: ['./data/tree-rep-profiles_o2o_smallshort/small/70.lollipop_0.8/G61/0ef6058fd7ac71e2c9b4d92e7b834ae6118922618b685f07cce0d03298ebd9b8_3248.profile', './data/tree-rep-profiles_o2o_smallshort/short/70.lollipop_0.8/G61/0ef6058fd7ac71e2c9b4d92e7b834ae6118922618b685f07cce0d03298ebd9b8_3248.profile']\n",
      "duplicate ERR: ['./data/tree-rep-profiles_o2o_smallshort/small/70.lollipop_0.8/G69/0a2dec7106e328ba12cbd37054dcde0ef59595aee7f4d95ac6152bcbe0970b27_3524.profile', './data/tree-rep-profiles_o2o_smallshort/short/70.lollipop_0.8/G69/0a2dec7106e328ba12cbd37054dcde0ef59595aee7f4d95ac6152bcbe0970b27_3524.profile']\n",
      "duplicate ERR: ['./data/tree-rep-profiles_o2o_smallshort/small/70.lollipop_0.8/G69/0a2dec7106e328ba12cbd37054dcde0ef59595aee7f4d95ac6152bcbe0970b27_3608.profile', './data/tree-rep-profiles_o2o_smallshort/short/70.lollipop_0.8/G69/0a2dec7106e328ba12cbd37054dcde0ef59595aee7f4d95ac6152bcbe0970b27_3608.profile']\n",
      "duplicate ERR: ['./data/tree-rep-profiles_o2o_smallshort/small/70.lollipop_0.8/G64/00bee59eac08fd48c77560d6b6d8dbe4966f8d722d3a6e329264b270d6f5fc3c_3304.profile', './data/tree-rep-profiles_o2o_smallshort/short/70.lollipop_0.8/G64/00bee59eac08fd48c77560d6b6d8dbe4966f8d722d3a6e329264b270d6f5fc3c_3304.profile']\n",
      "duplicate ERR: ['./data/tree-rep-profiles_o2o_smallshort/small/70.lollipop_0.8/G64/0b510ebefd2a9781c78ab8495188c30f822d0778d2d04daf848a76ce0af05e35_3096.profile', './data/tree-rep-profiles_o2o_smallshort/short/70.lollipop_0.8/G64/0b510ebefd2a9781c78ab8495188c30f822d0778d2d04daf848a76ce0af05e35_3096.profile']\n",
      "duplicate ERR: ['./data/tree-rep-profiles_o2o_smallshort/small/70.lollipop_0.8/G66/f4640f9e48418a017ba75675609b9865f3ed24563667a58daf01d3424bcaaeca_3328.profile', './data/tree-rep-profiles_o2o_smallshort/short/70.lollipop_0.8/G66/f4640f9e48418a017ba75675609b9865f3ed24563667a58daf01d3424bcaaeca_3328.profile']\n"
     ]
    },
    {
     "name": "stderr",
     "output_type": "stream",
     "text": [
      " 19%|█▉        | 30/159 [00:13<00:41,  3.10it/s]"
     ]
    },
    {
     "name": "stdout",
     "output_type": "stream",
     "text": [
      "duplicate ERR: ['./data/tree-rep-profiles_o2o_smallshort/small/70.lollipop_0.8/G66/0a1e2cf139accb9c928d2bf435781740498e169c1c8808fd7ff06faaf442d050_2896.profile', './data/tree-rep-profiles_o2o_smallshort/short/70.lollipop_0.8/G66/0a1e2cf139accb9c928d2bf435781740498e169c1c8808fd7ff06faaf442d050_2896.profile']\n",
      "duplicate ERR: ['./data/tree-rep-profiles_o2o_smallshort/small/72.gamevance_0.8/G49/0a06c22e171032e15a243813378a87a945c6f7434bc0a4566924c782419be447_3412.profile', './data/tree-rep-profiles_o2o_smallshort/short/72.gamevance_0.8/G49/0a06c22e171032e15a243813378a87a945c6f7434bc0a4566924c782419be447_3412.profile']\n",
      "duplicate ERR: ['./data/tree-rep-profiles_o2o_smallshort/small/72.gamevance_0.8/G49/147ed767f909d997fb8eae0aa68306b0c1bff9f01bc12dd72756f87957bd3124_3324.profile', './data/tree-rep-profiles_o2o_smallshort/short/72.gamevance_0.8/G49/147ed767f909d997fb8eae0aa68306b0c1bff9f01bc12dd72756f87957bd3124_3324.profile']\n",
      "duplicate ERR: ['./data/tree-rep-profiles_o2o_smallshort/small/72.gamevance_0.8/G48/eaa2ebbfd3d620776f700d000ea54a3d426d5c72cdc8cf890c6f823dec6126fc_3304.profile', './data/tree-rep-profiles_o2o_smallshort/short/72.gamevance_0.8/G48/eaa2ebbfd3d620776f700d000ea54a3d426d5c72cdc8cf890c6f823dec6126fc_3304.profile']\n",
      "duplicate ERR: ['./data/tree-rep-profiles_o2o_smallshort/small/72.gamevance_0.8/G48/67aae7d62afe3b4e3e560fd86f58ffd9516e1a2b2398e318a9a06fd9b402df88_3292.profile', './data/tree-rep-profiles_o2o_smallshort/short/72.gamevance_0.8/G48/67aae7d62afe3b4e3e560fd86f58ffd9516e1a2b2398e318a9a06fd9b402df88_3292.profile']\n",
      "duplicate ERR: ['./data/tree-rep-profiles_o2o_smallshort/small/113.ipz_0.8/G27/c4d0acd2d8e5001971a9cf55a441950b6341c333a260d03a2f157aea0cb8939d_3388.profile', './data/tree-rep-profiles_o2o_smallshort/short/113.ipz_0.8/G27/c4d0acd2d8e5001971a9cf55a441950b6341c333a260d03a2f157aea0cb8939d_3388.profile']\n",
      "duplicate ERR: ['./data/tree-rep-profiles_o2o_smallshort/small/113.ipz_0.8/G27/ab6d171fd3ebccdd23420ac702003cbaaba772fbbb97eb198da3e50371810704_3008.profile', './data/tree-rep-profiles_o2o_smallshort/short/113.ipz_0.8/G27/ab6d171fd3ebccdd23420ac702003cbaaba772fbbb97eb198da3e50371810704_3008.profile']\n",
      "duplicate ERR: ['./data/tree-rep-profiles_o2o_smallshort/small/16.sytro_0.8/G311/b59a1e7ea94421eaf12066f82a5cc01a0c1e70de74d98600750cdfde8642b9b0_3408.profile', './data/tree-rep-profiles_o2o_smallshort/short/16.sytro_0.8/G311/b59a1e7ea94421eaf12066f82a5cc01a0c1e70de74d98600750cdfde8642b9b0_3408.profile']\n",
      "duplicate ERR: ['./data/tree-rep-profiles_o2o_smallshort/small/16.sytro_0.8/G311/b59a1e7ea94421eaf12066f82a5cc01a0c1e70de74d98600750cdfde8642b9b0_3384.profile', './data/tree-rep-profiles_o2o_smallshort/short/16.sytro_0.8/G311/b59a1e7ea94421eaf12066f82a5cc01a0c1e70de74d98600750cdfde8642b9b0_3384.profile']\n",
      "duplicate ERR: ['./data/tree-rep-profiles_o2o_smallshort/small/16.sytro_0.8/G401/00fba4dc1f2a139aceae7f30897b5be092c4c36f19d407f5e816fef617a20c57_3324.profile', './data/tree-rep-profiles_o2o_smallshort/short/16.sytro_0.8/G401/00fba4dc1f2a139aceae7f30897b5be092c4c36f19d407f5e816fef617a20c57_3324.profile']\n",
      "duplicate ERR: ['./data/tree-rep-profiles_o2o_smallshort/small/16.sytro_0.8/G401/00fba4dc1f2a139aceae7f30897b5be092c4c36f19d407f5e816fef617a20c57_3276.profile', './data/tree-rep-profiles_o2o_smallshort/short/16.sytro_0.8/G401/00fba4dc1f2a139aceae7f30897b5be092c4c36f19d407f5e816fef617a20c57_3276.profile']\n",
      "duplicate ERR: ['./data/tree-rep-profiles_o2o_smallshort/small/16.sytro_0.8/G310/5b1fa1522291b6107fe513314ac8b46865c2885ee0373752e1ade56be36fb348_3488.profile', './data/tree-rep-profiles_o2o_smallshort/short/16.sytro_0.8/G310/5b1fa1522291b6107fe513314ac8b46865c2885ee0373752e1ade56be36fb348_3488.profile']\n",
      "duplicate ERR: ['./data/tree-rep-profiles_o2o_smallshort/small/16.sytro_0.8/G310/edb3867c31eeb95dfa5744c9f03d981356e92873812697aec6626e713270b43d_3248.profile', './data/tree-rep-profiles_o2o_smallshort/short/16.sytro_0.8/G310/edb3867c31eeb95dfa5744c9f03d981356e92873812697aec6626e713270b43d_3248.profile']\n",
      "duplicate ERR: ['./data/tree-rep-profiles_o2o_smallshort/small/16.sytro_0.8/G395/5e41b88421547b3d79e745758ece22f38ae4cbcb68782f8b903873f0cdd14ac5_3512.profile', './data/tree-rep-profiles_o2o_smallshort/short/16.sytro_0.8/G395/5e41b88421547b3d79e745758ece22f38ae4cbcb68782f8b903873f0cdd14ac5_3512.profile']\n",
      "duplicate ERR: ['./data/tree-rep-profiles_o2o_smallshort/small/16.sytro_0.8/G395/3586190e6074f10799a6dcc51a7f2755c9744747a62539de18fb6a7f45a16aef_3476.profile', './data/tree-rep-profiles_o2o_smallshort/short/16.sytro_0.8/G395/3586190e6074f10799a6dcc51a7f2755c9744747a62539de18fb6a7f45a16aef_3476.profile']\n",
      "duplicate ERR: ['./data/tree-rep-profiles_o2o_smallshort/small/16.sytro_0.8/G365/3a4e939e3a7a68b9fb1353cd3270fbff19f19d333be642186adbf14de7a0306f_3216.profile', './data/tree-rep-profiles_o2o_smallshort/short/16.sytro_0.8/G365/3a4e939e3a7a68b9fb1353cd3270fbff19f19d333be642186adbf14de7a0306f_3216.profile']\n",
      "duplicate ERR: ['./data/tree-rep-profiles_o2o_smallshort/small/16.sytro_0.8/G365/43473594dd63ef0753e0dbfc2adbc3eecac1706bfeb7cba4c1445af9cb442638_3224.profile', './data/tree-rep-profiles_o2o_smallshort/short/16.sytro_0.8/G365/43473594dd63ef0753e0dbfc2adbc3eecac1706bfeb7cba4c1445af9cb442638_3224.profile']\n",
      "duplicate ERR: ['./data/tree-rep-profiles_o2o_smallshort/small/16.sytro_0.8/G396/088ab6b2dfe3525c1e66c2e0ea9716bbc616633d78bdc1e949c39b0085111454_3320.profile', './data/tree-rep-profiles_o2o_smallshort/short/16.sytro_0.8/G396/088ab6b2dfe3525c1e66c2e0ea9716bbc616633d78bdc1e949c39b0085111454_3320.profile']\n",
      "duplicate ERR: ['./data/tree-rep-profiles_o2o_smallshort/small/16.sytro_0.8/G396/088ab6b2dfe3525c1e66c2e0ea9716bbc616633d78bdc1e949c39b0085111454_3276.profile', './data/tree-rep-profiles_o2o_smallshort/short/16.sytro_0.8/G396/088ab6b2dfe3525c1e66c2e0ea9716bbc616633d78bdc1e949c39b0085111454_3276.profile']\n",
      "duplicate ERR: ['./data/tree-rep-profiles_o2o_smallshort/small/16.sytro_0.8/G399/b10c0d59b4bd1a0f67ab104ac3b136170a763f32b0deb084b6bf19f49de87a73_3444.profile', './data/tree-rep-profiles_o2o_smallshort/short/16.sytro_0.8/G399/b10c0d59b4bd1a0f67ab104ac3b136170a763f32b0deb084b6bf19f49de87a73_3444.profile']\n",
      "duplicate ERR: ['./data/tree-rep-profiles_o2o_smallshort/small/16.sytro_0.8/G399/3f681afa19ce9855eb2b8b3e5590d1e14f64f3352b713cccb3262f5da4a12b99_3540.profile', './data/tree-rep-profiles_o2o_smallshort/short/16.sytro_0.8/G399/3f681afa19ce9855eb2b8b3e5590d1e14f64f3352b713cccb3262f5da4a12b99_3540.profile']\n",
      "duplicate ERR: ['./data/tree-rep-profiles_o2o_smallshort/small/16.sytro_0.8/G317/960c53b441dc4283f02976544464efe0a990a3fe493c0debc512cf6fffca7e44_3324.profile', './data/tree-rep-profiles_o2o_smallshort/short/16.sytro_0.8/G317/960c53b441dc4283f02976544464efe0a990a3fe493c0debc512cf6fffca7e44_3324.profile']\n",
      "duplicate ERR: ['./data/tree-rep-profiles_o2o_smallshort/small/16.sytro_0.8/G317/12c337cf51011e6b09acb7506aa4194cdebd8bea9fac8240899a6266caeac361_3348.profile', './data/tree-rep-profiles_o2o_smallshort/short/16.sytro_0.8/G317/12c337cf51011e6b09acb7506aa4194cdebd8bea9fac8240899a6266caeac361_3348.profile']\n",
      "duplicate ERR: ['./data/tree-rep-profiles_o2o_smallshort/small/16.sytro_0.8/G314/5b1fa1522291b6107fe513314ac8b46865c2885ee0373752e1ade56be36fb348_3416.profile', './data/tree-rep-profiles_o2o_smallshort/short/16.sytro_0.8/G314/5b1fa1522291b6107fe513314ac8b46865c2885ee0373752e1ade56be36fb348_3416.profile']\n",
      "duplicate ERR: ['./data/tree-rep-profiles_o2o_smallshort/small/16.sytro_0.8/G314/edb3867c31eeb95dfa5744c9f03d981356e92873812697aec6626e713270b43d_3200.profile', './data/tree-rep-profiles_o2o_smallshort/short/16.sytro_0.8/G314/edb3867c31eeb95dfa5744c9f03d981356e92873812697aec6626e713270b43d_3200.profile']\n"
     ]
    },
    {
     "name": "stderr",
     "output_type": "stream",
     "text": [
      "\r",
      " 20%|██        | 32/159 [00:13<00:40,  3.16it/s]"
     ]
    },
    {
     "name": "stdout",
     "output_type": "stream",
     "text": [
      "duplicate ERR: ['./data/tree-rep-profiles_o2o_smallshort/small/16.sytro_0.8/G400/f0b4301174b9ed2c8390a13986a6f153ac29db23e378a9909a3dd7711e9e4d7e_3364.profile', './data/tree-rep-profiles_o2o_smallshort/short/16.sytro_0.8/G400/f0b4301174b9ed2c8390a13986a6f153ac29db23e378a9909a3dd7711e9e4d7e_3364.profile']\n",
      "duplicate ERR: ['./data/tree-rep-profiles_o2o_smallshort/small/16.sytro_0.8/G400/f0b4301174b9ed2c8390a13986a6f153ac29db23e378a9909a3dd7711e9e4d7e_3308.profile', './data/tree-rep-profiles_o2o_smallshort/short/16.sytro_0.8/G400/f0b4301174b9ed2c8390a13986a6f153ac29db23e378a9909a3dd7711e9e4d7e_3308.profile']\n",
      "duplicate ERR: ['./data/tree-rep-profiles_o2o_smallshort/small/16.sytro_0.8/G316/0b8e0b09a3fed8bb4bc418675f0b01c5461ee3c73dd0484e6c2aee1cc888626f_3040.profile', './data/tree-rep-profiles_o2o_smallshort/short/16.sytro_0.8/G316/0b8e0b09a3fed8bb4bc418675f0b01c5461ee3c73dd0484e6c2aee1cc888626f_3040.profile']\n",
      "duplicate ERR: ['./data/tree-rep-profiles_o2o_smallshort/small/16.sytro_0.8/G316/0b8e0b09a3fed8bb4bc418675f0b01c5461ee3c73dd0484e6c2aee1cc888626f_3188.profile', './data/tree-rep-profiles_o2o_smallshort/short/16.sytro_0.8/G316/0b8e0b09a3fed8bb4bc418675f0b01c5461ee3c73dd0484e6c2aee1cc888626f_3188.profile']\n",
      "duplicate ERR: ['./data/tree-rep-profiles_o2o_smallshort/small/48.upatre_0.8/G137/7fc8511b7afba2755e1c188fb17265072d2ffd1e9223760dabddc2313f2f9314_3300.profile', './data/tree-rep-profiles_o2o_smallshort/short/48.upatre_0.8/G137/7fc8511b7afba2755e1c188fb17265072d2ffd1e9223760dabddc2313f2f9314_3300.profile']\n",
      "duplicate ERR: ['./data/tree-rep-profiles_o2o_smallshort/small/48.upatre_0.8/G137/7fc8511b7afba2755e1c188fb17265072d2ffd1e9223760dabddc2313f2f9314_3296.profile', './data/tree-rep-profiles_o2o_smallshort/short/48.upatre_0.8/G137/7fc8511b7afba2755e1c188fb17265072d2ffd1e9223760dabddc2313f2f9314_3296.profile']\n",
      "duplicate ERR: ['./data/tree-rep-profiles_o2o_smallshort/small/48.upatre_0.8/G126/a75006db31f84bb13cc00aa2eae00848ad51c2d8e60c993638cca27a8536eb87_3212.profile', './data/tree-rep-profiles_o2o_smallshort/short/48.upatre_0.8/G126/a75006db31f84bb13cc00aa2eae00848ad51c2d8e60c993638cca27a8536eb87_3212.profile']\n",
      "duplicate ERR: ['./data/tree-rep-profiles_o2o_smallshort/small/48.upatre_0.8/G126/a75006db31f84bb13cc00aa2eae00848ad51c2d8e60c993638cca27a8536eb87_3216.profile', './data/tree-rep-profiles_o2o_smallshort/short/48.upatre_0.8/G126/a75006db31f84bb13cc00aa2eae00848ad51c2d8e60c993638cca27a8536eb87_3216.profile']\n",
      "duplicate ERR: ['./data/tree-rep-profiles_o2o_smallshort/small/48.upatre_0.8/G138/bed42e1b432c71ca2687857020bbce8619ad5faaf60142ad16c988aaebee35bb_3292.profile', './data/tree-rep-profiles_o2o_smallshort/short/48.upatre_0.8/G138/bed42e1b432c71ca2687857020bbce8619ad5faaf60142ad16c988aaebee35bb_3292.profile']\n",
      "duplicate ERR: ['./data/tree-rep-profiles_o2o_smallshort/small/48.upatre_0.8/G138/701ee1e955cf35ac9c8e812341c5b7b1e69e6eb0e6e1eaebc549ff884aa52240_3160.profile', './data/tree-rep-profiles_o2o_smallshort/short/48.upatre_0.8/G138/701ee1e955cf35ac9c8e812341c5b7b1e69e6eb0e6e1eaebc549ff884aa52240_3160.profile']\n",
      "duplicate ERR: ['./data/tree-rep-profiles_o2o_smallshort/small/48.upatre_0.8/G130/fbf90ab477779e70633dc4cdb76707b801d28df6b02e619413d2963e18989717_3376.profile', './data/tree-rep-profiles_o2o_smallshort/short/48.upatre_0.8/G130/fbf90ab477779e70633dc4cdb76707b801d28df6b02e619413d2963e18989717_3376.profile']\n",
      "duplicate ERR: ['./data/tree-rep-profiles_o2o_smallshort/small/48.upatre_0.8/G130/00daeeb1c2727a34dd4274b912bab5ef88f67dc42bfd73cc94b8e7013c7dc52b_3224.profile', './data/tree-rep-profiles_o2o_smallshort/short/48.upatre_0.8/G130/00daeeb1c2727a34dd4274b912bab5ef88f67dc42bfd73cc94b8e7013c7dc52b_3224.profile']\n",
      "duplicate ERR: ['./data/tree-rep-profiles_o2o_smallshort/small/48.upatre_0.8/G121/bfa99cfcc15048ba118516178180d19c33c0642772bb855924219a0f9b3be77b_3164.profile', './data/tree-rep-profiles_o2o_smallshort/short/48.upatre_0.8/G121/bfa99cfcc15048ba118516178180d19c33c0642772bb855924219a0f9b3be77b_3164.profile']\n",
      "duplicate ERR: ['./data/tree-rep-profiles_o2o_smallshort/small/48.upatre_0.8/G121/bfa99cfcc15048ba118516178180d19c33c0642772bb855924219a0f9b3be77b_2884.profile', './data/tree-rep-profiles_o2o_smallshort/short/48.upatre_0.8/G121/bfa99cfcc15048ba118516178180d19c33c0642772bb855924219a0f9b3be77b_2884.profile']\n",
      "duplicate ERR: ['./data/tree-rep-profiles_o2o_smallshort/small/48.upatre_0.8/G120/fbf90ab477779e70633dc4cdb76707b801d28df6b02e619413d2963e18989717_3428.profile', './data/tree-rep-profiles_o2o_smallshort/short/48.upatre_0.8/G120/fbf90ab477779e70633dc4cdb76707b801d28df6b02e619413d2963e18989717_3428.profile']\n",
      "duplicate ERR: ['./data/tree-rep-profiles_o2o_smallshort/small/48.upatre_0.8/G120/00daeeb1c2727a34dd4274b912bab5ef88f67dc42bfd73cc94b8e7013c7dc52b_3268.profile', './data/tree-rep-profiles_o2o_smallshort/short/48.upatre_0.8/G120/00daeeb1c2727a34dd4274b912bab5ef88f67dc42bfd73cc94b8e7013c7dc52b_3268.profile']\n",
      "duplicate ERR: ['./data/tree-rep-profiles_o2o_smallshort/small/48.upatre_0.8/G133/4afbb275bc1cc6166f2c4ec8505ccd64bdbe0be77b86745c3b15d5d5f9ef81c5_3256.profile', './data/tree-rep-profiles_o2o_smallshort/short/48.upatre_0.8/G133/4afbb275bc1cc6166f2c4ec8505ccd64bdbe0be77b86745c3b15d5d5f9ef81c5_3256.profile']\n",
      "duplicate ERR: ['./data/tree-rep-profiles_o2o_smallshort/small/48.upatre_0.8/G133/4afbb275bc1cc6166f2c4ec8505ccd64bdbe0be77b86745c3b15d5d5f9ef81c5_2940.profile', './data/tree-rep-profiles_o2o_smallshort/short/48.upatre_0.8/G133/4afbb275bc1cc6166f2c4ec8505ccd64bdbe0be77b86745c3b15d5d5f9ef81c5_2940.profile']\n"
     ]
    },
    {
     "name": "stderr",
     "output_type": "stream",
     "text": [
      "\r",
      " 21%|██        | 33/159 [00:14<00:44,  2.84it/s]"
     ]
    },
    {
     "name": "stdout",
     "output_type": "stream",
     "text": [
      "duplicate ERR: ['./data/tree-rep-profiles_o2o_smallshort/small/48.upatre_0.8/G131/cc9cfac97be68109a327a31efd610696f56c230225b19583899e531a7c0c30ff_3344.profile', './data/tree-rep-profiles_o2o_smallshort/short/48.upatre_0.8/G131/cc9cfac97be68109a327a31efd610696f56c230225b19583899e531a7c0c30ff_3344.profile']\n",
      "duplicate ERR: ['./data/tree-rep-profiles_o2o_smallshort/small/48.upatre_0.8/G131/0031b3ec313a3363acb501d2ba1483decbafa54000ce6263983ef6b2952a0405_2952.profile', './data/tree-rep-profiles_o2o_smallshort/short/48.upatre_0.8/G131/0031b3ec313a3363acb501d2ba1483decbafa54000ce6263983ef6b2952a0405_2952.profile']\n",
      "duplicate ERR: ['./data/tree-rep-profiles_o2o_smallshort/small/48.upatre_0.8/G140/cc9cfac97be68109a327a31efd610696f56c230225b19583899e531a7c0c30ff_3384.profile', './data/tree-rep-profiles_o2o_smallshort/short/48.upatre_0.8/G140/cc9cfac97be68109a327a31efd610696f56c230225b19583899e531a7c0c30ff_3384.profile']\n",
      "duplicate ERR: ['./data/tree-rep-profiles_o2o_smallshort/small/48.upatre_0.8/G140/0031b3ec313a3363acb501d2ba1483decbafa54000ce6263983ef6b2952a0405_3016.profile', './data/tree-rep-profiles_o2o_smallshort/short/48.upatre_0.8/G140/0031b3ec313a3363acb501d2ba1483decbafa54000ce6263983ef6b2952a0405_3016.profile']\n",
      "duplicate ERR: ['./data/tree-rep-profiles_o2o_smallshort/small/132.fareit_0.8/G17/2c03b63df31aea8d754b9f0f3d5b7730bb80272bf5a0ee2e0683234bfe38129a_3224.profile', './data/tree-rep-profiles_o2o_smallshort/short/132.fareit_0.8/G17/2c03b63df31aea8d754b9f0f3d5b7730bb80272bf5a0ee2e0683234bfe38129a_3224.profile']\n",
      "duplicate ERR: ['./data/tree-rep-profiles_o2o_smallshort/small/132.fareit_0.8/G17/35ba9e9ca8db8c07780a8aedcaa343ea5d8ef824138e6e2098ba2f2cd758353d_3088.profile', './data/tree-rep-profiles_o2o_smallshort/short/132.fareit_0.8/G17/35ba9e9ca8db8c07780a8aedcaa343ea5d8ef824138e6e2098ba2f2cd758353d_3088.profile']\n",
      "duplicate ERR: ['./data/tree-rep-profiles_o2o_smallshort/small/132.fareit_0.8/G18/0a7fd0d63080d279fd999c5a5ccd18be94f3c2ecf784a574d5009269970ab8c8_3340.profile', './data/tree-rep-profiles_o2o_smallshort/short/132.fareit_0.8/G18/0a7fd0d63080d279fd999c5a5ccd18be94f3c2ecf784a574d5009269970ab8c8_3340.profile']\n",
      "duplicate ERR: ['./data/tree-rep-profiles_o2o_smallshort/small/132.fareit_0.8/G18/0a7fd0d63080d279fd999c5a5ccd18be94f3c2ecf784a574d5009269970ab8c8_3392.profile', './data/tree-rep-profiles_o2o_smallshort/short/132.fareit_0.8/G18/0a7fd0d63080d279fd999c5a5ccd18be94f3c2ecf784a574d5009269970ab8c8_3392.profile']\n",
      "duplicate ERR: ['./data/tree-rep-profiles_o2o_smallshort/small/30.kdz_0.8/G162/51b5c9b80d21e982e1cc92cdffe558cf4334a1ea87e7236814854be25629b765_3116.profile', './data/tree-rep-profiles_o2o_smallshort/short/30.kdz_0.8/G162/51b5c9b80d21e982e1cc92cdffe558cf4334a1ea87e7236814854be25629b765_3116.profile']\n",
      "duplicate ERR: ['./data/tree-rep-profiles_o2o_smallshort/small/30.kdz_0.8/G162/76a889cb09289bb51d1b37c96c14af5429743b81bb878f055ed3f2710b61bd1a_3148.profile', './data/tree-rep-profiles_o2o_smallshort/short/30.kdz_0.8/G162/76a889cb09289bb51d1b37c96c14af5429743b81bb878f055ed3f2710b61bd1a_3148.profile']\n",
      "duplicate ERR: ['./data/tree-rep-profiles_o2o_smallshort/small/30.kdz_0.8/G189/019ef3c26567f30ac2726c15b10ef9bdde87cbdb43a8685d0a197154ba3f024e_2928.profile', './data/tree-rep-profiles_o2o_smallshort/short/30.kdz_0.8/G189/019ef3c26567f30ac2726c15b10ef9bdde87cbdb43a8685d0a197154ba3f024e_2928.profile']\n",
      "duplicate ERR: ['./data/tree-rep-profiles_o2o_smallshort/small/30.kdz_0.8/G189/02fbc59091a54f1f39890d4372d8784cbc8f8df5a5052123e34113e2d74aa1c1_3280.profile', './data/tree-rep-profiles_o2o_smallshort/short/30.kdz_0.8/G189/02fbc59091a54f1f39890d4372d8784cbc8f8df5a5052123e34113e2d74aa1c1_3280.profile']\n",
      "duplicate ERR: ['./data/tree-rep-profiles_o2o_smallshort/small/30.kdz_0.8/G175/09a95be593de8f1ec9f0686c0b1aa95e41c8015f817f2199a49073e86de6d2ce_3140.profile', './data/tree-rep-profiles_o2o_smallshort/short/30.kdz_0.8/G175/09a95be593de8f1ec9f0686c0b1aa95e41c8015f817f2199a49073e86de6d2ce_3140.profile']\n",
      "duplicate ERR: ['./data/tree-rep-profiles_o2o_smallshort/small/30.kdz_0.8/G175/0e2c284d4fb1386f3efe2e57afbd52bd75c0e6196c2634e7fc012cfd1649bb62_3296.profile', './data/tree-rep-profiles_o2o_smallshort/short/30.kdz_0.8/G175/0e2c284d4fb1386f3efe2e57afbd52bd75c0e6196c2634e7fc012cfd1649bb62_3296.profile']\n",
      "duplicate ERR: ['./data/tree-rep-profiles_o2o_smallshort/small/30.kdz_0.8/G188/85c49116fce3e6559a2e2ac1b8b90755d76966831615fc6aca65e7059b19f831_3188.profile', './data/tree-rep-profiles_o2o_smallshort/short/30.kdz_0.8/G188/85c49116fce3e6559a2e2ac1b8b90755d76966831615fc6aca65e7059b19f831_3188.profile']\n",
      "duplicate ERR: ['./data/tree-rep-profiles_o2o_smallshort/small/30.kdz_0.8/G188/5a9443cd059571f1d53549efa8fdad388dc5ffa5719db9cbc72e6f0dc0071403_3292.profile', './data/tree-rep-profiles_o2o_smallshort/short/30.kdz_0.8/G188/5a9443cd059571f1d53549efa8fdad388dc5ffa5719db9cbc72e6f0dc0071403_3292.profile']\n",
      "duplicate ERR: ['./data/tree-rep-profiles_o2o_smallshort/small/30.kdz_0.8/G171/2d7f338937011abcfa54324ca0233275f306b5e9c6eb736aa9e3f5d5a537a07e_3136.profile', './data/tree-rep-profiles_o2o_smallshort/short/30.kdz_0.8/G171/2d7f338937011abcfa54324ca0233275f306b5e9c6eb736aa9e3f5d5a537a07e_3136.profile']\n",
      "duplicate ERR: ['./data/tree-rep-profiles_o2o_smallshort/small/30.kdz_0.8/G171/5c6548937c6f95f717b0d57bba84e8284e6e8e812f723bdf622ea98b386059ca_3268.profile', './data/tree-rep-profiles_o2o_smallshort/short/30.kdz_0.8/G171/5c6548937c6f95f717b0d57bba84e8284e6e8e812f723bdf622ea98b386059ca_3268.profile']\n",
      "duplicate ERR: ['./data/tree-rep-profiles_o2o_smallshort/small/30.kdz_0.8/G182/7e2acedc6b4a89b14c461bd18bc1d90960800832eeadd2f36f01a465420dacfb_3240.profile', './data/tree-rep-profiles_o2o_smallshort/short/30.kdz_0.8/G182/7e2acedc6b4a89b14c461bd18bc1d90960800832eeadd2f36f01a465420dacfb_3240.profile']\n",
      "duplicate ERR: ['./data/tree-rep-profiles_o2o_smallshort/small/30.kdz_0.8/G182/6f489dcc32f535cc5acd3af18123be5d251e1ee87ef841f55cd8eddba7d4ce06_3420.profile', './data/tree-rep-profiles_o2o_smallshort/short/30.kdz_0.8/G182/6f489dcc32f535cc5acd3af18123be5d251e1ee87ef841f55cd8eddba7d4ce06_3420.profile']\n",
      "duplicate ERR: ['./data/tree-rep-profiles_o2o_smallshort/small/30.kdz_0.8/G186/98c81c94b716bfc8bb5622a488f37742a38223156917dd1496ac5c8690127533_3124.profile', './data/tree-rep-profiles_o2o_smallshort/short/30.kdz_0.8/G186/98c81c94b716bfc8bb5622a488f37742a38223156917dd1496ac5c8690127533_3124.profile']\n",
      "duplicate ERR: ['./data/tree-rep-profiles_o2o_smallshort/small/30.kdz_0.8/G186/153e329cc5f4165eb39d849ddb30f52ffeb2c5b22791189d3222eca5f281f63d_3260.profile', './data/tree-rep-profiles_o2o_smallshort/short/30.kdz_0.8/G186/153e329cc5f4165eb39d849ddb30f52ffeb2c5b22791189d3222eca5f281f63d_3260.profile']\n",
      "duplicate ERR: ['./data/tree-rep-profiles_o2o_smallshort/small/30.kdz_0.8/G176/10e1bdf457c29b07225ca5242f9d2e13083f4dbbec9f8ae1de8f4082bf994bd6_3272.profile', './data/tree-rep-profiles_o2o_smallshort/short/30.kdz_0.8/G176/10e1bdf457c29b07225ca5242f9d2e13083f4dbbec9f8ae1de8f4082bf994bd6_3272.profile']\n",
      "duplicate ERR: ['./data/tree-rep-profiles_o2o_smallshort/small/30.kdz_0.8/G176/10e1bdf457c29b07225ca5242f9d2e13083f4dbbec9f8ae1de8f4082bf994bd6_3180.profile', './data/tree-rep-profiles_o2o_smallshort/short/30.kdz_0.8/G176/10e1bdf457c29b07225ca5242f9d2e13083f4dbbec9f8ae1de8f4082bf994bd6_3180.profile']\n",
      "duplicate ERR: ['./data/tree-rep-profiles_o2o_smallshort/small/30.kdz_0.8/G177/94ee5bb0f4f2b579d3b947610b3a0526c51fa5a5c65a2757429429cfdad6c5ba_3200.profile', './data/tree-rep-profiles_o2o_smallshort/short/30.kdz_0.8/G177/94ee5bb0f4f2b579d3b947610b3a0526c51fa5a5c65a2757429429cfdad6c5ba_3200.profile']\n"
     ]
    },
    {
     "name": "stderr",
     "output_type": "stream",
     "text": [
      "\r",
      " 22%|██▏       | 35/159 [00:14<00:43,  2.83it/s]"
     ]
    },
    {
     "name": "stdout",
     "output_type": "stream",
     "text": [
      "duplicate ERR: ['./data/tree-rep-profiles_o2o_smallshort/small/30.kdz_0.8/G177/117a71b2129fb7a9c48ee7d8b3ae1437a47fbe323c690fcd1323222849c26e8e_3212.profile', './data/tree-rep-profiles_o2o_smallshort/short/30.kdz_0.8/G177/117a71b2129fb7a9c48ee7d8b3ae1437a47fbe323c690fcd1323222849c26e8e_3212.profile']\n",
      "duplicate ERR: ['./data/tree-rep-profiles_o2o_smallshort/small/30.kdz_0.8/G174/1ecc5004eecac737824fa66b361fd95534ff8138dae8642f4648dabc2f213b4d_2816.profile', './data/tree-rep-profiles_o2o_smallshort/short/30.kdz_0.8/G174/1ecc5004eecac737824fa66b361fd95534ff8138dae8642f4648dabc2f213b4d_2816.profile']\n",
      "duplicate ERR: ['./data/tree-rep-profiles_o2o_smallshort/small/30.kdz_0.8/G174/1ffe647f121d447bf513e65c418e03d864015a6ddf06e8c6f92250a958122816_2864.profile', './data/tree-rep-profiles_o2o_smallshort/short/30.kdz_0.8/G174/1ffe647f121d447bf513e65c418e03d864015a6ddf06e8c6f92250a958122816_2864.profile']\n",
      "duplicate ERR: ['./data/tree-rep-profiles_o2o_smallshort/small/30.kdz_0.8/G185/02fbc59091a54f1f39890d4372d8784cbc8f8df5a5052123e34113e2d74aa1c1_3376.profile', './data/tree-rep-profiles_o2o_smallshort/short/30.kdz_0.8/G185/02fbc59091a54f1f39890d4372d8784cbc8f8df5a5052123e34113e2d74aa1c1_3376.profile']\n",
      "duplicate ERR: ['./data/tree-rep-profiles_o2o_smallshort/small/30.kdz_0.8/G185/019ef3c26567f30ac2726c15b10ef9bdde87cbdb43a8685d0a197154ba3f024e_2964.profile', './data/tree-rep-profiles_o2o_smallshort/short/30.kdz_0.8/G185/019ef3c26567f30ac2726c15b10ef9bdde87cbdb43a8685d0a197154ba3f024e_2964.profile']\n",
      "duplicate ERR: ['./data/tree-rep-profiles_o2o_smallshort/small/30.kdz_0.8/G181/10e1bdf457c29b07225ca5242f9d2e13083f4dbbec9f8ae1de8f4082bf994bd6_3172.profile', './data/tree-rep-profiles_o2o_smallshort/short/30.kdz_0.8/G181/10e1bdf457c29b07225ca5242f9d2e13083f4dbbec9f8ae1de8f4082bf994bd6_3172.profile']\n",
      "duplicate ERR: ['./data/tree-rep-profiles_o2o_smallshort/small/30.kdz_0.8/G181/10e1bdf457c29b07225ca5242f9d2e13083f4dbbec9f8ae1de8f4082bf994bd6_3084.profile', './data/tree-rep-profiles_o2o_smallshort/short/30.kdz_0.8/G181/10e1bdf457c29b07225ca5242f9d2e13083f4dbbec9f8ae1de8f4082bf994bd6_3084.profile']\n",
      "duplicate ERR: ['./data/tree-rep-profiles_o2o_smallshort/small/64.hupigon_0.8/G62/13fd9e2e97c53355148f55391bb133496548a0e33daf4038472cb91d52639c41_3316.profile', './data/tree-rep-profiles_o2o_smallshort/short/64.hupigon_0.8/G62/13fd9e2e97c53355148f55391bb133496548a0e33daf4038472cb91d52639c41_3316.profile']\n"
     ]
    },
    {
     "name": "stderr",
     "output_type": "stream",
     "text": [
      "\r",
      " 23%|██▎       | 36/159 [00:15<00:34,  3.59it/s]"
     ]
    },
    {
     "name": "stdout",
     "output_type": "stream",
     "text": [
      "duplicate ERR: ['./data/tree-rep-profiles_o2o_smallshort/small/64.hupigon_0.8/G62/02b47c2f0aaf37d5702e1d57d32dbd7a7ce91d3f40ea7e0f30e2bf05e83a0763_3440.profile', './data/tree-rep-profiles_o2o_smallshort/short/64.hupigon_0.8/G62/02b47c2f0aaf37d5702e1d57d32dbd7a7ce91d3f40ea7e0f30e2bf05e83a0763_3440.profile']\n",
      "duplicate ERR: ['./data/tree-rep-profiles_o2o_smallshort/small/64.hupigon_0.8/G61/02bf8ed164bd3a3d3bd8ee190f9a40e022b8758e1a42620c6d2e9508dd14f9ba_2940.profile', './data/tree-rep-profiles_o2o_smallshort/short/64.hupigon_0.8/G61/02bf8ed164bd3a3d3bd8ee190f9a40e022b8758e1a42620c6d2e9508dd14f9ba_2940.profile']\n",
      "duplicate ERR: ['./data/tree-rep-profiles_o2o_smallshort/small/64.hupigon_0.8/G61/1f06c6b2eea1c9979e1741c92b72a77a4dfb880c4dee4d15ebf3a69b847df3dd_3180.profile', './data/tree-rep-profiles_o2o_smallshort/short/64.hupigon_0.8/G61/1f06c6b2eea1c9979e1741c92b72a77a4dfb880c4dee4d15ebf3a69b847df3dd_3180.profile']\n",
      "duplicate ERR: ['./data/tree-rep-profiles_o2o_smallshort/small/55.medfos_0.8/G75/107e518a3506505685fec887d74278f9cc6a0b01215b43eec315cd7e3cfcc40c_2884.profile', './data/tree-rep-profiles_o2o_smallshort/short/55.medfos_0.8/G75/107e518a3506505685fec887d74278f9cc6a0b01215b43eec315cd7e3cfcc40c_2884.profile']\n",
      "duplicate ERR: ['./data/tree-rep-profiles_o2o_smallshort/small/55.medfos_0.8/G75/0a5265a1594f851b23fa4bfcf726c9fed1f9fa2c46362d3ff616f8a0752e8ac8_2932.profile', './data/tree-rep-profiles_o2o_smallshort/short/55.medfos_0.8/G75/0a5265a1594f851b23fa4bfcf726c9fed1f9fa2c46362d3ff616f8a0752e8ac8_2932.profile']\n",
      "duplicate ERR: ['./data/tree-rep-profiles_o2o_smallshort/small/55.medfos_0.8/G68/0ce6132b6277a3e86b09976343c674a5c8fad417ec7ddf89c69df4013fc84e5f_3372.profile', './data/tree-rep-profiles_o2o_smallshort/short/55.medfos_0.8/G68/0ce6132b6277a3e86b09976343c674a5c8fad417ec7ddf89c69df4013fc84e5f_3372.profile']\n",
      "duplicate ERR: ['./data/tree-rep-profiles_o2o_smallshort/small/55.medfos_0.8/G68/0e67ec647fab287b352313bab74a3d944f61bc58aeeed81e6eb8f6e0515a52b8_3244.profile', './data/tree-rep-profiles_o2o_smallshort/short/55.medfos_0.8/G68/0e67ec647fab287b352313bab74a3d944f61bc58aeeed81e6eb8f6e0515a52b8_3244.profile']\n",
      "duplicate ERR: ['./data/tree-rep-profiles_o2o_smallshort/small/55.medfos_0.8/G74/0129e6a80cf0583336e10ad03e4e566db593f2fa85bcbaa4dff232dbad6b3e4d_3272.profile', './data/tree-rep-profiles_o2o_smallshort/short/55.medfos_0.8/G74/0129e6a80cf0583336e10ad03e4e566db593f2fa85bcbaa4dff232dbad6b3e4d_3272.profile']\n"
     ]
    },
    {
     "name": "stderr",
     "output_type": "stream",
     "text": [
      "\r",
      " 23%|██▎       | 37/159 [00:15<00:33,  3.64it/s]"
     ]
    },
    {
     "name": "stdout",
     "output_type": "stream",
     "text": [
      "duplicate ERR: ['./data/tree-rep-profiles_o2o_smallshort/small/55.medfos_0.8/G74/1fb41a56857bf9f875c749ffa7363576ee9c1209b6dbeb3978c5cde7ffdd2c39_3244.profile', './data/tree-rep-profiles_o2o_smallshort/short/55.medfos_0.8/G74/1fb41a56857bf9f875c749ffa7363576ee9c1209b6dbeb3978c5cde7ffdd2c39_3244.profile']\n",
      "duplicate ERR: ['./data/tree-rep-profiles_o2o_smallshort/small/55.medfos_0.8/G67/07ae38a3142b7d58a6a97210b4ddbc267903003302a80f664e679fd8f727f578_3340.profile', './data/tree-rep-profiles_o2o_smallshort/short/55.medfos_0.8/G67/07ae38a3142b7d58a6a97210b4ddbc267903003302a80f664e679fd8f727f578_3340.profile']\n",
      "duplicate ERR: ['./data/tree-rep-profiles_o2o_smallshort/small/55.medfos_0.8/G67/0b66c87bacce8a221df76690e7ece6ee7232bedd8799135af368740565b5b350_3284.profile', './data/tree-rep-profiles_o2o_smallshort/short/55.medfos_0.8/G67/0b66c87bacce8a221df76690e7ece6ee7232bedd8799135af368740565b5b350_3284.profile']\n",
      "duplicate ERR: ['./data/tree-rep-profiles_o2o_smallshort/small/55.medfos_0.8/G63/0e7ac003f012062a457e08be0fdba8925a3800ec19a94ede107ebc63454bf63d_3248.profile', './data/tree-rep-profiles_o2o_smallshort/short/55.medfos_0.8/G63/0e7ac003f012062a457e08be0fdba8925a3800ec19a94ede107ebc63454bf63d_3248.profile']\n",
      "duplicate ERR: ['./data/tree-rep-profiles_o2o_smallshort/small/55.medfos_0.8/G63/0f1167d7f353dbbf9fe962e94db94ccfd68b50592cbeb1241583512a56f9db29_3288.profile', './data/tree-rep-profiles_o2o_smallshort/short/55.medfos_0.8/G63/0f1167d7f353dbbf9fe962e94db94ccfd68b50592cbeb1241583512a56f9db29_3288.profile']\n",
      "duplicate ERR: ['./data/tree-rep-profiles_o2o_smallshort/small/93.casino_0.8/G28/1d3cedc563e7cc21680a11d57cda84cc572872c03b39191454bba8d1b02e607e_2892.profile', './data/tree-rep-profiles_o2o_smallshort/short/93.casino_0.8/G28/1d3cedc563e7cc21680a11d57cda84cc572872c03b39191454bba8d1b02e607e_2892.profile']\n",
      "duplicate ERR: ['./data/tree-rep-profiles_o2o_smallshort/small/93.casino_0.8/G28/0a0418f252b70f9a6a84eda467b95bed411029c90dd2622019b60a606afc5e07_2952.profile', './data/tree-rep-profiles_o2o_smallshort/short/93.casino_0.8/G28/0a0418f252b70f9a6a84eda467b95bed411029c90dd2622019b60a606afc5e07_2952.profile']\n",
      "duplicate ERR: ['./data/tree-rep-profiles_o2o_smallshort/small/93.casino_0.8/G27/1d4e47d1bd14ee02ec162a1f22e8c3963665d321e3401a77840d8e5ef7b043c8_3412.profile', './data/tree-rep-profiles_o2o_smallshort/short/93.casino_0.8/G27/1d4e47d1bd14ee02ec162a1f22e8c3963665d321e3401a77840d8e5ef7b043c8_3412.profile']\n"
     ]
    },
    {
     "name": "stderr",
     "output_type": "stream",
     "text": [
      "\r",
      " 24%|██▍       | 38/159 [00:15<00:27,  4.47it/s]"
     ]
    },
    {
     "name": "stdout",
     "output_type": "stream",
     "text": [
      "duplicate ERR: ['./data/tree-rep-profiles_o2o_smallshort/small/93.casino_0.8/G27/0a3f98da0b6f072be5c4df81f66f1651e6a8b7f79e9b318a4247609abf427f38_3392.profile', './data/tree-rep-profiles_o2o_smallshort/short/93.casino_0.8/G27/0a3f98da0b6f072be5c4df81f66f1651e6a8b7f79e9b318a4247609abf427f38_3392.profile']\n",
      "duplicate ERR: ['./data/tree-rep-profiles_o2o_smallshort/small/6.virut_0.8/G1032/f0e0f3988f67ba985e0b67a973aad38d861ff70e89f67d2eeb210cdaeea06988_3228.profile', './data/tree-rep-profiles_o2o_smallshort/short/6.virut_0.8/G1032/f0e0f3988f67ba985e0b67a973aad38d861ff70e89f67d2eeb210cdaeea06988_3228.profile']\n",
      "duplicate ERR: ['./data/tree-rep-profiles_o2o_smallshort/small/6.virut_0.8/G1032/05e383167c00d460ffe707d20136086776153df3ed2babc608725a8ad9d3f29f_3180.profile', './data/tree-rep-profiles_o2o_smallshort/short/6.virut_0.8/G1032/05e383167c00d460ffe707d20136086776153df3ed2babc608725a8ad9d3f29f_3180.profile']\n",
      "duplicate ERR: ['./data/tree-rep-profiles_o2o_smallshort/small/6.virut_0.8/G1067/9a6c5b6c4e7a8118de9c1b443d3f7257960d870dd33e6616b4906bb0de71c325_3308.profile', './data/tree-rep-profiles_o2o_smallshort/short/6.virut_0.8/G1067/9a6c5b6c4e7a8118de9c1b443d3f7257960d870dd33e6616b4906bb0de71c325_3308.profile']\n",
      "duplicate ERR: ['./data/tree-rep-profiles_o2o_smallshort/small/6.virut_0.8/G1067/0abc0a6292c949db3267f214c55cb82402e0ac4980566f52c34fe0f391288f66_3152.profile', './data/tree-rep-profiles_o2o_smallshort/short/6.virut_0.8/G1067/0abc0a6292c949db3267f214c55cb82402e0ac4980566f52c34fe0f391288f66_3152.profile']\n",
      "duplicate ERR: ['./data/tree-rep-profiles_o2o_smallshort/small/6.virut_0.8/G1035/8aec45585d5d8e9e937d7fc3abf21d1972d6606fe1690b7c5087e0a83d5c7b5a_3312.profile', './data/tree-rep-profiles_o2o_smallshort/short/6.virut_0.8/G1035/8aec45585d5d8e9e937d7fc3abf21d1972d6606fe1690b7c5087e0a83d5c7b5a_3312.profile']\n",
      "duplicate ERR: ['./data/tree-rep-profiles_o2o_smallshort/small/6.virut_0.8/G1035/a2ca385529167bd80d6bad290ce0f837919ca58d46104499e672e8f2c793ddd4_3316.profile', './data/tree-rep-profiles_o2o_smallshort/short/6.virut_0.8/G1035/a2ca385529167bd80d6bad290ce0f837919ca58d46104499e672e8f2c793ddd4_3316.profile']\n",
      "duplicate ERR: ['./data/tree-rep-profiles_o2o_smallshort/small/6.virut_0.8/G1262/96c1c091117bc02228df3e778ec5992ab0fad1206c94de171b93fd89ac484a94_3144.profile', './data/tree-rep-profiles_o2o_smallshort/short/6.virut_0.8/G1262/96c1c091117bc02228df3e778ec5992ab0fad1206c94de171b93fd89ac484a94_3144.profile']\n",
      "duplicate ERR: ['./data/tree-rep-profiles_o2o_smallshort/small/6.virut_0.8/G1262/ab25ff4fdf0e78642578d6e702fcd1149df33836569f6ec7a9ff48df671d5cd5_3404.profile', './data/tree-rep-profiles_o2o_smallshort/short/6.virut_0.8/G1262/ab25ff4fdf0e78642578d6e702fcd1149df33836569f6ec7a9ff48df671d5cd5_3404.profile']\n",
      "duplicate ERR: ['./data/tree-rep-profiles_o2o_smallshort/small/6.virut_0.8/G1283/16f0483e8be1b7655281208faf1ed786bf903dfe5f268b4b66525414be841e2b_2944.profile', './data/tree-rep-profiles_o2o_smallshort/short/6.virut_0.8/G1283/16f0483e8be1b7655281208faf1ed786bf903dfe5f268b4b66525414be841e2b_2944.profile']\n",
      "duplicate ERR: ['./data/tree-rep-profiles_o2o_smallshort/small/6.virut_0.8/G1283/37670f04e9897063ac182d82bb9e979075b9be7fd2dbf29017763a46e8ffe6d0_3428.profile', './data/tree-rep-profiles_o2o_smallshort/short/6.virut_0.8/G1283/37670f04e9897063ac182d82bb9e979075b9be7fd2dbf29017763a46e8ffe6d0_3428.profile']\n",
      "duplicate ERR: ['./data/tree-rep-profiles_o2o_smallshort/small/6.virut_0.8/G1070/0a5e3bbd70a708037806405f35f5e11a00a51107f8074dcc55290099a62c1ee7_3264.profile', './data/tree-rep-profiles_o2o_smallshort/short/6.virut_0.8/G1070/0a5e3bbd70a708037806405f35f5e11a00a51107f8074dcc55290099a62c1ee7_3264.profile']\n",
      "duplicate ERR: ['./data/tree-rep-profiles_o2o_smallshort/small/6.virut_0.8/G1070/e3564e557f4aae074bef8a8c24311e1f7d18b4143808ba3148ac66b8683ec998_3008.profile', './data/tree-rep-profiles_o2o_smallshort/short/6.virut_0.8/G1070/e3564e557f4aae074bef8a8c24311e1f7d18b4143808ba3148ac66b8683ec998_3008.profile']\n",
      "duplicate ERR: ['./data/tree-rep-profiles_o2o_smallshort/small/6.virut_0.8/G1127/558f20ba7bcf84c2aee932bd5ce4b7985b9d4f562f4ca7f6aeb6d00867ec996c_2900.profile', './data/tree-rep-profiles_o2o_smallshort/short/6.virut_0.8/G1127/558f20ba7bcf84c2aee932bd5ce4b7985b9d4f562f4ca7f6aeb6d00867ec996c_2900.profile']\n",
      "duplicate ERR: ['./data/tree-rep-profiles_o2o_smallshort/small/6.virut_0.8/G1127/558f20ba7bcf84c2aee932bd5ce4b7985b9d4f562f4ca7f6aeb6d00867ec996c_3280.profile', './data/tree-rep-profiles_o2o_smallshort/short/6.virut_0.8/G1127/558f20ba7bcf84c2aee932bd5ce4b7985b9d4f562f4ca7f6aeb6d00867ec996c_3280.profile']\n",
      "duplicate ERR: ['./data/tree-rep-profiles_o2o_smallshort/small/6.virut_0.8/G1279/d380d7ef2b191b6f2c86c446b1e2d25fe86f05785fe2e2252a3e814c83b7f8dd_1112.profile', './data/tree-rep-profiles_o2o_smallshort/short/6.virut_0.8/G1279/d380d7ef2b191b6f2c86c446b1e2d25fe86f05785fe2e2252a3e814c83b7f8dd_1112.profile']\n",
      "duplicate ERR: ['./data/tree-rep-profiles_o2o_smallshort/small/6.virut_0.8/G1279/d380d7ef2b191b6f2c86c446b1e2d25fe86f05785fe2e2252a3e814c83b7f8dd_3424.profile', './data/tree-rep-profiles_o2o_smallshort/short/6.virut_0.8/G1279/d380d7ef2b191b6f2c86c446b1e2d25fe86f05785fe2e2252a3e814c83b7f8dd_3424.profile']\n",
      "duplicate ERR: ['./data/tree-rep-profiles_o2o_smallshort/small/6.virut_0.8/G1205/99b1838c67d24f5247e2ab5c5bf19cce3684a8d47df857e532005abc9a1e6bf8_3484.profile', './data/tree-rep-profiles_o2o_smallshort/short/6.virut_0.8/G1205/99b1838c67d24f5247e2ab5c5bf19cce3684a8d47df857e532005abc9a1e6bf8_3484.profile']\n",
      "duplicate ERR: ['./data/tree-rep-profiles_o2o_smallshort/small/6.virut_0.8/G1205/ee9a1b0147ea34a77de3a41d126355afa6599fe85983fecc147417d5a6e526d0_3396.profile', './data/tree-rep-profiles_o2o_smallshort/short/6.virut_0.8/G1205/ee9a1b0147ea34a77de3a41d126355afa6599fe85983fecc147417d5a6e526d0_3396.profile']\n",
      "duplicate ERR: ['./data/tree-rep-profiles_o2o_smallshort/small/6.virut_0.8/G1265/1a6ce23c6b7c1b51a03b1605b99b41fac9bdea2d9e066721816a11f8cd3bf882_3356.profile', './data/tree-rep-profiles_o2o_smallshort/short/6.virut_0.8/G1265/1a6ce23c6b7c1b51a03b1605b99b41fac9bdea2d9e066721816a11f8cd3bf882_3356.profile']\n",
      "duplicate ERR: ['./data/tree-rep-profiles_o2o_smallshort/small/6.virut_0.8/G1265/1a6ce23c6b7c1b51a03b1605b99b41fac9bdea2d9e066721816a11f8cd3bf882_3372.profile', './data/tree-rep-profiles_o2o_smallshort/short/6.virut_0.8/G1265/1a6ce23c6b7c1b51a03b1605b99b41fac9bdea2d9e066721816a11f8cd3bf882_3372.profile']\n",
      "duplicate ERR: ['./data/tree-rep-profiles_o2o_smallshort/small/6.virut_0.8/G1196/94259f1d2e97369c88fb43e3a85cceb4eeee086de8d6ba33b76eab1e41426589_3212.profile', './data/tree-rep-profiles_o2o_smallshort/short/6.virut_0.8/G1196/94259f1d2e97369c88fb43e3a85cceb4eeee086de8d6ba33b76eab1e41426589_3212.profile']\n",
      "duplicate ERR: ['./data/tree-rep-profiles_o2o_smallshort/small/6.virut_0.8/G1196/94259f1d2e97369c88fb43e3a85cceb4eeee086de8d6ba33b76eab1e41426589_3316.profile', './data/tree-rep-profiles_o2o_smallshort/short/6.virut_0.8/G1196/94259f1d2e97369c88fb43e3a85cceb4eeee086de8d6ba33b76eab1e41426589_3316.profile']\n",
      "duplicate ERR: ['./data/tree-rep-profiles_o2o_smallshort/small/6.virut_0.8/G1285/e5eba33bb3245d463f8284a4e683d67aa1b6f12f3cdf3d0a5d739f26a36a7cff_3176.profile', './data/tree-rep-profiles_o2o_smallshort/short/6.virut_0.8/G1285/e5eba33bb3245d463f8284a4e683d67aa1b6f12f3cdf3d0a5d739f26a36a7cff_3176.profile']\n",
      "duplicate ERR: ['./data/tree-rep-profiles_o2o_smallshort/small/6.virut_0.8/G1285/81ba4691182abee2c6dd4c2678e591713450e10cebfe1b21fb4edcce5377e587_3364.profile', './data/tree-rep-profiles_o2o_smallshort/short/6.virut_0.8/G1285/81ba4691182abee2c6dd4c2678e591713450e10cebfe1b21fb4edcce5377e587_3364.profile']\n",
      "duplicate ERR: ['./data/tree-rep-profiles_o2o_smallshort/small/6.virut_0.8/G1202/134c6f71fdeace010895c2d3599d661e6b19261ca6b320848844ab197dcbaebe_2976.profile', './data/tree-rep-profiles_o2o_smallshort/short/6.virut_0.8/G1202/134c6f71fdeace010895c2d3599d661e6b19261ca6b320848844ab197dcbaebe_2976.profile']\n",
      "duplicate ERR: ['./data/tree-rep-profiles_o2o_smallshort/small/6.virut_0.8/G1202/659b01a6b8c21c3be0034d88bc8e8781c4cfe6c114ddaaceb19ab6778d3e0443_2896.profile', './data/tree-rep-profiles_o2o_smallshort/short/6.virut_0.8/G1202/659b01a6b8c21c3be0034d88bc8e8781c4cfe6c114ddaaceb19ab6778d3e0443_2896.profile']\n",
      "duplicate ERR: ['./data/tree-rep-profiles_o2o_smallshort/small/6.virut_0.8/G1297/16f0483e8be1b7655281208faf1ed786bf903dfe5f268b4b66525414be841e2b_3392.profile', './data/tree-rep-profiles_o2o_smallshort/short/6.virut_0.8/G1297/16f0483e8be1b7655281208faf1ed786bf903dfe5f268b4b66525414be841e2b_3392.profile']\n",
      "duplicate ERR: ['./data/tree-rep-profiles_o2o_smallshort/small/6.virut_0.8/G1297/16f0483e8be1b7655281208faf1ed786bf903dfe5f268b4b66525414be841e2b_3304.profile', './data/tree-rep-profiles_o2o_smallshort/short/6.virut_0.8/G1297/16f0483e8be1b7655281208faf1ed786bf903dfe5f268b4b66525414be841e2b_3304.profile']\n",
      "duplicate ERR: ['./data/tree-rep-profiles_o2o_smallshort/small/6.virut_0.8/G1099/aa5c78a5c7ebb8acd0578860950dd11406a6f58df1fea851bb54590cb0a62e32_3316.profile', './data/tree-rep-profiles_o2o_smallshort/short/6.virut_0.8/G1099/aa5c78a5c7ebb8acd0578860950dd11406a6f58df1fea851bb54590cb0a62e32_3316.profile']\n",
      "duplicate ERR: ['./data/tree-rep-profiles_o2o_smallshort/small/6.virut_0.8/G1099/38816ec2fa82fb5a8a88f4d93d7c65c7b857ef80c6e30b8bffa4ac3163c9bfaa_2876.profile', './data/tree-rep-profiles_o2o_smallshort/short/6.virut_0.8/G1099/38816ec2fa82fb5a8a88f4d93d7c65c7b857ef80c6e30b8bffa4ac3163c9bfaa_2876.profile']\n",
      "duplicate ERR: ['./data/tree-rep-profiles_o2o_smallshort/small/6.virut_0.8/G1269/05f2e4f04da24f14169a393e389ed910a8b19386e943c195ffd625287b4abc23_3436.profile', './data/tree-rep-profiles_o2o_smallshort/short/6.virut_0.8/G1269/05f2e4f04da24f14169a393e389ed910a8b19386e943c195ffd625287b4abc23_3436.profile']\n"
     ]
    },
    {
     "name": "stdout",
     "output_type": "stream",
     "text": [
      "duplicate ERR: ['./data/tree-rep-profiles_o2o_smallshort/small/6.virut_0.8/G1269/c234b6f602c4018989cdc3c9a9a9114d35625a2197c5996ca6ebfa2d25098a2c_3028.profile', './data/tree-rep-profiles_o2o_smallshort/short/6.virut_0.8/G1269/c234b6f602c4018989cdc3c9a9a9114d35625a2197c5996ca6ebfa2d25098a2c_3028.profile']\n",
      "duplicate ERR: ['./data/tree-rep-profiles_o2o_smallshort/small/6.virut_0.8/G1113/13abe8684a333c291892c9ec41282172ab541ebc3be0987e9390c542599413f7_2900.profile', './data/tree-rep-profiles_o2o_smallshort/short/6.virut_0.8/G1113/13abe8684a333c291892c9ec41282172ab541ebc3be0987e9390c542599413f7_2900.profile']\n",
      "duplicate ERR: ['./data/tree-rep-profiles_o2o_smallshort/small/6.virut_0.8/G1113/11ef178810db18e27e4164c4b2fed07ff21e8909c6b87ab25e37fcf8edf1f2a6_3240.profile', './data/tree-rep-profiles_o2o_smallshort/short/6.virut_0.8/G1113/11ef178810db18e27e4164c4b2fed07ff21e8909c6b87ab25e37fcf8edf1f2a6_3240.profile']\n",
      "duplicate ERR: ['./data/tree-rep-profiles_o2o_smallshort/small/6.virut_0.8/G1227/73ba42681817be41d3237ce41e5f424325a940e63fc66c8d9800f50c87b45ec6_432.profile', './data/tree-rep-profiles_o2o_smallshort/short/6.virut_0.8/G1227/73ba42681817be41d3237ce41e5f424325a940e63fc66c8d9800f50c87b45ec6_432.profile']\n",
      "duplicate ERR: ['./data/tree-rep-profiles_o2o_smallshort/small/6.virut_0.8/G1227/1a6ce23c6b7c1b51a03b1605b99b41fac9bdea2d9e066721816a11f8cd3bf882_440.profile', './data/tree-rep-profiles_o2o_smallshort/short/6.virut_0.8/G1227/1a6ce23c6b7c1b51a03b1605b99b41fac9bdea2d9e066721816a11f8cd3bf882_440.profile']\n",
      "duplicate ERR: ['./data/tree-rep-profiles_o2o_smallshort/small/6.virut_0.8/G1063/c6537d56cd084cb853505a58c4665481d267a24354f10dde20a30063b93a82aa_3172.profile', './data/tree-rep-profiles_o2o_smallshort/short/6.virut_0.8/G1063/c6537d56cd084cb853505a58c4665481d267a24354f10dde20a30063b93a82aa_3172.profile']\n",
      "duplicate ERR: ['./data/tree-rep-profiles_o2o_smallshort/small/6.virut_0.8/G1063/c6537d56cd084cb853505a58c4665481d267a24354f10dde20a30063b93a82aa_3176.profile', './data/tree-rep-profiles_o2o_smallshort/short/6.virut_0.8/G1063/c6537d56cd084cb853505a58c4665481d267a24354f10dde20a30063b93a82aa_3176.profile']\n",
      "duplicate ERR: ['./data/tree-rep-profiles_o2o_smallshort/small/6.virut_0.8/G1136/41af6269830b57496edc39713f0a1d0705c45a19920e0d67aff12881d0bb1d48_2916.profile', './data/tree-rep-profiles_o2o_smallshort/short/6.virut_0.8/G1136/41af6269830b57496edc39713f0a1d0705c45a19920e0d67aff12881d0bb1d48_2916.profile']\n",
      "duplicate ERR: ['./data/tree-rep-profiles_o2o_smallshort/small/6.virut_0.8/G1136/41af6269830b57496edc39713f0a1d0705c45a19920e0d67aff12881d0bb1d48_3464.profile', './data/tree-rep-profiles_o2o_smallshort/short/6.virut_0.8/G1136/41af6269830b57496edc39713f0a1d0705c45a19920e0d67aff12881d0bb1d48_3464.profile']\n",
      "duplicate ERR: ['./data/tree-rep-profiles_o2o_smallshort/small/6.virut_0.8/G1250/f0e0f3988f67ba985e0b67a973aad38d861ff70e89f67d2eeb210cdaeea06988_3248.profile', './data/tree-rep-profiles_o2o_smallshort/short/6.virut_0.8/G1250/f0e0f3988f67ba985e0b67a973aad38d861ff70e89f67d2eeb210cdaeea06988_3248.profile']\n",
      "duplicate ERR: ['./data/tree-rep-profiles_o2o_smallshort/small/6.virut_0.8/G1250/05e383167c00d460ffe707d20136086776153df3ed2babc608725a8ad9d3f29f_3204.profile', './data/tree-rep-profiles_o2o_smallshort/short/6.virut_0.8/G1250/05e383167c00d460ffe707d20136086776153df3ed2babc608725a8ad9d3f29f_3204.profile']\n",
      "duplicate ERR: ['./data/tree-rep-profiles_o2o_smallshort/small/6.virut_0.8/G1129/d7b6a0626db6a3d33b1f90a1153fa9455c019cedcdcefd4a5612c7f880b36c65_3392.profile', './data/tree-rep-profiles_o2o_smallshort/short/6.virut_0.8/G1129/d7b6a0626db6a3d33b1f90a1153fa9455c019cedcdcefd4a5612c7f880b36c65_3392.profile']\n",
      "duplicate ERR: ['./data/tree-rep-profiles_o2o_smallshort/small/6.virut_0.8/G1129/d7b6a0626db6a3d33b1f90a1153fa9455c019cedcdcefd4a5612c7f880b36c65_3252.profile', './data/tree-rep-profiles_o2o_smallshort/short/6.virut_0.8/G1129/d7b6a0626db6a3d33b1f90a1153fa9455c019cedcdcefd4a5612c7f880b36c65_3252.profile']\n",
      "duplicate ERR: ['./data/tree-rep-profiles_o2o_smallshort/small/6.virut_0.8/G1194/6c81ccac35787a7ba5ce2ea812ab8b622d480635a3fb8674d7ca5156f3d9f5a7_2996.profile', './data/tree-rep-profiles_o2o_smallshort/short/6.virut_0.8/G1194/6c81ccac35787a7ba5ce2ea812ab8b622d480635a3fb8674d7ca5156f3d9f5a7_2996.profile']\n",
      "duplicate ERR: ['./data/tree-rep-profiles_o2o_smallshort/small/6.virut_0.8/G1194/cfbaf28313f96af91ea5a61fa6628031486751c3206bedaeb3bc8edbaf32e668_3068.profile', './data/tree-rep-profiles_o2o_smallshort/short/6.virut_0.8/G1194/cfbaf28313f96af91ea5a61fa6628031486751c3206bedaeb3bc8edbaf32e668_3068.profile']\n",
      "duplicate ERR: ['./data/tree-rep-profiles_o2o_smallshort/small/6.virut_0.8/G1093/6428d8e7f536fe38a1631ec3e8f6f071963d6304439836aceef3fbe001187233_3232.profile', './data/tree-rep-profiles_o2o_smallshort/short/6.virut_0.8/G1093/6428d8e7f536fe38a1631ec3e8f6f071963d6304439836aceef3fbe001187233_3232.profile']\n",
      "duplicate ERR: ['./data/tree-rep-profiles_o2o_smallshort/small/6.virut_0.8/G1093/6428d8e7f536fe38a1631ec3e8f6f071963d6304439836aceef3fbe001187233_3368.profile', './data/tree-rep-profiles_o2o_smallshort/short/6.virut_0.8/G1093/6428d8e7f536fe38a1631ec3e8f6f071963d6304439836aceef3fbe001187233_3368.profile']\n",
      "duplicate ERR: ['./data/tree-rep-profiles_o2o_smallshort/small/6.virut_0.8/G1111/55f538deb9ae284f096301a73511290b9a091ce6b66e272a5f2edeac624bbcdd_3016.profile', './data/tree-rep-profiles_o2o_smallshort/short/6.virut_0.8/G1111/55f538deb9ae284f096301a73511290b9a091ce6b66e272a5f2edeac624bbcdd_3016.profile']\n",
      "duplicate ERR: ['./data/tree-rep-profiles_o2o_smallshort/small/6.virut_0.8/G1111/4d94e5f9608c12a1874a7eab81c937552e861c68389502f1462d466678d71b41_2968.profile', './data/tree-rep-profiles_o2o_smallshort/short/6.virut_0.8/G1111/4d94e5f9608c12a1874a7eab81c937552e861c68389502f1462d466678d71b41_2968.profile']\n",
      "duplicate ERR: ['./data/tree-rep-profiles_o2o_smallshort/small/6.virut_0.8/G1101/749658a17c2609b5e6e98d56327fd8ca87ba63c4035a6d092dd5bba94d0c0ae8_3124.profile', './data/tree-rep-profiles_o2o_smallshort/short/6.virut_0.8/G1101/749658a17c2609b5e6e98d56327fd8ca87ba63c4035a6d092dd5bba94d0c0ae8_3124.profile']\n",
      "duplicate ERR: ['./data/tree-rep-profiles_o2o_smallshort/small/6.virut_0.8/G1101/749658a17c2609b5e6e98d56327fd8ca87ba63c4035a6d092dd5bba94d0c0ae8_3188.profile', './data/tree-rep-profiles_o2o_smallshort/short/6.virut_0.8/G1101/749658a17c2609b5e6e98d56327fd8ca87ba63c4035a6d092dd5bba94d0c0ae8_3188.profile']\n",
      "duplicate ERR: ['./data/tree-rep-profiles_o2o_smallshort/small/6.virut_0.8/G1027/11f7c3d6c6406effe585b7492f636aff224ae9432e9e8e6e27036c8802257b17_3328.profile', './data/tree-rep-profiles_o2o_smallshort/short/6.virut_0.8/G1027/11f7c3d6c6406effe585b7492f636aff224ae9432e9e8e6e27036c8802257b17_3328.profile']\n",
      "duplicate ERR: ['./data/tree-rep-profiles_o2o_smallshort/small/6.virut_0.8/G1027/e7e75fe75e140d3ea4df699aab81f3de290f230e87d6087b3d3f5c257fd527ab_3228.profile', './data/tree-rep-profiles_o2o_smallshort/short/6.virut_0.8/G1027/e7e75fe75e140d3ea4df699aab81f3de290f230e87d6087b3d3f5c257fd527ab_3228.profile']\n",
      "duplicate ERR: ['./data/tree-rep-profiles_o2o_smallshort/small/6.virut_0.8/G1245/5f58bc437e486453ab3e4d381593303d2f5f11f6280a30ba79e6767ab448021b_432.profile', './data/tree-rep-profiles_o2o_smallshort/short/6.virut_0.8/G1245/5f58bc437e486453ab3e4d381593303d2f5f11f6280a30ba79e6767ab448021b_432.profile']\n",
      "duplicate ERR: ['./data/tree-rep-profiles_o2o_smallshort/small/6.virut_0.8/G1245/79c11a1d8a13d073c6fe46b7f449eaddf2385b213a3cd472885d2e8226091d72_432.profile', './data/tree-rep-profiles_o2o_smallshort/short/6.virut_0.8/G1245/79c11a1d8a13d073c6fe46b7f449eaddf2385b213a3cd472885d2e8226091d72_432.profile']\n",
      "duplicate ERR: ['./data/tree-rep-profiles_o2o_smallshort/small/6.virut_0.8/G1253/0ed5040083e30275b790966e4e838078b01c9a75462f0da13fea74584a06b1bc_2852.profile', './data/tree-rep-profiles_o2o_smallshort/short/6.virut_0.8/G1253/0ed5040083e30275b790966e4e838078b01c9a75462f0da13fea74584a06b1bc_2852.profile']\n",
      "duplicate ERR: ['./data/tree-rep-profiles_o2o_smallshort/small/6.virut_0.8/G1253/035c26a67d4f6f0a3dbe1b049a4102e421ef3b41f1ee285bcf697bcde43a3cf4_3164.profile', './data/tree-rep-profiles_o2o_smallshort/short/6.virut_0.8/G1253/035c26a67d4f6f0a3dbe1b049a4102e421ef3b41f1ee285bcf697bcde43a3cf4_3164.profile']\n"
     ]
    },
    {
     "name": "stdout",
     "output_type": "stream",
     "text": [
      "duplicate ERR: ['./data/tree-rep-profiles_o2o_smallshort/small/6.virut_0.8/G1147/3792b5b0b4bdc3d33b6a7d7ef3c89c3d1cb91ecff4855f9925d260bda54390aa_3404.profile', './data/tree-rep-profiles_o2o_smallshort/short/6.virut_0.8/G1147/3792b5b0b4bdc3d33b6a7d7ef3c89c3d1cb91ecff4855f9925d260bda54390aa_3404.profile']\n",
      "duplicate ERR: ['./data/tree-rep-profiles_o2o_smallshort/small/6.virut_0.8/G1147/4fc236cb61725377d1acfd8e583ac9cf2b07a03de296eb037e56e65d6dfe5262_2932.profile', './data/tree-rep-profiles_o2o_smallshort/short/6.virut_0.8/G1147/4fc236cb61725377d1acfd8e583ac9cf2b07a03de296eb037e56e65d6dfe5262_2932.profile']\n",
      "duplicate ERR: ['./data/tree-rep-profiles_o2o_smallshort/small/6.virut_0.8/G1108/1a6ce23c6b7c1b51a03b1605b99b41fac9bdea2d9e066721816a11f8cd3bf882_3400.profile', './data/tree-rep-profiles_o2o_smallshort/short/6.virut_0.8/G1108/1a6ce23c6b7c1b51a03b1605b99b41fac9bdea2d9e066721816a11f8cd3bf882_3400.profile']\n",
      "duplicate ERR: ['./data/tree-rep-profiles_o2o_smallshort/small/6.virut_0.8/G1108/db50b7f3fa81ff8b10c95bad03dbea3cb786d0ee2da78025c8f1dcad754651f4_3348.profile', './data/tree-rep-profiles_o2o_smallshort/short/6.virut_0.8/G1108/db50b7f3fa81ff8b10c95bad03dbea3cb786d0ee2da78025c8f1dcad754651f4_3348.profile']\n",
      "duplicate ERR: ['./data/tree-rep-profiles_o2o_smallshort/small/6.virut_0.8/G1050/8736b77c820af72797bc6c97e9817dcb1500bf72a251e14a4b3da0a4f92038be_3300.profile', './data/tree-rep-profiles_o2o_smallshort/short/6.virut_0.8/G1050/8736b77c820af72797bc6c97e9817dcb1500bf72a251e14a4b3da0a4f92038be_3300.profile']\n",
      "duplicate ERR: ['./data/tree-rep-profiles_o2o_smallshort/small/6.virut_0.8/G1050/a2185b97f21f097b4ccf2f8e402c0c1c2a86ca7ca47651c4800afa1e47aca77a_2916.profile', './data/tree-rep-profiles_o2o_smallshort/short/6.virut_0.8/G1050/a2185b97f21f097b4ccf2f8e402c0c1c2a86ca7ca47651c4800afa1e47aca77a_2916.profile']\n",
      "duplicate ERR: ['./data/tree-rep-profiles_o2o_smallshort/small/6.virut_0.8/G1138/7cf68226e5c7fb39a5c3e337aa67060817622f59a993163a5d322278082f7f1c_3176.profile', './data/tree-rep-profiles_o2o_smallshort/short/6.virut_0.8/G1138/7cf68226e5c7fb39a5c3e337aa67060817622f59a993163a5d322278082f7f1c_3176.profile']\n",
      "duplicate ERR: ['./data/tree-rep-profiles_o2o_smallshort/small/6.virut_0.8/G1138/f668152ac7b4db10e9a2fb62bd10ce12ea741304f380dd2e41ba4f05f6a408bb_3360.profile', './data/tree-rep-profiles_o2o_smallshort/short/6.virut_0.8/G1138/f668152ac7b4db10e9a2fb62bd10ce12ea741304f380dd2e41ba4f05f6a408bb_3360.profile']\n",
      "duplicate ERR: ['./data/tree-rep-profiles_o2o_smallshort/small/6.virut_0.8/G1133/c1fb195e76142d9284f89e093f1f8b9318125b62edb911550eabea9eb1aec134_3236.profile', './data/tree-rep-profiles_o2o_smallshort/short/6.virut_0.8/G1133/c1fb195e76142d9284f89e093f1f8b9318125b62edb911550eabea9eb1aec134_3236.profile']\n",
      "duplicate ERR: ['./data/tree-rep-profiles_o2o_smallshort/small/6.virut_0.8/G1133/cc06263d248ad676a3ef761da8bc892dc3ab3da0deb74c625d5bcf401f14e5ea_3280.profile', './data/tree-rep-profiles_o2o_smallshort/short/6.virut_0.8/G1133/cc06263d248ad676a3ef761da8bc892dc3ab3da0deb74c625d5bcf401f14e5ea_3280.profile']\n",
      "duplicate ERR: ['./data/tree-rep-profiles_o2o_smallshort/small/6.virut_0.8/G1195/9a6c5b6c4e7a8118de9c1b443d3f7257960d870dd33e6616b4906bb0de71c325_3372.profile', './data/tree-rep-profiles_o2o_smallshort/short/6.virut_0.8/G1195/9a6c5b6c4e7a8118de9c1b443d3f7257960d870dd33e6616b4906bb0de71c325_3372.profile']\n",
      "duplicate ERR: ['./data/tree-rep-profiles_o2o_smallshort/small/6.virut_0.8/G1195/0abc0a6292c949db3267f214c55cb82402e0ac4980566f52c34fe0f391288f66_3192.profile', './data/tree-rep-profiles_o2o_smallshort/short/6.virut_0.8/G1195/0abc0a6292c949db3267f214c55cb82402e0ac4980566f52c34fe0f391288f66_3192.profile']\n",
      "duplicate ERR: ['./data/tree-rep-profiles_o2o_smallshort/small/6.virut_0.8/G1298/14d3296ae8da256e595bade61307fbf8fe388a83c322f193104ed5b3555b6299_436.profile', './data/tree-rep-profiles_o2o_smallshort/short/6.virut_0.8/G1298/14d3296ae8da256e595bade61307fbf8fe388a83c322f193104ed5b3555b6299_436.profile']\n",
      "duplicate ERR: ['./data/tree-rep-profiles_o2o_smallshort/small/6.virut_0.8/G1298/17514e8770361d51f26754e4b85fe1a65a942ce39d68928f76d09e2267d15843_436.profile', './data/tree-rep-profiles_o2o_smallshort/short/6.virut_0.8/G1298/17514e8770361d51f26754e4b85fe1a65a942ce39d68928f76d09e2267d15843_436.profile']\n",
      "duplicate ERR: ['./data/tree-rep-profiles_o2o_smallshort/small/6.virut_0.8/G1039/c7f04d126973731693d63618dc9653e38abda4c3857dfa427a02ca70770c0f96_3480.profile', './data/tree-rep-profiles_o2o_smallshort/short/6.virut_0.8/G1039/c7f04d126973731693d63618dc9653e38abda4c3857dfa427a02ca70770c0f96_3480.profile']\n",
      "duplicate ERR: ['./data/tree-rep-profiles_o2o_smallshort/small/6.virut_0.8/G1039/c7f04d126973731693d63618dc9653e38abda4c3857dfa427a02ca70770c0f96_3288.profile', './data/tree-rep-profiles_o2o_smallshort/short/6.virut_0.8/G1039/c7f04d126973731693d63618dc9653e38abda4c3857dfa427a02ca70770c0f96_3288.profile']\n",
      "duplicate ERR: ['./data/tree-rep-profiles_o2o_smallshort/small/6.virut_0.8/G1300/fea9cad475500ad80e8169d42e913e5be111decbdc05e5ebf958dd29ca975b8f_3332.profile', './data/tree-rep-profiles_o2o_smallshort/short/6.virut_0.8/G1300/fea9cad475500ad80e8169d42e913e5be111decbdc05e5ebf958dd29ca975b8f_3332.profile']\n",
      "duplicate ERR: ['./data/tree-rep-profiles_o2o_smallshort/small/6.virut_0.8/G1300/0c9d0d7046b733f1411e5a63ff946a954db650ac50adda67d6fde2d502d737e8_2908.profile', './data/tree-rep-profiles_o2o_smallshort/short/6.virut_0.8/G1300/0c9d0d7046b733f1411e5a63ff946a954db650ac50adda67d6fde2d502d737e8_2908.profile']\n",
      "duplicate ERR: ['./data/tree-rep-profiles_o2o_smallshort/small/6.virut_0.8/G1128/d7685a6fa4b631f691bb0d3823009092dbacbf7b955d80bbea453229b3073b17_3264.profile', './data/tree-rep-profiles_o2o_smallshort/short/6.virut_0.8/G1128/d7685a6fa4b631f691bb0d3823009092dbacbf7b955d80bbea453229b3073b17_3264.profile']\n",
      "duplicate ERR: ['./data/tree-rep-profiles_o2o_smallshort/small/6.virut_0.8/G1128/a93c72109f539565d664eac3a2726881c088d07b4e03355c14a42335a2852018_3196.profile', './data/tree-rep-profiles_o2o_smallshort/short/6.virut_0.8/G1128/a93c72109f539565d664eac3a2726881c088d07b4e03355c14a42335a2852018_3196.profile']\n",
      "duplicate ERR: ['./data/tree-rep-profiles_o2o_smallshort/small/6.virut_0.8/G1051/a1da56f9d8eec694db717c48e8db55b77809c2ea2d2926bf27206005e0b6adfb_3324.profile', './data/tree-rep-profiles_o2o_smallshort/short/6.virut_0.8/G1051/a1da56f9d8eec694db717c48e8db55b77809c2ea2d2926bf27206005e0b6adfb_3324.profile']\n",
      "duplicate ERR: ['./data/tree-rep-profiles_o2o_smallshort/small/6.virut_0.8/G1051/0d61aa7e221072b1ae90f4a5421c931fd1caa1b18e8f26fa88c5d03edbd36ed2_3008.profile', './data/tree-rep-profiles_o2o_smallshort/short/6.virut_0.8/G1051/0d61aa7e221072b1ae90f4a5421c931fd1caa1b18e8f26fa88c5d03edbd36ed2_3008.profile']\n",
      "duplicate ERR: ['./data/tree-rep-profiles_o2o_smallshort/small/6.virut_0.8/G1243/36d0648a48e50b9564e02309d48dd97a9bcc65831ae12d44ffa778cadb297423_2932.profile', './data/tree-rep-profiles_o2o_smallshort/short/6.virut_0.8/G1243/36d0648a48e50b9564e02309d48dd97a9bcc65831ae12d44ffa778cadb297423_2932.profile']\n",
      "duplicate ERR: ['./data/tree-rep-profiles_o2o_smallshort/small/6.virut_0.8/G1243/be25ce0769b98f77b591ca97654de21e8db7c5b24bf5da59b82c8016f64ff5e9_2908.profile', './data/tree-rep-profiles_o2o_smallshort/short/6.virut_0.8/G1243/be25ce0769b98f77b591ca97654de21e8db7c5b24bf5da59b82c8016f64ff5e9_2908.profile']\n",
      "duplicate ERR: ['./data/tree-rep-profiles_o2o_smallshort/small/6.virut_0.8/G1121/62b0b6aa423af8e96f6d4652c73fcace4ed2d7b3e0efe1f42e0cc02cd0dd836c_3148.profile', './data/tree-rep-profiles_o2o_smallshort/short/6.virut_0.8/G1121/62b0b6aa423af8e96f6d4652c73fcace4ed2d7b3e0efe1f42e0cc02cd0dd836c_3148.profile']\n",
      "duplicate ERR: ['./data/tree-rep-profiles_o2o_smallshort/small/6.virut_0.8/G1121/588c7397eccb79ebf9e8600aab585346cbbe4f9b29cb8390a427ac8e54d9abb6_3272.profile', './data/tree-rep-profiles_o2o_smallshort/short/6.virut_0.8/G1121/588c7397eccb79ebf9e8600aab585346cbbe4f9b29cb8390a427ac8e54d9abb6_3272.profile']\n",
      "duplicate ERR: ['./data/tree-rep-profiles_o2o_smallshort/small/6.virut_0.8/G1030/0d696195eae567ddd90a93e942bee1260d580695185320c1ba3f6a2653bd9def_3312.profile', './data/tree-rep-profiles_o2o_smallshort/short/6.virut_0.8/G1030/0d696195eae567ddd90a93e942bee1260d580695185320c1ba3f6a2653bd9def_3312.profile']\n",
      "duplicate ERR: ['./data/tree-rep-profiles_o2o_smallshort/small/6.virut_0.8/G1030/059f8d7fc2ca3d5064d8680e1487e2731ac9bb001d14f65c1183b6f058330391_2992.profile', './data/tree-rep-profiles_o2o_smallshort/short/6.virut_0.8/G1030/059f8d7fc2ca3d5064d8680e1487e2731ac9bb001d14f65c1183b6f058330391_2992.profile']\n",
      "duplicate ERR: ['./data/tree-rep-profiles_o2o_smallshort/small/6.virut_0.8/G1026/5a50791f059edcb257426127ba8fa789bd53bd7180977f94eafdfdd045fd9e81_3360.profile', './data/tree-rep-profiles_o2o_smallshort/short/6.virut_0.8/G1026/5a50791f059edcb257426127ba8fa789bd53bd7180977f94eafdfdd045fd9e81_3360.profile']\n",
      "duplicate ERR: ['./data/tree-rep-profiles_o2o_smallshort/small/6.virut_0.8/G1026/28cfc2a01447bbfe2ae82caf199d6ea08ed1761f5f13f835a29c7a281be0ce51_3384.profile', './data/tree-rep-profiles_o2o_smallshort/short/6.virut_0.8/G1026/28cfc2a01447bbfe2ae82caf199d6ea08ed1761f5f13f835a29c7a281be0ce51_3384.profile']\n",
      "duplicate ERR: ['./data/tree-rep-profiles_o2o_smallshort/small/6.virut_0.8/G1233/4847a878c587a089068b3638200912737455599060c8c2778051416ea04dcaa9_3444.profile', './data/tree-rep-profiles_o2o_smallshort/short/6.virut_0.8/G1233/4847a878c587a089068b3638200912737455599060c8c2778051416ea04dcaa9_3444.profile']\n",
      "duplicate ERR: ['./data/tree-rep-profiles_o2o_smallshort/small/6.virut_0.8/G1233/00b37f2d1424f6e09de780932342d37fa27dcb24fd7e2bb7478bf3241c6367ff_3452.profile', './data/tree-rep-profiles_o2o_smallshort/short/6.virut_0.8/G1233/00b37f2d1424f6e09de780932342d37fa27dcb24fd7e2bb7478bf3241c6367ff_3452.profile']\n",
      "duplicate ERR: ['./data/tree-rep-profiles_o2o_smallshort/small/6.virut_0.8/G1141/fd8eb960d729fe79f598589fdb71e87e6f8ff079aaa3179a3af543f9d0073541_3288.profile', './data/tree-rep-profiles_o2o_smallshort/short/6.virut_0.8/G1141/fd8eb960d729fe79f598589fdb71e87e6f8ff079aaa3179a3af543f9d0073541_3288.profile']\n",
      "duplicate ERR: ['./data/tree-rep-profiles_o2o_smallshort/small/6.virut_0.8/G1141/fd8eb960d729fe79f598589fdb71e87e6f8ff079aaa3179a3af543f9d0073541_3396.profile', './data/tree-rep-profiles_o2o_smallshort/short/6.virut_0.8/G1141/fd8eb960d729fe79f598589fdb71e87e6f8ff079aaa3179a3af543f9d0073541_3396.profile']\n"
     ]
    },
    {
     "name": "stdout",
     "output_type": "stream",
     "text": [
      "duplicate ERR: ['./data/tree-rep-profiles_o2o_smallshort/small/6.virut_0.8/G1219/05e383167c00d460ffe707d20136086776153df3ed2babc608725a8ad9d3f29f_3256.profile', './data/tree-rep-profiles_o2o_smallshort/short/6.virut_0.8/G1219/05e383167c00d460ffe707d20136086776153df3ed2babc608725a8ad9d3f29f_3256.profile']\n",
      "duplicate ERR: ['./data/tree-rep-profiles_o2o_smallshort/small/6.virut_0.8/G1219/f0e0f3988f67ba985e0b67a973aad38d861ff70e89f67d2eeb210cdaeea06988_3292.profile', './data/tree-rep-profiles_o2o_smallshort/short/6.virut_0.8/G1219/f0e0f3988f67ba985e0b67a973aad38d861ff70e89f67d2eeb210cdaeea06988_3292.profile']\n",
      "duplicate ERR: ['./data/tree-rep-profiles_o2o_smallshort/small/6.virut_0.8/G1056/1960c9863315e690c89713d96502a8d0e57e25f2065b96f383c7db30c5577910_3292.profile', './data/tree-rep-profiles_o2o_smallshort/short/6.virut_0.8/G1056/1960c9863315e690c89713d96502a8d0e57e25f2065b96f383c7db30c5577910_3292.profile']\n",
      "duplicate ERR: ['./data/tree-rep-profiles_o2o_smallshort/small/6.virut_0.8/G1056/1960c9863315e690c89713d96502a8d0e57e25f2065b96f383c7db30c5577910_2832.profile', './data/tree-rep-profiles_o2o_smallshort/short/6.virut_0.8/G1056/1960c9863315e690c89713d96502a8d0e57e25f2065b96f383c7db30c5577910_2832.profile']\n",
      "duplicate ERR: ['./data/tree-rep-profiles_o2o_smallshort/small/6.virut_0.8/G1112/e1a9a4b06adc168af5cc72b32947f0b4e7d92c14e26f10d522b589ad82dc8626_3016.profile', './data/tree-rep-profiles_o2o_smallshort/short/6.virut_0.8/G1112/e1a9a4b06adc168af5cc72b32947f0b4e7d92c14e26f10d522b589ad82dc8626_3016.profile']\n",
      "duplicate ERR: ['./data/tree-rep-profiles_o2o_smallshort/small/6.virut_0.8/G1112/e1a9a4b06adc168af5cc72b32947f0b4e7d92c14e26f10d522b589ad82dc8626_3256.profile', './data/tree-rep-profiles_o2o_smallshort/short/6.virut_0.8/G1112/e1a9a4b06adc168af5cc72b32947f0b4e7d92c14e26f10d522b589ad82dc8626_3256.profile']\n",
      "duplicate ERR: ['./data/tree-rep-profiles_o2o_smallshort/small/6.virut_0.8/G1088/217f9978af581960e629a085140673774136e8402a480b252dc8dbc4a91846ab_3404.profile', './data/tree-rep-profiles_o2o_smallshort/short/6.virut_0.8/G1088/217f9978af581960e629a085140673774136e8402a480b252dc8dbc4a91846ab_3404.profile']\n",
      "duplicate ERR: ['./data/tree-rep-profiles_o2o_smallshort/small/6.virut_0.8/G1088/8d05d7bf3663a07beef6bfb1a87a3d55a3b6963e69760c22218d349ede1df040_3312.profile', './data/tree-rep-profiles_o2o_smallshort/short/6.virut_0.8/G1088/8d05d7bf3663a07beef6bfb1a87a3d55a3b6963e69760c22218d349ede1df040_3312.profile']\n",
      "duplicate ERR: ['./data/tree-rep-profiles_o2o_smallshort/small/6.virut_0.8/G1059/2f8f5bcf824a0824346492ca2be1e0088917f1ebe1f8c9578df58c9e3fcc9c85_3264.profile', './data/tree-rep-profiles_o2o_smallshort/short/6.virut_0.8/G1059/2f8f5bcf824a0824346492ca2be1e0088917f1ebe1f8c9578df58c9e3fcc9c85_3264.profile']\n",
      "duplicate ERR: ['./data/tree-rep-profiles_o2o_smallshort/small/6.virut_0.8/G1059/2f8f5bcf824a0824346492ca2be1e0088917f1ebe1f8c9578df58c9e3fcc9c85_3212.profile', './data/tree-rep-profiles_o2o_smallshort/short/6.virut_0.8/G1059/2f8f5bcf824a0824346492ca2be1e0088917f1ebe1f8c9578df58c9e3fcc9c85_3212.profile']\n",
      "duplicate ERR: ['./data/tree-rep-profiles_o2o_smallshort/small/6.virut_0.8/G1280/c6537d56cd084cb853505a58c4665481d267a24354f10dde20a30063b93a82aa_3012.profile', './data/tree-rep-profiles_o2o_smallshort/short/6.virut_0.8/G1280/c6537d56cd084cb853505a58c4665481d267a24354f10dde20a30063b93a82aa_3012.profile']\n",
      "duplicate ERR: ['./data/tree-rep-profiles_o2o_smallshort/small/6.virut_0.8/G1280/c6537d56cd084cb853505a58c4665481d267a24354f10dde20a30063b93a82aa_3024.profile', './data/tree-rep-profiles_o2o_smallshort/short/6.virut_0.8/G1280/c6537d56cd084cb853505a58c4665481d267a24354f10dde20a30063b93a82aa_3024.profile']\n",
      "duplicate ERR: ['./data/tree-rep-profiles_o2o_smallshort/small/6.virut_0.8/G1292/bd6350fc0cd0f1973f798d6b945585b960af713fb8e1b88302572735a3eb489f_3176.profile', './data/tree-rep-profiles_o2o_smallshort/short/6.virut_0.8/G1292/bd6350fc0cd0f1973f798d6b945585b960af713fb8e1b88302572735a3eb489f_3176.profile']\n",
      "duplicate ERR: ['./data/tree-rep-profiles_o2o_smallshort/small/6.virut_0.8/G1292/925075b4a22436e3d185bdbf9f00f01a0e17df32f010cece756f503916cb6750_3028.profile', './data/tree-rep-profiles_o2o_smallshort/short/6.virut_0.8/G1292/925075b4a22436e3d185bdbf9f00f01a0e17df32f010cece756f503916cb6750_3028.profile']\n",
      "duplicate ERR: ['./data/tree-rep-profiles_o2o_smallshort/small/6.virut_0.8/G1198/209e74819769f2a0904b712470b43e695b9fa432bf18bc5a14ccc36d24f5b4f7_3264.profile', './data/tree-rep-profiles_o2o_smallshort/short/6.virut_0.8/G1198/209e74819769f2a0904b712470b43e695b9fa432bf18bc5a14ccc36d24f5b4f7_3264.profile']\n",
      "duplicate ERR: ['./data/tree-rep-profiles_o2o_smallshort/small/6.virut_0.8/G1198/cf50ad9ffe0acf835eadfc7da1f8da4ea3ddd5f44c1f47638527c1c5db93efb7_3304.profile', './data/tree-rep-profiles_o2o_smallshort/short/6.virut_0.8/G1198/cf50ad9ffe0acf835eadfc7da1f8da4ea3ddd5f44c1f47638527c1c5db93efb7_3304.profile']\n",
      "duplicate ERR: ['./data/tree-rep-profiles_o2o_smallshort/small/6.virut_0.8/G1140/e1a9a4b06adc168af5cc72b32947f0b4e7d92c14e26f10d522b589ad82dc8626_3212.profile', './data/tree-rep-profiles_o2o_smallshort/short/6.virut_0.8/G1140/e1a9a4b06adc168af5cc72b32947f0b4e7d92c14e26f10d522b589ad82dc8626_3212.profile']\n",
      "duplicate ERR: ['./data/tree-rep-profiles_o2o_smallshort/small/6.virut_0.8/G1140/e1a9a4b06adc168af5cc72b32947f0b4e7d92c14e26f10d522b589ad82dc8626_2964.profile', './data/tree-rep-profiles_o2o_smallshort/short/6.virut_0.8/G1140/e1a9a4b06adc168af5cc72b32947f0b4e7d92c14e26f10d522b589ad82dc8626_2964.profile']\n",
      "duplicate ERR: ['./data/tree-rep-profiles_o2o_smallshort/small/6.virut_0.8/G1169/994c94a2bb5bde35c1795076d11bcc8702bc6fb76ff217e1324016513ac5a260_3260.profile', './data/tree-rep-profiles_o2o_smallshort/short/6.virut_0.8/G1169/994c94a2bb5bde35c1795076d11bcc8702bc6fb76ff217e1324016513ac5a260_3260.profile']\n",
      "duplicate ERR: ['./data/tree-rep-profiles_o2o_smallshort/small/6.virut_0.8/G1169/82bc9b16920a26f03ac128f78a2f04bc7b13fbf6e53accc39549e4fd539b4c43_3404.profile', './data/tree-rep-profiles_o2o_smallshort/short/6.virut_0.8/G1169/82bc9b16920a26f03ac128f78a2f04bc7b13fbf6e53accc39549e4fd539b4c43_3404.profile']\n",
      "duplicate ERR: ['./data/tree-rep-profiles_o2o_smallshort/small/6.virut_0.8/G1089/3d9435d08fb59b3e0693589fbe9324a5c1c0f4e0d298bedd5b132f33ab9a4f65_3248.profile', './data/tree-rep-profiles_o2o_smallshort/short/6.virut_0.8/G1089/3d9435d08fb59b3e0693589fbe9324a5c1c0f4e0d298bedd5b132f33ab9a4f65_3248.profile']\n",
      "duplicate ERR: ['./data/tree-rep-profiles_o2o_smallshort/small/6.virut_0.8/G1089/3d9435d08fb59b3e0693589fbe9324a5c1c0f4e0d298bedd5b132f33ab9a4f65_3232.profile', './data/tree-rep-profiles_o2o_smallshort/short/6.virut_0.8/G1089/3d9435d08fb59b3e0693589fbe9324a5c1c0f4e0d298bedd5b132f33ab9a4f65_3232.profile']\n",
      "duplicate ERR: ['./data/tree-rep-profiles_o2o_smallshort/small/6.virut_0.8/G1107/f0d94caeb0f280fc43f67c5ca76e4c98fb40e37aadec093ddd57b842d13d2fd5_3308.profile', './data/tree-rep-profiles_o2o_smallshort/short/6.virut_0.8/G1107/f0d94caeb0f280fc43f67c5ca76e4c98fb40e37aadec093ddd57b842d13d2fd5_3308.profile']\n",
      "duplicate ERR: ['./data/tree-rep-profiles_o2o_smallshort/small/6.virut_0.8/G1107/02648fe09f9dc6fa158c465822198e46a1a9c02df06f58bb9a0e075727fa257e_3260.profile', './data/tree-rep-profiles_o2o_smallshort/short/6.virut_0.8/G1107/02648fe09f9dc6fa158c465822198e46a1a9c02df06f58bb9a0e075727fa257e_3260.profile']\n",
      "duplicate ERR: ['./data/tree-rep-profiles_o2o_smallshort/small/6.virut_0.8/G1095/1960c9863315e690c89713d96502a8d0e57e25f2065b96f383c7db30c5577910_2992.profile', './data/tree-rep-profiles_o2o_smallshort/short/6.virut_0.8/G1095/1960c9863315e690c89713d96502a8d0e57e25f2065b96f383c7db30c5577910_2992.profile']\n",
      "duplicate ERR: ['./data/tree-rep-profiles_o2o_smallshort/small/6.virut_0.8/G1095/1960c9863315e690c89713d96502a8d0e57e25f2065b96f383c7db30c5577910_3416.profile', './data/tree-rep-profiles_o2o_smallshort/short/6.virut_0.8/G1095/1960c9863315e690c89713d96502a8d0e57e25f2065b96f383c7db30c5577910_3416.profile']\n",
      "duplicate ERR: ['./data/tree-rep-profiles_o2o_smallshort/small/6.virut_0.8/G1199/0426b04a07d3c0a73387fa6f5b8480c1f9c98d557be1dcd26e97e1476db7cadb_444.profile', './data/tree-rep-profiles_o2o_smallshort/short/6.virut_0.8/G1199/0426b04a07d3c0a73387fa6f5b8480c1f9c98d557be1dcd26e97e1476db7cadb_444.profile']\n",
      "duplicate ERR: ['./data/tree-rep-profiles_o2o_smallshort/small/6.virut_0.8/G1199/6e340c24561098b8e689853953cfde5106190e5b98c53741342a5ed93fd97600_428.profile', './data/tree-rep-profiles_o2o_smallshort/short/6.virut_0.8/G1199/6e340c24561098b8e689853953cfde5106190e5b98c53741342a5ed93fd97600_428.profile']\n",
      "duplicate ERR: ['./data/tree-rep-profiles_o2o_smallshort/small/6.virut_0.8/G1028/440c34ef1664ea82608e68f43cff8bd346754afb9784cf983cd04878ad89e462_3228.profile', './data/tree-rep-profiles_o2o_smallshort/short/6.virut_0.8/G1028/440c34ef1664ea82608e68f43cff8bd346754afb9784cf983cd04878ad89e462_3228.profile']\n",
      "duplicate ERR: ['./data/tree-rep-profiles_o2o_smallshort/small/6.virut_0.8/G1028/440c34ef1664ea82608e68f43cff8bd346754afb9784cf983cd04878ad89e462_2908.profile', './data/tree-rep-profiles_o2o_smallshort/short/6.virut_0.8/G1028/440c34ef1664ea82608e68f43cff8bd346754afb9784cf983cd04878ad89e462_2908.profile']\n",
      "duplicate ERR: ['./data/tree-rep-profiles_o2o_smallshort/small/6.virut_0.8/G1132/1faf8f02ab60dfc8553ae8b70e2aaa8df2b32ac094f4b88b336637efe591328e_3380.profile', './data/tree-rep-profiles_o2o_smallshort/short/6.virut_0.8/G1132/1faf8f02ab60dfc8553ae8b70e2aaa8df2b32ac094f4b88b336637efe591328e_3380.profile']\n",
      "duplicate ERR: ['./data/tree-rep-profiles_o2o_smallshort/small/6.virut_0.8/G1132/1faf8f02ab60dfc8553ae8b70e2aaa8df2b32ac094f4b88b336637efe591328e_3192.profile', './data/tree-rep-profiles_o2o_smallshort/short/6.virut_0.8/G1132/1faf8f02ab60dfc8553ae8b70e2aaa8df2b32ac094f4b88b336637efe591328e_3192.profile']\n",
      "duplicate ERR: ['./data/tree-rep-profiles_o2o_smallshort/small/6.virut_0.8/G1079/3d9435d08fb59b3e0693589fbe9324a5c1c0f4e0d298bedd5b132f33ab9a4f65_3212.profile', './data/tree-rep-profiles_o2o_smallshort/short/6.virut_0.8/G1079/3d9435d08fb59b3e0693589fbe9324a5c1c0f4e0d298bedd5b132f33ab9a4f65_3212.profile']\n"
     ]
    },
    {
     "name": "stdout",
     "output_type": "stream",
     "text": [
      "duplicate ERR: ['./data/tree-rep-profiles_o2o_smallshort/small/6.virut_0.8/G1079/3d9435d08fb59b3e0693589fbe9324a5c1c0f4e0d298bedd5b132f33ab9a4f65_3220.profile', './data/tree-rep-profiles_o2o_smallshort/short/6.virut_0.8/G1079/3d9435d08fb59b3e0693589fbe9324a5c1c0f4e0d298bedd5b132f33ab9a4f65_3220.profile']\n",
      "duplicate ERR: ['./data/tree-rep-profiles_o2o_smallshort/small/6.virut_0.8/G1125/4088d2ed51cfa16c2d478daf496d1118209291221ac19e2b6fd4094762469ff2_3272.profile', './data/tree-rep-profiles_o2o_smallshort/short/6.virut_0.8/G1125/4088d2ed51cfa16c2d478daf496d1118209291221ac19e2b6fd4094762469ff2_3272.profile']\n",
      "duplicate ERR: ['./data/tree-rep-profiles_o2o_smallshort/small/6.virut_0.8/G1125/46d4906498be934266cac385d0a2197bbb342ed088a080403c65be7d736d25cb_3164.profile', './data/tree-rep-profiles_o2o_smallshort/short/6.virut_0.8/G1125/46d4906498be934266cac385d0a2197bbb342ed088a080403c65be7d736d25cb_3164.profile']\n",
      "duplicate ERR: ['./data/tree-rep-profiles_o2o_smallshort/small/6.virut_0.8/G1215/7fa63e29839f814e0aa980502952211652f858ac784cd2b2626107a84b1b45fa_3296.profile', './data/tree-rep-profiles_o2o_smallshort/short/6.virut_0.8/G1215/7fa63e29839f814e0aa980502952211652f858ac784cd2b2626107a84b1b45fa_3296.profile']\n",
      "duplicate ERR: ['./data/tree-rep-profiles_o2o_smallshort/small/6.virut_0.8/G1215/88d023d12b2515bce531dc8d27b831d20b0557e232d219e3bc85f073ff116855_3284.profile', './data/tree-rep-profiles_o2o_smallshort/short/6.virut_0.8/G1215/88d023d12b2515bce531dc8d27b831d20b0557e232d219e3bc85f073ff116855_3284.profile']\n",
      "duplicate ERR: ['./data/tree-rep-profiles_o2o_smallshort/small/6.virut_0.8/G1290/32a8ae9469963e0a635e368e9aadd157f84dd7b3c0b77b375d88d7b75b314078_3296.profile', './data/tree-rep-profiles_o2o_smallshort/short/6.virut_0.8/G1290/32a8ae9469963e0a635e368e9aadd157f84dd7b3c0b77b375d88d7b75b314078_3296.profile']\n",
      "duplicate ERR: ['./data/tree-rep-profiles_o2o_smallshort/small/6.virut_0.8/G1290/7425f5124601253028187520bbba11cec55d348bdee9e3ff75b2dd3a78301399_3396.profile', './data/tree-rep-profiles_o2o_smallshort/short/6.virut_0.8/G1290/7425f5124601253028187520bbba11cec55d348bdee9e3ff75b2dd3a78301399_3396.profile']\n",
      "duplicate ERR: ['./data/tree-rep-profiles_o2o_smallshort/small/6.virut_0.8/G1117/625e18fed7c7d4a8d052fcda8acd42ec11cb0faa97180e8cdbf99657c1c90689_3300.profile', './data/tree-rep-profiles_o2o_smallshort/short/6.virut_0.8/G1117/625e18fed7c7d4a8d052fcda8acd42ec11cb0faa97180e8cdbf99657c1c90689_3300.profile']\n"
     ]
    },
    {
     "name": "stderr",
     "output_type": "stream",
     "text": [
      "\r",
      " 25%|██▌       | 40/159 [00:18<01:20,  1.49it/s]"
     ]
    },
    {
     "name": "stdout",
     "output_type": "stream",
     "text": [
      "duplicate ERR: ['./data/tree-rep-profiles_o2o_smallshort/small/6.virut_0.8/G1117/c6537d56cd084cb853505a58c4665481d267a24354f10dde20a30063b93a82aa_2880.profile', './data/tree-rep-profiles_o2o_smallshort/short/6.virut_0.8/G1117/c6537d56cd084cb853505a58c4665481d267a24354f10dde20a30063b93a82aa_2880.profile']\n",
      "duplicate ERR: ['./data/tree-rep-profiles_o2o_smallshort/small/6.virut_0.8/G1084/54d65b42476d29c3060b63399b1deeca32ba8fcc22d1d8a9f01eb0fb9c413457_2928.profile', './data/tree-rep-profiles_o2o_smallshort/short/6.virut_0.8/G1084/54d65b42476d29c3060b63399b1deeca32ba8fcc22d1d8a9f01eb0fb9c413457_2928.profile']\n",
      "duplicate ERR: ['./data/tree-rep-profiles_o2o_smallshort/small/6.virut_0.8/G1084/5f9d7e7e6530e63ae2ff35947ae818c85a64e061425083d0955283e0a2a82d9a_3348.profile', './data/tree-rep-profiles_o2o_smallshort/short/6.virut_0.8/G1084/5f9d7e7e6530e63ae2ff35947ae818c85a64e061425083d0955283e0a2a82d9a_3348.profile']\n",
      "duplicate ERR: ['./data/tree-rep-profiles_o2o_smallshort/small/59.installrex_0.8/G87/df6c89f0f5a806ade5e44edaa92bf446fbcbe63dbbbfb249fa014368103e1037_3444.profile', './data/tree-rep-profiles_o2o_smallshort/short/59.installrex_0.8/G87/df6c89f0f5a806ade5e44edaa92bf446fbcbe63dbbbfb249fa014368103e1037_3444.profile']\n",
      "duplicate ERR: ['./data/tree-rep-profiles_o2o_smallshort/small/59.installrex_0.8/G87/df6c89f0f5a806ade5e44edaa92bf446fbcbe63dbbbfb249fa014368103e1037_3392.profile', './data/tree-rep-profiles_o2o_smallshort/short/59.installrex_0.8/G87/df6c89f0f5a806ade5e44edaa92bf446fbcbe63dbbbfb249fa014368103e1037_3392.profile']\n",
      "duplicate ERR: ['./data/tree-rep-profiles_o2o_smallshort/small/59.installrex_0.8/G88/8eb11cd4fb9ffd7ed8a41617137b5b16cc336fcd0f1bee714854afdd2850085c_2840.profile', './data/tree-rep-profiles_o2o_smallshort/short/59.installrex_0.8/G88/8eb11cd4fb9ffd7ed8a41617137b5b16cc336fcd0f1bee714854afdd2850085c_2840.profile']\n",
      "duplicate ERR: ['./data/tree-rep-profiles_o2o_smallshort/small/59.installrex_0.8/G88/066cb0c12119b951c5789da53a4054c335024c020b9f6fdb50c5ea4db98775c0_3392.profile', './data/tree-rep-profiles_o2o_smallshort/short/59.installrex_0.8/G88/066cb0c12119b951c5789da53a4054c335024c020b9f6fdb50c5ea4db98775c0_3392.profile']\n",
      "duplicate ERR: ['./data/tree-rep-profiles_o2o_smallshort/small/59.installrex_0.8/G91/6d778e9f99f4792c9b78d82b786f75909207ed075316356c8d65a44c36422f68_3444.profile', './data/tree-rep-profiles_o2o_smallshort/short/59.installrex_0.8/G91/6d778e9f99f4792c9b78d82b786f75909207ed075316356c8d65a44c36422f68_3444.profile']\n",
      "duplicate ERR: ['./data/tree-rep-profiles_o2o_smallshort/small/59.installrex_0.8/G91/6d778e9f99f4792c9b78d82b786f75909207ed075316356c8d65a44c36422f68_3392.profile', './data/tree-rep-profiles_o2o_smallshort/short/59.installrex_0.8/G91/6d778e9f99f4792c9b78d82b786f75909207ed075316356c8d65a44c36422f68_3392.profile']\n",
      "duplicate ERR: ['./data/tree-rep-profiles_o2o_smallshort/small/59.installrex_0.8/G89/df6c89f0f5a806ade5e44edaa92bf446fbcbe63dbbbfb249fa014368103e1037_3440.profile', './data/tree-rep-profiles_o2o_smallshort/short/59.installrex_0.8/G89/df6c89f0f5a806ade5e44edaa92bf446fbcbe63dbbbfb249fa014368103e1037_3440.profile']\n",
      "duplicate ERR: ['./data/tree-rep-profiles_o2o_smallshort/small/59.installrex_0.8/G89/df6c89f0f5a806ade5e44edaa92bf446fbcbe63dbbbfb249fa014368103e1037_3460.profile', './data/tree-rep-profiles_o2o_smallshort/short/59.installrex_0.8/G89/df6c89f0f5a806ade5e44edaa92bf446fbcbe63dbbbfb249fa014368103e1037_3460.profile']\n",
      "duplicate ERR: ['./data/tree-rep-profiles_o2o_smallshort/small/59.installrex_0.8/G76/75d9e7933e998c1b8f18c1af22ca61635389cd30483354b58d0c95b877251e08_3344.profile', './data/tree-rep-profiles_o2o_smallshort/short/59.installrex_0.8/G76/75d9e7933e998c1b8f18c1af22ca61635389cd30483354b58d0c95b877251e08_3344.profile']\n",
      "duplicate ERR: ['./data/tree-rep-profiles_o2o_smallshort/small/59.installrex_0.8/G76/846ab1bacf540649db33bc1c996f11a5479c72304e1af534531c1faefe07d06b_2880.profile', './data/tree-rep-profiles_o2o_smallshort/short/59.installrex_0.8/G76/846ab1bacf540649db33bc1c996f11a5479c72304e1af534531c1faefe07d06b_2880.profile']\n",
      "duplicate ERR: ['./data/tree-rep-profiles_o2o_smallshort/small/59.installrex_0.8/G90/df6c89f0f5a806ade5e44edaa92bf446fbcbe63dbbbfb249fa014368103e1037_3364.profile', './data/tree-rep-profiles_o2o_smallshort/short/59.installrex_0.8/G90/df6c89f0f5a806ade5e44edaa92bf446fbcbe63dbbbfb249fa014368103e1037_3364.profile']\n",
      "duplicate ERR: ['./data/tree-rep-profiles_o2o_smallshort/small/59.installrex_0.8/G90/df6c89f0f5a806ade5e44edaa92bf446fbcbe63dbbbfb249fa014368103e1037_3336.profile', './data/tree-rep-profiles_o2o_smallshort/short/59.installrex_0.8/G90/df6c89f0f5a806ade5e44edaa92bf446fbcbe63dbbbfb249fa014368103e1037_3336.profile']\n",
      "duplicate ERR: ['./data/tree-rep-profiles_o2o_smallshort/small/59.installrex_0.8/G77/df6c89f0f5a806ade5e44edaa92bf446fbcbe63dbbbfb249fa014368103e1037_3540.profile', './data/tree-rep-profiles_o2o_smallshort/short/59.installrex_0.8/G77/df6c89f0f5a806ade5e44edaa92bf446fbcbe63dbbbfb249fa014368103e1037_3540.profile']\n",
      "duplicate ERR: ['./data/tree-rep-profiles_o2o_smallshort/small/59.installrex_0.8/G77/df6c89f0f5a806ade5e44edaa92bf446fbcbe63dbbbfb249fa014368103e1037_3560.profile', './data/tree-rep-profiles_o2o_smallshort/short/59.installrex_0.8/G77/df6c89f0f5a806ade5e44edaa92bf446fbcbe63dbbbfb249fa014368103e1037_3560.profile']\n",
      "duplicate ERR: ['./data/tree-rep-profiles_o2o_smallshort/small/59.installrex_0.8/G78/df6c89f0f5a806ade5e44edaa92bf446fbcbe63dbbbfb249fa014368103e1037_3240.profile', './data/tree-rep-profiles_o2o_smallshort/short/59.installrex_0.8/G78/df6c89f0f5a806ade5e44edaa92bf446fbcbe63dbbbfb249fa014368103e1037_3240.profile']\n"
     ]
    },
    {
     "name": "stderr",
     "output_type": "stream",
     "text": [
      "\r",
      " 26%|██▌       | 41/159 [00:19<01:09,  1.70it/s]"
     ]
    },
    {
     "name": "stdout",
     "output_type": "stream",
     "text": [
      "duplicate ERR: ['./data/tree-rep-profiles_o2o_smallshort/small/59.installrex_0.8/G78/df6c89f0f5a806ade5e44edaa92bf446fbcbe63dbbbfb249fa014368103e1037_3264.profile', './data/tree-rep-profiles_o2o_smallshort/short/59.installrex_0.8/G78/df6c89f0f5a806ade5e44edaa92bf446fbcbe63dbbbfb249fa014368103e1037_3264.profile']\n",
      "duplicate ERR: ['./data/tree-rep-profiles_o2o_smallshort/small/122.installbrain_0.8/G17/00da7482ce7e416c21999efdd8fa1de31bf1ab2cb4620e35eed0919ce22463a0_2960.profile', './data/tree-rep-profiles_o2o_smallshort/short/122.installbrain_0.8/G17/00da7482ce7e416c21999efdd8fa1de31bf1ab2cb4620e35eed0919ce22463a0_2960.profile']\n",
      "duplicate ERR: ['./data/tree-rep-profiles_o2o_smallshort/small/122.installbrain_0.8/G17/09a587ebab8193683b89c84b2a2470489373f8c5188ef82f9a55bfe5d35b4c90_2884.profile', './data/tree-rep-profiles_o2o_smallshort/short/122.installbrain_0.8/G17/09a587ebab8193683b89c84b2a2470489373f8c5188ef82f9a55bfe5d35b4c90_2884.profile']\n",
      "duplicate ERR: ['./data/tree-rep-profiles_o2o_smallshort/small/122.installbrain_0.8/G18/0eacf566cea4208be66bd389d098377754bf7a557ba257da79f6cf3962f03976_2980.profile', './data/tree-rep-profiles_o2o_smallshort/short/122.installbrain_0.8/G18/0eacf566cea4208be66bd389d098377754bf7a557ba257da79f6cf3962f03976_2980.profile']\n",
      "duplicate ERR: ['./data/tree-rep-profiles_o2o_smallshort/small/122.installbrain_0.8/G18/0f81fd579af8501c573212f2cdf9cc0285ca3206e5b7686c5d769a9fde12bb09_3320.profile', './data/tree-rep-profiles_o2o_smallshort/short/122.installbrain_0.8/G18/0f81fd579af8501c573212f2cdf9cc0285ca3206e5b7686c5d769a9fde12bb09_3320.profile']\n",
      "duplicate ERR: ['./data/tree-rep-profiles_o2o_smallshort/small/91.loring_0.8/G32/11fda895222e03db7be8788f21109b92d685877fffb05e027acf1ff0e57d7fc0_3284.profile', './data/tree-rep-profiles_o2o_smallshort/short/91.loring_0.8/G32/11fda895222e03db7be8788f21109b92d685877fffb05e027acf1ff0e57d7fc0_3284.profile']\n",
      "duplicate ERR: ['./data/tree-rep-profiles_o2o_smallshort/small/91.loring_0.8/G32/07e70a2e8b01cb313c35af616c152ab6903c1e3c347a6b218a453af482c86baa_2864.profile', './data/tree-rep-profiles_o2o_smallshort/short/91.loring_0.8/G32/07e70a2e8b01cb313c35af616c152ab6903c1e3c347a6b218a453af482c86baa_2864.profile']\n",
      "duplicate ERR: ['./data/tree-rep-profiles_o2o_smallshort/small/91.loring_0.8/G34/091ddc720fbf18a3544225e6ad07839fba1a1f181cf9e6c4967023e5bbd42b09_3260.profile', './data/tree-rep-profiles_o2o_smallshort/short/91.loring_0.8/G34/091ddc720fbf18a3544225e6ad07839fba1a1f181cf9e6c4967023e5bbd42b09_3260.profile']\n",
      "duplicate ERR: ['./data/tree-rep-profiles_o2o_smallshort/small/91.loring_0.8/G34/095effde5e471f308dd3d2262efd67c04a9d87e5cb7e8409ec0398d595f2b67b_3424.profile', './data/tree-rep-profiles_o2o_smallshort/short/91.loring_0.8/G34/095effde5e471f308dd3d2262efd67c04a9d87e5cb7e8409ec0398d595f2b67b_3424.profile']\n"
     ]
    },
    {
     "name": "stderr",
     "output_type": "stream",
     "text": [
      "\r",
      " 27%|██▋       | 43/159 [00:19<00:52,  2.23it/s]"
     ]
    },
    {
     "name": "stdout",
     "output_type": "stream",
     "text": [
      "duplicate ERR: ['./data/tree-rep-profiles_o2o_smallshort/small/91.loring_0.8/G31/07e70a2e8b01cb313c35af616c152ab6903c1e3c347a6b218a453af482c86baa_2932.profile', './data/tree-rep-profiles_o2o_smallshort/short/91.loring_0.8/G31/07e70a2e8b01cb313c35af616c152ab6903c1e3c347a6b218a453af482c86baa_2932.profile']\n",
      "duplicate ERR: ['./data/tree-rep-profiles_o2o_smallshort/small/91.loring_0.8/G31/11fda895222e03db7be8788f21109b92d685877fffb05e027acf1ff0e57d7fc0_3608.profile', './data/tree-rep-profiles_o2o_smallshort/short/91.loring_0.8/G31/11fda895222e03db7be8788f21109b92d685877fffb05e027acf1ff0e57d7fc0_3608.profile']\n",
      "duplicate ERR: ['./data/tree-rep-profiles_o2o_smallshort/small/63.aira_0.8/G74/bf72b21f65b90cfcbedff774405cc6b5db4b786455be4172bfa7c216da96c8f1_3372.profile', './data/tree-rep-profiles_o2o_smallshort/short/63.aira_0.8/G74/bf72b21f65b90cfcbedff774405cc6b5db4b786455be4172bfa7c216da96c8f1_3372.profile']\n",
      "duplicate ERR: ['./data/tree-rep-profiles_o2o_smallshort/small/63.aira_0.8/G74/bf72b21f65b90cfcbedff774405cc6b5db4b786455be4172bfa7c216da96c8f1_3412.profile', './data/tree-rep-profiles_o2o_smallshort/short/63.aira_0.8/G74/bf72b21f65b90cfcbedff774405cc6b5db4b786455be4172bfa7c216da96c8f1_3412.profile']\n",
      "duplicate ERR: ['./data/tree-rep-profiles_o2o_smallshort/small/63.aira_0.8/G76/328bb8c9179e608e32f5153c17a9e8a8ee2926809b5bb0840120ffd31ede366b_2956.profile', './data/tree-rep-profiles_o2o_smallshort/short/63.aira_0.8/G76/328bb8c9179e608e32f5153c17a9e8a8ee2926809b5bb0840120ffd31ede366b_2956.profile']\n",
      "duplicate ERR: ['./data/tree-rep-profiles_o2o_smallshort/small/63.aira_0.8/G76/51fe261cc787e9b4d88146242250b54f467546bd7d56a2c23937b78bcc7b4d7e_3308.profile', './data/tree-rep-profiles_o2o_smallshort/short/63.aira_0.8/G76/51fe261cc787e9b4d88146242250b54f467546bd7d56a2c23937b78bcc7b4d7e_3308.profile']\n",
      "duplicate ERR: ['./data/tree-rep-profiles_o2o_smallshort/small/63.aira_0.8/G77/470cc3da78e70fbfb2dd9a46488d45f606bdc8ce9a07259f2c0cd596cc80b0fc_3244.profile', './data/tree-rep-profiles_o2o_smallshort/short/63.aira_0.8/G77/470cc3da78e70fbfb2dd9a46488d45f606bdc8ce9a07259f2c0cd596cc80b0fc_3244.profile']\n",
      "duplicate ERR: ['./data/tree-rep-profiles_o2o_smallshort/small/63.aira_0.8/G77/e61f7b8edc4e7feeee22d2aa1bc7eeb5c35db56762c3c3c5860eee5672281363_2916.profile', './data/tree-rep-profiles_o2o_smallshort/short/63.aira_0.8/G77/e61f7b8edc4e7feeee22d2aa1bc7eeb5c35db56762c3c3c5860eee5672281363_2916.profile']\n",
      "duplicate ERR: ['./data/tree-rep-profiles_o2o_smallshort/small/63.aira_0.8/G78/0f440989d67ea9d72e8e20a66a5fdea82a73f801b2e49b4f3853f9f106b23f4e_3276.profile', './data/tree-rep-profiles_o2o_smallshort/short/63.aira_0.8/G78/0f440989d67ea9d72e8e20a66a5fdea82a73f801b2e49b4f3853f9f106b23f4e_3276.profile']\n"
     ]
    },
    {
     "name": "stderr",
     "output_type": "stream",
     "text": [
      "\r",
      " 28%|██▊       | 44/159 [00:19<00:46,  2.48it/s]"
     ]
    },
    {
     "name": "stdout",
     "output_type": "stream",
     "text": [
      "duplicate ERR: ['./data/tree-rep-profiles_o2o_smallshort/small/63.aira_0.8/G78/0e97f12dbab5519413baba39f0d73783363c6127a55c4168eb654dc4d7c8bebd_2940.profile', './data/tree-rep-profiles_o2o_smallshort/short/63.aira_0.8/G78/0e97f12dbab5519413baba39f0d73783363c6127a55c4168eb654dc4d7c8bebd_2940.profile']\n",
      "duplicate ERR: ['./data/tree-rep-profiles_o2o_smallshort/small/63.aira_0.8/G82/2c5abc05d897690232a0dc1d515fc51d1ba2dc118b0a82d8a0a36c69afb4f055_3212.profile', './data/tree-rep-profiles_o2o_smallshort/short/63.aira_0.8/G82/2c5abc05d897690232a0dc1d515fc51d1ba2dc118b0a82d8a0a36c69afb4f055_3212.profile']\n",
      "duplicate ERR: ['./data/tree-rep-profiles_o2o_smallshort/small/63.aira_0.8/G82/2c5abc05d897690232a0dc1d515fc51d1ba2dc118b0a82d8a0a36c69afb4f055_3248.profile', './data/tree-rep-profiles_o2o_smallshort/short/63.aira_0.8/G82/2c5abc05d897690232a0dc1d515fc51d1ba2dc118b0a82d8a0a36c69afb4f055_3248.profile']\n",
      "duplicate ERR: ['./data/tree-rep-profiles_o2o_smallshort/small/63.aira_0.8/G81/81ce16d26de613c5702a94a87c72ecb5ac722f747fbcac2b97c92ff17338ad28_3248.profile', './data/tree-rep-profiles_o2o_smallshort/short/63.aira_0.8/G81/81ce16d26de613c5702a94a87c72ecb5ac722f747fbcac2b97c92ff17338ad28_3248.profile']\n",
      "duplicate ERR: ['./data/tree-rep-profiles_o2o_smallshort/small/63.aira_0.8/G81/0ec3714b9ff199d6063a0f2ac8f515f3aedac887e22609f65b79dc322e10962d_3240.profile', './data/tree-rep-profiles_o2o_smallshort/short/63.aira_0.8/G81/0ec3714b9ff199d6063a0f2ac8f515f3aedac887e22609f65b79dc322e10962d_3240.profile']\n",
      "duplicate ERR: ['./data/tree-rep-profiles_o2o_smallshort/small/5.ursu_0.8/G878/0f72e2ba4c5f4da49498a07b6682a0a7e0d1ac6c5f2207d04ea643a60ed900c8_3308.profile', './data/tree-rep-profiles_o2o_smallshort/short/5.ursu_0.8/G878/0f72e2ba4c5f4da49498a07b6682a0a7e0d1ac6c5f2207d04ea643a60ed900c8_3308.profile']\n",
      "duplicate ERR: ['./data/tree-rep-profiles_o2o_smallshort/small/5.ursu_0.8/G878/0ca9bab43a94f29af939046c65d63822205558fdede48eee6f38a593b6a7f78d_3212.profile', './data/tree-rep-profiles_o2o_smallshort/short/5.ursu_0.8/G878/0ca9bab43a94f29af939046c65d63822205558fdede48eee6f38a593b6a7f78d_3212.profile']\n",
      "duplicate ERR: ['./data/tree-rep-profiles_o2o_smallshort/small/5.ursu_0.8/G831/0e3717348dd821b07c217ee6bb873ace8d2147e016920bcf69dd09eebc70a3e4_3196.profile', './data/tree-rep-profiles_o2o_smallshort/short/5.ursu_0.8/G831/0e3717348dd821b07c217ee6bb873ace8d2147e016920bcf69dd09eebc70a3e4_3196.profile']\n",
      "duplicate ERR: ['./data/tree-rep-profiles_o2o_smallshort/small/5.ursu_0.8/G831/0e51019c22b3eecc7cb8411ea42f27e0f503b73d92ac310fe139c6013b2c5b09_3312.profile', './data/tree-rep-profiles_o2o_smallshort/short/5.ursu_0.8/G831/0e51019c22b3eecc7cb8411ea42f27e0f503b73d92ac310fe139c6013b2c5b09_3312.profile']\n",
      "duplicate ERR: ['./data/tree-rep-profiles_o2o_smallshort/small/5.ursu_0.8/G936/0f72e2ba4c5f4da49498a07b6682a0a7e0d1ac6c5f2207d04ea643a60ed900c8_3516.profile', './data/tree-rep-profiles_o2o_smallshort/short/5.ursu_0.8/G936/0f72e2ba4c5f4da49498a07b6682a0a7e0d1ac6c5f2207d04ea643a60ed900c8_3516.profile']\n",
      "duplicate ERR: ['./data/tree-rep-profiles_o2o_smallshort/small/5.ursu_0.8/G936/0ca9bab43a94f29af939046c65d63822205558fdede48eee6f38a593b6a7f78d_3364.profile', './data/tree-rep-profiles_o2o_smallshort/short/5.ursu_0.8/G936/0ca9bab43a94f29af939046c65d63822205558fdede48eee6f38a593b6a7f78d_3364.profile']\n",
      "duplicate ERR: ['./data/tree-rep-profiles_o2o_smallshort/small/5.ursu_0.8/G833/0f724a95f267de901a90ca8e87b846872ce75704a958c19e4091d2be416ac9f0_2932.profile', './data/tree-rep-profiles_o2o_smallshort/short/5.ursu_0.8/G833/0f724a95f267de901a90ca8e87b846872ce75704a958c19e4091d2be416ac9f0_2932.profile']\n",
      "duplicate ERR: ['./data/tree-rep-profiles_o2o_smallshort/small/5.ursu_0.8/G833/0f8c9ce4c74a140fa16a9e63c54a4885a02d534bb6bc76b60353edaf26c0fb90_3280.profile', './data/tree-rep-profiles_o2o_smallshort/short/5.ursu_0.8/G833/0f8c9ce4c74a140fa16a9e63c54a4885a02d534bb6bc76b60353edaf26c0fb90_3280.profile']\n",
      "duplicate ERR: ['./data/tree-rep-profiles_o2o_smallshort/small/5.ursu_0.8/G866/0d2be6cff04b965dbe0296301795c10c0310fb9e6864782a3f6f1032b5d16392_3316.profile', './data/tree-rep-profiles_o2o_smallshort/short/5.ursu_0.8/G866/0d2be6cff04b965dbe0296301795c10c0310fb9e6864782a3f6f1032b5d16392_3316.profile']\n",
      "duplicate ERR: ['./data/tree-rep-profiles_o2o_smallshort/small/5.ursu_0.8/G866/0f060a54407543de4151e5c90a816315003903bb65c935ac9f5c8e48d30300e0_2892.profile', './data/tree-rep-profiles_o2o_smallshort/short/5.ursu_0.8/G866/0f060a54407543de4151e5c90a816315003903bb65c935ac9f5c8e48d30300e0_2892.profile']\n",
      "duplicate ERR: ['./data/tree-rep-profiles_o2o_smallshort/small/5.ursu_0.8/G852/0d203cf50e03ebebf860b479ef713acf38a828de56398e7ec09412e3c92ffe7f_3040.profile', './data/tree-rep-profiles_o2o_smallshort/short/5.ursu_0.8/G852/0d203cf50e03ebebf860b479ef713acf38a828de56398e7ec09412e3c92ffe7f_3040.profile']\n",
      "duplicate ERR: ['./data/tree-rep-profiles_o2o_smallshort/small/5.ursu_0.8/G852/1cdae10d1cbfacd381134f7de0fbf98919ae63dbca96c6269307fe85d9bf505e_3172.profile', './data/tree-rep-profiles_o2o_smallshort/short/5.ursu_0.8/G852/1cdae10d1cbfacd381134f7de0fbf98919ae63dbca96c6269307fe85d9bf505e_3172.profile']\n",
      "duplicate ERR: ['./data/tree-rep-profiles_o2o_smallshort/small/5.ursu_0.8/G867/0ffbcce9208474e35c87af2a58c82ef6435c216588b8ee6fcad699f8550cec69_2952.profile', './data/tree-rep-profiles_o2o_smallshort/short/5.ursu_0.8/G867/0ffbcce9208474e35c87af2a58c82ef6435c216588b8ee6fcad699f8550cec69_2952.profile']\n",
      "duplicate ERR: ['./data/tree-rep-profiles_o2o_smallshort/small/5.ursu_0.8/G867/0e0fe2c5b6bf1818af529015f9e40b8c06e5aa384915f8dafe29f22bb18cb18f_3416.profile', './data/tree-rep-profiles_o2o_smallshort/short/5.ursu_0.8/G867/0e0fe2c5b6bf1818af529015f9e40b8c06e5aa384915f8dafe29f22bb18cb18f_3416.profile']\n",
      "duplicate ERR: ['./data/tree-rep-profiles_o2o_smallshort/small/5.ursu_0.8/G861/0a11f987efc42ada7cf5a692aebdcbfdf78905d7c7bceaa865913dc5b0c2049a_3320.profile', './data/tree-rep-profiles_o2o_smallshort/short/5.ursu_0.8/G861/0a11f987efc42ada7cf5a692aebdcbfdf78905d7c7bceaa865913dc5b0c2049a_3320.profile']\n",
      "duplicate ERR: ['./data/tree-rep-profiles_o2o_smallshort/small/5.ursu_0.8/G861/0a056218967ec6fb84352ad6e4e7fee41798e451b7f43d0d75c54d5bdeb267ec_3356.profile', './data/tree-rep-profiles_o2o_smallshort/short/5.ursu_0.8/G861/0a056218967ec6fb84352ad6e4e7fee41798e451b7f43d0d75c54d5bdeb267ec_3356.profile']\n",
      "duplicate ERR: ['./data/tree-rep-profiles_o2o_smallshort/small/5.ursu_0.8/G829/0b2f3cdb3d6139a2de0495919d438e5680e9bbea6943dc833b6754df3f44f0f5_3372.profile', './data/tree-rep-profiles_o2o_smallshort/short/5.ursu_0.8/G829/0b2f3cdb3d6139a2de0495919d438e5680e9bbea6943dc833b6754df3f44f0f5_3372.profile']\n",
      "duplicate ERR: ['./data/tree-rep-profiles_o2o_smallshort/small/5.ursu_0.8/G829/00dc3ebd6546641d8153f3ad48f09529d1c81d3fae2b71ca10bb0a7f1eab56db_3224.profile', './data/tree-rep-profiles_o2o_smallshort/short/5.ursu_0.8/G829/00dc3ebd6546641d8153f3ad48f09529d1c81d3fae2b71ca10bb0a7f1eab56db_3224.profile']\n",
      "duplicate ERR: ['./data/tree-rep-profiles_o2o_smallshort/small/5.ursu_0.8/G827/00f2358a97dac4c9f6c5407e8c3276b8d29ea54ffa3ebaff084e186d423b9178_3244.profile', './data/tree-rep-profiles_o2o_smallshort/short/5.ursu_0.8/G827/00f2358a97dac4c9f6c5407e8c3276b8d29ea54ffa3ebaff084e186d423b9178_3244.profile']\n",
      "duplicate ERR: ['./data/tree-rep-profiles_o2o_smallshort/small/5.ursu_0.8/G827/01c29000e34d0a686df133ed2a6eb3b8f6fd1458806e9c2b21b38adc817739f2_3176.profile', './data/tree-rep-profiles_o2o_smallshort/short/5.ursu_0.8/G827/01c29000e34d0a686df133ed2a6eb3b8f6fd1458806e9c2b21b38adc817739f2_3176.profile']\n",
      "duplicate ERR: ['./data/tree-rep-profiles_o2o_smallshort/small/5.ursu_0.8/G930/0f4a79124dbd394006641f74fe195a6ac053735eb10623cd7ac12095fb59270f_3416.profile', './data/tree-rep-profiles_o2o_smallshort/short/5.ursu_0.8/G930/0f4a79124dbd394006641f74fe195a6ac053735eb10623cd7ac12095fb59270f_3416.profile']\n",
      "duplicate ERR: ['./data/tree-rep-profiles_o2o_smallshort/small/5.ursu_0.8/G930/1d0e2240a0226a89fa49c4aab5458d8fc36246407df92a1521c38a90dc6568b2_3312.profile', './data/tree-rep-profiles_o2o_smallshort/short/5.ursu_0.8/G930/1d0e2240a0226a89fa49c4aab5458d8fc36246407df92a1521c38a90dc6568b2_3312.profile']\n",
      "duplicate ERR: ['./data/tree-rep-profiles_o2o_smallshort/small/5.ursu_0.8/G848/0e6cedb74fb6137f55c1aa929528b11cacc8e943bd10b04fd19923319221e14e_3260.profile', './data/tree-rep-profiles_o2o_smallshort/short/5.ursu_0.8/G848/0e6cedb74fb6137f55c1aa929528b11cacc8e943bd10b04fd19923319221e14e_3260.profile']\n",
      "duplicate ERR: ['./data/tree-rep-profiles_o2o_smallshort/small/5.ursu_0.8/G848/0d5aa74983e050f616786f3e3c3c6c1493d9f2829c060030f8c6fbe09905b5f3_3208.profile', './data/tree-rep-profiles_o2o_smallshort/short/5.ursu_0.8/G848/0d5aa74983e050f616786f3e3c3c6c1493d9f2829c060030f8c6fbe09905b5f3_3208.profile']\n",
      "duplicate ERR: ['./data/tree-rep-profiles_o2o_smallshort/small/5.ursu_0.8/G924/0a083223f2397db9c06c96746f4db070b9f34ba96e7694116f74f339e732e00b_3332.profile', './data/tree-rep-profiles_o2o_smallshort/short/5.ursu_0.8/G924/0a083223f2397db9c06c96746f4db070b9f34ba96e7694116f74f339e732e00b_3332.profile']\n",
      "duplicate ERR: ['./data/tree-rep-profiles_o2o_smallshort/small/5.ursu_0.8/G924/0b8aa94ddd11b1225bdc7e7bb5a9fb7baf14fc605fdae0d37fa17d0f5833899b_3508.profile', './data/tree-rep-profiles_o2o_smallshort/short/5.ursu_0.8/G924/0b8aa94ddd11b1225bdc7e7bb5a9fb7baf14fc605fdae0d37fa17d0f5833899b_3508.profile']\n",
      "duplicate ERR: ['./data/tree-rep-profiles_o2o_smallshort/small/5.ursu_0.8/G858/0ab61b5fa2811a0ce3c79f0141a8124fdad6d417eb626f7a4ed0e284ba25c500_3136.profile', './data/tree-rep-profiles_o2o_smallshort/short/5.ursu_0.8/G858/0ab61b5fa2811a0ce3c79f0141a8124fdad6d417eb626f7a4ed0e284ba25c500_3136.profile']\n",
      "duplicate ERR: ['./data/tree-rep-profiles_o2o_smallshort/small/5.ursu_0.8/G858/0bc03363af60b940861c562b8ca339486a891163d8086671be650409a48483ce_1376.profile', './data/tree-rep-profiles_o2o_smallshort/short/5.ursu_0.8/G858/0bc03363af60b940861c562b8ca339486a891163d8086671be650409a48483ce_1376.profile']\n"
     ]
    },
    {
     "name": "stdout",
     "output_type": "stream",
     "text": [
      "duplicate ERR: ['./data/tree-rep-profiles_o2o_smallshort/small/5.ursu_0.8/G928/0ae3dd73397089bbd25e62d3c9f0f955646a901e3d54d1333c1b3a79cf4f55b1_3348.profile', './data/tree-rep-profiles_o2o_smallshort/short/5.ursu_0.8/G928/0ae3dd73397089bbd25e62d3c9f0f955646a901e3d54d1333c1b3a79cf4f55b1_3348.profile']\n",
      "duplicate ERR: ['./data/tree-rep-profiles_o2o_smallshort/small/5.ursu_0.8/G928/0e885161942fb9c2fb447bbe3ec31b753227f3d035a0a5c57c41f35084559e37_3148.profile', './data/tree-rep-profiles_o2o_smallshort/short/5.ursu_0.8/G928/0e885161942fb9c2fb447bbe3ec31b753227f3d035a0a5c57c41f35084559e37_3148.profile']\n",
      "duplicate ERR: ['./data/tree-rep-profiles_o2o_smallshort/small/5.ursu_0.8/G911/0a3be63e8c49a8f4eaef5fc7969838ba9bd2ecf05241df41a979ebdf40c18980_3096.profile', './data/tree-rep-profiles_o2o_smallshort/short/5.ursu_0.8/G911/0a3be63e8c49a8f4eaef5fc7969838ba9bd2ecf05241df41a979ebdf40c18980_3096.profile']\n",
      "duplicate ERR: ['./data/tree-rep-profiles_o2o_smallshort/small/5.ursu_0.8/G911/0f971f14b47db33e2ba424f9c0b5c7aed822d280f3b46fae738b309401397047_3524.profile', './data/tree-rep-profiles_o2o_smallshort/short/5.ursu_0.8/G911/0f971f14b47db33e2ba424f9c0b5c7aed822d280f3b46fae738b309401397047_3524.profile']\n",
      "duplicate ERR: ['./data/tree-rep-profiles_o2o_smallshort/small/5.ursu_0.8/G854/0e93ea2c6f6c42ce5a94d1ee7f985b0d2c7ca9ee9309a5ae177b813d387bfb4d_3200.profile', './data/tree-rep-profiles_o2o_smallshort/short/5.ursu_0.8/G854/0e93ea2c6f6c42ce5a94d1ee7f985b0d2c7ca9ee9309a5ae177b813d387bfb4d_3200.profile']\n",
      "duplicate ERR: ['./data/tree-rep-profiles_o2o_smallshort/small/5.ursu_0.8/G854/0e14b112395130c1fb9fa5c6561d1614eb3725f554916c1c430fb57fffd9bb4f_2976.profile', './data/tree-rep-profiles_o2o_smallshort/short/5.ursu_0.8/G854/0e14b112395130c1fb9fa5c6561d1614eb3725f554916c1c430fb57fffd9bb4f_2976.profile']\n",
      "duplicate ERR: ['./data/tree-rep-profiles_o2o_smallshort/small/5.ursu_0.8/G863/0b3fba8a32c6032759d1c76dea7a024822177fc6f6167ae88a9f80124469cc91_3260.profile', './data/tree-rep-profiles_o2o_smallshort/short/5.ursu_0.8/G863/0b3fba8a32c6032759d1c76dea7a024822177fc6f6167ae88a9f80124469cc91_3260.profile']\n",
      "duplicate ERR: ['./data/tree-rep-profiles_o2o_smallshort/small/5.ursu_0.8/G863/0ac4c240d5b81fc9c64b68b38c6309f3b4a8da99d9df40db4f49398149f8f88a_3288.profile', './data/tree-rep-profiles_o2o_smallshort/short/5.ursu_0.8/G863/0ac4c240d5b81fc9c64b68b38c6309f3b4a8da99d9df40db4f49398149f8f88a_3288.profile']\n",
      "duplicate ERR: ['./data/tree-rep-profiles_o2o_smallshort/small/5.ursu_0.8/G912/0b8aa94ddd11b1225bdc7e7bb5a9fb7baf14fc605fdae0d37fa17d0f5833899b_3388.profile', './data/tree-rep-profiles_o2o_smallshort/short/5.ursu_0.8/G912/0b8aa94ddd11b1225bdc7e7bb5a9fb7baf14fc605fdae0d37fa17d0f5833899b_3388.profile']\n",
      "duplicate ERR: ['./data/tree-rep-profiles_o2o_smallshort/small/5.ursu_0.8/G912/0b8aa94ddd11b1225bdc7e7bb5a9fb7baf14fc605fdae0d37fa17d0f5833899b_3352.profile', './data/tree-rep-profiles_o2o_smallshort/short/5.ursu_0.8/G912/0b8aa94ddd11b1225bdc7e7bb5a9fb7baf14fc605fdae0d37fa17d0f5833899b_3352.profile']\n",
      "duplicate ERR: ['./data/tree-rep-profiles_o2o_smallshort/small/5.ursu_0.8/G845/0b326fa2632f1c1fdb7f2cbcb138315c3265f667170a431efa096decbe2f8d0f_3428.profile', './data/tree-rep-profiles_o2o_smallshort/short/5.ursu_0.8/G845/0b326fa2632f1c1fdb7f2cbcb138315c3265f667170a431efa096decbe2f8d0f_3428.profile']\n",
      "duplicate ERR: ['./data/tree-rep-profiles_o2o_smallshort/small/5.ursu_0.8/G845/0a2f2810d35cc5f56e8b68e030328ffdb7db107893e116edc425fa08f0457597_3168.profile', './data/tree-rep-profiles_o2o_smallshort/short/5.ursu_0.8/G845/0a2f2810d35cc5f56e8b68e030328ffdb7db107893e116edc425fa08f0457597_3168.profile']\n",
      "duplicate ERR: ['./data/tree-rep-profiles_o2o_smallshort/small/5.ursu_0.8/G943/0aaab33e15f24c757fb3644ca60b35c610a3f925f2ea8e246390f3e4fc0f4f72_2936.profile', './data/tree-rep-profiles_o2o_smallshort/short/5.ursu_0.8/G943/0aaab33e15f24c757fb3644ca60b35c610a3f925f2ea8e246390f3e4fc0f4f72_2936.profile']\n",
      "duplicate ERR: ['./data/tree-rep-profiles_o2o_smallshort/small/5.ursu_0.8/G943/0aa87bf2904955377a5ac88ca881a28799d7caf192a30d7a22f2b18822bb8b9a_3372.profile', './data/tree-rep-profiles_o2o_smallshort/short/5.ursu_0.8/G943/0aa87bf2904955377a5ac88ca881a28799d7caf192a30d7a22f2b18822bb8b9a_3372.profile']\n",
      "duplicate ERR: ['./data/tree-rep-profiles_o2o_smallshort/small/5.ursu_0.8/G919/0e8983804a2d4194f0e21019ccb40a4a550ace9a4859c95ba93ce28d1d6970f4_3408.profile', './data/tree-rep-profiles_o2o_smallshort/short/5.ursu_0.8/G919/0e8983804a2d4194f0e21019ccb40a4a550ace9a4859c95ba93ce28d1d6970f4_3408.profile']\n",
      "duplicate ERR: ['./data/tree-rep-profiles_o2o_smallshort/small/5.ursu_0.8/G919/1d1a9aa5c29ae1ecfb15924dae4fca2711d694017824dec3a46add300caa8280_3372.profile', './data/tree-rep-profiles_o2o_smallshort/short/5.ursu_0.8/G919/1d1a9aa5c29ae1ecfb15924dae4fca2711d694017824dec3a46add300caa8280_3372.profile']\n",
      "duplicate ERR: ['./data/tree-rep-profiles_o2o_smallshort/small/5.ursu_0.8/G938/0cd584754d44f889da79ea91a31274055a320e1445b2b5cfcbf9ac8134187049_3124.profile', './data/tree-rep-profiles_o2o_smallshort/short/5.ursu_0.8/G938/0cd584754d44f889da79ea91a31274055a320e1445b2b5cfcbf9ac8134187049_3124.profile']\n",
      "duplicate ERR: ['./data/tree-rep-profiles_o2o_smallshort/small/5.ursu_0.8/G938/0c5a7f0fa77b16a104a2a1dce45d2003998a2f362c8422e8f62cc55d54ae4422_3320.profile', './data/tree-rep-profiles_o2o_smallshort/short/5.ursu_0.8/G938/0c5a7f0fa77b16a104a2a1dce45d2003998a2f362c8422e8f62cc55d54ae4422_3320.profile']\n",
      "duplicate ERR: ['./data/tree-rep-profiles_o2o_smallshort/small/5.ursu_0.8/G868/0d90dab9cec2fb1f6087c3101718fac55d1af3be6e4062b87fb3e962419ec749_3564.profile', './data/tree-rep-profiles_o2o_smallshort/short/5.ursu_0.8/G868/0d90dab9cec2fb1f6087c3101718fac55d1af3be6e4062b87fb3e962419ec749_3564.profile']\n",
      "duplicate ERR: ['./data/tree-rep-profiles_o2o_smallshort/small/5.ursu_0.8/G868/0c3b8c1e43126ec464a17f9f230c2711fead5c5c087042c33120497cd8dbbc1c_3200.profile', './data/tree-rep-profiles_o2o_smallshort/short/5.ursu_0.8/G868/0c3b8c1e43126ec464a17f9f230c2711fead5c5c087042c33120497cd8dbbc1c_3200.profile']\n",
      "duplicate ERR: ['./data/tree-rep-profiles_o2o_smallshort/small/5.ursu_0.8/G855/0e87b0eae2ff08c2c9cdb46f028dc089d732609a814fb650fc3499c2d73c41f5_3204.profile', './data/tree-rep-profiles_o2o_smallshort/short/5.ursu_0.8/G855/0e87b0eae2ff08c2c9cdb46f028dc089d732609a814fb650fc3499c2d73c41f5_3204.profile']\n",
      "duplicate ERR: ['./data/tree-rep-profiles_o2o_smallshort/small/5.ursu_0.8/G855/0f93f73aa39bbafce120a5b01a64e2ece05be38ed3336c52b4b64d38046dcff9_3320.profile', './data/tree-rep-profiles_o2o_smallshort/short/5.ursu_0.8/G855/0f93f73aa39bbafce120a5b01a64e2ece05be38ed3336c52b4b64d38046dcff9_3320.profile']\n",
      "duplicate ERR: ['./data/tree-rep-profiles_o2o_smallshort/small/5.ursu_0.8/G929/0c3b8c1e43126ec464a17f9f230c2711fead5c5c087042c33120497cd8dbbc1c_2968.profile', './data/tree-rep-profiles_o2o_smallshort/short/5.ursu_0.8/G929/0c3b8c1e43126ec464a17f9f230c2711fead5c5c087042c33120497cd8dbbc1c_2968.profile']\n",
      "duplicate ERR: ['./data/tree-rep-profiles_o2o_smallshort/small/5.ursu_0.8/G929/0d90dab9cec2fb1f6087c3101718fac55d1af3be6e4062b87fb3e962419ec749_3348.profile', './data/tree-rep-profiles_o2o_smallshort/short/5.ursu_0.8/G929/0d90dab9cec2fb1f6087c3101718fac55d1af3be6e4062b87fb3e962419ec749_3348.profile']\n",
      "duplicate ERR: ['./data/tree-rep-profiles_o2o_smallshort/small/5.ursu_0.8/G926/0f971f14b47db33e2ba424f9c0b5c7aed822d280f3b46fae738b309401397047_3236.profile', './data/tree-rep-profiles_o2o_smallshort/short/5.ursu_0.8/G926/0f971f14b47db33e2ba424f9c0b5c7aed822d280f3b46fae738b309401397047_3236.profile']\n",
      "duplicate ERR: ['./data/tree-rep-profiles_o2o_smallshort/small/5.ursu_0.8/G926/0f971f14b47db33e2ba424f9c0b5c7aed822d280f3b46fae738b309401397047_3376.profile', './data/tree-rep-profiles_o2o_smallshort/short/5.ursu_0.8/G926/0f971f14b47db33e2ba424f9c0b5c7aed822d280f3b46fae738b309401397047_3376.profile']\n",
      "duplicate ERR: ['./data/tree-rep-profiles_o2o_smallshort/small/5.ursu_0.8/G931/0ae3dd73397089bbd25e62d3c9f0f955646a901e3d54d1333c1b3a79cf4f55b1_3312.profile', './data/tree-rep-profiles_o2o_smallshort/short/5.ursu_0.8/G931/0ae3dd73397089bbd25e62d3c9f0f955646a901e3d54d1333c1b3a79cf4f55b1_3312.profile']\n",
      "duplicate ERR: ['./data/tree-rep-profiles_o2o_smallshort/small/5.ursu_0.8/G931/0e885161942fb9c2fb447bbe3ec31b753227f3d035a0a5c57c41f35084559e37_3032.profile', './data/tree-rep-profiles_o2o_smallshort/short/5.ursu_0.8/G931/0e885161942fb9c2fb447bbe3ec31b753227f3d035a0a5c57c41f35084559e37_3032.profile']\n",
      "duplicate ERR: ['./data/tree-rep-profiles_o2o_smallshort/small/5.ursu_0.8/G920/0f7e54aac96601efd985e6d146b125b62d29fb6ee4547df3c3afb62472fa067d_2900.profile', './data/tree-rep-profiles_o2o_smallshort/short/5.ursu_0.8/G920/0f7e54aac96601efd985e6d146b125b62d29fb6ee4547df3c3afb62472fa067d_2900.profile']\n",
      "duplicate ERR: ['./data/tree-rep-profiles_o2o_smallshort/small/5.ursu_0.8/G920/0af326e7f72becac431e2f87a607336e6e1741584d6c75e209619721ec0cb90b_3264.profile', './data/tree-rep-profiles_o2o_smallshort/short/5.ursu_0.8/G920/0af326e7f72becac431e2f87a607336e6e1741584d6c75e209619721ec0cb90b_3264.profile']\n",
      "duplicate ERR: ['./data/tree-rep-profiles_o2o_smallshort/small/5.ursu_0.8/G872/0c58c2744679300628387d6e493e620fd27dfadeecf61b61f867a0c8b53ef087_3352.profile', './data/tree-rep-profiles_o2o_smallshort/short/5.ursu_0.8/G872/0c58c2744679300628387d6e493e620fd27dfadeecf61b61f867a0c8b53ef087_3352.profile']\n",
      "duplicate ERR: ['./data/tree-rep-profiles_o2o_smallshort/small/5.ursu_0.8/G872/0b00206d0b2858631e3906f3f46ca0bb74b3816aac65af9f19c6b3e09cff97c8_3416.profile', './data/tree-rep-profiles_o2o_smallshort/short/5.ursu_0.8/G872/0b00206d0b2858631e3906f3f46ca0bb74b3816aac65af9f19c6b3e09cff97c8_3416.profile']\n"
     ]
    },
    {
     "name": "stdout",
     "output_type": "stream",
     "text": [
      "duplicate ERR: ['./data/tree-rep-profiles_o2o_smallshort/small/5.ursu_0.8/G927/0b670845f6b08c856f049def08b9e67655d0e8126f32a6b4d0486a9965b6cae1_3380.profile', './data/tree-rep-profiles_o2o_smallshort/short/5.ursu_0.8/G927/0b670845f6b08c856f049def08b9e67655d0e8126f32a6b4d0486a9965b6cae1_3380.profile']\n",
      "duplicate ERR: ['./data/tree-rep-profiles_o2o_smallshort/small/5.ursu_0.8/G927/0ddbb6d6c75a6b0a4e383547d1f1c44015dc94bfc378fc1f2f5d31573dd9b4f7_3276.profile', './data/tree-rep-profiles_o2o_smallshort/short/5.ursu_0.8/G927/0ddbb6d6c75a6b0a4e383547d1f1c44015dc94bfc378fc1f2f5d31573dd9b4f7_3276.profile']\n",
      "duplicate ERR: ['./data/tree-rep-profiles_o2o_smallshort/small/5.ursu_0.8/G904/01d78237cc0bf6000aa7d0149deedcb44035f280cec92311c60076c55f30d5df_3384.profile', './data/tree-rep-profiles_o2o_smallshort/short/5.ursu_0.8/G904/01d78237cc0bf6000aa7d0149deedcb44035f280cec92311c60076c55f30d5df_3384.profile']\n",
      "duplicate ERR: ['./data/tree-rep-profiles_o2o_smallshort/small/5.ursu_0.8/G904/0ee853d256c1c1b437325004e4da121af26b88fcbf8c3af0416aefc472cf305c_2996.profile', './data/tree-rep-profiles_o2o_smallshort/short/5.ursu_0.8/G904/0ee853d256c1c1b437325004e4da121af26b88fcbf8c3af0416aefc472cf305c_2996.profile']\n",
      "duplicate ERR: ['./data/tree-rep-profiles_o2o_smallshort/small/5.ursu_0.8/G836/1cf2f3c7c273ebd5bc5b4c73380753d959afb75ef25a958e24fcae72959de442_3236.profile', './data/tree-rep-profiles_o2o_smallshort/short/5.ursu_0.8/G836/1cf2f3c7c273ebd5bc5b4c73380753d959afb75ef25a958e24fcae72959de442_3236.profile']\n",
      "duplicate ERR: ['./data/tree-rep-profiles_o2o_smallshort/small/5.ursu_0.8/G836/0ad57d0ebbe3d77587ccc95ecf60116661e7626809bcc3861935a40d37122bf1_3196.profile', './data/tree-rep-profiles_o2o_smallshort/short/5.ursu_0.8/G836/0ad57d0ebbe3d77587ccc95ecf60116661e7626809bcc3861935a40d37122bf1_3196.profile']\n",
      "duplicate ERR: ['./data/tree-rep-profiles_o2o_smallshort/small/5.ursu_0.8/G818/0e5d3a751d711650024c9aa1e36cdd962fdc5c7f0d1f5034c5ab4c25ea7dd985_2920.profile', './data/tree-rep-profiles_o2o_smallshort/short/5.ursu_0.8/G818/0e5d3a751d711650024c9aa1e36cdd962fdc5c7f0d1f5034c5ab4c25ea7dd985_2920.profile']\n",
      "duplicate ERR: ['./data/tree-rep-profiles_o2o_smallshort/small/5.ursu_0.8/G818/0ccc1f95f24b0755c911c40d8aefd8c1b090080366ab11643db31d34eae0ab2f_3260.profile', './data/tree-rep-profiles_o2o_smallshort/short/5.ursu_0.8/G818/0ccc1f95f24b0755c911c40d8aefd8c1b090080366ab11643db31d34eae0ab2f_3260.profile']\n"
     ]
    },
    {
     "name": "stderr",
     "output_type": "stream",
     "text": [
      "\r",
      " 29%|██▉       | 46/159 [00:21<01:05,  1.74it/s]"
     ]
    },
    {
     "name": "stdout",
     "output_type": "stream",
     "text": [
      "duplicate ERR: ['./data/tree-rep-profiles_o2o_smallshort/small/5.ursu_0.8/G944/0e182c4fb31231de2a7f6b7e9c4ef9b7a2dac8b57da71f7c329f643bf70a30e5_3384.profile', './data/tree-rep-profiles_o2o_smallshort/short/5.ursu_0.8/G944/0e182c4fb31231de2a7f6b7e9c4ef9b7a2dac8b57da71f7c329f643bf70a30e5_3384.profile']\n",
      "duplicate ERR: ['./data/tree-rep-profiles_o2o_smallshort/small/5.ursu_0.8/G944/0cec81b7137ed13debdc6aa60cf1186c9518f3063375d02175e152de064ab6e2_2904.profile', './data/tree-rep-profiles_o2o_smallshort/short/5.ursu_0.8/G944/0cec81b7137ed13debdc6aa60cf1186c9518f3063375d02175e152de064ab6e2_2904.profile']\n",
      "duplicate ERR: ['./data/tree-rep-profiles_o2o_smallshort/small/5.ursu_0.8/G898/0c3b8c1e43126ec464a17f9f230c2711fead5c5c087042c33120497cd8dbbc1c_3060.profile', './data/tree-rep-profiles_o2o_smallshort/short/5.ursu_0.8/G898/0c3b8c1e43126ec464a17f9f230c2711fead5c5c087042c33120497cd8dbbc1c_3060.profile']\n",
      "duplicate ERR: ['./data/tree-rep-profiles_o2o_smallshort/small/5.ursu_0.8/G898/0d90dab9cec2fb1f6087c3101718fac55d1af3be6e4062b87fb3e962419ec749_3436.profile', './data/tree-rep-profiles_o2o_smallshort/short/5.ursu_0.8/G898/0d90dab9cec2fb1f6087c3101718fac55d1af3be6e4062b87fb3e962419ec749_3436.profile']\n",
      "duplicate ERR: ['./data/tree-rep-profiles_o2o_smallshort/small/5.ursu_0.8/G812/0ed5b203bdfc08ffa1f402dc4cf44a57ac021b2b0742b0d989d5d5244dc35f95_2980.profile', './data/tree-rep-profiles_o2o_smallshort/short/5.ursu_0.8/G812/0ed5b203bdfc08ffa1f402dc4cf44a57ac021b2b0742b0d989d5d5244dc35f95_2980.profile']\n",
      "duplicate ERR: ['./data/tree-rep-profiles_o2o_smallshort/small/5.ursu_0.8/G812/0d718c4bef192070cc07b8349bf18753aeb3db35f72c2da5019c62deeda54718_3316.profile', './data/tree-rep-profiles_o2o_smallshort/short/5.ursu_0.8/G812/0d718c4bef192070cc07b8349bf18753aeb3db35f72c2da5019c62deeda54718_3316.profile']\n",
      "duplicate ERR: ['./data/tree-rep-profiles_o2o_smallshort/small/5.ursu_0.8/G798/0e885161942fb9c2fb447bbe3ec31b753227f3d035a0a5c57c41f35084559e37_3212.profile', './data/tree-rep-profiles_o2o_smallshort/short/5.ursu_0.8/G798/0e885161942fb9c2fb447bbe3ec31b753227f3d035a0a5c57c41f35084559e37_3212.profile']\n",
      "duplicate ERR: ['./data/tree-rep-profiles_o2o_smallshort/small/5.ursu_0.8/G798/0ae3dd73397089bbd25e62d3c9f0f955646a901e3d54d1333c1b3a79cf4f55b1_3424.profile', './data/tree-rep-profiles_o2o_smallshort/short/5.ursu_0.8/G798/0ae3dd73397089bbd25e62d3c9f0f955646a901e3d54d1333c1b3a79cf4f55b1_3424.profile']\n",
      "duplicate ERR: ['./data/tree-rep-profiles_o2o_smallshort/small/12.expiro_0.8/G519/a92d618b900a756cc5cf2b9ca909534675d4e42cbcb0cd75a787195f7502996a_3356.profile', './data/tree-rep-profiles_o2o_smallshort/short/12.expiro_0.8/G519/a92d618b900a756cc5cf2b9ca909534675d4e42cbcb0cd75a787195f7502996a_3356.profile']\n",
      "duplicate ERR: ['./data/tree-rep-profiles_o2o_smallshort/small/12.expiro_0.8/G519/257808d2024f91a14314a1294ab5ff0654f4191228da3517691bc7fb6b8159c6_3264.profile', './data/tree-rep-profiles_o2o_smallshort/short/12.expiro_0.8/G519/257808d2024f91a14314a1294ab5ff0654f4191228da3517691bc7fb6b8159c6_3264.profile']\n",
      "duplicate ERR: ['./data/tree-rep-profiles_o2o_smallshort/small/12.expiro_0.8/G559/1f6b6219b926dae5a060691ea2ec4e484afb02efa7304509058ac2039c6a5d3f_3236.profile', './data/tree-rep-profiles_o2o_smallshort/short/12.expiro_0.8/G559/1f6b6219b926dae5a060691ea2ec4e484afb02efa7304509058ac2039c6a5d3f_3236.profile']\n",
      "duplicate ERR: ['./data/tree-rep-profiles_o2o_smallshort/small/12.expiro_0.8/G559/0dd8d93654b61c46a89a8a1e24ffd3f804690baba5a010fd37db83e3a8a386ab_3368.profile', './data/tree-rep-profiles_o2o_smallshort/short/12.expiro_0.8/G559/0dd8d93654b61c46a89a8a1e24ffd3f804690baba5a010fd37db83e3a8a386ab_3368.profile']\n",
      "duplicate ERR: ['./data/tree-rep-profiles_o2o_smallshort/small/12.expiro_0.8/G566/66599547390851a152388839e0f56f52192559db589486fb1073dabc3c54cc18_3368.profile', './data/tree-rep-profiles_o2o_smallshort/short/12.expiro_0.8/G566/66599547390851a152388839e0f56f52192559db589486fb1073dabc3c54cc18_3368.profile']\n",
      "duplicate ERR: ['./data/tree-rep-profiles_o2o_smallshort/small/12.expiro_0.8/G566/121b28cf082d7b5e5b51084376f8da986c938cf0261b11417b259d55ebba47b3_3392.profile', './data/tree-rep-profiles_o2o_smallshort/short/12.expiro_0.8/G566/121b28cf082d7b5e5b51084376f8da986c938cf0261b11417b259d55ebba47b3_3392.profile']\n",
      "duplicate ERR: ['./data/tree-rep-profiles_o2o_smallshort/small/12.expiro_0.8/G529/55a0a45fbb490de42fddbe37483750213de41238b36689bf69da285d203e2e4f_3264.profile', './data/tree-rep-profiles_o2o_smallshort/short/12.expiro_0.8/G529/55a0a45fbb490de42fddbe37483750213de41238b36689bf69da285d203e2e4f_3264.profile']\n",
      "duplicate ERR: ['./data/tree-rep-profiles_o2o_smallshort/small/12.expiro_0.8/G529/55a0a45fbb490de42fddbe37483750213de41238b36689bf69da285d203e2e4f_2972.profile', './data/tree-rep-profiles_o2o_smallshort/short/12.expiro_0.8/G529/55a0a45fbb490de42fddbe37483750213de41238b36689bf69da285d203e2e4f_2972.profile']\n",
      "duplicate ERR: ['./data/tree-rep-profiles_o2o_smallshort/small/12.expiro_0.8/G567/87c9c6a8e6064e1b6c88af803fe6be34858bbd0bffa9546b78853bf3c2fefed1_3488.profile', './data/tree-rep-profiles_o2o_smallshort/short/12.expiro_0.8/G567/87c9c6a8e6064e1b6c88af803fe6be34858bbd0bffa9546b78853bf3c2fefed1_3488.profile']\n",
      "duplicate ERR: ['./data/tree-rep-profiles_o2o_smallshort/small/12.expiro_0.8/G567/1efd287bb75f57663ca12d5bd4ec03be4e06cd67f4514943c3cba39cc3b8525a_3320.profile', './data/tree-rep-profiles_o2o_smallshort/short/12.expiro_0.8/G567/1efd287bb75f57663ca12d5bd4ec03be4e06cd67f4514943c3cba39cc3b8525a_3320.profile']\n",
      "duplicate ERR: ['./data/tree-rep-profiles_o2o_smallshort/small/12.expiro_0.8/G473/fd7ba9a00eb53ab22274ea38fa63edfc2f33bc21c08bcbdb8691bc6ef6d1ee3e_3400.profile', './data/tree-rep-profiles_o2o_smallshort/short/12.expiro_0.8/G473/fd7ba9a00eb53ab22274ea38fa63edfc2f33bc21c08bcbdb8691bc6ef6d1ee3e_3400.profile']\n",
      "duplicate ERR: ['./data/tree-rep-profiles_o2o_smallshort/small/12.expiro_0.8/G473/0a52f116cccc054efd3c752b507e22814bf8a0caf2754a59932d56ab3712586d_2916.profile', './data/tree-rep-profiles_o2o_smallshort/short/12.expiro_0.8/G473/0a52f116cccc054efd3c752b507e22814bf8a0caf2754a59932d56ab3712586d_2916.profile']\n",
      "duplicate ERR: ['./data/tree-rep-profiles_o2o_smallshort/small/12.expiro_0.8/G550/00d457ea1c68c846f94e013c55219b9dbeca26f586d21b5121032e09461170c6_3400.profile', './data/tree-rep-profiles_o2o_smallshort/short/12.expiro_0.8/G550/00d457ea1c68c846f94e013c55219b9dbeca26f586d21b5121032e09461170c6_3400.profile']\n",
      "duplicate ERR: ['./data/tree-rep-profiles_o2o_smallshort/small/12.expiro_0.8/G550/0a6796fe75ee198186fb4831fe489412d4002fb36ff033d745aba9517cad47e7_3336.profile', './data/tree-rep-profiles_o2o_smallshort/short/12.expiro_0.8/G550/0a6796fe75ee198186fb4831fe489412d4002fb36ff033d745aba9517cad47e7_3336.profile']\n",
      "duplicate ERR: ['./data/tree-rep-profiles_o2o_smallshort/small/12.expiro_0.8/G512/9d317bb54dd8b0a9220823c405d53e3c5ee702ef7a9d6b0ed3f14bd86c51b352_2904.profile', './data/tree-rep-profiles_o2o_smallshort/short/12.expiro_0.8/G512/9d317bb54dd8b0a9220823c405d53e3c5ee702ef7a9d6b0ed3f14bd86c51b352_2904.profile']\n",
      "duplicate ERR: ['./data/tree-rep-profiles_o2o_smallshort/small/12.expiro_0.8/G512/17613f667c243371901f07a20e8a9380d954023a7ea04d935145102c66327315_2932.profile', './data/tree-rep-profiles_o2o_smallshort/short/12.expiro_0.8/G512/17613f667c243371901f07a20e8a9380d954023a7ea04d935145102c66327315_2932.profile']\n",
      "duplicate ERR: ['./data/tree-rep-profiles_o2o_smallshort/small/12.expiro_0.8/G554/e63936e6f073c2b0e65ae3e0654bf2fe91c92911a7541d693430e81855acd868_3320.profile', './data/tree-rep-profiles_o2o_smallshort/short/12.expiro_0.8/G554/e63936e6f073c2b0e65ae3e0654bf2fe91c92911a7541d693430e81855acd868_3320.profile']\n",
      "duplicate ERR: ['./data/tree-rep-profiles_o2o_smallshort/small/12.expiro_0.8/G554/4ac1e828e53029ebb899e0c5e8133ffa0bf9b39f06d355ac5d5055afd429ca93_3012.profile', './data/tree-rep-profiles_o2o_smallshort/short/12.expiro_0.8/G554/4ac1e828e53029ebb899e0c5e8133ffa0bf9b39f06d355ac5d5055afd429ca93_3012.profile']\n",
      "duplicate ERR: ['./data/tree-rep-profiles_o2o_smallshort/small/12.expiro_0.8/G488/aaef3b8f92950bfebdb113b10ab7b8aeb10f0d199aaf9a1ec33ae34eea335286_3324.profile', './data/tree-rep-profiles_o2o_smallshort/short/12.expiro_0.8/G488/aaef3b8f92950bfebdb113b10ab7b8aeb10f0d199aaf9a1ec33ae34eea335286_3324.profile']\n"
     ]
    },
    {
     "name": "stdout",
     "output_type": "stream",
     "text": [
      "duplicate ERR: ['./data/tree-rep-profiles_o2o_smallshort/small/12.expiro_0.8/G488/91674c0bedb3b661bab5dde5fffd26bb56469b609c8fc2ae2e1b0e39b7fcb177_3292.profile', './data/tree-rep-profiles_o2o_smallshort/short/12.expiro_0.8/G488/91674c0bedb3b661bab5dde5fffd26bb56469b609c8fc2ae2e1b0e39b7fcb177_3292.profile']\n",
      "duplicate ERR: ['./data/tree-rep-profiles_o2o_smallshort/small/12.expiro_0.8/G504/0fabf0c1598ec2837a615bfb1386089c0ea42643e4d009db02c6a4e45ce4cd64_3024.profile', './data/tree-rep-profiles_o2o_smallshort/short/12.expiro_0.8/G504/0fabf0c1598ec2837a615bfb1386089c0ea42643e4d009db02c6a4e45ce4cd64_3024.profile']\n",
      "duplicate ERR: ['./data/tree-rep-profiles_o2o_smallshort/small/12.expiro_0.8/G504/0c22f0291e921a968daa847fbe2f19df358fbc2a60f59e95bc580faa3fb5598a_3332.profile', './data/tree-rep-profiles_o2o_smallshort/short/12.expiro_0.8/G504/0c22f0291e921a968daa847fbe2f19df358fbc2a60f59e95bc580faa3fb5598a_3332.profile']\n",
      "duplicate ERR: ['./data/tree-rep-profiles_o2o_smallshort/small/12.expiro_0.8/G467/784db992199e272e41ee117e1552e5b1affd0918dd3f7ef295ec7bdea93cf090_2928.profile', './data/tree-rep-profiles_o2o_smallshort/short/12.expiro_0.8/G467/784db992199e272e41ee117e1552e5b1affd0918dd3f7ef295ec7bdea93cf090_2928.profile']\n",
      "duplicate ERR: ['./data/tree-rep-profiles_o2o_smallshort/small/12.expiro_0.8/G467/c4fbc97eee8dc5808545fc981bbb31be9e7b1107fdfed94ce03f98a767091248_3384.profile', './data/tree-rep-profiles_o2o_smallshort/short/12.expiro_0.8/G467/c4fbc97eee8dc5808545fc981bbb31be9e7b1107fdfed94ce03f98a767091248_3384.profile']\n",
      "duplicate ERR: ['./data/tree-rep-profiles_o2o_smallshort/small/12.expiro_0.8/G570/bc7a79ebc9562a76fed3a6cc8951ee76b230d8bf47aa8e15874fe7e0d5c6d53a_3184.profile', './data/tree-rep-profiles_o2o_smallshort/short/12.expiro_0.8/G570/bc7a79ebc9562a76fed3a6cc8951ee76b230d8bf47aa8e15874fe7e0d5c6d53a_3184.profile']\n",
      "duplicate ERR: ['./data/tree-rep-profiles_o2o_smallshort/small/12.expiro_0.8/G570/bc7a79ebc9562a76fed3a6cc8951ee76b230d8bf47aa8e15874fe7e0d5c6d53a_3276.profile', './data/tree-rep-profiles_o2o_smallshort/short/12.expiro_0.8/G570/bc7a79ebc9562a76fed3a6cc8951ee76b230d8bf47aa8e15874fe7e0d5c6d53a_3276.profile']\n",
      "duplicate ERR: ['./data/tree-rep-profiles_o2o_smallshort/small/12.expiro_0.8/G558/bc7a79ebc9562a76fed3a6cc8951ee76b230d8bf47aa8e15874fe7e0d5c6d53a_3268.profile', './data/tree-rep-profiles_o2o_smallshort/short/12.expiro_0.8/G558/bc7a79ebc9562a76fed3a6cc8951ee76b230d8bf47aa8e15874fe7e0d5c6d53a_3268.profile']\n",
      "duplicate ERR: ['./data/tree-rep-profiles_o2o_smallshort/small/12.expiro_0.8/G558/bc7a79ebc9562a76fed3a6cc8951ee76b230d8bf47aa8e15874fe7e0d5c6d53a_3172.profile', './data/tree-rep-profiles_o2o_smallshort/short/12.expiro_0.8/G558/bc7a79ebc9562a76fed3a6cc8951ee76b230d8bf47aa8e15874fe7e0d5c6d53a_3172.profile']\n",
      "duplicate ERR: ['./data/tree-rep-profiles_o2o_smallshort/small/12.expiro_0.8/G516/e68f8413a42d76a218df4c083c4f0463e7529fc1f0baf89bb9d2efd2ffa72beb_3292.profile', './data/tree-rep-profiles_o2o_smallshort/short/12.expiro_0.8/G516/e68f8413a42d76a218df4c083c4f0463e7529fc1f0baf89bb9d2efd2ffa72beb_3292.profile']\n",
      "duplicate ERR: ['./data/tree-rep-profiles_o2o_smallshort/small/12.expiro_0.8/G516/352a76f6799d71968693efda5510e81047e00e21b7725b2ae8ff10baa8e3ea1e_3208.profile', './data/tree-rep-profiles_o2o_smallshort/short/12.expiro_0.8/G516/352a76f6799d71968693efda5510e81047e00e21b7725b2ae8ff10baa8e3ea1e_3208.profile']\n",
      "duplicate ERR: ['./data/tree-rep-profiles_o2o_smallshort/small/12.expiro_0.8/G564/220850a42bd3ed74291808ae429818572e49adb62f9701f0837803f365937529_3272.profile', './data/tree-rep-profiles_o2o_smallshort/short/12.expiro_0.8/G564/220850a42bd3ed74291808ae429818572e49adb62f9701f0837803f365937529_3272.profile']\n",
      "duplicate ERR: ['./data/tree-rep-profiles_o2o_smallshort/small/12.expiro_0.8/G564/06d1b06f7e78ede2c34892cc282afbf7b466d0b5b23cb9f324356ff3289854df_3092.profile', './data/tree-rep-profiles_o2o_smallshort/short/12.expiro_0.8/G564/06d1b06f7e78ede2c34892cc282afbf7b466d0b5b23cb9f324356ff3289854df_3092.profile']\n",
      "duplicate ERR: ['./data/tree-rep-profiles_o2o_smallshort/small/12.expiro_0.8/G521/1669232219509c7acb09bbace0a31902014a4038dd6fd7189663fea4270225b4_3040.profile', './data/tree-rep-profiles_o2o_smallshort/short/12.expiro_0.8/G521/1669232219509c7acb09bbace0a31902014a4038dd6fd7189663fea4270225b4_3040.profile']\n",
      "duplicate ERR: ['./data/tree-rep-profiles_o2o_smallshort/small/12.expiro_0.8/G521/1669232219509c7acb09bbace0a31902014a4038dd6fd7189663fea4270225b4_3360.profile', './data/tree-rep-profiles_o2o_smallshort/short/12.expiro_0.8/G521/1669232219509c7acb09bbace0a31902014a4038dd6fd7189663fea4270225b4_3360.profile']\n",
      "duplicate ERR: ['./data/tree-rep-profiles_o2o_smallshort/small/12.expiro_0.8/G549/14a25c1b453028e5eff027b9c8c61cdbdf28bd65779b10d2eca8c776edff8533_3240.profile', './data/tree-rep-profiles_o2o_smallshort/short/12.expiro_0.8/G549/14a25c1b453028e5eff027b9c8c61cdbdf28bd65779b10d2eca8c776edff8533_3240.profile']\n",
      "duplicate ERR: ['./data/tree-rep-profiles_o2o_smallshort/small/12.expiro_0.8/G549/07a0537a864a396690def437bf68de9ae0fafdf7ccd2ea78524b805cbced7d53_3148.profile', './data/tree-rep-profiles_o2o_smallshort/short/12.expiro_0.8/G549/07a0537a864a396690def437bf68de9ae0fafdf7ccd2ea78524b805cbced7d53_3148.profile']\n",
      "duplicate ERR: ['./data/tree-rep-profiles_o2o_smallshort/small/12.expiro_0.8/G479/16b43c7666000fa9015c5beba27041ec3cceef3163a268cc3c5f107c4b703e3a_3240.profile', './data/tree-rep-profiles_o2o_smallshort/short/12.expiro_0.8/G479/16b43c7666000fa9015c5beba27041ec3cceef3163a268cc3c5f107c4b703e3a_3240.profile']\n",
      "duplicate ERR: ['./data/tree-rep-profiles_o2o_smallshort/small/12.expiro_0.8/G479/08d8b361dbfbfbedd2cced6b895d6f6fbe100f92700d400902d889a950c9af64_2856.profile', './data/tree-rep-profiles_o2o_smallshort/short/12.expiro_0.8/G479/08d8b361dbfbfbedd2cced6b895d6f6fbe100f92700d400902d889a950c9af64_2856.profile']\n",
      "duplicate ERR: ['./data/tree-rep-profiles_o2o_smallshort/small/12.expiro_0.8/G482/3651bbf0d49deb73a8d484e1898d65b33ae51025c5f6aaacbfa0d3a529e40d6d_2920.profile', './data/tree-rep-profiles_o2o_smallshort/short/12.expiro_0.8/G482/3651bbf0d49deb73a8d484e1898d65b33ae51025c5f6aaacbfa0d3a529e40d6d_2920.profile']\n",
      "duplicate ERR: ['./data/tree-rep-profiles_o2o_smallshort/small/12.expiro_0.8/G482/3651bbf0d49deb73a8d484e1898d65b33ae51025c5f6aaacbfa0d3a529e40d6d_3344.profile', './data/tree-rep-profiles_o2o_smallshort/short/12.expiro_0.8/G482/3651bbf0d49deb73a8d484e1898d65b33ae51025c5f6aaacbfa0d3a529e40d6d_3344.profile']\n",
      "duplicate ERR: ['./data/tree-rep-profiles_o2o_smallshort/small/12.expiro_0.8/G528/220850a42bd3ed74291808ae429818572e49adb62f9701f0837803f365937529_3008.profile', './data/tree-rep-profiles_o2o_smallshort/short/12.expiro_0.8/G528/220850a42bd3ed74291808ae429818572e49adb62f9701f0837803f365937529_3008.profile']\n",
      "duplicate ERR: ['./data/tree-rep-profiles_o2o_smallshort/small/12.expiro_0.8/G528/0a0242e47d66b0830acea6c114f2214f0695ddd6fd14e4493e1a27bbd7189565_3328.profile', './data/tree-rep-profiles_o2o_smallshort/short/12.expiro_0.8/G528/0a0242e47d66b0830acea6c114f2214f0695ddd6fd14e4493e1a27bbd7189565_3328.profile']\n",
      "duplicate ERR: ['./data/tree-rep-profiles_o2o_smallshort/small/12.expiro_0.8/G462/0c4a8beadc7a7e96a1bf5137164f314707fe55d564f6f81f33b9c4dbe9c17f44_2984.profile', './data/tree-rep-profiles_o2o_smallshort/short/12.expiro_0.8/G462/0c4a8beadc7a7e96a1bf5137164f314707fe55d564f6f81f33b9c4dbe9c17f44_2984.profile']\n",
      "duplicate ERR: ['./data/tree-rep-profiles_o2o_smallshort/small/12.expiro_0.8/G462/39f87405b73f5ed4e9e18269a4f813b700e8458e559418034c765dd9bcd49143_3164.profile', './data/tree-rep-profiles_o2o_smallshort/short/12.expiro_0.8/G462/39f87405b73f5ed4e9e18269a4f813b700e8458e559418034c765dd9bcd49143_3164.profile']\n",
      "duplicate ERR: ['./data/tree-rep-profiles_o2o_smallshort/small/12.expiro_0.8/G469/ef8ed1e4afb41fa9c065faae244653692e67a53be9beb718db886e7e1b9d7f1e_3396.profile', './data/tree-rep-profiles_o2o_smallshort/short/12.expiro_0.8/G469/ef8ed1e4afb41fa9c065faae244653692e67a53be9beb718db886e7e1b9d7f1e_3396.profile']\n",
      "duplicate ERR: ['./data/tree-rep-profiles_o2o_smallshort/small/12.expiro_0.8/G469/4c23741ca9fc3353bbca6ad516dd3edc200d66a05e4cbc6077cf8df9c87188a6_3316.profile', './data/tree-rep-profiles_o2o_smallshort/short/12.expiro_0.8/G469/4c23741ca9fc3353bbca6ad516dd3edc200d66a05e4cbc6077cf8df9c87188a6_3316.profile']\n",
      "duplicate ERR: ['./data/tree-rep-profiles_o2o_smallshort/small/12.expiro_0.8/G563/15c1f367e08b8dd06895c5365ed15bb029628fb0137690c59220839e6fd386e5_3272.profile', './data/tree-rep-profiles_o2o_smallshort/short/12.expiro_0.8/G563/15c1f367e08b8dd06895c5365ed15bb029628fb0137690c59220839e6fd386e5_3272.profile']\n",
      "duplicate ERR: ['./data/tree-rep-profiles_o2o_smallshort/small/12.expiro_0.8/G563/0d27d54e96a8a6a1793aa03db1b055855e1ff7733aeafbbc838e86647c609844_3268.profile', './data/tree-rep-profiles_o2o_smallshort/short/12.expiro_0.8/G563/0d27d54e96a8a6a1793aa03db1b055855e1ff7733aeafbbc838e86647c609844_3268.profile']\n",
      "duplicate ERR: ['./data/tree-rep-profiles_o2o_smallshort/small/12.expiro_0.8/G480/bf335ec7b24b6bb02c28f571bc05b6a5359351d99f105b58024bdf7a35a33543_3192.profile', './data/tree-rep-profiles_o2o_smallshort/short/12.expiro_0.8/G480/bf335ec7b24b6bb02c28f571bc05b6a5359351d99f105b58024bdf7a35a33543_3192.profile']\n",
      "duplicate ERR: ['./data/tree-rep-profiles_o2o_smallshort/small/12.expiro_0.8/G480/6a0677516da6dd5c02ef130c3674febcf75fe75dd95cab497b3e83141ce0de42_3296.profile', './data/tree-rep-profiles_o2o_smallshort/short/12.expiro_0.8/G480/6a0677516da6dd5c02ef130c3674febcf75fe75dd95cab497b3e83141ce0de42_3296.profile']\n",
      "duplicate ERR: ['./data/tree-rep-profiles_o2o_smallshort/small/12.expiro_0.8/G470/fea9b4acb16530be55063736611d55dc2a429a5b4e443856671121915ff274eb_3224.profile', './data/tree-rep-profiles_o2o_smallshort/short/12.expiro_0.8/G470/fea9b4acb16530be55063736611d55dc2a429a5b4e443856671121915ff274eb_3224.profile']\n",
      "duplicate ERR: ['./data/tree-rep-profiles_o2o_smallshort/small/12.expiro_0.8/G470/0caa9ce2257803794d972c8d0442f7420889ee8b8bc880165008c342659de678_3060.profile', './data/tree-rep-profiles_o2o_smallshort/short/12.expiro_0.8/G470/0caa9ce2257803794d972c8d0442f7420889ee8b8bc880165008c342659de678_3060.profile']\n"
     ]
    },
    {
     "name": "stderr",
     "output_type": "stream",
     "text": [
      "\r",
      " 30%|██▉       | 47/159 [00:23<01:32,  1.22it/s]"
     ]
    },
    {
     "name": "stdout",
     "output_type": "stream",
     "text": [
      "duplicate ERR: ['./data/tree-rep-profiles_o2o_smallshort/small/12.expiro_0.8/G495/44747ce5a9055fab069d15667aa381c456df1a615bc18f9dc87906fbdd126524_2880.profile', './data/tree-rep-profiles_o2o_smallshort/short/12.expiro_0.8/G495/44747ce5a9055fab069d15667aa381c456df1a615bc18f9dc87906fbdd126524_2880.profile']\n",
      "duplicate ERR: ['./data/tree-rep-profiles_o2o_smallshort/small/12.expiro_0.8/G495/44747ce5a9055fab069d15667aa381c456df1a615bc18f9dc87906fbdd126524_3316.profile', './data/tree-rep-profiles_o2o_smallshort/short/12.expiro_0.8/G495/44747ce5a9055fab069d15667aa381c456df1a615bc18f9dc87906fbdd126524_3316.profile']\n",
      "duplicate ERR: ['./data/tree-rep-profiles_o2o_smallshort/small/12.expiro_0.8/G492/0bced8ba7baeb83806125b684f6df260fb602a35c03ca4898e3b5c2cc0fa71ff_3348.profile', './data/tree-rep-profiles_o2o_smallshort/short/12.expiro_0.8/G492/0bced8ba7baeb83806125b684f6df260fb602a35c03ca4898e3b5c2cc0fa71ff_3348.profile']\n",
      "duplicate ERR: ['./data/tree-rep-profiles_o2o_smallshort/small/12.expiro_0.8/G492/0e13d642087c4d365bc86cf0c06175765ba1a3581e0e7d3530387203467b1ba5_3412.profile', './data/tree-rep-profiles_o2o_smallshort/short/12.expiro_0.8/G492/0e13d642087c4d365bc86cf0c06175765ba1a3581e0e7d3530387203467b1ba5_3412.profile']\n",
      "duplicate ERR: ['./data/tree-rep-profiles_o2o_smallshort/small/150.manbat_0.8/G19/7585c6bc2ef6308654e51ed226d6d3297cf895dc57728b0809fbf7b74b29fdc9_2956.profile', './data/tree-rep-profiles_o2o_smallshort/short/150.manbat_0.8/G19/7585c6bc2ef6308654e51ed226d6d3297cf895dc57728b0809fbf7b74b29fdc9_2956.profile']\n",
      "duplicate ERR: ['./data/tree-rep-profiles_o2o_smallshort/small/150.manbat_0.8/G19/7585c6bc2ef6308654e51ed226d6d3297cf895dc57728b0809fbf7b74b29fdc9_2948.profile', './data/tree-rep-profiles_o2o_smallshort/short/150.manbat_0.8/G19/7585c6bc2ef6308654e51ed226d6d3297cf895dc57728b0809fbf7b74b29fdc9_2948.profile']\n",
      "duplicate ERR: ['./data/tree-rep-profiles_o2o_smallshort/small/92.valla_0.8/G35/a50eba8c8e805dcc2d539b56aacf9defa41aaf9c844694c45c50d636b5d90345_3240.profile', './data/tree-rep-profiles_o2o_smallshort/short/92.valla_0.8/G35/a50eba8c8e805dcc2d539b56aacf9defa41aaf9c844694c45c50d636b5d90345_3240.profile']\n",
      "duplicate ERR: ['./data/tree-rep-profiles_o2o_smallshort/small/92.valla_0.8/G35/a50eba8c8e805dcc2d539b56aacf9defa41aaf9c844694c45c50d636b5d90345_3352.profile', './data/tree-rep-profiles_o2o_smallshort/short/92.valla_0.8/G35/a50eba8c8e805dcc2d539b56aacf9defa41aaf9c844694c45c50d636b5d90345_3352.profile']\n"
     ]
    },
    {
     "name": "stderr",
     "output_type": "stream",
     "text": [
      "\r",
      " 31%|███       | 49/159 [00:23<01:08,  1.61it/s]"
     ]
    },
    {
     "name": "stdout",
     "output_type": "stream",
     "text": [
      "duplicate ERR: ['./data/tree-rep-profiles_o2o_smallshort/small/92.valla_0.8/G37/a50eba8c8e805dcc2d539b56aacf9defa41aaf9c844694c45c50d636b5d90345_3464.profile', './data/tree-rep-profiles_o2o_smallshort/short/92.valla_0.8/G37/a50eba8c8e805dcc2d539b56aacf9defa41aaf9c844694c45c50d636b5d90345_3464.profile']\n",
      "duplicate ERR: ['./data/tree-rep-profiles_o2o_smallshort/small/92.valla_0.8/G37/a50eba8c8e805dcc2d539b56aacf9defa41aaf9c844694c45c50d636b5d90345_3504.profile', './data/tree-rep-profiles_o2o_smallshort/short/92.valla_0.8/G37/a50eba8c8e805dcc2d539b56aacf9defa41aaf9c844694c45c50d636b5d90345_3504.profile']\n",
      "duplicate ERR: ['./data/tree-rep-profiles_o2o_smallshort/small/92.valla_0.8/G34/d776936f272bbd45498b8d16106da2c522988c53b567b34eec0090becf5eac26_3364.profile', './data/tree-rep-profiles_o2o_smallshort/short/92.valla_0.8/G34/d776936f272bbd45498b8d16106da2c522988c53b567b34eec0090becf5eac26_3364.profile']\n",
      "duplicate ERR: ['./data/tree-rep-profiles_o2o_smallshort/small/92.valla_0.8/G34/d776936f272bbd45498b8d16106da2c522988c53b567b34eec0090becf5eac26_3376.profile', './data/tree-rep-profiles_o2o_smallshort/short/92.valla_0.8/G34/d776936f272bbd45498b8d16106da2c522988c53b567b34eec0090becf5eac26_3376.profile']\n",
      "duplicate ERR: ['./data/tree-rep-profiles_o2o_smallshort/small/92.valla_0.8/G39/8a70c1d8c8646dcba56926532f684c3284ac1308063ca4a859ea3fc819ae4dd0_3372.profile', './data/tree-rep-profiles_o2o_smallshort/short/92.valla_0.8/G39/8a70c1d8c8646dcba56926532f684c3284ac1308063ca4a859ea3fc819ae4dd0_3372.profile']\n",
      "duplicate ERR: ['./data/tree-rep-profiles_o2o_smallshort/small/92.valla_0.8/G39/8a70c1d8c8646dcba56926532f684c3284ac1308063ca4a859ea3fc819ae4dd0_3428.profile', './data/tree-rep-profiles_o2o_smallshort/short/92.valla_0.8/G39/8a70c1d8c8646dcba56926532f684c3284ac1308063ca4a859ea3fc819ae4dd0_3428.profile']\n",
      "duplicate ERR: ['./data/tree-rep-profiles_o2o_smallshort/small/92.valla_0.8/G40/14c4287926eeacde613e7c8963a2ff0693e8ebdb03fe692c2709d368dd194528_2828.profile', './data/tree-rep-profiles_o2o_smallshort/short/92.valla_0.8/G40/14c4287926eeacde613e7c8963a2ff0693e8ebdb03fe692c2709d368dd194528_2828.profile']\n",
      "duplicate ERR: ['./data/tree-rep-profiles_o2o_smallshort/small/92.valla_0.8/G40/83c790c35f26699c6f5c6bf6dde5db2716179a1b8b5832c1162aa80d32b860e1_3240.profile', './data/tree-rep-profiles_o2o_smallshort/short/92.valla_0.8/G40/83c790c35f26699c6f5c6bf6dde5db2716179a1b8b5832c1162aa80d32b860e1_3240.profile']\n",
      "duplicate ERR: ['./data/tree-rep-profiles_o2o_smallshort/small/84.vbkrypt_0.8/G38/1d20a599132bfae2a1505608ab2aec5773bac547db28c13175aa3843448bdd8b_3216.profile', './data/tree-rep-profiles_o2o_smallshort/short/84.vbkrypt_0.8/G38/1d20a599132bfae2a1505608ab2aec5773bac547db28c13175aa3843448bdd8b_3216.profile']\n",
      "duplicate ERR: ['./data/tree-rep-profiles_o2o_smallshort/small/84.vbkrypt_0.8/G38/1d20a599132bfae2a1505608ab2aec5773bac547db28c13175aa3843448bdd8b_3344.profile', './data/tree-rep-profiles_o2o_smallshort/short/84.vbkrypt_0.8/G38/1d20a599132bfae2a1505608ab2aec5773bac547db28c13175aa3843448bdd8b_3344.profile']\n",
      "duplicate ERR: ['./data/tree-rep-profiles_o2o_smallshort/small/31.elkern_0.8/G164/527a25ad13e99b0f75d048f2bae524b1d7772914de1f1338eebb687eb8ea6014_3196.profile', './data/tree-rep-profiles_o2o_smallshort/short/31.elkern_0.8/G164/527a25ad13e99b0f75d048f2bae524b1d7772914de1f1338eebb687eb8ea6014_3196.profile']\n",
      "duplicate ERR: ['./data/tree-rep-profiles_o2o_smallshort/small/31.elkern_0.8/G164/b52c4ecfc4c0b83ad6ca54a44e844a7b0f55a8a89ac8cf808709622431b7c6b4_3108.profile', './data/tree-rep-profiles_o2o_smallshort/short/31.elkern_0.8/G164/b52c4ecfc4c0b83ad6ca54a44e844a7b0f55a8a89ac8cf808709622431b7c6b4_3108.profile']\n",
      "duplicate ERR: ['./data/tree-rep-profiles_o2o_smallshort/small/31.elkern_0.8/G209/527a25ad13e99b0f75d048f2bae524b1d7772914de1f1338eebb687eb8ea6014_3508.profile', './data/tree-rep-profiles_o2o_smallshort/short/31.elkern_0.8/G209/527a25ad13e99b0f75d048f2bae524b1d7772914de1f1338eebb687eb8ea6014_3508.profile']\n",
      "duplicate ERR: ['./data/tree-rep-profiles_o2o_smallshort/small/31.elkern_0.8/G209/527a25ad13e99b0f75d048f2bae524b1d7772914de1f1338eebb687eb8ea6014_3496.profile', './data/tree-rep-profiles_o2o_smallshort/short/31.elkern_0.8/G209/527a25ad13e99b0f75d048f2bae524b1d7772914de1f1338eebb687eb8ea6014_3496.profile']\n",
      "duplicate ERR: ['./data/tree-rep-profiles_o2o_smallshort/small/31.elkern_0.8/G169/b52c4ecfc4c0b83ad6ca54a44e844a7b0f55a8a89ac8cf808709622431b7c6b4_3200.profile', './data/tree-rep-profiles_o2o_smallshort/short/31.elkern_0.8/G169/b52c4ecfc4c0b83ad6ca54a44e844a7b0f55a8a89ac8cf808709622431b7c6b4_3200.profile']\n",
      "duplicate ERR: ['./data/tree-rep-profiles_o2o_smallshort/small/31.elkern_0.8/G169/527a25ad13e99b0f75d048f2bae524b1d7772914de1f1338eebb687eb8ea6014_3444.profile', './data/tree-rep-profiles_o2o_smallshort/short/31.elkern_0.8/G169/527a25ad13e99b0f75d048f2bae524b1d7772914de1f1338eebb687eb8ea6014_3444.profile']\n"
     ]
    },
    {
     "name": "stderr",
     "output_type": "stream",
     "text": [
      "\r",
      " 32%|███▏      | 51/159 [00:23<00:52,  2.07it/s]"
     ]
    },
    {
     "name": "stdout",
     "output_type": "stream",
     "text": [
      "duplicate ERR: ['./data/tree-rep-profiles_o2o_smallshort/small/31.elkern_0.8/G168/527a25ad13e99b0f75d048f2bae524b1d7772914de1f1338eebb687eb8ea6014_3488.profile', './data/tree-rep-profiles_o2o_smallshort/short/31.elkern_0.8/G168/527a25ad13e99b0f75d048f2bae524b1d7772914de1f1338eebb687eb8ea6014_3488.profile']\n",
      "duplicate ERR: ['./data/tree-rep-profiles_o2o_smallshort/small/31.elkern_0.8/G168/b52c4ecfc4c0b83ad6ca54a44e844a7b0f55a8a89ac8cf808709622431b7c6b4_3296.profile', './data/tree-rep-profiles_o2o_smallshort/short/31.elkern_0.8/G168/b52c4ecfc4c0b83ad6ca54a44e844a7b0f55a8a89ac8cf808709622431b7c6b4_3296.profile']\n",
      "duplicate ERR: ['./data/tree-rep-profiles_o2o_smallshort/small/31.elkern_0.8/G167/134c004f87ec2311354b4b5a3a0ab4cbcf33579a0124c6df41c4b172be5f5d9f_760.profile', './data/tree-rep-profiles_o2o_smallshort/short/31.elkern_0.8/G167/134c004f87ec2311354b4b5a3a0ab4cbcf33579a0124c6df41c4b172be5f5d9f_760.profile']\n",
      "duplicate ERR: ['./data/tree-rep-profiles_o2o_smallshort/small/31.elkern_0.8/G167/3d222d1ae726093ef0c235610a986aa84e7e8c0335b8e8f18179e218c00d6fd1_3268.profile', './data/tree-rep-profiles_o2o_smallshort/short/31.elkern_0.8/G167/3d222d1ae726093ef0c235610a986aa84e7e8c0335b8e8f18179e218c00d6fd1_3268.profile']\n",
      "duplicate ERR: ['./data/tree-rep-profiles_o2o_smallshort/small/32.outbrowse_0.8/G235/0f40623cd9855a1cf4bcea03ff6e22baf204fb69b4943bbf2f2f9a193fec4878_2924.profile', './data/tree-rep-profiles_o2o_smallshort/short/32.outbrowse_0.8/G235/0f40623cd9855a1cf4bcea03ff6e22baf204fb69b4943bbf2f2f9a193fec4878_2924.profile']\n",
      "duplicate ERR: ['./data/tree-rep-profiles_o2o_smallshort/small/32.outbrowse_0.8/G235/0f40623cd9855a1cf4bcea03ff6e22baf204fb69b4943bbf2f2f9a193fec4878_3292.profile', './data/tree-rep-profiles_o2o_smallshort/short/32.outbrowse_0.8/G235/0f40623cd9855a1cf4bcea03ff6e22baf204fb69b4943bbf2f2f9a193fec4878_3292.profile']\n",
      "duplicate ERR: ['./data/tree-rep-profiles_o2o_smallshort/small/32.outbrowse_0.8/G240/a544dbfd5a78b548754b393b988a7ebd113255639386cb76c9272817f041a40b_2880.profile', './data/tree-rep-profiles_o2o_smallshort/short/32.outbrowse_0.8/G240/a544dbfd5a78b548754b393b988a7ebd113255639386cb76c9272817f041a40b_2880.profile']\n",
      "duplicate ERR: ['./data/tree-rep-profiles_o2o_smallshort/small/32.outbrowse_0.8/G240/a544dbfd5a78b548754b393b988a7ebd113255639386cb76c9272817f041a40b_3264.profile', './data/tree-rep-profiles_o2o_smallshort/short/32.outbrowse_0.8/G240/a544dbfd5a78b548754b393b988a7ebd113255639386cb76c9272817f041a40b_3264.profile']\n",
      "duplicate ERR: ['./data/tree-rep-profiles_o2o_smallshort/small/32.outbrowse_0.8/G243/95b3dcf92ec54b1fca6f05360bc5da5cd5e1b61ef54e0e28cf24eda5db8ec876_3216.profile', './data/tree-rep-profiles_o2o_smallshort/short/32.outbrowse_0.8/G243/95b3dcf92ec54b1fca6f05360bc5da5cd5e1b61ef54e0e28cf24eda5db8ec876_3216.profile']\n",
      "duplicate ERR: ['./data/tree-rep-profiles_o2o_smallshort/small/32.outbrowse_0.8/G243/95b3dcf92ec54b1fca6f05360bc5da5cd5e1b61ef54e0e28cf24eda5db8ec876_3412.profile', './data/tree-rep-profiles_o2o_smallshort/short/32.outbrowse_0.8/G243/95b3dcf92ec54b1fca6f05360bc5da5cd5e1b61ef54e0e28cf24eda5db8ec876_3412.profile']\n",
      "duplicate ERR: ['./data/tree-rep-profiles_o2o_smallshort/small/32.outbrowse_0.8/G231/d455a63a7933fa164b8231517d3bc31bc4e7f10d2af6f3aa73ae5501fc352607_3380.profile', './data/tree-rep-profiles_o2o_smallshort/short/32.outbrowse_0.8/G231/d455a63a7933fa164b8231517d3bc31bc4e7f10d2af6f3aa73ae5501fc352607_3380.profile']\n",
      "duplicate ERR: ['./data/tree-rep-profiles_o2o_smallshort/small/32.outbrowse_0.8/G231/904ba84de6b1bcb3a4d70cd3c38717159e7c80bb0a229abd012b425a6aa6cb54_3396.profile', './data/tree-rep-profiles_o2o_smallshort/short/32.outbrowse_0.8/G231/904ba84de6b1bcb3a4d70cd3c38717159e7c80bb0a229abd012b425a6aa6cb54_3396.profile']\n",
      "duplicate ERR: ['./data/tree-rep-profiles_o2o_smallshort/small/32.outbrowse_0.8/G241/9677dd1a6eceb05636afc6d29c0392ca3784d999b981af0c9168b586220ad1e1_3368.profile', './data/tree-rep-profiles_o2o_smallshort/short/32.outbrowse_0.8/G241/9677dd1a6eceb05636afc6d29c0392ca3784d999b981af0c9168b586220ad1e1_3368.profile']\n",
      "duplicate ERR: ['./data/tree-rep-profiles_o2o_smallshort/small/32.outbrowse_0.8/G241/71a98772f7a643a0980bed5741d69c7c02dfce7c75d196a21234f278ba6f47e4_3360.profile', './data/tree-rep-profiles_o2o_smallshort/short/32.outbrowse_0.8/G241/71a98772f7a643a0980bed5741d69c7c02dfce7c75d196a21234f278ba6f47e4_3360.profile']\n",
      "duplicate ERR: ['./data/tree-rep-profiles_o2o_smallshort/small/32.outbrowse_0.8/G210/f0e8a0e0bc9670a3ef6f87f57a43944b901a42510409db8ab6ffd0ae47e2f084_2908.profile', './data/tree-rep-profiles_o2o_smallshort/short/32.outbrowse_0.8/G210/f0e8a0e0bc9670a3ef6f87f57a43944b901a42510409db8ab6ffd0ae47e2f084_2908.profile']\n",
      "duplicate ERR: ['./data/tree-rep-profiles_o2o_smallshort/small/32.outbrowse_0.8/G210/f0e8a0e0bc9670a3ef6f87f57a43944b901a42510409db8ab6ffd0ae47e2f084_3316.profile', './data/tree-rep-profiles_o2o_smallshort/short/32.outbrowse_0.8/G210/f0e8a0e0bc9670a3ef6f87f57a43944b901a42510409db8ab6ffd0ae47e2f084_3316.profile']\n",
      "duplicate ERR: ['./data/tree-rep-profiles_o2o_smallshort/small/32.outbrowse_0.8/G209/9d839b4b0e90b93a46ecc8c0fc9c0820ba1005339b78aeac5b78d41ece5e68fd_3292.profile', './data/tree-rep-profiles_o2o_smallshort/short/32.outbrowse_0.8/G209/9d839b4b0e90b93a46ecc8c0fc9c0820ba1005339b78aeac5b78d41ece5e68fd_3292.profile']\n",
      "duplicate ERR: ['./data/tree-rep-profiles_o2o_smallshort/small/32.outbrowse_0.8/G209/7c5c1c720bcbc9366c70975b5e71f024906b92af6145c10b3b4b6e59597c8035_3236.profile', './data/tree-rep-profiles_o2o_smallshort/short/32.outbrowse_0.8/G209/7c5c1c720bcbc9366c70975b5e71f024906b92af6145c10b3b4b6e59597c8035_3236.profile']\n",
      "duplicate ERR: ['./data/tree-rep-profiles_o2o_smallshort/small/32.outbrowse_0.8/G239/7c5c1c720bcbc9366c70975b5e71f024906b92af6145c10b3b4b6e59597c8035_3300.profile', './data/tree-rep-profiles_o2o_smallshort/short/32.outbrowse_0.8/G239/7c5c1c720bcbc9366c70975b5e71f024906b92af6145c10b3b4b6e59597c8035_3300.profile']\n",
      "duplicate ERR: ['./data/tree-rep-profiles_o2o_smallshort/small/32.outbrowse_0.8/G239/9d839b4b0e90b93a46ecc8c0fc9c0820ba1005339b78aeac5b78d41ece5e68fd_3360.profile', './data/tree-rep-profiles_o2o_smallshort/short/32.outbrowse_0.8/G239/9d839b4b0e90b93a46ecc8c0fc9c0820ba1005339b78aeac5b78d41ece5e68fd_3360.profile']\n",
      "duplicate ERR: ['./data/tree-rep-profiles_o2o_smallshort/small/32.outbrowse_0.8/G217/d4d76727c6493c2c7972b0b1f43733321c66f0e4bda856306199d73af6420cc0_3240.profile', './data/tree-rep-profiles_o2o_smallshort/short/32.outbrowse_0.8/G217/d4d76727c6493c2c7972b0b1f43733321c66f0e4bda856306199d73af6420cc0_3240.profile']\n",
      "duplicate ERR: ['./data/tree-rep-profiles_o2o_smallshort/small/32.outbrowse_0.8/G217/d4d76727c6493c2c7972b0b1f43733321c66f0e4bda856306199d73af6420cc0_2916.profile', './data/tree-rep-profiles_o2o_smallshort/short/32.outbrowse_0.8/G217/d4d76727c6493c2c7972b0b1f43733321c66f0e4bda856306199d73af6420cc0_2916.profile']\n",
      "duplicate ERR: ['./data/tree-rep-profiles_o2o_smallshort/small/32.outbrowse_0.8/G242/95b3dcf92ec54b1fca6f05360bc5da5cd5e1b61ef54e0e28cf24eda5db8ec876_3472.profile', './data/tree-rep-profiles_o2o_smallshort/short/32.outbrowse_0.8/G242/95b3dcf92ec54b1fca6f05360bc5da5cd5e1b61ef54e0e28cf24eda5db8ec876_3472.profile']\n",
      "duplicate ERR: ['./data/tree-rep-profiles_o2o_smallshort/small/32.outbrowse_0.8/G242/95b3dcf92ec54b1fca6f05360bc5da5cd5e1b61ef54e0e28cf24eda5db8ec876_3328.profile', './data/tree-rep-profiles_o2o_smallshort/short/32.outbrowse_0.8/G242/95b3dcf92ec54b1fca6f05360bc5da5cd5e1b61ef54e0e28cf24eda5db8ec876_3328.profile']\n"
     ]
    },
    {
     "name": "stderr",
     "output_type": "stream",
     "text": [
      "\r",
      " 33%|███▎      | 52/159 [00:24<00:55,  1.92it/s]"
     ]
    },
    {
     "name": "stdout",
     "output_type": "stream",
     "text": [
      "duplicate ERR: ['./data/tree-rep-profiles_o2o_smallshort/small/32.outbrowse_0.8/G205/95b3dcf92ec54b1fca6f05360bc5da5cd5e1b61ef54e0e28cf24eda5db8ec876_3648.profile', './data/tree-rep-profiles_o2o_smallshort/short/32.outbrowse_0.8/G205/95b3dcf92ec54b1fca6f05360bc5da5cd5e1b61ef54e0e28cf24eda5db8ec876_3648.profile']\n",
      "duplicate ERR: ['./data/tree-rep-profiles_o2o_smallshort/small/32.outbrowse_0.8/G205/4899acc17b51fca176f0a8ca0c8a5c46090568b1079c3cc87aa62842fb07957e_3280.profile', './data/tree-rep-profiles_o2o_smallshort/short/32.outbrowse_0.8/G205/4899acc17b51fca176f0a8ca0c8a5c46090568b1079c3cc87aa62842fb07957e_3280.profile']\n",
      "duplicate ERR: ['./data/tree-rep-profiles_o2o_smallshort/small/32.outbrowse_0.8/G225/95b3dcf92ec54b1fca6f05360bc5da5cd5e1b61ef54e0e28cf24eda5db8ec876_3440.profile', './data/tree-rep-profiles_o2o_smallshort/short/32.outbrowse_0.8/G225/95b3dcf92ec54b1fca6f05360bc5da5cd5e1b61ef54e0e28cf24eda5db8ec876_3440.profile']\n",
      "duplicate ERR: ['./data/tree-rep-profiles_o2o_smallshort/small/32.outbrowse_0.8/G225/95b3dcf92ec54b1fca6f05360bc5da5cd5e1b61ef54e0e28cf24eda5db8ec876_3304.profile', './data/tree-rep-profiles_o2o_smallshort/short/32.outbrowse_0.8/G225/95b3dcf92ec54b1fca6f05360bc5da5cd5e1b61ef54e0e28cf24eda5db8ec876_3304.profile']\n",
      "duplicate ERR: ['./data/tree-rep-profiles_o2o_smallshort/small/117.sdbot_0.8/G25/11e4ffa7435e1ecf5822fa22e222727702aedbbfca53995c3e400c75b0ed0f25_3252.profile', './data/tree-rep-profiles_o2o_smallshort/short/117.sdbot_0.8/G25/11e4ffa7435e1ecf5822fa22e222727702aedbbfca53995c3e400c75b0ed0f25_3252.profile']\n",
      "duplicate ERR: ['./data/tree-rep-profiles_o2o_smallshort/small/117.sdbot_0.8/G25/15f7648c72adb45df00a1d81500e03f8637168d7132e8c178f83006698dd399c_3224.profile', './data/tree-rep-profiles_o2o_smallshort/short/117.sdbot_0.8/G25/15f7648c72adb45df00a1d81500e03f8637168d7132e8c178f83006698dd399c_3224.profile']\n",
      "duplicate ERR: ['./data/tree-rep-profiles_o2o_smallshort/small/117.sdbot_0.8/G24/08bb439e0f17798090b43faa5728398aa2d881c2ad32b3e30d3257579b953ce3_3260.profile', './data/tree-rep-profiles_o2o_smallshort/short/117.sdbot_0.8/G24/08bb439e0f17798090b43faa5728398aa2d881c2ad32b3e30d3257579b953ce3_3260.profile']\n",
      "duplicate ERR: ['./data/tree-rep-profiles_o2o_smallshort/small/117.sdbot_0.8/G24/08ee35925f4072450e9754b90fcd4e3d583cc71866b8b481da9edf971af4d63f_3228.profile', './data/tree-rep-profiles_o2o_smallshort/short/117.sdbot_0.8/G24/08ee35925f4072450e9754b90fcd4e3d583cc71866b8b481da9edf971af4d63f_3228.profile']\n",
      "duplicate ERR: ['./data/tree-rep-profiles_o2o_smallshort/small/117.sdbot_0.8/G26/1f725b9f434ce422978f39312fa391abd4d0bfeeded62789b24ff5acb1b41e36_3296.profile', './data/tree-rep-profiles_o2o_smallshort/short/117.sdbot_0.8/G26/1f725b9f434ce422978f39312fa391abd4d0bfeeded62789b24ff5acb1b41e36_3296.profile']\n"
     ]
    },
    {
     "name": "stderr",
     "output_type": "stream",
     "text": [
      " 34%|███▍      | 54/159 [00:24<00:35,  2.94it/s]"
     ]
    },
    {
     "name": "stdout",
     "output_type": "stream",
     "text": [
      "duplicate ERR: ['./data/tree-rep-profiles_o2o_smallshort/small/117.sdbot_0.8/G26/b0b209f9e15110bc8b805235ad7067372e99ee466e4f950bb52ddc90f3e676f5_3288.profile', './data/tree-rep-profiles_o2o_smallshort/short/117.sdbot_0.8/G26/b0b209f9e15110bc8b805235ad7067372e99ee466e4f950bb52ddc90f3e676f5_3288.profile']\n",
      "duplicate ERR: ['./data/tree-rep-profiles_o2o_smallshort/small/117.sdbot_0.8/G27/08ccf2fb933b7a788c0105fc72cc6dbae508686896142492af5cd261b942ffd3_3256.profile', './data/tree-rep-profiles_o2o_smallshort/short/117.sdbot_0.8/G27/08ccf2fb933b7a788c0105fc72cc6dbae508686896142492af5cd261b942ffd3_3256.profile']\n",
      "duplicate ERR: ['./data/tree-rep-profiles_o2o_smallshort/small/117.sdbot_0.8/G27/08ccf2fb933b7a788c0105fc72cc6dbae508686896142492af5cd261b942ffd3_3328.profile', './data/tree-rep-profiles_o2o_smallshort/short/117.sdbot_0.8/G27/08ccf2fb933b7a788c0105fc72cc6dbae508686896142492af5cd261b942ffd3_3328.profile']\n",
      "duplicate ERR: ['./data/tree-rep-profiles_o2o_smallshort/small/95.farfli_0.8/G29/1f501dcf99b752384617992fc761026c400b5d76b46e2c6a3a53cf75c6ed30fb_3284.profile', './data/tree-rep-profiles_o2o_smallshort/short/95.farfli_0.8/G29/1f501dcf99b752384617992fc761026c400b5d76b46e2c6a3a53cf75c6ed30fb_3284.profile']\n",
      "duplicate ERR: ['./data/tree-rep-profiles_o2o_smallshort/small/95.farfli_0.8/G29/099d1e7eee79d3beec8a4762a0084e9b913eb87c65e65e1b445240e22721299d_3164.profile', './data/tree-rep-profiles_o2o_smallshort/short/95.farfli_0.8/G29/099d1e7eee79d3beec8a4762a0084e9b913eb87c65e65e1b445240e22721299d_3164.profile']\n",
      "duplicate ERR: ['./data/tree-rep-profiles_o2o_smallshort/small/95.farfli_0.8/G30/6da7046d4b10ae510d6bb4a734ed667ed8756a12bf77410f5d95c009f384b214_3168.profile', './data/tree-rep-profiles_o2o_smallshort/short/95.farfli_0.8/G30/6da7046d4b10ae510d6bb4a734ed667ed8756a12bf77410f5d95c009f384b214_3168.profile']\n",
      "duplicate ERR: ['./data/tree-rep-profiles_o2o_smallshort/small/95.farfli_0.8/G30/7a9e638d2cf111e1f109937281e3fb8b84692858f09d815aef99b0675cebc32f_3292.profile', './data/tree-rep-profiles_o2o_smallshort/short/95.farfli_0.8/G30/7a9e638d2cf111e1f109937281e3fb8b84692858f09d815aef99b0675cebc32f_3292.profile']\n",
      "duplicate ERR: ['./data/tree-rep-profiles_o2o_smallshort/small/95.farfli_0.8/G31/08f41dc2ddfd0a07a49aca6138835b70bf4fb04b0ca7796d531d8a88e37ac3a1_3396.profile', './data/tree-rep-profiles_o2o_smallshort/short/95.farfli_0.8/G31/08f41dc2ddfd0a07a49aca6138835b70bf4fb04b0ca7796d531d8a88e37ac3a1_3396.profile']\n",
      "duplicate ERR: ['./data/tree-rep-profiles_o2o_smallshort/small/95.farfli_0.8/G31/1cfd4d7cc2fa0b67ad55619e901463b2133e476bebaa54f06e4cda7c27f4ec9b_2792.profile', './data/tree-rep-profiles_o2o_smallshort/short/95.farfli_0.8/G31/1cfd4d7cc2fa0b67ad55619e901463b2133e476bebaa54f06e4cda7c27f4ec9b_2792.profile']\n",
      "duplicate ERR: ['./data/tree-rep-profiles_o2o_smallshort/small/13.vobfus_0.8/G419/029cdbf5f777c31599c0ee1685e227a104d3244ddefea2a34f756e81d19df8c1_3240.profile', './data/tree-rep-profiles_o2o_smallshort/short/13.vobfus_0.8/G419/029cdbf5f777c31599c0ee1685e227a104d3244ddefea2a34f756e81d19df8c1_3240.profile']\n",
      "duplicate ERR: ['./data/tree-rep-profiles_o2o_smallshort/small/13.vobfus_0.8/G419/016aaaea53428d0a2e18a5808efded03124ecd808951e9c8b8168fc02eb0de58_3260.profile', './data/tree-rep-profiles_o2o_smallshort/short/13.vobfus_0.8/G419/016aaaea53428d0a2e18a5808efded03124ecd808951e9c8b8168fc02eb0de58_3260.profile']\n",
      "duplicate ERR: ['./data/tree-rep-profiles_o2o_smallshort/small/13.vobfus_0.8/G413/00de7caa1411011ab78fef8bfa5098521118865a35c5430e41c1c234114c4535_3048.profile', './data/tree-rep-profiles_o2o_smallshort/short/13.vobfus_0.8/G413/00de7caa1411011ab78fef8bfa5098521118865a35c5430e41c1c234114c4535_3048.profile']\n",
      "duplicate ERR: ['./data/tree-rep-profiles_o2o_smallshort/small/13.vobfus_0.8/G413/01f87d1a0edb789859b7585fd25ee83f0b9c69bcfac031fce512cb2807555d78_3460.profile', './data/tree-rep-profiles_o2o_smallshort/short/13.vobfus_0.8/G413/01f87d1a0edb789859b7585fd25ee83f0b9c69bcfac031fce512cb2807555d78_3460.profile']\n",
      "duplicate ERR: ['./data/tree-rep-profiles_o2o_smallshort/small/13.vobfus_0.8/G374/029cdbf5f777c31599c0ee1685e227a104d3244ddefea2a34f756e81d19df8c1_3268.profile', './data/tree-rep-profiles_o2o_smallshort/short/13.vobfus_0.8/G374/029cdbf5f777c31599c0ee1685e227a104d3244ddefea2a34f756e81d19df8c1_3268.profile']\n",
      "duplicate ERR: ['./data/tree-rep-profiles_o2o_smallshort/small/13.vobfus_0.8/G374/016aaaea53428d0a2e18a5808efded03124ecd808951e9c8b8168fc02eb0de58_3284.profile', './data/tree-rep-profiles_o2o_smallshort/short/13.vobfus_0.8/G374/016aaaea53428d0a2e18a5808efded03124ecd808951e9c8b8168fc02eb0de58_3284.profile']\n",
      "duplicate ERR: ['./data/tree-rep-profiles_o2o_smallshort/small/13.vobfus_0.8/G376/01d98f25577b1121d0efde0b7a9a3c8ab03cd68fff06b40cabbb93f5148a47c1_3508.profile', './data/tree-rep-profiles_o2o_smallshort/short/13.vobfus_0.8/G376/01d98f25577b1121d0efde0b7a9a3c8ab03cd68fff06b40cabbb93f5148a47c1_3508.profile']\n",
      "duplicate ERR: ['./data/tree-rep-profiles_o2o_smallshort/small/13.vobfus_0.8/G376/01fdf5c15dd2617c6e86e57ea6d45548d1f9e1a4f5b7aa3dab51014569671566_3216.profile', './data/tree-rep-profiles_o2o_smallshort/short/13.vobfus_0.8/G376/01fdf5c15dd2617c6e86e57ea6d45548d1f9e1a4f5b7aa3dab51014569671566_3216.profile']\n",
      "duplicate ERR: ['./data/tree-rep-profiles_o2o_smallshort/small/13.vobfus_0.8/G394/64ae2dfe00ada00fde9cbbcff151b12514dea147bdf0d73d08c48dc5618d2f58_3268.profile', './data/tree-rep-profiles_o2o_smallshort/short/13.vobfus_0.8/G394/64ae2dfe00ada00fde9cbbcff151b12514dea147bdf0d73d08c48dc5618d2f58_3268.profile']\n",
      "duplicate ERR: ['./data/tree-rep-profiles_o2o_smallshort/small/13.vobfus_0.8/G394/c6404222c7ce6b40080811155dc05f4f307cc568c6aa438866e0de198c157a7f_3308.profile', './data/tree-rep-profiles_o2o_smallshort/short/13.vobfus_0.8/G394/c6404222c7ce6b40080811155dc05f4f307cc568c6aa438866e0de198c157a7f_3308.profile']\n",
      "duplicate ERR: ['./data/tree-rep-profiles_o2o_smallshort/small/13.vobfus_0.8/G389/00c19b4299f1b5fd99e1c5fa75aa7bb86e813a6fe53827eab060cb88c9f4c961_3392.profile', './data/tree-rep-profiles_o2o_smallshort/short/13.vobfus_0.8/G389/00c19b4299f1b5fd99e1c5fa75aa7bb86e813a6fe53827eab060cb88c9f4c961_3392.profile']\n",
      "duplicate ERR: ['./data/tree-rep-profiles_o2o_smallshort/small/13.vobfus_0.8/G389/00c19b4299f1b5fd99e1c5fa75aa7bb86e813a6fe53827eab060cb88c9f4c961_3320.profile', './data/tree-rep-profiles_o2o_smallshort/short/13.vobfus_0.8/G389/00c19b4299f1b5fd99e1c5fa75aa7bb86e813a6fe53827eab060cb88c9f4c961_3320.profile']\n",
      "duplicate ERR: ['./data/tree-rep-profiles_o2o_smallshort/small/13.vobfus_0.8/G368/0901068327456d48409ecdb1fc41464a08d863f5a3adb21e7551c415c656e59b_3236.profile', './data/tree-rep-profiles_o2o_smallshort/short/13.vobfus_0.8/G368/0901068327456d48409ecdb1fc41464a08d863f5a3adb21e7551c415c656e59b_3236.profile']\n",
      "duplicate ERR: ['./data/tree-rep-profiles_o2o_smallshort/small/13.vobfus_0.8/G368/fb42d2a31603f2fc4a61caff66c8d96cb609fce0012f73f5b158c1d006a359c4_3288.profile', './data/tree-rep-profiles_o2o_smallshort/short/13.vobfus_0.8/G368/fb42d2a31603f2fc4a61caff66c8d96cb609fce0012f73f5b158c1d006a359c4_3288.profile']\n",
      "duplicate ERR: ['./data/tree-rep-profiles_o2o_smallshort/small/13.vobfus_0.8/G364/3a394ef210f3086db755ef81425af7c01135ce0701620e8e3a849ae6e2412a39_3272.profile', './data/tree-rep-profiles_o2o_smallshort/short/13.vobfus_0.8/G364/3a394ef210f3086db755ef81425af7c01135ce0701620e8e3a849ae6e2412a39_3272.profile']\n",
      "duplicate ERR: ['./data/tree-rep-profiles_o2o_smallshort/small/13.vobfus_0.8/G364/3a394ef210f3086db755ef81425af7c01135ce0701620e8e3a849ae6e2412a39_3220.profile', './data/tree-rep-profiles_o2o_smallshort/short/13.vobfus_0.8/G364/3a394ef210f3086db755ef81425af7c01135ce0701620e8e3a849ae6e2412a39_3220.profile']\n",
      "duplicate ERR: ['./data/tree-rep-profiles_o2o_smallshort/small/13.vobfus_0.8/G392/68dc0850dc2ccaf78dfb78ce42cb2a08f9a98449dbf1fdb38aff3edc2887627d_2952.profile', './data/tree-rep-profiles_o2o_smallshort/short/13.vobfus_0.8/G392/68dc0850dc2ccaf78dfb78ce42cb2a08f9a98449dbf1fdb38aff3edc2887627d_2952.profile']\n",
      "duplicate ERR: ['./data/tree-rep-profiles_o2o_smallshort/small/13.vobfus_0.8/G392/68dc0850dc2ccaf78dfb78ce42cb2a08f9a98449dbf1fdb38aff3edc2887627d_3412.profile', './data/tree-rep-profiles_o2o_smallshort/short/13.vobfus_0.8/G392/68dc0850dc2ccaf78dfb78ce42cb2a08f9a98449dbf1fdb38aff3edc2887627d_3412.profile']\n"
     ]
    },
    {
     "name": "stderr",
     "output_type": "stream",
     "text": [
      "\r",
      " 35%|███▍      | 55/159 [00:25<00:43,  2.40it/s]"
     ]
    },
    {
     "name": "stdout",
     "output_type": "stream",
     "text": [
      "duplicate ERR: ['./data/tree-rep-profiles_o2o_smallshort/small/13.vobfus_0.8/G414/d2f58cc5a9d42865fee6452fe3b0b997062b0ccdfccc912cfe97e65c71090104_3412.profile', './data/tree-rep-profiles_o2o_smallshort/short/13.vobfus_0.8/G414/d2f58cc5a9d42865fee6452fe3b0b997062b0ccdfccc912cfe97e65c71090104_3412.profile']\n",
      "duplicate ERR: ['./data/tree-rep-profiles_o2o_smallshort/small/13.vobfus_0.8/G414/000e99026fee09d3bf5f51f9a6fcc9543cbe9088d60c844afb10c38d69f3b91d_3348.profile', './data/tree-rep-profiles_o2o_smallshort/short/13.vobfus_0.8/G414/000e99026fee09d3bf5f51f9a6fcc9543cbe9088d60c844afb10c38d69f3b91d_3348.profile']\n",
      "duplicate ERR: ['./data/tree-rep-profiles_o2o_smallshort/small/13.vobfus_0.8/G391/023be0d2fca6d3cd9047efa45194ee3fc3fa09e95cabc9a3cc37c818d2398f08_3204.profile', './data/tree-rep-profiles_o2o_smallshort/short/13.vobfus_0.8/G391/023be0d2fca6d3cd9047efa45194ee3fc3fa09e95cabc9a3cc37c818d2398f08_3204.profile']\n",
      "duplicate ERR: ['./data/tree-rep-profiles_o2o_smallshort/small/13.vobfus_0.8/G391/019c6c2b8071cffe543907e901d3c83a71c73820cb6d86d51db22d84fad34190_2884.profile', './data/tree-rep-profiles_o2o_smallshort/short/13.vobfus_0.8/G391/019c6c2b8071cffe543907e901d3c83a71c73820cb6d86d51db22d84fad34190_2884.profile']\n",
      "duplicate ERR: ['./data/tree-rep-profiles_o2o_smallshort/small/13.vobfus_0.8/G366/019d4b389f32d08a5eaefb252f346b7f1b34db5a15864d1eb30df45e7023abb6_2880.profile', './data/tree-rep-profiles_o2o_smallshort/short/13.vobfus_0.8/G366/019d4b389f32d08a5eaefb252f346b7f1b34db5a15864d1eb30df45e7023abb6_2880.profile']\n",
      "duplicate ERR: ['./data/tree-rep-profiles_o2o_smallshort/small/13.vobfus_0.8/G366/001bbac478559f27651cd34259bb18dc33bcf7146fcad57b8f60b923453c169c_3004.profile', './data/tree-rep-profiles_o2o_smallshort/short/13.vobfus_0.8/G366/001bbac478559f27651cd34259bb18dc33bcf7146fcad57b8f60b923453c169c_3004.profile']\n",
      "duplicate ERR: ['./data/tree-rep-profiles_o2o_smallshort/small/40.msil_0.8/G110/6af6567d0cb2e46f7a5d1f5efa35dd522bbf7066759045cd044aaba0d79a3bc9_3344.profile', './data/tree-rep-profiles_o2o_smallshort/short/40.msil_0.8/G110/6af6567d0cb2e46f7a5d1f5efa35dd522bbf7066759045cd044aaba0d79a3bc9_3344.profile']\n",
      "duplicate ERR: ['./data/tree-rep-profiles_o2o_smallshort/small/40.msil_0.8/G110/6af6567d0cb2e46f7a5d1f5efa35dd522bbf7066759045cd044aaba0d79a3bc9_3320.profile', './data/tree-rep-profiles_o2o_smallshort/short/40.msil_0.8/G110/6af6567d0cb2e46f7a5d1f5efa35dd522bbf7066759045cd044aaba0d79a3bc9_3320.profile']\n"
     ]
    },
    {
     "name": "stderr",
     "output_type": "stream",
     "text": [
      "\r",
      " 35%|███▌      | 56/159 [00:25<00:33,  3.10it/s]"
     ]
    },
    {
     "name": "stdout",
     "output_type": "stream",
     "text": [
      "duplicate ERR: ['./data/tree-rep-profiles_o2o_smallshort/small/40.msil_0.8/G112/0027f28a05c655e34a820666bb3cf4e50b961f7784a53b25cc52d2b230f05774_2968.profile', './data/tree-rep-profiles_o2o_smallshort/short/40.msil_0.8/G112/0027f28a05c655e34a820666bb3cf4e50b961f7784a53b25cc52d2b230f05774_2968.profile']\n",
      "duplicate ERR: ['./data/tree-rep-profiles_o2o_smallshort/small/40.msil_0.8/G112/d44859482ad22a0ca99a8554f2fa5b4d2783abbfa63838bf38c8506f0053e2f9_3004.profile', './data/tree-rep-profiles_o2o_smallshort/short/40.msil_0.8/G112/d44859482ad22a0ca99a8554f2fa5b4d2783abbfa63838bf38c8506f0053e2f9_3004.profile']\n",
      "duplicate ERR: ['./data/tree-rep-profiles_o2o_smallshort/small/15.graftor_0.8/G404/cde162674a8a916abb77816016572dcc5339c2c27a036f3513eb37cc4e88614c_3452.profile', './data/tree-rep-profiles_o2o_smallshort/short/15.graftor_0.8/G404/cde162674a8a916abb77816016572dcc5339c2c27a036f3513eb37cc4e88614c_3452.profile']\n",
      "duplicate ERR: ['./data/tree-rep-profiles_o2o_smallshort/small/15.graftor_0.8/G404/dbaee4daa91f143ce386f011aacf80b14668c00f99ae307f06aa6374affdee75_3336.profile', './data/tree-rep-profiles_o2o_smallshort/short/15.graftor_0.8/G404/dbaee4daa91f143ce386f011aacf80b14668c00f99ae307f06aa6374affdee75_3336.profile']\n",
      "duplicate ERR: ['./data/tree-rep-profiles_o2o_smallshort/small/15.graftor_0.8/G352/5909064815d8bb06e3a75a5dedbf25a1504289484915701f02ca8d8c48ba88ef_3268.profile', './data/tree-rep-profiles_o2o_smallshort/short/15.graftor_0.8/G352/5909064815d8bb06e3a75a5dedbf25a1504289484915701f02ca8d8c48ba88ef_3268.profile']\n",
      "duplicate ERR: ['./data/tree-rep-profiles_o2o_smallshort/small/15.graftor_0.8/G352/5909064815d8bb06e3a75a5dedbf25a1504289484915701f02ca8d8c48ba88ef_3316.profile', './data/tree-rep-profiles_o2o_smallshort/short/15.graftor_0.8/G352/5909064815d8bb06e3a75a5dedbf25a1504289484915701f02ca8d8c48ba88ef_3316.profile']\n",
      "duplicate ERR: ['./data/tree-rep-profiles_o2o_smallshort/small/15.graftor_0.8/G401/f75091d12bceadc31768cc60f40fe5aab6cb0e7f9348ebc26f27e68f288c6df4_3392.profile', './data/tree-rep-profiles_o2o_smallshort/short/15.graftor_0.8/G401/f75091d12bceadc31768cc60f40fe5aab6cb0e7f9348ebc26f27e68f288c6df4_3392.profile']\n",
      "duplicate ERR: ['./data/tree-rep-profiles_o2o_smallshort/small/15.graftor_0.8/G401/00c8679bf5bffbbf076b567ca983de5b5c0d824db8e52f777f6fbffd7b40c4d9_2980.profile', './data/tree-rep-profiles_o2o_smallshort/short/15.graftor_0.8/G401/00c8679bf5bffbbf076b567ca983de5b5c0d824db8e52f777f6fbffd7b40c4d9_2980.profile']\n",
      "duplicate ERR: ['./data/tree-rep-profiles_o2o_smallshort/small/15.graftor_0.8/G381/1ce28284d4b23812da59ce33d4c6c677a2b496218ff6503dd94004a996938a8d_3464.profile', './data/tree-rep-profiles_o2o_smallshort/short/15.graftor_0.8/G381/1ce28284d4b23812da59ce33d4c6c677a2b496218ff6503dd94004a996938a8d_3464.profile']\n",
      "duplicate ERR: ['./data/tree-rep-profiles_o2o_smallshort/small/15.graftor_0.8/G381/1ce28284d4b23812da59ce33d4c6c677a2b496218ff6503dd94004a996938a8d_3384.profile', './data/tree-rep-profiles_o2o_smallshort/short/15.graftor_0.8/G381/1ce28284d4b23812da59ce33d4c6c677a2b496218ff6503dd94004a996938a8d_3384.profile']\n",
      "duplicate ERR: ['./data/tree-rep-profiles_o2o_smallshort/small/15.graftor_0.8/G406/dff781028840dc9c66cde6ceaf507fb4ebc1a773b9071dbd86784ae3b79bbfb6_3428.profile', './data/tree-rep-profiles_o2o_smallshort/short/15.graftor_0.8/G406/dff781028840dc9c66cde6ceaf507fb4ebc1a773b9071dbd86784ae3b79bbfb6_3428.profile']\n",
      "duplicate ERR: ['./data/tree-rep-profiles_o2o_smallshort/small/15.graftor_0.8/G406/0a6589217fdca3f04aa936d7d121ce08790259ce8f13d0739abe1468b3d6a298_3356.profile', './data/tree-rep-profiles_o2o_smallshort/short/15.graftor_0.8/G406/0a6589217fdca3f04aa936d7d121ce08790259ce8f13d0739abe1468b3d6a298_3356.profile']\n",
      "duplicate ERR: ['./data/tree-rep-profiles_o2o_smallshort/small/15.graftor_0.8/G388/01e04355d2b7a80d113a9b15b03b331031d78afb27154683b8b63d361cd75ed7_3344.profile', './data/tree-rep-profiles_o2o_smallshort/short/15.graftor_0.8/G388/01e04355d2b7a80d113a9b15b03b331031d78afb27154683b8b63d361cd75ed7_3344.profile']\n",
      "duplicate ERR: ['./data/tree-rep-profiles_o2o_smallshort/small/15.graftor_0.8/G388/74ef128b3c11133c7ca93e9eaa71fe39c09d78c9db34c2209805521ad14fa49b_2928.profile', './data/tree-rep-profiles_o2o_smallshort/short/15.graftor_0.8/G388/74ef128b3c11133c7ca93e9eaa71fe39c09d78c9db34c2209805521ad14fa49b_2928.profile']\n",
      "duplicate ERR: ['./data/tree-rep-profiles_o2o_smallshort/small/15.graftor_0.8/G398/101e381c894d0b8df6cd549969f1684cd13ee6066e830f10c7b75bbccb497e0f_3172.profile', './data/tree-rep-profiles_o2o_smallshort/short/15.graftor_0.8/G398/101e381c894d0b8df6cd549969f1684cd13ee6066e830f10c7b75bbccb497e0f_3172.profile']\n",
      "duplicate ERR: ['./data/tree-rep-profiles_o2o_smallshort/small/15.graftor_0.8/G398/12ce3afb0a8d52570492ce24f5ecca7f9e4a48cc28576c33c535e264bafcb800_3224.profile', './data/tree-rep-profiles_o2o_smallshort/short/15.graftor_0.8/G398/12ce3afb0a8d52570492ce24f5ecca7f9e4a48cc28576c33c535e264bafcb800_3224.profile']\n",
      "duplicate ERR: ['./data/tree-rep-profiles_o2o_smallshort/small/15.graftor_0.8/G376/12bcba3b9518c9956c333921d87ade057e09ae72e7878a2f5a4efc061b911cae_3352.profile', './data/tree-rep-profiles_o2o_smallshort/short/15.graftor_0.8/G376/12bcba3b9518c9956c333921d87ade057e09ae72e7878a2f5a4efc061b911cae_3352.profile']\n",
      "duplicate ERR: ['./data/tree-rep-profiles_o2o_smallshort/small/15.graftor_0.8/G376/12bcba3b9518c9956c333921d87ade057e09ae72e7878a2f5a4efc061b911cae_3208.profile', './data/tree-rep-profiles_o2o_smallshort/short/15.graftor_0.8/G376/12bcba3b9518c9956c333921d87ade057e09ae72e7878a2f5a4efc061b911cae_3208.profile']\n",
      "duplicate ERR: ['./data/tree-rep-profiles_o2o_smallshort/small/15.graftor_0.8/G394/ec76303e03d575acde8498c09e4746e9d24dcbcc699c1ef6f89cd522eac1d841_2968.profile', './data/tree-rep-profiles_o2o_smallshort/short/15.graftor_0.8/G394/ec76303e03d575acde8498c09e4746e9d24dcbcc699c1ef6f89cd522eac1d841_2968.profile']\n",
      "duplicate ERR: ['./data/tree-rep-profiles_o2o_smallshort/small/15.graftor_0.8/G394/00fe2a71556f1a8678cc8981336b52416c3102211bd83bdf22407edce2c2f1db_3352.profile', './data/tree-rep-profiles_o2o_smallshort/short/15.graftor_0.8/G394/00fe2a71556f1a8678cc8981336b52416c3102211bd83bdf22407edce2c2f1db_3352.profile']\n",
      "duplicate ERR: ['./data/tree-rep-profiles_o2o_smallshort/small/15.graftor_0.8/G399/8ca1a6bd6e857018a34505bd98ea87637e71f9c17c7d225151fdf3778ea36f54_3348.profile', './data/tree-rep-profiles_o2o_smallshort/short/15.graftor_0.8/G399/8ca1a6bd6e857018a34505bd98ea87637e71f9c17c7d225151fdf3778ea36f54_3348.profile']\n",
      "duplicate ERR: ['./data/tree-rep-profiles_o2o_smallshort/small/15.graftor_0.8/G399/ee7175fd587e292649fbe4a8b4d454074f70a831367852325b0ae7df89c2d3a2_3120.profile', './data/tree-rep-profiles_o2o_smallshort/short/15.graftor_0.8/G399/ee7175fd587e292649fbe4a8b4d454074f70a831367852325b0ae7df89c2d3a2_3120.profile']\n",
      "duplicate ERR: ['./data/tree-rep-profiles_o2o_smallshort/small/15.graftor_0.8/G340/06ec0ad1825641f18ed3cfc61d01c1d250c377d8f8e0bf85349f21c435f7797d_3188.profile', './data/tree-rep-profiles_o2o_smallshort/short/15.graftor_0.8/G340/06ec0ad1825641f18ed3cfc61d01c1d250c377d8f8e0bf85349f21c435f7797d_3188.profile']\n",
      "duplicate ERR: ['./data/tree-rep-profiles_o2o_smallshort/small/15.graftor_0.8/G340/1dd3108525b0dcb6f7a4885df370946297017962d9e5898b647dbff4de58cf0a_3220.profile', './data/tree-rep-profiles_o2o_smallshort/short/15.graftor_0.8/G340/1dd3108525b0dcb6f7a4885df370946297017962d9e5898b647dbff4de58cf0a_3220.profile']\n",
      "duplicate ERR: ['./data/tree-rep-profiles_o2o_smallshort/small/15.graftor_0.8/G405/6b9ebf9b53d59104b3687d81ceea8e602f39ae3d653480c0cdfa69d2cdf340b4_3336.profile', './data/tree-rep-profiles_o2o_smallshort/short/15.graftor_0.8/G405/6b9ebf9b53d59104b3687d81ceea8e602f39ae3d653480c0cdfa69d2cdf340b4_3336.profile']\n",
      "duplicate ERR: ['./data/tree-rep-profiles_o2o_smallshort/small/15.graftor_0.8/G405/e871f9f88cc70d8271563b1ccb0bf157b050dbb63ac0a13b073583892c51def9_2972.profile', './data/tree-rep-profiles_o2o_smallshort/short/15.graftor_0.8/G405/e871f9f88cc70d8271563b1ccb0bf157b050dbb63ac0a13b073583892c51def9_2972.profile']\n",
      "duplicate ERR: ['./data/tree-rep-profiles_o2o_smallshort/small/15.graftor_0.8/G347/7e1dfbced420de827b94a01c1d4cc74501c00acb5e48f12880f00817ddddd31b_3292.profile', './data/tree-rep-profiles_o2o_smallshort/short/15.graftor_0.8/G347/7e1dfbced420de827b94a01c1d4cc74501c00acb5e48f12880f00817ddddd31b_3292.profile']\n",
      "duplicate ERR: ['./data/tree-rep-profiles_o2o_smallshort/small/15.graftor_0.8/G347/7e1dfbced420de827b94a01c1d4cc74501c00acb5e48f12880f00817ddddd31b_2920.profile', './data/tree-rep-profiles_o2o_smallshort/short/15.graftor_0.8/G347/7e1dfbced420de827b94a01c1d4cc74501c00acb5e48f12880f00817ddddd31b_2920.profile']\n",
      "duplicate ERR: ['./data/tree-rep-profiles_o2o_smallshort/small/15.graftor_0.8/G355/12b41a5731bb280b1393e14f3354a85be0b70baf82e2ede2f6565ded5d2ac718_3264.profile', './data/tree-rep-profiles_o2o_smallshort/short/15.graftor_0.8/G355/12b41a5731bb280b1393e14f3354a85be0b70baf82e2ede2f6565ded5d2ac718_3264.profile']\n",
      "duplicate ERR: ['./data/tree-rep-profiles_o2o_smallshort/small/15.graftor_0.8/G355/1daa04c34d2f252f199403f2f719f355b020921bd3280e2d7676e59f6e7b802e_3204.profile', './data/tree-rep-profiles_o2o_smallshort/short/15.graftor_0.8/G355/1daa04c34d2f252f199403f2f719f355b020921bd3280e2d7676e59f6e7b802e_3204.profile']\n",
      "duplicate ERR: ['./data/tree-rep-profiles_o2o_smallshort/small/15.graftor_0.8/G378/2362340e63b273efcc7fe73eb3734efcaafede125da54d956eacfeba2c2f1e43_3412.profile', './data/tree-rep-profiles_o2o_smallshort/short/15.graftor_0.8/G378/2362340e63b273efcc7fe73eb3734efcaafede125da54d956eacfeba2c2f1e43_3412.profile']\n",
      "duplicate ERR: ['./data/tree-rep-profiles_o2o_smallshort/small/15.graftor_0.8/G378/8d6233dc0fd355092fb2cf5f94d4fbb4b574f96ba0c747b6d8a61dcc3b9c3f4b_3268.profile', './data/tree-rep-profiles_o2o_smallshort/short/15.graftor_0.8/G378/8d6233dc0fd355092fb2cf5f94d4fbb4b574f96ba0c747b6d8a61dcc3b9c3f4b_3268.profile']\n"
     ]
    },
    {
     "name": "stdout",
     "output_type": "stream",
     "text": [
      "duplicate ERR: ['./data/tree-rep-profiles_o2o_smallshort/small/15.graftor_0.8/G344/4850ed4bb1333e47f8d628adda042f8ce885e2f1e5d7f50016f0aaa1d3ca2a0f_3204.profile', './data/tree-rep-profiles_o2o_smallshort/short/15.graftor_0.8/G344/4850ed4bb1333e47f8d628adda042f8ce885e2f1e5d7f50016f0aaa1d3ca2a0f_3204.profile']\n",
      "duplicate ERR: ['./data/tree-rep-profiles_o2o_smallshort/small/15.graftor_0.8/G344/15641884bc67a5d44040df92d4b5b75e45cf44d9e554afd9ab1eaf855a5cf85b_2936.profile', './data/tree-rep-profiles_o2o_smallshort/short/15.graftor_0.8/G344/15641884bc67a5d44040df92d4b5b75e45cf44d9e554afd9ab1eaf855a5cf85b_2936.profile']\n",
      "duplicate ERR: ['./data/tree-rep-profiles_o2o_smallshort/small/15.graftor_0.8/G343/13a855758d8918243ef1910a61f306bc692ea20c04287a2b1d8f160e7ffbe956_2952.profile', './data/tree-rep-profiles_o2o_smallshort/short/15.graftor_0.8/G343/13a855758d8918243ef1910a61f306bc692ea20c04287a2b1d8f160e7ffbe956_2952.profile']\n",
      "duplicate ERR: ['./data/tree-rep-profiles_o2o_smallshort/small/15.graftor_0.8/G343/1e3d67c1f793d07d51344c9ff68835c256303cc34b83194274c60872a9ea0c2b_3284.profile', './data/tree-rep-profiles_o2o_smallshort/short/15.graftor_0.8/G343/1e3d67c1f793d07d51344c9ff68835c256303cc34b83194274c60872a9ea0c2b_3284.profile']\n",
      "duplicate ERR: ['./data/tree-rep-profiles_o2o_smallshort/small/15.graftor_0.8/G397/be639e1716ec6fda3f65555b596f208266d16285a0ca95e670dd9fd4cf39f201_3336.profile', './data/tree-rep-profiles_o2o_smallshort/short/15.graftor_0.8/G397/be639e1716ec6fda3f65555b596f208266d16285a0ca95e670dd9fd4cf39f201_3336.profile']\n",
      "duplicate ERR: ['./data/tree-rep-profiles_o2o_smallshort/small/15.graftor_0.8/G397/0f2906dfcb1c4a77425f10d3d20d4e852ec303e3ecb2d67a3582464605f94575_3272.profile', './data/tree-rep-profiles_o2o_smallshort/short/15.graftor_0.8/G397/0f2906dfcb1c4a77425f10d3d20d4e852ec303e3ecb2d67a3582464605f94575_3272.profile']\n",
      "duplicate ERR: ['./data/tree-rep-profiles_o2o_smallshort/small/15.graftor_0.8/G351/35e3ffc26032c92f3ad72907747034630abd5d11cf3016272d7f23a36ee0be12_3204.profile', './data/tree-rep-profiles_o2o_smallshort/short/15.graftor_0.8/G351/35e3ffc26032c92f3ad72907747034630abd5d11cf3016272d7f23a36ee0be12_3204.profile']\n",
      "duplicate ERR: ['./data/tree-rep-profiles_o2o_smallshort/small/15.graftor_0.8/G351/35e3ffc26032c92f3ad72907747034630abd5d11cf3016272d7f23a36ee0be12_3332.profile', './data/tree-rep-profiles_o2o_smallshort/short/15.graftor_0.8/G351/35e3ffc26032c92f3ad72907747034630abd5d11cf3016272d7f23a36ee0be12_3332.profile']\n",
      "duplicate ERR: ['./data/tree-rep-profiles_o2o_smallshort/small/15.graftor_0.8/G386/57544521a1a8996afccf5d94bea2ffa9e35b7bfecfea235ee7ac3ed6b241eddd_3084.profile', './data/tree-rep-profiles_o2o_smallshort/short/15.graftor_0.8/G386/57544521a1a8996afccf5d94bea2ffa9e35b7bfecfea235ee7ac3ed6b241eddd_3084.profile']\n",
      "duplicate ERR: ['./data/tree-rep-profiles_o2o_smallshort/small/15.graftor_0.8/G386/ec76303e03d575acde8498c09e4746e9d24dcbcc699c1ef6f89cd522eac1d841_3424.profile', './data/tree-rep-profiles_o2o_smallshort/short/15.graftor_0.8/G386/ec76303e03d575acde8498c09e4746e9d24dcbcc699c1ef6f89cd522eac1d841_3424.profile']\n",
      "duplicate ERR: ['./data/tree-rep-profiles_o2o_smallshort/small/15.graftor_0.8/G392/57544521a1a8996afccf5d94bea2ffa9e35b7bfecfea235ee7ac3ed6b241eddd_3020.profile', './data/tree-rep-profiles_o2o_smallshort/short/15.graftor_0.8/G392/57544521a1a8996afccf5d94bea2ffa9e35b7bfecfea235ee7ac3ed6b241eddd_3020.profile']\n",
      "duplicate ERR: ['./data/tree-rep-profiles_o2o_smallshort/small/15.graftor_0.8/G392/ec76303e03d575acde8498c09e4746e9d24dcbcc699c1ef6f89cd522eac1d841_3376.profile', './data/tree-rep-profiles_o2o_smallshort/short/15.graftor_0.8/G392/ec76303e03d575acde8498c09e4746e9d24dcbcc699c1ef6f89cd522eac1d841_3376.profile']\n",
      "duplicate ERR: ['./data/tree-rep-profiles_o2o_smallshort/small/15.graftor_0.8/G391/57544521a1a8996afccf5d94bea2ffa9e35b7bfecfea235ee7ac3ed6b241eddd_3112.profile', './data/tree-rep-profiles_o2o_smallshort/short/15.graftor_0.8/G391/57544521a1a8996afccf5d94bea2ffa9e35b7bfecfea235ee7ac3ed6b241eddd_3112.profile']\n",
      "duplicate ERR: ['./data/tree-rep-profiles_o2o_smallshort/small/15.graftor_0.8/G391/ec76303e03d575acde8498c09e4746e9d24dcbcc699c1ef6f89cd522eac1d841_3452.profile', './data/tree-rep-profiles_o2o_smallshort/short/15.graftor_0.8/G391/ec76303e03d575acde8498c09e4746e9d24dcbcc699c1ef6f89cd522eac1d841_3452.profile']\n",
      "duplicate ERR: ['./data/tree-rep-profiles_o2o_smallshort/small/15.graftor_0.8/G339/1503a26b4eaf117feea86bdabe16eb0200a8b656622bb2afd6f2ec5727f901bf_3248.profile', './data/tree-rep-profiles_o2o_smallshort/short/15.graftor_0.8/G339/1503a26b4eaf117feea86bdabe16eb0200a8b656622bb2afd6f2ec5727f901bf_3248.profile']\n",
      "duplicate ERR: ['./data/tree-rep-profiles_o2o_smallshort/small/15.graftor_0.8/G339/1503a26b4eaf117feea86bdabe16eb0200a8b656622bb2afd6f2ec5727f901bf_3328.profile', './data/tree-rep-profiles_o2o_smallshort/short/15.graftor_0.8/G339/1503a26b4eaf117feea86bdabe16eb0200a8b656622bb2afd6f2ec5727f901bf_3328.profile']\n"
     ]
    },
    {
     "name": "stderr",
     "output_type": "stream",
     "text": [
      "\r",
      " 36%|███▌      | 57/159 [00:26<01:00,  1.68it/s]"
     ]
    },
    {
     "name": "stdout",
     "output_type": "stream",
     "text": [
      "duplicate ERR: ['./data/tree-rep-profiles_o2o_smallshort/small/15.graftor_0.8/G402/009c75206caade4fdecf854fbfd8242b6fbae2098a68c5e89e2be7180f6d5db1_3148.profile', './data/tree-rep-profiles_o2o_smallshort/short/15.graftor_0.8/G402/009c75206caade4fdecf854fbfd8242b6fbae2098a68c5e89e2be7180f6d5db1_3148.profile']\n",
      "duplicate ERR: ['./data/tree-rep-profiles_o2o_smallshort/small/15.graftor_0.8/G402/088f65aabd90b8225deb428851cb3bba72414fce8d6ab5c5bfe21aea6ca99c19_3320.profile', './data/tree-rep-profiles_o2o_smallshort/short/15.graftor_0.8/G402/088f65aabd90b8225deb428851cb3bba72414fce8d6ab5c5bfe21aea6ca99c19_3320.profile']\n",
      "duplicate ERR: ['./data/tree-rep-profiles_o2o_smallshort/small/4.kazy_0.8/G1171/64fec153426079d0eabfbccc4b7630d039b0aea4f1b14c0a2feef876f15f1efa_3280.profile', './data/tree-rep-profiles_o2o_smallshort/short/4.kazy_0.8/G1171/64fec153426079d0eabfbccc4b7630d039b0aea4f1b14c0a2feef876f15f1efa_3280.profile']\n",
      "duplicate ERR: ['./data/tree-rep-profiles_o2o_smallshort/small/4.kazy_0.8/G1171/9a81fc04c41a36e5be89897137c14dd44dccfb3706bdd46f92bb005cf734672f_3288.profile', './data/tree-rep-profiles_o2o_smallshort/short/4.kazy_0.8/G1171/9a81fc04c41a36e5be89897137c14dd44dccfb3706bdd46f92bb005cf734672f_3288.profile']\n",
      "duplicate ERR: ['./data/tree-rep-profiles_o2o_smallshort/small/4.kazy_0.8/G1070/1df87f5655ffa6470caf2a8e69be43e4ee47b6ec0d9fccf8484f25c8f4072dfe_3152.profile', './data/tree-rep-profiles_o2o_smallshort/short/4.kazy_0.8/G1070/1df87f5655ffa6470caf2a8e69be43e4ee47b6ec0d9fccf8484f25c8f4072dfe_3152.profile']\n",
      "duplicate ERR: ['./data/tree-rep-profiles_o2o_smallshort/small/4.kazy_0.8/G1070/1740eeaa04badd17bd44444984ece96e662a3318c8afab606ada21636c8fa6ef_3380.profile', './data/tree-rep-profiles_o2o_smallshort/short/4.kazy_0.8/G1070/1740eeaa04badd17bd44444984ece96e662a3318c8afab606ada21636c8fa6ef_3380.profile']\n",
      "duplicate ERR: ['./data/tree-rep-profiles_o2o_smallshort/small/4.kazy_0.8/G1017/1e41c5c3d31c69bdaffda2b616843ba62a5303127287f4258a0b19db3fbf2ae8_3280.profile', './data/tree-rep-profiles_o2o_smallshort/short/4.kazy_0.8/G1017/1e41c5c3d31c69bdaffda2b616843ba62a5303127287f4258a0b19db3fbf2ae8_3280.profile']\n",
      "duplicate ERR: ['./data/tree-rep-profiles_o2o_smallshort/small/4.kazy_0.8/G1017/02aa5138301826a0fe4d5e9016836222d49445e80902ea7a3be37f3b9458b9dd_2852.profile', './data/tree-rep-profiles_o2o_smallshort/short/4.kazy_0.8/G1017/02aa5138301826a0fe4d5e9016836222d49445e80902ea7a3be37f3b9458b9dd_2852.profile']\n",
      "duplicate ERR: ['./data/tree-rep-profiles_o2o_smallshort/small/4.kazy_0.8/G1202/9388f51cf9ae06c6ad9f995f11a1bab29ffb686ec42e6966c8fd163c11b850d1_3108.profile', './data/tree-rep-profiles_o2o_smallshort/short/4.kazy_0.8/G1202/9388f51cf9ae06c6ad9f995f11a1bab29ffb686ec42e6966c8fd163c11b850d1_3108.profile']\n",
      "duplicate ERR: ['./data/tree-rep-profiles_o2o_smallshort/small/4.kazy_0.8/G1202/69ae455f218b490ebd6329509aca0b356fd0437785a093b6afee69f79a5a6c66_3020.profile', './data/tree-rep-profiles_o2o_smallshort/short/4.kazy_0.8/G1202/69ae455f218b490ebd6329509aca0b356fd0437785a093b6afee69f79a5a6c66_3020.profile']\n",
      "duplicate ERR: ['./data/tree-rep-profiles_o2o_smallshort/small/4.kazy_0.8/G1064/30e552a09b1ad4c21f2984d1d83f19fd1044ff73bc9f65cb0721a7ac2c0b9e39_3188.profile', './data/tree-rep-profiles_o2o_smallshort/short/4.kazy_0.8/G1064/30e552a09b1ad4c21f2984d1d83f19fd1044ff73bc9f65cb0721a7ac2c0b9e39_3188.profile']\n",
      "duplicate ERR: ['./data/tree-rep-profiles_o2o_smallshort/small/4.kazy_0.8/G1064/2fac807b7784ff3cd5846ccaa9082d4a29fbca3cb771c3bbd8805f30ef641c14_3332.profile', './data/tree-rep-profiles_o2o_smallshort/short/4.kazy_0.8/G1064/2fac807b7784ff3cd5846ccaa9082d4a29fbca3cb771c3bbd8805f30ef641c14_3332.profile']\n",
      "duplicate ERR: ['./data/tree-rep-profiles_o2o_smallshort/small/4.kazy_0.8/G1045/d3f566100d864a722a9dcd4ccc762a0e6250bd810a8045e74a027fdf6c6237a6_3016.profile', './data/tree-rep-profiles_o2o_smallshort/short/4.kazy_0.8/G1045/d3f566100d864a722a9dcd4ccc762a0e6250bd810a8045e74a027fdf6c6237a6_3016.profile']\n",
      "duplicate ERR: ['./data/tree-rep-profiles_o2o_smallshort/small/4.kazy_0.8/G1045/8b216b301de6d28d29030da8a18778372de5953da267481f6d8abca20fa92a18_3276.profile', './data/tree-rep-profiles_o2o_smallshort/short/4.kazy_0.8/G1045/8b216b301de6d28d29030da8a18778372de5953da267481f6d8abca20fa92a18_3276.profile']\n",
      "duplicate ERR: ['./data/tree-rep-profiles_o2o_smallshort/small/4.kazy_0.8/G1099/1e1a29cb3e574f00a85dd75fd12da6fcd474feebd35ad31da199818657090b84_2856.profile', './data/tree-rep-profiles_o2o_smallshort/short/4.kazy_0.8/G1099/1e1a29cb3e574f00a85dd75fd12da6fcd474feebd35ad31da199818657090b84_2856.profile']\n",
      "duplicate ERR: ['./data/tree-rep-profiles_o2o_smallshort/small/4.kazy_0.8/G1099/1dc3b5c14fce456bea54527be6b29a0e282aaae96e97d018f585c19dedc89d44_3304.profile', './data/tree-rep-profiles_o2o_smallshort/short/4.kazy_0.8/G1099/1dc3b5c14fce456bea54527be6b29a0e282aaae96e97d018f585c19dedc89d44_3304.profile']\n",
      "duplicate ERR: ['./data/tree-rep-profiles_o2o_smallshort/small/4.kazy_0.8/G1063/62a73e8cf8c55f67745c86b61abce6d3323d824c50e8331d24c7f9f3a22ef62d_3248.profile', './data/tree-rep-profiles_o2o_smallshort/short/4.kazy_0.8/G1063/62a73e8cf8c55f67745c86b61abce6d3323d824c50e8331d24c7f9f3a22ef62d_3248.profile']\n",
      "duplicate ERR: ['./data/tree-rep-profiles_o2o_smallshort/small/4.kazy_0.8/G1063/3b0313d2013ac8bdd6fd4ac9e1491db4f8cff2e8b3f7ebbf60111b7861923d95_2916.profile', './data/tree-rep-profiles_o2o_smallshort/short/4.kazy_0.8/G1063/3b0313d2013ac8bdd6fd4ac9e1491db4f8cff2e8b3f7ebbf60111b7861923d95_2916.profile']\n",
      "duplicate ERR: ['./data/tree-rep-profiles_o2o_smallshort/small/4.kazy_0.8/G1087/08c4b64282497c726dc4f718da69cbfe59c23753070fe07e0c83dbccda6e56a2_3072.profile', './data/tree-rep-profiles_o2o_smallshort/short/4.kazy_0.8/G1087/08c4b64282497c726dc4f718da69cbfe59c23753070fe07e0c83dbccda6e56a2_3072.profile']\n",
      "duplicate ERR: ['./data/tree-rep-profiles_o2o_smallshort/small/4.kazy_0.8/G1087/08c4b64282497c726dc4f718da69cbfe59c23753070fe07e0c83dbccda6e56a2_1856.profile', './data/tree-rep-profiles_o2o_smallshort/short/4.kazy_0.8/G1087/08c4b64282497c726dc4f718da69cbfe59c23753070fe07e0c83dbccda6e56a2_1856.profile']\n",
      "duplicate ERR: ['./data/tree-rep-profiles_o2o_smallshort/small/4.kazy_0.8/G1197/2f7645e8902196fcb4a76322346b1117ed764056a6ae043272a21238c9e028d6_428.profile', './data/tree-rep-profiles_o2o_smallshort/short/4.kazy_0.8/G1197/2f7645e8902196fcb4a76322346b1117ed764056a6ae043272a21238c9e028d6_428.profile']\n",
      "duplicate ERR: ['./data/tree-rep-profiles_o2o_smallshort/small/4.kazy_0.8/G1197/fd91bd83a156c9b3d19d2d0be3ce1ae2b4af74044ac8f715d84e8189e6662398_444.profile', './data/tree-rep-profiles_o2o_smallshort/short/4.kazy_0.8/G1197/fd91bd83a156c9b3d19d2d0be3ce1ae2b4af74044ac8f715d84e8189e6662398_444.profile']\n",
      "duplicate ERR: ['./data/tree-rep-profiles_o2o_smallshort/small/4.kazy_0.8/G1091/20adc6b9e703999c51ce39182497be3b130c5078216bde7223400a6744d9b524_3232.profile', './data/tree-rep-profiles_o2o_smallshort/short/4.kazy_0.8/G1091/20adc6b9e703999c51ce39182497be3b130c5078216bde7223400a6744d9b524_3232.profile']\n",
      "duplicate ERR: ['./data/tree-rep-profiles_o2o_smallshort/small/4.kazy_0.8/G1091/1dc72209ae9bcb21c1545e0261baf8f888e25a365843e5c098fef7fbd8e715cf_3264.profile', './data/tree-rep-profiles_o2o_smallshort/short/4.kazy_0.8/G1091/1dc72209ae9bcb21c1545e0261baf8f888e25a365843e5c098fef7fbd8e715cf_3264.profile']\n",
      "duplicate ERR: ['./data/tree-rep-profiles_o2o_smallshort/small/4.kazy_0.8/G1078/0c6ccc698ba8a6a3fa43c1528579e03caefa453ffb8823c0b58209186461035e_3376.profile', './data/tree-rep-profiles_o2o_smallshort/short/4.kazy_0.8/G1078/0c6ccc698ba8a6a3fa43c1528579e03caefa453ffb8823c0b58209186461035e_3376.profile']\n",
      "duplicate ERR: ['./data/tree-rep-profiles_o2o_smallshort/small/4.kazy_0.8/G1078/0ee14b2676afdf55fecb878e4ebbd54529a2f23e09c79b23d6862e9f1c5b8340_3428.profile', './data/tree-rep-profiles_o2o_smallshort/short/4.kazy_0.8/G1078/0ee14b2676afdf55fecb878e4ebbd54529a2f23e09c79b23d6862e9f1c5b8340_3428.profile']\n",
      "duplicate ERR: ['./data/tree-rep-profiles_o2o_smallshort/small/4.kazy_0.8/G1185/079bbc371fb3d7ff4e756a89ca291bd6f0ec4d6660094f2bd57fdc4bf35313be_3184.profile', './data/tree-rep-profiles_o2o_smallshort/short/4.kazy_0.8/G1185/079bbc371fb3d7ff4e756a89ca291bd6f0ec4d6660094f2bd57fdc4bf35313be_3184.profile']\n",
      "duplicate ERR: ['./data/tree-rep-profiles_o2o_smallshort/small/4.kazy_0.8/G1185/fc260de438cfc5b52c72bd87e3aef9c9c1ef5627c2e1f16090c54f159a1588a7_3332.profile', './data/tree-rep-profiles_o2o_smallshort/short/4.kazy_0.8/G1185/fc260de438cfc5b52c72bd87e3aef9c9c1ef5627c2e1f16090c54f159a1588a7_3332.profile']\n",
      "duplicate ERR: ['./data/tree-rep-profiles_o2o_smallshort/small/4.kazy_0.8/G1160/091d4aa6984e80be621c5af634263a5caec0f81a1109ad972e28e0f540947252_3328.profile', './data/tree-rep-profiles_o2o_smallshort/short/4.kazy_0.8/G1160/091d4aa6984e80be621c5af634263a5caec0f81a1109ad972e28e0f540947252_3328.profile']\n",
      "duplicate ERR: ['./data/tree-rep-profiles_o2o_smallshort/small/4.kazy_0.8/G1160/b810dab12c58b8c94e2e7d15f77e974abc7dcf446df1e31454cff57660919a6e_3224.profile', './data/tree-rep-profiles_o2o_smallshort/short/4.kazy_0.8/G1160/b810dab12c58b8c94e2e7d15f77e974abc7dcf446df1e31454cff57660919a6e_3224.profile']\n",
      "duplicate ERR: ['./data/tree-rep-profiles_o2o_smallshort/small/4.kazy_0.8/G1143/9388f51cf9ae06c6ad9f995f11a1bab29ffb686ec42e6966c8fd163c11b850d1_3008.profile', './data/tree-rep-profiles_o2o_smallshort/short/4.kazy_0.8/G1143/9388f51cf9ae06c6ad9f995f11a1bab29ffb686ec42e6966c8fd163c11b850d1_3008.profile']\n",
      "duplicate ERR: ['./data/tree-rep-profiles_o2o_smallshort/small/4.kazy_0.8/G1143/69ae455f218b490ebd6329509aca0b356fd0437785a093b6afee69f79a5a6c66_2896.profile', './data/tree-rep-profiles_o2o_smallshort/short/4.kazy_0.8/G1143/69ae455f218b490ebd6329509aca0b356fd0437785a093b6afee69f79a5a6c66_2896.profile']\n",
      "duplicate ERR: ['./data/tree-rep-profiles_o2o_smallshort/small/4.kazy_0.8/G1145/b69d4da953e34cdaa57555840ab530edd0b76545d477bb509329935307a90893_2936.profile', './data/tree-rep-profiles_o2o_smallshort/short/4.kazy_0.8/G1145/b69d4da953e34cdaa57555840ab530edd0b76545d477bb509329935307a90893_2936.profile']\n",
      "duplicate ERR: ['./data/tree-rep-profiles_o2o_smallshort/small/4.kazy_0.8/G1145/26a086f1b00bcefdabb5788b1bd48da47163873c67bbd701f0cf4c9afa9b8894_3348.profile', './data/tree-rep-profiles_o2o_smallshort/short/4.kazy_0.8/G1145/26a086f1b00bcefdabb5788b1bd48da47163873c67bbd701f0cf4c9afa9b8894_3348.profile']\n",
      "duplicate ERR: ['./data/tree-rep-profiles_o2o_smallshort/small/4.kazy_0.8/G1080/9b84eb07665640c00ef5b7ef2ad77978cf3f9f8a5f79e237c00d546250b69146_2916.profile', './data/tree-rep-profiles_o2o_smallshort/short/4.kazy_0.8/G1080/9b84eb07665640c00ef5b7ef2ad77978cf3f9f8a5f79e237c00d546250b69146_2916.profile']\n"
     ]
    },
    {
     "name": "stdout",
     "output_type": "stream",
     "text": [
      "duplicate ERR: ['./data/tree-rep-profiles_o2o_smallshort/small/4.kazy_0.8/G1080/39fbe8fd11e871077aabed65df38ab7c1343d0f8c9d812d6c75cc0c64e43c514_3344.profile', './data/tree-rep-profiles_o2o_smallshort/short/4.kazy_0.8/G1080/39fbe8fd11e871077aabed65df38ab7c1343d0f8c9d812d6c75cc0c64e43c514_3344.profile']\n",
      "duplicate ERR: ['./data/tree-rep-profiles_o2o_smallshort/small/4.kazy_0.8/G1054/5be230f6dc5ba8628f8550b86d505a36ad1ff7d73ec1d8a04e5d82931eb001c5_3372.profile', './data/tree-rep-profiles_o2o_smallshort/short/4.kazy_0.8/G1054/5be230f6dc5ba8628f8550b86d505a36ad1ff7d73ec1d8a04e5d82931eb001c5_3372.profile']\n",
      "duplicate ERR: ['./data/tree-rep-profiles_o2o_smallshort/small/4.kazy_0.8/G1054/75ea0046a879a3bd873fc0e36637fa564b91c0c60325d11af0acccd5cef39ac7_3240.profile', './data/tree-rep-profiles_o2o_smallshort/short/4.kazy_0.8/G1054/75ea0046a879a3bd873fc0e36637fa564b91c0c60325d11af0acccd5cef39ac7_3240.profile']\n",
      "duplicate ERR: ['./data/tree-rep-profiles_o2o_smallshort/small/4.kazy_0.8/G1088/1e34b570999bbe8fa407ad2d818589f889f21994ba6c7cb2566b4e7c48ad761a_3316.profile', './data/tree-rep-profiles_o2o_smallshort/short/4.kazy_0.8/G1088/1e34b570999bbe8fa407ad2d818589f889f21994ba6c7cb2566b4e7c48ad761a_3316.profile']\n",
      "duplicate ERR: ['./data/tree-rep-profiles_o2o_smallshort/small/4.kazy_0.8/G1088/92d3d1c42f68bacd7cb846229dd7d3e5bfda1b2d1983c99ee85f75b27ed3a442_3356.profile', './data/tree-rep-profiles_o2o_smallshort/short/4.kazy_0.8/G1088/92d3d1c42f68bacd7cb846229dd7d3e5bfda1b2d1983c99ee85f75b27ed3a442_3356.profile']\n",
      "duplicate ERR: ['./data/tree-rep-profiles_o2o_smallshort/small/4.kazy_0.8/G1151/bf46ffe0e14f2ad7c8148420bfef9765656e9b8cc7a36666496850cd780026cc_3292.profile', './data/tree-rep-profiles_o2o_smallshort/short/4.kazy_0.8/G1151/bf46ffe0e14f2ad7c8148420bfef9765656e9b8cc7a36666496850cd780026cc_3292.profile']\n",
      "duplicate ERR: ['./data/tree-rep-profiles_o2o_smallshort/small/4.kazy_0.8/G1151/584d892912a9ac4da7f5df3998869fef454f8c9245e464ca462cd859e5501567_3252.profile', './data/tree-rep-profiles_o2o_smallshort/short/4.kazy_0.8/G1151/584d892912a9ac4da7f5df3998869fef454f8c9245e464ca462cd859e5501567_3252.profile']\n",
      "duplicate ERR: ['./data/tree-rep-profiles_o2o_smallshort/small/4.kazy_0.8/G1198/0c8fa5d836e68e8c05b8dbc2b58fe006bd0e9fc36a08fea0df8f4bd8d8a5eadb_3344.profile', './data/tree-rep-profiles_o2o_smallshort/short/4.kazy_0.8/G1198/0c8fa5d836e68e8c05b8dbc2b58fe006bd0e9fc36a08fea0df8f4bd8d8a5eadb_3344.profile']\n",
      "duplicate ERR: ['./data/tree-rep-profiles_o2o_smallshort/small/4.kazy_0.8/G1198/0fd7b101d9c87ea1e30e95a37da2eb62a0200ec19cd36455e845ed5586697c5a_3216.profile', './data/tree-rep-profiles_o2o_smallshort/short/4.kazy_0.8/G1198/0fd7b101d9c87ea1e30e95a37da2eb62a0200ec19cd36455e845ed5586697c5a_3216.profile']\n",
      "duplicate ERR: ['./data/tree-rep-profiles_o2o_smallshort/small/4.kazy_0.8/G1222/6e42582073b91070293a3059cbcb9f345eb72d01608e8b472ae90af4b5cd87e6_3452.profile', './data/tree-rep-profiles_o2o_smallshort/short/4.kazy_0.8/G1222/6e42582073b91070293a3059cbcb9f345eb72d01608e8b472ae90af4b5cd87e6_3452.profile']\n",
      "duplicate ERR: ['./data/tree-rep-profiles_o2o_smallshort/small/4.kazy_0.8/G1222/9fd71c350bf8abc13a13bb418e0344bdfa74cf7532623306acf5335ecf54b71f_3292.profile', './data/tree-rep-profiles_o2o_smallshort/short/4.kazy_0.8/G1222/9fd71c350bf8abc13a13bb418e0344bdfa74cf7532623306acf5335ecf54b71f_3292.profile']\n",
      "duplicate ERR: ['./data/tree-rep-profiles_o2o_smallshort/small/4.kazy_0.8/G1038/4ee4f47393d89fc0cf8b3b25433f26081af8c3e4b1f5c27b22ae297ebcf47094_3200.profile', './data/tree-rep-profiles_o2o_smallshort/short/4.kazy_0.8/G1038/4ee4f47393d89fc0cf8b3b25433f26081af8c3e4b1f5c27b22ae297ebcf47094_3200.profile']\n",
      "duplicate ERR: ['./data/tree-rep-profiles_o2o_smallshort/small/4.kazy_0.8/G1038/6e0b838a6d17b1edb0c5407bd8f6bba961230467aaab941ac9843adc80193956_3224.profile', './data/tree-rep-profiles_o2o_smallshort/short/4.kazy_0.8/G1038/6e0b838a6d17b1edb0c5407bd8f6bba961230467aaab941ac9843adc80193956_3224.profile']\n",
      "duplicate ERR: ['./data/tree-rep-profiles_o2o_smallshort/small/4.kazy_0.8/G1089/2e1d27308123de4bd827048380003d93d0cc6b6de265209a99e8d1bdfc6afa65_3208.profile', './data/tree-rep-profiles_o2o_smallshort/short/4.kazy_0.8/G1089/2e1d27308123de4bd827048380003d93d0cc6b6de265209a99e8d1bdfc6afa65_3208.profile']\n",
      "duplicate ERR: ['./data/tree-rep-profiles_o2o_smallshort/small/4.kazy_0.8/G1089/ef1ddfdeaf0c9cb61580ffc218a6e2874d58b73ca18a3df9aedd0d9a375de2ca_3060.profile', './data/tree-rep-profiles_o2o_smallshort/short/4.kazy_0.8/G1089/ef1ddfdeaf0c9cb61580ffc218a6e2874d58b73ca18a3df9aedd0d9a375de2ca_3060.profile']\n",
      "duplicate ERR: ['./data/tree-rep-profiles_o2o_smallshort/small/4.kazy_0.8/G1217/07a4cf9c09e9b35488b396a882bda1c76ea4df15ee7f0c17d94b5b4ac6fb0281_2844.profile', './data/tree-rep-profiles_o2o_smallshort/short/4.kazy_0.8/G1217/07a4cf9c09e9b35488b396a882bda1c76ea4df15ee7f0c17d94b5b4ac6fb0281_2844.profile']\n",
      "duplicate ERR: ['./data/tree-rep-profiles_o2o_smallshort/small/4.kazy_0.8/G1217/a4393c659c163f170421c1204b043b6dff66039f6f203b85170440cb8261ea3b_3644.profile', './data/tree-rep-profiles_o2o_smallshort/short/4.kazy_0.8/G1217/a4393c659c163f170421c1204b043b6dff66039f6f203b85170440cb8261ea3b_3644.profile']\n",
      "duplicate ERR: ['./data/tree-rep-profiles_o2o_smallshort/small/4.kazy_0.8/G1190/fd91bd83a156c9b3d19d2d0be3ce1ae2b4af74044ac8f715d84e8189e6662398_3248.profile', './data/tree-rep-profiles_o2o_smallshort/short/4.kazy_0.8/G1190/fd91bd83a156c9b3d19d2d0be3ce1ae2b4af74044ac8f715d84e8189e6662398_3248.profile']\n",
      "duplicate ERR: ['./data/tree-rep-profiles_o2o_smallshort/small/4.kazy_0.8/G1190/2f7645e8902196fcb4a76322346b1117ed764056a6ae043272a21238c9e028d6_3476.profile', './data/tree-rep-profiles_o2o_smallshort/short/4.kazy_0.8/G1190/2f7645e8902196fcb4a76322346b1117ed764056a6ae043272a21238c9e028d6_3476.profile']\n",
      "duplicate ERR: ['./data/tree-rep-profiles_o2o_smallshort/small/4.kazy_0.8/G1199/ae2e52680dcfbf05ebf27dfdb9422c9955f73255355a9b87b2d9b77e9e9c1487_3452.profile', './data/tree-rep-profiles_o2o_smallshort/short/4.kazy_0.8/G1199/ae2e52680dcfbf05ebf27dfdb9422c9955f73255355a9b87b2d9b77e9e9c1487_3452.profile']\n",
      "duplicate ERR: ['./data/tree-rep-profiles_o2o_smallshort/small/4.kazy_0.8/G1199/0aad84820eb7aa6bfb96780226eb5aae534e9ae716bd1fc74a1418aabb801588_3360.profile', './data/tree-rep-profiles_o2o_smallshort/short/4.kazy_0.8/G1199/0aad84820eb7aa6bfb96780226eb5aae534e9ae716bd1fc74a1418aabb801588_3360.profile']\n",
      "duplicate ERR: ['./data/tree-rep-profiles_o2o_smallshort/small/4.kazy_0.8/G1209/783a244d9c10f2865667581bd422d664dfe880a23598ee54ce1f3ace639166af_3432.profile', './data/tree-rep-profiles_o2o_smallshort/short/4.kazy_0.8/G1209/783a244d9c10f2865667581bd422d664dfe880a23598ee54ce1f3ace639166af_3432.profile']\n",
      "duplicate ERR: ['./data/tree-rep-profiles_o2o_smallshort/small/4.kazy_0.8/G1209/783a244d9c10f2865667581bd422d664dfe880a23598ee54ce1f3ace639166af_3368.profile', './data/tree-rep-profiles_o2o_smallshort/short/4.kazy_0.8/G1209/783a244d9c10f2865667581bd422d664dfe880a23598ee54ce1f3ace639166af_3368.profile']\n",
      "duplicate ERR: ['./data/tree-rep-profiles_o2o_smallshort/small/4.kazy_0.8/G1225/150c226ead6ba4bb84fa456c7ec51b5048249797b087514d11d54a04ef5b4834_3060.profile', './data/tree-rep-profiles_o2o_smallshort/short/4.kazy_0.8/G1225/150c226ead6ba4bb84fa456c7ec51b5048249797b087514d11d54a04ef5b4834_3060.profile']\n",
      "duplicate ERR: ['./data/tree-rep-profiles_o2o_smallshort/small/4.kazy_0.8/G1225/098fd4cb3f074c47317d069a8511e5f3c23559ce95d0c1faf315a9ece40cd5f2_3168.profile', './data/tree-rep-profiles_o2o_smallshort/short/4.kazy_0.8/G1225/098fd4cb3f074c47317d069a8511e5f3c23559ce95d0c1faf315a9ece40cd5f2_3168.profile']\n",
      "duplicate ERR: ['./data/tree-rep-profiles_o2o_smallshort/small/4.kazy_0.8/G1187/12f68c4f0fe721061bb8c7c4ce7ef1b0a0ada145c72e403beb7c064ee13abcc6_3340.profile', './data/tree-rep-profiles_o2o_smallshort/short/4.kazy_0.8/G1187/12f68c4f0fe721061bb8c7c4ce7ef1b0a0ada145c72e403beb7c064ee13abcc6_3340.profile']\n",
      "duplicate ERR: ['./data/tree-rep-profiles_o2o_smallshort/small/4.kazy_0.8/G1187/0c8d2ad4bc384ed65689662309f5a22faa29c1a8df0d1878bac3b1f30eb7173d_3284.profile', './data/tree-rep-profiles_o2o_smallshort/short/4.kazy_0.8/G1187/0c8d2ad4bc384ed65689662309f5a22faa29c1a8df0d1878bac3b1f30eb7173d_3284.profile']\n",
      "duplicate ERR: ['./data/tree-rep-profiles_o2o_smallshort/small/4.kazy_0.8/G1228/4badef3f06a93de770611d6e931136639c3a14ccb983abe3f633b7d776566834_3216.profile', './data/tree-rep-profiles_o2o_smallshort/short/4.kazy_0.8/G1228/4badef3f06a93de770611d6e931136639c3a14ccb983abe3f633b7d776566834_3216.profile']\n",
      "duplicate ERR: ['./data/tree-rep-profiles_o2o_smallshort/small/4.kazy_0.8/G1228/68f17a60063b954ebb1237074a830f634d32a98600c9486583cd4a2e291ffe66_3176.profile', './data/tree-rep-profiles_o2o_smallshort/short/4.kazy_0.8/G1228/68f17a60063b954ebb1237074a830f634d32a98600c9486583cd4a2e291ffe66_3176.profile']\n",
      "duplicate ERR: ['./data/tree-rep-profiles_o2o_smallshort/small/4.kazy_0.8/G1154/b8985fd772c076da931bba14672f61b47847f01ed0b719f7f71fd5eff391dddf_3332.profile', './data/tree-rep-profiles_o2o_smallshort/short/4.kazy_0.8/G1154/b8985fd772c076da931bba14672f61b47847f01ed0b719f7f71fd5eff391dddf_3332.profile']\n",
      "duplicate ERR: ['./data/tree-rep-profiles_o2o_smallshort/small/4.kazy_0.8/G1154/1c9c01827a9342aba2a9845a3dfc2f68a31d8dba5e9cd9529f493ff7a68c77fb_3248.profile', './data/tree-rep-profiles_o2o_smallshort/short/4.kazy_0.8/G1154/1c9c01827a9342aba2a9845a3dfc2f68a31d8dba5e9cd9529f493ff7a68c77fb_3248.profile']\n",
      "duplicate ERR: ['./data/tree-rep-profiles_o2o_smallshort/small/4.kazy_0.8/G1034/f94d4f0c5a633d4406acc4bfc937934b73699827c0a1047759ec49f0e1a20109_3372.profile', './data/tree-rep-profiles_o2o_smallshort/short/4.kazy_0.8/G1034/f94d4f0c5a633d4406acc4bfc937934b73699827c0a1047759ec49f0e1a20109_3372.profile']\n",
      "duplicate ERR: ['./data/tree-rep-profiles_o2o_smallshort/small/4.kazy_0.8/G1034/f94d4f0c5a633d4406acc4bfc937934b73699827c0a1047759ec49f0e1a20109_3308.profile', './data/tree-rep-profiles_o2o_smallshort/short/4.kazy_0.8/G1034/f94d4f0c5a633d4406acc4bfc937934b73699827c0a1047759ec49f0e1a20109_3308.profile']\n"
     ]
    },
    {
     "name": "stdout",
     "output_type": "stream",
     "text": [
      "duplicate ERR: ['./data/tree-rep-profiles_o2o_smallshort/small/4.kazy_0.8/G1213/0eccc9ecf2710019c1a5b01d2634c1eca0d7c076e6098066057f4e6a26c1a5b4_3468.profile', './data/tree-rep-profiles_o2o_smallshort/short/4.kazy_0.8/G1213/0eccc9ecf2710019c1a5b01d2634c1eca0d7c076e6098066057f4e6a26c1a5b4_3468.profile']\n",
      "duplicate ERR: ['./data/tree-rep-profiles_o2o_smallshort/small/4.kazy_0.8/G1213/e799862e3e666effe6d67a0b3e0f1c367f3ceebe3c4a14ea4da161782dd0200a_3468.profile', './data/tree-rep-profiles_o2o_smallshort/short/4.kazy_0.8/G1213/e799862e3e666effe6d67a0b3e0f1c367f3ceebe3c4a14ea4da161782dd0200a_3468.profile']\n",
      "duplicate ERR: ['./data/tree-rep-profiles_o2o_smallshort/small/4.kazy_0.8/G1007/89f256e2af3164fc998693cede04f4c0a0c4832de6b56194519256c82604e6fd_3244.profile', './data/tree-rep-profiles_o2o_smallshort/short/4.kazy_0.8/G1007/89f256e2af3164fc998693cede04f4c0a0c4832de6b56194519256c82604e6fd_3244.profile']\n",
      "duplicate ERR: ['./data/tree-rep-profiles_o2o_smallshort/small/4.kazy_0.8/G1007/7c47be04c8b111cc68f0f9962bdf21423cb6a32c81d4146d67f082066fe08f69_3240.profile', './data/tree-rep-profiles_o2o_smallshort/short/4.kazy_0.8/G1007/7c47be04c8b111cc68f0f9962bdf21423cb6a32c81d4146d67f082066fe08f69_3240.profile']\n",
      "duplicate ERR: ['./data/tree-rep-profiles_o2o_smallshort/small/4.kazy_0.8/G1191/64edddf36aa2d77cdd59353369c5c75da14f3299e0b4a3fbc8b850b8f371af35_3192.profile', './data/tree-rep-profiles_o2o_smallshort/short/4.kazy_0.8/G1191/64edddf36aa2d77cdd59353369c5c75da14f3299e0b4a3fbc8b850b8f371af35_3192.profile']\n",
      "duplicate ERR: ['./data/tree-rep-profiles_o2o_smallshort/small/4.kazy_0.8/G1191/5b0b3f2a559d543e1ba14606e9ae2ecba30338c5080b6469c3b45c75693e5210_3216.profile', './data/tree-rep-profiles_o2o_smallshort/short/4.kazy_0.8/G1191/5b0b3f2a559d543e1ba14606e9ae2ecba30338c5080b6469c3b45c75693e5210_3216.profile']\n",
      "duplicate ERR: ['./data/tree-rep-profiles_o2o_smallshort/small/4.kazy_0.8/G1215/12de4c8fd32a38c557f84f8d35c6df520a8e09db50413d3965c477bbec1ab617_3356.profile', './data/tree-rep-profiles_o2o_smallshort/short/4.kazy_0.8/G1215/12de4c8fd32a38c557f84f8d35c6df520a8e09db50413d3965c477bbec1ab617_3356.profile']\n",
      "duplicate ERR: ['./data/tree-rep-profiles_o2o_smallshort/small/4.kazy_0.8/G1215/084f3b3b668752e4f102c3048a88611fda6483385d1338e806567bb23858f6d3_2912.profile', './data/tree-rep-profiles_o2o_smallshort/short/4.kazy_0.8/G1215/084f3b3b668752e4f102c3048a88611fda6483385d1338e806567bb23858f6d3_2912.profile']\n"
     ]
    },
    {
     "name": "stderr",
     "output_type": "stream",
     "text": [
      "\r",
      " 36%|███▋      | 58/159 [00:28<01:42,  1.02s/it]"
     ]
    },
    {
     "name": "stdout",
     "output_type": "stream",
     "text": [
      "duplicate ERR: ['./data/tree-rep-profiles_o2o_smallshort/small/4.kazy_0.8/G1084/8dd02d383ee2ba566cb4f73f32992a58fa646150d1ecd7e4b8122488d3ba689e_2860.profile', './data/tree-rep-profiles_o2o_smallshort/short/4.kazy_0.8/G1084/8dd02d383ee2ba566cb4f73f32992a58fa646150d1ecd7e4b8122488d3ba689e_2860.profile']\n",
      "duplicate ERR: ['./data/tree-rep-profiles_o2o_smallshort/small/4.kazy_0.8/G1084/018b1582542b073c317e9c204d011a87d195e27d9ec7021f728805fc974baab0_3168.profile', './data/tree-rep-profiles_o2o_smallshort/short/4.kazy_0.8/G1084/018b1582542b073c317e9c204d011a87d195e27d9ec7021f728805fc974baab0_3168.profile']\n",
      "duplicate ERR: ['./data/tree-rep-profiles_o2o_smallshort/small/4.kazy_0.8/G1008/08dd87eada5dc5a77b7114f8f6c20f160f046c397a963c45a66f83e404b4052e_3336.profile', './data/tree-rep-profiles_o2o_smallshort/short/4.kazy_0.8/G1008/08dd87eada5dc5a77b7114f8f6c20f160f046c397a963c45a66f83e404b4052e_3336.profile']\n",
      "duplicate ERR: ['./data/tree-rep-profiles_o2o_smallshort/small/4.kazy_0.8/G1008/10b59a0dab415556f358d22629dd8d9f6c82032c5ed04090e5d392d59d9cb41e_3332.profile', './data/tree-rep-profiles_o2o_smallshort/short/4.kazy_0.8/G1008/10b59a0dab415556f358d22629dd8d9f6c82032c5ed04090e5d392d59d9cb41e_3332.profile']\n",
      "duplicate ERR: ['./data/tree-rep-profiles_o2o_smallshort/small/7.solimba_0.8/G696/1d3ad4f6296c35dba28f7547c9ad6b20ace0e3ea3dd44b86445be78efe1655f3_3356.profile', './data/tree-rep-profiles_o2o_smallshort/short/7.solimba_0.8/G696/1d3ad4f6296c35dba28f7547c9ad6b20ace0e3ea3dd44b86445be78efe1655f3_3356.profile']\n",
      "duplicate ERR: ['./data/tree-rep-profiles_o2o_smallshort/small/7.solimba_0.8/G696/0e7b1b92d6db2868e39c6d152bbde1904ad1df74e2aa0a88e93ce9f081d367f4_2932.profile', './data/tree-rep-profiles_o2o_smallshort/short/7.solimba_0.8/G696/0e7b1b92d6db2868e39c6d152bbde1904ad1df74e2aa0a88e93ce9f081d367f4_2932.profile']\n",
      "duplicate ERR: ['./data/tree-rep-profiles_o2o_smallshort/small/7.solimba_0.8/G666/0fd646fd666305a3fc5fc9b9cdfdf10d529a3f585c361b86d8e14cd3ebfaecad_3012.profile', './data/tree-rep-profiles_o2o_smallshort/short/7.solimba_0.8/G666/0fd646fd666305a3fc5fc9b9cdfdf10d529a3f585c361b86d8e14cd3ebfaecad_3012.profile']\n",
      "duplicate ERR: ['./data/tree-rep-profiles_o2o_smallshort/small/7.solimba_0.8/G666/0aff629da6b1a98a16228b702f4adcb9ad73207e19c0b65379cdfaad078cfe2b_3284.profile', './data/tree-rep-profiles_o2o_smallshort/short/7.solimba_0.8/G666/0aff629da6b1a98a16228b702f4adcb9ad73207e19c0b65379cdfaad078cfe2b_3284.profile']\n",
      "duplicate ERR: ['./data/tree-rep-profiles_o2o_smallshort/small/7.solimba_0.8/G701/0e706336673ca4427c2bdc566e4beea54888bfe1c22c7978f1d27955bbc138b2_3404.profile', './data/tree-rep-profiles_o2o_smallshort/short/7.solimba_0.8/G701/0e706336673ca4427c2bdc566e4beea54888bfe1c22c7978f1d27955bbc138b2_3404.profile']\n",
      "duplicate ERR: ['./data/tree-rep-profiles_o2o_smallshort/small/7.solimba_0.8/G701/0f6b76d64845d8a970e1f38a4a3af42e856ce4937c9d9c8d82e24768e254d67a_3240.profile', './data/tree-rep-profiles_o2o_smallshort/short/7.solimba_0.8/G701/0f6b76d64845d8a970e1f38a4a3af42e856ce4937c9d9c8d82e24768e254d67a_3240.profile']\n",
      "duplicate ERR: ['./data/tree-rep-profiles_o2o_smallshort/small/7.solimba_0.8/G647/1d536c613e01d5c41c1c28adbd532098b35a42a793b805ac875d5dab87de735b_3212.profile', './data/tree-rep-profiles_o2o_smallshort/short/7.solimba_0.8/G647/1d536c613e01d5c41c1c28adbd532098b35a42a793b805ac875d5dab87de735b_3212.profile']\n",
      "duplicate ERR: ['./data/tree-rep-profiles_o2o_smallshort/small/7.solimba_0.8/G647/1d536c613e01d5c41c1c28adbd532098b35a42a793b805ac875d5dab87de735b_3280.profile', './data/tree-rep-profiles_o2o_smallshort/short/7.solimba_0.8/G647/1d536c613e01d5c41c1c28adbd532098b35a42a793b805ac875d5dab87de735b_3280.profile']\n",
      "duplicate ERR: ['./data/tree-rep-profiles_o2o_smallshort/small/7.solimba_0.8/G674/fefc01deeb00ff4e1956ec620b30656729f14599e824517104a7d4a8e4f0f2c5_3196.profile', './data/tree-rep-profiles_o2o_smallshort/short/7.solimba_0.8/G674/fefc01deeb00ff4e1956ec620b30656729f14599e824517104a7d4a8e4f0f2c5_3196.profile']\n",
      "duplicate ERR: ['./data/tree-rep-profiles_o2o_smallshort/small/7.solimba_0.8/G674/00cebd669e0d609675370c0a3cc738da8dcf5b848ff6ab7520cf29671411eb93_3128.profile', './data/tree-rep-profiles_o2o_smallshort/short/7.solimba_0.8/G674/00cebd669e0d609675370c0a3cc738da8dcf5b848ff6ab7520cf29671411eb93_3128.profile']\n",
      "duplicate ERR: ['./data/tree-rep-profiles_o2o_smallshort/small/7.solimba_0.8/G652/0db5909eead380b4eef915207966dc4ff04ef5d2460254540d9f9f740d35794f_3368.profile', './data/tree-rep-profiles_o2o_smallshort/short/7.solimba_0.8/G652/0db5909eead380b4eef915207966dc4ff04ef5d2460254540d9f9f740d35794f_3368.profile']\n",
      "duplicate ERR: ['./data/tree-rep-profiles_o2o_smallshort/small/7.solimba_0.8/G652/0c3b6012ee924b748504cdcb1204b2c24f89e10714eea56eaf6ad6b5ae0a38a8_2996.profile', './data/tree-rep-profiles_o2o_smallshort/short/7.solimba_0.8/G652/0c3b6012ee924b748504cdcb1204b2c24f89e10714eea56eaf6ad6b5ae0a38a8_2996.profile']\n",
      "duplicate ERR: ['./data/tree-rep-profiles_o2o_smallshort/small/7.solimba_0.8/G692/0ce7bc8fa33dcb74ed7963c9f05917be26086442729edceee803d8f21cbaf233_3256.profile', './data/tree-rep-profiles_o2o_smallshort/short/7.solimba_0.8/G692/0ce7bc8fa33dcb74ed7963c9f05917be26086442729edceee803d8f21cbaf233_3256.profile']\n",
      "duplicate ERR: ['./data/tree-rep-profiles_o2o_smallshort/small/7.solimba_0.8/G692/0ce7bc8fa33dcb74ed7963c9f05917be26086442729edceee803d8f21cbaf233_3300.profile', './data/tree-rep-profiles_o2o_smallshort/short/7.solimba_0.8/G692/0ce7bc8fa33dcb74ed7963c9f05917be26086442729edceee803d8f21cbaf233_3300.profile']\n",
      "duplicate ERR: ['./data/tree-rep-profiles_o2o_smallshort/small/7.solimba_0.8/G637/0d67f0668f87a4e0131e0a31f112a4f4f425c6d06634defec36e5dff5f0ce049_3280.profile', './data/tree-rep-profiles_o2o_smallshort/short/7.solimba_0.8/G637/0d67f0668f87a4e0131e0a31f112a4f4f425c6d06634defec36e5dff5f0ce049_3280.profile']\n",
      "duplicate ERR: ['./data/tree-rep-profiles_o2o_smallshort/small/7.solimba_0.8/G637/0d67f0668f87a4e0131e0a31f112a4f4f425c6d06634defec36e5dff5f0ce049_3264.profile', './data/tree-rep-profiles_o2o_smallshort/short/7.solimba_0.8/G637/0d67f0668f87a4e0131e0a31f112a4f4f425c6d06634defec36e5dff5f0ce049_3264.profile']\n",
      "duplicate ERR: ['./data/tree-rep-profiles_o2o_smallshort/small/7.solimba_0.8/G702/0f54dca39f960200ce862f08b7f2d68112acbee55bc82551b4c63ebd0ff8763e_3248.profile', './data/tree-rep-profiles_o2o_smallshort/short/7.solimba_0.8/G702/0f54dca39f960200ce862f08b7f2d68112acbee55bc82551b4c63ebd0ff8763e_3248.profile']\n",
      "duplicate ERR: ['./data/tree-rep-profiles_o2o_smallshort/small/7.solimba_0.8/G702/1d536c613e01d5c41c1c28adbd532098b35a42a793b805ac875d5dab87de735b_3432.profile', './data/tree-rep-profiles_o2o_smallshort/short/7.solimba_0.8/G702/1d536c613e01d5c41c1c28adbd532098b35a42a793b805ac875d5dab87de735b_3432.profile']\n",
      "duplicate ERR: ['./data/tree-rep-profiles_o2o_smallshort/small/7.solimba_0.8/G631/0ff18f95921794175800186627f86748af489bf433f599eaaa40b0afdb45bef1_3268.profile', './data/tree-rep-profiles_o2o_smallshort/short/7.solimba_0.8/G631/0ff18f95921794175800186627f86748af489bf433f599eaaa40b0afdb45bef1_3268.profile']\n",
      "duplicate ERR: ['./data/tree-rep-profiles_o2o_smallshort/small/7.solimba_0.8/G631/0ab22005f7691c145de9a7aff8994a66a00e42543c1924536ca5fc602ff467f2_3320.profile', './data/tree-rep-profiles_o2o_smallshort/short/7.solimba_0.8/G631/0ab22005f7691c145de9a7aff8994a66a00e42543c1924536ca5fc602ff467f2_3320.profile']\n",
      "duplicate ERR: ['./data/tree-rep-profiles_o2o_smallshort/small/7.solimba_0.8/G693/0b2919d6e3d9c017a7c50d24c44fea6e5a9a1ab4b92ec6033a4dc8493c84838e_2888.profile', './data/tree-rep-profiles_o2o_smallshort/short/7.solimba_0.8/G693/0b2919d6e3d9c017a7c50d24c44fea6e5a9a1ab4b92ec6033a4dc8493c84838e_2888.profile']\n",
      "duplicate ERR: ['./data/tree-rep-profiles_o2o_smallshort/small/7.solimba_0.8/G693/0bca518516b0e1d44343ca99db9b0f6b2e55be81b74e3cf52aed778c7618d180_2868.profile', './data/tree-rep-profiles_o2o_smallshort/short/7.solimba_0.8/G693/0bca518516b0e1d44343ca99db9b0f6b2e55be81b74e3cf52aed778c7618d180_2868.profile']\n",
      "duplicate ERR: ['./data/tree-rep-profiles_o2o_smallshort/small/7.solimba_0.8/G649/0a62f72594491e707a31432e63d968982ab1eda48ed63102d9eed68a0e983c16_3376.profile', './data/tree-rep-profiles_o2o_smallshort/short/7.solimba_0.8/G649/0a62f72594491e707a31432e63d968982ab1eda48ed63102d9eed68a0e983c16_3376.profile']\n",
      "duplicate ERR: ['./data/tree-rep-profiles_o2o_smallshort/small/7.solimba_0.8/G649/0f5cbaa3990276055b1dfef7eea7cb8502fd69ab969fcbe38aec7c28a7c0f11b_3320.profile', './data/tree-rep-profiles_o2o_smallshort/short/7.solimba_0.8/G649/0f5cbaa3990276055b1dfef7eea7cb8502fd69ab969fcbe38aec7c28a7c0f11b_3320.profile']\n",
      "duplicate ERR: ['./data/tree-rep-profiles_o2o_smallshort/small/7.solimba_0.8/G639/0f368da4eaac9fcdeb7c542ce407413a26bf8e90964a7c7dae970f2d30d89adb_2840.profile', './data/tree-rep-profiles_o2o_smallshort/short/7.solimba_0.8/G639/0f368da4eaac9fcdeb7c542ce407413a26bf8e90964a7c7dae970f2d30d89adb_2840.profile']\n",
      "duplicate ERR: ['./data/tree-rep-profiles_o2o_smallshort/small/7.solimba_0.8/G639/0ffab2be625048583ab9f7f71260eb6da32c9e0983ae9a771deb1c9e490c4eef_3424.profile', './data/tree-rep-profiles_o2o_smallshort/short/7.solimba_0.8/G639/0ffab2be625048583ab9f7f71260eb6da32c9e0983ae9a771deb1c9e490c4eef_3424.profile']\n",
      "duplicate ERR: ['./data/tree-rep-profiles_o2o_smallshort/small/7.solimba_0.8/G687/0f4958dc50d3edc96458ebbda139ca7202545e4891c4e4e97d7bf11612fff62f_2868.profile', './data/tree-rep-profiles_o2o_smallshort/short/7.solimba_0.8/G687/0f4958dc50d3edc96458ebbda139ca7202545e4891c4e4e97d7bf11612fff62f_2868.profile']\n",
      "duplicate ERR: ['./data/tree-rep-profiles_o2o_smallshort/small/7.solimba_0.8/G687/0d5e19e9d8ba3db1293836cbcd8e002379cd587c74e196c8cf7e9357869411f8_3308.profile', './data/tree-rep-profiles_o2o_smallshort/short/7.solimba_0.8/G687/0d5e19e9d8ba3db1293836cbcd8e002379cd587c74e196c8cf7e9357869411f8_3308.profile']\n"
     ]
    },
    {
     "name": "stdout",
     "output_type": "stream",
     "text": [
      "duplicate ERR: ['./data/tree-rep-profiles_o2o_smallshort/small/7.solimba_0.8/G685/1d2f1d93cc143188b4dc43de05657372f0f874e4283caa40a1506f15bc565062_3240.profile', './data/tree-rep-profiles_o2o_smallshort/short/7.solimba_0.8/G685/1d2f1d93cc143188b4dc43de05657372f0f874e4283caa40a1506f15bc565062_3240.profile']\n",
      "duplicate ERR: ['./data/tree-rep-profiles_o2o_smallshort/small/7.solimba_0.8/G685/01e45bc86776e161e0e71a2ccb933a1b8da9bb5c053f61a1e7b0d6441b858a92_2912.profile', './data/tree-rep-profiles_o2o_smallshort/short/7.solimba_0.8/G685/01e45bc86776e161e0e71a2ccb933a1b8da9bb5c053f61a1e7b0d6441b858a92_2912.profile']\n",
      "duplicate ERR: ['./data/tree-rep-profiles_o2o_smallshort/small/7.solimba_0.8/G690/0db42c6f43b655022afe4b7b2d6e53f166a0e7638dc2e9f7fbf8299118f2b678_3436.profile', './data/tree-rep-profiles_o2o_smallshort/short/7.solimba_0.8/G690/0db42c6f43b655022afe4b7b2d6e53f166a0e7638dc2e9f7fbf8299118f2b678_3436.profile']\n",
      "duplicate ERR: ['./data/tree-rep-profiles_o2o_smallshort/small/7.solimba_0.8/G690/1ceb07fb5b092796c40b9ab9bab0047ff94ed0be26ce551a823294d078fe5e0e_3304.profile', './data/tree-rep-profiles_o2o_smallshort/short/7.solimba_0.8/G690/1ceb07fb5b092796c40b9ab9bab0047ff94ed0be26ce551a823294d078fe5e0e_3304.profile']\n",
      "duplicate ERR: ['./data/tree-rep-profiles_o2o_smallshort/small/7.solimba_0.8/G676/16f97815fb5d181131188b89840469e6eacf6b30cc76df69dd5e2c825b73fa12_3092.profile', './data/tree-rep-profiles_o2o_smallshort/short/7.solimba_0.8/G676/16f97815fb5d181131188b89840469e6eacf6b30cc76df69dd5e2c825b73fa12_3092.profile']\n",
      "duplicate ERR: ['./data/tree-rep-profiles_o2o_smallshort/small/7.solimba_0.8/G676/0e580549b42fc22a7ff39fee9efc7e311bf83285c6655daca6ca949563e34e24_3408.profile', './data/tree-rep-profiles_o2o_smallshort/short/7.solimba_0.8/G676/0e580549b42fc22a7ff39fee9efc7e311bf83285c6655daca6ca949563e34e24_3408.profile']\n",
      "duplicate ERR: ['./data/tree-rep-profiles_o2o_smallshort/small/7.solimba_0.8/G665/1f20ab1a14e89f8ba98ebfade01b694d9dcca78bd1d294383e8ccb77b393a25a_3176.profile', './data/tree-rep-profiles_o2o_smallshort/short/7.solimba_0.8/G665/1f20ab1a14e89f8ba98ebfade01b694d9dcca78bd1d294383e8ccb77b393a25a_3176.profile']\n",
      "duplicate ERR: ['./data/tree-rep-profiles_o2o_smallshort/small/7.solimba_0.8/G665/01f720ae16375e75c7e6893eb26dc6ce279aa5d615da6d15bf54666e7b63381e_3272.profile', './data/tree-rep-profiles_o2o_smallshort/short/7.solimba_0.8/G665/01f720ae16375e75c7e6893eb26dc6ce279aa5d615da6d15bf54666e7b63381e_3272.profile']\n"
     ]
    },
    {
     "name": "stderr",
     "output_type": "stream",
     "text": [
      "\r",
      " 37%|███▋      | 59/159 [00:29<01:41,  1.02s/it]"
     ]
    },
    {
     "name": "stdout",
     "output_type": "stream",
     "text": [
      "duplicate ERR: ['./data/tree-rep-profiles_o2o_smallshort/small/7.solimba_0.8/G691/0bdf29a9cd47f8729a0099598e3f922a63c0d454ad5d19735d9740b657ce98b8_3156.profile', './data/tree-rep-profiles_o2o_smallshort/short/7.solimba_0.8/G691/0bdf29a9cd47f8729a0099598e3f922a63c0d454ad5d19735d9740b657ce98b8_3156.profile']\n",
      "duplicate ERR: ['./data/tree-rep-profiles_o2o_smallshort/small/7.solimba_0.8/G691/0f7c8c6322d1dbcc631188a42ed01d2e885473fa11edf8ee2796e701f3c43804_3256.profile', './data/tree-rep-profiles_o2o_smallshort/short/7.solimba_0.8/G691/0f7c8c6322d1dbcc631188a42ed01d2e885473fa11edf8ee2796e701f3c43804_3256.profile']\n",
      "duplicate ERR: ['./data/tree-rep-profiles_o2o_smallshort/small/7.solimba_0.8/G643/0efabe7f71848df5716ac6095e2df417a1bc15a2944cc86f260e35ea02b007cd_3276.profile', './data/tree-rep-profiles_o2o_smallshort/short/7.solimba_0.8/G643/0efabe7f71848df5716ac6095e2df417a1bc15a2944cc86f260e35ea02b007cd_3276.profile']\n",
      "duplicate ERR: ['./data/tree-rep-profiles_o2o_smallshort/small/7.solimba_0.8/G643/0cc831970f9a19d3d9ab2b3fb453a9d7912ac515a8b1f265e6f11b97e1286a9c_3372.profile', './data/tree-rep-profiles_o2o_smallshort/short/7.solimba_0.8/G643/0cc831970f9a19d3d9ab2b3fb453a9d7912ac515a8b1f265e6f11b97e1286a9c_3372.profile']\n",
      "duplicate ERR: ['./data/tree-rep-profiles_o2o_smallshort/small/142.nimnul_0.8/G16/0b4ce0de5a927132459f8df8da5f6e5201d71e53eed1e90cd46503bda6bbb2f7_3320.profile', './data/tree-rep-profiles_o2o_smallshort/short/142.nimnul_0.8/G16/0b4ce0de5a927132459f8df8da5f6e5201d71e53eed1e90cd46503bda6bbb2f7_3320.profile']\n",
      "duplicate ERR: ['./data/tree-rep-profiles_o2o_smallshort/small/142.nimnul_0.8/G16/03e352a5e80f126e3eeea44d04400d28304b32e0b05025027ace927f7b3057d9_3260.profile', './data/tree-rep-profiles_o2o_smallshort/short/142.nimnul_0.8/G16/03e352a5e80f126e3eeea44d04400d28304b32e0b05025027ace927f7b3057d9_3260.profile']\n",
      "duplicate ERR: ['./data/tree-rep-profiles_o2o_smallshort/small/142.nimnul_0.8/G17/1e30018ef6172488deafec5dc473530e08e5b64b86f40fb95ece56af77bc4c5e_3336.profile', './data/tree-rep-profiles_o2o_smallshort/short/142.nimnul_0.8/G17/1e30018ef6172488deafec5dc473530e08e5b64b86f40fb95ece56af77bc4c5e_3336.profile']\n",
      "duplicate ERR: ['./data/tree-rep-profiles_o2o_smallshort/small/142.nimnul_0.8/G17/22ba7b8db69a45f85da7e62c3be2c8262a4c89cc8948fb894367efbef492ed62_2832.profile', './data/tree-rep-profiles_o2o_smallshort/short/142.nimnul_0.8/G17/22ba7b8db69a45f85da7e62c3be2c8262a4c89cc8948fb894367efbef492ed62_2832.profile']\n"
     ]
    },
    {
     "name": "stderr",
     "output_type": "stream",
     "text": [
      "\r",
      " 38%|███▊      | 60/159 [00:29<01:15,  1.32it/s]"
     ]
    },
    {
     "name": "stdout",
     "output_type": "stream",
     "text": [
      "duplicate ERR: ['./data/tree-rep-profiles_o2o_smallshort/small/142.nimnul_0.8/G18/0f8e44bbebeff01eaa4c3fac637f17ef583cca4d7c8003f3c27613ac8867efdc_2976.profile', './data/tree-rep-profiles_o2o_smallshort/short/142.nimnul_0.8/G18/0f8e44bbebeff01eaa4c3fac637f17ef583cca4d7c8003f3c27613ac8867efdc_2976.profile']\n",
      "duplicate ERR: ['./data/tree-rep-profiles_o2o_smallshort/small/142.nimnul_0.8/G18/0f8e44bbebeff01eaa4c3fac637f17ef583cca4d7c8003f3c27613ac8867efdc_2904.profile', './data/tree-rep-profiles_o2o_smallshort/short/142.nimnul_0.8/G18/0f8e44bbebeff01eaa4c3fac637f17ef583cca4d7c8003f3c27613ac8867efdc_2904.profile']\n",
      "duplicate ERR: ['./data/tree-rep-profiles_o2o_smallshort/small/41.ibryte_0.8/G126/c35aa73da789eae7c28b7ce0ff574c68b232bb764e539cbe48772bc647e0137b_3524.profile', './data/tree-rep-profiles_o2o_smallshort/short/41.ibryte_0.8/G126/c35aa73da789eae7c28b7ce0ff574c68b232bb764e539cbe48772bc647e0137b_3524.profile']\n",
      "duplicate ERR: ['./data/tree-rep-profiles_o2o_smallshort/small/41.ibryte_0.8/G126/c35aa73da789eae7c28b7ce0ff574c68b232bb764e539cbe48772bc647e0137b_3300.profile', './data/tree-rep-profiles_o2o_smallshort/short/41.ibryte_0.8/G126/c35aa73da789eae7c28b7ce0ff574c68b232bb764e539cbe48772bc647e0137b_3300.profile']\n",
      "duplicate ERR: ['./data/tree-rep-profiles_o2o_smallshort/small/41.ibryte_0.8/G118/d86093913de2543e8b8cc46d5e4b39816dc36aa0b0e1360058c0e6f191c86b49_3112.profile', './data/tree-rep-profiles_o2o_smallshort/short/41.ibryte_0.8/G118/d86093913de2543e8b8cc46d5e4b39816dc36aa0b0e1360058c0e6f191c86b49_3112.profile']\n",
      "duplicate ERR: ['./data/tree-rep-profiles_o2o_smallshort/small/41.ibryte_0.8/G118/d86093913de2543e8b8cc46d5e4b39816dc36aa0b0e1360058c0e6f191c86b49_3100.profile', './data/tree-rep-profiles_o2o_smallshort/short/41.ibryte_0.8/G118/d86093913de2543e8b8cc46d5e4b39816dc36aa0b0e1360058c0e6f191c86b49_3100.profile']\n",
      "duplicate ERR: ['./data/tree-rep-profiles_o2o_smallshort/small/41.ibryte_0.8/G120/17eac8bf090b89d31ad36edf2eff2407b9b330b6ed311fde75c41b01800bffcc_2924.profile', './data/tree-rep-profiles_o2o_smallshort/short/41.ibryte_0.8/G120/17eac8bf090b89d31ad36edf2eff2407b9b330b6ed311fde75c41b01800bffcc_2924.profile']\n",
      "duplicate ERR: ['./data/tree-rep-profiles_o2o_smallshort/small/41.ibryte_0.8/G120/5553f905358e53e4ea13859df5d4e8cc7d2fb598d59ad162600631ffa489c036_3264.profile', './data/tree-rep-profiles_o2o_smallshort/short/41.ibryte_0.8/G120/5553f905358e53e4ea13859df5d4e8cc7d2fb598d59ad162600631ffa489c036_3264.profile']\n",
      "duplicate ERR: ['./data/tree-rep-profiles_o2o_smallshort/small/41.ibryte_0.8/G116/847695df7966fd1338468262bd779e4254842e49df66f1520d071d899bffc62e_3208.profile', './data/tree-rep-profiles_o2o_smallshort/short/41.ibryte_0.8/G116/847695df7966fd1338468262bd779e4254842e49df66f1520d071d899bffc62e_3208.profile']\n",
      "duplicate ERR: ['./data/tree-rep-profiles_o2o_smallshort/small/41.ibryte_0.8/G116/0b316299cd9ff9f93402b68567994973805410ca8f13be0b1c58c3ae59061142_2876.profile', './data/tree-rep-profiles_o2o_smallshort/short/41.ibryte_0.8/G116/0b316299cd9ff9f93402b68567994973805410ca8f13be0b1c58c3ae59061142_2876.profile']\n",
      "duplicate ERR: ['./data/tree-rep-profiles_o2o_smallshort/small/41.ibryte_0.8/G113/6a39d95fac7b1cfbc300740f88332e80a2d37540219643a50a49ea69658458a3_3044.profile', './data/tree-rep-profiles_o2o_smallshort/short/41.ibryte_0.8/G113/6a39d95fac7b1cfbc300740f88332e80a2d37540219643a50a49ea69658458a3_3044.profile']\n",
      "duplicate ERR: ['./data/tree-rep-profiles_o2o_smallshort/small/41.ibryte_0.8/G113/6a39d95fac7b1cfbc300740f88332e80a2d37540219643a50a49ea69658458a3_2948.profile', './data/tree-rep-profiles_o2o_smallshort/short/41.ibryte_0.8/G113/6a39d95fac7b1cfbc300740f88332e80a2d37540219643a50a49ea69658458a3_2948.profile']\n",
      "duplicate ERR: ['./data/tree-rep-profiles_o2o_smallshort/small/41.ibryte_0.8/G111/6573685bac6e6da8f3feea40e459621ac21941430b9f8803e85b0ff595941226_3236.profile', './data/tree-rep-profiles_o2o_smallshort/short/41.ibryte_0.8/G111/6573685bac6e6da8f3feea40e459621ac21941430b9f8803e85b0ff595941226_3236.profile']\n",
      "duplicate ERR: ['./data/tree-rep-profiles_o2o_smallshort/small/41.ibryte_0.8/G111/6573685bac6e6da8f3feea40e459621ac21941430b9f8803e85b0ff595941226_3220.profile', './data/tree-rep-profiles_o2o_smallshort/short/41.ibryte_0.8/G111/6573685bac6e6da8f3feea40e459621ac21941430b9f8803e85b0ff595941226_3220.profile']\n",
      "duplicate ERR: ['./data/tree-rep-profiles_o2o_smallshort/small/41.ibryte_0.8/G125/474423296ed8973c697fb63e7f4d418795791ca5b967aae4746769c373ad569f_3064.profile', './data/tree-rep-profiles_o2o_smallshort/short/41.ibryte_0.8/G125/474423296ed8973c697fb63e7f4d418795791ca5b967aae4746769c373ad569f_3064.profile']\n",
      "duplicate ERR: ['./data/tree-rep-profiles_o2o_smallshort/small/41.ibryte_0.8/G125/732f1aa66031b6d49233f743808e2925d7f7302c5f7baae3f84adcc44b164799_3328.profile', './data/tree-rep-profiles_o2o_smallshort/short/41.ibryte_0.8/G125/732f1aa66031b6d49233f743808e2925d7f7302c5f7baae3f84adcc44b164799_3328.profile']\n",
      "duplicate ERR: ['./data/tree-rep-profiles_o2o_smallshort/small/41.ibryte_0.8/G115/6a39d95fac7b1cfbc300740f88332e80a2d37540219643a50a49ea69658458a3_2904.profile', './data/tree-rep-profiles_o2o_smallshort/short/41.ibryte_0.8/G115/6a39d95fac7b1cfbc300740f88332e80a2d37540219643a50a49ea69658458a3_2904.profile']\n",
      "duplicate ERR: ['./data/tree-rep-profiles_o2o_smallshort/small/41.ibryte_0.8/G115/6a39d95fac7b1cfbc300740f88332e80a2d37540219643a50a49ea69658458a3_2996.profile', './data/tree-rep-profiles_o2o_smallshort/short/41.ibryte_0.8/G115/6a39d95fac7b1cfbc300740f88332e80a2d37540219643a50a49ea69658458a3_2996.profile']\n"
     ]
    },
    {
     "name": "stderr",
     "output_type": "stream",
     "text": [
      "\r",
      " 38%|███▊      | 61/159 [00:30<01:04,  1.51it/s]"
     ]
    },
    {
     "name": "stdout",
     "output_type": "stream",
     "text": [
      "duplicate ERR: ['./data/tree-rep-profiles_o2o_smallshort/small/41.ibryte_0.8/G127/cf7ac6d6ae8cdf6be206137157ce42ec45f23a8f4b659778628c0a2166e03315_2872.profile', './data/tree-rep-profiles_o2o_smallshort/short/41.ibryte_0.8/G127/cf7ac6d6ae8cdf6be206137157ce42ec45f23a8f4b659778628c0a2166e03315_2872.profile']\n",
      "duplicate ERR: ['./data/tree-rep-profiles_o2o_smallshort/small/41.ibryte_0.8/G127/e155fc543f663cc16114d933ff1fc5e29134fddc8ee96f880a736b9497454714_3220.profile', './data/tree-rep-profiles_o2o_smallshort/short/41.ibryte_0.8/G127/e155fc543f663cc16114d933ff1fc5e29134fddc8ee96f880a736b9497454714_3220.profile']\n",
      "duplicate ERR: ['./data/tree-rep-profiles_o2o_smallshort/small/9.loadmoney_0.8/G578/0b6bb467460e3b53aaf8b4c6d272cec7a6ed12ea8ff04ce110167c68f97cf913_3292.profile', './data/tree-rep-profiles_o2o_smallshort/short/9.loadmoney_0.8/G578/0b6bb467460e3b53aaf8b4c6d272cec7a6ed12ea8ff04ce110167c68f97cf913_3292.profile']\n",
      "duplicate ERR: ['./data/tree-rep-profiles_o2o_smallshort/small/9.loadmoney_0.8/G578/0b6bb467460e3b53aaf8b4c6d272cec7a6ed12ea8ff04ce110167c68f97cf913_3236.profile', './data/tree-rep-profiles_o2o_smallshort/short/9.loadmoney_0.8/G578/0b6bb467460e3b53aaf8b4c6d272cec7a6ed12ea8ff04ce110167c68f97cf913_3236.profile']\n",
      "duplicate ERR: ['./data/tree-rep-profiles_o2o_smallshort/small/9.loadmoney_0.8/G552/100f9e839829113491e19d7bfe26d20392da093611ceab4d3b6fb81832b3d3b0_3320.profile', './data/tree-rep-profiles_o2o_smallshort/short/9.loadmoney_0.8/G552/100f9e839829113491e19d7bfe26d20392da093611ceab4d3b6fb81832b3d3b0_3320.profile']\n",
      "duplicate ERR: ['./data/tree-rep-profiles_o2o_smallshort/small/9.loadmoney_0.8/G552/0efce8df94f57e73eb2e0d9a49b85f5b579ef8e3899f93726c20f6356fa49395_3352.profile', './data/tree-rep-profiles_o2o_smallshort/short/9.loadmoney_0.8/G552/0efce8df94f57e73eb2e0d9a49b85f5b579ef8e3899f93726c20f6356fa49395_3352.profile']\n",
      "duplicate ERR: ['./data/tree-rep-profiles_o2o_smallshort/small/9.loadmoney_0.8/G575/6bbd667f15befa16790fed47121861c0c423509f8c856e0dd4e3f230d29407a6_3280.profile', './data/tree-rep-profiles_o2o_smallshort/short/9.loadmoney_0.8/G575/6bbd667f15befa16790fed47121861c0c423509f8c856e0dd4e3f230d29407a6_3280.profile']\n",
      "duplicate ERR: ['./data/tree-rep-profiles_o2o_smallshort/small/9.loadmoney_0.8/G575/ed15b738bf916aa49268dc9b81f5cad2eca9d3e58b6a4fb6ba9dfb1274c0a97d_3336.profile', './data/tree-rep-profiles_o2o_smallshort/short/9.loadmoney_0.8/G575/ed15b738bf916aa49268dc9b81f5cad2eca9d3e58b6a4fb6ba9dfb1274c0a97d_3336.profile']\n",
      "duplicate ERR: ['./data/tree-rep-profiles_o2o_smallshort/small/9.loadmoney_0.8/G501/6bdb027d62fa07294bc8218f766630dba6d2f965e60819610e2b0d6383ca17ce_3400.profile', './data/tree-rep-profiles_o2o_smallshort/short/9.loadmoney_0.8/G501/6bdb027d62fa07294bc8218f766630dba6d2f965e60819610e2b0d6383ca17ce_3400.profile']\n",
      "duplicate ERR: ['./data/tree-rep-profiles_o2o_smallshort/small/9.loadmoney_0.8/G501/b684b85aa0c9915a77a44dac55180f41cfc3f750f009a503555821c670367e44_2936.profile', './data/tree-rep-profiles_o2o_smallshort/short/9.loadmoney_0.8/G501/b684b85aa0c9915a77a44dac55180f41cfc3f750f009a503555821c670367e44_2936.profile']\n",
      "duplicate ERR: ['./data/tree-rep-profiles_o2o_smallshort/small/9.loadmoney_0.8/G576/0bc7b6af30113f2c535ab4c54c20917bf29ffe9badc8f6928ced06409ae00484_3464.profile', './data/tree-rep-profiles_o2o_smallshort/short/9.loadmoney_0.8/G576/0bc7b6af30113f2c535ab4c54c20917bf29ffe9badc8f6928ced06409ae00484_3464.profile']\n",
      "duplicate ERR: ['./data/tree-rep-profiles_o2o_smallshort/small/9.loadmoney_0.8/G576/090ed9b537d2bb24a924f73c71a5b669d6b30ffaa4c578610307d32d3eba210c_2956.profile', './data/tree-rep-profiles_o2o_smallshort/short/9.loadmoney_0.8/G576/090ed9b537d2bb24a924f73c71a5b669d6b30ffaa4c578610307d32d3eba210c_2956.profile']\n",
      "duplicate ERR: ['./data/tree-rep-profiles_o2o_smallshort/small/9.loadmoney_0.8/G506/0f34b04ac98cc0a3d8db616216a6546584fdd4641f4ec6503e4b667a541eaf33_2936.profile', './data/tree-rep-profiles_o2o_smallshort/short/9.loadmoney_0.8/G506/0f34b04ac98cc0a3d8db616216a6546584fdd4641f4ec6503e4b667a541eaf33_2936.profile']\n",
      "duplicate ERR: ['./data/tree-rep-profiles_o2o_smallshort/small/9.loadmoney_0.8/G506/0eb5b46b27a49c8c6ea20144e45f2c45530e2bfa157bed8dc82cf14683b852f8_2944.profile', './data/tree-rep-profiles_o2o_smallshort/short/9.loadmoney_0.8/G506/0eb5b46b27a49c8c6ea20144e45f2c45530e2bfa157bed8dc82cf14683b852f8_2944.profile']\n",
      "duplicate ERR: ['./data/tree-rep-profiles_o2o_smallshort/small/9.loadmoney_0.8/G582/c8d64749de79cb926778cf7dfa550d9b80cff13daa8e5d730b66e428205ce97a_3284.profile', './data/tree-rep-profiles_o2o_smallshort/short/9.loadmoney_0.8/G582/c8d64749de79cb926778cf7dfa550d9b80cff13daa8e5d730b66e428205ce97a_3284.profile']\n",
      "duplicate ERR: ['./data/tree-rep-profiles_o2o_smallshort/small/9.loadmoney_0.8/G582/01e54a9c0716c47781f5359db4911095f105f1e4ebead80fa28f240c6b6ceb31_3228.profile', './data/tree-rep-profiles_o2o_smallshort/short/9.loadmoney_0.8/G582/01e54a9c0716c47781f5359db4911095f105f1e4ebead80fa28f240c6b6ceb31_3228.profile']\n",
      "duplicate ERR: ['./data/tree-rep-profiles_o2o_smallshort/small/9.loadmoney_0.8/G508/427b3dfdf2ea2e6ffe844f97d84dbefe62a6a215864c03408c19d4a09f5d7b9a_3400.profile', './data/tree-rep-profiles_o2o_smallshort/short/9.loadmoney_0.8/G508/427b3dfdf2ea2e6ffe844f97d84dbefe62a6a215864c03408c19d4a09f5d7b9a_3400.profile']\n",
      "duplicate ERR: ['./data/tree-rep-profiles_o2o_smallshort/small/9.loadmoney_0.8/G508/ed15b738bf916aa49268dc9b81f5cad2eca9d3e58b6a4fb6ba9dfb1274c0a97d_3384.profile', './data/tree-rep-profiles_o2o_smallshort/short/9.loadmoney_0.8/G508/ed15b738bf916aa49268dc9b81f5cad2eca9d3e58b6a4fb6ba9dfb1274c0a97d_3384.profile']\n",
      "duplicate ERR: ['./data/tree-rep-profiles_o2o_smallshort/small/9.loadmoney_0.8/G544/00d44295e16dca23e50d72a551e7832b53648a619db026eff3943b278a3a2fd9_3272.profile', './data/tree-rep-profiles_o2o_smallshort/short/9.loadmoney_0.8/G544/00d44295e16dca23e50d72a551e7832b53648a619db026eff3943b278a3a2fd9_3272.profile']\n",
      "duplicate ERR: ['./data/tree-rep-profiles_o2o_smallshort/small/9.loadmoney_0.8/G544/5f5a1122acc34d6cbc845c2884a36b3b07107ddb276014cd6cf0132b184ce485_3364.profile', './data/tree-rep-profiles_o2o_smallshort/short/9.loadmoney_0.8/G544/5f5a1122acc34d6cbc845c2884a36b3b07107ddb276014cd6cf0132b184ce485_3364.profile']\n",
      "duplicate ERR: ['./data/tree-rep-profiles_o2o_smallshort/small/9.loadmoney_0.8/G581/077b0ef3d55d805179e6df3ddf583c79079a24e98cc236817993f92490971cd7_3168.profile', './data/tree-rep-profiles_o2o_smallshort/short/9.loadmoney_0.8/G581/077b0ef3d55d805179e6df3ddf583c79079a24e98cc236817993f92490971cd7_3168.profile']\n",
      "duplicate ERR: ['./data/tree-rep-profiles_o2o_smallshort/small/9.loadmoney_0.8/G581/0f121845a95734f761b8b62cad666ebfb447429f109ce5722ad2510ec62ddb0c_3344.profile', './data/tree-rep-profiles_o2o_smallshort/short/9.loadmoney_0.8/G581/0f121845a95734f761b8b62cad666ebfb447429f109ce5722ad2510ec62ddb0c_3344.profile']\n",
      "duplicate ERR: ['./data/tree-rep-profiles_o2o_smallshort/small/9.loadmoney_0.8/G548/5b091625569646d515dc21e2dc5862debb5926e6388403cf4b4a8a9bec2def13_3224.profile', './data/tree-rep-profiles_o2o_smallshort/short/9.loadmoney_0.8/G548/5b091625569646d515dc21e2dc5862debb5926e6388403cf4b4a8a9bec2def13_3224.profile']\n",
      "duplicate ERR: ['./data/tree-rep-profiles_o2o_smallshort/small/9.loadmoney_0.8/G548/5b091625569646d515dc21e2dc5862debb5926e6388403cf4b4a8a9bec2def13_3292.profile', './data/tree-rep-profiles_o2o_smallshort/short/9.loadmoney_0.8/G548/5b091625569646d515dc21e2dc5862debb5926e6388403cf4b4a8a9bec2def13_3292.profile']\n",
      "duplicate ERR: ['./data/tree-rep-profiles_o2o_smallshort/small/9.loadmoney_0.8/G499/fa625f4ef06383b276682d4fd69c3b87d3fc825e49b6d7ceb3716958f69f52fb_3396.profile', './data/tree-rep-profiles_o2o_smallshort/short/9.loadmoney_0.8/G499/fa625f4ef06383b276682d4fd69c3b87d3fc825e49b6d7ceb3716958f69f52fb_3396.profile']\n",
      "duplicate ERR: ['./data/tree-rep-profiles_o2o_smallshort/small/9.loadmoney_0.8/G499/fa625f4ef06383b276682d4fd69c3b87d3fc825e49b6d7ceb3716958f69f52fb_2948.profile', './data/tree-rep-profiles_o2o_smallshort/short/9.loadmoney_0.8/G499/fa625f4ef06383b276682d4fd69c3b87d3fc825e49b6d7ceb3716958f69f52fb_2948.profile']\n",
      "duplicate ERR: ['./data/tree-rep-profiles_o2o_smallshort/small/9.loadmoney_0.8/G562/13a0621ca19712567de8cf692a1c002930411f5ee626072e1b78ee18866c86ea_3316.profile', './data/tree-rep-profiles_o2o_smallshort/short/9.loadmoney_0.8/G562/13a0621ca19712567de8cf692a1c002930411f5ee626072e1b78ee18866c86ea_3316.profile']\n",
      "duplicate ERR: ['./data/tree-rep-profiles_o2o_smallshort/small/9.loadmoney_0.8/G562/0be8fb8cd7b75e77b21cd730f284378622b2b9145fd59b9c86ceb2adf1164840_3300.profile', './data/tree-rep-profiles_o2o_smallshort/short/9.loadmoney_0.8/G562/0be8fb8cd7b75e77b21cd730f284378622b2b9145fd59b9c86ceb2adf1164840_3300.profile']\n",
      "duplicate ERR: ['./data/tree-rep-profiles_o2o_smallshort/small/9.loadmoney_0.8/G560/69aa8b13c4369ce037183d212f04f03b31a6f9e29dbbf98280b53aa4aeb81c5b_3352.profile', './data/tree-rep-profiles_o2o_smallshort/short/9.loadmoney_0.8/G560/69aa8b13c4369ce037183d212f04f03b31a6f9e29dbbf98280b53aa4aeb81c5b_3352.profile']\n",
      "duplicate ERR: ['./data/tree-rep-profiles_o2o_smallshort/small/9.loadmoney_0.8/G560/98c5af440cede96e08d3a11563f29e783e33b1c30e31c244fbb0fb405cffd85a_3296.profile', './data/tree-rep-profiles_o2o_smallshort/short/9.loadmoney_0.8/G560/98c5af440cede96e08d3a11563f29e783e33b1c30e31c244fbb0fb405cffd85a_3296.profile']\n",
      "duplicate ERR: ['./data/tree-rep-profiles_o2o_smallshort/small/9.loadmoney_0.8/G483/1d5792459a79ec86b40f9fc8f97f33afa6cf57b182921675e9110670ef82f7df_3504.profile', './data/tree-rep-profiles_o2o_smallshort/short/9.loadmoney_0.8/G483/1d5792459a79ec86b40f9fc8f97f33afa6cf57b182921675e9110670ef82f7df_3504.profile']\n",
      "duplicate ERR: ['./data/tree-rep-profiles_o2o_smallshort/small/9.loadmoney_0.8/G483/ff4dc070d866c9651dac8e8df1b9397857a7ce72ba51f914e44c9d71c64208da_3184.profile', './data/tree-rep-profiles_o2o_smallshort/short/9.loadmoney_0.8/G483/ff4dc070d866c9651dac8e8df1b9397857a7ce72ba51f914e44c9d71c64208da_3184.profile']\n",
      "duplicate ERR: ['./data/tree-rep-profiles_o2o_smallshort/small/9.loadmoney_0.8/G502/1e4d5fd4f1358beb79d61d1167fad803888a6c80d3e379adc9de92a40aaaba22_3136.profile', './data/tree-rep-profiles_o2o_smallshort/short/9.loadmoney_0.8/G502/1e4d5fd4f1358beb79d61d1167fad803888a6c80d3e379adc9de92a40aaaba22_3136.profile']\n"
     ]
    },
    {
     "name": "stderr",
     "output_type": "stream",
     "text": [
      "\r",
      " 39%|███▉      | 62/159 [00:31<01:11,  1.35it/s]"
     ]
    },
    {
     "name": "stdout",
     "output_type": "stream",
     "text": [
      "duplicate ERR: ['./data/tree-rep-profiles_o2o_smallshort/small/9.loadmoney_0.8/G502/1d6d6c2431bd4d222f9800d504638f2794354c5d28aee88d77f0a12984c0d513_3100.profile', './data/tree-rep-profiles_o2o_smallshort/short/9.loadmoney_0.8/G502/1d6d6c2431bd4d222f9800d504638f2794354c5d28aee88d77f0a12984c0d513_3100.profile']\n",
      "duplicate ERR: ['./data/tree-rep-profiles_o2o_smallshort/small/9.loadmoney_0.8/G498/fd19471c739969462cdc81b0cc38dd3f7173751cd3de6d3296d9563a0dfebdee_3312.profile', './data/tree-rep-profiles_o2o_smallshort/short/9.loadmoney_0.8/G498/fd19471c739969462cdc81b0cc38dd3f7173751cd3de6d3296d9563a0dfebdee_3312.profile']\n",
      "duplicate ERR: ['./data/tree-rep-profiles_o2o_smallshort/small/9.loadmoney_0.8/G498/fd19471c739969462cdc81b0cc38dd3f7173751cd3de6d3296d9563a0dfebdee_3416.profile', './data/tree-rep-profiles_o2o_smallshort/short/9.loadmoney_0.8/G498/fd19471c739969462cdc81b0cc38dd3f7173751cd3de6d3296d9563a0dfebdee_3416.profile']\n",
      "duplicate ERR: ['./data/tree-rep-profiles_o2o_smallshort/small/9.loadmoney_0.8/G585/199ede2a300e89b8b69461fe15badf9267385cf4d5ce4805657375fad13f2d6d_3292.profile', './data/tree-rep-profiles_o2o_smallshort/short/9.loadmoney_0.8/G585/199ede2a300e89b8b69461fe15badf9267385cf4d5ce4805657375fad13f2d6d_3292.profile']\n",
      "duplicate ERR: ['./data/tree-rep-profiles_o2o_smallshort/small/9.loadmoney_0.8/G585/199ede2a300e89b8b69461fe15badf9267385cf4d5ce4805657375fad13f2d6d_3348.profile', './data/tree-rep-profiles_o2o_smallshort/short/9.loadmoney_0.8/G585/199ede2a300e89b8b69461fe15badf9267385cf4d5ce4805657375fad13f2d6d_3348.profile']\n",
      "duplicate ERR: ['./data/tree-rep-profiles_o2o_smallshort/small/90.rimecud_0.8/G35/150b5e068907812b10be1a48dea9418404b59336380ed3dfc5d8de5eaf08a678_3240.profile', './data/tree-rep-profiles_o2o_smallshort/short/90.rimecud_0.8/G35/150b5e068907812b10be1a48dea9418404b59336380ed3dfc5d8de5eaf08a678_3240.profile']\n",
      "duplicate ERR: ['./data/tree-rep-profiles_o2o_smallshort/small/90.rimecud_0.8/G35/0c8b0d0416e534b8491a84c0417f659171ed4adbb3542686d5100c26345b0938_3360.profile', './data/tree-rep-profiles_o2o_smallshort/short/90.rimecud_0.8/G35/0c8b0d0416e534b8491a84c0417f659171ed4adbb3542686d5100c26345b0938_3360.profile']\n",
      "duplicate ERR: ['./data/tree-rep-profiles_o2o_smallshort/small/90.rimecud_0.8/G34/02f45aca977f7ab2cb3980d9cda61bc3a7a5f16c769942c7e90af47e75b39bc7_3184.profile', './data/tree-rep-profiles_o2o_smallshort/short/90.rimecud_0.8/G34/02f45aca977f7ab2cb3980d9cda61bc3a7a5f16c769942c7e90af47e75b39bc7_3184.profile']\n"
     ]
    },
    {
     "name": "stderr",
     "output_type": "stream",
     "text": [
      "\r",
      " 40%|███▉      | 63/159 [00:31<00:52,  1.81it/s]"
     ]
    },
    {
     "name": "stdout",
     "output_type": "stream",
     "text": [
      "duplicate ERR: ['./data/tree-rep-profiles_o2o_smallshort/small/90.rimecud_0.8/G34/15a2f651b256ebdf33c41dc5db06cf80ae7b469b0d289e40dbce103de95a6858_3116.profile', './data/tree-rep-profiles_o2o_smallshort/short/90.rimecud_0.8/G34/15a2f651b256ebdf33c41dc5db06cf80ae7b469b0d289e40dbce103de95a6858_3116.profile']\n",
      "duplicate ERR: ['./data/tree-rep-profiles_o2o_smallshort/small/120.buzus_0.8/G19/09c5e6c1c49e281338085e45fb2a7abf71b20c3ce988a1eb2688e06880dd1dae_3252.profile', './data/tree-rep-profiles_o2o_smallshort/short/120.buzus_0.8/G19/09c5e6c1c49e281338085e45fb2a7abf71b20c3ce988a1eb2688e06880dd1dae_3252.profile']\n",
      "duplicate ERR: ['./data/tree-rep-profiles_o2o_smallshort/small/120.buzus_0.8/G19/01e8e2c614f12c6e68d0339fdc37f1241fbabb11c1c394799ec1baf728ebaf8b_2924.profile', './data/tree-rep-profiles_o2o_smallshort/short/120.buzus_0.8/G19/01e8e2c614f12c6e68d0339fdc37f1241fbabb11c1c394799ec1baf728ebaf8b_2924.profile']\n",
      "duplicate ERR: ['./data/tree-rep-profiles_o2o_smallshort/small/106.gator_0.8/G25/cd0c9fac0b1f0e30aa2ebe40a1ffaae1d889823b2f8a20f8ffc12f8bf0f8a4c4_3172.profile', './data/tree-rep-profiles_o2o_smallshort/short/106.gator_0.8/G25/cd0c9fac0b1f0e30aa2ebe40a1ffaae1d889823b2f8a20f8ffc12f8bf0f8a4c4_3172.profile']\n",
      "duplicate ERR: ['./data/tree-rep-profiles_o2o_smallshort/small/106.gator_0.8/G25/cd0c9fac0b1f0e30aa2ebe40a1ffaae1d889823b2f8a20f8ffc12f8bf0f8a4c4_3336.profile', './data/tree-rep-profiles_o2o_smallshort/short/106.gator_0.8/G25/cd0c9fac0b1f0e30aa2ebe40a1ffaae1d889823b2f8a20f8ffc12f8bf0f8a4c4_3336.profile']\n",
      "duplicate ERR: ['./data/tree-rep-profiles_o2o_smallshort/small/106.gator_0.8/G24/0ecd4392a3b9baad5bd3704ff0944443591f75617e0c17b1e400d4c08d0f96f8_2836.profile', './data/tree-rep-profiles_o2o_smallshort/short/106.gator_0.8/G24/0ecd4392a3b9baad5bd3704ff0944443591f75617e0c17b1e400d4c08d0f96f8_2836.profile']\n",
      "duplicate ERR: ['./data/tree-rep-profiles_o2o_smallshort/small/106.gator_0.8/G24/01d8dc58999e7b51fe502a58751ec547485e1103ae9bd751f85cfead11892be6_3036.profile', './data/tree-rep-profiles_o2o_smallshort/short/106.gator_0.8/G24/01d8dc58999e7b51fe502a58751ec547485e1103ae9bd751f85cfead11892be6_3036.profile']\n",
      "duplicate ERR: ['./data/tree-rep-profiles_o2o_smallshort/small/106.gator_0.8/G26/0cc971c52c06b89733cb8dc1f393829ffee2889ea6995109f322036fa8b988df_3212.profile', './data/tree-rep-profiles_o2o_smallshort/short/106.gator_0.8/G26/0cc971c52c06b89733cb8dc1f393829ffee2889ea6995109f322036fa8b988df_3212.profile']\n"
     ]
    },
    {
     "name": "stderr",
     "output_type": "stream",
     "text": [
      "\r",
      " 41%|████      | 65/159 [00:31<00:40,  2.34it/s]"
     ]
    },
    {
     "name": "stdout",
     "output_type": "stream",
     "text": [
      "duplicate ERR: ['./data/tree-rep-profiles_o2o_smallshort/small/106.gator_0.8/G26/12e814c07a80039c057429c51284cec4f9a71c7f0b0e923e8891bd6afa339234_3256.profile', './data/tree-rep-profiles_o2o_smallshort/short/106.gator_0.8/G26/12e814c07a80039c057429c51284cec4f9a71c7f0b0e923e8891bd6afa339234_3256.profile']\n",
      "duplicate ERR: ['./data/tree-rep-profiles_o2o_smallshort/small/106.gator_0.8/G27/12e814c07a80039c057429c51284cec4f9a71c7f0b0e923e8891bd6afa339234_3296.profile', './data/tree-rep-profiles_o2o_smallshort/short/106.gator_0.8/G27/12e814c07a80039c057429c51284cec4f9a71c7f0b0e923e8891bd6afa339234_3296.profile']\n",
      "duplicate ERR: ['./data/tree-rep-profiles_o2o_smallshort/small/106.gator_0.8/G27/1f266286548d3fdf90679f210605403529efea49425a6e6cee7574724edab9ab_3240.profile', './data/tree-rep-profiles_o2o_smallshort/short/106.gator_0.8/G27/1f266286548d3fdf90679f210605403529efea49425a6e6cee7574724edab9ab_3240.profile']\n",
      "duplicate ERR: ['./data/tree-rep-profiles_o2o_smallshort/small/44.startpage_0.8/G103/476576c06113ca5971ef68ff60bedc78510e475b35027b94ed1efae9db1a2f99_3436.profile', './data/tree-rep-profiles_o2o_smallshort/short/44.startpage_0.8/G103/476576c06113ca5971ef68ff60bedc78510e475b35027b94ed1efae9db1a2f99_3436.profile']\n",
      "duplicate ERR: ['./data/tree-rep-profiles_o2o_smallshort/small/44.startpage_0.8/G103/476576c06113ca5971ef68ff60bedc78510e475b35027b94ed1efae9db1a2f99_3228.profile', './data/tree-rep-profiles_o2o_smallshort/short/44.startpage_0.8/G103/476576c06113ca5971ef68ff60bedc78510e475b35027b94ed1efae9db1a2f99_3228.profile']\n",
      "duplicate ERR: ['./data/tree-rep-profiles_o2o_smallshort/small/44.startpage_0.8/G101/0ae3e2e6d499ab446d4b879584d98d7549ff533b50a1ee57bdf8027acef3f7e3_3280.profile', './data/tree-rep-profiles_o2o_smallshort/short/44.startpage_0.8/G101/0ae3e2e6d499ab446d4b879584d98d7549ff533b50a1ee57bdf8027acef3f7e3_3280.profile']\n",
      "duplicate ERR: ['./data/tree-rep-profiles_o2o_smallshort/small/44.startpage_0.8/G101/01dffecaaecd2dc878c7d312dbcb2e0a425b07205d98fa5e815562eef8a1503f_3284.profile', './data/tree-rep-profiles_o2o_smallshort/short/44.startpage_0.8/G101/01dffecaaecd2dc878c7d312dbcb2e0a425b07205d98fa5e815562eef8a1503f_3284.profile']\n",
      "duplicate ERR: ['./data/tree-rep-profiles_o2o_smallshort/small/44.startpage_0.8/G110/06d13d437de4ed2964af1f6c9927ae592aaf8d5977f51a1f52622fbb520c1c37_2888.profile', './data/tree-rep-profiles_o2o_smallshort/short/44.startpage_0.8/G110/06d13d437de4ed2964af1f6c9927ae592aaf8d5977f51a1f52622fbb520c1c37_2888.profile']\n",
      "duplicate ERR: ['./data/tree-rep-profiles_o2o_smallshort/small/44.startpage_0.8/G110/1ef07612de806b3c59b17c872a784b6b6566bad91de66d67f4a40d7cadd1cb6b_3300.profile', './data/tree-rep-profiles_o2o_smallshort/short/44.startpage_0.8/G110/1ef07612de806b3c59b17c872a784b6b6566bad91de66d67f4a40d7cadd1cb6b_3300.profile']\n",
      "duplicate ERR: ['./data/tree-rep-profiles_o2o_smallshort/small/44.startpage_0.8/G107/476576c06113ca5971ef68ff60bedc78510e475b35027b94ed1efae9db1a2f99_3496.profile', './data/tree-rep-profiles_o2o_smallshort/short/44.startpage_0.8/G107/476576c06113ca5971ef68ff60bedc78510e475b35027b94ed1efae9db1a2f99_3496.profile']\n",
      "duplicate ERR: ['./data/tree-rep-profiles_o2o_smallshort/small/44.startpage_0.8/G107/476576c06113ca5971ef68ff60bedc78510e475b35027b94ed1efae9db1a2f99_3324.profile', './data/tree-rep-profiles_o2o_smallshort/short/44.startpage_0.8/G107/476576c06113ca5971ef68ff60bedc78510e475b35027b94ed1efae9db1a2f99_3324.profile']\n",
      "duplicate ERR: ['./data/tree-rep-profiles_o2o_smallshort/small/44.startpage_0.8/G99/0ae3e2e6d499ab446d4b879584d98d7549ff533b50a1ee57bdf8027acef3f7e3_3268.profile', './data/tree-rep-profiles_o2o_smallshort/short/44.startpage_0.8/G99/0ae3e2e6d499ab446d4b879584d98d7549ff533b50a1ee57bdf8027acef3f7e3_3268.profile']\n",
      "duplicate ERR: ['./data/tree-rep-profiles_o2o_smallshort/small/44.startpage_0.8/G99/01dffecaaecd2dc878c7d312dbcb2e0a425b07205d98fa5e815562eef8a1503f_3260.profile', './data/tree-rep-profiles_o2o_smallshort/short/44.startpage_0.8/G99/01dffecaaecd2dc878c7d312dbcb2e0a425b07205d98fa5e815562eef8a1503f_3260.profile']\n",
      "duplicate ERR: ['./data/tree-rep-profiles_o2o_smallshort/small/44.startpage_0.8/G102/0012ddb1f3fddce51bcdc265585b261175deca28f7ad5e6188cd7fd36d6c3ef9_3232.profile', './data/tree-rep-profiles_o2o_smallshort/short/44.startpage_0.8/G102/0012ddb1f3fddce51bcdc265585b261175deca28f7ad5e6188cd7fd36d6c3ef9_3232.profile']\n",
      "duplicate ERR: ['./data/tree-rep-profiles_o2o_smallshort/small/44.startpage_0.8/G102/f490bf5745dab25ccf3f83d15b5131ea40da721fb3af4260c2264c1020604cbe_3240.profile', './data/tree-rep-profiles_o2o_smallshort/short/44.startpage_0.8/G102/f490bf5745dab25ccf3f83d15b5131ea40da721fb3af4260c2264c1020604cbe_3240.profile']\n"
     ]
    },
    {
     "name": "stderr",
     "output_type": "stream",
     "text": [
      "\r",
      " 42%|████▏     | 66/159 [00:32<00:41,  2.26it/s]"
     ]
    },
    {
     "name": "stdout",
     "output_type": "stream",
     "text": [
      "duplicate ERR: ['./data/tree-rep-profiles_o2o_smallshort/small/44.startpage_0.8/G114/11d98c251e5d2471cc0635081c099cd6908b4dd2135b59551d43dde2a4834d2c_3180.profile', './data/tree-rep-profiles_o2o_smallshort/short/44.startpage_0.8/G114/11d98c251e5d2471cc0635081c099cd6908b4dd2135b59551d43dde2a4834d2c_3180.profile']\n",
      "duplicate ERR: ['./data/tree-rep-profiles_o2o_smallshort/small/44.startpage_0.8/G114/07b67c39b601f4234e2246007cb83690b0b502e5a0aee058c96f5310ebe39fb8_3216.profile', './data/tree-rep-profiles_o2o_smallshort/short/44.startpage_0.8/G114/07b67c39b601f4234e2246007cb83690b0b502e5a0aee058c96f5310ebe39fb8_3216.profile']\n",
      "duplicate ERR: ['./data/tree-rep-profiles_o2o_smallshort/small/44.startpage_0.8/G112/ea9f85db53bb7da987994e84338a2a047791e96ddf282cd31e1f690863bb6cf0_3468.profile', './data/tree-rep-profiles_o2o_smallshort/short/44.startpage_0.8/G112/ea9f85db53bb7da987994e84338a2a047791e96ddf282cd31e1f690863bb6cf0_3468.profile']\n",
      "duplicate ERR: ['./data/tree-rep-profiles_o2o_smallshort/small/44.startpage_0.8/G112/ea9f85db53bb7da987994e84338a2a047791e96ddf282cd31e1f690863bb6cf0_3448.profile', './data/tree-rep-profiles_o2o_smallshort/short/44.startpage_0.8/G112/ea9f85db53bb7da987994e84338a2a047791e96ddf282cd31e1f690863bb6cf0_3448.profile']\n",
      "duplicate ERR: ['./data/tree-rep-profiles_o2o_smallshort/small/44.startpage_0.8/G115/133d7646bb427f3217ad41a5bb45ca3ce1fe07b534ac22a5aa1ee891811476e7_3280.profile', './data/tree-rep-profiles_o2o_smallshort/short/44.startpage_0.8/G115/133d7646bb427f3217ad41a5bb45ca3ce1fe07b534ac22a5aa1ee891811476e7_3280.profile']\n",
      "duplicate ERR: ['./data/tree-rep-profiles_o2o_smallshort/small/44.startpage_0.8/G115/008c4cefaf031bdc827dca773660498e83ac1b7ec24c7a9958b86d1816ec0d99_3188.profile', './data/tree-rep-profiles_o2o_smallshort/short/44.startpage_0.8/G115/008c4cefaf031bdc827dca773660498e83ac1b7ec24c7a9958b86d1816ec0d99_3188.profile']\n",
      "duplicate ERR: ['./data/tree-rep-profiles_o2o_smallshort/small/52.megasearch_0.8/G109/6e75f8d7e8a9dbd79d6a34fa0c2dc043631a3334e789a8bcd2e03fafcd54e21e_2980.profile', './data/tree-rep-profiles_o2o_smallshort/short/52.megasearch_0.8/G109/6e75f8d7e8a9dbd79d6a34fa0c2dc043631a3334e789a8bcd2e03fafcd54e21e_2980.profile']\n",
      "duplicate ERR: ['./data/tree-rep-profiles_o2o_smallshort/small/52.megasearch_0.8/G109/6e75f8d7e8a9dbd79d6a34fa0c2dc043631a3334e789a8bcd2e03fafcd54e21e_3064.profile', './data/tree-rep-profiles_o2o_smallshort/short/52.megasearch_0.8/G109/6e75f8d7e8a9dbd79d6a34fa0c2dc043631a3334e789a8bcd2e03fafcd54e21e_3064.profile']\n"
     ]
    },
    {
     "name": "stderr",
     "output_type": "stream",
     "text": [
      "\r",
      " 43%|████▎     | 69/159 [00:32<00:28,  3.12it/s]"
     ]
    },
    {
     "name": "stdout",
     "output_type": "stream",
     "text": [
      "duplicate ERR: ['./data/tree-rep-profiles_o2o_smallshort/small/152.navipromo_0.8/G17/ee895b20e71db0cda642d1ebc9ffc7a2987b5bf7736171794b339dbc76c88dd2_2976.profile', './data/tree-rep-profiles_o2o_smallshort/short/152.navipromo_0.8/G17/ee895b20e71db0cda642d1ebc9ffc7a2987b5bf7736171794b339dbc76c88dd2_2976.profile']\n",
      "duplicate ERR: ['./data/tree-rep-profiles_o2o_smallshort/small/152.navipromo_0.8/G17/ee895b20e71db0cda642d1ebc9ffc7a2987b5bf7736171794b339dbc76c88dd2_3300.profile', './data/tree-rep-profiles_o2o_smallshort/short/152.navipromo_0.8/G17/ee895b20e71db0cda642d1ebc9ffc7a2987b5bf7736171794b339dbc76c88dd2_3300.profile']\n",
      "duplicate ERR: ['./data/tree-rep-profiles_o2o_smallshort/small/47.mikey_0.8/G122/f463e296ee20b79dd0fb4ee205e3d5f7f8bed0ac28c9758a7bb06b8a8d8eeb92_3280.profile', './data/tree-rep-profiles_o2o_smallshort/short/47.mikey_0.8/G122/f463e296ee20b79dd0fb4ee205e3d5f7f8bed0ac28c9758a7bb06b8a8d8eeb92_3280.profile']\n",
      "duplicate ERR: ['./data/tree-rep-profiles_o2o_smallshort/small/47.mikey_0.8/G122/05d6ddc3774bc94987dde68bbba38d5518bb75d3188202cd54bc82783fc8c6d2_3264.profile', './data/tree-rep-profiles_o2o_smallshort/short/47.mikey_0.8/G122/05d6ddc3774bc94987dde68bbba38d5518bb75d3188202cd54bc82783fc8c6d2_3264.profile']\n",
      "duplicate ERR: ['./data/tree-rep-profiles_o2o_smallshort/small/47.mikey_0.8/G126/d65263ca15390dba23a68c286aca512d62cf59258750499f58f4f3a133d96576_3232.profile', './data/tree-rep-profiles_o2o_smallshort/short/47.mikey_0.8/G126/d65263ca15390dba23a68c286aca512d62cf59258750499f58f4f3a133d96576_3232.profile']\n",
      "duplicate ERR: ['./data/tree-rep-profiles_o2o_smallshort/small/47.mikey_0.8/G126/0ca7e3e3e5153d85b256d1fad411b54e16bcb3c2e78b0aedb76f3555bb6b036a_3340.profile', './data/tree-rep-profiles_o2o_smallshort/short/47.mikey_0.8/G126/0ca7e3e3e5153d85b256d1fad411b54e16bcb3c2e78b0aedb76f3555bb6b036a_3340.profile']\n",
      "duplicate ERR: ['./data/tree-rep-profiles_o2o_smallshort/small/47.mikey_0.8/G118/64431ed9a52f822430ba4e78869d107029de3ac530397dc06f10ffd6470cf5cd_3320.profile', './data/tree-rep-profiles_o2o_smallshort/short/47.mikey_0.8/G118/64431ed9a52f822430ba4e78869d107029de3ac530397dc06f10ffd6470cf5cd_3320.profile']\n",
      "duplicate ERR: ['./data/tree-rep-profiles_o2o_smallshort/small/47.mikey_0.8/G118/cbff47921efbac8a98c9329d6b29ed85afe965661edf2979a58e752ceb7d6e76_3204.profile', './data/tree-rep-profiles_o2o_smallshort/short/47.mikey_0.8/G118/cbff47921efbac8a98c9329d6b29ed85afe965661edf2979a58e752ceb7d6e76_3204.profile']\n",
      "duplicate ERR: ['./data/tree-rep-profiles_o2o_smallshort/small/47.mikey_0.8/G130/77e8eeeb750f81226174d0cbbf7c29ebf3f97ba4b68a37d221d21fc6a4d1e753_3624.profile', './data/tree-rep-profiles_o2o_smallshort/short/47.mikey_0.8/G130/77e8eeeb750f81226174d0cbbf7c29ebf3f97ba4b68a37d221d21fc6a4d1e753_3624.profile']\n",
      "duplicate ERR: ['./data/tree-rep-profiles_o2o_smallshort/small/47.mikey_0.8/G130/4ced7c6ffb48cf44592cc7c579f6d2e16b383e83806d4cff813383de18ef1908_3624.profile', './data/tree-rep-profiles_o2o_smallshort/short/47.mikey_0.8/G130/4ced7c6ffb48cf44592cc7c579f6d2e16b383e83806d4cff813383de18ef1908_3624.profile']\n",
      "duplicate ERR: ['./data/tree-rep-profiles_o2o_smallshort/small/47.mikey_0.8/G120/a464c2ee27ffe97a71df630ea51ef0f1238ad5e04d9a2da017d7b2bf800cf79b_3216.profile', './data/tree-rep-profiles_o2o_smallshort/short/47.mikey_0.8/G120/a464c2ee27ffe97a71df630ea51ef0f1238ad5e04d9a2da017d7b2bf800cf79b_3216.profile']\n",
      "duplicate ERR: ['./data/tree-rep-profiles_o2o_smallshort/small/47.mikey_0.8/G120/3363e715c40ee2812059da93e965b01a1fb7dc66f66070745be0305db1123f78_3320.profile', './data/tree-rep-profiles_o2o_smallshort/short/47.mikey_0.8/G120/3363e715c40ee2812059da93e965b01a1fb7dc66f66070745be0305db1123f78_3320.profile']\n",
      "duplicate ERR: ['./data/tree-rep-profiles_o2o_smallshort/small/47.mikey_0.8/G129/01a14cc061fdd32d98354b12142b46bdf5046a2de37601a511988b38fc8b19ff_3352.profile', './data/tree-rep-profiles_o2o_smallshort/short/47.mikey_0.8/G129/01a14cc061fdd32d98354b12142b46bdf5046a2de37601a511988b38fc8b19ff_3352.profile']\n",
      "duplicate ERR: ['./data/tree-rep-profiles_o2o_smallshort/small/47.mikey_0.8/G129/4ced7c6ffb48cf44592cc7c579f6d2e16b383e83806d4cff813383de18ef1908_3568.profile', './data/tree-rep-profiles_o2o_smallshort/short/47.mikey_0.8/G129/4ced7c6ffb48cf44592cc7c579f6d2e16b383e83806d4cff813383de18ef1908_3568.profile']\n",
      "duplicate ERR: ['./data/tree-rep-profiles_o2o_smallshort/small/47.mikey_0.8/G132/5960e7aff7dc05c3e8c14edd5306c10c90125554ff544f2522765c7ee301a6c7_3280.profile', './data/tree-rep-profiles_o2o_smallshort/short/47.mikey_0.8/G132/5960e7aff7dc05c3e8c14edd5306c10c90125554ff544f2522765c7ee301a6c7_3280.profile']\n",
      "duplicate ERR: ['./data/tree-rep-profiles_o2o_smallshort/small/47.mikey_0.8/G132/53b8f9136307efe75c0d8d95270d7494236102eba97411fecde17f3a36e902da_3416.profile', './data/tree-rep-profiles_o2o_smallshort/short/47.mikey_0.8/G132/53b8f9136307efe75c0d8d95270d7494236102eba97411fecde17f3a36e902da_3416.profile']\n",
      "duplicate ERR: ['./data/tree-rep-profiles_o2o_smallshort/small/47.mikey_0.8/G116/36570a6b467c95dfaafd9093d141c649c86e025fb4bb322436fd37202548b6f7_3440.profile', './data/tree-rep-profiles_o2o_smallshort/short/47.mikey_0.8/G116/36570a6b467c95dfaafd9093d141c649c86e025fb4bb322436fd37202548b6f7_3440.profile']\n",
      "duplicate ERR: ['./data/tree-rep-profiles_o2o_smallshort/small/47.mikey_0.8/G116/36570a6b467c95dfaafd9093d141c649c86e025fb4bb322436fd37202548b6f7_3460.profile', './data/tree-rep-profiles_o2o_smallshort/short/47.mikey_0.8/G116/36570a6b467c95dfaafd9093d141c649c86e025fb4bb322436fd37202548b6f7_3460.profile']\n",
      "duplicate ERR: ['./data/tree-rep-profiles_o2o_smallshort/small/47.mikey_0.8/G112/d089f18c7f37a0dd8c41e0c2406facc319581973aa2de71ce5edad4e817466d4_3408.profile', './data/tree-rep-profiles_o2o_smallshort/short/47.mikey_0.8/G112/d089f18c7f37a0dd8c41e0c2406facc319581973aa2de71ce5edad4e817466d4_3408.profile']\n",
      "duplicate ERR: ['./data/tree-rep-profiles_o2o_smallshort/small/47.mikey_0.8/G112/c9026a6a4f60337364875552891507cbe218f2e74b977cc84821a789d144c445_3444.profile', './data/tree-rep-profiles_o2o_smallshort/short/47.mikey_0.8/G112/c9026a6a4f60337364875552891507cbe218f2e74b977cc84821a789d144c445_3444.profile']\n",
      "duplicate ERR: ['./data/tree-rep-profiles_o2o_smallshort/small/47.mikey_0.8/G115/394721d889254d0ef41aa367ea1816cbe1c5d4a8edb592f472d5c51a814fa334_3288.profile', './data/tree-rep-profiles_o2o_smallshort/short/47.mikey_0.8/G115/394721d889254d0ef41aa367ea1816cbe1c5d4a8edb592f472d5c51a814fa334_3288.profile']\n",
      "duplicate ERR: ['./data/tree-rep-profiles_o2o_smallshort/small/47.mikey_0.8/G115/6568aa464dc0e1c011f93d47620bdf553017711dd75c85ca4509aac2a0b1402c_3180.profile', './data/tree-rep-profiles_o2o_smallshort/short/47.mikey_0.8/G115/6568aa464dc0e1c011f93d47620bdf553017711dd75c85ca4509aac2a0b1402c_3180.profile']\n",
      "duplicate ERR: ['./data/tree-rep-profiles_o2o_smallshort/small/47.mikey_0.8/G131/4065e1545701bedccf44de0900d0b82ede8ea04fb1f73413838cda5be5e7252a_3712.profile', './data/tree-rep-profiles_o2o_smallshort/short/47.mikey_0.8/G131/4065e1545701bedccf44de0900d0b82ede8ea04fb1f73413838cda5be5e7252a_3712.profile']\n",
      "duplicate ERR: ['./data/tree-rep-profiles_o2o_smallshort/small/47.mikey_0.8/G131/4065e1545701bedccf44de0900d0b82ede8ea04fb1f73413838cda5be5e7252a_3256.profile', './data/tree-rep-profiles_o2o_smallshort/short/47.mikey_0.8/G131/4065e1545701bedccf44de0900d0b82ede8ea04fb1f73413838cda5be5e7252a_3256.profile']\n",
      "duplicate ERR: ['./data/tree-rep-profiles_o2o_smallshort/small/14.hotbar_0.8/G341/159bc917239a896f9cca81dc70ddb58ebdc97b84654cb493d2fb9c96e9f2906a_3332.profile', './data/tree-rep-profiles_o2o_smallshort/short/14.hotbar_0.8/G341/159bc917239a896f9cca81dc70ddb58ebdc97b84654cb493d2fb9c96e9f2906a_3332.profile']\n",
      "duplicate ERR: ['./data/tree-rep-profiles_o2o_smallshort/small/14.hotbar_0.8/G341/159bc917239a896f9cca81dc70ddb58ebdc97b84654cb493d2fb9c96e9f2906a_3296.profile', './data/tree-rep-profiles_o2o_smallshort/short/14.hotbar_0.8/G341/159bc917239a896f9cca81dc70ddb58ebdc97b84654cb493d2fb9c96e9f2906a_3296.profile']\n",
      "duplicate ERR: ['./data/tree-rep-profiles_o2o_smallshort/small/14.hotbar_0.8/G359/0ef8794be0e25434f90d56e39d0a0c01eed1a017a95c0b689a1246a3046dc7c8_3212.profile', './data/tree-rep-profiles_o2o_smallshort/short/14.hotbar_0.8/G359/0ef8794be0e25434f90d56e39d0a0c01eed1a017a95c0b689a1246a3046dc7c8_3212.profile']\n",
      "duplicate ERR: ['./data/tree-rep-profiles_o2o_smallshort/small/14.hotbar_0.8/G359/15a8b025581b42cfff2f8d894eb8e3ee2c6ba26471ae685ca8ffa2407e0cdba9_3196.profile', './data/tree-rep-profiles_o2o_smallshort/short/14.hotbar_0.8/G359/15a8b025581b42cfff2f8d894eb8e3ee2c6ba26471ae685ca8ffa2407e0cdba9_3196.profile']\n",
      "duplicate ERR: ['./data/tree-rep-profiles_o2o_smallshort/small/14.hotbar_0.8/G306/108c3a3bf634b966f0bbda5cf411ec3d177a4e8c2afc5d3b81beaf919723f2f8_3336.profile', './data/tree-rep-profiles_o2o_smallshort/short/14.hotbar_0.8/G306/108c3a3bf634b966f0bbda5cf411ec3d177a4e8c2afc5d3b81beaf919723f2f8_3336.profile']\n",
      "duplicate ERR: ['./data/tree-rep-profiles_o2o_smallshort/small/14.hotbar_0.8/G306/1e0ebec58315dfca1aebfc8dc9d480c2c2e3d6ff16207dfa4f6b6bd49747c5da_3340.profile', './data/tree-rep-profiles_o2o_smallshort/short/14.hotbar_0.8/G306/1e0ebec58315dfca1aebfc8dc9d480c2c2e3d6ff16207dfa4f6b6bd49747c5da_3340.profile']\n",
      "duplicate ERR: ['./data/tree-rep-profiles_o2o_smallshort/small/14.hotbar_0.8/G304/0c6eb700dab16e307c4cef71d69bf705a397294108a494fa41bc93e4355a24d7_3288.profile', './data/tree-rep-profiles_o2o_smallshort/short/14.hotbar_0.8/G304/0c6eb700dab16e307c4cef71d69bf705a397294108a494fa41bc93e4355a24d7_3288.profile']\n",
      "duplicate ERR: ['./data/tree-rep-profiles_o2o_smallshort/small/14.hotbar_0.8/G304/0ddcb04ca44db4d5f9dee19531ecd648c7ba2821f8696991a6aef873b59fce05_3272.profile', './data/tree-rep-profiles_o2o_smallshort/short/14.hotbar_0.8/G304/0ddcb04ca44db4d5f9dee19531ecd648c7ba2821f8696991a6aef873b59fce05_3272.profile']\n",
      "duplicate ERR: ['./data/tree-rep-profiles_o2o_smallshort/small/14.hotbar_0.8/G367/8d8fd1b880c29f30cfd2b90ec30a867a3693806b8fb73d0268b8ad42eb07eb10_3312.profile', './data/tree-rep-profiles_o2o_smallshort/short/14.hotbar_0.8/G367/8d8fd1b880c29f30cfd2b90ec30a867a3693806b8fb73d0268b8ad42eb07eb10_3312.profile']\n",
      "duplicate ERR: ['./data/tree-rep-profiles_o2o_smallshort/small/14.hotbar_0.8/G367/0dd8468108ae1eadce47430f184cc1dcb09d0f42dfed4dbca1dd63241580fce3_3324.profile', './data/tree-rep-profiles_o2o_smallshort/short/14.hotbar_0.8/G367/0dd8468108ae1eadce47430f184cc1dcb09d0f42dfed4dbca1dd63241580fce3_3324.profile']\n"
     ]
    },
    {
     "name": "stdout",
     "output_type": "stream",
     "text": [
      "duplicate ERR: ['./data/tree-rep-profiles_o2o_smallshort/small/14.hotbar_0.8/G348/0ad9019bce8a73f6932a469d3091ef07dc9fb53935a2bb26c95b1c3b85814b3c_3404.profile', './data/tree-rep-profiles_o2o_smallshort/short/14.hotbar_0.8/G348/0ad9019bce8a73f6932a469d3091ef07dc9fb53935a2bb26c95b1c3b85814b3c_3404.profile']\n",
      "duplicate ERR: ['./data/tree-rep-profiles_o2o_smallshort/small/14.hotbar_0.8/G348/0cfbc15357460116bdbb60f7aca1ba0c2db759745c9e09d743eac9fd2c5c1073_3308.profile', './data/tree-rep-profiles_o2o_smallshort/short/14.hotbar_0.8/G348/0cfbc15357460116bdbb60f7aca1ba0c2db759745c9e09d743eac9fd2c5c1073_3308.profile']\n",
      "duplicate ERR: ['./data/tree-rep-profiles_o2o_smallshort/small/14.hotbar_0.8/G343/077f46e3cebd0a8ccac448bde20b3e684fbf1ebcd2c379255c663b41e41ba2bd_3336.profile', './data/tree-rep-profiles_o2o_smallshort/short/14.hotbar_0.8/G343/077f46e3cebd0a8ccac448bde20b3e684fbf1ebcd2c379255c663b41e41ba2bd_3336.profile']\n",
      "duplicate ERR: ['./data/tree-rep-profiles_o2o_smallshort/small/14.hotbar_0.8/G343/14ea85c6d5814c5eb4d4bfc04e62e88b96258836b70f2d1d83c18d525d2f67cf_3100.profile', './data/tree-rep-profiles_o2o_smallshort/short/14.hotbar_0.8/G343/14ea85c6d5814c5eb4d4bfc04e62e88b96258836b70f2d1d83c18d525d2f67cf_3100.profile']\n",
      "duplicate ERR: ['./data/tree-rep-profiles_o2o_smallshort/small/14.hotbar_0.8/G368/0b1e21b5fba1e0471c5fc29d8a576e191e833ede64bf4237a262a2b2f3738da0_3452.profile', './data/tree-rep-profiles_o2o_smallshort/short/14.hotbar_0.8/G368/0b1e21b5fba1e0471c5fc29d8a576e191e833ede64bf4237a262a2b2f3738da0_3452.profile']\n",
      "duplicate ERR: ['./data/tree-rep-profiles_o2o_smallshort/small/14.hotbar_0.8/G368/0b1e21b5fba1e0471c5fc29d8a576e191e833ede64bf4237a262a2b2f3738da0_3564.profile', './data/tree-rep-profiles_o2o_smallshort/short/14.hotbar_0.8/G368/0b1e21b5fba1e0471c5fc29d8a576e191e833ede64bf4237a262a2b2f3738da0_3564.profile']\n",
      "duplicate ERR: ['./data/tree-rep-profiles_o2o_smallshort/small/14.hotbar_0.8/G349/164cce2bdf666762e79c587c13d11f4ff776f56a00dac20fc6c6cbbc9be2295e_3256.profile', './data/tree-rep-profiles_o2o_smallshort/short/14.hotbar_0.8/G349/164cce2bdf666762e79c587c13d11f4ff776f56a00dac20fc6c6cbbc9be2295e_3256.profile']\n",
      "duplicate ERR: ['./data/tree-rep-profiles_o2o_smallshort/small/14.hotbar_0.8/G349/164cce2bdf666762e79c587c13d11f4ff776f56a00dac20fc6c6cbbc9be2295e_3348.profile', './data/tree-rep-profiles_o2o_smallshort/short/14.hotbar_0.8/G349/164cce2bdf666762e79c587c13d11f4ff776f56a00dac20fc6c6cbbc9be2295e_3348.profile']\n"
     ]
    },
    {
     "name": "stderr",
     "output_type": "stream",
     "text": [
      " 45%|████▌     | 72/159 [00:33<00:26,  3.28it/s]"
     ]
    },
    {
     "name": "stdout",
     "output_type": "stream",
     "text": [
      "duplicate ERR: ['./data/tree-rep-profiles_o2o_smallshort/small/14.hotbar_0.8/G364/073ef9b798aae35946a5211c5969b89183b0dbb2f9e90f4e0d13fef7292d39b5_3208.profile', './data/tree-rep-profiles_o2o_smallshort/short/14.hotbar_0.8/G364/073ef9b798aae35946a5211c5969b89183b0dbb2f9e90f4e0d13fef7292d39b5_3208.profile']\n",
      "duplicate ERR: ['./data/tree-rep-profiles_o2o_smallshort/small/14.hotbar_0.8/G364/0ef0b53cd6a8640a4b92e5ddde615b627f500b3aa09464a60427f6bcc7223c00_3348.profile', './data/tree-rep-profiles_o2o_smallshort/short/14.hotbar_0.8/G364/0ef0b53cd6a8640a4b92e5ddde615b627f500b3aa09464a60427f6bcc7223c00_3348.profile']\n",
      "duplicate ERR: ['./data/tree-rep-profiles_o2o_smallshort/small/14.hotbar_0.8/G338/fc0651fa6506a170aeac6f3fd2a3843ae20f3ebfaccd8feac28b34cdbdc85dd7_3256.profile', './data/tree-rep-profiles_o2o_smallshort/short/14.hotbar_0.8/G338/fc0651fa6506a170aeac6f3fd2a3843ae20f3ebfaccd8feac28b34cdbdc85dd7_3256.profile']\n",
      "duplicate ERR: ['./data/tree-rep-profiles_o2o_smallshort/small/14.hotbar_0.8/G338/fc0651fa6506a170aeac6f3fd2a3843ae20f3ebfaccd8feac28b34cdbdc85dd7_3320.profile', './data/tree-rep-profiles_o2o_smallshort/short/14.hotbar_0.8/G338/fc0651fa6506a170aeac6f3fd2a3843ae20f3ebfaccd8feac28b34cdbdc85dd7_3320.profile']\n",
      "duplicate ERR: ['./data/tree-rep-profiles_o2o_smallshort/small/45.bdmj_0.8/G114/eafcc2dde379d6ca66c7600ac30deef12d25f44e76cffb35308addb7d6074d7d_3208.profile', './data/tree-rep-profiles_o2o_smallshort/short/45.bdmj_0.8/G114/eafcc2dde379d6ca66c7600ac30deef12d25f44e76cffb35308addb7d6074d7d_3208.profile']\n",
      "duplicate ERR: ['./data/tree-rep-profiles_o2o_smallshort/small/45.bdmj_0.8/G114/3083f8ad8091386fec875a81098df39435202d9e1ce68f65be82a49a439dcf6a_3276.profile', './data/tree-rep-profiles_o2o_smallshort/short/45.bdmj_0.8/G114/3083f8ad8091386fec875a81098df39435202d9e1ce68f65be82a49a439dcf6a_3276.profile']\n",
      "duplicate ERR: ['./data/tree-rep-profiles_o2o_smallshort/small/45.bdmj_0.8/G109/7016013baa11ef8540959f6016085d77c71d7e6529b9ffe96d4228fb6e0933d0_3188.profile', './data/tree-rep-profiles_o2o_smallshort/short/45.bdmj_0.8/G109/7016013baa11ef8540959f6016085d77c71d7e6529b9ffe96d4228fb6e0933d0_3188.profile']\n",
      "duplicate ERR: ['./data/tree-rep-profiles_o2o_smallshort/small/45.bdmj_0.8/G109/f6725cada9557dade4ffe9c85f112f81b266d377b2473a7996540546c6a5af9c_3680.profile', './data/tree-rep-profiles_o2o_smallshort/short/45.bdmj_0.8/G109/f6725cada9557dade4ffe9c85f112f81b266d377b2473a7996540546c6a5af9c_3680.profile']\n",
      "duplicate ERR: ['./data/tree-rep-profiles_o2o_smallshort/small/153.opencandy_0.8/G29/240a03f3237ee0fe2b07c7f1fa674baedb7ff59927bc53540b7fc59d26851b22_3564.profile', './data/tree-rep-profiles_o2o_smallshort/short/153.opencandy_0.8/G29/240a03f3237ee0fe2b07c7f1fa674baedb7ff59927bc53540b7fc59d26851b22_3564.profile']\n",
      "duplicate ERR: ['./data/tree-rep-profiles_o2o_smallshort/small/153.opencandy_0.8/G29/580325f76fcecc4047f59f493b9a5cc0c902f4d643da6a5eeb1948cebc7d38cf_3392.profile', './data/tree-rep-profiles_o2o_smallshort/short/153.opencandy_0.8/G29/580325f76fcecc4047f59f493b9a5cc0c902f4d643da6a5eeb1948cebc7d38cf_3392.profile']\n",
      "duplicate ERR: ['./data/tree-rep-profiles_o2o_smallshort/small/153.opencandy_0.8/G30/240a03f3237ee0fe2b07c7f1fa674baedb7ff59927bc53540b7fc59d26851b22_3436.profile', './data/tree-rep-profiles_o2o_smallshort/short/153.opencandy_0.8/G30/240a03f3237ee0fe2b07c7f1fa674baedb7ff59927bc53540b7fc59d26851b22_3436.profile']\n",
      "duplicate ERR: ['./data/tree-rep-profiles_o2o_smallshort/small/153.opencandy_0.8/G30/580325f76fcecc4047f59f493b9a5cc0c902f4d643da6a5eeb1948cebc7d38cf_3204.profile', './data/tree-rep-profiles_o2o_smallshort/short/153.opencandy_0.8/G30/580325f76fcecc4047f59f493b9a5cc0c902f4d643da6a5eeb1948cebc7d38cf_3204.profile']\n",
      "duplicate ERR: ['./data/tree-rep-profiles_o2o_smallshort/small/153.opencandy_0.8/G32/7ea901a71e7fa2f5ebae9958190e9166aa30a2dae0b2058fa47b203aa7b1387d_3624.profile', './data/tree-rep-profiles_o2o_smallshort/short/153.opencandy_0.8/G32/7ea901a71e7fa2f5ebae9958190e9166aa30a2dae0b2058fa47b203aa7b1387d_3624.profile']\n",
      "duplicate ERR: ['./data/tree-rep-profiles_o2o_smallshort/small/153.opencandy_0.8/G32/7ea901a71e7fa2f5ebae9958190e9166aa30a2dae0b2058fa47b203aa7b1387d_3596.profile', './data/tree-rep-profiles_o2o_smallshort/short/153.opencandy_0.8/G32/7ea901a71e7fa2f5ebae9958190e9166aa30a2dae0b2058fa47b203aa7b1387d_3596.profile']\n",
      "duplicate ERR: ['./data/tree-rep-profiles_o2o_smallshort/small/153.opencandy_0.8/G31/f19dcd120e1c6971d59874681511b00f33c9b0fc932b6f2b1f99c2ad25fbd317_3428.profile', './data/tree-rep-profiles_o2o_smallshort/short/153.opencandy_0.8/G31/f19dcd120e1c6971d59874681511b00f33c9b0fc932b6f2b1f99c2ad25fbd317_3428.profile']\n",
      "duplicate ERR: ['./data/tree-rep-profiles_o2o_smallshort/small/153.opencandy_0.8/G31/f19dcd120e1c6971d59874681511b00f33c9b0fc932b6f2b1f99c2ad25fbd317_3216.profile', './data/tree-rep-profiles_o2o_smallshort/short/153.opencandy_0.8/G31/f19dcd120e1c6971d59874681511b00f33c9b0fc932b6f2b1f99c2ad25fbd317_3216.profile']\n"
     ]
    },
    {
     "name": "stderr",
     "output_type": "stream",
     "text": [
      "\r",
      " 46%|████▌     | 73/159 [00:33<00:26,  3.27it/s]"
     ]
    },
    {
     "name": "stdout",
     "output_type": "stream",
     "text": [
      "duplicate ERR: ['./data/tree-rep-profiles_o2o_smallshort/small/153.opencandy_0.8/G28/240a03f3237ee0fe2b07c7f1fa674baedb7ff59927bc53540b7fc59d26851b22_3496.profile', './data/tree-rep-profiles_o2o_smallshort/short/153.opencandy_0.8/G28/240a03f3237ee0fe2b07c7f1fa674baedb7ff59927bc53540b7fc59d26851b22_3496.profile']\n",
      "duplicate ERR: ['./data/tree-rep-profiles_o2o_smallshort/small/153.opencandy_0.8/G28/580325f76fcecc4047f59f493b9a5cc0c902f4d643da6a5eeb1948cebc7d38cf_3248.profile', './data/tree-rep-profiles_o2o_smallshort/short/153.opencandy_0.8/G28/580325f76fcecc4047f59f493b9a5cc0c902f4d643da6a5eeb1948cebc7d38cf_3248.profile']\n",
      "duplicate ERR: ['./data/tree-rep-profiles_o2o_smallshort/small/153.opencandy_0.8/G27/580325f76fcecc4047f59f493b9a5cc0c902f4d643da6a5eeb1948cebc7d38cf_3324.profile', './data/tree-rep-profiles_o2o_smallshort/short/153.opencandy_0.8/G27/580325f76fcecc4047f59f493b9a5cc0c902f4d643da6a5eeb1948cebc7d38cf_3324.profile']\n",
      "duplicate ERR: ['./data/tree-rep-profiles_o2o_smallshort/small/153.opencandy_0.8/G27/240a03f3237ee0fe2b07c7f1fa674baedb7ff59927bc53540b7fc59d26851b22_3540.profile', './data/tree-rep-profiles_o2o_smallshort/short/153.opencandy_0.8/G27/240a03f3237ee0fe2b07c7f1fa674baedb7ff59927bc53540b7fc59d26851b22_3540.profile']\n",
      "duplicate ERR: ['./data/tree-rep-profiles_o2o_smallshort/small/29.parite_0.8/G219/f7a040c9b5da48b8130b9c5e7cbcd32927bf8b27d41008063d1d11a67ea45ea7_3228.profile', './data/tree-rep-profiles_o2o_smallshort/short/29.parite_0.8/G219/f7a040c9b5da48b8130b9c5e7cbcd32927bf8b27d41008063d1d11a67ea45ea7_3228.profile']\n",
      "duplicate ERR: ['./data/tree-rep-profiles_o2o_smallshort/small/29.parite_0.8/G219/f7a040c9b5da48b8130b9c5e7cbcd32927bf8b27d41008063d1d11a67ea45ea7_3336.profile', './data/tree-rep-profiles_o2o_smallshort/short/29.parite_0.8/G219/f7a040c9b5da48b8130b9c5e7cbcd32927bf8b27d41008063d1d11a67ea45ea7_3336.profile']\n",
      "duplicate ERR: ['./data/tree-rep-profiles_o2o_smallshort/small/29.parite_0.8/G245/4cc15d5c174bc3c2ab2d6bb6d4082dc97e485dec07d8d310ddf481d97e0b5961_2992.profile', './data/tree-rep-profiles_o2o_smallshort/short/29.parite_0.8/G245/4cc15d5c174bc3c2ab2d6bb6d4082dc97e485dec07d8d310ddf481d97e0b5961_2992.profile']\n",
      "duplicate ERR: ['./data/tree-rep-profiles_o2o_smallshort/small/29.parite_0.8/G245/c0fa0911e680fd24edf36151fb6cddd83e014c5cf527f0750f00b1bbc3941f8a_3312.profile', './data/tree-rep-profiles_o2o_smallshort/short/29.parite_0.8/G245/c0fa0911e680fd24edf36151fb6cddd83e014c5cf527f0750f00b1bbc3941f8a_3312.profile']\n",
      "duplicate ERR: ['./data/tree-rep-profiles_o2o_smallshort/small/29.parite_0.8/G234/688bf547f0ea27ea8bed047135c90cbdf4e032f870c65fb212e7b8d6c787ab4f_3384.profile', './data/tree-rep-profiles_o2o_smallshort/short/29.parite_0.8/G234/688bf547f0ea27ea8bed047135c90cbdf4e032f870c65fb212e7b8d6c787ab4f_3384.profile']\n",
      "duplicate ERR: ['./data/tree-rep-profiles_o2o_smallshort/small/29.parite_0.8/G234/688bf547f0ea27ea8bed047135c90cbdf4e032f870c65fb212e7b8d6c787ab4f_2944.profile', './data/tree-rep-profiles_o2o_smallshort/short/29.parite_0.8/G234/688bf547f0ea27ea8bed047135c90cbdf4e032f870c65fb212e7b8d6c787ab4f_2944.profile']\n",
      "duplicate ERR: ['./data/tree-rep-profiles_o2o_smallshort/small/29.parite_0.8/G235/688bf547f0ea27ea8bed047135c90cbdf4e032f870c65fb212e7b8d6c787ab4f_3544.profile', './data/tree-rep-profiles_o2o_smallshort/short/29.parite_0.8/G235/688bf547f0ea27ea8bed047135c90cbdf4e032f870c65fb212e7b8d6c787ab4f_3544.profile']\n",
      "duplicate ERR: ['./data/tree-rep-profiles_o2o_smallshort/small/29.parite_0.8/G235/688bf547f0ea27ea8bed047135c90cbdf4e032f870c65fb212e7b8d6c787ab4f_3080.profile', './data/tree-rep-profiles_o2o_smallshort/short/29.parite_0.8/G235/688bf547f0ea27ea8bed047135c90cbdf4e032f870c65fb212e7b8d6c787ab4f_3080.profile']\n",
      "duplicate ERR: ['./data/tree-rep-profiles_o2o_smallshort/small/29.parite_0.8/G238/59e4eb2df2128208c56ccdda79d8b7e56a5f83cb953273bfc618b418a84b8262_3268.profile', './data/tree-rep-profiles_o2o_smallshort/short/29.parite_0.8/G238/59e4eb2df2128208c56ccdda79d8b7e56a5f83cb953273bfc618b418a84b8262_3268.profile']\n",
      "duplicate ERR: ['./data/tree-rep-profiles_o2o_smallshort/small/29.parite_0.8/G238/b260d2384090405e0c52ba282e41e7843c5a2ee960190c6eb6a90f13d65ad3d1_3308.profile', './data/tree-rep-profiles_o2o_smallshort/short/29.parite_0.8/G238/b260d2384090405e0c52ba282e41e7843c5a2ee960190c6eb6a90f13d65ad3d1_3308.profile']\n",
      "duplicate ERR: ['./data/tree-rep-profiles_o2o_smallshort/small/29.parite_0.8/G226/379dc4be400b38092a77593c5de4514a7b9f77e7731e8e14a966259165dbfa3a_3436.profile', './data/tree-rep-profiles_o2o_smallshort/short/29.parite_0.8/G226/379dc4be400b38092a77593c5de4514a7b9f77e7731e8e14a966259165dbfa3a_3436.profile']\n",
      "duplicate ERR: ['./data/tree-rep-profiles_o2o_smallshort/small/29.parite_0.8/G226/16efa0ef8c99ed53de5ed0d4d58be648e4b0d868b793513da2ba13bf41a0f429_2916.profile', './data/tree-rep-profiles_o2o_smallshort/short/29.parite_0.8/G226/16efa0ef8c99ed53de5ed0d4d58be648e4b0d868b793513da2ba13bf41a0f429_2916.profile']\n",
      "duplicate ERR: ['./data/tree-rep-profiles_o2o_smallshort/small/29.parite_0.8/G264/6b0a315a56b7dd7e1c0a4fae18d487069ab9562bdd0163811f09ab12af261ae3_428.profile', './data/tree-rep-profiles_o2o_smallshort/short/29.parite_0.8/G264/6b0a315a56b7dd7e1c0a4fae18d487069ab9562bdd0163811f09ab12af261ae3_428.profile']\n",
      "duplicate ERR: ['./data/tree-rep-profiles_o2o_smallshort/small/29.parite_0.8/G264/6b1fa2ec3fa6a8059fab46c84e8c5f0f56f65dffffe16bf618aeae92e7a64b3d_428.profile', './data/tree-rep-profiles_o2o_smallshort/short/29.parite_0.8/G264/6b1fa2ec3fa6a8059fab46c84e8c5f0f56f65dffffe16bf618aeae92e7a64b3d_428.profile']\n",
      "duplicate ERR: ['./data/tree-rep-profiles_o2o_smallshort/small/29.parite_0.8/G244/a76401c07ca87025581de7eed87d00ebe54e66e1ab301b65bcac0fb84b71c7f5_3260.profile', './data/tree-rep-profiles_o2o_smallshort/short/29.parite_0.8/G244/a76401c07ca87025581de7eed87d00ebe54e66e1ab301b65bcac0fb84b71c7f5_3260.profile']\n",
      "duplicate ERR: ['./data/tree-rep-profiles_o2o_smallshort/small/29.parite_0.8/G244/a76401c07ca87025581de7eed87d00ebe54e66e1ab301b65bcac0fb84b71c7f5_2900.profile', './data/tree-rep-profiles_o2o_smallshort/short/29.parite_0.8/G244/a76401c07ca87025581de7eed87d00ebe54e66e1ab301b65bcac0fb84b71c7f5_2900.profile']\n",
      "duplicate ERR: ['./data/tree-rep-profiles_o2o_smallshort/small/29.parite_0.8/G218/57cc3bc887dad20c5a403d92b624a6e26b64b33e9ba03b135dc6a670c822f1a2_3320.profile', './data/tree-rep-profiles_o2o_smallshort/short/29.parite_0.8/G218/57cc3bc887dad20c5a403d92b624a6e26b64b33e9ba03b135dc6a670c822f1a2_3320.profile']\n",
      "duplicate ERR: ['./data/tree-rep-profiles_o2o_smallshort/small/29.parite_0.8/G218/57cc3bc887dad20c5a403d92b624a6e26b64b33e9ba03b135dc6a670c822f1a2_3376.profile', './data/tree-rep-profiles_o2o_smallshort/short/29.parite_0.8/G218/57cc3bc887dad20c5a403d92b624a6e26b64b33e9ba03b135dc6a670c822f1a2_3376.profile']\n",
      "duplicate ERR: ['./data/tree-rep-profiles_o2o_smallshort/small/29.parite_0.8/G221/c7b65db91bc20b6d4b9eb5dc7f332e10bf4f481bed2a4e27c3583899093614e7_3432.profile', './data/tree-rep-profiles_o2o_smallshort/short/29.parite_0.8/G221/c7b65db91bc20b6d4b9eb5dc7f332e10bf4f481bed2a4e27c3583899093614e7_3432.profile']\n",
      "duplicate ERR: ['./data/tree-rep-profiles_o2o_smallshort/small/29.parite_0.8/G221/9953cd38527075e7b540f986a9324c95554ddb381cfb171d320083fb96bfd23e_3156.profile', './data/tree-rep-profiles_o2o_smallshort/short/29.parite_0.8/G221/9953cd38527075e7b540f986a9324c95554ddb381cfb171d320083fb96bfd23e_3156.profile']\n"
     ]
    },
    {
     "name": "stderr",
     "output_type": "stream",
     "text": [
      "\r",
      " 47%|████▋     | 74/159 [00:34<00:34,  2.45it/s]"
     ]
    },
    {
     "name": "stdout",
     "output_type": "stream",
     "text": [
      "duplicate ERR: ['./data/tree-rep-profiles_o2o_smallshort/small/29.parite_0.8/G228/4b559604fc7452b011cdb1b9241b307f8c2fca3a09f35c11e51755586db25112_3284.profile', './data/tree-rep-profiles_o2o_smallshort/short/29.parite_0.8/G228/4b559604fc7452b011cdb1b9241b307f8c2fca3a09f35c11e51755586db25112_3284.profile']\n",
      "duplicate ERR: ['./data/tree-rep-profiles_o2o_smallshort/small/29.parite_0.8/G228/4b559604fc7452b011cdb1b9241b307f8c2fca3a09f35c11e51755586db25112_3304.profile', './data/tree-rep-profiles_o2o_smallshort/short/29.parite_0.8/G228/4b559604fc7452b011cdb1b9241b307f8c2fca3a09f35c11e51755586db25112_3304.profile']\n",
      "duplicate ERR: ['./data/tree-rep-profiles_o2o_smallshort/small/29.parite_0.8/G222/744106299f8a704cc857182f3c048158b1137cfd43cbba0cec20978b592ad211_3236.profile', './data/tree-rep-profiles_o2o_smallshort/short/29.parite_0.8/G222/744106299f8a704cc857182f3c048158b1137cfd43cbba0cec20978b592ad211_3236.profile']\n",
      "duplicate ERR: ['./data/tree-rep-profiles_o2o_smallshort/small/29.parite_0.8/G222/4197f5680270a3dd88a6c8f91c4994f08ba5dc1f7bc5c15edd01c8dc567c5a15_2968.profile', './data/tree-rep-profiles_o2o_smallshort/short/29.parite_0.8/G222/4197f5680270a3dd88a6c8f91c4994f08ba5dc1f7bc5c15edd01c8dc567c5a15_2968.profile']\n",
      "duplicate ERR: ['./data/tree-rep-profiles_o2o_smallshort/small/1.fakeav_0.8/G2039/07eb35c146fc6fe5e4bdefb64a68ea112fe420f597e317629c2dff7ff9559407_3224.profile', './data/tree-rep-profiles_o2o_smallshort/short/1.fakeav_0.8/G2039/07eb35c146fc6fe5e4bdefb64a68ea112fe420f597e317629c2dff7ff9559407_3224.profile']\n",
      "duplicate ERR: ['./data/tree-rep-profiles_o2o_smallshort/small/1.fakeav_0.8/G2039/04fe32d742cc4c535e337255553733cc22360d83f9183e104779bc290f146120_2888.profile', './data/tree-rep-profiles_o2o_smallshort/short/1.fakeav_0.8/G2039/04fe32d742cc4c535e337255553733cc22360d83f9183e104779bc290f146120_2888.profile']\n",
      "duplicate ERR: ['./data/tree-rep-profiles_o2o_smallshort/small/1.fakeav_0.8/G1951/104b197ed63d010c801fef2eb311f4980d95adc710a58168d45b7cf9251f1520_2996.profile', './data/tree-rep-profiles_o2o_smallshort/short/1.fakeav_0.8/G1951/104b197ed63d010c801fef2eb311f4980d95adc710a58168d45b7cf9251f1520_2996.profile']\n",
      "duplicate ERR: ['./data/tree-rep-profiles_o2o_smallshort/small/1.fakeav_0.8/G1951/110fd27bcae18595c885f10c92fd5d176495ced4c903c89292b2cc5d012376b9_3276.profile', './data/tree-rep-profiles_o2o_smallshort/short/1.fakeav_0.8/G1951/110fd27bcae18595c885f10c92fd5d176495ced4c903c89292b2cc5d012376b9_3276.profile']\n",
      "duplicate ERR: ['./data/tree-rep-profiles_o2o_smallshort/small/1.fakeav_0.8/G1933/4d2b5e6ff1079d270b3a59273c5358c5ed8c54ae749c33525872a88002af3939_2912.profile', './data/tree-rep-profiles_o2o_smallshort/short/1.fakeav_0.8/G1933/4d2b5e6ff1079d270b3a59273c5358c5ed8c54ae749c33525872a88002af3939_2912.profile']\n",
      "duplicate ERR: ['./data/tree-rep-profiles_o2o_smallshort/small/1.fakeav_0.8/G1933/6a0025375777d528e5b2ad7dd6089b557cb06b44825c3dcf3cc1e4e3d2718d9b_3136.profile', './data/tree-rep-profiles_o2o_smallshort/short/1.fakeav_0.8/G1933/6a0025375777d528e5b2ad7dd6089b557cb06b44825c3dcf3cc1e4e3d2718d9b_3136.profile']\n",
      "duplicate ERR: ['./data/tree-rep-profiles_o2o_smallshort/small/1.fakeav_0.8/G2096/0a68af4bb20bbbfb39478258e6a9f79a09eefffda4c7869eaba0ea02d5cf7488_3408.profile', './data/tree-rep-profiles_o2o_smallshort/short/1.fakeav_0.8/G2096/0a68af4bb20bbbfb39478258e6a9f79a09eefffda4c7869eaba0ea02d5cf7488_3408.profile']\n",
      "duplicate ERR: ['./data/tree-rep-profiles_o2o_smallshort/small/1.fakeav_0.8/G2096/0bf37d24813118b226c25004890524e6e27cb940988c74c72b2c0918dd87bdcb_3320.profile', './data/tree-rep-profiles_o2o_smallshort/short/1.fakeav_0.8/G2096/0bf37d24813118b226c25004890524e6e27cb940988c74c72b2c0918dd87bdcb_3320.profile']\n",
      "duplicate ERR: ['./data/tree-rep-profiles_o2o_smallshort/small/1.fakeav_0.8/G1899/3e9454778c70acd2a7a4cc660037d6efadd963d1f5f78bc578ebc6bdb8642b8f_3092.profile', './data/tree-rep-profiles_o2o_smallshort/short/1.fakeav_0.8/G1899/3e9454778c70acd2a7a4cc660037d6efadd963d1f5f78bc578ebc6bdb8642b8f_3092.profile']\n",
      "duplicate ERR: ['./data/tree-rep-profiles_o2o_smallshort/small/1.fakeav_0.8/G1899/96c0287687ffee3e5b3c1d534b62c9d1e23abe44566e6c72576890d6cb5db884_3068.profile', './data/tree-rep-profiles_o2o_smallshort/short/1.fakeav_0.8/G1899/96c0287687ffee3e5b3c1d534b62c9d1e23abe44566e6c72576890d6cb5db884_3068.profile']\n",
      "duplicate ERR: ['./data/tree-rep-profiles_o2o_smallshort/small/1.fakeav_0.8/G2076/08bf235932193ed78ba8738c6f0b23a6105a32d8391aa476130919b3a6a11229_3184.profile', './data/tree-rep-profiles_o2o_smallshort/short/1.fakeav_0.8/G2076/08bf235932193ed78ba8738c6f0b23a6105a32d8391aa476130919b3a6a11229_3184.profile']\n",
      "duplicate ERR: ['./data/tree-rep-profiles_o2o_smallshort/small/1.fakeav_0.8/G2076/00ec3eb4102453ddadecda70da0a01320fae9f2eec1ece09664c127bf6b348d2_3204.profile', './data/tree-rep-profiles_o2o_smallshort/short/1.fakeav_0.8/G2076/00ec3eb4102453ddadecda70da0a01320fae9f2eec1ece09664c127bf6b348d2_3204.profile']\n",
      "duplicate ERR: ['./data/tree-rep-profiles_o2o_smallshort/small/1.fakeav_0.8/G1908/1e6312d0bf280356ae2895684ef190d86fae4d3ba864eb6278135e8238e78d78_3268.profile', './data/tree-rep-profiles_o2o_smallshort/short/1.fakeav_0.8/G1908/1e6312d0bf280356ae2895684ef190d86fae4d3ba864eb6278135e8238e78d78_3268.profile']\n",
      "duplicate ERR: ['./data/tree-rep-profiles_o2o_smallshort/small/1.fakeav_0.8/G1908/1e6312d0bf280356ae2895684ef190d86fae4d3ba864eb6278135e8238e78d78_3284.profile', './data/tree-rep-profiles_o2o_smallshort/short/1.fakeav_0.8/G1908/1e6312d0bf280356ae2895684ef190d86fae4d3ba864eb6278135e8238e78d78_3284.profile']\n",
      "duplicate ERR: ['./data/tree-rep-profiles_o2o_smallshort/small/1.fakeav_0.8/G2111/35c788925a8bb89ca7552553fb4279f20b24a80fc6a2b051310eb585e448986e_3376.profile', './data/tree-rep-profiles_o2o_smallshort/short/1.fakeav_0.8/G2111/35c788925a8bb89ca7552553fb4279f20b24a80fc6a2b051310eb585e448986e_3376.profile']\n",
      "duplicate ERR: ['./data/tree-rep-profiles_o2o_smallshort/small/1.fakeav_0.8/G2111/6ddd55b74dd9c9e12d6c804829109103895fcff760d34f66f3fadbd8dc02e12d_3244.profile', './data/tree-rep-profiles_o2o_smallshort/short/1.fakeav_0.8/G2111/6ddd55b74dd9c9e12d6c804829109103895fcff760d34f66f3fadbd8dc02e12d_3244.profile']\n",
      "duplicate ERR: ['./data/tree-rep-profiles_o2o_smallshort/small/1.fakeav_0.8/G2084/0ae694c5332ae2c89f5cfb1e65ac6805c34e02c0b63b33197b5cb7f554c7cf76_3040.profile', './data/tree-rep-profiles_o2o_smallshort/short/1.fakeav_0.8/G2084/0ae694c5332ae2c89f5cfb1e65ac6805c34e02c0b63b33197b5cb7f554c7cf76_3040.profile']\n",
      "duplicate ERR: ['./data/tree-rep-profiles_o2o_smallshort/small/1.fakeav_0.8/G2084/0c3e11d690e9fa621dd0a9a9b3efaf6df5f27d3b3a73355ff4966f418c67e8a4_3356.profile', './data/tree-rep-profiles_o2o_smallshort/short/1.fakeav_0.8/G2084/0c3e11d690e9fa621dd0a9a9b3efaf6df5f27d3b3a73355ff4966f418c67e8a4_3356.profile']\n",
      "duplicate ERR: ['./data/tree-rep-profiles_o2o_smallshort/small/1.fakeav_0.8/G1858/0bc38daf7cadea088b55eaa800e873f7971da3c460aacebd1c93c12736d62fc8_3536.profile', './data/tree-rep-profiles_o2o_smallshort/short/1.fakeav_0.8/G1858/0bc38daf7cadea088b55eaa800e873f7971da3c460aacebd1c93c12736d62fc8_3536.profile']\n",
      "duplicate ERR: ['./data/tree-rep-profiles_o2o_smallshort/small/1.fakeav_0.8/G1858/0bc38daf7cadea088b55eaa800e873f7971da3c460aacebd1c93c12736d62fc8_3528.profile', './data/tree-rep-profiles_o2o_smallshort/short/1.fakeav_0.8/G1858/0bc38daf7cadea088b55eaa800e873f7971da3c460aacebd1c93c12736d62fc8_3528.profile']\n",
      "duplicate ERR: ['./data/tree-rep-profiles_o2o_smallshort/small/1.fakeav_0.8/G1901/4f69dcdb5c0734a5803dd069f1c818c3c0b71ea90e6bbe9ba5785239c0f775cc_3160.profile', './data/tree-rep-profiles_o2o_smallshort/short/1.fakeav_0.8/G1901/4f69dcdb5c0734a5803dd069f1c818c3c0b71ea90e6bbe9ba5785239c0f775cc_3160.profile']\n",
      "duplicate ERR: ['./data/tree-rep-profiles_o2o_smallshort/small/1.fakeav_0.8/G1901/5a49c85f0f29788aac82c47d9b4a9f31e9cc015df36971acf2d4f64ae77be4e7_3276.profile', './data/tree-rep-profiles_o2o_smallshort/short/1.fakeav_0.8/G1901/5a49c85f0f29788aac82c47d9b4a9f31e9cc015df36971acf2d4f64ae77be4e7_3276.profile']\n",
      "duplicate ERR: ['./data/tree-rep-profiles_o2o_smallshort/small/1.fakeav_0.8/G2021/18bec590427ae5f2292ff0d34c2daf0aa1f004f49311f01ccfe91c27e3fd2674_3176.profile', './data/tree-rep-profiles_o2o_smallshort/short/1.fakeav_0.8/G2021/18bec590427ae5f2292ff0d34c2daf0aa1f004f49311f01ccfe91c27e3fd2674_3176.profile']\n",
      "duplicate ERR: ['./data/tree-rep-profiles_o2o_smallshort/small/1.fakeav_0.8/G2021/133d5ca960a9e4f446c5c5b082097042e5c870656c876efc95f92d3b29cef716_3248.profile', './data/tree-rep-profiles_o2o_smallshort/short/1.fakeav_0.8/G2021/133d5ca960a9e4f446c5c5b082097042e5c870656c876efc95f92d3b29cef716_3248.profile']\n",
      "duplicate ERR: ['./data/tree-rep-profiles_o2o_smallshort/small/1.fakeav_0.8/G1975/2a5fef366925d284b8be9b95905cc6ddd3472ba6f3f8689be6f562d955e453ba_3460.profile', './data/tree-rep-profiles_o2o_smallshort/short/1.fakeav_0.8/G1975/2a5fef366925d284b8be9b95905cc6ddd3472ba6f3f8689be6f562d955e453ba_3460.profile']\n",
      "duplicate ERR: ['./data/tree-rep-profiles_o2o_smallshort/small/1.fakeav_0.8/G1975/5f2dc55985786b5e4e451f19fd12dbcd93ed9da1f02e5b4cea356008430765d8_3340.profile', './data/tree-rep-profiles_o2o_smallshort/short/1.fakeav_0.8/G1975/5f2dc55985786b5e4e451f19fd12dbcd93ed9da1f02e5b4cea356008430765d8_3340.profile']\n",
      "duplicate ERR: ['./data/tree-rep-profiles_o2o_smallshort/small/1.fakeav_0.8/G1891/80e707ba49d17a0bc614b2acbfe114c17d3192165ed462b70066bcdbb2b51d48_3216.profile', './data/tree-rep-profiles_o2o_smallshort/short/1.fakeav_0.8/G1891/80e707ba49d17a0bc614b2acbfe114c17d3192165ed462b70066bcdbb2b51d48_3216.profile']\n",
      "duplicate ERR: ['./data/tree-rep-profiles_o2o_smallshort/small/1.fakeav_0.8/G1891/7dcf5d2dffbaa9666990300d73314023de6a87f04cdecd8703a3ddec75ecd0c7_3196.profile', './data/tree-rep-profiles_o2o_smallshort/short/1.fakeav_0.8/G1891/7dcf5d2dffbaa9666990300d73314023de6a87f04cdecd8703a3ddec75ecd0c7_3196.profile']\n"
     ]
    },
    {
     "name": "stdout",
     "output_type": "stream",
     "text": [
      "duplicate ERR: ['./data/tree-rep-profiles_o2o_smallshort/small/1.fakeav_0.8/G1796/5a7d89aed2dbfa7eefe1287c3b354ef70b3a7e9ee6c06a1a3706977400758e9b_3168.profile', './data/tree-rep-profiles_o2o_smallshort/short/1.fakeav_0.8/G1796/5a7d89aed2dbfa7eefe1287c3b354ef70b3a7e9ee6c06a1a3706977400758e9b_3168.profile']\n",
      "duplicate ERR: ['./data/tree-rep-profiles_o2o_smallshort/small/1.fakeav_0.8/G1796/4d5f1468dc75950c25c5e00c358a8810a0255a5f6a792cf2dff8b5b3d3e23322_2940.profile', './data/tree-rep-profiles_o2o_smallshort/short/1.fakeav_0.8/G1796/4d5f1468dc75950c25c5e00c358a8810a0255a5f6a792cf2dff8b5b3d3e23322_2940.profile']\n",
      "duplicate ERR: ['./data/tree-rep-profiles_o2o_smallshort/small/1.fakeav_0.8/G2077/009f833dba21ea6c4ae72b144bafb12d30763bc1db8ec894b33d2e50163a6ad0_3212.profile', './data/tree-rep-profiles_o2o_smallshort/short/1.fakeav_0.8/G2077/009f833dba21ea6c4ae72b144bafb12d30763bc1db8ec894b33d2e50163a6ad0_3212.profile']\n",
      "duplicate ERR: ['./data/tree-rep-profiles_o2o_smallshort/small/1.fakeav_0.8/G2077/08c9993ba0d2414ff5042e730166c42187322a1fe86fc39aa8489e6466c64199_3188.profile', './data/tree-rep-profiles_o2o_smallshort/short/1.fakeav_0.8/G2077/08c9993ba0d2414ff5042e730166c42187322a1fe86fc39aa8489e6466c64199_3188.profile']\n",
      "duplicate ERR: ['./data/tree-rep-profiles_o2o_smallshort/small/1.fakeav_0.8/G2110/138ddbc3ed8ead5576b4db26656e64da35a45be04915b96c07cef90e2e6c6790_3272.profile', './data/tree-rep-profiles_o2o_smallshort/short/1.fakeav_0.8/G2110/138ddbc3ed8ead5576b4db26656e64da35a45be04915b96c07cef90e2e6c6790_3272.profile']\n",
      "duplicate ERR: ['./data/tree-rep-profiles_o2o_smallshort/small/1.fakeav_0.8/G2110/138ddbc3ed8ead5576b4db26656e64da35a45be04915b96c07cef90e2e6c6790_3436.profile', './data/tree-rep-profiles_o2o_smallshort/short/1.fakeav_0.8/G2110/138ddbc3ed8ead5576b4db26656e64da35a45be04915b96c07cef90e2e6c6790_3436.profile']\n",
      "duplicate ERR: ['./data/tree-rep-profiles_o2o_smallshort/small/1.fakeav_0.8/G1940/87a44dc0bbd23014394d83091630a366569bb856b63870ebced92fd24bccbd67_2968.profile', './data/tree-rep-profiles_o2o_smallshort/short/1.fakeav_0.8/G1940/87a44dc0bbd23014394d83091630a366569bb856b63870ebced92fd24bccbd67_2968.profile']\n",
      "duplicate ERR: ['./data/tree-rep-profiles_o2o_smallshort/small/1.fakeav_0.8/G1940/96c07de02692ee3cccd871933cfb7a9d1bbbd37e0024b5aea8ee67895a989b08_3220.profile', './data/tree-rep-profiles_o2o_smallshort/short/1.fakeav_0.8/G1940/96c07de02692ee3cccd871933cfb7a9d1bbbd37e0024b5aea8ee67895a989b08_3220.profile']\n",
      "duplicate ERR: ['./data/tree-rep-profiles_o2o_smallshort/small/1.fakeav_0.8/G2065/0bf23604942908b7ee2fef85bd2b0e9a43874144d5bcdcdb52ed78a284be0138_3348.profile', './data/tree-rep-profiles_o2o_smallshort/short/1.fakeav_0.8/G2065/0bf23604942908b7ee2fef85bd2b0e9a43874144d5bcdcdb52ed78a284be0138_3348.profile']\n",
      "duplicate ERR: ['./data/tree-rep-profiles_o2o_smallshort/small/1.fakeav_0.8/G2065/1b244cc9495ec1187ba3ccac740df0cd7d0ef80cacf5a7ae68d9dcd849f049be_3324.profile', './data/tree-rep-profiles_o2o_smallshort/short/1.fakeav_0.8/G2065/1b244cc9495ec1187ba3ccac740df0cd7d0ef80cacf5a7ae68d9dcd849f049be_3324.profile']\n",
      "duplicate ERR: ['./data/tree-rep-profiles_o2o_smallshort/small/1.fakeav_0.8/G2085/1e3f95d85d30adb66bcce8d63d7068174303e6a6bf54a881d5654b7782ee8ac6_2880.profile', './data/tree-rep-profiles_o2o_smallshort/short/1.fakeav_0.8/G2085/1e3f95d85d30adb66bcce8d63d7068174303e6a6bf54a881d5654b7782ee8ac6_2880.profile']\n",
      "duplicate ERR: ['./data/tree-rep-profiles_o2o_smallshort/small/1.fakeav_0.8/G2085/1e3f95d85d30adb66bcce8d63d7068174303e6a6bf54a881d5654b7782ee8ac6_2860.profile', './data/tree-rep-profiles_o2o_smallshort/short/1.fakeav_0.8/G2085/1e3f95d85d30adb66bcce8d63d7068174303e6a6bf54a881d5654b7782ee8ac6_2860.profile']\n",
      "duplicate ERR: ['./data/tree-rep-profiles_o2o_smallshort/small/1.fakeav_0.8/G1907/012d142da97953c30040870c069af023684cbaa9fabcac94ca616130be19573e_3164.profile', './data/tree-rep-profiles_o2o_smallshort/short/1.fakeav_0.8/G1907/012d142da97953c30040870c069af023684cbaa9fabcac94ca616130be19573e_3164.profile']\n",
      "duplicate ERR: ['./data/tree-rep-profiles_o2o_smallshort/small/1.fakeav_0.8/G1907/033edf114d8480b58d56050a6c78ea645746d274b65a6eafabb9dd7d8dc39a4c_3160.profile', './data/tree-rep-profiles_o2o_smallshort/short/1.fakeav_0.8/G1907/033edf114d8480b58d56050a6c78ea645746d274b65a6eafabb9dd7d8dc39a4c_3160.profile']\n",
      "duplicate ERR: ['./data/tree-rep-profiles_o2o_smallshort/small/1.fakeav_0.8/G2003/8c62f027f3ca470aba8531542ed5e6db28bdb074ee89ff9c1bfd3d2a0c95cac2_2900.profile', './data/tree-rep-profiles_o2o_smallshort/short/1.fakeav_0.8/G2003/8c62f027f3ca470aba8531542ed5e6db28bdb074ee89ff9c1bfd3d2a0c95cac2_2900.profile']\n",
      "duplicate ERR: ['./data/tree-rep-profiles_o2o_smallshort/small/1.fakeav_0.8/G2003/4e3b4068da2b00bf6e816b5b1e39040ff9b76ce3cbf98c13b6daa55f7aba659a_3184.profile', './data/tree-rep-profiles_o2o_smallshort/short/1.fakeav_0.8/G2003/4e3b4068da2b00bf6e816b5b1e39040ff9b76ce3cbf98c13b6daa55f7aba659a_3184.profile']\n",
      "duplicate ERR: ['./data/tree-rep-profiles_o2o_smallshort/small/1.fakeav_0.8/G2008/20bf2fe63061e8792320c14c071a4d5420881c208a2be82ce368f7aa9d84de42_3276.profile', './data/tree-rep-profiles_o2o_smallshort/short/1.fakeav_0.8/G2008/20bf2fe63061e8792320c14c071a4d5420881c208a2be82ce368f7aa9d84de42_3276.profile']\n",
      "duplicate ERR: ['./data/tree-rep-profiles_o2o_smallshort/small/1.fakeav_0.8/G2008/0a7fc8a656ade5401dae2c1d4dcf4ca55ef6fc51a13336f801d25938f71fb636_3312.profile', './data/tree-rep-profiles_o2o_smallshort/short/1.fakeav_0.8/G2008/0a7fc8a656ade5401dae2c1d4dcf4ca55ef6fc51a13336f801d25938f71fb636_3312.profile']\n",
      "duplicate ERR: ['./data/tree-rep-profiles_o2o_smallshort/small/1.fakeav_0.8/G2064/11f1f4040fe5b99bda77267ca3e1826eb155b666f844a38d2977e63f7a15aef1_3276.profile', './data/tree-rep-profiles_o2o_smallshort/short/1.fakeav_0.8/G2064/11f1f4040fe5b99bda77267ca3e1826eb155b666f844a38d2977e63f7a15aef1_3276.profile']\n",
      "duplicate ERR: ['./data/tree-rep-profiles_o2o_smallshort/small/1.fakeav_0.8/G2064/0fa740f75387ac7c35196c92c29b41de5bd74d3cca41f6ba4ff7ee7e96da8d66_3388.profile', './data/tree-rep-profiles_o2o_smallshort/short/1.fakeav_0.8/G2064/0fa740f75387ac7c35196c92c29b41de5bd74d3cca41f6ba4ff7ee7e96da8d66_3388.profile']\n",
      "duplicate ERR: ['./data/tree-rep-profiles_o2o_smallshort/small/1.fakeav_0.8/G2012/8e08d86ba1aecc7b347a12bf6148ebf6a0eaabb7e4f9cf405019571893ee99de_3296.profile', './data/tree-rep-profiles_o2o_smallshort/short/1.fakeav_0.8/G2012/8e08d86ba1aecc7b347a12bf6148ebf6a0eaabb7e4f9cf405019571893ee99de_3296.profile']\n",
      "duplicate ERR: ['./data/tree-rep-profiles_o2o_smallshort/small/1.fakeav_0.8/G2012/93ee0c199fd027803918cf6a8eba28e41ef3053b3bd5806eb23cb547453fb333_3320.profile', './data/tree-rep-profiles_o2o_smallshort/short/1.fakeav_0.8/G2012/93ee0c199fd027803918cf6a8eba28e41ef3053b3bd5806eb23cb547453fb333_3320.profile']\n",
      "duplicate ERR: ['./data/tree-rep-profiles_o2o_smallshort/small/1.fakeav_0.8/G1810/1e465cdb8a995b4b25396009b2af4207efd06b76b558a1b231a8f5323c00389a_3212.profile', './data/tree-rep-profiles_o2o_smallshort/short/1.fakeav_0.8/G1810/1e465cdb8a995b4b25396009b2af4207efd06b76b558a1b231a8f5323c00389a_3212.profile']\n",
      "duplicate ERR: ['./data/tree-rep-profiles_o2o_smallshort/small/1.fakeav_0.8/G1810/0a90127920c6227e73637dfa289319ec09fa2302896848d6faf6d062429c5e6a_3464.profile', './data/tree-rep-profiles_o2o_smallshort/short/1.fakeav_0.8/G1810/0a90127920c6227e73637dfa289319ec09fa2302896848d6faf6d062429c5e6a_3464.profile']\n",
      "duplicate ERR: ['./data/tree-rep-profiles_o2o_smallshort/small/1.fakeav_0.8/G2051/12c193a168feb556a11a33be9078ae2fb6d9d4337e42fd867b1672f101cf2a82_3096.profile', './data/tree-rep-profiles_o2o_smallshort/short/1.fakeav_0.8/G2051/12c193a168feb556a11a33be9078ae2fb6d9d4337e42fd867b1672f101cf2a82_3096.profile']\n",
      "duplicate ERR: ['./data/tree-rep-profiles_o2o_smallshort/small/1.fakeav_0.8/G2051/14dd2135c471c363e02d1d35a97d759664170c42da2d1dbf2c65faf1122f9c96_3232.profile', './data/tree-rep-profiles_o2o_smallshort/short/1.fakeav_0.8/G2051/14dd2135c471c363e02d1d35a97d759664170c42da2d1dbf2c65faf1122f9c96_3232.profile']\n",
      "duplicate ERR: ['./data/tree-rep-profiles_o2o_smallshort/small/1.fakeav_0.8/G1959/0000e27a0471230eecf42e629d36b617c2726e26181b3a7e7e4c03097ae225e5_2968.profile', './data/tree-rep-profiles_o2o_smallshort/short/1.fakeav_0.8/G1959/0000e27a0471230eecf42e629d36b617c2726e26181b3a7e7e4c03097ae225e5_2968.profile']\n"
     ]
    },
    {
     "name": "stdout",
     "output_type": "stream",
     "text": [
      "duplicate ERR: ['./data/tree-rep-profiles_o2o_smallshort/small/1.fakeav_0.8/G1959/0ed0f1031bd908f0094ee883bff81b247c8dac3fb1289ecc98cefb563658c560_3176.profile', './data/tree-rep-profiles_o2o_smallshort/short/1.fakeav_0.8/G1959/0ed0f1031bd908f0094ee883bff81b247c8dac3fb1289ecc98cefb563658c560_3176.profile']\n",
      "duplicate ERR: ['./data/tree-rep-profiles_o2o_smallshort/small/1.fakeav_0.8/G1883/0f0551693722c0cae6eda548f8223dda7030d573b4dac708ba4dd3e8d5acf1a1_3304.profile', './data/tree-rep-profiles_o2o_smallshort/short/1.fakeav_0.8/G1883/0f0551693722c0cae6eda548f8223dda7030d573b4dac708ba4dd3e8d5acf1a1_3304.profile']\n",
      "duplicate ERR: ['./data/tree-rep-profiles_o2o_smallshort/small/1.fakeav_0.8/G1883/0a4ea052582ed8a1bcb93ed22b28134bd45e7bde931e954cfa39ebc224e2c8d7_3336.profile', './data/tree-rep-profiles_o2o_smallshort/short/1.fakeav_0.8/G1883/0a4ea052582ed8a1bcb93ed22b28134bd45e7bde931e954cfa39ebc224e2c8d7_3336.profile']\n",
      "duplicate ERR: ['./data/tree-rep-profiles_o2o_smallshort/small/1.fakeav_0.8/G1832/59d02f826a429edc066f30780b91bedc89098930e0788f86fcbf10d9fff46f19_3140.profile', './data/tree-rep-profiles_o2o_smallshort/short/1.fakeav_0.8/G1832/59d02f826a429edc066f30780b91bedc89098930e0788f86fcbf10d9fff46f19_3140.profile']\n",
      "duplicate ERR: ['./data/tree-rep-profiles_o2o_smallshort/small/1.fakeav_0.8/G1832/7af42dd9d325cfa006185cf21191d611ee65e9bdbebcda1668be196e99ca8961_3316.profile', './data/tree-rep-profiles_o2o_smallshort/short/1.fakeav_0.8/G1832/7af42dd9d325cfa006185cf21191d611ee65e9bdbebcda1668be196e99ca8961_3316.profile']\n",
      "duplicate ERR: ['./data/tree-rep-profiles_o2o_smallshort/small/1.fakeav_0.8/G1884/25fff2261c8d7a8bae341e6924711b15af6bdea854c4e71a1f6dd30cc02a97d9_3444.profile', './data/tree-rep-profiles_o2o_smallshort/short/1.fakeav_0.8/G1884/25fff2261c8d7a8bae341e6924711b15af6bdea854c4e71a1f6dd30cc02a97d9_3444.profile']\n",
      "duplicate ERR: ['./data/tree-rep-profiles_o2o_smallshort/small/1.fakeav_0.8/G1884/1e80168b742c93e442e3960f6faf6f285c4fa4e66bab0f10586797d72b67536a_3284.profile', './data/tree-rep-profiles_o2o_smallshort/short/1.fakeav_0.8/G1884/1e80168b742c93e442e3960f6faf6f285c4fa4e66bab0f10586797d72b67536a_3284.profile']\n",
      "duplicate ERR: ['./data/tree-rep-profiles_o2o_smallshort/small/1.fakeav_0.8/G2004/0f94368cfad4581dad11fc08f9e9dce017fbf8e4f7a54103c728e24d1c4444aa_3348.profile', './data/tree-rep-profiles_o2o_smallshort/short/1.fakeav_0.8/G2004/0f94368cfad4581dad11fc08f9e9dce017fbf8e4f7a54103c728e24d1c4444aa_3348.profile']\n",
      "duplicate ERR: ['./data/tree-rep-profiles_o2o_smallshort/small/1.fakeav_0.8/G2004/0f57def69d957ce742ddc7a4cb5c2ce99f7f7ae8cfae5ef25272121cea68cc30_3336.profile', './data/tree-rep-profiles_o2o_smallshort/short/1.fakeav_0.8/G2004/0f57def69d957ce742ddc7a4cb5c2ce99f7f7ae8cfae5ef25272121cea68cc30_3336.profile']\n",
      "duplicate ERR: ['./data/tree-rep-profiles_o2o_smallshort/small/1.fakeav_0.8/G1956/4e8012034d20f96cae1cba062f249688d8a5d31f5ea0c09bb47be2fed846bb90_3236.profile', './data/tree-rep-profiles_o2o_smallshort/short/1.fakeav_0.8/G1956/4e8012034d20f96cae1cba062f249688d8a5d31f5ea0c09bb47be2fed846bb90_3236.profile']\n",
      "duplicate ERR: ['./data/tree-rep-profiles_o2o_smallshort/small/1.fakeav_0.8/G1956/3fef55f50bb6c07c6f9157aec43ecd8500b92dae564e5a2c98955e300986fc30_3240.profile', './data/tree-rep-profiles_o2o_smallshort/short/1.fakeav_0.8/G1956/3fef55f50bb6c07c6f9157aec43ecd8500b92dae564e5a2c98955e300986fc30_3240.profile']\n",
      "duplicate ERR: ['./data/tree-rep-profiles_o2o_smallshort/small/1.fakeav_0.8/G2088/160b4a54aa15bfa3ab35e8ce6cd9c89acff7fbeb2be4248a63684474150b66c5_3244.profile', './data/tree-rep-profiles_o2o_smallshort/short/1.fakeav_0.8/G2088/160b4a54aa15bfa3ab35e8ce6cd9c89acff7fbeb2be4248a63684474150b66c5_3244.profile']\n",
      "duplicate ERR: ['./data/tree-rep-profiles_o2o_smallshort/small/1.fakeav_0.8/G2088/53e7ae2a93494d263de74a4b977eb3755b73db67121d7fda2d08ea5aad113498_3204.profile', './data/tree-rep-profiles_o2o_smallshort/short/1.fakeav_0.8/G2088/53e7ae2a93494d263de74a4b977eb3755b73db67121d7fda2d08ea5aad113498_3204.profile']\n",
      "duplicate ERR: ['./data/tree-rep-profiles_o2o_smallshort/small/1.fakeav_0.8/G1950/4da3a7ea29013e471da235305ab91df122b1790e89f375143139dca915fbc0c2_3316.profile', './data/tree-rep-profiles_o2o_smallshort/short/1.fakeav_0.8/G1950/4da3a7ea29013e471da235305ab91df122b1790e89f375143139dca915fbc0c2_3316.profile']\n",
      "duplicate ERR: ['./data/tree-rep-profiles_o2o_smallshort/small/1.fakeav_0.8/G1950/3fdfd563d62af0a6ab5a0d127a197748df4fd7a33859e75076b342f570bfe0a6_3208.profile', './data/tree-rep-profiles_o2o_smallshort/short/1.fakeav_0.8/G1950/3fdfd563d62af0a6ab5a0d127a197748df4fd7a33859e75076b342f570bfe0a6_3208.profile']\n",
      "duplicate ERR: ['./data/tree-rep-profiles_o2o_smallshort/small/1.fakeav_0.8/G1983/96c0287687ffee3e5b3c1d534b62c9d1e23abe44566e6c72576890d6cb5db884_1260.profile', './data/tree-rep-profiles_o2o_smallshort/short/1.fakeav_0.8/G1983/96c0287687ffee3e5b3c1d534b62c9d1e23abe44566e6c72576890d6cb5db884_1260.profile']\n",
      "duplicate ERR: ['./data/tree-rep-profiles_o2o_smallshort/small/1.fakeav_0.8/G1983/3e9454778c70acd2a7a4cc660037d6efadd963d1f5f78bc578ebc6bdb8642b8f_1084.profile', './data/tree-rep-profiles_o2o_smallshort/short/1.fakeav_0.8/G1983/3e9454778c70acd2a7a4cc660037d6efadd963d1f5f78bc578ebc6bdb8642b8f_1084.profile']\n",
      "duplicate ERR: ['./data/tree-rep-profiles_o2o_smallshort/small/1.fakeav_0.8/G2112/0f2075e95224c3ecc7a0d1fc665a6d115dc803a9e3dbfa2206adedd18c75ef94_3244.profile', './data/tree-rep-profiles_o2o_smallshort/short/1.fakeav_0.8/G2112/0f2075e95224c3ecc7a0d1fc665a6d115dc803a9e3dbfa2206adedd18c75ef94_3244.profile']\n",
      "duplicate ERR: ['./data/tree-rep-profiles_o2o_smallshort/small/1.fakeav_0.8/G2112/1d7d0f9e93d105097858e5854618bd8c40ab27415819d0a29ca3d62ac4969d28_3252.profile', './data/tree-rep-profiles_o2o_smallshort/short/1.fakeav_0.8/G2112/1d7d0f9e93d105097858e5854618bd8c40ab27415819d0a29ca3d62ac4969d28_3252.profile']\n",
      "duplicate ERR: ['./data/tree-rep-profiles_o2o_smallshort/small/1.fakeav_0.8/G1824/79c10f81209a76ed47e8c1c9a71d616b6ed0b7427fea1a6f1e47b535eb394061_3172.profile', './data/tree-rep-profiles_o2o_smallshort/short/1.fakeav_0.8/G1824/79c10f81209a76ed47e8c1c9a71d616b6ed0b7427fea1a6f1e47b535eb394061_3172.profile']\n",
      "duplicate ERR: ['./data/tree-rep-profiles_o2o_smallshort/small/1.fakeav_0.8/G1824/3f1603e7b9e730361502bbee849b94de0ee8e63aaed32e2c1c0e0cc5fa6e94d9_3100.profile', './data/tree-rep-profiles_o2o_smallshort/short/1.fakeav_0.8/G1824/3f1603e7b9e730361502bbee849b94de0ee8e63aaed32e2c1c0e0cc5fa6e94d9_3100.profile']\n",
      "duplicate ERR: ['./data/tree-rep-profiles_o2o_smallshort/small/1.fakeav_0.8/G1968/7bcfd74ab7dc51a76f8be5efa610ae3b7ec9a4ba535698573d0e1b6ee305c1b3_3364.profile', './data/tree-rep-profiles_o2o_smallshort/short/1.fakeav_0.8/G1968/7bcfd74ab7dc51a76f8be5efa610ae3b7ec9a4ba535698573d0e1b6ee305c1b3_3364.profile']\n",
      "duplicate ERR: ['./data/tree-rep-profiles_o2o_smallshort/small/1.fakeav_0.8/G1968/9bbc38f23fa1c6949d36008b954ec9e137263a22a4ffd62c7c346f862e04ff7e_3280.profile', './data/tree-rep-profiles_o2o_smallshort/short/1.fakeav_0.8/G1968/9bbc38f23fa1c6949d36008b954ec9e137263a22a4ffd62c7c346f862e04ff7e_3280.profile']\n",
      "duplicate ERR: ['./data/tree-rep-profiles_o2o_smallshort/small/1.fakeav_0.8/G2086/1f30a630f65f57da5d6b098cd1a91dff4753bbc4db22cbdd983c8173773acc83_3312.profile', './data/tree-rep-profiles_o2o_smallshort/short/1.fakeav_0.8/G2086/1f30a630f65f57da5d6b098cd1a91dff4753bbc4db22cbdd983c8173773acc83_3312.profile']\n",
      "duplicate ERR: ['./data/tree-rep-profiles_o2o_smallshort/small/1.fakeav_0.8/G2086/06a8398c638fbb39eaf542aefef48ef8a33c2f2e20e82593107125000d9d9bde_3304.profile', './data/tree-rep-profiles_o2o_smallshort/short/1.fakeav_0.8/G2086/06a8398c638fbb39eaf542aefef48ef8a33c2f2e20e82593107125000d9d9bde_3304.profile']\n",
      "duplicate ERR: ['./data/tree-rep-profiles_o2o_smallshort/small/1.fakeav_0.8/G2079/1a2e33d017d7d32e59fe5094319a1ce80d0985793d49a207b6c78d9146033563_3188.profile', './data/tree-rep-profiles_o2o_smallshort/short/1.fakeav_0.8/G2079/1a2e33d017d7d32e59fe5094319a1ce80d0985793d49a207b6c78d9146033563_3188.profile']\n",
      "duplicate ERR: ['./data/tree-rep-profiles_o2o_smallshort/small/1.fakeav_0.8/G2079/2ae146b4aedd8fb1417d3d87083d0bb1c8a0c72f6ac3e035133424d4231f17b7_3188.profile', './data/tree-rep-profiles_o2o_smallshort/short/1.fakeav_0.8/G2079/2ae146b4aedd8fb1417d3d87083d0bb1c8a0c72f6ac3e035133424d4231f17b7_3188.profile']\n",
      "duplicate ERR: ['./data/tree-rep-profiles_o2o_smallshort/small/1.fakeav_0.8/G2109/0e83016a20e8795e492eaa0e25a58f977d5ac918c060ba41bf595bc28fcf9049_3396.profile', './data/tree-rep-profiles_o2o_smallshort/short/1.fakeav_0.8/G2109/0e83016a20e8795e492eaa0e25a58f977d5ac918c060ba41bf595bc28fcf9049_3396.profile']\n",
      "duplicate ERR: ['./data/tree-rep-profiles_o2o_smallshort/small/1.fakeav_0.8/G2109/1e465cdb8a995b4b25396009b2af4207efd06b76b558a1b231a8f5323c00389a_3168.profile', './data/tree-rep-profiles_o2o_smallshort/short/1.fakeav_0.8/G2109/1e465cdb8a995b4b25396009b2af4207efd06b76b558a1b231a8f5323c00389a_3168.profile']\n",
      "duplicate ERR: ['./data/tree-rep-profiles_o2o_smallshort/small/1.fakeav_0.8/G1876/0af0645c4eac256bb7a88c98a69e7f8888aaa2634ad0a81748f4eeec72d73bee_3280.profile', './data/tree-rep-profiles_o2o_smallshort/short/1.fakeav_0.8/G1876/0af0645c4eac256bb7a88c98a69e7f8888aaa2634ad0a81748f4eeec72d73bee_3280.profile']\n",
      "duplicate ERR: ['./data/tree-rep-profiles_o2o_smallshort/small/1.fakeav_0.8/G1876/0b7ab7f45b1c7a4eca7a12a8ec106ef4072fcbe1cab24beb39f56fad76ef9166_3292.profile', './data/tree-rep-profiles_o2o_smallshort/short/1.fakeav_0.8/G1876/0b7ab7f45b1c7a4eca7a12a8ec106ef4072fcbe1cab24beb39f56fad76ef9166_3292.profile']\n",
      "duplicate ERR: ['./data/tree-rep-profiles_o2o_smallshort/small/1.fakeav_0.8/G2093/96c0287687ffee3e5b3c1d534b62c9d1e23abe44566e6c72576890d6cb5db884_3100.profile', './data/tree-rep-profiles_o2o_smallshort/short/1.fakeav_0.8/G2093/96c0287687ffee3e5b3c1d534b62c9d1e23abe44566e6c72576890d6cb5db884_3100.profile']\n"
     ]
    },
    {
     "name": "stdout",
     "output_type": "stream",
     "text": [
      "duplicate ERR: ['./data/tree-rep-profiles_o2o_smallshort/small/1.fakeav_0.8/G2093/3e9454778c70acd2a7a4cc660037d6efadd963d1f5f78bc578ebc6bdb8642b8f_3112.profile', './data/tree-rep-profiles_o2o_smallshort/short/1.fakeav_0.8/G2093/3e9454778c70acd2a7a4cc660037d6efadd963d1f5f78bc578ebc6bdb8642b8f_3112.profile']\n",
      "duplicate ERR: ['./data/tree-rep-profiles_o2o_smallshort/small/1.fakeav_0.8/G2010/13b10a3f8bf6a3f14f7950211a233f50931c1cca8088ab6e1ee8be42933cb762_2836.profile', './data/tree-rep-profiles_o2o_smallshort/short/1.fakeav_0.8/G2010/13b10a3f8bf6a3f14f7950211a233f50931c1cca8088ab6e1ee8be42933cb762_2836.profile']\n",
      "duplicate ERR: ['./data/tree-rep-profiles_o2o_smallshort/small/1.fakeav_0.8/G2010/02ffd2ad60d74f72c676ed83a458602d220fe4dc99e0a710ab657bdb3819c0c1_2904.profile', './data/tree-rep-profiles_o2o_smallshort/short/1.fakeav_0.8/G2010/02ffd2ad60d74f72c676ed83a458602d220fe4dc99e0a710ab657bdb3819c0c1_2904.profile']\n",
      "duplicate ERR: ['./data/tree-rep-profiles_o2o_smallshort/small/1.fakeav_0.8/G2053/1d380a8bd11af52fd85e5db070b359ddf59ed6a59b1156658f2eabc3dca083a8_3372.profile', './data/tree-rep-profiles_o2o_smallshort/short/1.fakeav_0.8/G2053/1d380a8bd11af52fd85e5db070b359ddf59ed6a59b1156658f2eabc3dca083a8_3372.profile']\n",
      "duplicate ERR: ['./data/tree-rep-profiles_o2o_smallshort/small/1.fakeav_0.8/G2053/1d380a8bd11af52fd85e5db070b359ddf59ed6a59b1156658f2eabc3dca083a8_3324.profile', './data/tree-rep-profiles_o2o_smallshort/short/1.fakeav_0.8/G2053/1d380a8bd11af52fd85e5db070b359ddf59ed6a59b1156658f2eabc3dca083a8_3324.profile']\n",
      "duplicate ERR: ['./data/tree-rep-profiles_o2o_smallshort/small/1.fakeav_0.8/G2001/0fd86af4fe35fe2516188a666a625a9d89c9b582c299598e42c8d0549adba777_3392.profile', './data/tree-rep-profiles_o2o_smallshort/short/1.fakeav_0.8/G2001/0fd86af4fe35fe2516188a666a625a9d89c9b582c299598e42c8d0549adba777_3392.profile']\n",
      "duplicate ERR: ['./data/tree-rep-profiles_o2o_smallshort/small/1.fakeav_0.8/G2001/12bffafc9601d68e2b4772a969912c45654c172e7f9d58845881841c9f056e30_3160.profile', './data/tree-rep-profiles_o2o_smallshort/short/1.fakeav_0.8/G2001/12bffafc9601d68e2b4772a969912c45654c172e7f9d58845881841c9f056e30_3160.profile']\n",
      "duplicate ERR: ['./data/tree-rep-profiles_o2o_smallshort/small/1.fakeav_0.8/G2016/050e7c123302ebb0a44a9bff77f06b66bc6185242a495974c3ed838da092001f_3216.profile', './data/tree-rep-profiles_o2o_smallshort/short/1.fakeav_0.8/G2016/050e7c123302ebb0a44a9bff77f06b66bc6185242a495974c3ed838da092001f_3216.profile']\n"
     ]
    },
    {
     "name": "stderr",
     "output_type": "stream",
     "text": [
      "\r",
      " 47%|████▋     | 75/159 [00:36<01:25,  1.02s/it]"
     ]
    },
    {
     "name": "stdout",
     "output_type": "stream",
     "text": [
      "duplicate ERR: ['./data/tree-rep-profiles_o2o_smallshort/small/1.fakeav_0.8/G2016/125d2570d7bc2395275541661cb9513c2aa7db5cf652af409c96f2bd10ad34d7_3428.profile', './data/tree-rep-profiles_o2o_smallshort/short/1.fakeav_0.8/G2016/125d2570d7bc2395275541661cb9513c2aa7db5cf652af409c96f2bd10ad34d7_3428.profile']\n",
      "duplicate ERR: ['./data/tree-rep-profiles_o2o_smallshort/small/37.somoto_0.8/G193/10b41a6b6c5f9cc2ffeda1385e792043227efcfbe0ad20e195ab9603ea1dc004_3340.profile', './data/tree-rep-profiles_o2o_smallshort/short/37.somoto_0.8/G193/10b41a6b6c5f9cc2ffeda1385e792043227efcfbe0ad20e195ab9603ea1dc004_3340.profile']\n",
      "duplicate ERR: ['./data/tree-rep-profiles_o2o_smallshort/small/37.somoto_0.8/G193/094c4c3d25fbb1f8365d43949dd945192e904b592ef48a34066480a18f02bd4c_3196.profile', './data/tree-rep-profiles_o2o_smallshort/short/37.somoto_0.8/G193/094c4c3d25fbb1f8365d43949dd945192e904b592ef48a34066480a18f02bd4c_3196.profile']\n",
      "duplicate ERR: ['./data/tree-rep-profiles_o2o_smallshort/small/37.somoto_0.8/G191/11e5a9bb72475070d04809b63c338fab025d035d77bb091a86547b49a495f96c_2868.profile', './data/tree-rep-profiles_o2o_smallshort/short/37.somoto_0.8/G191/11e5a9bb72475070d04809b63c338fab025d035d77bb091a86547b49a495f96c_2868.profile']\n",
      "duplicate ERR: ['./data/tree-rep-profiles_o2o_smallshort/small/37.somoto_0.8/G191/06b3d096a73319acd3de324d0f86015771a14e7f022dd190642b16e6a45bf3f8_3176.profile', './data/tree-rep-profiles_o2o_smallshort/short/37.somoto_0.8/G191/06b3d096a73319acd3de324d0f86015771a14e7f022dd190642b16e6a45bf3f8_3176.profile']\n",
      "duplicate ERR: ['./data/tree-rep-profiles_o2o_smallshort/small/37.somoto_0.8/G202/0a9b2034f770eeb45358f06e1e0313c74720344017e66701035af4219ef51721_3292.profile', './data/tree-rep-profiles_o2o_smallshort/short/37.somoto_0.8/G202/0a9b2034f770eeb45358f06e1e0313c74720344017e66701035af4219ef51721_3292.profile']\n",
      "duplicate ERR: ['./data/tree-rep-profiles_o2o_smallshort/small/37.somoto_0.8/G202/064efe8d6f7872151b9c32193d0e55c559a2d0ee940f4b032eef7602b202acd1_2948.profile', './data/tree-rep-profiles_o2o_smallshort/short/37.somoto_0.8/G202/064efe8d6f7872151b9c32193d0e55c559a2d0ee940f4b032eef7602b202acd1_2948.profile']\n",
      "duplicate ERR: ['./data/tree-rep-profiles_o2o_smallshort/small/37.somoto_0.8/G188/912d8237c2fb06a9d53835414190c64207503ab206f119244154e7f4c57ea298_3332.profile', './data/tree-rep-profiles_o2o_smallshort/short/37.somoto_0.8/G188/912d8237c2fb06a9d53835414190c64207503ab206f119244154e7f4c57ea298_3332.profile']\n"
     ]
    },
    {
     "name": "stderr",
     "output_type": "stream",
     "text": [
      "\r",
      " 48%|████▊     | 76/159 [00:37<01:08,  1.22it/s]"
     ]
    },
    {
     "name": "stdout",
     "output_type": "stream",
     "text": [
      "duplicate ERR: ['./data/tree-rep-profiles_o2o_smallshort/small/37.somoto_0.8/G188/760983bcf5f1f95115283145250c838af97ca0ea8ca2f299ecbf5701a1429dd4_3388.profile', './data/tree-rep-profiles_o2o_smallshort/short/37.somoto_0.8/G188/760983bcf5f1f95115283145250c838af97ca0ea8ca2f299ecbf5701a1429dd4_3388.profile']\n",
      "duplicate ERR: ['./data/tree-rep-profiles_o2o_smallshort/small/37.somoto_0.8/G203/8dead6b131430af392a47fee11c2d2f789a04edf9d09c94a661aebfe41a8c267_3296.profile', './data/tree-rep-profiles_o2o_smallshort/short/37.somoto_0.8/G203/8dead6b131430af392a47fee11c2d2f789a04edf9d09c94a661aebfe41a8c267_3296.profile']\n",
      "duplicate ERR: ['./data/tree-rep-profiles_o2o_smallshort/small/37.somoto_0.8/G203/670a494433bc0e117f4a961d2561b3acff9756cad18893345b722001e8a2bb1b_2952.profile', './data/tree-rep-profiles_o2o_smallshort/short/37.somoto_0.8/G203/670a494433bc0e117f4a961d2561b3acff9756cad18893345b722001e8a2bb1b_2952.profile']\n",
      "duplicate ERR: ['./data/tree-rep-profiles_o2o_smallshort/small/37.somoto_0.8/G201/7b0aca46a59662dbada5dc79ba6563f0fd053a4bd020c8cbf7faa2d62e65c25b_3536.profile', './data/tree-rep-profiles_o2o_smallshort/short/37.somoto_0.8/G201/7b0aca46a59662dbada5dc79ba6563f0fd053a4bd020c8cbf7faa2d62e65c25b_3536.profile']\n",
      "duplicate ERR: ['./data/tree-rep-profiles_o2o_smallshort/small/37.somoto_0.8/G201/98889421f5309230977c4ba56867c87a44d3e09efeaf650665537bcd28a170a9_3188.profile', './data/tree-rep-profiles_o2o_smallshort/short/37.somoto_0.8/G201/98889421f5309230977c4ba56867c87a44d3e09efeaf650665537bcd28a170a9_3188.profile']\n",
      "duplicate ERR: ['./data/tree-rep-profiles_o2o_smallshort/small/37.somoto_0.8/G185/100bc8c54dc03b2b680761d275b8233958cd3eb7fa32258b533c66ac66200727_3148.profile', './data/tree-rep-profiles_o2o_smallshort/short/37.somoto_0.8/G185/100bc8c54dc03b2b680761d275b8233958cd3eb7fa32258b533c66ac66200727_3148.profile']\n",
      "duplicate ERR: ['./data/tree-rep-profiles_o2o_smallshort/small/37.somoto_0.8/G185/10e556739a11af8e72b11d3f98b4c14cdc1ca1eb1e7c554758e5e708a26db637_3116.profile', './data/tree-rep-profiles_o2o_smallshort/short/37.somoto_0.8/G185/10e556739a11af8e72b11d3f98b4c14cdc1ca1eb1e7c554758e5e708a26db637_3116.profile']\n",
      "duplicate ERR: ['./data/tree-rep-profiles_o2o_smallshort/small/144.cosmu_0.8/G21/0db144fa94bf69b8b00574453c60337149a8ac5a9d54ea9787a5db13766440be_3416.profile', './data/tree-rep-profiles_o2o_smallshort/short/144.cosmu_0.8/G21/0db144fa94bf69b8b00574453c60337149a8ac5a9d54ea9787a5db13766440be_3416.profile']\n"
     ]
    },
    {
     "name": "stderr",
     "output_type": "stream",
     "text": [
      "\r",
      " 48%|████▊     | 77/159 [00:37<00:49,  1.65it/s]"
     ]
    },
    {
     "name": "stdout",
     "output_type": "stream",
     "text": [
      "duplicate ERR: ['./data/tree-rep-profiles_o2o_smallshort/small/144.cosmu_0.8/G21/01c0ed0d180976ce4951fabeddaf534467985aee29ed0f599648b9628ed1949c_3328.profile', './data/tree-rep-profiles_o2o_smallshort/short/144.cosmu_0.8/G21/01c0ed0d180976ce4951fabeddaf534467985aee29ed0f599648b9628ed1949c_3328.profile']\n",
      "duplicate ERR: ['./data/tree-rep-profiles_o2o_smallshort/small/144.cosmu_0.8/G20/01c0ed0d180976ce4951fabeddaf534467985aee29ed0f599648b9628ed1949c_3296.profile', './data/tree-rep-profiles_o2o_smallshort/short/144.cosmu_0.8/G20/01c0ed0d180976ce4951fabeddaf534467985aee29ed0f599648b9628ed1949c_3296.profile']\n",
      "duplicate ERR: ['./data/tree-rep-profiles_o2o_smallshort/small/144.cosmu_0.8/G20/0db144fa94bf69b8b00574453c60337149a8ac5a9d54ea9787a5db13766440be_3344.profile', './data/tree-rep-profiles_o2o_smallshort/short/144.cosmu_0.8/G20/0db144fa94bf69b8b00574453c60337149a8ac5a9d54ea9787a5db13766440be_3344.profile']\n",
      "duplicate ERR: ['./data/tree-rep-profiles_o2o_smallshort/small/8.fakealert_0.8/G486/05ceae47062df72f266edf3502094932eadb898ea9fd3a66537aad255d4a5ce2_3268.profile', './data/tree-rep-profiles_o2o_smallshort/short/8.fakealert_0.8/G486/05ceae47062df72f266edf3502094932eadb898ea9fd3a66537aad255d4a5ce2_3268.profile']\n",
      "duplicate ERR: ['./data/tree-rep-profiles_o2o_smallshort/small/8.fakealert_0.8/G486/035bb2108a45847adb999c3350ba216cf2464ad6d75b5996c87fd3d110cc04ff_3296.profile', './data/tree-rep-profiles_o2o_smallshort/short/8.fakealert_0.8/G486/035bb2108a45847adb999c3350ba216cf2464ad6d75b5996c87fd3d110cc04ff_3296.profile']\n",
      "duplicate ERR: ['./data/tree-rep-profiles_o2o_smallshort/small/8.fakealert_0.8/G459/070fae0c769e646c3ef4f489406c0c5777f8c61e2fa20882e46e4be70556b1a8_3280.profile', './data/tree-rep-profiles_o2o_smallshort/short/8.fakealert_0.8/G459/070fae0c769e646c3ef4f489406c0c5777f8c61e2fa20882e46e4be70556b1a8_3280.profile']\n",
      "duplicate ERR: ['./data/tree-rep-profiles_o2o_smallshort/small/8.fakealert_0.8/G459/019c1e95430a67b5bf3491512b108111560a0bd3f3d6b829456feec520826da8_3220.profile', './data/tree-rep-profiles_o2o_smallshort/short/8.fakealert_0.8/G459/019c1e95430a67b5bf3491512b108111560a0bd3f3d6b829456feec520826da8_3220.profile']\n",
      "duplicate ERR: ['./data/tree-rep-profiles_o2o_smallshort/small/8.fakealert_0.8/G417/3e98667ad029c6edc590705663c5483120ac485c273645684dce01f15dc4e74f_3204.profile', './data/tree-rep-profiles_o2o_smallshort/short/8.fakealert_0.8/G417/3e98667ad029c6edc590705663c5483120ac485c273645684dce01f15dc4e74f_3204.profile']\n",
      "duplicate ERR: ['./data/tree-rep-profiles_o2o_smallshort/small/8.fakealert_0.8/G417/7c01c2dda90f386e2b34e974c9af79e082736388345c0bc81395943aa461c7c2_3212.profile', './data/tree-rep-profiles_o2o_smallshort/short/8.fakealert_0.8/G417/7c01c2dda90f386e2b34e974c9af79e082736388345c0bc81395943aa461c7c2_3212.profile']\n",
      "duplicate ERR: ['./data/tree-rep-profiles_o2o_smallshort/small/8.fakealert_0.8/G484/3e43275b2e4e47df891feb83117b490f9c36f1355fda2ebeae63492cdf2803cf_3288.profile', './data/tree-rep-profiles_o2o_smallshort/short/8.fakealert_0.8/G484/3e43275b2e4e47df891feb83117b490f9c36f1355fda2ebeae63492cdf2803cf_3288.profile']\n",
      "duplicate ERR: ['./data/tree-rep-profiles_o2o_smallshort/small/8.fakealert_0.8/G484/9a124229622518943bf0c2b47a5dc936c7a9124922e39d949e4fe7f451ad8e92_3212.profile', './data/tree-rep-profiles_o2o_smallshort/short/8.fakealert_0.8/G484/9a124229622518943bf0c2b47a5dc936c7a9124922e39d949e4fe7f451ad8e92_3212.profile']\n",
      "duplicate ERR: ['./data/tree-rep-profiles_o2o_smallshort/small/8.fakealert_0.8/G456/0d10aae8fc64eb4a8c532db93f9b6e0d7e26fd28858b5bab69e8d6de8e9de75d_3268.profile', './data/tree-rep-profiles_o2o_smallshort/short/8.fakealert_0.8/G456/0d10aae8fc64eb4a8c532db93f9b6e0d7e26fd28858b5bab69e8d6de8e9de75d_3268.profile']\n",
      "duplicate ERR: ['./data/tree-rep-profiles_o2o_smallshort/small/8.fakealert_0.8/G456/1d8388e9a02a1c193909538fb4f2e81d778b219ac05edbf9ccd75600c73671ac_2904.profile', './data/tree-rep-profiles_o2o_smallshort/short/8.fakealert_0.8/G456/1d8388e9a02a1c193909538fb4f2e81d778b219ac05edbf9ccd75600c73671ac_2904.profile']\n",
      "duplicate ERR: ['./data/tree-rep-profiles_o2o_smallshort/small/8.fakealert_0.8/G423/3e47885b2cb19c7e6f0ca54f0515b7d34f501eff5b6335a61fbfe2bc31352707_2824.profile', './data/tree-rep-profiles_o2o_smallshort/short/8.fakealert_0.8/G423/3e47885b2cb19c7e6f0ca54f0515b7d34f501eff5b6335a61fbfe2bc31352707_2824.profile']\n",
      "duplicate ERR: ['./data/tree-rep-profiles_o2o_smallshort/small/8.fakealert_0.8/G423/88c4060295c9bc557a58bc69e56652c201cd613a52fe2dc4fcac604545101edd_2920.profile', './data/tree-rep-profiles_o2o_smallshort/short/8.fakealert_0.8/G423/88c4060295c9bc557a58bc69e56652c201cd613a52fe2dc4fcac604545101edd_2920.profile']\n",
      "duplicate ERR: ['./data/tree-rep-profiles_o2o_smallshort/small/8.fakealert_0.8/G466/8d3e834e519d12674670cef2b648333e6abd319a6f085ac81bf99b3ccfb57014_2916.profile', './data/tree-rep-profiles_o2o_smallshort/short/8.fakealert_0.8/G466/8d3e834e519d12674670cef2b648333e6abd319a6f085ac81bf99b3ccfb57014_2916.profile']\n",
      "duplicate ERR: ['./data/tree-rep-profiles_o2o_smallshort/small/8.fakealert_0.8/G466/3d761de1a1e046d2cd51d4dc331c3cbb18f94fc865dc24dec710889042672e2c_2832.profile', './data/tree-rep-profiles_o2o_smallshort/short/8.fakealert_0.8/G466/3d761de1a1e046d2cd51d4dc331c3cbb18f94fc865dc24dec710889042672e2c_2832.profile']\n",
      "duplicate ERR: ['./data/tree-rep-profiles_o2o_smallshort/small/8.fakealert_0.8/G424/3a36671a318d171b3084f016164a203a22358cc766db9614adecb5375fb32920_3292.profile', './data/tree-rep-profiles_o2o_smallshort/short/8.fakealert_0.8/G424/3a36671a318d171b3084f016164a203a22358cc766db9614adecb5375fb32920_3292.profile']\n",
      "duplicate ERR: ['./data/tree-rep-profiles_o2o_smallshort/small/8.fakealert_0.8/G424/5b5c97d96768bc2eefa613cc478cd2262271a2c37cb0a87109ae066f4cf422bf_3168.profile', './data/tree-rep-profiles_o2o_smallshort/short/8.fakealert_0.8/G424/5b5c97d96768bc2eefa613cc478cd2262271a2c37cb0a87109ae066f4cf422bf_3168.profile']\n",
      "duplicate ERR: ['./data/tree-rep-profiles_o2o_smallshort/small/8.fakealert_0.8/G500/08a5f122414c5d6035ac4fb48bef138fd2e26f4bd4f424e0eb7c70f7de4373a9_3280.profile', './data/tree-rep-profiles_o2o_smallshort/short/8.fakealert_0.8/G500/08a5f122414c5d6035ac4fb48bef138fd2e26f4bd4f424e0eb7c70f7de4373a9_3280.profile']\n",
      "duplicate ERR: ['./data/tree-rep-profiles_o2o_smallshort/small/8.fakealert_0.8/G500/120c97fd87e94f9b6f7098f621c15ae4d1054e5acc72ffdc87d92e516cc91e48_2912.profile', './data/tree-rep-profiles_o2o_smallshort/short/8.fakealert_0.8/G500/120c97fd87e94f9b6f7098f621c15ae4d1054e5acc72ffdc87d92e516cc91e48_2912.profile']\n",
      "duplicate ERR: ['./data/tree-rep-profiles_o2o_smallshort/small/8.fakealert_0.8/G460/7c60ced8260dc6d7f4f3a396934acba897928d8e7ea9e43550d1c04315648e89_3180.profile', './data/tree-rep-profiles_o2o_smallshort/short/8.fakealert_0.8/G460/7c60ced8260dc6d7f4f3a396934acba897928d8e7ea9e43550d1c04315648e89_3180.profile']\n",
      "duplicate ERR: ['./data/tree-rep-profiles_o2o_smallshort/small/8.fakealert_0.8/G460/4c482cd789df5d7080f45a028b5b8948192102d4eefbb0a8be1ff35ac5bc394e_3216.profile', './data/tree-rep-profiles_o2o_smallshort/short/8.fakealert_0.8/G460/4c482cd789df5d7080f45a028b5b8948192102d4eefbb0a8be1ff35ac5bc394e_3216.profile']\n",
      "duplicate ERR: ['./data/tree-rep-profiles_o2o_smallshort/small/8.fakealert_0.8/G411/2bae172ef5802b3471222f92e4f7db8a0a698a6fca22ef43ec4e9ea5239ac788_3152.profile', './data/tree-rep-profiles_o2o_smallshort/short/8.fakealert_0.8/G411/2bae172ef5802b3471222f92e4f7db8a0a698a6fca22ef43ec4e9ea5239ac788_3152.profile']\n",
      "duplicate ERR: ['./data/tree-rep-profiles_o2o_smallshort/small/8.fakealert_0.8/G411/6e7cbca5a753c7f6aaed1feda2b1c25e017289cd4b590bcdfea637dba776616f_3176.profile', './data/tree-rep-profiles_o2o_smallshort/short/8.fakealert_0.8/G411/6e7cbca5a753c7f6aaed1feda2b1c25e017289cd4b590bcdfea637dba776616f_3176.profile']\n",
      "duplicate ERR: ['./data/tree-rep-profiles_o2o_smallshort/small/8.fakealert_0.8/G491/90d5ee7dd591cb3c7c0755c40c2f63f978f5e0630c163c3dc5c59c5e75e961ae_3240.profile', './data/tree-rep-profiles_o2o_smallshort/short/8.fakealert_0.8/G491/90d5ee7dd591cb3c7c0755c40c2f63f978f5e0630c163c3dc5c59c5e75e961ae_3240.profile']\n",
      "duplicate ERR: ['./data/tree-rep-profiles_o2o_smallshort/small/8.fakealert_0.8/G491/32a1ead55223828d4d78cd31efe57a36efadf8f994957272597ee2b4a64e3e8c_3284.profile', './data/tree-rep-profiles_o2o_smallshort/short/8.fakealert_0.8/G491/32a1ead55223828d4d78cd31efe57a36efadf8f994957272597ee2b4a64e3e8c_3284.profile']\n",
      "duplicate ERR: ['./data/tree-rep-profiles_o2o_smallshort/small/8.fakealert_0.8/G427/9b539d3e1475f896e0019ae68b489c4a988721635caad7b63fb0fc89c4f92d18_3268.profile', './data/tree-rep-profiles_o2o_smallshort/short/8.fakealert_0.8/G427/9b539d3e1475f896e0019ae68b489c4a988721635caad7b63fb0fc89c4f92d18_3268.profile']\n",
      "duplicate ERR: ['./data/tree-rep-profiles_o2o_smallshort/small/8.fakealert_0.8/G427/3c380fd8fd1ac02d65af00a09071d21b055c811934cfe1499b53f90e2086c1ee_3184.profile', './data/tree-rep-profiles_o2o_smallshort/short/8.fakealert_0.8/G427/3c380fd8fd1ac02d65af00a09071d21b055c811934cfe1499b53f90e2086c1ee_3184.profile']\n",
      "duplicate ERR: ['./data/tree-rep-profiles_o2o_smallshort/small/8.fakealert_0.8/G493/0c8ecffb99089dccc43108496052d42edb789eaf65b14218eca5fd0b06a3e34a_3456.profile', './data/tree-rep-profiles_o2o_smallshort/short/8.fakealert_0.8/G493/0c8ecffb99089dccc43108496052d42edb789eaf65b14218eca5fd0b06a3e34a_3456.profile']\n",
      "duplicate ERR: ['./data/tree-rep-profiles_o2o_smallshort/small/8.fakealert_0.8/G493/1a175e5f71e8f08317883f91dfcafab27b5fc99f4acab84ce516d0fdb82bdafd_3448.profile', './data/tree-rep-profiles_o2o_smallshort/short/8.fakealert_0.8/G493/1a175e5f71e8f08317883f91dfcafab27b5fc99f4acab84ce516d0fdb82bdafd_3448.profile']\n",
      "duplicate ERR: ['./data/tree-rep-profiles_o2o_smallshort/small/8.fakealert_0.8/G483/017bcb55c40f31cf5925769d6a8a642e614715b34cf02bc3a0476f9462b559b6_2956.profile', './data/tree-rep-profiles_o2o_smallshort/short/8.fakealert_0.8/G483/017bcb55c40f31cf5925769d6a8a642e614715b34cf02bc3a0476f9462b559b6_2956.profile']\n",
      "duplicate ERR: ['./data/tree-rep-profiles_o2o_smallshort/small/8.fakealert_0.8/G483/017bcb55c40f31cf5925769d6a8a642e614715b34cf02bc3a0476f9462b559b6_2972.profile', './data/tree-rep-profiles_o2o_smallshort/short/8.fakealert_0.8/G483/017bcb55c40f31cf5925769d6a8a642e614715b34cf02bc3a0476f9462b559b6_2972.profile']\n",
      "duplicate ERR: ['./data/tree-rep-profiles_o2o_smallshort/small/8.fakealert_0.8/G492/7fdf0a97b1444d68ca9f5f4f17d3289c842406606ab9ea43d26c5bd30deeaae8_2916.profile', './data/tree-rep-profiles_o2o_smallshort/short/8.fakealert_0.8/G492/7fdf0a97b1444d68ca9f5f4f17d3289c842406606ab9ea43d26c5bd30deeaae8_2916.profile']\n",
      "duplicate ERR: ['./data/tree-rep-profiles_o2o_smallshort/small/8.fakealert_0.8/G492/79d13dd00eca15163470b70d6394a25d9d3911aba277bf51ba6ef40c0f3caae0_3220.profile', './data/tree-rep-profiles_o2o_smallshort/short/8.fakealert_0.8/G492/79d13dd00eca15163470b70d6394a25d9d3911aba277bf51ba6ef40c0f3caae0_3220.profile']\n"
     ]
    },
    {
     "name": "stderr",
     "output_type": "stream",
     "text": [
      "\r",
      " 49%|████▉     | 78/159 [00:38<00:54,  1.48it/s]"
     ]
    },
    {
     "name": "stdout",
     "output_type": "stream",
     "text": [
      "duplicate ERR: ['./data/tree-rep-profiles_o2o_smallshort/small/8.fakealert_0.8/G451/0008d6d1dcbe359dab5780be87005be659ea93eae5878a5b6e6ba4ed2d889b09_3244.profile', './data/tree-rep-profiles_o2o_smallshort/short/8.fakealert_0.8/G451/0008d6d1dcbe359dab5780be87005be659ea93eae5878a5b6e6ba4ed2d889b09_3244.profile']\n",
      "duplicate ERR: ['./data/tree-rep-profiles_o2o_smallshort/small/8.fakealert_0.8/G451/8aaabc9a075a93e83a15ca89caf1caeefcc92d6da341b9ef71293aefa0361572_2844.profile', './data/tree-rep-profiles_o2o_smallshort/short/8.fakealert_0.8/G451/8aaabc9a075a93e83a15ca89caf1caeefcc92d6da341b9ef71293aefa0361572_2844.profile']\n",
      "duplicate ERR: ['./data/tree-rep-profiles_o2o_smallshort/small/187.wenper_0.8/G16/a31230c6f6e8e2f9474ec9c3d3a64cf1afd0884bd286c4d9ccb4c749d48540b8_3724.profile', './data/tree-rep-profiles_o2o_smallshort/short/187.wenper_0.8/G16/a31230c6f6e8e2f9474ec9c3d3a64cf1afd0884bd286c4d9ccb4c749d48540b8_3724.profile']\n",
      "duplicate ERR: ['./data/tree-rep-profiles_o2o_smallshort/small/187.wenper_0.8/G16/a31230c6f6e8e2f9474ec9c3d3a64cf1afd0884bd286c4d9ccb4c749d48540b8_3568.profile', './data/tree-rep-profiles_o2o_smallshort/short/187.wenper_0.8/G16/a31230c6f6e8e2f9474ec9c3d3a64cf1afd0884bd286c4d9ccb4c749d48540b8_3568.profile']\n",
      "duplicate ERR: ['./data/tree-rep-profiles_o2o_smallshort/small/138.wabot_0.8/G16/13f39c109b68d4de1b8ae470e72c60a20780d16aca40d3087f867f037b47c94f_2860.profile', './data/tree-rep-profiles_o2o_smallshort/short/138.wabot_0.8/G16/13f39c109b68d4de1b8ae470e72c60a20780d16aca40d3087f867f037b47c94f_2860.profile']\n",
      "duplicate ERR: ['./data/tree-rep-profiles_o2o_smallshort/small/138.wabot_0.8/G16/07e3ebfeb7c9d1bcb5f686c6293726481508c5ae05744f9f1c3e233f029c2b5b_3168.profile', './data/tree-rep-profiles_o2o_smallshort/short/138.wabot_0.8/G16/07e3ebfeb7c9d1bcb5f686c6293726481508c5ae05744f9f1c3e233f029c2b5b_3168.profile']\n",
      "duplicate ERR: ['./data/tree-rep-profiles_o2o_smallshort/small/76.chir_0.8/G84/14c09578c7e6db6712628d8d39ef73d74623af6b0459cb16b55456f6a0032842_3344.profile', './data/tree-rep-profiles_o2o_smallshort/short/76.chir_0.8/G84/14c09578c7e6db6712628d8d39ef73d74623af6b0459cb16b55456f6a0032842_3344.profile']\n",
      "duplicate ERR: ['./data/tree-rep-profiles_o2o_smallshort/small/76.chir_0.8/G84/09f1f97cb2c7673b34cab95a54cf5adddc113a7d3c15961d7d045f95701f3142_3196.profile', './data/tree-rep-profiles_o2o_smallshort/short/76.chir_0.8/G84/09f1f97cb2c7673b34cab95a54cf5adddc113a7d3c15961d7d045f95701f3142_3196.profile']\n",
      "duplicate ERR: ['./data/tree-rep-profiles_o2o_smallshort/small/76.chir_0.8/G83/0bf2efdd984ffffed5e70504874241108016d51f3c2b28f3eab6477ff2bde62f_3028.profile', './data/tree-rep-profiles_o2o_smallshort/short/76.chir_0.8/G83/0bf2efdd984ffffed5e70504874241108016d51f3c2b28f3eab6477ff2bde62f_3028.profile']\n"
     ]
    },
    {
     "name": "stderr",
     "output_type": "stream",
     "text": [
      "\r",
      " 51%|█████     | 81/159 [00:38<00:39,  1.96it/s]"
     ]
    },
    {
     "name": "stdout",
     "output_type": "stream",
     "text": [
      "duplicate ERR: ['./data/tree-rep-profiles_o2o_smallshort/small/76.chir_0.8/G83/0bf2efdd984ffffed5e70504874241108016d51f3c2b28f3eab6477ff2bde62f_3108.profile', './data/tree-rep-profiles_o2o_smallshort/short/76.chir_0.8/G83/0bf2efdd984ffffed5e70504874241108016d51f3c2b28f3eab6477ff2bde62f_3108.profile']\n",
      "duplicate ERR: ['./data/tree-rep-profiles_o2o_smallshort/small/76.chir_0.8/G86/1e975e93045f2364c66c6d4d64155a4aa558aaf668ff7d2e5149f9c5520d2964_2856.profile', './data/tree-rep-profiles_o2o_smallshort/short/76.chir_0.8/G86/1e975e93045f2364c66c6d4d64155a4aa558aaf668ff7d2e5149f9c5520d2964_2856.profile']\n",
      "duplicate ERR: ['./data/tree-rep-profiles_o2o_smallshort/small/76.chir_0.8/G86/164c38b07df248271b25eda46f4db2dbaa4b2a3dff22a0515191e97a123142ec_3240.profile', './data/tree-rep-profiles_o2o_smallshort/short/76.chir_0.8/G86/164c38b07df248271b25eda46f4db2dbaa4b2a3dff22a0515191e97a123142ec_3240.profile']\n",
      "duplicate ERR: ['./data/tree-rep-profiles_o2o_smallshort/small/76.chir_0.8/G78/0a63fcac66a009497071ff00ff59a8750b8d5fe27dd4111e29b510df4f4f2c0f_3384.profile', './data/tree-rep-profiles_o2o_smallshort/short/76.chir_0.8/G78/0a63fcac66a009497071ff00ff59a8750b8d5fe27dd4111e29b510df4f4f2c0f_3384.profile']\n",
      "duplicate ERR: ['./data/tree-rep-profiles_o2o_smallshort/small/76.chir_0.8/G78/0a63fcac66a009497071ff00ff59a8750b8d5fe27dd4111e29b510df4f4f2c0f_3464.profile', './data/tree-rep-profiles_o2o_smallshort/short/76.chir_0.8/G78/0a63fcac66a009497071ff00ff59a8750b8d5fe27dd4111e29b510df4f4f2c0f_3464.profile']\n",
      "duplicate ERR: ['./data/tree-rep-profiles_o2o_smallshort/small/76.chir_0.8/G81/6d75f10c35a3f4b5cfa438d82266547dcbb23889b1cc0594e1cf1adeedf93def_3232.profile', './data/tree-rep-profiles_o2o_smallshort/short/76.chir_0.8/G81/6d75f10c35a3f4b5cfa438d82266547dcbb23889b1cc0594e1cf1adeedf93def_3232.profile']\n",
      "duplicate ERR: ['./data/tree-rep-profiles_o2o_smallshort/small/76.chir_0.8/G81/ecd4810dae0a251115188b85bee6bf80b653a1a471a24ba95837e2d6ddfeefbf_3160.profile', './data/tree-rep-profiles_o2o_smallshort/short/76.chir_0.8/G81/ecd4810dae0a251115188b85bee6bf80b653a1a471a24ba95837e2d6ddfeefbf_3160.profile']\n",
      "duplicate ERR: ['./data/tree-rep-profiles_o2o_smallshort/small/38.firseria_0.8/G191/3e93f62055147867fba3a3b8bcf7d9546cdd82aa45f1de126b68dae62d742c04_3412.profile', './data/tree-rep-profiles_o2o_smallshort/short/38.firseria_0.8/G191/3e93f62055147867fba3a3b8bcf7d9546cdd82aa45f1de126b68dae62d742c04_3412.profile']\n",
      "duplicate ERR: ['./data/tree-rep-profiles_o2o_smallshort/small/38.firseria_0.8/G191/23e9da03eff2ff2c105ecd1ad5426456a8467b9c70361574fe27a07db22b693f_3456.profile', './data/tree-rep-profiles_o2o_smallshort/short/38.firseria_0.8/G191/23e9da03eff2ff2c105ecd1ad5426456a8467b9c70361574fe27a07db22b693f_3456.profile']\n",
      "duplicate ERR: ['./data/tree-rep-profiles_o2o_smallshort/small/38.firseria_0.8/G166/d45ad1a9a0cd1744e9f5627bc17f154d65d3b52a286ef5b34dd63f7bab8d5d9b_1424.profile', './data/tree-rep-profiles_o2o_smallshort/short/38.firseria_0.8/G166/d45ad1a9a0cd1744e9f5627bc17f154d65d3b52a286ef5b34dd63f7bab8d5d9b_1424.profile']\n",
      "duplicate ERR: ['./data/tree-rep-profiles_o2o_smallshort/small/38.firseria_0.8/G166/b57072058dd15f8d4c9f5d9eb3e16cb541ccf2ee1f17d498d4837b604c2dfd66_3400.profile', './data/tree-rep-profiles_o2o_smallshort/short/38.firseria_0.8/G166/b57072058dd15f8d4c9f5d9eb3e16cb541ccf2ee1f17d498d4837b604c2dfd66_3400.profile']\n",
      "duplicate ERR: ['./data/tree-rep-profiles_o2o_smallshort/small/38.firseria_0.8/G184/747bab4a5e50d1372ce94fcc5d0985649cfb59c397813aa15ebb63bee4cad1ad_3208.profile', './data/tree-rep-profiles_o2o_smallshort/short/38.firseria_0.8/G184/747bab4a5e50d1372ce94fcc5d0985649cfb59c397813aa15ebb63bee4cad1ad_3208.profile']\n",
      "duplicate ERR: ['./data/tree-rep-profiles_o2o_smallshort/small/38.firseria_0.8/G184/747bab4a5e50d1372ce94fcc5d0985649cfb59c397813aa15ebb63bee4cad1ad_3476.profile', './data/tree-rep-profiles_o2o_smallshort/short/38.firseria_0.8/G184/747bab4a5e50d1372ce94fcc5d0985649cfb59c397813aa15ebb63bee4cad1ad_3476.profile']\n",
      "duplicate ERR: ['./data/tree-rep-profiles_o2o_smallshort/small/38.firseria_0.8/G171/e95f2d5a4e659dd3f1f50ebea747314b12b09485ff05442f0b57f159615def79_3428.profile', './data/tree-rep-profiles_o2o_smallshort/short/38.firseria_0.8/G171/e95f2d5a4e659dd3f1f50ebea747314b12b09485ff05442f0b57f159615def79_3428.profile']\n",
      "duplicate ERR: ['./data/tree-rep-profiles_o2o_smallshort/small/38.firseria_0.8/G171/d52a2817a128767c74f88029e2a86bb5631c520684370de840b0155b3601d962_3320.profile', './data/tree-rep-profiles_o2o_smallshort/short/38.firseria_0.8/G171/d52a2817a128767c74f88029e2a86bb5631c520684370de840b0155b3601d962_3320.profile']\n",
      "duplicate ERR: ['./data/tree-rep-profiles_o2o_smallshort/small/38.firseria_0.8/G179/87f87e3bcbbc3de68f7199cba1b2b4cdcff8f9730d752bace0d73b67140464e1_3320.profile', './data/tree-rep-profiles_o2o_smallshort/short/38.firseria_0.8/G179/87f87e3bcbbc3de68f7199cba1b2b4cdcff8f9730d752bace0d73b67140464e1_3320.profile']\n",
      "duplicate ERR: ['./data/tree-rep-profiles_o2o_smallshort/small/38.firseria_0.8/G179/893e205d240706c77d58d42e04545490b57fe51bcb48fbd4c6beebce1a0de1de_3320.profile', './data/tree-rep-profiles_o2o_smallshort/short/38.firseria_0.8/G179/893e205d240706c77d58d42e04545490b57fe51bcb48fbd4c6beebce1a0de1de_3320.profile']\n",
      "duplicate ERR: ['./data/tree-rep-profiles_o2o_smallshort/small/38.firseria_0.8/G169/888b7d4652f18cc3791faf3bd5fddbd10f7fc0f90ec5cb1975803a7e26571378_3292.profile', './data/tree-rep-profiles_o2o_smallshort/short/38.firseria_0.8/G169/888b7d4652f18cc3791faf3bd5fddbd10f7fc0f90ec5cb1975803a7e26571378_3292.profile']\n",
      "duplicate ERR: ['./data/tree-rep-profiles_o2o_smallshort/small/38.firseria_0.8/G169/b83f38eb75ae8cc7472141e25b3612580baf0c4c4dfa604c1f635b5b8e554e8b_3328.profile', './data/tree-rep-profiles_o2o_smallshort/short/38.firseria_0.8/G169/b83f38eb75ae8cc7472141e25b3612580baf0c4c4dfa604c1f635b5b8e554e8b_3328.profile']\n",
      "duplicate ERR: ['./data/tree-rep-profiles_o2o_smallshort/small/38.firseria_0.8/G178/100f5ab046772cf7fcdf4fb3df936171121f54b6189b1589c8ec78705622de39_3388.profile', './data/tree-rep-profiles_o2o_smallshort/short/38.firseria_0.8/G178/100f5ab046772cf7fcdf4fb3df936171121f54b6189b1589c8ec78705622de39_3388.profile']\n",
      "duplicate ERR: ['./data/tree-rep-profiles_o2o_smallshort/small/38.firseria_0.8/G178/1e1d0d8df2ffa79f3b253532c0aaced729d62379631e66dda950a91c3e7beef9_3228.profile', './data/tree-rep-profiles_o2o_smallshort/short/38.firseria_0.8/G178/1e1d0d8df2ffa79f3b253532c0aaced729d62379631e66dda950a91c3e7beef9_3228.profile']\n",
      "duplicate ERR: ['./data/tree-rep-profiles_o2o_smallshort/small/38.firseria_0.8/G168/b57072058dd15f8d4c9f5d9eb3e16cb541ccf2ee1f17d498d4837b604c2dfd66_3444.profile', './data/tree-rep-profiles_o2o_smallshort/short/38.firseria_0.8/G168/b57072058dd15f8d4c9f5d9eb3e16cb541ccf2ee1f17d498d4837b604c2dfd66_3444.profile']\n",
      "duplicate ERR: ['./data/tree-rep-profiles_o2o_smallshort/small/38.firseria_0.8/G168/d45ad1a9a0cd1744e9f5627bc17f154d65d3b52a286ef5b34dd63f7bab8d5d9b_3432.profile', './data/tree-rep-profiles_o2o_smallshort/short/38.firseria_0.8/G168/d45ad1a9a0cd1744e9f5627bc17f154d65d3b52a286ef5b34dd63f7bab8d5d9b_3432.profile']\n",
      "duplicate ERR: ['./data/tree-rep-profiles_o2o_smallshort/small/38.firseria_0.8/G185/233a2f19144826c25d093ca7f7d2bfd630c4bc324ce5aea277e37142e06984d0_3396.profile', './data/tree-rep-profiles_o2o_smallshort/short/38.firseria_0.8/G185/233a2f19144826c25d093ca7f7d2bfd630c4bc324ce5aea277e37142e06984d0_3396.profile']\n",
      "duplicate ERR: ['./data/tree-rep-profiles_o2o_smallshort/small/38.firseria_0.8/G185/233a2f19144826c25d093ca7f7d2bfd630c4bc324ce5aea277e37142e06984d0_2928.profile', './data/tree-rep-profiles_o2o_smallshort/short/38.firseria_0.8/G185/233a2f19144826c25d093ca7f7d2bfd630c4bc324ce5aea277e37142e06984d0_2928.profile']\n",
      "duplicate ERR: ['./data/tree-rep-profiles_o2o_smallshort/small/38.firseria_0.8/G167/a579e734c9dbfeaaebf547229714e9de6aa65174472a986968c1b40fcf054449_3180.profile', './data/tree-rep-profiles_o2o_smallshort/short/38.firseria_0.8/G167/a579e734c9dbfeaaebf547229714e9de6aa65174472a986968c1b40fcf054449_3180.profile']\n",
      "duplicate ERR: ['./data/tree-rep-profiles_o2o_smallshort/small/38.firseria_0.8/G167/5c43b04fa5b40be05ec1128e1a5522bef18d8a06f49ed1574ea7cac107d9d4ed_3404.profile', './data/tree-rep-profiles_o2o_smallshort/short/38.firseria_0.8/G167/5c43b04fa5b40be05ec1128e1a5522bef18d8a06f49ed1574ea7cac107d9d4ed_3404.profile']\n",
      "duplicate ERR: ['./data/tree-rep-profiles_o2o_smallshort/small/38.firseria_0.8/G199/a579e734c9dbfeaaebf547229714e9de6aa65174472a986968c1b40fcf054449_3176.profile', './data/tree-rep-profiles_o2o_smallshort/short/38.firseria_0.8/G199/a579e734c9dbfeaaebf547229714e9de6aa65174472a986968c1b40fcf054449_3176.profile']\n",
      "duplicate ERR: ['./data/tree-rep-profiles_o2o_smallshort/small/38.firseria_0.8/G199/24b64020fbc276f3e8f66f90af5355e7fd1b54c3e1c9aee6c8fabb950de62d8a_3372.profile', './data/tree-rep-profiles_o2o_smallshort/short/38.firseria_0.8/G199/24b64020fbc276f3e8f66f90af5355e7fd1b54c3e1c9aee6c8fabb950de62d8a_3372.profile']\n",
      "duplicate ERR: ['./data/tree-rep-profiles_o2o_smallshort/small/38.firseria_0.8/G187/58d88682ca91eee10f3f2ffc0202a647b64a3534d5c3d1c077d4dc2267aba0ca_2964.profile', './data/tree-rep-profiles_o2o_smallshort/short/38.firseria_0.8/G187/58d88682ca91eee10f3f2ffc0202a647b64a3534d5c3d1c077d4dc2267aba0ca_2964.profile']\n",
      "duplicate ERR: ['./data/tree-rep-profiles_o2o_smallshort/small/38.firseria_0.8/G187/621a588423be4a208cb4853b2250986f4e594b78f459c0ed4bfb2c3d334f736a_2960.profile', './data/tree-rep-profiles_o2o_smallshort/short/38.firseria_0.8/G187/621a588423be4a208cb4853b2250986f4e594b78f459c0ed4bfb2c3d334f736a_2960.profile']\n",
      "duplicate ERR: ['./data/tree-rep-profiles_o2o_smallshort/small/38.firseria_0.8/G170/37eb54146e199419634bc396212d3467bd85372f9d24ea89323aff7fe6b9e5ad_3312.profile', './data/tree-rep-profiles_o2o_smallshort/short/38.firseria_0.8/G170/37eb54146e199419634bc396212d3467bd85372f9d24ea89323aff7fe6b9e5ad_3312.profile']\n"
     ]
    },
    {
     "name": "stderr",
     "output_type": "stream",
     "text": [
      " 53%|█████▎    | 84/159 [00:39<00:30,  2.42it/s]"
     ]
    },
    {
     "name": "stdout",
     "output_type": "stream",
     "text": [
      "duplicate ERR: ['./data/tree-rep-profiles_o2o_smallshort/small/38.firseria_0.8/G170/37eb54146e199419634bc396212d3467bd85372f9d24ea89323aff7fe6b9e5ad_3324.profile', './data/tree-rep-profiles_o2o_smallshort/short/38.firseria_0.8/G170/37eb54146e199419634bc396212d3467bd85372f9d24ea89323aff7fe6b9e5ad_3324.profile']\n",
      "duplicate ERR: ['./data/tree-rep-profiles_o2o_smallshort/small/116.lethic_0.8/G22/45e84e4e8011159046f51e2cc22d6bc4b0bd4312d4f15c47894321657b4d5de9_3216.profile', './data/tree-rep-profiles_o2o_smallshort/short/116.lethic_0.8/G22/45e84e4e8011159046f51e2cc22d6bc4b0bd4312d4f15c47894321657b4d5de9_3216.profile']\n",
      "duplicate ERR: ['./data/tree-rep-profiles_o2o_smallshort/small/116.lethic_0.8/G22/0cba88287b07024c5232174652a644c64cc4ef0e35802594f87841a154586379_3348.profile', './data/tree-rep-profiles_o2o_smallshort/short/116.lethic_0.8/G22/0cba88287b07024c5232174652a644c64cc4ef0e35802594f87841a154586379_3348.profile']\n",
      "duplicate ERR: ['./data/tree-rep-profiles_o2o_smallshort/small/140.bjlog_0.8/G24/102aa55be5a3dd7ffe9266317bcc900d921231401e34f7bb82f21850ed1237c9_3432.profile', './data/tree-rep-profiles_o2o_smallshort/short/140.bjlog_0.8/G24/102aa55be5a3dd7ffe9266317bcc900d921231401e34f7bb82f21850ed1237c9_3432.profile']\n",
      "duplicate ERR: ['./data/tree-rep-profiles_o2o_smallshort/small/140.bjlog_0.8/G24/102aa55be5a3dd7ffe9266317bcc900d921231401e34f7bb82f21850ed1237c9_3424.profile', './data/tree-rep-profiles_o2o_smallshort/short/140.bjlog_0.8/G24/102aa55be5a3dd7ffe9266317bcc900d921231401e34f7bb82f21850ed1237c9_3424.profile']\n",
      "duplicate ERR: ['./data/tree-rep-profiles_o2o_smallshort/small/140.bjlog_0.8/G22/10ea9a7d0f17193ac294bb36c5d4c03dfead8b560be80bedb040007e07595288_3220.profile', './data/tree-rep-profiles_o2o_smallshort/short/140.bjlog_0.8/G22/10ea9a7d0f17193ac294bb36c5d4c03dfead8b560be80bedb040007e07595288_3220.profile']\n",
      "duplicate ERR: ['./data/tree-rep-profiles_o2o_smallshort/small/140.bjlog_0.8/G22/1de69baa7184ed6673d4179d1fc7bbd39accc27fe922e5867004cab5f490ef2e_3236.profile', './data/tree-rep-profiles_o2o_smallshort/short/140.bjlog_0.8/G22/1de69baa7184ed6673d4179d1fc7bbd39accc27fe922e5867004cab5f490ef2e_3236.profile']\n",
      "duplicate ERR: ['./data/tree-rep-profiles_o2o_smallshort/small/87.adload_0.8/G44/ae7e596bbeaea81418ba20fd8032fe6d58788d1fb8529fbb590713c9a080643a_3244.profile', './data/tree-rep-profiles_o2o_smallshort/short/87.adload_0.8/G44/ae7e596bbeaea81418ba20fd8032fe6d58788d1fb8529fbb590713c9a080643a_3244.profile']\n"
     ]
    },
    {
     "name": "stderr",
     "output_type": "stream",
     "text": [
      "\r",
      " 53%|█████▎    | 85/159 [00:39<00:24,  2.98it/s]"
     ]
    },
    {
     "name": "stdout",
     "output_type": "stream",
     "text": [
      "duplicate ERR: ['./data/tree-rep-profiles_o2o_smallshort/small/87.adload_0.8/G44/2391d410b82509a792c54e5c5768685b56836ee267a6521e7e55c126fa8dfffa_3400.profile', './data/tree-rep-profiles_o2o_smallshort/short/87.adload_0.8/G44/2391d410b82509a792c54e5c5768685b56836ee267a6521e7e55c126fa8dfffa_3400.profile']\n",
      "duplicate ERR: ['./data/tree-rep-profiles_o2o_smallshort/small/87.adload_0.8/G43/65cb7f4af958d0ea8f1ccfa9130cc52bd2e8ccda9118f946109d56b50fb53912_3352.profile', './data/tree-rep-profiles_o2o_smallshort/short/87.adload_0.8/G43/65cb7f4af958d0ea8f1ccfa9130cc52bd2e8ccda9118f946109d56b50fb53912_3352.profile']\n",
      "duplicate ERR: ['./data/tree-rep-profiles_o2o_smallshort/small/87.adload_0.8/G43/65cb7f4af958d0ea8f1ccfa9130cc52bd2e8ccda9118f946109d56b50fb53912_2980.profile', './data/tree-rep-profiles_o2o_smallshort/short/87.adload_0.8/G43/65cb7f4af958d0ea8f1ccfa9130cc52bd2e8ccda9118f946109d56b50fb53912_2980.profile']\n",
      "duplicate ERR: ['./data/tree-rep-profiles_o2o_smallshort/small/87.adload_0.8/G48/1f1b93046173ac10ba59e44d9a9494df573fb049922a16a5f5be45f4781e9155_3024.profile', './data/tree-rep-profiles_o2o_smallshort/short/87.adload_0.8/G48/1f1b93046173ac10ba59e44d9a9494df573fb049922a16a5f5be45f4781e9155_3024.profile']\n",
      "duplicate ERR: ['./data/tree-rep-profiles_o2o_smallshort/small/87.adload_0.8/G48/1f1b93046173ac10ba59e44d9a9494df573fb049922a16a5f5be45f4781e9155_3364.profile', './data/tree-rep-profiles_o2o_smallshort/short/87.adload_0.8/G48/1f1b93046173ac10ba59e44d9a9494df573fb049922a16a5f5be45f4781e9155_3364.profile']\n",
      "duplicate ERR: ['./data/tree-rep-profiles_o2o_smallshort/small/89.downloadguide_0.8/G41/4e1610dbb361f78660959ca33b27d581ed66c4a0dc70b6f274cd6f6e9dcb5309_3352.profile', './data/tree-rep-profiles_o2o_smallshort/short/89.downloadguide_0.8/G41/4e1610dbb361f78660959ca33b27d581ed66c4a0dc70b6f274cd6f6e9dcb5309_3352.profile']\n",
      "duplicate ERR: ['./data/tree-rep-profiles_o2o_smallshort/small/89.downloadguide_0.8/G41/22067b04a1d92161e787c2a241d5fc4f954a4269031ec30964f55116c2ed04b2_3356.profile', './data/tree-rep-profiles_o2o_smallshort/short/89.downloadguide_0.8/G41/22067b04a1d92161e787c2a241d5fc4f954a4269031ec30964f55116c2ed04b2_3356.profile']\n",
      "duplicate ERR: ['./data/tree-rep-profiles_o2o_smallshort/small/89.downloadguide_0.8/G43/14ca90397b57445ee8b24d823623ae5f1c531634822d79ce0ee01f41c673164f_3300.profile', './data/tree-rep-profiles_o2o_smallshort/short/89.downloadguide_0.8/G43/14ca90397b57445ee8b24d823623ae5f1c531634822d79ce0ee01f41c673164f_3300.profile']\n"
     ]
    },
    {
     "name": "stderr",
     "output_type": "stream",
     "text": [
      "\r",
      " 54%|█████▍    | 86/159 [00:39<00:21,  3.37it/s]"
     ]
    },
    {
     "name": "stdout",
     "output_type": "stream",
     "text": [
      "duplicate ERR: ['./data/tree-rep-profiles_o2o_smallshort/small/89.downloadguide_0.8/G43/2427561f4c67af302381094fb3f98fa409cabfb455962ec0d13b1b4bb2884514_3268.profile', './data/tree-rep-profiles_o2o_smallshort/short/89.downloadguide_0.8/G43/2427561f4c67af302381094fb3f98fa409cabfb455962ec0d13b1b4bb2884514_3268.profile']\n",
      "duplicate ERR: ['./data/tree-rep-profiles_o2o_smallshort/small/89.downloadguide_0.8/G39/eb285d28212c2dfceaf8316694afb372f8edbbec067447720084be0e71d16790_2924.profile', './data/tree-rep-profiles_o2o_smallshort/short/89.downloadguide_0.8/G39/eb285d28212c2dfceaf8316694afb372f8edbbec067447720084be0e71d16790_2924.profile']\n",
      "duplicate ERR: ['./data/tree-rep-profiles_o2o_smallshort/small/89.downloadguide_0.8/G39/eb285d28212c2dfceaf8316694afb372f8edbbec067447720084be0e71d16790_3264.profile', './data/tree-rep-profiles_o2o_smallshort/short/89.downloadguide_0.8/G39/eb285d28212c2dfceaf8316694afb372f8edbbec067447720084be0e71d16790_3264.profile']\n",
      "duplicate ERR: ['./data/tree-rep-profiles_o2o_smallshort/small/89.downloadguide_0.8/G40/c60ff79771e5982e05586f8d348878ab33a227a697d38626debb78e2300dcc54_2892.profile', './data/tree-rep-profiles_o2o_smallshort/short/89.downloadguide_0.8/G40/c60ff79771e5982e05586f8d348878ab33a227a697d38626debb78e2300dcc54_2892.profile']\n",
      "duplicate ERR: ['./data/tree-rep-profiles_o2o_smallshort/small/89.downloadguide_0.8/G40/7d1072944b4340a4ca2cf2f5ac6f55d78037e4fc0e427fd319b0ca7062b49522_3296.profile', './data/tree-rep-profiles_o2o_smallshort/short/89.downloadguide_0.8/G40/7d1072944b4340a4ca2cf2f5ac6f55d78037e4fc0e427fd319b0ca7062b49522_3296.profile']\n",
      "duplicate ERR: ['./data/tree-rep-profiles_o2o_smallshort/small/182.cridex_0.8/G24/5c03583505e8c207b2894051d3ebb142189998ff06d661b47f1d9a61360ccdee_3056.profile', './data/tree-rep-profiles_o2o_smallshort/short/182.cridex_0.8/G24/5c03583505e8c207b2894051d3ebb142189998ff06d661b47f1d9a61360ccdee_3056.profile']\n",
      "duplicate ERR: ['./data/tree-rep-profiles_o2o_smallshort/small/182.cridex_0.8/G24/5c03583505e8c207b2894051d3ebb142189998ff06d661b47f1d9a61360ccdee_248.profile', './data/tree-rep-profiles_o2o_smallshort/short/182.cridex_0.8/G24/5c03583505e8c207b2894051d3ebb142189998ff06d661b47f1d9a61360ccdee_248.profile']\n",
      "duplicate ERR: ['./data/tree-rep-profiles_o2o_smallshort/small/182.cridex_0.8/G26/05fa10799302b20fed9a089c3314232239f56f9a19c2143804775a1c5bcf00b1_3240.profile', './data/tree-rep-profiles_o2o_smallshort/short/182.cridex_0.8/G26/05fa10799302b20fed9a089c3314232239f56f9a19c2143804775a1c5bcf00b1_3240.profile']\n"
     ]
    },
    {
     "name": "stderr",
     "output_type": "stream",
     "text": [
      "\r",
      " 55%|█████▍    | 87/159 [00:39<00:19,  3.72it/s]"
     ]
    },
    {
     "name": "stdout",
     "output_type": "stream",
     "text": [
      "duplicate ERR: ['./data/tree-rep-profiles_o2o_smallshort/small/182.cridex_0.8/G26/0a9588995ed27bdb91e5060e45cddd8a39a50fbd951969a133da2fac35ed00a6_3432.profile', './data/tree-rep-profiles_o2o_smallshort/short/182.cridex_0.8/G26/0a9588995ed27bdb91e5060e45cddd8a39a50fbd951969a133da2fac35ed00a6_3432.profile']\n",
      "duplicate ERR: ['./data/tree-rep-profiles_o2o_smallshort/small/182.cridex_0.8/G28/0ffbbbf0e301f86752bea68b8fc9bd258914d5c1c2635128634ae767be2adadd_2872.profile', './data/tree-rep-profiles_o2o_smallshort/short/182.cridex_0.8/G28/0ffbbbf0e301f86752bea68b8fc9bd258914d5c1c2635128634ae767be2adadd_2872.profile']\n",
      "duplicate ERR: ['./data/tree-rep-profiles_o2o_smallshort/small/182.cridex_0.8/G28/5c03583505e8c207b2894051d3ebb142189998ff06d661b47f1d9a61360ccdee_3176.profile', './data/tree-rep-profiles_o2o_smallshort/short/182.cridex_0.8/G28/5c03583505e8c207b2894051d3ebb142189998ff06d661b47f1d9a61360ccdee_3176.profile']\n",
      "duplicate ERR: ['./data/tree-rep-profiles_o2o_smallshort/small/182.cridex_0.8/G23/0ffbbbf0e301f86752bea68b8fc9bd258914d5c1c2635128634ae767be2adadd_2968.profile', './data/tree-rep-profiles_o2o_smallshort/short/182.cridex_0.8/G23/0ffbbbf0e301f86752bea68b8fc9bd258914d5c1c2635128634ae767be2adadd_2968.profile']\n",
      "duplicate ERR: ['./data/tree-rep-profiles_o2o_smallshort/small/182.cridex_0.8/G23/5c03583505e8c207b2894051d3ebb142189998ff06d661b47f1d9a61360ccdee_3216.profile', './data/tree-rep-profiles_o2o_smallshort/short/182.cridex_0.8/G23/5c03583505e8c207b2894051d3ebb142189998ff06d661b47f1d9a61360ccdee_3216.profile']\n",
      "duplicate ERR: ['./data/tree-rep-profiles_o2o_smallshort/small/42.simda_0.8/G100/011a0fa33d89db7011444b58cb8d1dd039cabe4516c2911da5d065031d9266e7_3144.profile', './data/tree-rep-profiles_o2o_smallshort/short/42.simda_0.8/G100/011a0fa33d89db7011444b58cb8d1dd039cabe4516c2911da5d065031d9266e7_3144.profile']\n",
      "duplicate ERR: ['./data/tree-rep-profiles_o2o_smallshort/small/42.simda_0.8/G100/02f5b2a0826e41e5a2733d157995b9cae3e71095f481d1b02879edae8a288f6f_3236.profile', './data/tree-rep-profiles_o2o_smallshort/short/42.simda_0.8/G100/02f5b2a0826e41e5a2733d157995b9cae3e71095f481d1b02879edae8a288f6f_3236.profile']\n",
      "duplicate ERR: ['./data/tree-rep-profiles_o2o_smallshort/small/42.simda_0.8/G93/6d4ce79d8d72a5c4956df51bea14c39198dd5c7987232ca9048ce8588b6124cd_3280.profile', './data/tree-rep-profiles_o2o_smallshort/short/42.simda_0.8/G93/6d4ce79d8d72a5c4956df51bea14c39198dd5c7987232ca9048ce8588b6124cd_3280.profile']\n",
      "duplicate ERR: ['./data/tree-rep-profiles_o2o_smallshort/small/42.simda_0.8/G93/6d2d23eda0968a6e3493a0412529c154af1369e34612b3afb251690630feeca4_3288.profile', './data/tree-rep-profiles_o2o_smallshort/short/42.simda_0.8/G93/6d2d23eda0968a6e3493a0412529c154af1369e34612b3afb251690630feeca4_3288.profile']\n",
      "duplicate ERR: ['./data/tree-rep-profiles_o2o_smallshort/small/42.simda_0.8/G99/152bb0f3a90f2542b98bd0752ef4803b4c830b09199b4b1e35195cf5f283f7ca_2792.profile', './data/tree-rep-profiles_o2o_smallshort/short/42.simda_0.8/G99/152bb0f3a90f2542b98bd0752ef4803b4c830b09199b4b1e35195cf5f283f7ca_2792.profile']\n",
      "duplicate ERR: ['./data/tree-rep-profiles_o2o_smallshort/small/42.simda_0.8/G99/13d1f63bdbaae232723a2fa1d5f2f98bf34b8b577cb8a5c4bc0323e43c9c1e82_3320.profile', './data/tree-rep-profiles_o2o_smallshort/short/42.simda_0.8/G99/13d1f63bdbaae232723a2fa1d5f2f98bf34b8b577cb8a5c4bc0323e43c9c1e82_3320.profile']\n",
      "duplicate ERR: ['./data/tree-rep-profiles_o2o_smallshort/small/42.simda_0.8/G96/0d34eff76807016e7f667668e86f312cbbc09d3501c853c5f268c3527a0b0371_2956.profile', './data/tree-rep-profiles_o2o_smallshort/short/42.simda_0.8/G96/0d34eff76807016e7f667668e86f312cbbc09d3501c853c5f268c3527a0b0371_2956.profile']\n",
      "duplicate ERR: ['./data/tree-rep-profiles_o2o_smallshort/small/42.simda_0.8/G96/0eb45d045e61e309b0f4c160f8cd81e9622c4c6fde25b4217e4ec0ed121c3df8_3344.profile', './data/tree-rep-profiles_o2o_smallshort/short/42.simda_0.8/G96/0eb45d045e61e309b0f4c160f8cd81e9622c4c6fde25b4217e4ec0ed121c3df8_3344.profile']\n",
      "duplicate ERR: ['./data/tree-rep-profiles_o2o_smallshort/small/42.simda_0.8/G94/d3648b6bfc79bcf39579b281351fe2376842a830f31452459d2744d5bcc847d3_3340.profile', './data/tree-rep-profiles_o2o_smallshort/short/42.simda_0.8/G94/d3648b6bfc79bcf39579b281351fe2376842a830f31452459d2744d5bcc847d3_3340.profile']\n",
      "duplicate ERR: ['./data/tree-rep-profiles_o2o_smallshort/small/42.simda_0.8/G94/d3648b6bfc79bcf39579b281351fe2376842a830f31452459d2744d5bcc847d3_3236.profile', './data/tree-rep-profiles_o2o_smallshort/short/42.simda_0.8/G94/d3648b6bfc79bcf39579b281351fe2376842a830f31452459d2744d5bcc847d3_3236.profile']\n",
      "duplicate ERR: ['./data/tree-rep-profiles_o2o_smallshort/small/42.simda_0.8/G98/135a4dacaab811818b168258b6655a308ab2cf6ead35653cf749b284c3ea150d_3244.profile', './data/tree-rep-profiles_o2o_smallshort/short/42.simda_0.8/G98/135a4dacaab811818b168258b6655a308ab2cf6ead35653cf749b284c3ea150d_3244.profile']\n"
     ]
    },
    {
     "name": "stderr",
     "output_type": "stream",
     "text": [
      "\r",
      " 55%|█████▌    | 88/159 [00:40<00:21,  3.36it/s]"
     ]
    },
    {
     "name": "stdout",
     "output_type": "stream",
     "text": [
      "duplicate ERR: ['./data/tree-rep-profiles_o2o_smallshort/small/42.simda_0.8/G98/1f178f0f63410b6dad0d770da9ae183232d22061c9352a8367a3ffd16e2d4d06_3316.profile', './data/tree-rep-profiles_o2o_smallshort/short/42.simda_0.8/G98/1f178f0f63410b6dad0d770da9ae183232d22061c9352a8367a3ffd16e2d4d06_3316.profile']\n",
      "duplicate ERR: ['./data/tree-rep-profiles_o2o_smallshort/small/42.simda_0.8/G92/0daa53d534d09a2356ce8c8da5f37a8803f55f95ff36cd72513e4599b7179447_2976.profile', './data/tree-rep-profiles_o2o_smallshort/short/42.simda_0.8/G92/0daa53d534d09a2356ce8c8da5f37a8803f55f95ff36cd72513e4599b7179447_2976.profile']\n",
      "duplicate ERR: ['./data/tree-rep-profiles_o2o_smallshort/small/42.simda_0.8/G92/0c69a2095e0abe34637f636f517ed7d1562440d9d2fd5d384e2d5622ac7d0cc9_3304.profile', './data/tree-rep-profiles_o2o_smallshort/short/42.simda_0.8/G92/0c69a2095e0abe34637f636f517ed7d1562440d9d2fd5d384e2d5622ac7d0cc9_3304.profile']\n",
      "duplicate ERR: ['./data/tree-rep-profiles_o2o_smallshort/small/62.directdow_0.8/G171/0bb511ded208086564a8b40226a7b1de25ee3b145f1a7bbb1c7e084b6472e264_3532.profile', './data/tree-rep-profiles_o2o_smallshort/short/62.directdow_0.8/G171/0bb511ded208086564a8b40226a7b1de25ee3b145f1a7bbb1c7e084b6472e264_3532.profile']\n",
      "duplicate ERR: ['./data/tree-rep-profiles_o2o_smallshort/small/62.directdow_0.8/G171/001a4b97e4839c2f96d18088ec531a0128f3c1ea26347c81bdc90656be9f3980_3528.profile', './data/tree-rep-profiles_o2o_smallshort/short/62.directdow_0.8/G171/001a4b97e4839c2f96d18088ec531a0128f3c1ea26347c81bdc90656be9f3980_3528.profile']\n",
      "duplicate ERR: ['./data/tree-rep-profiles_o2o_smallshort/small/62.directdow_0.8/G176/0bb511ded208086564a8b40226a7b1de25ee3b145f1a7bbb1c7e084b6472e264_3556.profile', './data/tree-rep-profiles_o2o_smallshort/short/62.directdow_0.8/G176/0bb511ded208086564a8b40226a7b1de25ee3b145f1a7bbb1c7e084b6472e264_3556.profile']\n",
      "duplicate ERR: ['./data/tree-rep-profiles_o2o_smallshort/small/62.directdow_0.8/G176/0bb511ded208086564a8b40226a7b1de25ee3b145f1a7bbb1c7e084b6472e264_3608.profile', './data/tree-rep-profiles_o2o_smallshort/short/62.directdow_0.8/G176/0bb511ded208086564a8b40226a7b1de25ee3b145f1a7bbb1c7e084b6472e264_3608.profile']\n",
      "duplicate ERR: ['./data/tree-rep-profiles_o2o_smallshort/small/62.directdow_0.8/G177/0e60a0847a46add84f29398fa19368ec3bcc7a38dbc1e20851baa43db7bb311a_3352.profile', './data/tree-rep-profiles_o2o_smallshort/short/62.directdow_0.8/G177/0e60a0847a46add84f29398fa19368ec3bcc7a38dbc1e20851baa43db7bb311a_3352.profile']\n",
      "duplicate ERR: ['./data/tree-rep-profiles_o2o_smallshort/small/62.directdow_0.8/G177/11f145e661d9ba5d83971492eb46b5c87557504ec1ae8176d31c9e663f73ceb5_3248.profile', './data/tree-rep-profiles_o2o_smallshort/short/62.directdow_0.8/G177/11f145e661d9ba5d83971492eb46b5c87557504ec1ae8176d31c9e663f73ceb5_3248.profile']\n"
     ]
    },
    {
     "name": "stderr",
     "output_type": "stream",
     "text": [
      "\r",
      " 56%|█████▌    | 89/159 [00:40<00:18,  3.74it/s]"
     ]
    },
    {
     "name": "stdout",
     "output_type": "stream",
     "text": [
      "duplicate ERR: ['./data/tree-rep-profiles_o2o_smallshort/small/62.directdow_0.8/G178/060f80294f0901c21617b11f12a02410e78007881cc57151d966c6b1ec2d1186_3256.profile', './data/tree-rep-profiles_o2o_smallshort/short/62.directdow_0.8/G178/060f80294f0901c21617b11f12a02410e78007881cc57151d966c6b1ec2d1186_3256.profile']\n",
      "duplicate ERR: ['./data/tree-rep-profiles_o2o_smallshort/small/62.directdow_0.8/G178/060f80294f0901c21617b11f12a02410e78007881cc57151d966c6b1ec2d1186_3268.profile', './data/tree-rep-profiles_o2o_smallshort/short/62.directdow_0.8/G178/060f80294f0901c21617b11f12a02410e78007881cc57151d966c6b1ec2d1186_3268.profile']\n",
      "duplicate ERR: ['./data/tree-rep-profiles_o2o_smallshort/small/78.koutodoor_0.8/G49/150f35f5e18c72289d5dac3ae7b8c1e807d19675c6e626be7bbbcf6552830f8e_3264.profile', './data/tree-rep-profiles_o2o_smallshort/short/78.koutodoor_0.8/G49/150f35f5e18c72289d5dac3ae7b8c1e807d19675c6e626be7bbbcf6552830f8e_3264.profile']\n",
      "duplicate ERR: ['./data/tree-rep-profiles_o2o_smallshort/small/78.koutodoor_0.8/G49/1d3388dce55a4c9f6797099fb19221327f23708bae0929d05af32944d4fac438_3208.profile', './data/tree-rep-profiles_o2o_smallshort/short/78.koutodoor_0.8/G49/1d3388dce55a4c9f6797099fb19221327f23708bae0929d05af32944d4fac438_3208.profile']\n",
      "duplicate ERR: ['./data/tree-rep-profiles_o2o_smallshort/small/78.koutodoor_0.8/G46/146c38a26f67bb0c26af384d5f5a107e69d3f3b219fe2c6c1ad93403cc348ad3_3200.profile', './data/tree-rep-profiles_o2o_smallshort/short/78.koutodoor_0.8/G46/146c38a26f67bb0c26af384d5f5a107e69d3f3b219fe2c6c1ad93403cc348ad3_3200.profile']\n",
      "duplicate ERR: ['./data/tree-rep-profiles_o2o_smallshort/small/78.koutodoor_0.8/G46/108be15703620d1be677cad5b0b853f2860ada6fc158e802be86b37719763831_3228.profile', './data/tree-rep-profiles_o2o_smallshort/short/78.koutodoor_0.8/G46/108be15703620d1be677cad5b0b853f2860ada6fc158e802be86b37719763831_3228.profile']\n",
      "duplicate ERR: ['./data/tree-rep-profiles_o2o_smallshort/small/78.koutodoor_0.8/G47/1ec062fbff1cb89419db29aedfbe0539903a6dd8640a5717aaa8debac2328180_3360.profile', './data/tree-rep-profiles_o2o_smallshort/short/78.koutodoor_0.8/G47/1ec062fbff1cb89419db29aedfbe0539903a6dd8640a5717aaa8debac2328180_3360.profile']\n",
      "duplicate ERR: ['./data/tree-rep-profiles_o2o_smallshort/small/78.koutodoor_0.8/G47/077aa3400e3a19b4b539d222ce07c86dee31c389cf34bd6f2c62ee9190befaf2_2876.profile', './data/tree-rep-profiles_o2o_smallshort/short/78.koutodoor_0.8/G47/077aa3400e3a19b4b539d222ce07c86dee31c389cf34bd6f2c62ee9190befaf2_2876.profile']\n",
      "duplicate ERR: ['./data/tree-rep-profiles_o2o_smallshort/small/78.koutodoor_0.8/G51/00dca0f3b0faf88ef1921a2c53a90ab4410c4c56ce864f2da9d3f17102e4d7c4_3304.profile', './data/tree-rep-profiles_o2o_smallshort/short/78.koutodoor_0.8/G51/00dca0f3b0faf88ef1921a2c53a90ab4410c4c56ce864f2da9d3f17102e4d7c4_3304.profile']\n"
     ]
    },
    {
     "name": "stderr",
     "output_type": "stream",
     "text": [
      "\r",
      " 57%|█████▋    | 90/159 [00:40<00:17,  3.84it/s]"
     ]
    },
    {
     "name": "stdout",
     "output_type": "stream",
     "text": [
      "duplicate ERR: ['./data/tree-rep-profiles_o2o_smallshort/small/78.koutodoor_0.8/G51/0c989607f86403690b99fab9f87dfd646ba7ebcd6ae933f5ffbd8aaf238b3054_3348.profile', './data/tree-rep-profiles_o2o_smallshort/short/78.koutodoor_0.8/G51/0c989607f86403690b99fab9f87dfd646ba7ebcd6ae933f5ffbd8aaf238b3054_3348.profile']\n",
      "duplicate ERR: ['./data/tree-rep-profiles_o2o_smallshort/small/78.koutodoor_0.8/G50/12fcfc94bf793d77ca83593e91470bad82bcac4b52cc15af93f2459d7134252e_2904.profile', './data/tree-rep-profiles_o2o_smallshort/short/78.koutodoor_0.8/G50/12fcfc94bf793d77ca83593e91470bad82bcac4b52cc15af93f2459d7134252e_2904.profile']\n",
      "duplicate ERR: ['./data/tree-rep-profiles_o2o_smallshort/small/78.koutodoor_0.8/G50/085d3e5f15ddab98df2765b19ac05d06256f389c0ac0a3fc3468c5b49c78a93e_2876.profile', './data/tree-rep-profiles_o2o_smallshort/short/78.koutodoor_0.8/G50/085d3e5f15ddab98df2765b19ac05d06256f389c0ac0a3fc3468c5b49c78a93e_2876.profile']\n",
      "duplicate ERR: ['./data/tree-rep-profiles_o2o_smallshort/small/39.sirefef_0.8/G107/01a830e9b0fdd912da2814732ef7c7f689645a94d953639b8985cdb763e26b76_3284.profile', './data/tree-rep-profiles_o2o_smallshort/short/39.sirefef_0.8/G107/01a830e9b0fdd912da2814732ef7c7f689645a94d953639b8985cdb763e26b76_3284.profile']\n",
      "duplicate ERR: ['./data/tree-rep-profiles_o2o_smallshort/small/39.sirefef_0.8/G107/0c45298ef334991f6876ead87069ca360127a7c6dcbd944cb0e262df5191e7f7_3352.profile', './data/tree-rep-profiles_o2o_smallshort/short/39.sirefef_0.8/G107/0c45298ef334991f6876ead87069ca360127a7c6dcbd944cb0e262df5191e7f7_3352.profile']\n",
      "duplicate ERR: ['./data/tree-rep-profiles_o2o_smallshort/small/39.sirefef_0.8/G105/0fcb78f17ccb61b12dd88e990e1d8d8d3399d02cdd850b10554caf43f6f1efc7_2924.profile', './data/tree-rep-profiles_o2o_smallshort/short/39.sirefef_0.8/G105/0fcb78f17ccb61b12dd88e990e1d8d8d3399d02cdd850b10554caf43f6f1efc7_2924.profile']\n",
      "duplicate ERR: ['./data/tree-rep-profiles_o2o_smallshort/small/39.sirefef_0.8/G105/0f161655d1d5c593001ea0745117d5db4740fdb6953240c57411aafd7e7f0d73_3240.profile', './data/tree-rep-profiles_o2o_smallshort/short/39.sirefef_0.8/G105/0f161655d1d5c593001ea0745117d5db4740fdb6953240c57411aafd7e7f0d73_3240.profile']\n",
      "duplicate ERR: ['./data/tree-rep-profiles_o2o_smallshort/small/39.sirefef_0.8/G91/109a6631508c051b0034bb0991d3c53bf8d704c8c5a2d9483a0eef723ffa1ab8_2928.profile', './data/tree-rep-profiles_o2o_smallshort/short/39.sirefef_0.8/G91/109a6631508c051b0034bb0991d3c53bf8d704c8c5a2d9483a0eef723ffa1ab8_2928.profile']\n",
      "duplicate ERR: ['./data/tree-rep-profiles_o2o_smallshort/small/39.sirefef_0.8/G91/0ed754e75aae162969f956c3e9c18b9e2ea262cae1a6ff8357cdf6c663c6ebc8_3376.profile', './data/tree-rep-profiles_o2o_smallshort/short/39.sirefef_0.8/G91/0ed754e75aae162969f956c3e9c18b9e2ea262cae1a6ff8357cdf6c663c6ebc8_3376.profile']\n"
     ]
    },
    {
     "name": "stderr",
     "output_type": "stream",
     "text": [
      "\r",
      " 57%|█████▋    | 91/159 [00:40<00:18,  3.70it/s]"
     ]
    },
    {
     "name": "stdout",
     "output_type": "stream",
     "text": [
      "duplicate ERR: ['./data/tree-rep-profiles_o2o_smallshort/small/39.sirefef_0.8/G108/0b3f33f78da0136984d91941af413e34668cf0458b827c0575f3a640949a3d84_2932.profile', './data/tree-rep-profiles_o2o_smallshort/short/39.sirefef_0.8/G108/0b3f33f78da0136984d91941af413e34668cf0458b827c0575f3a640949a3d84_2932.profile']\n",
      "duplicate ERR: ['./data/tree-rep-profiles_o2o_smallshort/small/39.sirefef_0.8/G108/0cbd01f4cb9702dd7d4346a2899196fa1a6e798ac8897d8cc76c2344209e80f8_3168.profile', './data/tree-rep-profiles_o2o_smallshort/short/39.sirefef_0.8/G108/0cbd01f4cb9702dd7d4346a2899196fa1a6e798ac8897d8cc76c2344209e80f8_3168.profile']\n",
      "duplicate ERR: ['./data/tree-rep-profiles_o2o_smallshort/small/39.sirefef_0.8/G109/0cb267fae7e8f04f5a604dc64d75d2e04819676213dcca45e626d22658fc6457_2884.profile', './data/tree-rep-profiles_o2o_smallshort/short/39.sirefef_0.8/G109/0cb267fae7e8f04f5a604dc64d75d2e04819676213dcca45e626d22658fc6457_2884.profile']\n",
      "duplicate ERR: ['./data/tree-rep-profiles_o2o_smallshort/small/39.sirefef_0.8/G109/0fe7af7d32dabb80948d32e0341ad83eb5a254a373ac5ee298d85e1504b04d77_3324.profile', './data/tree-rep-profiles_o2o_smallshort/short/39.sirefef_0.8/G109/0fe7af7d32dabb80948d32e0341ad83eb5a254a373ac5ee298d85e1504b04d77_3324.profile']\n",
      "duplicate ERR: ['./data/tree-rep-profiles_o2o_smallshort/small/39.sirefef_0.8/G92/0fc4b625c65a9d2de9c9621f31721e38abf84b1172a2474d3682f757d8a11d31_3180.profile', './data/tree-rep-profiles_o2o_smallshort/short/39.sirefef_0.8/G92/0fc4b625c65a9d2de9c9621f31721e38abf84b1172a2474d3682f757d8a11d31_3180.profile']\n",
      "duplicate ERR: ['./data/tree-rep-profiles_o2o_smallshort/small/39.sirefef_0.8/G92/0cf96b352004d1c24d1a27cdef1671e43ea0171bb0d65eac48e23ceb279e4ac1_3308.profile', './data/tree-rep-profiles_o2o_smallshort/short/39.sirefef_0.8/G92/0cf96b352004d1c24d1a27cdef1671e43ea0171bb0d65eac48e23ceb279e4ac1_3308.profile']\n",
      "duplicate ERR: ['./data/tree-rep-profiles_o2o_smallshort/small/50.shodi_0.8/G107/6797ff694ae8c62d46c91cbd21e40f96ae378e58d6fdde71df9b7c7b5a955491_2880.profile', './data/tree-rep-profiles_o2o_smallshort/short/50.shodi_0.8/G107/6797ff694ae8c62d46c91cbd21e40f96ae378e58d6fdde71df9b7c7b5a955491_2880.profile']\n",
      "duplicate ERR: ['./data/tree-rep-profiles_o2o_smallshort/small/50.shodi_0.8/G107/6797ff694ae8c62d46c91cbd21e40f96ae378e58d6fdde71df9b7c7b5a955491_3448.profile', './data/tree-rep-profiles_o2o_smallshort/short/50.shodi_0.8/G107/6797ff694ae8c62d46c91cbd21e40f96ae378e58d6fdde71df9b7c7b5a955491_3448.profile']\n",
      "duplicate ERR: ['./data/tree-rep-profiles_o2o_smallshort/small/50.shodi_0.8/G116/00f3b33450e95ba57b6aa0caad1241629ae5cf0993f5314332ab9df659d3e45f_3380.profile', './data/tree-rep-profiles_o2o_smallshort/short/50.shodi_0.8/G116/00f3b33450e95ba57b6aa0caad1241629ae5cf0993f5314332ab9df659d3e45f_3380.profile']\n"
     ]
    },
    {
     "name": "stderr",
     "output_type": "stream",
     "text": [
      "\r",
      " 58%|█████▊    | 92/159 [00:41<00:16,  4.03it/s]"
     ]
    },
    {
     "name": "stdout",
     "output_type": "stream",
     "text": [
      "duplicate ERR: ['./data/tree-rep-profiles_o2o_smallshort/small/50.shodi_0.8/G116/88232b13d16efa06b53d211e568198771148aee0db04f8afcd3de9d51d28f84a_2916.profile', './data/tree-rep-profiles_o2o_smallshort/short/50.shodi_0.8/G116/88232b13d16efa06b53d211e568198771148aee0db04f8afcd3de9d51d28f84a_2916.profile']\n",
      "duplicate ERR: ['./data/tree-rep-profiles_o2o_smallshort/small/50.shodi_0.8/G114/fba2da0a4f689674c6531cd4c96026d8eacc4b4c4bf884d46d63a825b4adda50_3256.profile', './data/tree-rep-profiles_o2o_smallshort/short/50.shodi_0.8/G114/fba2da0a4f689674c6531cd4c96026d8eacc4b4c4bf884d46d63a825b4adda50_3256.profile']\n",
      "duplicate ERR: ['./data/tree-rep-profiles_o2o_smallshort/small/50.shodi_0.8/G114/72645f37041e2a5cccabe14b9dc6efe0cd8cf332a7d773e3802fc49e86a60be1_3200.profile', './data/tree-rep-profiles_o2o_smallshort/short/50.shodi_0.8/G114/72645f37041e2a5cccabe14b9dc6efe0cd8cf332a7d773e3802fc49e86a60be1_3200.profile']\n",
      "duplicate ERR: ['./data/tree-rep-profiles_o2o_smallshort/small/50.shodi_0.8/G104/1307f5c93af90f8abda82dbb680eea559adadf5039964750cb0148a7bc89d320_3376.profile', './data/tree-rep-profiles_o2o_smallshort/short/50.shodi_0.8/G104/1307f5c93af90f8abda82dbb680eea559adadf5039964750cb0148a7bc89d320_3376.profile']\n",
      "duplicate ERR: ['./data/tree-rep-profiles_o2o_smallshort/small/50.shodi_0.8/G104/6d8441c17a39c9e81614a07d6e5b5203f0f43b1669eabce271fe8968f6fa3491_3308.profile', './data/tree-rep-profiles_o2o_smallshort/short/50.shodi_0.8/G104/6d8441c17a39c9e81614a07d6e5b5203f0f43b1669eabce271fe8968f6fa3491_3308.profile']\n",
      "duplicate ERR: ['./data/tree-rep-profiles_o2o_smallshort/small/24.softpulse_0.8/G300/fb26bea6764cf9f2be11f0af0fe9924a48361800c94bb393d3302131ad3be199_3360.profile', './data/tree-rep-profiles_o2o_smallshort/short/24.softpulse_0.8/G300/fb26bea6764cf9f2be11f0af0fe9924a48361800c94bb393d3302131ad3be199_3360.profile']\n",
      "duplicate ERR: ['./data/tree-rep-profiles_o2o_smallshort/small/24.softpulse_0.8/G300/90df5daf5b1510d9722dbf41e0b593bc3e0432e3b8555945df4eee8f3706be50_3224.profile', './data/tree-rep-profiles_o2o_smallshort/short/24.softpulse_0.8/G300/90df5daf5b1510d9722dbf41e0b593bc3e0432e3b8555945df4eee8f3706be50_3224.profile']\n",
      "duplicate ERR: ['./data/tree-rep-profiles_o2o_smallshort/small/24.softpulse_0.8/G310/ea89297e1162cea67fc90bb2cdf357cd6a722b07b06eaf53fa771f4e291c3288_3432.profile', './data/tree-rep-profiles_o2o_smallshort/short/24.softpulse_0.8/G310/ea89297e1162cea67fc90bb2cdf357cd6a722b07b06eaf53fa771f4e291c3288_3432.profile']\n",
      "duplicate ERR: ['./data/tree-rep-profiles_o2o_smallshort/small/24.softpulse_0.8/G310/ea89297e1162cea67fc90bb2cdf357cd6a722b07b06eaf53fa771f4e291c3288_3368.profile', './data/tree-rep-profiles_o2o_smallshort/short/24.softpulse_0.8/G310/ea89297e1162cea67fc90bb2cdf357cd6a722b07b06eaf53fa771f4e291c3288_3368.profile']\n",
      "duplicate ERR: ['./data/tree-rep-profiles_o2o_smallshort/small/24.softpulse_0.8/G261/cbc41d95c669c16a7e1287fcd213c2854298c93f082c1668b53bc4b3e58bf6c5_3272.profile', './data/tree-rep-profiles_o2o_smallshort/short/24.softpulse_0.8/G261/cbc41d95c669c16a7e1287fcd213c2854298c93f082c1668b53bc4b3e58bf6c5_3272.profile']\n",
      "duplicate ERR: ['./data/tree-rep-profiles_o2o_smallshort/small/24.softpulse_0.8/G261/9e077778aa7461c8f0d8b46995e0ee70f91e90508627737422c27b2eb0804839_3352.profile', './data/tree-rep-profiles_o2o_smallshort/short/24.softpulse_0.8/G261/9e077778aa7461c8f0d8b46995e0ee70f91e90508627737422c27b2eb0804839_3352.profile']\n",
      "duplicate ERR: ['./data/tree-rep-profiles_o2o_smallshort/small/24.softpulse_0.8/G306/f670f2e2b3344efd8bfbe763970cc1a0e51df9f996138bda9335772ffb1623a1_3456.profile', './data/tree-rep-profiles_o2o_smallshort/short/24.softpulse_0.8/G306/f670f2e2b3344efd8bfbe763970cc1a0e51df9f996138bda9335772ffb1623a1_3456.profile']\n",
      "duplicate ERR: ['./data/tree-rep-profiles_o2o_smallshort/small/24.softpulse_0.8/G306/b4913425fa50c6d992125a3b7001d6e6b743b9d25e2d355a2bba8c3346134213_3540.profile', './data/tree-rep-profiles_o2o_smallshort/short/24.softpulse_0.8/G306/b4913425fa50c6d992125a3b7001d6e6b743b9d25e2d355a2bba8c3346134213_3540.profile']\n",
      "duplicate ERR: ['./data/tree-rep-profiles_o2o_smallshort/small/24.softpulse_0.8/G298/b4913425fa50c6d992125a3b7001d6e6b743b9d25e2d355a2bba8c3346134213_3432.profile', './data/tree-rep-profiles_o2o_smallshort/short/24.softpulse_0.8/G298/b4913425fa50c6d992125a3b7001d6e6b743b9d25e2d355a2bba8c3346134213_3432.profile']\n",
      "duplicate ERR: ['./data/tree-rep-profiles_o2o_smallshort/small/24.softpulse_0.8/G298/1d0308a817098c631c08a55ad7760ef9ee1a1fe0b3490158f2f937129fdea86c_3368.profile', './data/tree-rep-profiles_o2o_smallshort/short/24.softpulse_0.8/G298/1d0308a817098c631c08a55ad7760ef9ee1a1fe0b3490158f2f937129fdea86c_3368.profile']\n",
      "duplicate ERR: ['./data/tree-rep-profiles_o2o_smallshort/small/24.softpulse_0.8/G267/09966b8339890b325dd0fa16b45b4454cc70127576bec705e08bf0074dfab371_3324.profile', './data/tree-rep-profiles_o2o_smallshort/short/24.softpulse_0.8/G267/09966b8339890b325dd0fa16b45b4454cc70127576bec705e08bf0074dfab371_3324.profile']\n",
      "duplicate ERR: ['./data/tree-rep-profiles_o2o_smallshort/small/24.softpulse_0.8/G267/1299aee2b768bbfde49c5b8440c595e8b00def068a3261bfe3ba8c7cebedd702_3248.profile', './data/tree-rep-profiles_o2o_smallshort/short/24.softpulse_0.8/G267/1299aee2b768bbfde49c5b8440c595e8b00def068a3261bfe3ba8c7cebedd702_3248.profile']\n",
      "duplicate ERR: ['./data/tree-rep-profiles_o2o_smallshort/small/24.softpulse_0.8/G265/b911550d697366b33ef772cdacefb824e021e0f2d66bd69a869a41197680d48c_3384.profile', './data/tree-rep-profiles_o2o_smallshort/short/24.softpulse_0.8/G265/b911550d697366b33ef772cdacefb824e021e0f2d66bd69a869a41197680d48c_3384.profile']\n",
      "duplicate ERR: ['./data/tree-rep-profiles_o2o_smallshort/small/24.softpulse_0.8/G265/b911550d697366b33ef772cdacefb824e021e0f2d66bd69a869a41197680d48c_3272.profile', './data/tree-rep-profiles_o2o_smallshort/short/24.softpulse_0.8/G265/b911550d697366b33ef772cdacefb824e021e0f2d66bd69a869a41197680d48c_3272.profile']\n",
      "duplicate ERR: ['./data/tree-rep-profiles_o2o_smallshort/small/24.softpulse_0.8/G309/fa64483aca434a61dbb95638343628fe58f74f39d19797c3e86c7409bc3eb32b_3368.profile', './data/tree-rep-profiles_o2o_smallshort/short/24.softpulse_0.8/G309/fa64483aca434a61dbb95638343628fe58f74f39d19797c3e86c7409bc3eb32b_3368.profile']\n",
      "duplicate ERR: ['./data/tree-rep-profiles_o2o_smallshort/small/24.softpulse_0.8/G309/fa64483aca434a61dbb95638343628fe58f74f39d19797c3e86c7409bc3eb32b_3388.profile', './data/tree-rep-profiles_o2o_smallshort/short/24.softpulse_0.8/G309/fa64483aca434a61dbb95638343628fe58f74f39d19797c3e86c7409bc3eb32b_3388.profile']\n",
      "duplicate ERR: ['./data/tree-rep-profiles_o2o_smallshort/small/24.softpulse_0.8/G275/2e3bb9cc361708da84852baaff3fb988429b3da8fddf9a2559ae7081789abbdc_2940.profile', './data/tree-rep-profiles_o2o_smallshort/short/24.softpulse_0.8/G275/2e3bb9cc361708da84852baaff3fb988429b3da8fddf9a2559ae7081789abbdc_2940.profile']\n",
      "duplicate ERR: ['./data/tree-rep-profiles_o2o_smallshort/small/24.softpulse_0.8/G275/296f7155808563aacf269b627bbeab2e60e02e6ab1e7d2106fbcc794af835ebb_3376.profile', './data/tree-rep-profiles_o2o_smallshort/short/24.softpulse_0.8/G275/296f7155808563aacf269b627bbeab2e60e02e6ab1e7d2106fbcc794af835ebb_3376.profile']\n",
      "duplicate ERR: ['./data/tree-rep-profiles_o2o_smallshort/small/24.softpulse_0.8/G291/1094c23b2dc7453efe9822c57dfcc4dcbe0a098f8805cde9fde1bb5cc36944f0_3304.profile', './data/tree-rep-profiles_o2o_smallshort/short/24.softpulse_0.8/G291/1094c23b2dc7453efe9822c57dfcc4dcbe0a098f8805cde9fde1bb5cc36944f0_3304.profile']\n",
      "duplicate ERR: ['./data/tree-rep-profiles_o2o_smallshort/small/24.softpulse_0.8/G291/506c3aefdf7079e5b6c9bc9f0fdaedd2163d035e6625864b63665f1d1749ae84_3320.profile', './data/tree-rep-profiles_o2o_smallshort/short/24.softpulse_0.8/G291/506c3aefdf7079e5b6c9bc9f0fdaedd2163d035e6625864b63665f1d1749ae84_3320.profile']\n",
      "duplicate ERR: ['./data/tree-rep-profiles_o2o_smallshort/small/24.softpulse_0.8/G274/151301b746352db61e048a2bd280117b3127a4d731a5707f84b8be84beccb7b6_3276.profile', './data/tree-rep-profiles_o2o_smallshort/short/24.softpulse_0.8/G274/151301b746352db61e048a2bd280117b3127a4d731a5707f84b8be84beccb7b6_3276.profile']\n",
      "duplicate ERR: ['./data/tree-rep-profiles_o2o_smallshort/small/24.softpulse_0.8/G274/151301b746352db61e048a2bd280117b3127a4d731a5707f84b8be84beccb7b6_2976.profile', './data/tree-rep-profiles_o2o_smallshort/short/24.softpulse_0.8/G274/151301b746352db61e048a2bd280117b3127a4d731a5707f84b8be84beccb7b6_2976.profile']\n",
      "duplicate ERR: ['./data/tree-rep-profiles_o2o_smallshort/small/24.softpulse_0.8/G271/e333239c6abfeb82cf01a093f3b4cabed336c92686d618d922d5bfaf4abd0564_3236.profile', './data/tree-rep-profiles_o2o_smallshort/short/24.softpulse_0.8/G271/e333239c6abfeb82cf01a093f3b4cabed336c92686d618d922d5bfaf4abd0564_3236.profile']\n",
      "duplicate ERR: ['./data/tree-rep-profiles_o2o_smallshort/small/24.softpulse_0.8/G271/7b53c5eb3b2aa202993dba0a6165e00c0496e58434290615a5facc345b62af87_3264.profile', './data/tree-rep-profiles_o2o_smallshort/short/24.softpulse_0.8/G271/7b53c5eb3b2aa202993dba0a6165e00c0496e58434290615a5facc345b62af87_3264.profile']\n",
      "duplicate ERR: ['./data/tree-rep-profiles_o2o_smallshort/small/24.softpulse_0.8/G307/cef9ebca9a030319877ea1c3d12562806ea2e655c117143524e9c48e314af6ad_3360.profile', './data/tree-rep-profiles_o2o_smallshort/short/24.softpulse_0.8/G307/cef9ebca9a030319877ea1c3d12562806ea2e655c117143524e9c48e314af6ad_3360.profile']\n",
      "duplicate ERR: ['./data/tree-rep-profiles_o2o_smallshort/small/24.softpulse_0.8/G307/bbf29bd54aeff7ff6d53dad26b5378dcc8b06705e7ba7e367a9230e5ae28c35a_3260.profile', './data/tree-rep-profiles_o2o_smallshort/short/24.softpulse_0.8/G307/bbf29bd54aeff7ff6d53dad26b5378dcc8b06705e7ba7e367a9230e5ae28c35a_3260.profile']\n",
      "duplicate ERR: ['./data/tree-rep-profiles_o2o_smallshort/small/24.softpulse_0.8/G299/8de65d34a431182ae5f75b3b77b20c9611e1bcd81518d68836a3693feba7fbd1_3316.profile', './data/tree-rep-profiles_o2o_smallshort/short/24.softpulse_0.8/G299/8de65d34a431182ae5f75b3b77b20c9611e1bcd81518d68836a3693feba7fbd1_3316.profile']\n"
     ]
    },
    {
     "name": "stdout",
     "output_type": "stream",
     "text": [
      "duplicate ERR: ['./data/tree-rep-profiles_o2o_smallshort/small/24.softpulse_0.8/G299/09966b8339890b325dd0fa16b45b4454cc70127576bec705e08bf0074dfab371_3404.profile', './data/tree-rep-profiles_o2o_smallshort/short/24.softpulse_0.8/G299/09966b8339890b325dd0fa16b45b4454cc70127576bec705e08bf0074dfab371_3404.profile']\n",
      "duplicate ERR: ['./data/tree-rep-profiles_o2o_smallshort/small/24.softpulse_0.8/G266/37b5e23ff2520a05b93c0d9814de6842f9382f036c8b55730d8e0ce6fb6c812f_3300.profile', './data/tree-rep-profiles_o2o_smallshort/short/24.softpulse_0.8/G266/37b5e23ff2520a05b93c0d9814de6842f9382f036c8b55730d8e0ce6fb6c812f_3300.profile']\n",
      "duplicate ERR: ['./data/tree-rep-profiles_o2o_smallshort/small/24.softpulse_0.8/G266/6c8d32b6955151250ca82735532aef5d64ddb60fad8e5d42661ee1fbad3c206e_3288.profile', './data/tree-rep-profiles_o2o_smallshort/short/24.softpulse_0.8/G266/6c8d32b6955151250ca82735532aef5d64ddb60fad8e5d42661ee1fbad3c206e_3288.profile']\n",
      "duplicate ERR: ['./data/tree-rep-profiles_o2o_smallshort/small/24.softpulse_0.8/G308/296f7155808563aacf269b627bbeab2e60e02e6ab1e7d2106fbcc794af835ebb_3400.profile', './data/tree-rep-profiles_o2o_smallshort/short/24.softpulse_0.8/G308/296f7155808563aacf269b627bbeab2e60e02e6ab1e7d2106fbcc794af835ebb_3400.profile']\n",
      "duplicate ERR: ['./data/tree-rep-profiles_o2o_smallshort/small/24.softpulse_0.8/G308/2e3bb9cc361708da84852baaff3fb988429b3da8fddf9a2559ae7081789abbdc_2972.profile', './data/tree-rep-profiles_o2o_smallshort/short/24.softpulse_0.8/G308/2e3bb9cc361708da84852baaff3fb988429b3da8fddf9a2559ae7081789abbdc_2972.profile']\n",
      "duplicate ERR: ['./data/tree-rep-profiles_o2o_smallshort/small/24.softpulse_0.8/G276/151301b746352db61e048a2bd280117b3127a4d731a5707f84b8be84beccb7b6_2908.profile', './data/tree-rep-profiles_o2o_smallshort/short/24.softpulse_0.8/G276/151301b746352db61e048a2bd280117b3127a4d731a5707f84b8be84beccb7b6_2908.profile']\n",
      "duplicate ERR: ['./data/tree-rep-profiles_o2o_smallshort/small/24.softpulse_0.8/G276/151301b746352db61e048a2bd280117b3127a4d731a5707f84b8be84beccb7b6_3208.profile', './data/tree-rep-profiles_o2o_smallshort/short/24.softpulse_0.8/G276/151301b746352db61e048a2bd280117b3127a4d731a5707f84b8be84beccb7b6_3208.profile']\n",
      "duplicate ERR: ['./data/tree-rep-profiles_o2o_smallshort/small/24.softpulse_0.8/G305/a584f44053d93c69fb9c21d799a831246efc0f58d6023b4c73c97a75a1f0d5c4_3152.profile', './data/tree-rep-profiles_o2o_smallshort/short/24.softpulse_0.8/G305/a584f44053d93c69fb9c21d799a831246efc0f58d6023b4c73c97a75a1f0d5c4_3152.profile']\n"
     ]
    },
    {
     "name": "stderr",
     "output_type": "stream",
     "text": [
      " 59%|█████▉    | 94/159 [00:42<00:23,  2.77it/s]"
     ]
    },
    {
     "name": "stdout",
     "output_type": "stream",
     "text": [
      "duplicate ERR: ['./data/tree-rep-profiles_o2o_smallshort/small/24.softpulse_0.8/G305/a584f44053d93c69fb9c21d799a831246efc0f58d6023b4c73c97a75a1f0d5c4_2952.profile', './data/tree-rep-profiles_o2o_smallshort/short/24.softpulse_0.8/G305/a584f44053d93c69fb9c21d799a831246efc0f58d6023b4c73c97a75a1f0d5c4_2952.profile']\n",
      "duplicate ERR: ['./data/tree-rep-profiles_o2o_smallshort/small/156.hybris_0.8/G15/c01b7ef6c74e2d78fe8e6d804c08c38fe19d748f1a7ec04bef0b193ea94a95d4_3280.profile', './data/tree-rep-profiles_o2o_smallshort/short/156.hybris_0.8/G15/c01b7ef6c74e2d78fe8e6d804c08c38fe19d748f1a7ec04bef0b193ea94a95d4_3280.profile']\n",
      "duplicate ERR: ['./data/tree-rep-profiles_o2o_smallshort/small/156.hybris_0.8/G15/c01b7ef6c74e2d78fe8e6d804c08c38fe19d748f1a7ec04bef0b193ea94a95d4_3288.profile', './data/tree-rep-profiles_o2o_smallshort/short/156.hybris_0.8/G15/c01b7ef6c74e2d78fe8e6d804c08c38fe19d748f1a7ec04bef0b193ea94a95d4_3288.profile']\n",
      "duplicate ERR: ['./data/tree-rep-profiles_o2o_smallshort/small/156.hybris_0.8/G17/f171f3ca31b2adad0480f987cdef5980324be3f166e6e364a80f94ea6a3bab30_2964.profile', './data/tree-rep-profiles_o2o_smallshort/short/156.hybris_0.8/G17/f171f3ca31b2adad0480f987cdef5980324be3f166e6e364a80f94ea6a3bab30_2964.profile']\n",
      "duplicate ERR: ['./data/tree-rep-profiles_o2o_smallshort/small/156.hybris_0.8/G17/910e11291f0eeadca2e3da58cea0d7ea5e90f370451657f5cdfe477f910af7c6_2916.profile', './data/tree-rep-profiles_o2o_smallshort/short/156.hybris_0.8/G17/910e11291f0eeadca2e3da58cea0d7ea5e90f370451657f5cdfe477f910af7c6_2916.profile']\n",
      "duplicate ERR: ['./data/tree-rep-profiles_o2o_smallshort/small/156.hybris_0.8/G18/1b92fb7dc642f7ad17c938516959a73166635925b7cf95f4613032809ce28331_3188.profile', './data/tree-rep-profiles_o2o_smallshort/short/156.hybris_0.8/G18/1b92fb7dc642f7ad17c938516959a73166635925b7cf95f4613032809ce28331_3188.profile']\n",
      "duplicate ERR: ['./data/tree-rep-profiles_o2o_smallshort/small/156.hybris_0.8/G18/ea85082563099d730a63f0bb0e2c1cb77e3b8d066f2e4de0e2221126248575d7_2940.profile', './data/tree-rep-profiles_o2o_smallshort/short/156.hybris_0.8/G18/ea85082563099d730a63f0bb0e2c1cb77e3b8d066f2e4de0e2221126248575d7_2940.profile']\n",
      "duplicate ERR: ['./data/tree-rep-profiles_o2o_smallshort/small/141.peed_0.8/G16/3a5340e1021da93a9573356e0ac907f681cd67fb4080367debc3b7f59a38d177_3248.profile', './data/tree-rep-profiles_o2o_smallshort/short/141.peed_0.8/G16/3a5340e1021da93a9573356e0ac907f681cd67fb4080367debc3b7f59a38d177_3248.profile']\n"
     ]
    },
    {
     "name": "stderr",
     "output_type": "stream",
     "text": [
      "\r",
      " 61%|██████    | 97/159 [00:42<00:16,  3.72it/s]"
     ]
    },
    {
     "name": "stdout",
     "output_type": "stream",
     "text": [
      "duplicate ERR: ['./data/tree-rep-profiles_o2o_smallshort/small/141.peed_0.8/G16/4d01977288aa6100f0d8d002254ed9305cad43af38b78e344f699f88460f002d_3204.profile', './data/tree-rep-profiles_o2o_smallshort/short/141.peed_0.8/G16/4d01977288aa6100f0d8d002254ed9305cad43af38b78e344f699f88460f002d_3204.profile']\n",
      "duplicate ERR: ['./data/tree-rep-profiles_o2o_smallshort/small/163.klez_0.8/G19/0e2c1db70d7a5cadf48450a335801b4ff3fe59c9a515b86991a8e330d4d0f8dd_2980.profile', './data/tree-rep-profiles_o2o_smallshort/short/163.klez_0.8/G19/0e2c1db70d7a5cadf48450a335801b4ff3fe59c9a515b86991a8e330d4d0f8dd_2980.profile']\n",
      "duplicate ERR: ['./data/tree-rep-profiles_o2o_smallshort/small/163.klez_0.8/G19/5dbb412278f4c58f28ad8d40ecf2a92f277acdd9738723804f9935b489ea5222_3448.profile', './data/tree-rep-profiles_o2o_smallshort/short/163.klez_0.8/G19/5dbb412278f4c58f28ad8d40ecf2a92f277acdd9738723804f9935b489ea5222_3448.profile']\n",
      "duplicate ERR: ['./data/tree-rep-profiles_o2o_smallshort/small/163.klez_0.8/G18/5dbb412278f4c58f28ad8d40ecf2a92f277acdd9738723804f9935b489ea5222_3440.profile', './data/tree-rep-profiles_o2o_smallshort/short/163.klez_0.8/G18/5dbb412278f4c58f28ad8d40ecf2a92f277acdd9738723804f9935b489ea5222_3440.profile']\n",
      "duplicate ERR: ['./data/tree-rep-profiles_o2o_smallshort/small/163.klez_0.8/G18/5dbb412278f4c58f28ad8d40ecf2a92f277acdd9738723804f9935b489ea5222_3304.profile', './data/tree-rep-profiles_o2o_smallshort/short/163.klez_0.8/G18/5dbb412278f4c58f28ad8d40ecf2a92f277acdd9738723804f9935b489ea5222_3304.profile']\n",
      "duplicate ERR: ['./data/tree-rep-profiles_o2o_smallshort/small/96.pcclient_0.8/G60/015b2b128ec72d26214a62aee6cd67ccacdb94c32476881cda923e580b375831_3200.profile', './data/tree-rep-profiles_o2o_smallshort/short/96.pcclient_0.8/G60/015b2b128ec72d26214a62aee6cd67ccacdb94c32476881cda923e580b375831_3200.profile']\n",
      "duplicate ERR: ['./data/tree-rep-profiles_o2o_smallshort/small/96.pcclient_0.8/G60/05f98c68a413858d7a8e96f3a6935e8569c303a20671c20fac484a39183939e1_3252.profile', './data/tree-rep-profiles_o2o_smallshort/short/96.pcclient_0.8/G60/05f98c68a413858d7a8e96f3a6935e8569c303a20671c20fac484a39183939e1_3252.profile']\n",
      "duplicate ERR: ['./data/tree-rep-profiles_o2o_smallshort/small/96.pcclient_0.8/G59/11ef6e1eea01d0691b53fca04a6b01c685a5c9a0649b84ffab353a8671be82b8_2848.profile', './data/tree-rep-profiles_o2o_smallshort/short/96.pcclient_0.8/G59/11ef6e1eea01d0691b53fca04a6b01c685a5c9a0649b84ffab353a8671be82b8_2848.profile']\n"
     ]
    },
    {
     "name": "stderr",
     "output_type": "stream",
     "text": [
      " 63%|██████▎   | 100/159 [00:42<00:09,  5.94it/s]"
     ]
    },
    {
     "name": "stdout",
     "output_type": "stream",
     "text": [
      "duplicate ERR: ['./data/tree-rep-profiles_o2o_smallshort/small/96.pcclient_0.8/G59/067ca6e5ef90ee6a39d13cc9dea33397fff61e8effc0c9bd8b7b15e6e78c7c7e_2984.profile', './data/tree-rep-profiles_o2o_smallshort/short/96.pcclient_0.8/G59/067ca6e5ef90ee6a39d13cc9dea33397fff61e8effc0c9bd8b7b15e6e78c7c7e_2984.profile']\n",
      "duplicate ERR: ['./data/tree-rep-profiles_o2o_smallshort/small/88.rebhip_0.8/G38/f90c2402558c2c5b1f49b253d4720a27173ace0ce918d4bb5df6e2a1d34c3ee9_3384.profile', './data/tree-rep-profiles_o2o_smallshort/short/88.rebhip_0.8/G38/f90c2402558c2c5b1f49b253d4720a27173ace0ce918d4bb5df6e2a1d34c3ee9_3384.profile']\n",
      "duplicate ERR: ['./data/tree-rep-profiles_o2o_smallshort/small/88.rebhip_0.8/G38/47a67899bb326c546464bce22fbec6247177b81f3a04384e80f598e43c7d0234_3232.profile', './data/tree-rep-profiles_o2o_smallshort/short/88.rebhip_0.8/G38/47a67899bb326c546464bce22fbec6247177b81f3a04384e80f598e43c7d0234_3232.profile']\n",
      "duplicate ERR: ['./data/tree-rep-profiles_o2o_smallshort/small/60.mydoom_0.8/G100/0c46328b2fbb0e1d8cfaec89efef485c9e741a2951507e2436eae6f7a0e58762_3264.profile', './data/tree-rep-profiles_o2o_smallshort/short/60.mydoom_0.8/G100/0c46328b2fbb0e1d8cfaec89efef485c9e741a2951507e2436eae6f7a0e58762_3264.profile']\n",
      "duplicate ERR: ['./data/tree-rep-profiles_o2o_smallshort/small/60.mydoom_0.8/G100/0d82f0994d09e7b8c3aeeb1e6df7705741a418a057150432f0f13eb7f9909c24_3384.profile', './data/tree-rep-profiles_o2o_smallshort/short/60.mydoom_0.8/G100/0d82f0994d09e7b8c3aeeb1e6df7705741a418a057150432f0f13eb7f9909c24_3384.profile']\n",
      "duplicate ERR: ['./data/tree-rep-profiles_o2o_smallshort/small/176.brontok_0.8/G38/013ef7ab4bda626489e7188615124544218b7696846283b222d472d69d00a236_2976.profile', './data/tree-rep-profiles_o2o_smallshort/short/176.brontok_0.8/G38/013ef7ab4bda626489e7188615124544218b7696846283b222d472d69d00a236_2976.profile']\n",
      "duplicate ERR: ['./data/tree-rep-profiles_o2o_smallshort/small/176.brontok_0.8/G38/030e6b21f04ee028cc3702d58344f61e4a1f662e213493502a04121f83103412_2968.profile', './data/tree-rep-profiles_o2o_smallshort/short/176.brontok_0.8/G38/030e6b21f04ee028cc3702d58344f61e4a1f662e213493502a04121f83103412_2968.profile']\n",
      "duplicate ERR: ['./data/tree-rep-profiles_o2o_smallshort/small/176.brontok_0.8/G35/2ceba9babb27c73a13f7f5c53248909e8b819d1283b571da097c68b1bcb73d5c_3304.profile', './data/tree-rep-profiles_o2o_smallshort/short/176.brontok_0.8/G35/2ceba9babb27c73a13f7f5c53248909e8b819d1283b571da097c68b1bcb73d5c_3304.profile']\n",
      "duplicate ERR: ['./data/tree-rep-profiles_o2o_smallshort/small/176.brontok_0.8/G35/2ceba9babb27c73a13f7f5c53248909e8b819d1283b571da097c68b1bcb73d5c_3340.profile', './data/tree-rep-profiles_o2o_smallshort/short/176.brontok_0.8/G35/2ceba9babb27c73a13f7f5c53248909e8b819d1283b571da097c68b1bcb73d5c_3340.profile']\n",
      "duplicate ERR: ['./data/tree-rep-profiles_o2o_smallshort/small/176.brontok_0.8/G37/013ef7ab4bda626489e7188615124544218b7696846283b222d472d69d00a236_2944.profile', './data/tree-rep-profiles_o2o_smallshort/short/176.brontok_0.8/G37/013ef7ab4bda626489e7188615124544218b7696846283b222d472d69d00a236_2944.profile']\n",
      "duplicate ERR: ['./data/tree-rep-profiles_o2o_smallshort/small/176.brontok_0.8/G37/030e6b21f04ee028cc3702d58344f61e4a1f662e213493502a04121f83103412_2944.profile', './data/tree-rep-profiles_o2o_smallshort/short/176.brontok_0.8/G37/030e6b21f04ee028cc3702d58344f61e4a1f662e213493502a04121f83103412_2944.profile']\n",
      "duplicate ERR: ['./data/tree-rep-profiles_o2o_smallshort/small/86.bettersurf_0.8/G38/6788ca60bd98ae6b1af992d4a765754815d81396b0015c72f310a06c161ad8cf_3324.profile', './data/tree-rep-profiles_o2o_smallshort/short/86.bettersurf_0.8/G38/6788ca60bd98ae6b1af992d4a765754815d81396b0015c72f310a06c161ad8cf_3324.profile']\n",
      "duplicate ERR: ['./data/tree-rep-profiles_o2o_smallshort/small/86.bettersurf_0.8/G38/69d05b062deec636f813564877ab3c9462957bc2a6c43801b4f6159291a81c87_3340.profile', './data/tree-rep-profiles_o2o_smallshort/short/86.bettersurf_0.8/G38/69d05b062deec636f813564877ab3c9462957bc2a6c43801b4f6159291a81c87_3340.profile']\n",
      "duplicate ERR: ['./data/tree-rep-profiles_o2o_smallshort/small/86.bettersurf_0.8/G35/e9aead69c3d6c8b7546aeec10c0667dec5d7201eb5b383366535bfe67d943a8f_3200.profile', './data/tree-rep-profiles_o2o_smallshort/short/86.bettersurf_0.8/G35/e9aead69c3d6c8b7546aeec10c0667dec5d7201eb5b383366535bfe67d943a8f_3200.profile']\n",
      "duplicate ERR: ['./data/tree-rep-profiles_o2o_smallshort/small/86.bettersurf_0.8/G35/e9aead69c3d6c8b7546aeec10c0667dec5d7201eb5b383366535bfe67d943a8f_3368.profile', './data/tree-rep-profiles_o2o_smallshort/short/86.bettersurf_0.8/G35/e9aead69c3d6c8b7546aeec10c0667dec5d7201eb5b383366535bfe67d943a8f_3368.profile']\n",
      "duplicate ERR: ['./data/tree-rep-profiles_o2o_smallshort/small/86.bettersurf_0.8/G37/e391c5adca54b81a4a42ac1d445ee6435d7663e71fe1379bc1c90ed3cb3fe9e5_3376.profile', './data/tree-rep-profiles_o2o_smallshort/short/86.bettersurf_0.8/G37/e391c5adca54b81a4a42ac1d445ee6435d7663e71fe1379bc1c90ed3cb3fe9e5_3376.profile']\n"
     ]
    },
    {
     "name": "stderr",
     "output_type": "stream",
     "text": [
      "\r",
      " 64%|██████▍   | 102/159 [00:42<00:09,  5.81it/s]"
     ]
    },
    {
     "name": "stdout",
     "output_type": "stream",
     "text": [
      "duplicate ERR: ['./data/tree-rep-profiles_o2o_smallshort/small/86.bettersurf_0.8/G37/ab6a296e963acb670fe5f613291f7fb3223d99931221e4b9610bf5b313336a72_3348.profile', './data/tree-rep-profiles_o2o_smallshort/short/86.bettersurf_0.8/G37/ab6a296e963acb670fe5f613291f7fb3223d99931221e4b9610bf5b313336a72_3348.profile']\n",
      "duplicate ERR: ['./data/tree-rep-profiles_o2o_smallshort/small/86.bettersurf_0.8/G33/9377a113aeb0f0fab564fcdd83b7c0b2beec73b472974c30c1b4882173618608_3412.profile', './data/tree-rep-profiles_o2o_smallshort/short/86.bettersurf_0.8/G33/9377a113aeb0f0fab564fcdd83b7c0b2beec73b472974c30c1b4882173618608_3412.profile']\n",
      "duplicate ERR: ['./data/tree-rep-profiles_o2o_smallshort/small/86.bettersurf_0.8/G33/5b689a08663ca42ce6f51d3e03508530beedf6f145c5461a3b0940ef406e09af_3340.profile', './data/tree-rep-profiles_o2o_smallshort/short/86.bettersurf_0.8/G33/5b689a08663ca42ce6f51d3e03508530beedf6f145c5461a3b0940ef406e09af_3340.profile']\n",
      "duplicate ERR: ['./data/tree-rep-profiles_o2o_smallshort/small/130.otwycal_0.8/G24/71aa24c0b350750c0720cc5d628fac6714e6b4caab36a2045a200540ff02c337_3320.profile', './data/tree-rep-profiles_o2o_smallshort/short/130.otwycal_0.8/G24/71aa24c0b350750c0720cc5d628fac6714e6b4caab36a2045a200540ff02c337_3320.profile']\n",
      "duplicate ERR: ['./data/tree-rep-profiles_o2o_smallshort/small/130.otwycal_0.8/G24/71aa24c0b350750c0720cc5d628fac6714e6b4caab36a2045a200540ff02c337_3272.profile', './data/tree-rep-profiles_o2o_smallshort/short/130.otwycal_0.8/G24/71aa24c0b350750c0720cc5d628fac6714e6b4caab36a2045a200540ff02c337_3272.profile']\n",
      "duplicate ERR: ['./data/tree-rep-profiles_o2o_smallshort/small/130.otwycal_0.8/G22/1f82a79e0c043d57d01dc66b5d73f6cba4bb6549aedeb4f2336f4d48a4da9c7e_2924.profile', './data/tree-rep-profiles_o2o_smallshort/short/130.otwycal_0.8/G22/1f82a79e0c043d57d01dc66b5d73f6cba4bb6549aedeb4f2336f4d48a4da9c7e_2924.profile']\n",
      "duplicate ERR: ['./data/tree-rep-profiles_o2o_smallshort/small/130.otwycal_0.8/G22/6f6841dacb5baa3f3fc946a91b162649dd56052e46f4e8abc517af1d683ebbc4_3300.profile', './data/tree-rep-profiles_o2o_smallshort/short/130.otwycal_0.8/G22/6f6841dacb5baa3f3fc946a91b162649dd56052e46f4e8abc517af1d683ebbc4_3300.profile']\n",
      "duplicate ERR: ['./data/tree-rep-profiles_o2o_smallshort/small/130.otwycal_0.8/G23/2ba454f0b03e93b6957cd3033905b7f10781ae008e8fe75397f4be5836a230a0_3348.profile', './data/tree-rep-profiles_o2o_smallshort/short/130.otwycal_0.8/G23/2ba454f0b03e93b6957cd3033905b7f10781ae008e8fe75397f4be5836a230a0_3348.profile']\n",
      "duplicate ERR: ['./data/tree-rep-profiles_o2o_smallshort/small/130.otwycal_0.8/G23/50b1f17acca36b1d80dda6694f1d0a1b9e7db1aa91f35007abc68b219bea50ff_3360.profile', './data/tree-rep-profiles_o2o_smallshort/short/130.otwycal_0.8/G23/50b1f17acca36b1d80dda6694f1d0a1b9e7db1aa91f35007abc68b219bea50ff_3360.profile']\n"
     ]
    },
    {
     "name": "stderr",
     "output_type": "stream",
     "text": [
      "\r",
      " 65%|██████▌   | 104/159 [00:43<00:08,  6.36it/s]"
     ]
    },
    {
     "name": "stdout",
     "output_type": "stream",
     "text": [
      "duplicate ERR: ['./data/tree-rep-profiles_o2o_smallshort/small/81.kryptik_0.8/G37/01cb779ee5a66031229ffab8bb2c8671aaae0b9a340dd5bf94faf3c83551851a_3364.profile', './data/tree-rep-profiles_o2o_smallshort/short/81.kryptik_0.8/G37/01cb779ee5a66031229ffab8bb2c8671aaae0b9a340dd5bf94faf3c83551851a_3364.profile']\n",
      "duplicate ERR: ['./data/tree-rep-profiles_o2o_smallshort/small/81.kryptik_0.8/G37/1cfbcc3ddf509dde72de1a3fb132ca7bcf3130d1507f67e7a29bfaaa91c01368_3356.profile', './data/tree-rep-profiles_o2o_smallshort/short/81.kryptik_0.8/G37/1cfbcc3ddf509dde72de1a3fb132ca7bcf3130d1507f67e7a29bfaaa91c01368_3356.profile']\n",
      "duplicate ERR: ['./data/tree-rep-profiles_o2o_smallshort/small/81.kryptik_0.8/G36/0e29f6e0f1b908b4b551815e99359c3905d1093d1795805c23b752651b3510f8_3452.profile', './data/tree-rep-profiles_o2o_smallshort/short/81.kryptik_0.8/G36/0e29f6e0f1b908b4b551815e99359c3905d1093d1795805c23b752651b3510f8_3452.profile']\n",
      "duplicate ERR: ['./data/tree-rep-profiles_o2o_smallshort/small/81.kryptik_0.8/G36/0b5d6116ece03283c3be2f27cf4ee99447349bd8fecf8ebf5b22c012a0478718_3360.profile', './data/tree-rep-profiles_o2o_smallshort/short/81.kryptik_0.8/G36/0b5d6116ece03283c3be2f27cf4ee99447349bd8fecf8ebf5b22c012a0478718_3360.profile']\n",
      "duplicate ERR: ['./data/tree-rep-profiles_o2o_smallshort/small/218.urelas_0.8/G16/8c683a7d769e30e150943a3e92faf686fd1a61fb29f6d9e51812133068d6d698_3492.profile', './data/tree-rep-profiles_o2o_smallshort/short/218.urelas_0.8/G16/8c683a7d769e30e150943a3e92faf686fd1a61fb29f6d9e51812133068d6d698_3492.profile']\n",
      "duplicate ERR: ['./data/tree-rep-profiles_o2o_smallshort/small/218.urelas_0.8/G16/8c683a7d769e30e150943a3e92faf686fd1a61fb29f6d9e51812133068d6d698_3460.profile', './data/tree-rep-profiles_o2o_smallshort/short/218.urelas_0.8/G16/8c683a7d769e30e150943a3e92faf686fd1a61fb29f6d9e51812133068d6d698_3460.profile']\n",
      "duplicate ERR: ['./data/tree-rep-profiles_o2o_smallshort/small/114.rbot_0.8/G33/0d83c294346ba0d5547ba4abe83c87fe4878c6bc3149b23b084f61a840278432_3412.profile', './data/tree-rep-profiles_o2o_smallshort/short/114.rbot_0.8/G33/0d83c294346ba0d5547ba4abe83c87fe4878c6bc3149b23b084f61a840278432_3412.profile']\n",
      "duplicate ERR: ['./data/tree-rep-profiles_o2o_smallshort/small/114.rbot_0.8/G33/14b4cc2e21a3078d7ec47ec6c79433b25f68fc8e8ff500b2eb83ada9ca115256_2852.profile', './data/tree-rep-profiles_o2o_smallshort/short/114.rbot_0.8/G33/14b4cc2e21a3078d7ec47ec6c79433b25f68fc8e8ff500b2eb83ada9ca115256_2852.profile']\n",
      "duplicate ERR: ['./data/tree-rep-profiles_o2o_smallshort/small/123.almanahe_0.8/G25/20f6b77d9c8e229a3409d2665d8a2a2a08166e5aa7a24e81d47782b822021099_3228.profile', './data/tree-rep-profiles_o2o_smallshort/short/123.almanahe_0.8/G25/20f6b77d9c8e229a3409d2665d8a2a2a08166e5aa7a24e81d47782b822021099_3228.profile']\n"
     ]
    },
    {
     "name": "stderr",
     "output_type": "stream",
     "text": [
      "\r",
      " 67%|██████▋   | 107/159 [00:43<00:06,  7.72it/s]"
     ]
    },
    {
     "name": "stdout",
     "output_type": "stream",
     "text": [
      "duplicate ERR: ['./data/tree-rep-profiles_o2o_smallshort/small/123.almanahe_0.8/G25/d0c7def44409070ec0cad3fdb96830cb235996c7ba3a96f3820a3441ea093e7d_3312.profile', './data/tree-rep-profiles_o2o_smallshort/short/123.almanahe_0.8/G25/d0c7def44409070ec0cad3fdb96830cb235996c7ba3a96f3820a3441ea093e7d_3312.profile']\n",
      "duplicate ERR: ['./data/tree-rep-profiles_o2o_smallshort/small/123.almanahe_0.8/G26/1f74101d8839bdf0d10d2860ac030e5205473c755e2d28e500dca88d83186413_3196.profile', './data/tree-rep-profiles_o2o_smallshort/short/123.almanahe_0.8/G26/1f74101d8839bdf0d10d2860ac030e5205473c755e2d28e500dca88d83186413_3196.profile']\n",
      "duplicate ERR: ['./data/tree-rep-profiles_o2o_smallshort/small/123.almanahe_0.8/G26/1ef569f1f3eb1831714a5e22a43caac0b833523ed7780de60793233d2894dde1_3308.profile', './data/tree-rep-profiles_o2o_smallshort/short/123.almanahe_0.8/G26/1ef569f1f3eb1831714a5e22a43caac0b833523ed7780de60793233d2894dde1_3308.profile']\n",
      "duplicate ERR: ['./data/tree-rep-profiles_o2o_smallshort/small/58.picsys_0.8/G83/1d412bf05daa56c23b56eaef0b407c1e36ab36f7372ea720043d48b483cc2737_3436.profile', './data/tree-rep-profiles_o2o_smallshort/short/58.picsys_0.8/G83/1d412bf05daa56c23b56eaef0b407c1e36ab36f7372ea720043d48b483cc2737_3436.profile']\n",
      "duplicate ERR: ['./data/tree-rep-profiles_o2o_smallshort/small/58.picsys_0.8/G83/a134d970dbeb3cc5a3c0b3f49d90d3a9cff3f018a0ec30190f94b3a489dfde8e_2900.profile', './data/tree-rep-profiles_o2o_smallshort/short/58.picsys_0.8/G83/a134d970dbeb3cc5a3c0b3f49d90d3a9cff3f018a0ec30190f94b3a489dfde8e_2900.profile']\n",
      "duplicate ERR: ['./data/tree-rep-profiles_o2o_smallshort/small/54.fesber_0.8/G329/0b713fda789d0bcc4fd09bd328620551837430a0a41fa0f3e4e69393d6a53ccb_2916.profile', './data/tree-rep-profiles_o2o_smallshort/short/54.fesber_0.8/G329/0b713fda789d0bcc4fd09bd328620551837430a0a41fa0f3e4e69393d6a53ccb_2916.profile']\n",
      "duplicate ERR: ['./data/tree-rep-profiles_o2o_smallshort/small/54.fesber_0.8/G329/09d4717306c38e3122717acdfcdd3c686c34f87524e38d19e3f80e108fd2a70e_2844.profile', './data/tree-rep-profiles_o2o_smallshort/short/54.fesber_0.8/G329/09d4717306c38e3122717acdfcdd3c686c34f87524e38d19e3f80e108fd2a70e_2844.profile']\n",
      "duplicate ERR: ['./data/tree-rep-profiles_o2o_smallshort/small/54.fesber_0.8/G330/080d7adda14e0fdde2c22ceefc79603b0d0238ee8910749ab6a42f27ad33d81b_3268.profile', './data/tree-rep-profiles_o2o_smallshort/short/54.fesber_0.8/G330/080d7adda14e0fdde2c22ceefc79603b0d0238ee8910749ab6a42f27ad33d81b_3268.profile']\n",
      "duplicate ERR: ['./data/tree-rep-profiles_o2o_smallshort/small/54.fesber_0.8/G330/0cad98a13448b533102fe2db170e2af7d89b5d944d6cb40775868ded9b0a9d7c_3356.profile', './data/tree-rep-profiles_o2o_smallshort/short/54.fesber_0.8/G330/0cad98a13448b533102fe2db170e2af7d89b5d944d6cb40775868ded9b0a9d7c_3356.profile']\n",
      "duplicate ERR: ['./data/tree-rep-profiles_o2o_smallshort/small/54.fesber_0.8/G340/151dcb0d1c760edb5002769a6abdf79831addce3d4fdd51b3f151c02483115a5_3220.profile', './data/tree-rep-profiles_o2o_smallshort/short/54.fesber_0.8/G340/151dcb0d1c760edb5002769a6abdf79831addce3d4fdd51b3f151c02483115a5_3220.profile']\n",
      "duplicate ERR: ['./data/tree-rep-profiles_o2o_smallshort/small/54.fesber_0.8/G340/0c30737022318f1e8291336d06f9822848fb8efe6c9e4ad2adffdd829f34c667_3416.profile', './data/tree-rep-profiles_o2o_smallshort/short/54.fesber_0.8/G340/0c30737022318f1e8291336d06f9822848fb8efe6c9e4ad2adffdd829f34c667_3416.profile']\n",
      "duplicate ERR: ['./data/tree-rep-profiles_o2o_smallshort/small/54.fesber_0.8/G325/14d7fe211331d2d461d7679d98b5d291d8c6edc6e8886c6835c586a4edf0b1fe_3284.profile', './data/tree-rep-profiles_o2o_smallshort/short/54.fesber_0.8/G325/14d7fe211331d2d461d7679d98b5d291d8c6edc6e8886c6835c586a4edf0b1fe_3284.profile']\n",
      "duplicate ERR: ['./data/tree-rep-profiles_o2o_smallshort/small/54.fesber_0.8/G325/07fc0b3466b184567a91ace90a2db3640f973f113252b44dffb29eb1e25d4468_3276.profile', './data/tree-rep-profiles_o2o_smallshort/short/54.fesber_0.8/G325/07fc0b3466b184567a91ace90a2db3640f973f113252b44dffb29eb1e25d4468_3276.profile']\n",
      "duplicate ERR: ['./data/tree-rep-profiles_o2o_smallshort/small/54.fesber_0.8/G309/031aaf958933aacb1b7a6553343071b8698157caf875298f35ff02e9dc1bd2e8_3116.profile', './data/tree-rep-profiles_o2o_smallshort/short/54.fesber_0.8/G309/031aaf958933aacb1b7a6553343071b8698157caf875298f35ff02e9dc1bd2e8_3116.profile']\n",
      "duplicate ERR: ['./data/tree-rep-profiles_o2o_smallshort/small/54.fesber_0.8/G309/09c89f1c4f2014d05a398690f31b9254a7d760ce3a7da7571a15c0b3b5e3af29_3704.profile', './data/tree-rep-profiles_o2o_smallshort/short/54.fesber_0.8/G309/09c89f1c4f2014d05a398690f31b9254a7d760ce3a7da7571a15c0b3b5e3af29_3704.profile']\n",
      "duplicate ERR: ['./data/tree-rep-profiles_o2o_smallshort/small/54.fesber_0.8/G307/0cad4743f3d814f23fe49f85c1025e29a19f6847caf522cdc58c727f4a56432c_3636.profile', './data/tree-rep-profiles_o2o_smallshort/short/54.fesber_0.8/G307/0cad4743f3d814f23fe49f85c1025e29a19f6847caf522cdc58c727f4a56432c_3636.profile']\n",
      "duplicate ERR: ['./data/tree-rep-profiles_o2o_smallshort/small/54.fesber_0.8/G307/14e69cc8ef5dbc8a04f1f4eff573345b8a117dc11d1714c4dd1a7e90bc75720e_3524.profile', './data/tree-rep-profiles_o2o_smallshort/short/54.fesber_0.8/G307/14e69cc8ef5dbc8a04f1f4eff573345b8a117dc11d1714c4dd1a7e90bc75720e_3524.profile']\n",
      "duplicate ERR: ['./data/tree-rep-profiles_o2o_smallshort/small/54.fesber_0.8/G327/0f115d02d122c4e9f257b119b8e112d8fe4c4bb4eefedcecf1e7dca87ddb7370_3096.profile', './data/tree-rep-profiles_o2o_smallshort/short/54.fesber_0.8/G327/0f115d02d122c4e9f257b119b8e112d8fe4c4bb4eefedcecf1e7dca87ddb7370_3096.profile']\n"
     ]
    },
    {
     "name": "stderr",
     "output_type": "stream",
     "text": [
      "\r",
      " 69%|██████▊   | 109/159 [00:43<00:07,  6.66it/s]"
     ]
    },
    {
     "name": "stdout",
     "output_type": "stream",
     "text": [
      "duplicate ERR: ['./data/tree-rep-profiles_o2o_smallshort/small/54.fesber_0.8/G327/1fbae2679c29e0eff8fe9b243c6b83e2369c20f97f8d239e736459ceeaf813f2_3420.profile', './data/tree-rep-profiles_o2o_smallshort/short/54.fesber_0.8/G327/1fbae2679c29e0eff8fe9b243c6b83e2369c20f97f8d239e736459ceeaf813f2_3420.profile']\n",
      "duplicate ERR: ['./data/tree-rep-profiles_o2o_smallshort/small/36.delf_0.8/G146/015aba0a5ea877c8c816d619dadd7c359bd8c20ec12abe18170106ddc67afd95_3160.profile', './data/tree-rep-profiles_o2o_smallshort/short/36.delf_0.8/G146/015aba0a5ea877c8c816d619dadd7c359bd8c20ec12abe18170106ddc67afd95_3160.profile']\n",
      "duplicate ERR: ['./data/tree-rep-profiles_o2o_smallshort/small/36.delf_0.8/G146/1df36963020bc2f9ac29159c51994f555d990a55cf83591f796dd1caa8368280_3252.profile', './data/tree-rep-profiles_o2o_smallshort/short/36.delf_0.8/G146/1df36963020bc2f9ac29159c51994f555d990a55cf83591f796dd1caa8368280_3252.profile']\n",
      "duplicate ERR: ['./data/tree-rep-profiles_o2o_smallshort/small/36.delf_0.8/G153/1fa318f930a87e0afc957619cb24ef95a84317a2e873c2194894dcf1eda62c98_3248.profile', './data/tree-rep-profiles_o2o_smallshort/short/36.delf_0.8/G153/1fa318f930a87e0afc957619cb24ef95a84317a2e873c2194894dcf1eda62c98_3248.profile']\n",
      "duplicate ERR: ['./data/tree-rep-profiles_o2o_smallshort/small/36.delf_0.8/G153/20a2c30c019c5f4a05396d8910677244b48bae105e951c3a98586b118e3d1f15_3264.profile', './data/tree-rep-profiles_o2o_smallshort/short/36.delf_0.8/G153/20a2c30c019c5f4a05396d8910677244b48bae105e951c3a98586b118e3d1f15_3264.profile']\n",
      "duplicate ERR: ['./data/tree-rep-profiles_o2o_smallshort/small/36.delf_0.8/G145/1eb67288d2e5346df2260220062c11396ca3b139850486e9b860453289ccd5e2_2952.profile', './data/tree-rep-profiles_o2o_smallshort/short/36.delf_0.8/G145/1eb67288d2e5346df2260220062c11396ca3b139850486e9b860453289ccd5e2_2952.profile']\n",
      "duplicate ERR: ['./data/tree-rep-profiles_o2o_smallshort/small/36.delf_0.8/G145/240cb38859a64f7717bc797996d2953489413553fd96c557980c0e9856605cab_3396.profile', './data/tree-rep-profiles_o2o_smallshort/short/36.delf_0.8/G145/240cb38859a64f7717bc797996d2953489413553fd96c557980c0e9856605cab_3396.profile']\n",
      "duplicate ERR: ['./data/tree-rep-profiles_o2o_smallshort/small/36.delf_0.8/G148/330b5141ee54a71dacd36ed0ff521402a3a89b08144e09d467f8fa323f106028_3384.profile', './data/tree-rep-profiles_o2o_smallshort/short/36.delf_0.8/G148/330b5141ee54a71dacd36ed0ff521402a3a89b08144e09d467f8fa323f106028_3384.profile']\n"
     ]
    },
    {
     "name": "stderr",
     "output_type": "stream",
     "text": [
      "\r",
      " 69%|██████▉   | 110/159 [00:44<00:10,  4.67it/s]"
     ]
    },
    {
     "name": "stdout",
     "output_type": "stream",
     "text": [
      "duplicate ERR: ['./data/tree-rep-profiles_o2o_smallshort/small/36.delf_0.8/G148/5d316a9137457cb19e29df5fd40831c3c04bee3371a847f14777bffe81aeb5d5_3400.profile', './data/tree-rep-profiles_o2o_smallshort/short/36.delf_0.8/G148/5d316a9137457cb19e29df5fd40831c3c04bee3371a847f14777bffe81aeb5d5_3400.profile']\n",
      "duplicate ERR: ['./data/tree-rep-profiles_o2o_smallshort/small/36.delf_0.8/G152/f0316cb77e3119ce0a737abb9e90f60607e33755d6de8d0f0daf330a932610b1_2988.profile', './data/tree-rep-profiles_o2o_smallshort/short/36.delf_0.8/G152/f0316cb77e3119ce0a737abb9e90f60607e33755d6de8d0f0daf330a932610b1_2988.profile']\n",
      "duplicate ERR: ['./data/tree-rep-profiles_o2o_smallshort/small/36.delf_0.8/G152/9b079208af3e0d8a5bc2351145973d3ed3312713db82c03acb361bc940777e70_3204.profile', './data/tree-rep-profiles_o2o_smallshort/short/36.delf_0.8/G152/9b079208af3e0d8a5bc2351145973d3ed3312713db82c03acb361bc940777e70_3204.profile']\n",
      "duplicate ERR: ['./data/tree-rep-profiles_o2o_smallshort/small/36.delf_0.8/G151/731c49e2b1e2d4ebe6891de3c7d07e74d7a99fb5e979d40b8e54219288d4427c_3204.profile', './data/tree-rep-profiles_o2o_smallshort/short/36.delf_0.8/G151/731c49e2b1e2d4ebe6891de3c7d07e74d7a99fb5e979d40b8e54219288d4427c_3204.profile']\n",
      "duplicate ERR: ['./data/tree-rep-profiles_o2o_smallshort/small/36.delf_0.8/G151/0a5451f49dd4a5e5262b1f2318437f78540851f9f0fb0994ebcd71b7cb6a3ff9_3000.profile', './data/tree-rep-profiles_o2o_smallshort/short/36.delf_0.8/G151/0a5451f49dd4a5e5262b1f2318437f78540851f9f0fb0994ebcd71b7cb6a3ff9_3000.profile']\n",
      "duplicate ERR: ['./data/tree-rep-profiles_o2o_smallshort/small/36.delf_0.8/G154/240cb38859a64f7717bc797996d2953489413553fd96c557980c0e9856605cab_3500.profile', './data/tree-rep-profiles_o2o_smallshort/short/36.delf_0.8/G154/240cb38859a64f7717bc797996d2953489413553fd96c557980c0e9856605cab_3500.profile']\n",
      "duplicate ERR: ['./data/tree-rep-profiles_o2o_smallshort/small/36.delf_0.8/G154/003ad7dfb106cf9562ab7c4583c8cf9c1bd7a4a8991eaf12f401b55f7c833e0b_3240.profile', './data/tree-rep-profiles_o2o_smallshort/short/36.delf_0.8/G154/003ad7dfb106cf9562ab7c4583c8cf9c1bd7a4a8991eaf12f401b55f7c833e0b_3240.profile']\n"
     ]
    },
    {
     "name": "stderr",
     "output_type": "stream",
     "text": [
      "\r",
      " 70%|██████▉   | 111/159 [00:44<00:10,  4.55it/s]"
     ]
    },
    {
     "name": "stdout",
     "output_type": "stream",
     "text": [
      "duplicate ERR: ['./data/tree-rep-profiles_o2o_smallshort/small/67.mywebsearch_0.8/G85/025ccdd07ea2d0fb51e08478e1a6a89e911bbd8507e547f3c5f1de275780026f_3232.profile', './data/tree-rep-profiles_o2o_smallshort/short/67.mywebsearch_0.8/G85/025ccdd07ea2d0fb51e08478e1a6a89e911bbd8507e547f3c5f1de275780026f_3232.profile']\n",
      "duplicate ERR: ['./data/tree-rep-profiles_o2o_smallshort/small/67.mywebsearch_0.8/G85/0c575813149bfcfd359875a7cdbb2c06589741b27ae3b5f79601b6b1e73da7b6_3308.profile', './data/tree-rep-profiles_o2o_smallshort/short/67.mywebsearch_0.8/G85/0c575813149bfcfd359875a7cdbb2c06589741b27ae3b5f79601b6b1e73da7b6_3308.profile']\n",
      "duplicate ERR: ['./data/tree-rep-profiles_o2o_smallshort/small/67.mywebsearch_0.8/G80/0e6441c7d2666b4e0d6cc8896ab3efa049ddd4ca2fb293f8edc3a609e325bad3_3276.profile', './data/tree-rep-profiles_o2o_smallshort/short/67.mywebsearch_0.8/G80/0e6441c7d2666b4e0d6cc8896ab3efa049ddd4ca2fb293f8edc3a609e325bad3_3276.profile']\n",
      "duplicate ERR: ['./data/tree-rep-profiles_o2o_smallshort/small/67.mywebsearch_0.8/G80/1f8f52d43ca5d119ffefe03e74b15cf23573e9ce1b4ba9f9b0bf4f1f09f03503_2892.profile', './data/tree-rep-profiles_o2o_smallshort/short/67.mywebsearch_0.8/G80/1f8f52d43ca5d119ffefe03e74b15cf23573e9ce1b4ba9f9b0bf4f1f09f03503_2892.profile']\n",
      "duplicate ERR: ['./data/tree-rep-profiles_o2o_smallshort/small/67.mywebsearch_0.8/G77/0fd7d61a342d16f83cbc7d7b1e9dcd67e4ecd9e6cce724cf7f5f1e268859e265_3100.profile', './data/tree-rep-profiles_o2o_smallshort/short/67.mywebsearch_0.8/G77/0fd7d61a342d16f83cbc7d7b1e9dcd67e4ecd9e6cce724cf7f5f1e268859e265_3100.profile']\n",
      "duplicate ERR: ['./data/tree-rep-profiles_o2o_smallshort/small/67.mywebsearch_0.8/G77/01c43eff583591900f52c6e7f9ca0864e587a9e716179f795c150e90aea32855_3536.profile', './data/tree-rep-profiles_o2o_smallshort/short/67.mywebsearch_0.8/G77/01c43eff583591900f52c6e7f9ca0864e587a9e716179f795c150e90aea32855_3536.profile']\n",
      "duplicate ERR: ['./data/tree-rep-profiles_o2o_smallshort/small/67.mywebsearch_0.8/G79/116f5e3dae3a9664b22359c269b0d8c06964453ff5130026250fd43a93b5ba0d_3344.profile', './data/tree-rep-profiles_o2o_smallshort/short/67.mywebsearch_0.8/G79/116f5e3dae3a9664b22359c269b0d8c06964453ff5130026250fd43a93b5ba0d_3344.profile']\n",
      "duplicate ERR: ['./data/tree-rep-profiles_o2o_smallshort/small/67.mywebsearch_0.8/G79/07f9c0fd69231026038d190fdaeea5e3743677e6f2a47d41890d0e72f9d72e37_2912.profile', './data/tree-rep-profiles_o2o_smallshort/short/67.mywebsearch_0.8/G79/07f9c0fd69231026038d190fdaeea5e3743677e6f2a47d41890d0e72f9d72e37_2912.profile']\n",
      "duplicate ERR: ['./data/tree-rep-profiles_o2o_smallshort/small/110.palevo_0.8/G21/07ad6e4efd01107fb7b750625f75e9ce474f8336a81fc6fc9e18db9c509e701b_3184.profile', './data/tree-rep-profiles_o2o_smallshort/short/110.palevo_0.8/G21/07ad6e4efd01107fb7b750625f75e9ce474f8336a81fc6fc9e18db9c509e701b_3184.profile']\n",
      "duplicate ERR: ['./data/tree-rep-profiles_o2o_smallshort/small/110.palevo_0.8/G21/01cf78455171d8a40d676a7a16b52dd029b771840ff3de0c3f80004cb9f33ca8_3336.profile', './data/tree-rep-profiles_o2o_smallshort/short/110.palevo_0.8/G21/01cf78455171d8a40d676a7a16b52dd029b771840ff3de0c3f80004cb9f33ca8_3336.profile']\n",
      "duplicate ERR: ['./data/tree-rep-profiles_o2o_smallshort/small/28.strictor_0.8/G190/0c29d4d730591cec5a900ecc339fd7b98ce8210fe6defcec562271b288b83f4e_3244.profile', './data/tree-rep-profiles_o2o_smallshort/short/28.strictor_0.8/G190/0c29d4d730591cec5a900ecc339fd7b98ce8210fe6defcec562271b288b83f4e_3244.profile']\n",
      "duplicate ERR: ['./data/tree-rep-profiles_o2o_smallshort/small/28.strictor_0.8/G190/12ca77db9d35491f45df4aa4018f4c65b24d2be23301a068d6f3343341e8db76_3412.profile', './data/tree-rep-profiles_o2o_smallshort/short/28.strictor_0.8/G190/12ca77db9d35491f45df4aa4018f4c65b24d2be23301a068d6f3343341e8db76_3412.profile']\n",
      "duplicate ERR: ['./data/tree-rep-profiles_o2o_smallshort/small/28.strictor_0.8/G202/0ab135e640e929e334856df4bc320c490e8868d9ca2b646077a2b3529e4e4575_2984.profile', './data/tree-rep-profiles_o2o_smallshort/short/28.strictor_0.8/G202/0ab135e640e929e334856df4bc320c490e8868d9ca2b646077a2b3529e4e4575_2984.profile']\n",
      "duplicate ERR: ['./data/tree-rep-profiles_o2o_smallshort/small/28.strictor_0.8/G202/0ab135e640e929e334856df4bc320c490e8868d9ca2b646077a2b3529e4e4575_2940.profile', './data/tree-rep-profiles_o2o_smallshort/short/28.strictor_0.8/G202/0ab135e640e929e334856df4bc320c490e8868d9ca2b646077a2b3529e4e4575_2940.profile']\n",
      "duplicate ERR: ['./data/tree-rep-profiles_o2o_smallshort/small/28.strictor_0.8/G171/85bc56d3cad60b3b1aea832862734a134753ddce63d4513fd65d87c782938686_3360.profile', './data/tree-rep-profiles_o2o_smallshort/short/28.strictor_0.8/G171/85bc56d3cad60b3b1aea832862734a134753ddce63d4513fd65d87c782938686_3360.profile']\n",
      "duplicate ERR: ['./data/tree-rep-profiles_o2o_smallshort/small/28.strictor_0.8/G171/fd4436f7793f7077494ee30bd84ef9079ae69ab7ac1b6e7829405b3a59c6a2ef_3312.profile', './data/tree-rep-profiles_o2o_smallshort/short/28.strictor_0.8/G171/fd4436f7793f7077494ee30bd84ef9079ae69ab7ac1b6e7829405b3a59c6a2ef_3312.profile']\n",
      "duplicate ERR: ['./data/tree-rep-profiles_o2o_smallshort/small/28.strictor_0.8/G183/6e689e03d7db5238106cc4b64293e8d3206c04fcfaa44e7159418dad6d7c4bf3_3348.profile', './data/tree-rep-profiles_o2o_smallshort/short/28.strictor_0.8/G183/6e689e03d7db5238106cc4b64293e8d3206c04fcfaa44e7159418dad6d7c4bf3_3348.profile']\n",
      "duplicate ERR: ['./data/tree-rep-profiles_o2o_smallshort/small/28.strictor_0.8/G183/9a3d2f06ece79bfa20d8c2aa31854722d1bf113a32266c63036afbb58ed76424_3360.profile', './data/tree-rep-profiles_o2o_smallshort/short/28.strictor_0.8/G183/9a3d2f06ece79bfa20d8c2aa31854722d1bf113a32266c63036afbb58ed76424_3360.profile']\n",
      "duplicate ERR: ['./data/tree-rep-profiles_o2o_smallshort/small/28.strictor_0.8/G182/5965bd310721735d898b4efeb17628aed22d9fc7dd98bfa6429f579258059228_3260.profile', './data/tree-rep-profiles_o2o_smallshort/short/28.strictor_0.8/G182/5965bd310721735d898b4efeb17628aed22d9fc7dd98bfa6429f579258059228_3260.profile']\n",
      "duplicate ERR: ['./data/tree-rep-profiles_o2o_smallshort/small/28.strictor_0.8/G182/5965bd310721735d898b4efeb17628aed22d9fc7dd98bfa6429f579258059228_3212.profile', './data/tree-rep-profiles_o2o_smallshort/short/28.strictor_0.8/G182/5965bd310721735d898b4efeb17628aed22d9fc7dd98bfa6429f579258059228_3212.profile']\n",
      "duplicate ERR: ['./data/tree-rep-profiles_o2o_smallshort/small/28.strictor_0.8/G179/5965bd310721735d898b4efeb17628aed22d9fc7dd98bfa6429f579258059228_3312.profile', './data/tree-rep-profiles_o2o_smallshort/short/28.strictor_0.8/G179/5965bd310721735d898b4efeb17628aed22d9fc7dd98bfa6429f579258059228_3312.profile']\n",
      "duplicate ERR: ['./data/tree-rep-profiles_o2o_smallshort/small/28.strictor_0.8/G179/5965bd310721735d898b4efeb17628aed22d9fc7dd98bfa6429f579258059228_3248.profile', './data/tree-rep-profiles_o2o_smallshort/short/28.strictor_0.8/G179/5965bd310721735d898b4efeb17628aed22d9fc7dd98bfa6429f579258059228_3248.profile']\n",
      "duplicate ERR: ['./data/tree-rep-profiles_o2o_smallshort/small/28.strictor_0.8/G197/d0381b065f2fe792c1bc495b11f8bf465be05e59707c5a9abd8f6db3787645b0_3424.profile', './data/tree-rep-profiles_o2o_smallshort/short/28.strictor_0.8/G197/d0381b065f2fe792c1bc495b11f8bf465be05e59707c5a9abd8f6db3787645b0_3424.profile']\n",
      "duplicate ERR: ['./data/tree-rep-profiles_o2o_smallshort/small/28.strictor_0.8/G197/5ad0ce3719f7c7580acac82a2a2728ecd70176eae8e7f6b3c1e008560f10f09a_3316.profile', './data/tree-rep-profiles_o2o_smallshort/short/28.strictor_0.8/G197/5ad0ce3719f7c7580acac82a2a2728ecd70176eae8e7f6b3c1e008560f10f09a_3316.profile']\n",
      "duplicate ERR: ['./data/tree-rep-profiles_o2o_smallshort/small/28.strictor_0.8/G200/bad455e3906cca93d5faccbcb69f1ba37c701b0f8e75db6acfb52fe605ea34aa_3320.profile', './data/tree-rep-profiles_o2o_smallshort/short/28.strictor_0.8/G200/bad455e3906cca93d5faccbcb69f1ba37c701b0f8e75db6acfb52fe605ea34aa_3320.profile']\n",
      "duplicate ERR: ['./data/tree-rep-profiles_o2o_smallshort/small/28.strictor_0.8/G200/6a9f78eab77db66683d2c28de6ab22fc8e7de1e3b3bc7bbd06b8d485fea9d2db_3220.profile', './data/tree-rep-profiles_o2o_smallshort/short/28.strictor_0.8/G200/6a9f78eab77db66683d2c28de6ab22fc8e7de1e3b3bc7bbd06b8d485fea9d2db_3220.profile']\n",
      "duplicate ERR: ['./data/tree-rep-profiles_o2o_smallshort/small/28.strictor_0.8/G192/59b10ea956d52bce6abfe6eb00d08575e8b22a734b623c383332fd689b50704f_3288.profile', './data/tree-rep-profiles_o2o_smallshort/short/28.strictor_0.8/G192/59b10ea956d52bce6abfe6eb00d08575e8b22a734b623c383332fd689b50704f_3288.profile']\n",
      "duplicate ERR: ['./data/tree-rep-profiles_o2o_smallshort/small/28.strictor_0.8/G192/59b10ea956d52bce6abfe6eb00d08575e8b22a734b623c383332fd689b50704f_3260.profile', './data/tree-rep-profiles_o2o_smallshort/short/28.strictor_0.8/G192/59b10ea956d52bce6abfe6eb00d08575e8b22a734b623c383332fd689b50704f_3260.profile']\n",
      "duplicate ERR: ['./data/tree-rep-profiles_o2o_smallshort/small/28.strictor_0.8/G181/f1b432f59a5316d2601f79b381f15e0b391760e1d5b2161345871132018e4694_3252.profile', './data/tree-rep-profiles_o2o_smallshort/short/28.strictor_0.8/G181/f1b432f59a5316d2601f79b381f15e0b391760e1d5b2161345871132018e4694_3252.profile']\n",
      "duplicate ERR: ['./data/tree-rep-profiles_o2o_smallshort/small/28.strictor_0.8/G181/f1b432f59a5316d2601f79b381f15e0b391760e1d5b2161345871132018e4694_3364.profile', './data/tree-rep-profiles_o2o_smallshort/short/28.strictor_0.8/G181/f1b432f59a5316d2601f79b381f15e0b391760e1d5b2161345871132018e4694_3364.profile']\n",
      "duplicate ERR: ['./data/tree-rep-profiles_o2o_smallshort/small/28.strictor_0.8/G199/097fddfecb1bbf4a1f1ef9fb9bfd05f1fbb8b595ed9a19be2151e3804591f8b0_3092.profile', './data/tree-rep-profiles_o2o_smallshort/short/28.strictor_0.8/G199/097fddfecb1bbf4a1f1ef9fb9bfd05f1fbb8b595ed9a19be2151e3804591f8b0_3092.profile']\n",
      "duplicate ERR: ['./data/tree-rep-profiles_o2o_smallshort/small/28.strictor_0.8/G199/024d5f4aa60e2b182f3f065f0bddaf7027239e695d709fd98c9fc236d368a0e4_3192.profile', './data/tree-rep-profiles_o2o_smallshort/short/28.strictor_0.8/G199/024d5f4aa60e2b182f3f065f0bddaf7027239e695d709fd98c9fc236d368a0e4_3192.profile']\n"
     ]
    },
    {
     "name": "stderr",
     "output_type": "stream",
     "text": [
      "\r",
      " 71%|███████   | 113/159 [00:45<00:12,  3.78it/s]"
     ]
    },
    {
     "name": "stdout",
     "output_type": "stream",
     "text": [
      "duplicate ERR: ['./data/tree-rep-profiles_o2o_smallshort/small/28.strictor_0.8/G187/b1647f4f230fcc9a20f7b073fb341ceddb1159f34283cf8bcb1faa7ed3fa7561_3412.profile', './data/tree-rep-profiles_o2o_smallshort/short/28.strictor_0.8/G187/b1647f4f230fcc9a20f7b073fb341ceddb1159f34283cf8bcb1faa7ed3fa7561_3412.profile']\n",
      "duplicate ERR: ['./data/tree-rep-profiles_o2o_smallshort/small/28.strictor_0.8/G187/d543783426342a057b70e865b28bf6bb8ea6332401ae87aa2adcd85d5d760aa1_3204.profile', './data/tree-rep-profiles_o2o_smallshort/short/28.strictor_0.8/G187/d543783426342a057b70e865b28bf6bb8ea6332401ae87aa2adcd85d5d760aa1_3204.profile']\n",
      "duplicate ERR: ['./data/tree-rep-profiles_o2o_smallshort/small/28.strictor_0.8/G170/872b94fcc524b67a8d443162a234d8283948b81b0f9cbe9b7d9aba47f7ef1a70_2892.profile', './data/tree-rep-profiles_o2o_smallshort/short/28.strictor_0.8/G170/872b94fcc524b67a8d443162a234d8283948b81b0f9cbe9b7d9aba47f7ef1a70_2892.profile']\n",
      "duplicate ERR: ['./data/tree-rep-profiles_o2o_smallshort/small/28.strictor_0.8/G170/872b94fcc524b67a8d443162a234d8283948b81b0f9cbe9b7d9aba47f7ef1a70_1048.profile', './data/tree-rep-profiles_o2o_smallshort/short/28.strictor_0.8/G170/872b94fcc524b67a8d443162a234d8283948b81b0f9cbe9b7d9aba47f7ef1a70_1048.profile']\n",
      "duplicate ERR: ['./data/tree-rep-profiles_o2o_smallshort/small/22.razy_0.8/G254/0a89984bee4d54ac6488bce7b59c0af2f5fb49125ee72dfba73180f3d0590b1f_3204.profile', './data/tree-rep-profiles_o2o_smallshort/short/22.razy_0.8/G254/0a89984bee4d54ac6488bce7b59c0af2f5fb49125ee72dfba73180f3d0590b1f_3204.profile']\n",
      "duplicate ERR: ['./data/tree-rep-profiles_o2o_smallshort/small/22.razy_0.8/G254/845726bad81607747dd8304afba61c0226d6e1f18d183bfc7bdab39a2826dd6a_3324.profile', './data/tree-rep-profiles_o2o_smallshort/short/22.razy_0.8/G254/845726bad81607747dd8304afba61c0226d6e1f18d183bfc7bdab39a2826dd6a_3324.profile']\n",
      "duplicate ERR: ['./data/tree-rep-profiles_o2o_smallshort/small/22.razy_0.8/G257/0b9c9bce9e4a9e9264e5a5630ba64dc2fd0d8f287e02fafb3cb4a8c68199ffc0_3420.profile', './data/tree-rep-profiles_o2o_smallshort/short/22.razy_0.8/G257/0b9c9bce9e4a9e9264e5a5630ba64dc2fd0d8f287e02fafb3cb4a8c68199ffc0_3420.profile']\n",
      "duplicate ERR: ['./data/tree-rep-profiles_o2o_smallshort/small/22.razy_0.8/G257/0b2a1997447338e7c45cb1db1f376b2fb7a10f366e06d500944727a86cc16ed9_2912.profile', './data/tree-rep-profiles_o2o_smallshort/short/22.razy_0.8/G257/0b2a1997447338e7c45cb1db1f376b2fb7a10f366e06d500944727a86cc16ed9_2912.profile']\n",
      "duplicate ERR: ['./data/tree-rep-profiles_o2o_smallshort/small/22.razy_0.8/G246/f9f67c240e13b54bdd50afc281ef2adb149d8477b3818b29c5d319bc56564460_3304.profile', './data/tree-rep-profiles_o2o_smallshort/short/22.razy_0.8/G246/f9f67c240e13b54bdd50afc281ef2adb149d8477b3818b29c5d319bc56564460_3304.profile']\n",
      "duplicate ERR: ['./data/tree-rep-profiles_o2o_smallshort/small/22.razy_0.8/G246/f9f67c240e13b54bdd50afc281ef2adb149d8477b3818b29c5d319bc56564460_3404.profile', './data/tree-rep-profiles_o2o_smallshort/short/22.razy_0.8/G246/f9f67c240e13b54bdd50afc281ef2adb149d8477b3818b29c5d319bc56564460_3404.profile']\n",
      "duplicate ERR: ['./data/tree-rep-profiles_o2o_smallshort/small/22.razy_0.8/G240/2647b3bd8c93ab03db947202ddbef2df93ef25f36d52202e2e3a87edaa961fed_3168.profile', './data/tree-rep-profiles_o2o_smallshort/short/22.razy_0.8/G240/2647b3bd8c93ab03db947202ddbef2df93ef25f36d52202e2e3a87edaa961fed_3168.profile']\n",
      "duplicate ERR: ['./data/tree-rep-profiles_o2o_smallshort/small/22.razy_0.8/G240/7bbda147c2f2aa07c853f7fed7cdc5842fd4fc90866002b5a9f5601a402c0c59_2948.profile', './data/tree-rep-profiles_o2o_smallshort/short/22.razy_0.8/G240/7bbda147c2f2aa07c853f7fed7cdc5842fd4fc90866002b5a9f5601a402c0c59_2948.profile']\n",
      "duplicate ERR: ['./data/tree-rep-profiles_o2o_smallshort/small/22.razy_0.8/G253/075c145356d2c9d310fc52efe05bd09e39c7e3469408a3dbb7886a9cb2b38999_3264.profile', './data/tree-rep-profiles_o2o_smallshort/short/22.razy_0.8/G253/075c145356d2c9d310fc52efe05bd09e39c7e3469408a3dbb7886a9cb2b38999_3264.profile']\n",
      "duplicate ERR: ['./data/tree-rep-profiles_o2o_smallshort/small/22.razy_0.8/G253/0e29fea31b7eefac07b365baa9c70ec0bc2a39b958cb3f9bf4ae372e7a329727_3448.profile', './data/tree-rep-profiles_o2o_smallshort/short/22.razy_0.8/G253/0e29fea31b7eefac07b365baa9c70ec0bc2a39b958cb3f9bf4ae372e7a329727_3448.profile']\n",
      "duplicate ERR: ['./data/tree-rep-profiles_o2o_smallshort/small/22.razy_0.8/G261/0e70197634188fd39496dee6a3b951b0eb6700335c3afad94e55e3c9a5176e7e_3096.profile', './data/tree-rep-profiles_o2o_smallshort/short/22.razy_0.8/G261/0e70197634188fd39496dee6a3b951b0eb6700335c3afad94e55e3c9a5176e7e_3096.profile']\n",
      "duplicate ERR: ['./data/tree-rep-profiles_o2o_smallshort/small/22.razy_0.8/G261/0e0972302eaabdf4a50760f12c1fc93f83ff1eb7c05385df3b46e83c18da5378_3628.profile', './data/tree-rep-profiles_o2o_smallshort/short/22.razy_0.8/G261/0e0972302eaabdf4a50760f12c1fc93f83ff1eb7c05385df3b46e83c18da5378_3628.profile']\n",
      "duplicate ERR: ['./data/tree-rep-profiles_o2o_smallshort/small/22.razy_0.8/G241/ae72da4c7d3eed75420072a1387c8d6dbb738e40a41eb43744848ec848806b86_3216.profile', './data/tree-rep-profiles_o2o_smallshort/short/22.razy_0.8/G241/ae72da4c7d3eed75420072a1387c8d6dbb738e40a41eb43744848ec848806b86_3216.profile']\n",
      "duplicate ERR: ['./data/tree-rep-profiles_o2o_smallshort/small/22.razy_0.8/G241/ae72da4c7d3eed75420072a1387c8d6dbb738e40a41eb43744848ec848806b86_2900.profile', './data/tree-rep-profiles_o2o_smallshort/short/22.razy_0.8/G241/ae72da4c7d3eed75420072a1387c8d6dbb738e40a41eb43744848ec848806b86_2900.profile']\n",
      "duplicate ERR: ['./data/tree-rep-profiles_o2o_smallshort/small/22.razy_0.8/G226/0a8931010613364473bd1e3c1de2984ee874c60f8f94274c5d9fa1aaf5104afc_3352.profile', './data/tree-rep-profiles_o2o_smallshort/short/22.razy_0.8/G226/0a8931010613364473bd1e3c1de2984ee874c60f8f94274c5d9fa1aaf5104afc_3352.profile']\n",
      "duplicate ERR: ['./data/tree-rep-profiles_o2o_smallshort/small/22.razy_0.8/G226/0ba000cfdac389d24eae3e627c6b473ea9b0f9179a1096e836826b6160b688b1_3300.profile', './data/tree-rep-profiles_o2o_smallshort/short/22.razy_0.8/G226/0ba000cfdac389d24eae3e627c6b473ea9b0f9179a1096e836826b6160b688b1_3300.profile']\n",
      "duplicate ERR: ['./data/tree-rep-profiles_o2o_smallshort/small/22.razy_0.8/G256/00dd58a5bd2759f85d4f69b92b47210ea4f500f0f395da33e3f524010c1fe6c3_2824.profile', './data/tree-rep-profiles_o2o_smallshort/short/22.razy_0.8/G256/00dd58a5bd2759f85d4f69b92b47210ea4f500f0f395da33e3f524010c1fe6c3_2824.profile']\n",
      "duplicate ERR: ['./data/tree-rep-profiles_o2o_smallshort/small/22.razy_0.8/G256/0f2153eabf7f206d0a6bcacee5a04326c0115c8e6de86d98ed4416b71f2c6f38_3292.profile', './data/tree-rep-profiles_o2o_smallshort/short/22.razy_0.8/G256/0f2153eabf7f206d0a6bcacee5a04326c0115c8e6de86d98ed4416b71f2c6f38_3292.profile']\n",
      "duplicate ERR: ['./data/tree-rep-profiles_o2o_smallshort/small/22.razy_0.8/G260/1cf01803c125577ef698222296d42b157c15284205c497098876d3515868772c_3376.profile', './data/tree-rep-profiles_o2o_smallshort/short/22.razy_0.8/G260/1cf01803c125577ef698222296d42b157c15284205c497098876d3515868772c_3376.profile']\n",
      "duplicate ERR: ['./data/tree-rep-profiles_o2o_smallshort/small/22.razy_0.8/G260/1e3eacbb438f02f6cbcf144644fca30ae3833ee7533f59ef520922a09cd22ad8_3308.profile', './data/tree-rep-profiles_o2o_smallshort/short/22.razy_0.8/G260/1e3eacbb438f02f6cbcf144644fca30ae3833ee7533f59ef520922a09cd22ad8_3308.profile']\n"
     ]
    },
    {
     "name": "stderr",
     "output_type": "stream",
     "text": [
      "\r",
      " 72%|███████▏  | 114/159 [00:45<00:16,  2.81it/s]"
     ]
    },
    {
     "name": "stdout",
     "output_type": "stream",
     "text": [
      "duplicate ERR: ['./data/tree-rep-profiles_o2o_smallshort/small/22.razy_0.8/G248/ac46feb24cc84ca0e7204a9da10cffe7cb54bfc7e663dca3cda1014fdd61406d_2964.profile', './data/tree-rep-profiles_o2o_smallshort/short/22.razy_0.8/G248/ac46feb24cc84ca0e7204a9da10cffe7cb54bfc7e663dca3cda1014fdd61406d_2964.profile']\n",
      "duplicate ERR: ['./data/tree-rep-profiles_o2o_smallshort/small/22.razy_0.8/G248/b32102c302ac1c0e546cced6003e0cace710b247aec961df55ff2e8edbb73e13_3204.profile', './data/tree-rep-profiles_o2o_smallshort/short/22.razy_0.8/G248/b32102c302ac1c0e546cced6003e0cace710b247aec961df55ff2e8edbb73e13_3204.profile']\n",
      "duplicate ERR: ['./data/tree-rep-profiles_o2o_smallshort/small/220.bfvg_0.8/G17/75d87b3d8696311b550d9807a5627018abae5e2165366ccd3de85ec8bb5212bd_3260.profile', './data/tree-rep-profiles_o2o_smallshort/short/220.bfvg_0.8/G17/75d87b3d8696311b550d9807a5627018abae5e2165366ccd3de85ec8bb5212bd_3260.profile']\n",
      "duplicate ERR: ['./data/tree-rep-profiles_o2o_smallshort/small/220.bfvg_0.8/G17/6a44eccb278210ffcf09d8fcc2c23e852c6ae801b053b23e57f9de515cc922e4_3372.profile', './data/tree-rep-profiles_o2o_smallshort/short/220.bfvg_0.8/G17/6a44eccb278210ffcf09d8fcc2c23e852c6ae801b053b23e57f9de515cc922e4_3372.profile']\n",
      "duplicate ERR: ['./data/tree-rep-profiles_o2o_smallshort/small/73.yantai_0.8/G46/25caf8823f52d495786c80169158de889e9535e3f56a99d9382857debc159453_3448.profile', './data/tree-rep-profiles_o2o_smallshort/short/73.yantai_0.8/G46/25caf8823f52d495786c80169158de889e9535e3f56a99d9382857debc159453_3448.profile']\n",
      "duplicate ERR: ['./data/tree-rep-profiles_o2o_smallshort/small/73.yantai_0.8/G46/b369770b69c983d174bc98124c970578eb8d00b13557c95fdcff5dc9bc2500fb_3352.profile', './data/tree-rep-profiles_o2o_smallshort/short/73.yantai_0.8/G46/b369770b69c983d174bc98124c970578eb8d00b13557c95fdcff5dc9bc2500fb_3352.profile']\n",
      "duplicate ERR: ['./data/tree-rep-profiles_o2o_smallshort/small/108.zegost_0.8/G29/0e0c33ff78e314437db721b6dfd68369f048213d701b5bf85d1eead60710dcc4_3176.profile', './data/tree-rep-profiles_o2o_smallshort/short/108.zegost_0.8/G29/0e0c33ff78e314437db721b6dfd68369f048213d701b5bf85d1eead60710dcc4_3176.profile']\n",
      "duplicate ERR: ['./data/tree-rep-profiles_o2o_smallshort/small/108.zegost_0.8/G29/084a7b431d3bf0c043143b18e789ed5dd3772c84ed6056eddb39976eb8306ddd_3108.profile', './data/tree-rep-profiles_o2o_smallshort/short/108.zegost_0.8/G29/084a7b431d3bf0c043143b18e789ed5dd3772c84ed6056eddb39976eb8306ddd_3108.profile']\n",
      "duplicate ERR: ['./data/tree-rep-profiles_o2o_smallshort/small/108.zegost_0.8/G30/14e7329a7a0981e2ae31663994a0e2f48ce30d916904217c1ee14d948b8f7270_3248.profile', './data/tree-rep-profiles_o2o_smallshort/short/108.zegost_0.8/G30/14e7329a7a0981e2ae31663994a0e2f48ce30d916904217c1ee14d948b8f7270_3248.profile']\n"
     ]
    },
    {
     "name": "stderr",
     "output_type": "stream",
     "text": [
      "\r",
      " 74%|███████▎  | 117/159 [00:45<00:11,  3.72it/s]"
     ]
    },
    {
     "name": "stdout",
     "output_type": "stream",
     "text": [
      "duplicate ERR: ['./data/tree-rep-profiles_o2o_smallshort/small/108.zegost_0.8/G30/161d36e42eb1fc417b216483c0980defb2d41f4298ecba8d3f119ff8d7f66dcf_3240.profile', './data/tree-rep-profiles_o2o_smallshort/short/108.zegost_0.8/G30/161d36e42eb1fc417b216483c0980defb2d41f4298ecba8d3f119ff8d7f66dcf_3240.profile']\n",
      "duplicate ERR: ['./data/tree-rep-profiles_o2o_smallshort/small/66.renos_0.8/G65/097ac45e7be2ee21f1b945e6ef9274e1615707a8d102cb8ef240d313d66813a2_3304.profile', './data/tree-rep-profiles_o2o_smallshort/short/66.renos_0.8/G65/097ac45e7be2ee21f1b945e6ef9274e1615707a8d102cb8ef240d313d66813a2_3304.profile']\n",
      "duplicate ERR: ['./data/tree-rep-profiles_o2o_smallshort/small/66.renos_0.8/G65/138e49792ee7aa5b591af1ff505dd694a46995d015c7fd8867cd8f258c8e1891_3224.profile', './data/tree-rep-profiles_o2o_smallshort/short/66.renos_0.8/G65/138e49792ee7aa5b591af1ff505dd694a46995d015c7fd8867cd8f258c8e1891_3224.profile']\n",
      "duplicate ERR: ['./data/tree-rep-profiles_o2o_smallshort/small/66.renos_0.8/G67/831c342f98ab6f0be6f0bb5e4d55fc189ed7b7d079da718f4fcbc21e387c0484_3060.profile', './data/tree-rep-profiles_o2o_smallshort/short/66.renos_0.8/G67/831c342f98ab6f0be6f0bb5e4d55fc189ed7b7d079da718f4fcbc21e387c0484_3060.profile']\n",
      "duplicate ERR: ['./data/tree-rep-profiles_o2o_smallshort/small/66.renos_0.8/G67/831c342f98ab6f0be6f0bb5e4d55fc189ed7b7d079da718f4fcbc21e387c0484_3288.profile', './data/tree-rep-profiles_o2o_smallshort/short/66.renos_0.8/G67/831c342f98ab6f0be6f0bb5e4d55fc189ed7b7d079da718f4fcbc21e387c0484_3288.profile']\n",
      "duplicate ERR: ['./data/tree-rep-profiles_o2o_smallshort/small/66.renos_0.8/G69/0a7772d8cbf29911b734133c58416383ae7bec80089135097e33659e20417627_3224.profile', './data/tree-rep-profiles_o2o_smallshort/short/66.renos_0.8/G69/0a7772d8cbf29911b734133c58416383ae7bec80089135097e33659e20417627_3224.profile']\n",
      "duplicate ERR: ['./data/tree-rep-profiles_o2o_smallshort/small/66.renos_0.8/G69/1e12820dea3b24462227a2a3adb07cac5cbe1d7f7cedf9c95024dc14a38bab9f_3280.profile', './data/tree-rep-profiles_o2o_smallshort/short/66.renos_0.8/G69/1e12820dea3b24462227a2a3adb07cac5cbe1d7f7cedf9c95024dc14a38bab9f_3280.profile']\n",
      "duplicate ERR: ['./data/tree-rep-profiles_o2o_smallshort/small/66.renos_0.8/G64/5445eb6087ff8409b4272e851a389a282e34f59ca432358376a1a7c3efe8f086_2856.profile', './data/tree-rep-profiles_o2o_smallshort/short/66.renos_0.8/G64/5445eb6087ff8409b4272e851a389a282e34f59ca432358376a1a7c3efe8f086_2856.profile']\n",
      "duplicate ERR: ['./data/tree-rep-profiles_o2o_smallshort/small/66.renos_0.8/G64/8882f39d96acbb8ff2eb78584c0c43340c3578b428cff6e44a1a9ab359593946_3368.profile', './data/tree-rep-profiles_o2o_smallshort/short/66.renos_0.8/G64/8882f39d96acbb8ff2eb78584c0c43340c3578b428cff6e44a1a9ab359593946_3368.profile']\n"
     ]
    },
    {
     "name": "stderr",
     "output_type": "stream",
     "text": [
      "\r",
      " 74%|███████▍  | 118/159 [00:46<00:11,  3.61it/s]"
     ]
    },
    {
     "name": "stdout",
     "output_type": "stream",
     "text": [
      "duplicate ERR: ['./data/tree-rep-profiles_o2o_smallshort/small/66.renos_0.8/G72/c435a69c1491a6449544defb4b6095c1bb348d7b862ab94ac7e1afbaa647c5d5_3272.profile', './data/tree-rep-profiles_o2o_smallshort/short/66.renos_0.8/G72/c435a69c1491a6449544defb4b6095c1bb348d7b862ab94ac7e1afbaa647c5d5_3272.profile']\n",
      "duplicate ERR: ['./data/tree-rep-profiles_o2o_smallshort/small/66.renos_0.8/G72/8f2dfc7840a64fe19729eafa2d05a382dc61912bcd1edb289e7492fb4ba46383_3248.profile', './data/tree-rep-profiles_o2o_smallshort/short/66.renos_0.8/G72/8f2dfc7840a64fe19729eafa2d05a382dc61912bcd1edb289e7492fb4ba46383_3248.profile']\n",
      "duplicate ERR: ['./data/tree-rep-profiles_o2o_smallshort/small/66.renos_0.8/G71/b204a1e9d53273200df47dc5667fdc5213a7abb97b76129978707173f5ce295e_3388.profile', './data/tree-rep-profiles_o2o_smallshort/short/66.renos_0.8/G71/b204a1e9d53273200df47dc5667fdc5213a7abb97b76129978707173f5ce295e_3388.profile']\n",
      "duplicate ERR: ['./data/tree-rep-profiles_o2o_smallshort/small/66.renos_0.8/G71/b204a1e9d53273200df47dc5667fdc5213a7abb97b76129978707173f5ce295e_3336.profile', './data/tree-rep-profiles_o2o_smallshort/short/66.renos_0.8/G71/b204a1e9d53273200df47dc5667fdc5213a7abb97b76129978707173f5ce295e_3336.profile']\n",
      "duplicate ERR: ['./data/tree-rep-profiles_o2o_smallshort/small/196.ripinip_0.8/G21/01cf1510d4ad0d3f34f7078de9898bd4ac118890d48b371af16432bfa4a47824_3160.profile', './data/tree-rep-profiles_o2o_smallshort/short/196.ripinip_0.8/G21/01cf1510d4ad0d3f34f7078de9898bd4ac118890d48b371af16432bfa4a47824_3160.profile']\n",
      "duplicate ERR: ['./data/tree-rep-profiles_o2o_smallshort/small/196.ripinip_0.8/G21/01cf1510d4ad0d3f34f7078de9898bd4ac118890d48b371af16432bfa4a47824_3188.profile', './data/tree-rep-profiles_o2o_smallshort/short/196.ripinip_0.8/G21/01cf1510d4ad0d3f34f7078de9898bd4ac118890d48b371af16432bfa4a47824_3188.profile']\n",
      "duplicate ERR: ['./data/tree-rep-profiles_o2o_smallshort/small/196.ripinip_0.8/G19/00a3f7ffed25497cf06818cd7794f5e4a799fe60afa91b99c0ed66b445fd8c18_3380.profile', './data/tree-rep-profiles_o2o_smallshort/short/196.ripinip_0.8/G19/00a3f7ffed25497cf06818cd7794f5e4a799fe60afa91b99c0ed66b445fd8c18_3380.profile']\n",
      "duplicate ERR: ['./data/tree-rep-profiles_o2o_smallshort/small/196.ripinip_0.8/G19/0f60024916ae17d9fdee54a847853f217999637344a30998625ae5a7e711b583_3236.profile', './data/tree-rep-profiles_o2o_smallshort/short/196.ripinip_0.8/G19/0f60024916ae17d9fdee54a847853f217999637344a30998625ae5a7e711b583_3236.profile']\n",
      "duplicate ERR: ['./data/tree-rep-profiles_o2o_smallshort/small/196.ripinip_0.8/G20/01cf1510d4ad0d3f34f7078de9898bd4ac118890d48b371af16432bfa4a47824_3132.profile', './data/tree-rep-profiles_o2o_smallshort/short/196.ripinip_0.8/G20/01cf1510d4ad0d3f34f7078de9898bd4ac118890d48b371af16432bfa4a47824_3132.profile']\n"
     ]
    },
    {
     "name": "stderr",
     "output_type": "stream",
     "text": [
      " 75%|███████▌  | 120/159 [00:46<00:08,  4.71it/s]"
     ]
    },
    {
     "name": "stdout",
     "output_type": "stream",
     "text": [
      "duplicate ERR: ['./data/tree-rep-profiles_o2o_smallshort/small/196.ripinip_0.8/G20/01cf1510d4ad0d3f34f7078de9898bd4ac118890d48b371af16432bfa4a47824_3260.profile', './data/tree-rep-profiles_o2o_smallshort/short/196.ripinip_0.8/G20/01cf1510d4ad0d3f34f7078de9898bd4ac118890d48b371af16432bfa4a47824_3260.profile']\n",
      "duplicate ERR: ['./data/tree-rep-profiles_o2o_smallshort/small/161.crossrider_0.8/G16/f2ee02bccf2d25609b67ddc595f2fbb4aef7c687fd3a2cb4ff5f0fd60e2aab9e_3316.profile', './data/tree-rep-profiles_o2o_smallshort/short/161.crossrider_0.8/G16/f2ee02bccf2d25609b67ddc595f2fbb4aef7c687fd3a2cb4ff5f0fd60e2aab9e_3316.profile']\n",
      "duplicate ERR: ['./data/tree-rep-profiles_o2o_smallshort/small/161.crossrider_0.8/G16/f2ee02bccf2d25609b67ddc595f2fbb4aef7c687fd3a2cb4ff5f0fd60e2aab9e_3212.profile', './data/tree-rep-profiles_o2o_smallshort/short/161.crossrider_0.8/G16/f2ee02bccf2d25609b67ddc595f2fbb4aef7c687fd3a2cb4ff5f0fd60e2aab9e_3212.profile']\n",
      "duplicate ERR: ['./data/tree-rep-profiles_o2o_smallshort/small/161.crossrider_0.8/G15/c4bde0548502e7d5db5c036a855957b8626e3de6bd3d2be0ea4264d06744cc80_2968.profile', './data/tree-rep-profiles_o2o_smallshort/short/161.crossrider_0.8/G15/c4bde0548502e7d5db5c036a855957b8626e3de6bd3d2be0ea4264d06744cc80_2968.profile']\n",
      "duplicate ERR: ['./data/tree-rep-profiles_o2o_smallshort/small/161.crossrider_0.8/G15/31f506fd583383b64fb97053744743f2d60f18a5f72bb5a6ff7816b967bcf110_3280.profile', './data/tree-rep-profiles_o2o_smallshort/short/161.crossrider_0.8/G15/31f506fd583383b64fb97053744743f2d60f18a5f72bb5a6ff7816b967bcf110_3280.profile']\n",
      "duplicate ERR: ['./data/tree-rep-profiles_o2o_smallshort/small/161.crossrider_0.8/G17/b857007c30495c6bcec999ddcca195a2292d383022758876a831a2fe9b03215d_2908.profile', './data/tree-rep-profiles_o2o_smallshort/short/161.crossrider_0.8/G17/b857007c30495c6bcec999ddcca195a2292d383022758876a831a2fe9b03215d_2908.profile']\n",
      "duplicate ERR: ['./data/tree-rep-profiles_o2o_smallshort/small/161.crossrider_0.8/G17/b857007c30495c6bcec999ddcca195a2292d383022758876a831a2fe9b03215d_3336.profile', './data/tree-rep-profiles_o2o_smallshort/short/161.crossrider_0.8/G17/b857007c30495c6bcec999ddcca195a2292d383022758876a831a2fe9b03215d_3336.profile']\n",
      "duplicate ERR: ['./data/tree-rep-profiles_o2o_smallshort/small/98.neshta_0.8/G38/c6d78700324550d91ac6c3708120eced5bc3d1e65b425f39b74386f688d3a30e_3348.profile', './data/tree-rep-profiles_o2o_smallshort/short/98.neshta_0.8/G38/c6d78700324550d91ac6c3708120eced5bc3d1e65b425f39b74386f688d3a30e_3348.profile']\n"
     ]
    },
    {
     "name": "stderr",
     "output_type": "stream",
     "text": [
      "\r",
      " 77%|███████▋  | 122/159 [00:46<00:06,  5.80it/s]"
     ]
    },
    {
     "name": "stdout",
     "output_type": "stream",
     "text": [
      "duplicate ERR: ['./data/tree-rep-profiles_o2o_smallshort/small/98.neshta_0.8/G38/8814759359c180fb461b4110eeadf4d13f159848005acd8ff654b54e0c9bfb2a_2860.profile', './data/tree-rep-profiles_o2o_smallshort/short/98.neshta_0.8/G38/8814759359c180fb461b4110eeadf4d13f159848005acd8ff654b54e0c9bfb2a_2860.profile']\n",
      "duplicate ERR: ['./data/tree-rep-profiles_o2o_smallshort/small/119.shipup_0.8/G21/0e6f47d9a800007b6009146f8d8a99218fa2600c752e8e64aa143359efc5310f_3296.profile', './data/tree-rep-profiles_o2o_smallshort/short/119.shipup_0.8/G21/0e6f47d9a800007b6009146f8d8a99218fa2600c752e8e64aa143359efc5310f_3296.profile']\n",
      "duplicate ERR: ['./data/tree-rep-profiles_o2o_smallshort/small/119.shipup_0.8/G21/0bbf6a35689a4b1366124ab1c677a74e6961e93f7bd89524b4d6b38fdeb52d1a_3248.profile', './data/tree-rep-profiles_o2o_smallshort/short/119.shipup_0.8/G21/0bbf6a35689a4b1366124ab1c677a74e6961e93f7bd89524b4d6b38fdeb52d1a_3248.profile']\n",
      "duplicate ERR: ['./data/tree-rep-profiles_o2o_smallshort/small/119.shipup_0.8/G20/15500f6869e70ec7e95ec25c749a7315125fd7d394e295f25cc3e240111d82be_3452.profile', './data/tree-rep-profiles_o2o_smallshort/short/119.shipup_0.8/G20/15500f6869e70ec7e95ec25c749a7315125fd7d394e295f25cc3e240111d82be_3452.profile']\n",
      "duplicate ERR: ['./data/tree-rep-profiles_o2o_smallshort/small/119.shipup_0.8/G20/178778b3a3755d823eaa351f22c200ac8154bc504558dc816c0a01444b4a336f_3476.profile', './data/tree-rep-profiles_o2o_smallshort/short/119.shipup_0.8/G20/178778b3a3755d823eaa351f22c200ac8154bc504558dc816c0a01444b4a336f_3476.profile']\n",
      "duplicate ERR: ['./data/tree-rep-profiles_o2o_smallshort/small/10.symmi_0.8/G596/0ed38d4fcf577faa6dce9a1546f703b4d4812e06b99b6b010e6c6a58b4cb5d19_3404.profile', './data/tree-rep-profiles_o2o_smallshort/short/10.symmi_0.8/G596/0ed38d4fcf577faa6dce9a1546f703b4d4812e06b99b6b010e6c6a58b4cb5d19_3404.profile']\n",
      "duplicate ERR: ['./data/tree-rep-profiles_o2o_smallshort/small/10.symmi_0.8/G596/0f2aff6dc60ecbe3cfdfefb795ddf152d3ff7568241e41540e37bbd68479dd6d_3468.profile', './data/tree-rep-profiles_o2o_smallshort/short/10.symmi_0.8/G596/0f2aff6dc60ecbe3cfdfefb795ddf152d3ff7568241e41540e37bbd68479dd6d_3468.profile']\n",
      "duplicate ERR: ['./data/tree-rep-profiles_o2o_smallshort/small/10.symmi_0.8/G522/8e7786bfd4026893d7c3b2a7a6d554238e59666265dc99e5c903314f6552156c_3252.profile', './data/tree-rep-profiles_o2o_smallshort/short/10.symmi_0.8/G522/8e7786bfd4026893d7c3b2a7a6d554238e59666265dc99e5c903314f6552156c_3252.profile']\n",
      "duplicate ERR: ['./data/tree-rep-profiles_o2o_smallshort/small/10.symmi_0.8/G522/acca5f766db0c26c61a5dc5ba8cd1a144350cbbbfcf18b291587fafb8fbc373a_3228.profile', './data/tree-rep-profiles_o2o_smallshort/short/10.symmi_0.8/G522/acca5f766db0c26c61a5dc5ba8cd1a144350cbbbfcf18b291587fafb8fbc373a_3228.profile']\n",
      "duplicate ERR: ['./data/tree-rep-profiles_o2o_smallshort/small/10.symmi_0.8/G551/4e63da4925aebc81bf8e4ad571a94e819dd2dd9cc13031e2c80259c723dd9416_428.profile', './data/tree-rep-profiles_o2o_smallshort/short/10.symmi_0.8/G551/4e63da4925aebc81bf8e4ad571a94e819dd2dd9cc13031e2c80259c723dd9416_428.profile']\n",
      "duplicate ERR: ['./data/tree-rep-profiles_o2o_smallshort/small/10.symmi_0.8/G551/b3c29c98eb3160d7f016a9f2a104070cca51a281a62ce3eb922ce1a890aaa0a0_444.profile', './data/tree-rep-profiles_o2o_smallshort/short/10.symmi_0.8/G551/b3c29c98eb3160d7f016a9f2a104070cca51a281a62ce3eb922ce1a890aaa0a0_444.profile']\n",
      "duplicate ERR: ['./data/tree-rep-profiles_o2o_smallshort/small/10.symmi_0.8/G569/4fb829a0e42ec86cafd120129a40bacf2486be055454eb7e94cd759123cfcb46_3184.profile', './data/tree-rep-profiles_o2o_smallshort/short/10.symmi_0.8/G569/4fb829a0e42ec86cafd120129a40bacf2486be055454eb7e94cd759123cfcb46_3184.profile']\n",
      "duplicate ERR: ['./data/tree-rep-profiles_o2o_smallshort/small/10.symmi_0.8/G569/4fb829a0e42ec86cafd120129a40bacf2486be055454eb7e94cd759123cfcb46_3472.profile', './data/tree-rep-profiles_o2o_smallshort/short/10.symmi_0.8/G569/4fb829a0e42ec86cafd120129a40bacf2486be055454eb7e94cd759123cfcb46_3472.profile']\n",
      "duplicate ERR: ['./data/tree-rep-profiles_o2o_smallshort/small/10.symmi_0.8/G598/d8801245beccc9dd564194c76a4c18d1a185c28b5b5418638608d9c79d9a8f58_3212.profile', './data/tree-rep-profiles_o2o_smallshort/short/10.symmi_0.8/G598/d8801245beccc9dd564194c76a4c18d1a185c28b5b5418638608d9c79d9a8f58_3212.profile']\n",
      "duplicate ERR: ['./data/tree-rep-profiles_o2o_smallshort/small/10.symmi_0.8/G598/377668ac1208c22be02c9e246db96a6743f4892620e87f54ebd7a001f8bea3bd_3316.profile', './data/tree-rep-profiles_o2o_smallshort/short/10.symmi_0.8/G598/377668ac1208c22be02c9e246db96a6743f4892620e87f54ebd7a001f8bea3bd_3316.profile']\n",
      "duplicate ERR: ['./data/tree-rep-profiles_o2o_smallshort/small/10.symmi_0.8/G529/58deadd02f350ecefeb6b9872271c259d326bb06d3e9d28141b0071cdd65f817_3300.profile', './data/tree-rep-profiles_o2o_smallshort/short/10.symmi_0.8/G529/58deadd02f350ecefeb6b9872271c259d326bb06d3e9d28141b0071cdd65f817_3300.profile']\n",
      "duplicate ERR: ['./data/tree-rep-profiles_o2o_smallshort/small/10.symmi_0.8/G529/6aca7c38c282f5c8001c8fde6fe477c00ebce2d0018f858ef822ef8692f3e526_2852.profile', './data/tree-rep-profiles_o2o_smallshort/short/10.symmi_0.8/G529/6aca7c38c282f5c8001c8fde6fe477c00ebce2d0018f858ef822ef8692f3e526_2852.profile']\n",
      "duplicate ERR: ['./data/tree-rep-profiles_o2o_smallshort/small/10.symmi_0.8/G587/111d6cebeea50f488cd59481f86b152e3470e756950a5482de7f598caf4bdb31_3292.profile', './data/tree-rep-profiles_o2o_smallshort/short/10.symmi_0.8/G587/111d6cebeea50f488cd59481f86b152e3470e756950a5482de7f598caf4bdb31_3292.profile']\n",
      "duplicate ERR: ['./data/tree-rep-profiles_o2o_smallshort/small/10.symmi_0.8/G587/0c0170312b042ebfb4469d7edb312901e22664034ba039eda2a749e04a223535_3268.profile', './data/tree-rep-profiles_o2o_smallshort/short/10.symmi_0.8/G587/0c0170312b042ebfb4469d7edb312901e22664034ba039eda2a749e04a223535_3268.profile']\n",
      "duplicate ERR: ['./data/tree-rep-profiles_o2o_smallshort/small/10.symmi_0.8/G584/1d1aadc3ac884a16f1f39be110f92eee416e497ad0322f89f7afcf9a3b8e03eb_3320.profile', './data/tree-rep-profiles_o2o_smallshort/short/10.symmi_0.8/G584/1d1aadc3ac884a16f1f39be110f92eee416e497ad0322f89f7afcf9a3b8e03eb_3320.profile']\n",
      "duplicate ERR: ['./data/tree-rep-profiles_o2o_smallshort/small/10.symmi_0.8/G584/1d06edecf04aa738527d62c567f73940a6d63d6aed26d346f3b05ecabcfc3b56_3172.profile', './data/tree-rep-profiles_o2o_smallshort/short/10.symmi_0.8/G584/1d06edecf04aa738527d62c567f73940a6d63d6aed26d346f3b05ecabcfc3b56_3172.profile']\n",
      "duplicate ERR: ['./data/tree-rep-profiles_o2o_smallshort/small/10.symmi_0.8/G597/e4968d6d198092ce9c2aca3b7ceecbaf8d7028fbe2363006f18d7a4229e4f482_3264.profile', './data/tree-rep-profiles_o2o_smallshort/short/10.symmi_0.8/G597/e4968d6d198092ce9c2aca3b7ceecbaf8d7028fbe2363006f18d7a4229e4f482_3264.profile']\n",
      "duplicate ERR: ['./data/tree-rep-profiles_o2o_smallshort/small/10.symmi_0.8/G597/ef4a773cffae99f7a1223c640ffa3be5f33ba0a1543242b7633a283c8ac345a2_3188.profile', './data/tree-rep-profiles_o2o_smallshort/short/10.symmi_0.8/G597/ef4a773cffae99f7a1223c640ffa3be5f33ba0a1543242b7633a283c8ac345a2_3188.profile']\n",
      "duplicate ERR: ['./data/tree-rep-profiles_o2o_smallshort/small/10.symmi_0.8/G501/135bd402d42e1b1bdab28817f87dda0586437963c7409437cf992b8149f653a7_3156.profile', './data/tree-rep-profiles_o2o_smallshort/short/10.symmi_0.8/G501/135bd402d42e1b1bdab28817f87dda0586437963c7409437cf992b8149f653a7_3156.profile']\n",
      "duplicate ERR: ['./data/tree-rep-profiles_o2o_smallshort/small/10.symmi_0.8/G501/12a2144ddd7bfbe070d8c8e9dad95eb36aa05e9e730006fba508faee80209468_3220.profile', './data/tree-rep-profiles_o2o_smallshort/short/10.symmi_0.8/G501/12a2144ddd7bfbe070d8c8e9dad95eb36aa05e9e730006fba508faee80209468_3220.profile']\n",
      "duplicate ERR: ['./data/tree-rep-profiles_o2o_smallshort/small/10.symmi_0.8/G517/15a31bc8567c641f92571974f8e798953b0c47fd5ae904c0eb89fac732f3e9e9_3248.profile', './data/tree-rep-profiles_o2o_smallshort/short/10.symmi_0.8/G517/15a31bc8567c641f92571974f8e798953b0c47fd5ae904c0eb89fac732f3e9e9_3248.profile']\n",
      "duplicate ERR: ['./data/tree-rep-profiles_o2o_smallshort/small/10.symmi_0.8/G517/00f34f8f23b8c86d0f6debe96423ef4e902bbac83dbe9ef09d7b0ecb02c0b905_3392.profile', './data/tree-rep-profiles_o2o_smallshort/short/10.symmi_0.8/G517/00f34f8f23b8c86d0f6debe96423ef4e902bbac83dbe9ef09d7b0ecb02c0b905_3392.profile']\n",
      "duplicate ERR: ['./data/tree-rep-profiles_o2o_smallshort/small/10.symmi_0.8/G512/6c3898513ea8998594dae5e1474e5bb64f1123fc40edaa58ecd8b011e5122ac6_464.profile', './data/tree-rep-profiles_o2o_smallshort/short/10.symmi_0.8/G512/6c3898513ea8998594dae5e1474e5bb64f1123fc40edaa58ecd8b011e5122ac6_464.profile']\n",
      "duplicate ERR: ['./data/tree-rep-profiles_o2o_smallshort/small/10.symmi_0.8/G512/6c3898513ea8998594dae5e1474e5bb64f1123fc40edaa58ecd8b011e5122ac6_2216.profile', './data/tree-rep-profiles_o2o_smallshort/short/10.symmi_0.8/G512/6c3898513ea8998594dae5e1474e5bb64f1123fc40edaa58ecd8b011e5122ac6_2216.profile']\n",
      "duplicate ERR: ['./data/tree-rep-profiles_o2o_smallshort/small/10.symmi_0.8/G561/8a2981fbc46d73d5555da25cc39a641978ef5a3859f91dc945f25a39d7d6f593_3240.profile', './data/tree-rep-profiles_o2o_smallshort/short/10.symmi_0.8/G561/8a2981fbc46d73d5555da25cc39a641978ef5a3859f91dc945f25a39d7d6f593_3240.profile']\n",
      "duplicate ERR: ['./data/tree-rep-profiles_o2o_smallshort/small/10.symmi_0.8/G561/3354326bae03100ea0d934179198c52696b81485a8d392fc0f79c6424bd0285c_3404.profile', './data/tree-rep-profiles_o2o_smallshort/short/10.symmi_0.8/G561/3354326bae03100ea0d934179198c52696b81485a8d392fc0f79c6424bd0285c_3404.profile']\n",
      "duplicate ERR: ['./data/tree-rep-profiles_o2o_smallshort/small/10.symmi_0.8/G513/0ec4649b81a3b56ef62636c61bb0e70fb341cee80468a83ba4dd79e52a39659f_2876.profile', './data/tree-rep-profiles_o2o_smallshort/short/10.symmi_0.8/G513/0ec4649b81a3b56ef62636c61bb0e70fb341cee80468a83ba4dd79e52a39659f_2876.profile']\n"
     ]
    },
    {
     "name": "stdout",
     "output_type": "stream",
     "text": [
      "duplicate ERR: ['./data/tree-rep-profiles_o2o_smallshort/small/10.symmi_0.8/G513/0ceab0284218d0e78305ff1753e195e29bd6fdc80cf08b62de8240b282ce1eb2_3516.profile', './data/tree-rep-profiles_o2o_smallshort/short/10.symmi_0.8/G513/0ceab0284218d0e78305ff1753e195e29bd6fdc80cf08b62de8240b282ce1eb2_3516.profile']\n",
      "duplicate ERR: ['./data/tree-rep-profiles_o2o_smallshort/small/10.symmi_0.8/G576/06c26b260c2bc4161ba56453a88638e3224f200e9ae9825fea9d3686f14db3c0_3356.profile', './data/tree-rep-profiles_o2o_smallshort/short/10.symmi_0.8/G576/06c26b260c2bc4161ba56453a88638e3224f200e9ae9825fea9d3686f14db3c0_3356.profile']\n",
      "duplicate ERR: ['./data/tree-rep-profiles_o2o_smallshort/small/10.symmi_0.8/G576/009eb5d5c1e653ae8d2e3236e0e7acff32ec7e2bbb2e2911aa6a34e2389f324d_3292.profile', './data/tree-rep-profiles_o2o_smallshort/short/10.symmi_0.8/G576/009eb5d5c1e653ae8d2e3236e0e7acff32ec7e2bbb2e2911aa6a34e2389f324d_3292.profile']\n",
      "duplicate ERR: ['./data/tree-rep-profiles_o2o_smallshort/small/10.symmi_0.8/G582/b3c29c98eb3160d7f016a9f2a104070cca51a281a62ce3eb922ce1a890aaa0a0_3296.profile', './data/tree-rep-profiles_o2o_smallshort/short/10.symmi_0.8/G582/b3c29c98eb3160d7f016a9f2a104070cca51a281a62ce3eb922ce1a890aaa0a0_3296.profile']\n",
      "duplicate ERR: ['./data/tree-rep-profiles_o2o_smallshort/small/10.symmi_0.8/G582/4e63da4925aebc81bf8e4ad571a94e819dd2dd9cc13031e2c80259c723dd9416_3388.profile', './data/tree-rep-profiles_o2o_smallshort/short/10.symmi_0.8/G582/4e63da4925aebc81bf8e4ad571a94e819dd2dd9cc13031e2c80259c723dd9416_3388.profile']\n",
      "duplicate ERR: ['./data/tree-rep-profiles_o2o_smallshort/small/10.symmi_0.8/G579/01ea44f528ef4e7f078a8198a72bb730c739586bb54c3b7265596f7fbe3a2e68_3484.profile', './data/tree-rep-profiles_o2o_smallshort/short/10.symmi_0.8/G579/01ea44f528ef4e7f078a8198a72bb730c739586bb54c3b7265596f7fbe3a2e68_3484.profile']\n",
      "duplicate ERR: ['./data/tree-rep-profiles_o2o_smallshort/small/10.symmi_0.8/G579/01ea44f528ef4e7f078a8198a72bb730c739586bb54c3b7265596f7fbe3a2e68_3436.profile', './data/tree-rep-profiles_o2o_smallshort/short/10.symmi_0.8/G579/01ea44f528ef4e7f078a8198a72bb730c739586bb54c3b7265596f7fbe3a2e68_3436.profile']\n",
      "duplicate ERR: ['./data/tree-rep-profiles_o2o_smallshort/small/10.symmi_0.8/G496/101f1123c2cd889819147d9679966d1c6cc1e7b0070af080f6617f8a93202ca7_3320.profile', './data/tree-rep-profiles_o2o_smallshort/short/10.symmi_0.8/G496/101f1123c2cd889819147d9679966d1c6cc1e7b0070af080f6617f8a93202ca7_3320.profile']\n",
      "duplicate ERR: ['./data/tree-rep-profiles_o2o_smallshort/small/10.symmi_0.8/G496/13cdb1792176899b284837667b833fd433249b4ed40d3c239a7fba2e7271f29c_2864.profile', './data/tree-rep-profiles_o2o_smallshort/short/10.symmi_0.8/G496/13cdb1792176899b284837667b833fd433249b4ed40d3c239a7fba2e7271f29c_2864.profile']\n",
      "duplicate ERR: ['./data/tree-rep-profiles_o2o_smallshort/small/10.symmi_0.8/G544/0f843fc443962d8d65560a165ac2faef2217e9f505b798260503173bd3acd5ee_3312.profile', './data/tree-rep-profiles_o2o_smallshort/short/10.symmi_0.8/G544/0f843fc443962d8d65560a165ac2faef2217e9f505b798260503173bd3acd5ee_3312.profile']\n",
      "duplicate ERR: ['./data/tree-rep-profiles_o2o_smallshort/small/10.symmi_0.8/G544/109ce29adc0ef74563102468125a53d80a0729e269aead3403c914eabfee571a_3184.profile', './data/tree-rep-profiles_o2o_smallshort/short/10.symmi_0.8/G544/109ce29adc0ef74563102468125a53d80a0729e269aead3403c914eabfee571a_3184.profile']\n",
      "duplicate ERR: ['./data/tree-rep-profiles_o2o_smallshort/small/10.symmi_0.8/G601/ef4a773cffae99f7a1223c640ffa3be5f33ba0a1543242b7633a283c8ac345a2_3380.profile', './data/tree-rep-profiles_o2o_smallshort/short/10.symmi_0.8/G601/ef4a773cffae99f7a1223c640ffa3be5f33ba0a1543242b7633a283c8ac345a2_3380.profile']\n",
      "duplicate ERR: ['./data/tree-rep-profiles_o2o_smallshort/small/10.symmi_0.8/G601/1d2fcf6f64abb4e54396a53955e14246e0d71aa96bb512df502b3d0329d5c522_3420.profile', './data/tree-rep-profiles_o2o_smallshort/short/10.symmi_0.8/G601/1d2fcf6f64abb4e54396a53955e14246e0d71aa96bb512df502b3d0329d5c522_3420.profile']\n",
      "duplicate ERR: ['./data/tree-rep-profiles_o2o_smallshort/small/10.symmi_0.8/G524/11a72d01fbe2bce69591e0ca484a131da525b503743cd9ef2daea0c9c8d30eb7_3248.profile', './data/tree-rep-profiles_o2o_smallshort/short/10.symmi_0.8/G524/11a72d01fbe2bce69591e0ca484a131da525b503743cd9ef2daea0c9c8d30eb7_3248.profile']\n",
      "duplicate ERR: ['./data/tree-rep-profiles_o2o_smallshort/small/10.symmi_0.8/G524/4dd1763f1ac9afa17f8efffd2d64bc5b91493b134f4aca80671b0adac7ee2fdd_3372.profile', './data/tree-rep-profiles_o2o_smallshort/short/10.symmi_0.8/G524/4dd1763f1ac9afa17f8efffd2d64bc5b91493b134f4aca80671b0adac7ee2fdd_3372.profile']\n",
      "duplicate ERR: ['./data/tree-rep-profiles_o2o_smallshort/small/10.symmi_0.8/G548/6ff06b0c8177ea86cb74934ba2201f93f4b0e62f3905210c59e8cd2e500f1a8e_2984.profile', './data/tree-rep-profiles_o2o_smallshort/short/10.symmi_0.8/G548/6ff06b0c8177ea86cb74934ba2201f93f4b0e62f3905210c59e8cd2e500f1a8e_2984.profile']\n",
      "duplicate ERR: ['./data/tree-rep-profiles_o2o_smallshort/small/10.symmi_0.8/G548/60edf747dc4fe4ab2c20c5880ee8a84c2169fe8a9d01f4b268a25f9f5d294aed_2900.profile', './data/tree-rep-profiles_o2o_smallshort/short/10.symmi_0.8/G548/60edf747dc4fe4ab2c20c5880ee8a84c2169fe8a9d01f4b268a25f9f5d294aed_2900.profile']\n",
      "duplicate ERR: ['./data/tree-rep-profiles_o2o_smallshort/small/10.symmi_0.8/G583/bedb3e3e49c20dd015a748ae761bcea6e7a73ff57504b0c015b2cc03a5d7bc08_3288.profile', './data/tree-rep-profiles_o2o_smallshort/short/10.symmi_0.8/G583/bedb3e3e49c20dd015a748ae761bcea6e7a73ff57504b0c015b2cc03a5d7bc08_3288.profile']\n",
      "duplicate ERR: ['./data/tree-rep-profiles_o2o_smallshort/small/10.symmi_0.8/G583/aae6f2c5c02ebb9232b3d4988c09f58e741c6a031633e05231176354ce0197d3_3376.profile', './data/tree-rep-profiles_o2o_smallshort/short/10.symmi_0.8/G583/aae6f2c5c02ebb9232b3d4988c09f58e741c6a031633e05231176354ce0197d3_3376.profile']\n",
      "duplicate ERR: ['./data/tree-rep-profiles_o2o_smallshort/small/10.symmi_0.8/G516/2162df10ea9e5f9a8a8698993c2c5ae95a855581fd0e90dec91048275edb427a_3240.profile', './data/tree-rep-profiles_o2o_smallshort/short/10.symmi_0.8/G516/2162df10ea9e5f9a8a8698993c2c5ae95a855581fd0e90dec91048275edb427a_3240.profile']\n",
      "duplicate ERR: ['./data/tree-rep-profiles_o2o_smallshort/small/10.symmi_0.8/G516/2162df10ea9e5f9a8a8698993c2c5ae95a855581fd0e90dec91048275edb427a_3308.profile', './data/tree-rep-profiles_o2o_smallshort/short/10.symmi_0.8/G516/2162df10ea9e5f9a8a8698993c2c5ae95a855581fd0e90dec91048275edb427a_3308.profile']\n",
      "duplicate ERR: ['./data/tree-rep-profiles_o2o_smallshort/small/10.symmi_0.8/G499/6ef117eaa9fd69e4a4a5aabf415113a904d48cbc040a25e07532013b2063208d_3292.profile', './data/tree-rep-profiles_o2o_smallshort/short/10.symmi_0.8/G499/6ef117eaa9fd69e4a4a5aabf415113a904d48cbc040a25e07532013b2063208d_3292.profile']\n",
      "duplicate ERR: ['./data/tree-rep-profiles_o2o_smallshort/small/10.symmi_0.8/G499/6ef117eaa9fd69e4a4a5aabf415113a904d48cbc040a25e07532013b2063208d_2904.profile', './data/tree-rep-profiles_o2o_smallshort/short/10.symmi_0.8/G499/6ef117eaa9fd69e4a4a5aabf415113a904d48cbc040a25e07532013b2063208d_2904.profile']\n",
      "duplicate ERR: ['./data/tree-rep-profiles_o2o_smallshort/small/10.symmi_0.8/G600/0baa6042acb9104cb911f4ec5b437775d8fbc5d3a3ad0b778a896b75bbca964e_3248.profile', './data/tree-rep-profiles_o2o_smallshort/short/10.symmi_0.8/G600/0baa6042acb9104cb911f4ec5b437775d8fbc5d3a3ad0b778a896b75bbca964e_3248.profile']\n",
      "duplicate ERR: ['./data/tree-rep-profiles_o2o_smallshort/small/10.symmi_0.8/G600/0c097296ae208d95744602fcf23c838ea07de1af90caf7afa4fffe343c858e4f_2904.profile', './data/tree-rep-profiles_o2o_smallshort/short/10.symmi_0.8/G600/0c097296ae208d95744602fcf23c838ea07de1af90caf7afa4fffe343c858e4f_2904.profile']\n",
      "duplicate ERR: ['./data/tree-rep-profiles_o2o_smallshort/small/10.symmi_0.8/G605/075a51d80fedb1da381764f81b0efcd5b1a8231070c53eb8bac9bd6dfd319e42_2844.profile', './data/tree-rep-profiles_o2o_smallshort/short/10.symmi_0.8/G605/075a51d80fedb1da381764f81b0efcd5b1a8231070c53eb8bac9bd6dfd319e42_2844.profile']\n",
      "duplicate ERR: ['./data/tree-rep-profiles_o2o_smallshort/small/10.symmi_0.8/G605/075a51d80fedb1da381764f81b0efcd5b1a8231070c53eb8bac9bd6dfd319e42_2888.profile', './data/tree-rep-profiles_o2o_smallshort/short/10.symmi_0.8/G605/075a51d80fedb1da381764f81b0efcd5b1a8231070c53eb8bac9bd6dfd319e42_2888.profile']\n",
      "duplicate ERR: ['./data/tree-rep-profiles_o2o_smallshort/small/10.symmi_0.8/G591/130e85c0d0b32d92d509b9ef10fb271e6c6aeb47482717ba86c7c734951878ac_3396.profile', './data/tree-rep-profiles_o2o_smallshort/short/10.symmi_0.8/G591/130e85c0d0b32d92d509b9ef10fb271e6c6aeb47482717ba86c7c734951878ac_3396.profile']\n",
      "duplicate ERR: ['./data/tree-rep-profiles_o2o_smallshort/small/10.symmi_0.8/G591/145a03cf45ec6a7e1e79679fb2656814607c43db5754968f00dbcb48f352a6bc_3364.profile', './data/tree-rep-profiles_o2o_smallshort/short/10.symmi_0.8/G591/145a03cf45ec6a7e1e79679fb2656814607c43db5754968f00dbcb48f352a6bc_3364.profile']\n",
      "duplicate ERR: ['./data/tree-rep-profiles_o2o_smallshort/small/10.symmi_0.8/G608/eb2615223b15ebf5d5e6a56daf4425c8121cd8ae8908b35fab4605732eede2e2_3520.profile', './data/tree-rep-profiles_o2o_smallshort/short/10.symmi_0.8/G608/eb2615223b15ebf5d5e6a56daf4425c8121cd8ae8908b35fab4605732eede2e2_3520.profile']\n",
      "duplicate ERR: ['./data/tree-rep-profiles_o2o_smallshort/small/10.symmi_0.8/G608/e84cf0532f2ed66c9cfd7dba927e7387a0f130cfa529114bbeb52ef83bab9c75_3364.profile', './data/tree-rep-profiles_o2o_smallshort/short/10.symmi_0.8/G608/e84cf0532f2ed66c9cfd7dba927e7387a0f130cfa529114bbeb52ef83bab9c75_3364.profile']\n",
      "duplicate ERR: ['./data/tree-rep-profiles_o2o_smallshort/small/10.symmi_0.8/G549/92a3bf719970c6728a6527f3d4af71a3ce9ad8625ba1d409805d7ca84751efef_2996.profile', './data/tree-rep-profiles_o2o_smallshort/short/10.symmi_0.8/G549/92a3bf719970c6728a6527f3d4af71a3ce9ad8625ba1d409805d7ca84751efef_2996.profile']\n"
     ]
    },
    {
     "name": "stdout",
     "output_type": "stream",
     "text": [
      "duplicate ERR: ['./data/tree-rep-profiles_o2o_smallshort/small/10.symmi_0.8/G549/6749ac3ea9bccfe9a04affd21284eecd0e54af2fbf5e5d6298a10efd8bc6b679_3344.profile', './data/tree-rep-profiles_o2o_smallshort/short/10.symmi_0.8/G549/6749ac3ea9bccfe9a04affd21284eecd0e54af2fbf5e5d6298a10efd8bc6b679_3344.profile']\n",
      "duplicate ERR: ['./data/tree-rep-profiles_o2o_smallshort/small/10.symmi_0.8/G590/9b7e372b332ce7e28828f22f21fb6e000460a641aaec138a2631efbf6e135870_3276.profile', './data/tree-rep-profiles_o2o_smallshort/short/10.symmi_0.8/G590/9b7e372b332ce7e28828f22f21fb6e000460a641aaec138a2631efbf6e135870_3276.profile']\n",
      "duplicate ERR: ['./data/tree-rep-profiles_o2o_smallshort/small/10.symmi_0.8/G590/9b7e372b332ce7e28828f22f21fb6e000460a641aaec138a2631efbf6e135870_3248.profile', './data/tree-rep-profiles_o2o_smallshort/short/10.symmi_0.8/G590/9b7e372b332ce7e28828f22f21fb6e000460a641aaec138a2631efbf6e135870_3248.profile']\n",
      "duplicate ERR: ['./data/tree-rep-profiles_o2o_smallshort/small/10.symmi_0.8/G528/0047ceec5caa8d3df2a07ccdac654decc75d67c2f8678620d8f804f34e022430_3228.profile', './data/tree-rep-profiles_o2o_smallshort/short/10.symmi_0.8/G528/0047ceec5caa8d3df2a07ccdac654decc75d67c2f8678620d8f804f34e022430_3228.profile']\n",
      "duplicate ERR: ['./data/tree-rep-profiles_o2o_smallshort/small/10.symmi_0.8/G528/0fd7f687bf9c4fb009e55f8ccccffae9dfe40bbb7a95841ea55b4be6c7069606_3188.profile', './data/tree-rep-profiles_o2o_smallshort/short/10.symmi_0.8/G528/0fd7f687bf9c4fb009e55f8ccccffae9dfe40bbb7a95841ea55b4be6c7069606_3188.profile']\n",
      "duplicate ERR: ['./data/tree-rep-profiles_o2o_smallshort/small/10.symmi_0.8/G535/41ea10a30418402415086e1a6c6bb59e2327acc276a3b344360716bb3af60306_3240.profile', './data/tree-rep-profiles_o2o_smallshort/short/10.symmi_0.8/G535/41ea10a30418402415086e1a6c6bb59e2327acc276a3b344360716bb3af60306_3240.profile']\n",
      "duplicate ERR: ['./data/tree-rep-profiles_o2o_smallshort/small/10.symmi_0.8/G535/1039e3a49129420aa042e23268c1e836ac37eb35132db84e6d1cdefda6dcfacf_3288.profile', './data/tree-rep-profiles_o2o_smallshort/short/10.symmi_0.8/G535/1039e3a49129420aa042e23268c1e836ac37eb35132db84e6d1cdefda6dcfacf_3288.profile']\n",
      "duplicate ERR: ['./data/tree-rep-profiles_o2o_smallshort/small/10.symmi_0.8/G510/0f53f9709b2e7ea29ac6c27c8c3296734a2e1c461bc30cda45747b6457fb314e_3204.profile', './data/tree-rep-profiles_o2o_smallshort/short/10.symmi_0.8/G510/0f53f9709b2e7ea29ac6c27c8c3296734a2e1c461bc30cda45747b6457fb314e_3204.profile']\n",
      "duplicate ERR: ['./data/tree-rep-profiles_o2o_smallshort/small/10.symmi_0.8/G510/09fba5951ccaee10e65563f903b9256c1dad2e6326d5018d6a1d7513fb423baf_2776.profile', './data/tree-rep-profiles_o2o_smallshort/short/10.symmi_0.8/G510/09fba5951ccaee10e65563f903b9256c1dad2e6326d5018d6a1d7513fb423baf_2776.profile']\n",
      "duplicate ERR: ['./data/tree-rep-profiles_o2o_smallshort/small/10.symmi_0.8/G531/20f3fa700747b042634d9d4aa17ba67c4582c0e6c17a6776cd2b62808b920848_3300.profile', './data/tree-rep-profiles_o2o_smallshort/short/10.symmi_0.8/G531/20f3fa700747b042634d9d4aa17ba67c4582c0e6c17a6776cd2b62808b920848_3300.profile']\n",
      "duplicate ERR: ['./data/tree-rep-profiles_o2o_smallshort/small/10.symmi_0.8/G531/4b0738af695a072b3fc59bed91b50e494d64b2d652994e0a3dcf590a494eeaa6_3320.profile', './data/tree-rep-profiles_o2o_smallshort/short/10.symmi_0.8/G531/4b0738af695a072b3fc59bed91b50e494d64b2d652994e0a3dcf590a494eeaa6_3320.profile']\n",
      "duplicate ERR: ['./data/tree-rep-profiles_o2o_smallshort/small/10.symmi_0.8/G518/70e1736f1bd6fa2d0737bafdfd93bb39a6fcb02b2991c73da247e4a0d01c7011_3312.profile', './data/tree-rep-profiles_o2o_smallshort/short/10.symmi_0.8/G518/70e1736f1bd6fa2d0737bafdfd93bb39a6fcb02b2991c73da247e4a0d01c7011_3312.profile']\n",
      "duplicate ERR: ['./data/tree-rep-profiles_o2o_smallshort/small/10.symmi_0.8/G518/70e1736f1bd6fa2d0737bafdfd93bb39a6fcb02b2991c73da247e4a0d01c7011_3308.profile', './data/tree-rep-profiles_o2o_smallshort/short/10.symmi_0.8/G518/70e1736f1bd6fa2d0737bafdfd93bb39a6fcb02b2991c73da247e4a0d01c7011_3308.profile']\n",
      "duplicate ERR: ['./data/tree-rep-profiles_o2o_smallshort/small/10.symmi_0.8/G498/810fab7a8737e2ac35f86efd69368d6c729ef8a8247950a46a5bce0247fc1c89_3404.profile', './data/tree-rep-profiles_o2o_smallshort/short/10.symmi_0.8/G498/810fab7a8737e2ac35f86efd69368d6c729ef8a8247950a46a5bce0247fc1c89_3404.profile']\n",
      "duplicate ERR: ['./data/tree-rep-profiles_o2o_smallshort/small/10.symmi_0.8/G498/92a3bf719970c6728a6527f3d4af71a3ce9ad8625ba1d409805d7ca84751efef_3252.profile', './data/tree-rep-profiles_o2o_smallshort/short/10.symmi_0.8/G498/92a3bf719970c6728a6527f3d4af71a3ce9ad8625ba1d409805d7ca84751efef_3252.profile']\n",
      "duplicate ERR: ['./data/tree-rep-profiles_o2o_smallshort/small/10.symmi_0.8/G588/26878433f1009097ef331c65d559a81431cdf71536ba7e9e3994f781011dea98_3260.profile', './data/tree-rep-profiles_o2o_smallshort/short/10.symmi_0.8/G588/26878433f1009097ef331c65d559a81431cdf71536ba7e9e3994f781011dea98_3260.profile']\n",
      "duplicate ERR: ['./data/tree-rep-profiles_o2o_smallshort/small/10.symmi_0.8/G588/0ab5f3462a644e8464f62037088bf53e30c5d296584c853f43b9a9ca519d0c21_3288.profile', './data/tree-rep-profiles_o2o_smallshort/short/10.symmi_0.8/G588/0ab5f3462a644e8464f62037088bf53e30c5d296584c853f43b9a9ca519d0c21_3288.profile']\n",
      "duplicate ERR: ['./data/tree-rep-profiles_o2o_smallshort/small/10.symmi_0.8/G585/1c18737af8b20b5bc9fdde688b920aed7e7befa78d5f7a46e86427d0107d7937_3320.profile', './data/tree-rep-profiles_o2o_smallshort/short/10.symmi_0.8/G585/1c18737af8b20b5bc9fdde688b920aed7e7befa78d5f7a46e86427d0107d7937_3320.profile']\n"
     ]
    },
    {
     "name": "stderr",
     "output_type": "stream",
     "text": [
      "\r",
      " 77%|███████▋  | 123/159 [00:48<00:26,  1.35it/s]"
     ]
    },
    {
     "name": "stdout",
     "output_type": "stream",
     "text": [
      "duplicate ERR: ['./data/tree-rep-profiles_o2o_smallshort/small/10.symmi_0.8/G585/15a57d2b1156fe3afb69bd9d99c7077c3e0e3f44cd72a6b9cbc6628ca2fe053f_3272.profile', './data/tree-rep-profiles_o2o_smallshort/short/10.symmi_0.8/G585/15a57d2b1156fe3afb69bd9d99c7077c3e0e3f44cd72a6b9cbc6628ca2fe053f_3272.profile']\n",
      "duplicate ERR: ['./data/tree-rep-profiles_o2o_smallshort/small/10.symmi_0.8/G599/157fca58ec5fe2bee6baee5a0b7acf6e15925b8f37a359f7dc6b691024eec8d5_3236.profile', './data/tree-rep-profiles_o2o_smallshort/short/10.symmi_0.8/G599/157fca58ec5fe2bee6baee5a0b7acf6e15925b8f37a359f7dc6b691024eec8d5_3236.profile']\n",
      "duplicate ERR: ['./data/tree-rep-profiles_o2o_smallshort/small/10.symmi_0.8/G599/064bca37d672fddf181686fdfcdc9e95c22202d52f3b2b80e81347759c797728_3192.profile', './data/tree-rep-profiles_o2o_smallshort/short/10.symmi_0.8/G599/064bca37d672fddf181686fdfcdc9e95c22202d52f3b2b80e81347759c797728_3192.profile']\n",
      "duplicate ERR: ['./data/tree-rep-profiles_o2o_smallshort/small/33.mira_0.8/G191/69af928432ae1e123a40f97c04d052091225ba524c692cf6179b33a5916edea8_2848.profile', './data/tree-rep-profiles_o2o_smallshort/short/33.mira_0.8/G191/69af928432ae1e123a40f97c04d052091225ba524c692cf6179b33a5916edea8_2848.profile']\n",
      "duplicate ERR: ['./data/tree-rep-profiles_o2o_smallshort/small/33.mira_0.8/G191/04c05bf338b50bd18858eb28e5abbf275d06c4b8e39e4facc6d94f52f11877ce_2952.profile', './data/tree-rep-profiles_o2o_smallshort/short/33.mira_0.8/G191/04c05bf338b50bd18858eb28e5abbf275d06c4b8e39e4facc6d94f52f11877ce_2952.profile']\n",
      "duplicate ERR: ['./data/tree-rep-profiles_o2o_smallshort/small/33.mira_0.8/G202/b84c974fdd7b30589181e7feac9229f86bcbe36410fc0e7d998120e80c0ae36d_3140.profile', './data/tree-rep-profiles_o2o_smallshort/short/33.mira_0.8/G202/b84c974fdd7b30589181e7feac9229f86bcbe36410fc0e7d998120e80c0ae36d_3140.profile']\n",
      "duplicate ERR: ['./data/tree-rep-profiles_o2o_smallshort/small/33.mira_0.8/G202/6dda801f1df0dc83679143a3ec253af340829f8fed988876b68d017ea275309a_3004.profile', './data/tree-rep-profiles_o2o_smallshort/short/33.mira_0.8/G202/6dda801f1df0dc83679143a3ec253af340829f8fed988876b68d017ea275309a_3004.profile']\n",
      "duplicate ERR: ['./data/tree-rep-profiles_o2o_smallshort/small/33.mira_0.8/G210/7bb76e8015f986889c77e6223ddcb4b8cb4258d48f749edd4fc5079f9e6dc3bc_3344.profile', './data/tree-rep-profiles_o2o_smallshort/short/33.mira_0.8/G210/7bb76e8015f986889c77e6223ddcb4b8cb4258d48f749edd4fc5079f9e6dc3bc_3344.profile']\n",
      "duplicate ERR: ['./data/tree-rep-profiles_o2o_smallshort/small/33.mira_0.8/G210/7bb76e8015f986889c77e6223ddcb4b8cb4258d48f749edd4fc5079f9e6dc3bc_3280.profile', './data/tree-rep-profiles_o2o_smallshort/short/33.mira_0.8/G210/7bb76e8015f986889c77e6223ddcb4b8cb4258d48f749edd4fc5079f9e6dc3bc_3280.profile']\n",
      "duplicate ERR: ['./data/tree-rep-profiles_o2o_smallshort/small/33.mira_0.8/G216/bf5faa82e8c7b0cdb6d7fb312449dad9644b233101659cb36e2f790ff29d4afa_3492.profile', './data/tree-rep-profiles_o2o_smallshort/short/33.mira_0.8/G216/bf5faa82e8c7b0cdb6d7fb312449dad9644b233101659cb36e2f790ff29d4afa_3492.profile']\n",
      "duplicate ERR: ['./data/tree-rep-profiles_o2o_smallshort/small/33.mira_0.8/G216/bf5faa82e8c7b0cdb6d7fb312449dad9644b233101659cb36e2f790ff29d4afa_3464.profile', './data/tree-rep-profiles_o2o_smallshort/short/33.mira_0.8/G216/bf5faa82e8c7b0cdb6d7fb312449dad9644b233101659cb36e2f790ff29d4afa_3464.profile']\n",
      "duplicate ERR: ['./data/tree-rep-profiles_o2o_smallshort/small/33.mira_0.8/G212/03001ac487a327aa59b872159b27828b9ac270ad4b61020968de9e5830820bc8_3284.profile', './data/tree-rep-profiles_o2o_smallshort/short/33.mira_0.8/G212/03001ac487a327aa59b872159b27828b9ac270ad4b61020968de9e5830820bc8_3284.profile']\n",
      "duplicate ERR: ['./data/tree-rep-profiles_o2o_smallshort/small/33.mira_0.8/G212/bf5faa82e8c7b0cdb6d7fb312449dad9644b233101659cb36e2f790ff29d4afa_3516.profile', './data/tree-rep-profiles_o2o_smallshort/short/33.mira_0.8/G212/bf5faa82e8c7b0cdb6d7fb312449dad9644b233101659cb36e2f790ff29d4afa_3516.profile']\n",
      "duplicate ERR: ['./data/tree-rep-profiles_o2o_smallshort/small/33.mira_0.8/G209/04c05bf338b50bd18858eb28e5abbf275d06c4b8e39e4facc6d94f52f11877ce_2940.profile', './data/tree-rep-profiles_o2o_smallshort/short/33.mira_0.8/G209/04c05bf338b50bd18858eb28e5abbf275d06c4b8e39e4facc6d94f52f11877ce_2940.profile']\n",
      "duplicate ERR: ['./data/tree-rep-profiles_o2o_smallshort/small/33.mira_0.8/G209/69af928432ae1e123a40f97c04d052091225ba524c692cf6179b33a5916edea8_2820.profile', './data/tree-rep-profiles_o2o_smallshort/short/33.mira_0.8/G209/69af928432ae1e123a40f97c04d052091225ba524c692cf6179b33a5916edea8_2820.profile']\n",
      "duplicate ERR: ['./data/tree-rep-profiles_o2o_smallshort/small/33.mira_0.8/G213/6d0b5ad3f376bca3567527344606401dfd8ebe1f4aaa9e33f72e4e840c0e3b3a_3376.profile', './data/tree-rep-profiles_o2o_smallshort/short/33.mira_0.8/G213/6d0b5ad3f376bca3567527344606401dfd8ebe1f4aaa9e33f72e4e840c0e3b3a_3376.profile']\n",
      "duplicate ERR: ['./data/tree-rep-profiles_o2o_smallshort/small/33.mira_0.8/G213/6d0b5ad3f376bca3567527344606401dfd8ebe1f4aaa9e33f72e4e840c0e3b3a_3368.profile', './data/tree-rep-profiles_o2o_smallshort/short/33.mira_0.8/G213/6d0b5ad3f376bca3567527344606401dfd8ebe1f4aaa9e33f72e4e840c0e3b3a_3368.profile']\n",
      "duplicate ERR: ['./data/tree-rep-profiles_o2o_smallshort/small/33.mira_0.8/G203/6dda801f1df0dc83679143a3ec253af340829f8fed988876b68d017ea275309a_1600.profile', './data/tree-rep-profiles_o2o_smallshort/short/33.mira_0.8/G203/6dda801f1df0dc83679143a3ec253af340829f8fed988876b68d017ea275309a_1600.profile']\n",
      "duplicate ERR: ['./data/tree-rep-profiles_o2o_smallshort/small/33.mira_0.8/G203/b84c974fdd7b30589181e7feac9229f86bcbe36410fc0e7d998120e80c0ae36d_2916.profile', './data/tree-rep-profiles_o2o_smallshort/short/33.mira_0.8/G203/b84c974fdd7b30589181e7feac9229f86bcbe36410fc0e7d998120e80c0ae36d_2916.profile']\n",
      "duplicate ERR: ['./data/tree-rep-profiles_o2o_smallshort/small/33.mira_0.8/G215/3654ebd5557805bf199ed5f54a155d004a4277d8e716ae99df0b93192cfbea6b_3288.profile', './data/tree-rep-profiles_o2o_smallshort/short/33.mira_0.8/G215/3654ebd5557805bf199ed5f54a155d004a4277d8e716ae99df0b93192cfbea6b_3288.profile']\n",
      "duplicate ERR: ['./data/tree-rep-profiles_o2o_smallshort/small/33.mira_0.8/G215/3654ebd5557805bf199ed5f54a155d004a4277d8e716ae99df0b93192cfbea6b_3276.profile', './data/tree-rep-profiles_o2o_smallshort/short/33.mira_0.8/G215/3654ebd5557805bf199ed5f54a155d004a4277d8e716ae99df0b93192cfbea6b_3276.profile']\n",
      "duplicate ERR: ['./data/tree-rep-profiles_o2o_smallshort/small/33.mira_0.8/G211/d6ac87737fdfcbbf9ef1c00b01af8634dd40715f36237a5b7891046cec51b95a_2888.profile', './data/tree-rep-profiles_o2o_smallshort/short/33.mira_0.8/G211/d6ac87737fdfcbbf9ef1c00b01af8634dd40715f36237a5b7891046cec51b95a_2888.profile']\n",
      "duplicate ERR: ['./data/tree-rep-profiles_o2o_smallshort/small/33.mira_0.8/G211/d84cef1726aa31905036206f288f6fa9f965a2cfa7268a8a37a894222ef7c888_3108.profile', './data/tree-rep-profiles_o2o_smallshort/short/33.mira_0.8/G211/d84cef1726aa31905036206f288f6fa9f965a2cfa7268a8a37a894222ef7c888_3108.profile']\n",
      "duplicate ERR: ['./data/tree-rep-profiles_o2o_smallshort/small/33.mira_0.8/G200/3133f9a6d23a701577287f326a881583a07438adca4a9d9b44d076a4f9c4268d_3276.profile', './data/tree-rep-profiles_o2o_smallshort/short/33.mira_0.8/G200/3133f9a6d23a701577287f326a881583a07438adca4a9d9b44d076a4f9c4268d_3276.profile']\n",
      "duplicate ERR: ['./data/tree-rep-profiles_o2o_smallshort/small/33.mira_0.8/G200/18013578f38491fb45a276776aa7acb0ab2b3cb42355a9e0491035ccd5adbb10_3132.profile', './data/tree-rep-profiles_o2o_smallshort/short/33.mira_0.8/G200/18013578f38491fb45a276776aa7acb0ab2b3cb42355a9e0491035ccd5adbb10_3132.profile']\n",
      "duplicate ERR: ['./data/tree-rep-profiles_o2o_smallshort/small/33.mira_0.8/G201/b584f9167cf8e33d5e7d237a74c89307f6295cda9b8eb353d756ca950cb556a9_3132.profile', './data/tree-rep-profiles_o2o_smallshort/short/33.mira_0.8/G201/b584f9167cf8e33d5e7d237a74c89307f6295cda9b8eb353d756ca950cb556a9_3132.profile']\n"
     ]
    },
    {
     "name": "stderr",
     "output_type": "stream",
     "text": [
      "\r",
      " 78%|███████▊  | 124/159 [00:49<00:25,  1.37it/s]"
     ]
    },
    {
     "name": "stdout",
     "output_type": "stream",
     "text": [
      "duplicate ERR: ['./data/tree-rep-profiles_o2o_smallshort/small/33.mira_0.8/G201/90787135ca5fc2eb0bbd081aa107011608cb2fb6587eb273bd97c21da75c28e8_3420.profile', './data/tree-rep-profiles_o2o_smallshort/short/33.mira_0.8/G201/90787135ca5fc2eb0bbd081aa107011608cb2fb6587eb273bd97c21da75c28e8_3420.profile']\n",
      "duplicate ERR: ['./data/tree-rep-profiles_o2o_smallshort/small/33.mira_0.8/G196/e82f88eaea27d54fc1c5ca1b48bdeb0754e91a277adce0a5ea140088f6fb177b_2960.profile', './data/tree-rep-profiles_o2o_smallshort/short/33.mira_0.8/G196/e82f88eaea27d54fc1c5ca1b48bdeb0754e91a277adce0a5ea140088f6fb177b_2960.profile']\n",
      "duplicate ERR: ['./data/tree-rep-profiles_o2o_smallshort/small/33.mira_0.8/G196/3ea5065ba3d44184542066ce69fcd8efc8af1e9fd0ad3994b3dbe1e22991ff19_3364.profile', './data/tree-rep-profiles_o2o_smallshort/short/33.mira_0.8/G196/3ea5065ba3d44184542066ce69fcd8efc8af1e9fd0ad3994b3dbe1e22991ff19_3364.profile']\n",
      "duplicate ERR: ['./data/tree-rep-profiles_o2o_smallshort/small/33.mira_0.8/G205/f74ad2b8e2579413cf50c9980c05bd0bd54960d2413e3599ba7b070e2a1c5ff7_3000.profile', './data/tree-rep-profiles_o2o_smallshort/short/33.mira_0.8/G205/f74ad2b8e2579413cf50c9980c05bd0bd54960d2413e3599ba7b070e2a1c5ff7_3000.profile']\n",
      "duplicate ERR: ['./data/tree-rep-profiles_o2o_smallshort/small/33.mira_0.8/G205/ddbb2a8c2996dc2d6e6a8cab036f54005c1483aac302d5804fd6cf8159293c63_3256.profile', './data/tree-rep-profiles_o2o_smallshort/short/33.mira_0.8/G205/ddbb2a8c2996dc2d6e6a8cab036f54005c1483aac302d5804fd6cf8159293c63_3256.profile']\n",
      "duplicate ERR: ['./data/tree-rep-profiles_o2o_smallshort/small/133.installiq_0.8/G30/c5a2186b1943a545d0c6515acc541ca18ff87df655295345bbcb291765be55ce_3588.profile', './data/tree-rep-profiles_o2o_smallshort/short/133.installiq_0.8/G30/c5a2186b1943a545d0c6515acc541ca18ff87df655295345bbcb291765be55ce_3588.profile']\n",
      "duplicate ERR: ['./data/tree-rep-profiles_o2o_smallshort/small/133.installiq_0.8/G30/c5a2186b1943a545d0c6515acc541ca18ff87df655295345bbcb291765be55ce_3440.profile', './data/tree-rep-profiles_o2o_smallshort/short/133.installiq_0.8/G30/c5a2186b1943a545d0c6515acc541ca18ff87df655295345bbcb291765be55ce_3440.profile']\n",
      "duplicate ERR: ['./data/tree-rep-profiles_o2o_smallshort/small/133.installiq_0.8/G32/1f410bf97d25fd2c89dcb9990dd7a57c255b59b6e6ef8debef6f2a628621874d_3308.profile', './data/tree-rep-profiles_o2o_smallshort/short/133.installiq_0.8/G32/1f410bf97d25fd2c89dcb9990dd7a57c255b59b6e6ef8debef6f2a628621874d_3308.profile']\n"
     ]
    },
    {
     "name": "stderr",
     "output_type": "stream",
     "text": [
      " 79%|███████▉  | 126/159 [00:49<00:13,  2.44it/s]"
     ]
    },
    {
     "name": "stdout",
     "output_type": "stream",
     "text": [
      "duplicate ERR: ['./data/tree-rep-profiles_o2o_smallshort/small/133.installiq_0.8/G32/14a341852f774f5e4c0af1759d17d000d29301f6d2b05a2a5ea16dfa9c6ae790_3416.profile', './data/tree-rep-profiles_o2o_smallshort/short/133.installiq_0.8/G32/14a341852f774f5e4c0af1759d17d000d29301f6d2b05a2a5ea16dfa9c6ae790_3416.profile']\n",
      "duplicate ERR: ['./data/tree-rep-profiles_o2o_smallshort/small/49.eggnog_0.8/G94/cfc485f23075a93120052b044e6d68d425cc1ce96088df4bdde1e7b3dbfd44dd_2996.profile', './data/tree-rep-profiles_o2o_smallshort/short/49.eggnog_0.8/G94/cfc485f23075a93120052b044e6d68d425cc1ce96088df4bdde1e7b3dbfd44dd_2996.profile']\n",
      "duplicate ERR: ['./data/tree-rep-profiles_o2o_smallshort/small/49.eggnog_0.8/G94/bf623906b4b6fed57a1fd8924f1f2958fca9b394c2f1275a07c7e91e96f3415b_3268.profile', './data/tree-rep-profiles_o2o_smallshort/short/49.eggnog_0.8/G94/bf623906b4b6fed57a1fd8924f1f2958fca9b394c2f1275a07c7e91e96f3415b_3268.profile']\n",
      "duplicate ERR: ['./data/tree-rep-profiles_o2o_smallshort/small/49.eggnog_0.8/G72/f842fc7706188c01015449d81a99db8119349e942df0dcf88ff75d07d158f914_3392.profile', './data/tree-rep-profiles_o2o_smallshort/short/49.eggnog_0.8/G72/f842fc7706188c01015449d81a99db8119349e942df0dcf88ff75d07d158f914_3392.profile']\n",
      "duplicate ERR: ['./data/tree-rep-profiles_o2o_smallshort/small/49.eggnog_0.8/G72/dc813fd42a81b373e9ec9a5f1ebea75747ef1c6aac10d658c45a3d10fadf855d_3288.profile', './data/tree-rep-profiles_o2o_smallshort/short/49.eggnog_0.8/G72/dc813fd42a81b373e9ec9a5f1ebea75747ef1c6aac10d658c45a3d10fadf855d_3288.profile']\n",
      "duplicate ERR: ['./data/tree-rep-profiles_o2o_smallshort/small/149.tdss_0.8/G16/102e0459bbb0b68e7ca5b912ed4631b3bb4727d94a95e6797c021c11e87a4e5e_3240.profile', './data/tree-rep-profiles_o2o_smallshort/short/149.tdss_0.8/G16/102e0459bbb0b68e7ca5b912ed4631b3bb4727d94a95e6797c021c11e87a4e5e_3240.profile']\n",
      "duplicate ERR: ['./data/tree-rep-profiles_o2o_smallshort/small/149.tdss_0.8/G16/16d9e9d6053238fbc6e2b1b403c152e2b96c098c56c9172cdfebbfeedb0239e3_3168.profile', './data/tree-rep-profiles_o2o_smallshort/short/149.tdss_0.8/G16/16d9e9d6053238fbc6e2b1b403c152e2b96c098c56c9172cdfebbfeedb0239e3_3168.profile']\n",
      "duplicate ERR: ['./data/tree-rep-profiles_o2o_smallshort/small/149.tdss_0.8/G17/7a4c415ad54b6c9ce42101f35ee9d3baf35a5bc9f50e886b25ed54a13bc859a9_3280.profile', './data/tree-rep-profiles_o2o_smallshort/short/149.tdss_0.8/G17/7a4c415ad54b6c9ce42101f35ee9d3baf35a5bc9f50e886b25ed54a13bc859a9_3280.profile']\n"
     ]
    },
    {
     "name": "stderr",
     "output_type": "stream",
     "text": [
      "\r",
      " 80%|███████▉  | 127/159 [00:49<00:10,  3.00it/s]"
     ]
    },
    {
     "name": "stdout",
     "output_type": "stream",
     "text": [
      "duplicate ERR: ['./data/tree-rep-profiles_o2o_smallshort/small/149.tdss_0.8/G17/7a4c415ad54b6c9ce42101f35ee9d3baf35a5bc9f50e886b25ed54a13bc859a9_3392.profile', './data/tree-rep-profiles_o2o_smallshort/short/149.tdss_0.8/G17/7a4c415ad54b6c9ce42101f35ee9d3baf35a5bc9f50e886b25ed54a13bc859a9_3392.profile']\n",
      "duplicate ERR: ['./data/tree-rep-profiles_o2o_smallshort/small/149.tdss_0.8/G18/2c5c6577408a84804e5cbd02cfc25a38fbecf3f8ba87a66ed93dd0af9f6f5edd_3248.profile', './data/tree-rep-profiles_o2o_smallshort/short/149.tdss_0.8/G18/2c5c6577408a84804e5cbd02cfc25a38fbecf3f8ba87a66ed93dd0af9f6f5edd_3248.profile']\n",
      "duplicate ERR: ['./data/tree-rep-profiles_o2o_smallshort/small/149.tdss_0.8/G18/55bf4c2da4f99fd10d8516605db2cc298fbe892e05cb82c17abbf83c262fb7be_3172.profile', './data/tree-rep-profiles_o2o_smallshort/short/149.tdss_0.8/G18/55bf4c2da4f99fd10d8516605db2cc298fbe892e05cb82c17abbf83c262fb7be_3172.profile']\n",
      "duplicate ERR: ['./data/tree-rep-profiles_o2o_smallshort/small/23.mplug_0.8/G280/1d42acef48fe664e7ca3b92e4c5b6b007e7e910911d32f774b315d6334b7c239_3196.profile', './data/tree-rep-profiles_o2o_smallshort/short/23.mplug_0.8/G280/1d42acef48fe664e7ca3b92e4c5b6b007e7e910911d32f774b315d6334b7c239_3196.profile']\n",
      "duplicate ERR: ['./data/tree-rep-profiles_o2o_smallshort/small/23.mplug_0.8/G280/1d42acef48fe664e7ca3b92e4c5b6b007e7e910911d32f774b315d6334b7c239_3172.profile', './data/tree-rep-profiles_o2o_smallshort/short/23.mplug_0.8/G280/1d42acef48fe664e7ca3b92e4c5b6b007e7e910911d32f774b315d6334b7c239_3172.profile']\n",
      "duplicate ERR: ['./data/tree-rep-profiles_o2o_smallshort/small/23.mplug_0.8/G281/12fb3783ea8f57259c2f37c8e2c887a6cee62a18f29e8c73fc421a7f10f7806e_3188.profile', './data/tree-rep-profiles_o2o_smallshort/short/23.mplug_0.8/G281/12fb3783ea8f57259c2f37c8e2c887a6cee62a18f29e8c73fc421a7f10f7806e_3188.profile']\n",
      "duplicate ERR: ['./data/tree-rep-profiles_o2o_smallshort/small/23.mplug_0.8/G281/12fb3783ea8f57259c2f37c8e2c887a6cee62a18f29e8c73fc421a7f10f7806e_3360.profile', './data/tree-rep-profiles_o2o_smallshort/short/23.mplug_0.8/G281/12fb3783ea8f57259c2f37c8e2c887a6cee62a18f29e8c73fc421a7f10f7806e_3360.profile']\n",
      "duplicate ERR: ['./data/tree-rep-profiles_o2o_smallshort/small/23.mplug_0.8/G318/acaf9f4adfdab3d9c0afbfa5b35635ac2656e6d6f8c3931523314c43aca9d1d8_2968.profile', './data/tree-rep-profiles_o2o_smallshort/short/23.mplug_0.8/G318/acaf9f4adfdab3d9c0afbfa5b35635ac2656e6d6f8c3931523314c43aca9d1d8_2968.profile']\n",
      "duplicate ERR: ['./data/tree-rep-profiles_o2o_smallshort/small/23.mplug_0.8/G318/acaf9f4adfdab3d9c0afbfa5b35635ac2656e6d6f8c3931523314c43aca9d1d8_3132.profile', './data/tree-rep-profiles_o2o_smallshort/short/23.mplug_0.8/G318/acaf9f4adfdab3d9c0afbfa5b35635ac2656e6d6f8c3931523314c43aca9d1d8_3132.profile']\n",
      "duplicate ERR: ['./data/tree-rep-profiles_o2o_smallshort/small/23.mplug_0.8/G321/0e152475332a3e98e11ed7286d862ee0279f4db07fb4207a65a3f98b9204e469_3432.profile', './data/tree-rep-profiles_o2o_smallshort/short/23.mplug_0.8/G321/0e152475332a3e98e11ed7286d862ee0279f4db07fb4207a65a3f98b9204e469_3432.profile']\n",
      "duplicate ERR: ['./data/tree-rep-profiles_o2o_smallshort/small/23.mplug_0.8/G321/00d5d33e66d67e56139c32b1afa46d24fb874c1c71cfd124f9fad9d2b5c441c0_3400.profile', './data/tree-rep-profiles_o2o_smallshort/short/23.mplug_0.8/G321/00d5d33e66d67e56139c32b1afa46d24fb874c1c71cfd124f9fad9d2b5c441c0_3400.profile']\n",
      "duplicate ERR: ['./data/tree-rep-profiles_o2o_smallshort/small/23.mplug_0.8/G292/0ada733659f78d3941bd99f9df05658facaa9a52d57311efeb97d5bfe2464a2e_3272.profile', './data/tree-rep-profiles_o2o_smallshort/short/23.mplug_0.8/G292/0ada733659f78d3941bd99f9df05658facaa9a52d57311efeb97d5bfe2464a2e_3272.profile']\n",
      "duplicate ERR: ['./data/tree-rep-profiles_o2o_smallshort/small/23.mplug_0.8/G292/152a75f9ed32aad48e0e6b2d95e31d46ea423a0c0c00cc7b0ad918874ddf3c4c_3216.profile', './data/tree-rep-profiles_o2o_smallshort/short/23.mplug_0.8/G292/152a75f9ed32aad48e0e6b2d95e31d46ea423a0c0c00cc7b0ad918874ddf3c4c_3216.profile']\n",
      "duplicate ERR: ['./data/tree-rep-profiles_o2o_smallshort/small/23.mplug_0.8/G285/13dbe9c4d518708e18d49799a1e9db6d1b386ba815db12ba17dd614d86c99c72_3248.profile', './data/tree-rep-profiles_o2o_smallshort/short/23.mplug_0.8/G285/13dbe9c4d518708e18d49799a1e9db6d1b386ba815db12ba17dd614d86c99c72_3248.profile']\n",
      "duplicate ERR: ['./data/tree-rep-profiles_o2o_smallshort/small/23.mplug_0.8/G285/f82371509495e09183b314a2b065d3103673137da1defb5024fbda43ab895e81_3064.profile', './data/tree-rep-profiles_o2o_smallshort/short/23.mplug_0.8/G285/f82371509495e09183b314a2b065d3103673137da1defb5024fbda43ab895e81_3064.profile']\n",
      "duplicate ERR: ['./data/tree-rep-profiles_o2o_smallshort/small/23.mplug_0.8/G317/a53957ac86cf229db75ab639350d4e52c0b7dc7b46eff83f4037cf1752679c32_3252.profile', './data/tree-rep-profiles_o2o_smallshort/short/23.mplug_0.8/G317/a53957ac86cf229db75ab639350d4e52c0b7dc7b46eff83f4037cf1752679c32_3252.profile']\n",
      "duplicate ERR: ['./data/tree-rep-profiles_o2o_smallshort/small/23.mplug_0.8/G317/bf3ef9f83f2f0396ef76f422bda83e613953d6080b0e20d053a27c1da018c0b7_3360.profile', './data/tree-rep-profiles_o2o_smallshort/short/23.mplug_0.8/G317/bf3ef9f83f2f0396ef76f422bda83e613953d6080b0e20d053a27c1da018c0b7_3360.profile']\n",
      "duplicate ERR: ['./data/tree-rep-profiles_o2o_smallshort/small/23.mplug_0.8/G304/942e430268be20b198c57f98ee03732ecb3735d37a2e00c14bd8b0051bdd0b45_424.profile', './data/tree-rep-profiles_o2o_smallshort/short/23.mplug_0.8/G304/942e430268be20b198c57f98ee03732ecb3735d37a2e00c14bd8b0051bdd0b45_424.profile']\n",
      "duplicate ERR: ['./data/tree-rep-profiles_o2o_smallshort/small/23.mplug_0.8/G304/aab26eea3b50120b890cb6db3fe5fd9e0596efeb6b37d3707fa752b7fdd74188_428.profile', './data/tree-rep-profiles_o2o_smallshort/short/23.mplug_0.8/G304/aab26eea3b50120b890cb6db3fe5fd9e0596efeb6b37d3707fa752b7fdd74188_428.profile']\n",
      "duplicate ERR: ['./data/tree-rep-profiles_o2o_smallshort/small/23.mplug_0.8/G324/13ef0fb4062141eebed6ae8d1b4d20765b92745a874bfe1764031d04918e27d4_2932.profile', './data/tree-rep-profiles_o2o_smallshort/short/23.mplug_0.8/G324/13ef0fb4062141eebed6ae8d1b4d20765b92745a874bfe1764031d04918e27d4_2932.profile']\n",
      "duplicate ERR: ['./data/tree-rep-profiles_o2o_smallshort/small/23.mplug_0.8/G324/09c29d408d59dd332a3ce84a3c21c055711a3ed4e971d7e1a19d02fbb5b397e2_3380.profile', './data/tree-rep-profiles_o2o_smallshort/short/23.mplug_0.8/G324/09c29d408d59dd332a3ce84a3c21c055711a3ed4e971d7e1a19d02fbb5b397e2_3380.profile']\n",
      "duplicate ERR: ['./data/tree-rep-profiles_o2o_smallshort/small/23.mplug_0.8/G320/28224236d3b8dea900d4f6995e8bdb9ba6011a2e4fbf88cf954849f47be529a3_3436.profile', './data/tree-rep-profiles_o2o_smallshort/short/23.mplug_0.8/G320/28224236d3b8dea900d4f6995e8bdb9ba6011a2e4fbf88cf954849f47be529a3_3436.profile']\n",
      "duplicate ERR: ['./data/tree-rep-profiles_o2o_smallshort/small/23.mplug_0.8/G320/e76c6bc0040d60cf6088b16e9bda11ff0cded72d09f3338944dd0b74cfc7057f_3280.profile', './data/tree-rep-profiles_o2o_smallshort/short/23.mplug_0.8/G320/e76c6bc0040d60cf6088b16e9bda11ff0cded72d09f3338944dd0b74cfc7057f_3280.profile']\n",
      "duplicate ERR: ['./data/tree-rep-profiles_o2o_smallshort/small/23.mplug_0.8/G294/010f18c6eced263d35ac897b3cd2ab6e2982f0e06ea8f3340b9c3c923ea79aa3_3196.profile', './data/tree-rep-profiles_o2o_smallshort/short/23.mplug_0.8/G294/010f18c6eced263d35ac897b3cd2ab6e2982f0e06ea8f3340b9c3c923ea79aa3_3196.profile']\n",
      "duplicate ERR: ['./data/tree-rep-profiles_o2o_smallshort/small/23.mplug_0.8/G294/031de3ddb3f36928734a7da2137554f4fafe9d038a78236f3ab8b59a33c335da_3276.profile', './data/tree-rep-profiles_o2o_smallshort/short/23.mplug_0.8/G294/031de3ddb3f36928734a7da2137554f4fafe9d038a78236f3ab8b59a33c335da_3276.profile']\n",
      "duplicate ERR: ['./data/tree-rep-profiles_o2o_smallshort/small/23.mplug_0.8/G326/ef2dd909f9d313ffb02a9ee4a4f00b7889711e4ba5b3ac497e9bea468ff1a73c_3360.profile', './data/tree-rep-profiles_o2o_smallshort/short/23.mplug_0.8/G326/ef2dd909f9d313ffb02a9ee4a4f00b7889711e4ba5b3ac497e9bea468ff1a73c_3360.profile']\n",
      "duplicate ERR: ['./data/tree-rep-profiles_o2o_smallshort/small/23.mplug_0.8/G326/ef2dd909f9d313ffb02a9ee4a4f00b7889711e4ba5b3ac497e9bea468ff1a73c_3324.profile', './data/tree-rep-profiles_o2o_smallshort/short/23.mplug_0.8/G326/ef2dd909f9d313ffb02a9ee4a4f00b7889711e4ba5b3ac497e9bea468ff1a73c_3324.profile']\n",
      "duplicate ERR: ['./data/tree-rep-profiles_o2o_smallshort/small/23.mplug_0.8/G269/e0a188b5c8b9eb719dd287906f164d54a18848c46fab9f4a98582a77bba0b2b9_3196.profile', './data/tree-rep-profiles_o2o_smallshort/short/23.mplug_0.8/G269/e0a188b5c8b9eb719dd287906f164d54a18848c46fab9f4a98582a77bba0b2b9_3196.profile']\n",
      "duplicate ERR: ['./data/tree-rep-profiles_o2o_smallshort/small/23.mplug_0.8/G269/e0a188b5c8b9eb719dd287906f164d54a18848c46fab9f4a98582a77bba0b2b9_3400.profile', './data/tree-rep-profiles_o2o_smallshort/short/23.mplug_0.8/G269/e0a188b5c8b9eb719dd287906f164d54a18848c46fab9f4a98582a77bba0b2b9_3400.profile']\n",
      "duplicate ERR: ['./data/tree-rep-profiles_o2o_smallshort/small/23.mplug_0.8/G296/00c5f9ea52840a50d7431b977205751a4333f867f3b4e351a65936648faeeb94_3592.profile', './data/tree-rep-profiles_o2o_smallshort/short/23.mplug_0.8/G296/00c5f9ea52840a50d7431b977205751a4333f867f3b4e351a65936648faeeb94_3592.profile']\n",
      "duplicate ERR: ['./data/tree-rep-profiles_o2o_smallshort/small/23.mplug_0.8/G296/1ed619901259d37022c2ee6e574516445c0e2d5d54a3e81fb685143273129a7f_3428.profile', './data/tree-rep-profiles_o2o_smallshort/short/23.mplug_0.8/G296/1ed619901259d37022c2ee6e574516445c0e2d5d54a3e81fb685143273129a7f_3428.profile']\n",
      "duplicate ERR: ['./data/tree-rep-profiles_o2o_smallshort/small/23.mplug_0.8/G277/16b8c52ada7642993698106ddb9a0cfd7fd8348fe77adcd70612f29604c759bf_3336.profile', './data/tree-rep-profiles_o2o_smallshort/short/23.mplug_0.8/G277/16b8c52ada7642993698106ddb9a0cfd7fd8348fe77adcd70612f29604c759bf_3336.profile']\n"
     ]
    },
    {
     "name": "stdout",
     "output_type": "stream",
     "text": [
      "duplicate ERR: ['./data/tree-rep-profiles_o2o_smallshort/small/23.mplug_0.8/G277/c2a9bec98fc1cae374687053399e6b6d4c5ee8c78e056bc906db43759d3722a5_3344.profile', './data/tree-rep-profiles_o2o_smallshort/short/23.mplug_0.8/G277/c2a9bec98fc1cae374687053399e6b6d4c5ee8c78e056bc906db43759d3722a5_3344.profile']\n",
      "duplicate ERR: ['./data/tree-rep-profiles_o2o_smallshort/small/23.mplug_0.8/G327/fb1f81fce482bc97d3166a373747cf4cba07eedb2b0afc3703bb7e4acdda401d_3052.profile', './data/tree-rep-profiles_o2o_smallshort/short/23.mplug_0.8/G327/fb1f81fce482bc97d3166a373747cf4cba07eedb2b0afc3703bb7e4acdda401d_3052.profile']\n",
      "duplicate ERR: ['./data/tree-rep-profiles_o2o_smallshort/small/23.mplug_0.8/G327/3e1b4716e163f2f88147b7d878cef6b8555d8f63bd08425d3f07099d381db6f5_3036.profile', './data/tree-rep-profiles_o2o_smallshort/short/23.mplug_0.8/G327/3e1b4716e163f2f88147b7d878cef6b8555d8f63bd08425d3f07099d381db6f5_3036.profile']\n",
      "duplicate ERR: ['./data/tree-rep-profiles_o2o_smallshort/small/23.mplug_0.8/G323/1033df06c29e2ff055797bd27d2622254a9a81fa2b8c6369868d0e40695af309_3212.profile', './data/tree-rep-profiles_o2o_smallshort/short/23.mplug_0.8/G323/1033df06c29e2ff055797bd27d2622254a9a81fa2b8c6369868d0e40695af309_3212.profile']\n",
      "duplicate ERR: ['./data/tree-rep-profiles_o2o_smallshort/small/23.mplug_0.8/G323/c078b3156e98b8219bc8ad1da074c12782a66998a7cb20b92f9c6b7951c7f03f_3284.profile', './data/tree-rep-profiles_o2o_smallshort/short/23.mplug_0.8/G323/c078b3156e98b8219bc8ad1da074c12782a66998a7cb20b92f9c6b7951c7f03f_3284.profile']\n",
      "duplicate ERR: ['./data/tree-rep-profiles_o2o_smallshort/small/23.mplug_0.8/G299/43681e0a4a5a3555f282a76290e4c81f6fb136faa5ec126ec0879d9b638cd4cd_3396.profile', './data/tree-rep-profiles_o2o_smallshort/short/23.mplug_0.8/G299/43681e0a4a5a3555f282a76290e4c81f6fb136faa5ec126ec0879d9b638cd4cd_3396.profile']\n",
      "duplicate ERR: ['./data/tree-rep-profiles_o2o_smallshort/small/23.mplug_0.8/G299/42ec91818d25e0ee6996d5cd4c78e3b91a750c2e2613375c6cd418103537921c_3224.profile', './data/tree-rep-profiles_o2o_smallshort/short/23.mplug_0.8/G299/42ec91818d25e0ee6996d5cd4c78e3b91a750c2e2613375c6cd418103537921c_3224.profile']\n",
      "duplicate ERR: ['./data/tree-rep-profiles_o2o_smallshort/small/23.mplug_0.8/G276/d9904dcdf8a06dd5ec0b3daa40d7c4f1690e79f68c4ad663dfb78f538546b949_3212.profile', './data/tree-rep-profiles_o2o_smallshort/short/23.mplug_0.8/G276/d9904dcdf8a06dd5ec0b3daa40d7c4f1690e79f68c4ad663dfb78f538546b949_3212.profile']\n"
     ]
    },
    {
     "name": "stderr",
     "output_type": "stream",
     "text": [
      " 81%|████████  | 129/159 [00:50<00:12,  2.46it/s]"
     ]
    },
    {
     "name": "stdout",
     "output_type": "stream",
     "text": [
      "duplicate ERR: ['./data/tree-rep-profiles_o2o_smallshort/small/23.mplug_0.8/G276/16b8c52ada7642993698106ddb9a0cfd7fd8348fe77adcd70612f29604c759bf_3352.profile', './data/tree-rep-profiles_o2o_smallshort/short/23.mplug_0.8/G276/16b8c52ada7642993698106ddb9a0cfd7fd8348fe77adcd70612f29604c759bf_3352.profile']\n",
      "duplicate ERR: ['./data/tree-rep-profiles_o2o_smallshort/small/147.ranpax_0.8/G22/8c16fceadfddbef2d725a9c6705ca9f81b336b8a8eded1674795ae8ff57e5033_3024.profile', './data/tree-rep-profiles_o2o_smallshort/short/147.ranpax_0.8/G22/8c16fceadfddbef2d725a9c6705ca9f81b336b8a8eded1674795ae8ff57e5033_3024.profile']\n",
      "duplicate ERR: ['./data/tree-rep-profiles_o2o_smallshort/small/147.ranpax_0.8/G22/7c2c03e93c35af8c009c0be0b3e05992ecefab2c0b27c324ab345e07310eb957_2988.profile', './data/tree-rep-profiles_o2o_smallshort/short/147.ranpax_0.8/G22/7c2c03e93c35af8c009c0be0b3e05992ecefab2c0b27c324ab345e07310eb957_2988.profile']\n",
      "duplicate ERR: ['./data/tree-rep-profiles_o2o_smallshort/small/147.ranpax_0.8/G23/7c2c03e93c35af8c009c0be0b3e05992ecefab2c0b27c324ab345e07310eb957_2904.profile', './data/tree-rep-profiles_o2o_smallshort/short/147.ranpax_0.8/G23/7c2c03e93c35af8c009c0be0b3e05992ecefab2c0b27c324ab345e07310eb957_2904.profile']\n",
      "duplicate ERR: ['./data/tree-rep-profiles_o2o_smallshort/small/147.ranpax_0.8/G23/9f8d7b3e5e81bd9714b6d90806763c08d2aa287a6b534b7c39f4980e68b678c5_3040.profile', './data/tree-rep-profiles_o2o_smallshort/short/147.ranpax_0.8/G23/9f8d7b3e5e81bd9714b6d90806763c08d2aa287a6b534b7c39f4980e68b678c5_3040.profile']\n",
      "duplicate ERR: ['./data/tree-rep-profiles_o2o_smallshort/small/3.allaple_0.8/G1942/f52c76922527a8ee2dc8171f4168c25e79047ef5207d15fbdea8c9de2fe600ea_2936.profile', './data/tree-rep-profiles_o2o_smallshort/short/3.allaple_0.8/G1942/f52c76922527a8ee2dc8171f4168c25e79047ef5207d15fbdea8c9de2fe600ea_2936.profile']\n",
      "duplicate ERR: ['./data/tree-rep-profiles_o2o_smallshort/small/3.allaple_0.8/G1942/f52c76922527a8ee2dc8171f4168c25e79047ef5207d15fbdea8c9de2fe600ea_3320.profile', './data/tree-rep-profiles_o2o_smallshort/short/3.allaple_0.8/G1942/f52c76922527a8ee2dc8171f4168c25e79047ef5207d15fbdea8c9de2fe600ea_3320.profile']\n",
      "duplicate ERR: ['./data/tree-rep-profiles_o2o_smallshort/small/3.allaple_0.8/G1923/eb06bf936348aedc8e1e2da91ef589f86e3f7a3290db59541498011d21dc9681_3292.profile', './data/tree-rep-profiles_o2o_smallshort/short/3.allaple_0.8/G1923/eb06bf936348aedc8e1e2da91ef589f86e3f7a3290db59541498011d21dc9681_3292.profile']\n",
      "duplicate ERR: ['./data/tree-rep-profiles_o2o_smallshort/small/3.allaple_0.8/G1923/35854b9198c021186cd634f0c696e1a35d95dd57f5d2d340930410bbad25b998_3220.profile', './data/tree-rep-profiles_o2o_smallshort/short/3.allaple_0.8/G1923/35854b9198c021186cd634f0c696e1a35d95dd57f5d2d340930410bbad25b998_3220.profile']\n",
      "duplicate ERR: ['./data/tree-rep-profiles_o2o_smallshort/small/3.allaple_0.8/G1924/242359e9483a7a5b4df3da277933887c607be1da577a87338dc8557d368afa5b_3320.profile', './data/tree-rep-profiles_o2o_smallshort/short/3.allaple_0.8/G1924/242359e9483a7a5b4df3da277933887c607be1da577a87338dc8557d368afa5b_3320.profile']\n",
      "duplicate ERR: ['./data/tree-rep-profiles_o2o_smallshort/small/3.allaple_0.8/G1924/242359e9483a7a5b4df3da277933887c607be1da577a87338dc8557d368afa5b_3056.profile', './data/tree-rep-profiles_o2o_smallshort/short/3.allaple_0.8/G1924/242359e9483a7a5b4df3da277933887c607be1da577a87338dc8557d368afa5b_3056.profile']\n",
      "duplicate ERR: ['./data/tree-rep-profiles_o2o_smallshort/small/3.allaple_0.8/G1951/9af5842880a520ef6af8b0f0b34a9834b2ae38da1e9ba8e91d504f1642495746_3292.profile', './data/tree-rep-profiles_o2o_smallshort/short/3.allaple_0.8/G1951/9af5842880a520ef6af8b0f0b34a9834b2ae38da1e9ba8e91d504f1642495746_3292.profile']\n",
      "duplicate ERR: ['./data/tree-rep-profiles_o2o_smallshort/small/3.allaple_0.8/G1951/5592bbeaf92e7a123c614cd328b81fd127a1d0326106c8645215af91ad9717ba_3248.profile', './data/tree-rep-profiles_o2o_smallshort/short/3.allaple_0.8/G1951/5592bbeaf92e7a123c614cd328b81fd127a1d0326106c8645215af91ad9717ba_3248.profile']\n",
      "duplicate ERR: ['./data/tree-rep-profiles_o2o_smallshort/small/3.allaple_0.8/G1933/c153b592588989c6ec54a0e1f8acf5197e692bc8210447e1486c599393934868_2984.profile', './data/tree-rep-profiles_o2o_smallshort/short/3.allaple_0.8/G1933/c153b592588989c6ec54a0e1f8acf5197e692bc8210447e1486c599393934868_2984.profile']\n",
      "duplicate ERR: ['./data/tree-rep-profiles_o2o_smallshort/small/3.allaple_0.8/G1933/8035c687bfd55331334a5b0a340dc81f10a77a8bbf3ea90c13f5dafb99fee883_3284.profile', './data/tree-rep-profiles_o2o_smallshort/short/3.allaple_0.8/G1933/8035c687bfd55331334a5b0a340dc81f10a77a8bbf3ea90c13f5dafb99fee883_3284.profile']\n",
      "duplicate ERR: ['./data/tree-rep-profiles_o2o_smallshort/small/3.allaple_0.8/G1928/1f010e5aa3642f215c3546ba8948fa35e40f3bc207f27658b03b5fd2f2ae2a15_3212.profile', './data/tree-rep-profiles_o2o_smallshort/short/3.allaple_0.8/G1928/1f010e5aa3642f215c3546ba8948fa35e40f3bc207f27658b03b5fd2f2ae2a15_3212.profile']\n",
      "duplicate ERR: ['./data/tree-rep-profiles_o2o_smallshort/small/3.allaple_0.8/G1928/1d8944d591ef90233ed952595b11b32d8dfffe3b906baa4f0de5ad96eb9c5672_2924.profile', './data/tree-rep-profiles_o2o_smallshort/short/3.allaple_0.8/G1928/1d8944d591ef90233ed952595b11b32d8dfffe3b906baa4f0de5ad96eb9c5672_2924.profile']\n",
      "duplicate ERR: ['./data/tree-rep-profiles_o2o_smallshort/small/3.allaple_0.8/G1433/242359e9483a7a5b4df3da277933887c607be1da577a87338dc8557d368afa5b_2984.profile', './data/tree-rep-profiles_o2o_smallshort/short/3.allaple_0.8/G1433/242359e9483a7a5b4df3da277933887c607be1da577a87338dc8557d368afa5b_2984.profile']\n",
      "duplicate ERR: ['./data/tree-rep-profiles_o2o_smallshort/small/3.allaple_0.8/G1433/242359e9483a7a5b4df3da277933887c607be1da577a87338dc8557d368afa5b_3260.profile', './data/tree-rep-profiles_o2o_smallshort/short/3.allaple_0.8/G1433/242359e9483a7a5b4df3da277933887c607be1da577a87338dc8557d368afa5b_3260.profile']\n",
      "duplicate ERR: ['./data/tree-rep-profiles_o2o_smallshort/small/3.allaple_0.8/G1457/7a28c094df41ac1e150ad6acfd914de86b9fb1e350a550d7a51d760e2cf1d1ef_3000.profile', './data/tree-rep-profiles_o2o_smallshort/short/3.allaple_0.8/G1457/7a28c094df41ac1e150ad6acfd914de86b9fb1e350a550d7a51d760e2cf1d1ef_3000.profile']\n",
      "duplicate ERR: ['./data/tree-rep-profiles_o2o_smallshort/small/3.allaple_0.8/G1457/5d6b10e26d92d7da0b44bffb8a6d389fb5198627faa289b0aa04893515aacf47_3368.profile', './data/tree-rep-profiles_o2o_smallshort/short/3.allaple_0.8/G1457/5d6b10e26d92d7da0b44bffb8a6d389fb5198627faa289b0aa04893515aacf47_3368.profile']\n",
      "duplicate ERR: ['./data/tree-rep-profiles_o2o_smallshort/small/3.allaple_0.8/G1438/00377771b4cdb096f514d9984f7dee17220963943981747e89f34a3ae5996bd9_3388.profile', './data/tree-rep-profiles_o2o_smallshort/short/3.allaple_0.8/G1438/00377771b4cdb096f514d9984f7dee17220963943981747e89f34a3ae5996bd9_3388.profile']\n",
      "duplicate ERR: ['./data/tree-rep-profiles_o2o_smallshort/small/3.allaple_0.8/G1438/36889e01464584e7109e58671f4173861e9baae4e89cbb5204c062f557610f60_3056.profile', './data/tree-rep-profiles_o2o_smallshort/short/3.allaple_0.8/G1438/36889e01464584e7109e58671f4173861e9baae4e89cbb5204c062f557610f60_3056.profile']\n",
      "duplicate ERR: ['./data/tree-rep-profiles_o2o_smallshort/small/3.allaple_0.8/G1468/86e9c4a582f45a40690a0695a40344c5968f31c1ea7282f7d9fa7cfd4261bc30_3308.profile', './data/tree-rep-profiles_o2o_smallshort/short/3.allaple_0.8/G1468/86e9c4a582f45a40690a0695a40344c5968f31c1ea7282f7d9fa7cfd4261bc30_3308.profile']\n",
      "duplicate ERR: ['./data/tree-rep-profiles_o2o_smallshort/small/3.allaple_0.8/G1468/86e9c4a582f45a40690a0695a40344c5968f31c1ea7282f7d9fa7cfd4261bc30_2888.profile', './data/tree-rep-profiles_o2o_smallshort/short/3.allaple_0.8/G1468/86e9c4a582f45a40690a0695a40344c5968f31c1ea7282f7d9fa7cfd4261bc30_2888.profile']\n",
      "duplicate ERR: ['./data/tree-rep-profiles_o2o_smallshort/small/3.allaple_0.8/G1937/7a28c094df41ac1e150ad6acfd914de86b9fb1e350a550d7a51d760e2cf1d1ef_3072.profile', './data/tree-rep-profiles_o2o_smallshort/short/3.allaple_0.8/G1937/7a28c094df41ac1e150ad6acfd914de86b9fb1e350a550d7a51d760e2cf1d1ef_3072.profile']\n",
      "duplicate ERR: ['./data/tree-rep-profiles_o2o_smallshort/small/3.allaple_0.8/G1937/5d6b10e26d92d7da0b44bffb8a6d389fb5198627faa289b0aa04893515aacf47_3428.profile', './data/tree-rep-profiles_o2o_smallshort/short/3.allaple_0.8/G1937/5d6b10e26d92d7da0b44bffb8a6d389fb5198627faa289b0aa04893515aacf47_3428.profile']\n",
      "duplicate ERR: ['./data/tree-rep-profiles_o2o_smallshort/small/3.allaple_0.8/G1964/0564c64ddf82de659bc334dbf98949830988cf5da9b8e722e4f51bb0a8baa15d_3332.profile', './data/tree-rep-profiles_o2o_smallshort/short/3.allaple_0.8/G1964/0564c64ddf82de659bc334dbf98949830988cf5da9b8e722e4f51bb0a8baa15d_3332.profile']\n",
      "duplicate ERR: ['./data/tree-rep-profiles_o2o_smallshort/small/3.allaple_0.8/G1964/18e1365e326bde4457510b2964bf6335529758edc02ab08edc1d9b6f824a55b2_3272.profile', './data/tree-rep-profiles_o2o_smallshort/short/3.allaple_0.8/G1964/18e1365e326bde4457510b2964bf6335529758edc02ab08edc1d9b6f824a55b2_3272.profile']\n",
      "duplicate ERR: ['./data/tree-rep-profiles_o2o_smallshort/small/3.allaple_0.8/G1443/9937df70304eab04c15f667d715f207fd02ee704b5d52f244b0e920479dd1d5f_2896.profile', './data/tree-rep-profiles_o2o_smallshort/short/3.allaple_0.8/G1443/9937df70304eab04c15f667d715f207fd02ee704b5d52f244b0e920479dd1d5f_2896.profile']\n",
      "duplicate ERR: ['./data/tree-rep-profiles_o2o_smallshort/small/3.allaple_0.8/G1443/505396b0ac07e30ad16a914ffa4cacf8d43b8791d1aabd6c7c1f9975dd202743_3052.profile', './data/tree-rep-profiles_o2o_smallshort/short/3.allaple_0.8/G1443/505396b0ac07e30ad16a914ffa4cacf8d43b8791d1aabd6c7c1f9975dd202743_3052.profile']\n",
      "duplicate ERR: ['./data/tree-rep-profiles_o2o_smallshort/small/3.allaple_0.8/G1932/f29d5dbee42e361c4d0bf0fa9e5073ac01f72f81f0997f3f73dfb6a68e1ea602_2856.profile', './data/tree-rep-profiles_o2o_smallshort/short/3.allaple_0.8/G1932/f29d5dbee42e361c4d0bf0fa9e5073ac01f72f81f0997f3f73dfb6a68e1ea602_2856.profile']\n",
      "duplicate ERR: ['./data/tree-rep-profiles_o2o_smallshort/small/3.allaple_0.8/G1932/72c6c87a2e837517f1b84219ba88aa7fda8de2d340d4a45497a1b34eb60c0d42_3292.profile', './data/tree-rep-profiles_o2o_smallshort/short/3.allaple_0.8/G1932/72c6c87a2e837517f1b84219ba88aa7fda8de2d340d4a45497a1b34eb60c0d42_3292.profile']\n",
      "duplicate ERR: ['./data/tree-rep-profiles_o2o_smallshort/small/3.allaple_0.8/G1456/d822025020725d639c7f45d14e8fdd5ab9fcf389bf8e11de7b2a4bc0e99042fb_3376.profile', './data/tree-rep-profiles_o2o_smallshort/short/3.allaple_0.8/G1456/d822025020725d639c7f45d14e8fdd5ab9fcf389bf8e11de7b2a4bc0e99042fb_3376.profile']\n",
      "duplicate ERR: ['./data/tree-rep-profiles_o2o_smallshort/small/3.allaple_0.8/G1456/9d01bf349b0eef12b417cfe3e36a89965b07f3bf95bfb3b023e89ad203619d83_3340.profile', './data/tree-rep-profiles_o2o_smallshort/short/3.allaple_0.8/G1456/9d01bf349b0eef12b417cfe3e36a89965b07f3bf95bfb3b023e89ad203619d83_3340.profile']\n"
     ]
    },
    {
     "name": "stdout",
     "output_type": "stream",
     "text": [
      "duplicate ERR: ['./data/tree-rep-profiles_o2o_smallshort/small/3.allaple_0.8/G1435/c6f990dcade3e467703cda3369ce283af6e60b967f68def0c1267851812967d9_3124.profile', './data/tree-rep-profiles_o2o_smallshort/short/3.allaple_0.8/G1435/c6f990dcade3e467703cda3369ce283af6e60b967f68def0c1267851812967d9_3124.profile']\n",
      "duplicate ERR: ['./data/tree-rep-profiles_o2o_smallshort/small/3.allaple_0.8/G1435/1b7b9db4497fb401d1286407775a5c30a899d184526b6a9dd47fb5968294e414_3248.profile', './data/tree-rep-profiles_o2o_smallshort/short/3.allaple_0.8/G1435/1b7b9db4497fb401d1286407775a5c30a899d184526b6a9dd47fb5968294e414_3248.profile']\n",
      "duplicate ERR: ['./data/tree-rep-profiles_o2o_smallshort/small/3.allaple_0.8/G1439/9db039c0e6264b83bc97aeb9e4075fb322c419eafcabdc95fc7f940f544a0bd9_3148.profile', './data/tree-rep-profiles_o2o_smallshort/short/3.allaple_0.8/G1439/9db039c0e6264b83bc97aeb9e4075fb322c419eafcabdc95fc7f940f544a0bd9_3148.profile']\n",
      "duplicate ERR: ['./data/tree-rep-profiles_o2o_smallshort/small/3.allaple_0.8/G1439/312340de38ea0226b356d1eab80ba6296b0be38cf47ab82536baaeeaecd2b864_3308.profile', './data/tree-rep-profiles_o2o_smallshort/short/3.allaple_0.8/G1439/312340de38ea0226b356d1eab80ba6296b0be38cf47ab82536baaeeaecd2b864_3308.profile']\n",
      "duplicate ERR: ['./data/tree-rep-profiles_o2o_smallshort/small/3.allaple_0.8/G1905/e980282147565f1cc67237f09b2d28a13949dea1e3c5a9ce591a26180b904bb5_3312.profile', './data/tree-rep-profiles_o2o_smallshort/short/3.allaple_0.8/G1905/e980282147565f1cc67237f09b2d28a13949dea1e3c5a9ce591a26180b904bb5_3312.profile']\n",
      "duplicate ERR: ['./data/tree-rep-profiles_o2o_smallshort/small/3.allaple_0.8/G1905/ee5136d74f69489d699ad1f500d76afac03ce028c83a632ebd9e785061dd9f38_3256.profile', './data/tree-rep-profiles_o2o_smallshort/short/3.allaple_0.8/G1905/ee5136d74f69489d699ad1f500d76afac03ce028c83a632ebd9e785061dd9f38_3256.profile']\n",
      "duplicate ERR: ['./data/tree-rep-profiles_o2o_smallshort/small/3.allaple_0.8/G1920/f718f4434df35adcb14c1b70ab7183292935af2e5f371eae7f31fc77515f610b_2964.profile', './data/tree-rep-profiles_o2o_smallshort/short/3.allaple_0.8/G1920/f718f4434df35adcb14c1b70ab7183292935af2e5f371eae7f31fc77515f610b_2964.profile']\n",
      "duplicate ERR: ['./data/tree-rep-profiles_o2o_smallshort/small/3.allaple_0.8/G1920/3198f8c8997f6818f3fd7c5d8814cc3cccf8d478f5b335719c0d70269523cbcb_3344.profile', './data/tree-rep-profiles_o2o_smallshort/short/3.allaple_0.8/G1920/3198f8c8997f6818f3fd7c5d8814cc3cccf8d478f5b335719c0d70269523cbcb_3344.profile']\n",
      "duplicate ERR: ['./data/tree-rep-profiles_o2o_smallshort/small/3.allaple_0.8/G1952/0564c64ddf82de659bc334dbf98949830988cf5da9b8e722e4f51bb0a8baa15d_3636.profile', './data/tree-rep-profiles_o2o_smallshort/short/3.allaple_0.8/G1952/0564c64ddf82de659bc334dbf98949830988cf5da9b8e722e4f51bb0a8baa15d_3636.profile']\n",
      "duplicate ERR: ['./data/tree-rep-profiles_o2o_smallshort/small/3.allaple_0.8/G1952/0564c64ddf82de659bc334dbf98949830988cf5da9b8e722e4f51bb0a8baa15d_3380.profile', './data/tree-rep-profiles_o2o_smallshort/short/3.allaple_0.8/G1952/0564c64ddf82de659bc334dbf98949830988cf5da9b8e722e4f51bb0a8baa15d_3380.profile']\n",
      "duplicate ERR: ['./data/tree-rep-profiles_o2o_smallshort/small/3.allaple_0.8/G1935/4a8581ee09a6f9794b3cafa0cbe493eb43604978e51dd460b2dfbbc3f344938b_3288.profile', './data/tree-rep-profiles_o2o_smallshort/short/3.allaple_0.8/G1935/4a8581ee09a6f9794b3cafa0cbe493eb43604978e51dd460b2dfbbc3f344938b_3288.profile']\n",
      "duplicate ERR: ['./data/tree-rep-profiles_o2o_smallshort/small/3.allaple_0.8/G1935/a70c1f66c37b0aa1f68a6bc7502b10a56a16a5e8ee01c41128a525891f166d1f_3252.profile', './data/tree-rep-profiles_o2o_smallshort/short/3.allaple_0.8/G1935/a70c1f66c37b0aa1f68a6bc7502b10a56a16a5e8ee01c41128a525891f166d1f_3252.profile']\n",
      "duplicate ERR: ['./data/tree-rep-profiles_o2o_smallshort/small/3.allaple_0.8/G1940/420b2da5ba2fb58a8b0a93698cb72502b8441ab4b2710d4531fbd3584fdad021_3200.profile', './data/tree-rep-profiles_o2o_smallshort/short/3.allaple_0.8/G1940/420b2da5ba2fb58a8b0a93698cb72502b8441ab4b2710d4531fbd3584fdad021_3200.profile']\n",
      "duplicate ERR: ['./data/tree-rep-profiles_o2o_smallshort/small/3.allaple_0.8/G1940/4baad8f76fd2b2e1201c9e339e6a645b1424a314046565d635e0462358a35620_2920.profile', './data/tree-rep-profiles_o2o_smallshort/short/3.allaple_0.8/G1940/4baad8f76fd2b2e1201c9e339e6a645b1424a314046565d635e0462358a35620_2920.profile']\n",
      "duplicate ERR: ['./data/tree-rep-profiles_o2o_smallshort/small/3.allaple_0.8/G1947/9d01bf349b0eef12b417cfe3e36a89965b07f3bf95bfb3b023e89ad203619d83_3352.profile', './data/tree-rep-profiles_o2o_smallshort/short/3.allaple_0.8/G1947/9d01bf349b0eef12b417cfe3e36a89965b07f3bf95bfb3b023e89ad203619d83_3352.profile']\n",
      "duplicate ERR: ['./data/tree-rep-profiles_o2o_smallshort/small/3.allaple_0.8/G1947/d822025020725d639c7f45d14e8fdd5ab9fcf389bf8e11de7b2a4bc0e99042fb_3388.profile', './data/tree-rep-profiles_o2o_smallshort/short/3.allaple_0.8/G1947/d822025020725d639c7f45d14e8fdd5ab9fcf389bf8e11de7b2a4bc0e99042fb_3388.profile']\n",
      "duplicate ERR: ['./data/tree-rep-profiles_o2o_smallshort/small/3.allaple_0.8/G1973/20bb7e9c130e9921d145e977626769989f8819784ccc93ce7d13de05e0ab6586_3204.profile', './data/tree-rep-profiles_o2o_smallshort/short/3.allaple_0.8/G1973/20bb7e9c130e9921d145e977626769989f8819784ccc93ce7d13de05e0ab6586_3204.profile']\n",
      "duplicate ERR: ['./data/tree-rep-profiles_o2o_smallshort/small/3.allaple_0.8/G1973/20bb7e9c130e9921d145e977626769989f8819784ccc93ce7d13de05e0ab6586_2924.profile', './data/tree-rep-profiles_o2o_smallshort/short/3.allaple_0.8/G1973/20bb7e9c130e9921d145e977626769989f8819784ccc93ce7d13de05e0ab6586_2924.profile']\n",
      "duplicate ERR: ['./data/tree-rep-profiles_o2o_smallshort/small/3.allaple_0.8/G1941/dc5e91b17b5b77e8130c6fbe2def2b6de630114c63faeabbe462e59bedb8697f_3328.profile', './data/tree-rep-profiles_o2o_smallshort/short/3.allaple_0.8/G1941/dc5e91b17b5b77e8130c6fbe2def2b6de630114c63faeabbe462e59bedb8697f_3328.profile']\n",
      "duplicate ERR: ['./data/tree-rep-profiles_o2o_smallshort/small/3.allaple_0.8/G1941/ce84f46ea8acbe37cb2cc7e232676ca49bba5908580c959ae84a129d6d595e28_3248.profile', './data/tree-rep-profiles_o2o_smallshort/short/3.allaple_0.8/G1941/ce84f46ea8acbe37cb2cc7e232676ca49bba5908580c959ae84a129d6d595e28_3248.profile']\n",
      "duplicate ERR: ['./data/tree-rep-profiles_o2o_smallshort/small/3.allaple_0.8/G1938/3b63b9b716e2559fb7ce21165473ba22113dddb043c50ed2e5b924eb4ab38de7_3396.profile', './data/tree-rep-profiles_o2o_smallshort/short/3.allaple_0.8/G1938/3b63b9b716e2559fb7ce21165473ba22113dddb043c50ed2e5b924eb4ab38de7_3396.profile']\n",
      "duplicate ERR: ['./data/tree-rep-profiles_o2o_smallshort/small/3.allaple_0.8/G1938/3b63b9b716e2559fb7ce21165473ba22113dddb043c50ed2e5b924eb4ab38de7_3384.profile', './data/tree-rep-profiles_o2o_smallshort/short/3.allaple_0.8/G1938/3b63b9b716e2559fb7ce21165473ba22113dddb043c50ed2e5b924eb4ab38de7_3384.profile']\n",
      "duplicate ERR: ['./data/tree-rep-profiles_o2o_smallshort/small/3.allaple_0.8/G1475/c6d288841b9719a01bd340da55538ce43aaa74265791a41ee493cabde9d2402e_2960.profile', './data/tree-rep-profiles_o2o_smallshort/short/3.allaple_0.8/G1475/c6d288841b9719a01bd340da55538ce43aaa74265791a41ee493cabde9d2402e_2960.profile']\n",
      "duplicate ERR: ['./data/tree-rep-profiles_o2o_smallshort/small/3.allaple_0.8/G1475/10fc12532d259eb24f9e11be47ca7cbba4e240050dd3ce9139b8822475e8989f_3208.profile', './data/tree-rep-profiles_o2o_smallshort/short/3.allaple_0.8/G1475/10fc12532d259eb24f9e11be47ca7cbba4e240050dd3ce9139b8822475e8989f_3208.profile']\n",
      "duplicate ERR: ['./data/tree-rep-profiles_o2o_smallshort/small/3.allaple_0.8/G1453/0120e8bd91a655b0a6783067ea70a9795e959dcc5818e9a6b31ff5a75c782667_3284.profile', './data/tree-rep-profiles_o2o_smallshort/short/3.allaple_0.8/G1453/0120e8bd91a655b0a6783067ea70a9795e959dcc5818e9a6b31ff5a75c782667_3284.profile']\n",
      "duplicate ERR: ['./data/tree-rep-profiles_o2o_smallshort/small/3.allaple_0.8/G1453/3cfcba8047d3edb07051f8ba3dde984e132811a7ccdf782c1067dfd412c2e425_3436.profile', './data/tree-rep-profiles_o2o_smallshort/short/3.allaple_0.8/G1453/3cfcba8047d3edb07051f8ba3dde984e132811a7ccdf782c1067dfd412c2e425_3436.profile']\n",
      "duplicate ERR: ['./data/tree-rep-profiles_o2o_smallshort/small/3.allaple_0.8/G1884/f1bf21602cb1b76b62d489c228419ca5db3a3cccf9aeb4dc3430e6639709e7c2_3356.profile', './data/tree-rep-profiles_o2o_smallshort/short/3.allaple_0.8/G1884/f1bf21602cb1b76b62d489c228419ca5db3a3cccf9aeb4dc3430e6639709e7c2_3356.profile']\n",
      "duplicate ERR: ['./data/tree-rep-profiles_o2o_smallshort/small/3.allaple_0.8/G1884/8a70cecd34fe38286a898eef4a3ddc26c4ac5acfc2e656d170d9da1552f0587d_3212.profile', './data/tree-rep-profiles_o2o_smallshort/short/3.allaple_0.8/G1884/8a70cecd34fe38286a898eef4a3ddc26c4ac5acfc2e656d170d9da1552f0587d_3212.profile']\n",
      "duplicate ERR: ['./data/tree-rep-profiles_o2o_smallshort/small/3.allaple_0.8/G1966/e92735ad3848eba454b7d426d7563e692e4fb492335a741bae764ba6204f8348_2948.profile', './data/tree-rep-profiles_o2o_smallshort/short/3.allaple_0.8/G1966/e92735ad3848eba454b7d426d7563e692e4fb492335a741bae764ba6204f8348_2948.profile']\n",
      "duplicate ERR: ['./data/tree-rep-profiles_o2o_smallshort/small/3.allaple_0.8/G1966/069f771db8bd0190435d3fd11b8ccbda8984d1d077571e2f406fcaff77652af5_3256.profile', './data/tree-rep-profiles_o2o_smallshort/short/3.allaple_0.8/G1966/069f771db8bd0190435d3fd11b8ccbda8984d1d077571e2f406fcaff77652af5_3256.profile']\n",
      "duplicate ERR: ['./data/tree-rep-profiles_o2o_smallshort/small/3.allaple_0.8/G1426/c153b592588989c6ec54a0e1f8acf5197e692bc8210447e1486c599393934868_2936.profile', './data/tree-rep-profiles_o2o_smallshort/short/3.allaple_0.8/G1426/c153b592588989c6ec54a0e1f8acf5197e692bc8210447e1486c599393934868_2936.profile']\n",
      "duplicate ERR: ['./data/tree-rep-profiles_o2o_smallshort/small/3.allaple_0.8/G1426/8035c687bfd55331334a5b0a340dc81f10a77a8bbf3ea90c13f5dafb99fee883_3228.profile', './data/tree-rep-profiles_o2o_smallshort/short/3.allaple_0.8/G1426/8035c687bfd55331334a5b0a340dc81f10a77a8bbf3ea90c13f5dafb99fee883_3228.profile']\n"
     ]
    },
    {
     "name": "stdout",
     "output_type": "stream",
     "text": [
      "duplicate ERR: ['./data/tree-rep-profiles_o2o_smallshort/small/3.allaple_0.8/G1965/892b56bd3e2ac904f982bc67850699ba2c883fc49a85077d4e53ba8835dd5179_3416.profile', './data/tree-rep-profiles_o2o_smallshort/short/3.allaple_0.8/G1965/892b56bd3e2ac904f982bc67850699ba2c883fc49a85077d4e53ba8835dd5179_3416.profile']\n",
      "duplicate ERR: ['./data/tree-rep-profiles_o2o_smallshort/small/3.allaple_0.8/G1965/0806707bb61123218457ea4d8a93715f6d163c96cf95f7a9e2be4c8f65332938_3360.profile', './data/tree-rep-profiles_o2o_smallshort/short/3.allaple_0.8/G1965/0806707bb61123218457ea4d8a93715f6d163c96cf95f7a9e2be4c8f65332938_3360.profile']\n",
      "duplicate ERR: ['./data/tree-rep-profiles_o2o_smallshort/small/3.allaple_0.8/G1968/1d10f1f499fe5f1e0c3babfb7b5a1525a606fd1931ebfb749b67f22e29e63311_3384.profile', './data/tree-rep-profiles_o2o_smallshort/short/3.allaple_0.8/G1968/1d10f1f499fe5f1e0c3babfb7b5a1525a606fd1931ebfb749b67f22e29e63311_3384.profile']\n",
      "duplicate ERR: ['./data/tree-rep-profiles_o2o_smallshort/small/3.allaple_0.8/G1968/5f0836827237f297ae4a7668ffec5d84064b2d6d62d4895c42ee23a75ace99fe_3240.profile', './data/tree-rep-profiles_o2o_smallshort/short/3.allaple_0.8/G1968/5f0836827237f297ae4a7668ffec5d84064b2d6d62d4895c42ee23a75ace99fe_3240.profile']\n",
      "duplicate ERR: ['./data/tree-rep-profiles_o2o_smallshort/small/3.allaple_0.8/G1424/4a8581ee09a6f9794b3cafa0cbe493eb43604978e51dd460b2dfbbc3f344938b_3268.profile', './data/tree-rep-profiles_o2o_smallshort/short/3.allaple_0.8/G1424/4a8581ee09a6f9794b3cafa0cbe493eb43604978e51dd460b2dfbbc3f344938b_3268.profile']\n",
      "duplicate ERR: ['./data/tree-rep-profiles_o2o_smallshort/small/3.allaple_0.8/G1424/a70c1f66c37b0aa1f68a6bc7502b10a56a16a5e8ee01c41128a525891f166d1f_3220.profile', './data/tree-rep-profiles_o2o_smallshort/short/3.allaple_0.8/G1424/a70c1f66c37b0aa1f68a6bc7502b10a56a16a5e8ee01c41128a525891f166d1f_3220.profile']\n",
      "duplicate ERR: ['./data/tree-rep-profiles_o2o_smallshort/small/3.allaple_0.8/G1885/32bf203e7a0538afcdd1eb95481af6c7958fbf1524e5bc876e228a4ec66e00b1_3244.profile', './data/tree-rep-profiles_o2o_smallshort/short/3.allaple_0.8/G1885/32bf203e7a0538afcdd1eb95481af6c7958fbf1524e5bc876e228a4ec66e00b1_3244.profile']\n",
      "duplicate ERR: ['./data/tree-rep-profiles_o2o_smallshort/small/3.allaple_0.8/G1885/d9de64124244717566ac22c1f23e7e9b0baa7d1f66d07746a5355a45a154872a_2968.profile', './data/tree-rep-profiles_o2o_smallshort/short/3.allaple_0.8/G1885/d9de64124244717566ac22c1f23e7e9b0baa7d1f66d07746a5355a45a154872a_2968.profile']\n",
      "duplicate ERR: ['./data/tree-rep-profiles_o2o_smallshort/small/3.allaple_0.8/G1929/5d6b10e26d92d7da0b44bffb8a6d389fb5198627faa289b0aa04893515aacf47_3308.profile', './data/tree-rep-profiles_o2o_smallshort/short/3.allaple_0.8/G1929/5d6b10e26d92d7da0b44bffb8a6d389fb5198627faa289b0aa04893515aacf47_3308.profile']\n",
      "duplicate ERR: ['./data/tree-rep-profiles_o2o_smallshort/small/3.allaple_0.8/G1929/7a28c094df41ac1e150ad6acfd914de86b9fb1e350a550d7a51d760e2cf1d1ef_2948.profile', './data/tree-rep-profiles_o2o_smallshort/short/3.allaple_0.8/G1929/7a28c094df41ac1e150ad6acfd914de86b9fb1e350a550d7a51d760e2cf1d1ef_2948.profile']\n",
      "duplicate ERR: ['./data/tree-rep-profiles_o2o_smallshort/small/3.allaple_0.8/G1921/9e8421bf401be4f0232112fb161c9c3ae474c6846526ca3ecbe58accd0756554_2864.profile', './data/tree-rep-profiles_o2o_smallshort/short/3.allaple_0.8/G1921/9e8421bf401be4f0232112fb161c9c3ae474c6846526ca3ecbe58accd0756554_2864.profile']\n",
      "duplicate ERR: ['./data/tree-rep-profiles_o2o_smallshort/small/3.allaple_0.8/G1921/d3826176b53d2f5fda1bfa1a453da6280780fd30d0b69043f2fec2f972702ca6_3292.profile', './data/tree-rep-profiles_o2o_smallshort/short/3.allaple_0.8/G1921/d3826176b53d2f5fda1bfa1a453da6280780fd30d0b69043f2fec2f972702ca6_3292.profile']\n",
      "duplicate ERR: ['./data/tree-rep-profiles_o2o_smallshort/small/3.allaple_0.8/G1931/90a8a97449fae15709ce9efccd76442de4a749e3071db52331d9e0701448a8df_440.profile', './data/tree-rep-profiles_o2o_smallshort/short/3.allaple_0.8/G1931/90a8a97449fae15709ce9efccd76442de4a749e3071db52331d9e0701448a8df_440.profile']\n",
      "duplicate ERR: ['./data/tree-rep-profiles_o2o_smallshort/small/3.allaple_0.8/G1931/d2cbf072c39ce0449fcbf59a000d88e6825faf1c77e058903dac526ee68cfe67_428.profile', './data/tree-rep-profiles_o2o_smallshort/short/3.allaple_0.8/G1931/d2cbf072c39ce0449fcbf59a000d88e6825faf1c77e058903dac526ee68cfe67_428.profile']\n",
      "duplicate ERR: ['./data/tree-rep-profiles_o2o_smallshort/small/3.allaple_0.8/G1890/329d35de1e16f1060805b04bc4ee3a3a14c5474d754cd13ad82692a202f53cb9_3464.profile', './data/tree-rep-profiles_o2o_smallshort/short/3.allaple_0.8/G1890/329d35de1e16f1060805b04bc4ee3a3a14c5474d754cd13ad82692a202f53cb9_3464.profile']\n",
      "duplicate ERR: ['./data/tree-rep-profiles_o2o_smallshort/small/3.allaple_0.8/G1890/ddd348e11006144d06471296c7b0d2b34ec5bbda32d518cfadd96760a10104ac_2964.profile', './data/tree-rep-profiles_o2o_smallshort/short/3.allaple_0.8/G1890/ddd348e11006144d06471296c7b0d2b34ec5bbda32d518cfadd96760a10104ac_2964.profile']\n",
      "duplicate ERR: ['./data/tree-rep-profiles_o2o_smallshort/small/3.allaple_0.8/G1944/5d6b10e26d92d7da0b44bffb8a6d389fb5198627faa289b0aa04893515aacf47_3464.profile', './data/tree-rep-profiles_o2o_smallshort/short/3.allaple_0.8/G1944/5d6b10e26d92d7da0b44bffb8a6d389fb5198627faa289b0aa04893515aacf47_3464.profile']\n",
      "duplicate ERR: ['./data/tree-rep-profiles_o2o_smallshort/small/3.allaple_0.8/G1944/7a28c094df41ac1e150ad6acfd914de86b9fb1e350a550d7a51d760e2cf1d1ef_3144.profile', './data/tree-rep-profiles_o2o_smallshort/short/3.allaple_0.8/G1944/7a28c094df41ac1e150ad6acfd914de86b9fb1e350a550d7a51d760e2cf1d1ef_3144.profile']\n",
      "duplicate ERR: ['./data/tree-rep-profiles_o2o_smallshort/small/3.allaple_0.8/G1445/ea92450a13f8d57152c4b5488b46941bb9075cca19aa0d7cac15046f99548613_3244.profile', './data/tree-rep-profiles_o2o_smallshort/short/3.allaple_0.8/G1445/ea92450a13f8d57152c4b5488b46941bb9075cca19aa0d7cac15046f99548613_3244.profile']\n",
      "duplicate ERR: ['./data/tree-rep-profiles_o2o_smallshort/small/3.allaple_0.8/G1445/b816539f8598d038fea326f9fe3768a5fca99ce2cc0b17db5ffcb8db18860154_3340.profile', './data/tree-rep-profiles_o2o_smallshort/short/3.allaple_0.8/G1445/b816539f8598d038fea326f9fe3768a5fca99ce2cc0b17db5ffcb8db18860154_3340.profile']\n",
      "duplicate ERR: ['./data/tree-rep-profiles_o2o_smallshort/small/3.allaple_0.8/G1472/00377771b4cdb096f514d9984f7dee17220963943981747e89f34a3ae5996bd9_3328.profile', './data/tree-rep-profiles_o2o_smallshort/short/3.allaple_0.8/G1472/00377771b4cdb096f514d9984f7dee17220963943981747e89f34a3ae5996bd9_3328.profile']\n",
      "duplicate ERR: ['./data/tree-rep-profiles_o2o_smallshort/small/3.allaple_0.8/G1472/36889e01464584e7109e58671f4173861e9baae4e89cbb5204c062f557610f60_2988.profile', './data/tree-rep-profiles_o2o_smallshort/short/3.allaple_0.8/G1472/36889e01464584e7109e58671f4173861e9baae4e89cbb5204c062f557610f60_2988.profile']\n",
      "duplicate ERR: ['./data/tree-rep-profiles_o2o_smallshort/small/3.allaple_0.8/G1447/b45750a65d232d9de02046cfa96d01082926a362e07468857d8b2700de7f17f7_3236.profile', './data/tree-rep-profiles_o2o_smallshort/short/3.allaple_0.8/G1447/b45750a65d232d9de02046cfa96d01082926a362e07468857d8b2700de7f17f7_3236.profile']\n",
      "duplicate ERR: ['./data/tree-rep-profiles_o2o_smallshort/small/3.allaple_0.8/G1447/b45750a65d232d9de02046cfa96d01082926a362e07468857d8b2700de7f17f7_2940.profile', './data/tree-rep-profiles_o2o_smallshort/short/3.allaple_0.8/G1447/b45750a65d232d9de02046cfa96d01082926a362e07468857d8b2700de7f17f7_2940.profile']\n"
     ]
    },
    {
     "name": "stderr",
     "output_type": "stream",
     "text": [
      "\r",
      " 82%|████████▏ | 130/159 [00:53<00:27,  1.04it/s]"
     ]
    },
    {
     "name": "stdout",
     "output_type": "stream",
     "text": [
      "duplicate ERR: ['./data/tree-rep-profiles_o2o_smallshort/small/3.allaple_0.8/G1967/1e41690fd2d99f00e74faa95d73cc6f6820e874521ddb70852078b0b616f39d1_3216.profile', './data/tree-rep-profiles_o2o_smallshort/short/3.allaple_0.8/G1967/1e41690fd2d99f00e74faa95d73cc6f6820e874521ddb70852078b0b616f39d1_3216.profile']\n",
      "duplicate ERR: ['./data/tree-rep-profiles_o2o_smallshort/small/3.allaple_0.8/G1967/15bf9cdba07a91e3de0dfff630f631b320f759ee2eed0f7492f55c8d2dcac302_2940.profile', './data/tree-rep-profiles_o2o_smallshort/short/3.allaple_0.8/G1967/15bf9cdba07a91e3de0dfff630f631b320f759ee2eed0f7492f55c8d2dcac302_2940.profile']\n",
      "duplicate ERR: ['./data/tree-rep-profiles_o2o_smallshort/small/71.mabezat_0.8/G70/00feef7907ffe36df09ed98e0b7f2b10aa5a22a48396e4da9137c5a3e491c73f_3148.profile', './data/tree-rep-profiles_o2o_smallshort/short/71.mabezat_0.8/G70/00feef7907ffe36df09ed98e0b7f2b10aa5a22a48396e4da9137c5a3e491c73f_3148.profile']\n",
      "duplicate ERR: ['./data/tree-rep-profiles_o2o_smallshort/small/71.mabezat_0.8/G70/0fd0a3dc848e7e62d0812ee5968bfea89f66b49e2b617bc1793614f9f88c3815_2992.profile', './data/tree-rep-profiles_o2o_smallshort/short/71.mabezat_0.8/G70/0fd0a3dc848e7e62d0812ee5968bfea89f66b49e2b617bc1793614f9f88c3815_2992.profile']\n",
      "duplicate ERR: ['./data/tree-rep-profiles_o2o_smallshort/small/127.dalexis_0.8/G35/115ef7726b2cba4ae28553e12ca13b20abc954a50675cf488cad0b1bfb72a323_2932.profile', './data/tree-rep-profiles_o2o_smallshort/short/127.dalexis_0.8/G35/115ef7726b2cba4ae28553e12ca13b20abc954a50675cf488cad0b1bfb72a323_2932.profile']\n",
      "duplicate ERR: ['./data/tree-rep-profiles_o2o_smallshort/small/127.dalexis_0.8/G35/0bd44016383d651b08959f69d85376ccb4a4a5e449642269d30a0d1638d9c3b8_3172.profile', './data/tree-rep-profiles_o2o_smallshort/short/127.dalexis_0.8/G35/0bd44016383d651b08959f69d85376ccb4a4a5e449642269d30a0d1638d9c3b8_3172.profile']\n",
      "duplicate ERR: ['./data/tree-rep-profiles_o2o_smallshort/small/127.dalexis_0.8/G34/0bed3e424c31d2bc7077d199977b0c8ae604dc28fb8286969f4601a35c58cb83_2944.profile', './data/tree-rep-profiles_o2o_smallshort/short/127.dalexis_0.8/G34/0bed3e424c31d2bc7077d199977b0c8ae604dc28fb8286969f4601a35c58cb83_2944.profile']\n",
      "duplicate ERR: ['./data/tree-rep-profiles_o2o_smallshort/small/127.dalexis_0.8/G34/01a0aa0e530d332b0b0685513fb817f6816c0213d97ffa51b3e1bcbf94dfd8d1_2996.profile', './data/tree-rep-profiles_o2o_smallshort/short/127.dalexis_0.8/G34/01a0aa0e530d332b0b0685513fb817f6816c0213d97ffa51b3e1bcbf94dfd8d1_2996.profile']\n"
     ]
    },
    {
     "name": "stderr",
     "output_type": "stream",
     "text": [
      " 84%|████████▍ | 134/159 [00:53<00:12,  1.97it/s]"
     ]
    },
    {
     "name": "stdout",
     "output_type": "stream",
     "text": [
      "duplicate ERR: ['./data/tree-rep-profiles_o2o_smallshort/small/127.dalexis_0.8/G33/1d6b07aaaec5024e418067e3d5abc0b2fb6529b93f4be10bfa91fde10469ca50_3228.profile', './data/tree-rep-profiles_o2o_smallshort/short/127.dalexis_0.8/G33/1d6b07aaaec5024e418067e3d5abc0b2fb6529b93f4be10bfa91fde10469ca50_3228.profile']\n",
      "duplicate ERR: ['./data/tree-rep-profiles_o2o_smallshort/small/127.dalexis_0.8/G33/0a514d660aef7257ca46740c95faccb9b7f334e373ca73374967583b8eb85814_3308.profile', './data/tree-rep-profiles_o2o_smallshort/short/127.dalexis_0.8/G33/0a514d660aef7257ca46740c95faccb9b7f334e373ca73374967583b8eb85814_3308.profile']\n",
      "duplicate ERR: ['./data/tree-rep-profiles_o2o_smallshort/small/107.jorik_0.8/G22/0f22621503033dbfd0174dc4d601e7a513b5488357c509d8c9ae5f5adb34d259_3224.profile', './data/tree-rep-profiles_o2o_smallshort/short/107.jorik_0.8/G22/0f22621503033dbfd0174dc4d601e7a513b5488357c509d8c9ae5f5adb34d259_3224.profile']\n",
      "duplicate ERR: ['./data/tree-rep-profiles_o2o_smallshort/small/107.jorik_0.8/G22/161c66154a5eadc8c8dc0bc8e00f0196e5d838a6b2e97eac06305aa5e524c22b_3152.profile', './data/tree-rep-profiles_o2o_smallshort/short/107.jorik_0.8/G22/161c66154a5eadc8c8dc0bc8e00f0196e5d838a6b2e97eac06305aa5e524c22b_3152.profile']\n",
      "duplicate ERR: ['./data/tree-rep-profiles_o2o_smallshort/small/162.jeefo_0.8/G23/0cfa7c09e8b484c4341187a6a4ea73a4eb2a29276127cb5961575a4c64a3104a_2944.profile', './data/tree-rep-profiles_o2o_smallshort/short/162.jeefo_0.8/G23/0cfa7c09e8b484c4341187a6a4ea73a4eb2a29276127cb5961575a4c64a3104a_2944.profile']\n",
      "duplicate ERR: ['./data/tree-rep-profiles_o2o_smallshort/small/162.jeefo_0.8/G23/1fc3bf28b83a943bfbc335bcea7c4cca50f4be5003d23ea7161a575db62c6393_2948.profile', './data/tree-rep-profiles_o2o_smallshort/short/162.jeefo_0.8/G23/1fc3bf28b83a943bfbc335bcea7c4cca50f4be5003d23ea7161a575db62c6393_2948.profile']\n",
      "duplicate ERR: ['./data/tree-rep-profiles_o2o_smallshort/small/46.shiz_0.8/G87/0afa93e9d9c6acf3852ff171409e6525281c4024ffe287626295237259ab20db_2892.profile', './data/tree-rep-profiles_o2o_smallshort/short/46.shiz_0.8/G87/0afa93e9d9c6acf3852ff171409e6525281c4024ffe287626295237259ab20db_2892.profile']\n",
      "duplicate ERR: ['./data/tree-rep-profiles_o2o_smallshort/small/46.shiz_0.8/G87/767ba25922e85d71f883a0e4cc7550c263cb2da463655bc3bd4282f7e327e2dd_3428.profile', './data/tree-rep-profiles_o2o_smallshort/short/46.shiz_0.8/G87/767ba25922e85d71f883a0e4cc7550c263cb2da463655bc3bd4282f7e327e2dd_3428.profile']\n"
     ]
    },
    {
     "name": "stderr",
     "output_type": "stream",
     "text": [
      "\r",
      " 85%|████████▍ | 135/159 [00:53<00:09,  2.48it/s]"
     ]
    },
    {
     "name": "stdout",
     "output_type": "stream",
     "text": [
      "duplicate ERR: ['./data/tree-rep-profiles_o2o_smallshort/small/46.shiz_0.8/G86/0e30650085d89cda9e8306189d807e3800e1fe84b6d1345302712f5bb4a5e76b_3276.profile', './data/tree-rep-profiles_o2o_smallshort/short/46.shiz_0.8/G86/0e30650085d89cda9e8306189d807e3800e1fe84b6d1345302712f5bb4a5e76b_3276.profile']\n",
      "duplicate ERR: ['./data/tree-rep-profiles_o2o_smallshort/small/46.shiz_0.8/G86/011da7a315fb8799bbfa8762fb4a96379ae8252b1176676dd4f25337160b43c9_3184.profile', './data/tree-rep-profiles_o2o_smallshort/short/46.shiz_0.8/G86/011da7a315fb8799bbfa8762fb4a96379ae8252b1176676dd4f25337160b43c9_3184.profile']\n",
      "duplicate ERR: ['./data/tree-rep-profiles_o2o_smallshort/small/46.shiz_0.8/G82/0ca121ad4941db61a9e336b7351268eb96b861324699eb1daf3946bb4e3e8b3f_2928.profile', './data/tree-rep-profiles_o2o_smallshort/short/46.shiz_0.8/G82/0ca121ad4941db61a9e336b7351268eb96b861324699eb1daf3946bb4e3e8b3f_2928.profile']\n",
      "duplicate ERR: ['./data/tree-rep-profiles_o2o_smallshort/small/46.shiz_0.8/G82/0fb519d3090b15041cfdcef34d2246de523a8488cdcbd2141de7e03f8d09429a_3360.profile', './data/tree-rep-profiles_o2o_smallshort/short/46.shiz_0.8/G82/0fb519d3090b15041cfdcef34d2246de523a8488cdcbd2141de7e03f8d09429a_3360.profile']\n",
      "duplicate ERR: ['./data/tree-rep-profiles_o2o_smallshort/small/100.jadtre_0.8/G33/1c7f7c89c2d7a6364b326609052e7f2ed9b8d140d88056f18d5cd5d5cc68df4c_3356.profile', './data/tree-rep-profiles_o2o_smallshort/short/100.jadtre_0.8/G33/1c7f7c89c2d7a6364b326609052e7f2ed9b8d140d88056f18d5cd5d5cc68df4c_3356.profile']\n",
      "duplicate ERR: ['./data/tree-rep-profiles_o2o_smallshort/small/100.jadtre_0.8/G33/1c7f7c89c2d7a6364b326609052e7f2ed9b8d140d88056f18d5cd5d5cc68df4c_3408.profile', './data/tree-rep-profiles_o2o_smallshort/short/100.jadtre_0.8/G33/1c7f7c89c2d7a6364b326609052e7f2ed9b8d140d88056f18d5cd5d5cc68df4c_3408.profile']\n",
      "duplicate ERR: ['./data/tree-rep-profiles_o2o_smallshort/small/104.yakes_0.8/G21/152b640159e051a8007e0361dc2c6031a91e8efea6213c81e3b2e3d63f571312_3176.profile', './data/tree-rep-profiles_o2o_smallshort/short/104.yakes_0.8/G21/152b640159e051a8007e0361dc2c6031a91e8efea6213c81e3b2e3d63f571312_3176.profile']\n",
      "duplicate ERR: ['./data/tree-rep-profiles_o2o_smallshort/small/104.yakes_0.8/G21/115d4ca209ae041baccd2dac9ab806576f8e1e846a483bbe507fa2a53b44f1c5_2964.profile', './data/tree-rep-profiles_o2o_smallshort/short/104.yakes_0.8/G21/115d4ca209ae041baccd2dac9ab806576f8e1e846a483bbe507fa2a53b44f1c5_2964.profile']\n",
      "duplicate ERR: ['./data/tree-rep-profiles_o2o_smallshort/small/104.yakes_0.8/G22/07b7c375f258d3414aab481f5bf1fc2b4b2acadd4a1c685d0d842e097fa790ca_3340.profile', './data/tree-rep-profiles_o2o_smallshort/short/104.yakes_0.8/G22/07b7c375f258d3414aab481f5bf1fc2b4b2acadd4a1c685d0d842e097fa790ca_3340.profile']\n"
     ]
    },
    {
     "name": "stderr",
     "output_type": "stream",
     "text": [
      " 87%|████████▋ | 138/159 [00:53<00:05,  3.80it/s]"
     ]
    },
    {
     "name": "stdout",
     "output_type": "stream",
     "text": [
      "duplicate ERR: ['./data/tree-rep-profiles_o2o_smallshort/small/104.yakes_0.8/G22/001eda61bb769ebeedf6ef13529c292f7fe39fdca80da863ccaf7b3ea57b0f05_3364.profile', './data/tree-rep-profiles_o2o_smallshort/short/104.yakes_0.8/G22/001eda61bb769ebeedf6ef13529c292f7fe39fdca80da863ccaf7b3ea57b0f05_3364.profile']\n",
      "duplicate ERR: ['./data/tree-rep-profiles_o2o_smallshort/small/104.yakes_0.8/G23/098e94135d4b4c3aa84c50b9a7663558972a68bde117724f837cc6628b6afbd9_3256.profile', './data/tree-rep-profiles_o2o_smallshort/short/104.yakes_0.8/G23/098e94135d4b4c3aa84c50b9a7663558972a68bde117724f837cc6628b6afbd9_3256.profile']\n",
      "duplicate ERR: ['./data/tree-rep-profiles_o2o_smallshort/small/104.yakes_0.8/G23/1f7a7d824bc975d063eee64c84cb460babc9210b3514199125c54d73325a27cd_3184.profile', './data/tree-rep-profiles_o2o_smallshort/short/104.yakes_0.8/G23/1f7a7d824bc975d063eee64c84cb460babc9210b3514199125c54d73325a27cd_3184.profile']\n",
      "duplicate ERR: ['./data/tree-rep-profiles_o2o_smallshort/small/97.downloadadmin_0.8/G46/89db37f91da86d26d1a9ffdf316017eae7a12164816ba48cf4edadf89dfb3339_3324.profile', './data/tree-rep-profiles_o2o_smallshort/short/97.downloadadmin_0.8/G46/89db37f91da86d26d1a9ffdf316017eae7a12164816ba48cf4edadf89dfb3339_3324.profile']\n",
      "duplicate ERR: ['./data/tree-rep-profiles_o2o_smallshort/small/97.downloadadmin_0.8/G46/89db37f91da86d26d1a9ffdf316017eae7a12164816ba48cf4edadf89dfb3339_3328.profile', './data/tree-rep-profiles_o2o_smallshort/short/97.downloadadmin_0.8/G46/89db37f91da86d26d1a9ffdf316017eae7a12164816ba48cf4edadf89dfb3339_3328.profile']\n",
      "duplicate ERR: ['./data/tree-rep-profiles_o2o_smallshort/small/97.downloadadmin_0.8/G45/0df3c643e464f67e1d8ef54e8e80852c1ca8521545d90c1ead2574e978d8842d_3512.profile', './data/tree-rep-profiles_o2o_smallshort/short/97.downloadadmin_0.8/G45/0df3c643e464f67e1d8ef54e8e80852c1ca8521545d90c1ead2574e978d8842d_3512.profile']\n",
      "duplicate ERR: ['./data/tree-rep-profiles_o2o_smallshort/small/97.downloadadmin_0.8/G45/0df3c643e464f67e1d8ef54e8e80852c1ca8521545d90c1ead2574e978d8842d_3528.profile', './data/tree-rep-profiles_o2o_smallshort/short/97.downloadadmin_0.8/G45/0df3c643e464f67e1d8ef54e8e80852c1ca8521545d90c1ead2574e978d8842d_3528.profile']\n",
      "duplicate ERR: ['./data/tree-rep-profiles_o2o_smallshort/small/97.downloadadmin_0.8/G50/98149b866ef30b31827246dd0eda9b87217aad48f52e768378c9a8182275cf50_3164.profile', './data/tree-rep-profiles_o2o_smallshort/short/97.downloadadmin_0.8/G50/98149b866ef30b31827246dd0eda9b87217aad48f52e768378c9a8182275cf50_3164.profile']\n",
      "duplicate ERR: ['./data/tree-rep-profiles_o2o_smallshort/small/97.downloadadmin_0.8/G50/0f011119cbe308c477779c86af2e6dd7ae0ad0e045344c85a6d61eb8b033115a_3240.profile', './data/tree-rep-profiles_o2o_smallshort/short/97.downloadadmin_0.8/G50/0f011119cbe308c477779c86af2e6dd7ae0ad0e045344c85a6d61eb8b033115a_3240.profile']\n"
     ]
    },
    {
     "name": "stderr",
     "output_type": "stream",
     "text": [
      "\r",
      " 87%|████████▋ | 139/159 [00:54<00:04,  4.67it/s]"
     ]
    },
    {
     "name": "stdout",
     "output_type": "stream",
     "text": [
      "duplicate ERR: ['./data/tree-rep-profiles_o2o_smallshort/small/111.imali_0.8/G41/39b3c8935687b134133d7ca83846128dd10b16384269b10f71373c7b76d73d23_3396.profile', './data/tree-rep-profiles_o2o_smallshort/short/111.imali_0.8/G41/39b3c8935687b134133d7ca83846128dd10b16384269b10f71373c7b76d73d23_3396.profile']\n",
      "duplicate ERR: ['./data/tree-rep-profiles_o2o_smallshort/small/111.imali_0.8/G41/b121ba876baf1019333deb8b7cff92f0a65c29f0e599387f9a4fa6ed9253c9d4_3336.profile', './data/tree-rep-profiles_o2o_smallshort/short/111.imali_0.8/G41/b121ba876baf1019333deb8b7cff92f0a65c29f0e599387f9a4fa6ed9253c9d4_3336.profile']\n",
      "duplicate ERR: ['./data/tree-rep-profiles_o2o_smallshort/small/111.imali_0.8/G40/df2e44b5571242ccf81d55cd1cd9f03d53be101af713447230447f275c0b468d_3308.profile', './data/tree-rep-profiles_o2o_smallshort/short/111.imali_0.8/G40/df2e44b5571242ccf81d55cd1cd9f03d53be101af713447230447f275c0b468d_3308.profile']\n",
      "duplicate ERR: ['./data/tree-rep-profiles_o2o_smallshort/small/111.imali_0.8/G40/6b7bd474e49deb6b288c237644c55675eff192aef6ebae432da76b4ad095111f_3392.profile', './data/tree-rep-profiles_o2o_smallshort/short/111.imali_0.8/G40/6b7bd474e49deb6b288c237644c55675eff192aef6ebae432da76b4ad095111f_3392.profile']\n",
      "duplicate ERR: ['./data/tree-rep-profiles_o2o_smallshort/small/35.morstar_0.8/G183/d77459d61da39d0dd810447b27b83fc37fde9388e323ab3a820c57ae65ef60c5_3300.profile', './data/tree-rep-profiles_o2o_smallshort/short/35.morstar_0.8/G183/d77459d61da39d0dd810447b27b83fc37fde9388e323ab3a820c57ae65ef60c5_3300.profile']\n",
      "duplicate ERR: ['./data/tree-rep-profiles_o2o_smallshort/small/35.morstar_0.8/G183/f58aa92002cd557a8608b7b8d2a28177d8c604e8a5c6c98bdd401f7a2988d04d_3260.profile', './data/tree-rep-profiles_o2o_smallshort/short/35.morstar_0.8/G183/f58aa92002cd557a8608b7b8d2a28177d8c604e8a5c6c98bdd401f7a2988d04d_3260.profile']\n",
      "duplicate ERR: ['./data/tree-rep-profiles_o2o_smallshort/small/35.morstar_0.8/G214/f2af3fc4e27c320d2373a70b81ad143b2444ff1d32b115fade2c70ab1c9fd32b_3332.profile', './data/tree-rep-profiles_o2o_smallshort/short/35.morstar_0.8/G214/f2af3fc4e27c320d2373a70b81ad143b2444ff1d32b115fade2c70ab1c9fd32b_3332.profile']\n",
      "duplicate ERR: ['./data/tree-rep-profiles_o2o_smallshort/small/35.morstar_0.8/G214/8791b67dc5cd957e9f6681da0c352cd3de9e104ba779efb704bb9817e89cdf89_3332.profile', './data/tree-rep-profiles_o2o_smallshort/short/35.morstar_0.8/G214/8791b67dc5cd957e9f6681da0c352cd3de9e104ba779efb704bb9817e89cdf89_3332.profile']\n",
      "duplicate ERR: ['./data/tree-rep-profiles_o2o_smallshort/small/35.morstar_0.8/G220/80b7fda1c1d2a43ceb90a162d75d9d4bba432dc5bb3f62e1a83ca5129deb4765_3348.profile', './data/tree-rep-profiles_o2o_smallshort/short/35.morstar_0.8/G220/80b7fda1c1d2a43ceb90a162d75d9d4bba432dc5bb3f62e1a83ca5129deb4765_3348.profile']\n",
      "duplicate ERR: ['./data/tree-rep-profiles_o2o_smallshort/small/35.morstar_0.8/G220/e47b77e3230e216abeed983c913c24db388e4dc0ba565ccff4cd114914fd911f_3016.profile', './data/tree-rep-profiles_o2o_smallshort/short/35.morstar_0.8/G220/e47b77e3230e216abeed983c913c24db388e4dc0ba565ccff4cd114914fd911f_3016.profile']\n",
      "duplicate ERR: ['./data/tree-rep-profiles_o2o_smallshort/small/35.morstar_0.8/G210/d3db49317663c97baed917a7ba7d1a9384d45186ad27253ed55d27d0854dd011_2904.profile', './data/tree-rep-profiles_o2o_smallshort/short/35.morstar_0.8/G210/d3db49317663c97baed917a7ba7d1a9384d45186ad27253ed55d27d0854dd011_2904.profile']\n",
      "duplicate ERR: ['./data/tree-rep-profiles_o2o_smallshort/small/35.morstar_0.8/G210/03581516b30ab607931cb096f2f1167303185d2f4903c355e3eb3bb1ec75bdfc_3260.profile', './data/tree-rep-profiles_o2o_smallshort/short/35.morstar_0.8/G210/03581516b30ab607931cb096f2f1167303185d2f4903c355e3eb3bb1ec75bdfc_3260.profile']\n",
      "duplicate ERR: ['./data/tree-rep-profiles_o2o_smallshort/small/35.morstar_0.8/G217/13b0e67caba738660af40815dc79a20316d77117d1a5da11256d05362471e67b_3656.profile', './data/tree-rep-profiles_o2o_smallshort/short/35.morstar_0.8/G217/13b0e67caba738660af40815dc79a20316d77117d1a5da11256d05362471e67b_3656.profile']\n",
      "duplicate ERR: ['./data/tree-rep-profiles_o2o_smallshort/small/35.morstar_0.8/G217/13b0e67caba738660af40815dc79a20316d77117d1a5da11256d05362471e67b_3380.profile', './data/tree-rep-profiles_o2o_smallshort/short/35.morstar_0.8/G217/13b0e67caba738660af40815dc79a20316d77117d1a5da11256d05362471e67b_3380.profile']\n",
      "duplicate ERR: ['./data/tree-rep-profiles_o2o_smallshort/small/35.morstar_0.8/G186/2fde5a8db60ffb8385a2b00e14b8c001153c26d202d336760dcbe9368954c2a3_3352.profile', './data/tree-rep-profiles_o2o_smallshort/short/35.morstar_0.8/G186/2fde5a8db60ffb8385a2b00e14b8c001153c26d202d336760dcbe9368954c2a3_3352.profile']\n",
      "duplicate ERR: ['./data/tree-rep-profiles_o2o_smallshort/small/35.morstar_0.8/G186/d4d3675af8eed3f34ef03f65950b9998e4394a2fed25ba2b249905ffd0c6b4c3_3240.profile', './data/tree-rep-profiles_o2o_smallshort/short/35.morstar_0.8/G186/d4d3675af8eed3f34ef03f65950b9998e4394a2fed25ba2b249905ffd0c6b4c3_3240.profile']\n",
      "duplicate ERR: ['./data/tree-rep-profiles_o2o_smallshort/small/35.morstar_0.8/G218/698232545a6feff5940a355f04203329a9d656ec47f39bab1d707a4f2811eb9d_3392.profile', './data/tree-rep-profiles_o2o_smallshort/short/35.morstar_0.8/G218/698232545a6feff5940a355f04203329a9d656ec47f39bab1d707a4f2811eb9d_3392.profile']\n",
      "duplicate ERR: ['./data/tree-rep-profiles_o2o_smallshort/small/35.morstar_0.8/G218/f0f5c5fbe11e5764e86ed54c40ee76e0b6ea51a0c1aa5f896ecaddcbd0d4a975_3268.profile', './data/tree-rep-profiles_o2o_smallshort/short/35.morstar_0.8/G218/f0f5c5fbe11e5764e86ed54c40ee76e0b6ea51a0c1aa5f896ecaddcbd0d4a975_3268.profile']\n"
     ]
    },
    {
     "name": "stderr",
     "output_type": "stream",
     "text": [
      "\r",
      " 89%|████████▊ | 141/159 [00:54<00:04,  4.44it/s]"
     ]
    },
    {
     "name": "stdout",
     "output_type": "stream",
     "text": [
      "duplicate ERR: ['./data/tree-rep-profiles_o2o_smallshort/small/35.morstar_0.8/G198/56b3e238169381cd4552e03c1974ca7ff389ca44e3f012f0f128c632ebe62088_3432.profile', './data/tree-rep-profiles_o2o_smallshort/short/35.morstar_0.8/G198/56b3e238169381cd4552e03c1974ca7ff389ca44e3f012f0f128c632ebe62088_3432.profile']\n",
      "duplicate ERR: ['./data/tree-rep-profiles_o2o_smallshort/small/35.morstar_0.8/G198/b578992b29c6529d4b05c7562eabd1a8244e1dc1b099177e1796f5bbc91615a5_3308.profile', './data/tree-rep-profiles_o2o_smallshort/short/35.morstar_0.8/G198/b578992b29c6529d4b05c7562eabd1a8244e1dc1b099177e1796f5bbc91615a5_3308.profile']\n",
      "duplicate ERR: ['./data/tree-rep-profiles_o2o_smallshort/small/35.morstar_0.8/G205/3221dfd663279944e7d0e8a29a63de8f7aeb8f162f0cc3fd2d3297b8a7c88ba5_2928.profile', './data/tree-rep-profiles_o2o_smallshort/short/35.morstar_0.8/G205/3221dfd663279944e7d0e8a29a63de8f7aeb8f162f0cc3fd2d3297b8a7c88ba5_2928.profile']\n",
      "duplicate ERR: ['./data/tree-rep-profiles_o2o_smallshort/small/35.morstar_0.8/G205/3221dfd663279944e7d0e8a29a63de8f7aeb8f162f0cc3fd2d3297b8a7c88ba5_3432.profile', './data/tree-rep-profiles_o2o_smallshort/short/35.morstar_0.8/G205/3221dfd663279944e7d0e8a29a63de8f7aeb8f162f0cc3fd2d3297b8a7c88ba5_3432.profile']\n",
      "duplicate ERR: ['./data/tree-rep-profiles_o2o_smallshort/small/35.morstar_0.8/G187/3221dfd663279944e7d0e8a29a63de8f7aeb8f162f0cc3fd2d3297b8a7c88ba5_3380.profile', './data/tree-rep-profiles_o2o_smallshort/short/35.morstar_0.8/G187/3221dfd663279944e7d0e8a29a63de8f7aeb8f162f0cc3fd2d3297b8a7c88ba5_3380.profile']\n",
      "duplicate ERR: ['./data/tree-rep-profiles_o2o_smallshort/small/35.morstar_0.8/G187/3221dfd663279944e7d0e8a29a63de8f7aeb8f162f0cc3fd2d3297b8a7c88ba5_2892.profile', './data/tree-rep-profiles_o2o_smallshort/short/35.morstar_0.8/G187/3221dfd663279944e7d0e8a29a63de8f7aeb8f162f0cc3fd2d3297b8a7c88ba5_2892.profile']\n",
      "duplicate ERR: ['./data/tree-rep-profiles_o2o_smallshort/small/56.onlinegames_0.8/G84/0b1b4c5da8a87597a2d26cde4c9f35218fe6b396d50e024a82ee200c82780e6e_3428.profile', './data/tree-rep-profiles_o2o_smallshort/short/56.onlinegames_0.8/G84/0b1b4c5da8a87597a2d26cde4c9f35218fe6b396d50e024a82ee200c82780e6e_3428.profile']\n",
      "duplicate ERR: ['./data/tree-rep-profiles_o2o_smallshort/small/56.onlinegames_0.8/G84/02cf3a1b01af2ecc72bc50c7b4b607958efa3286245f513bac5d155065ef2b6e_3248.profile', './data/tree-rep-profiles_o2o_smallshort/short/56.onlinegames_0.8/G84/02cf3a1b01af2ecc72bc50c7b4b607958efa3286245f513bac5d155065ef2b6e_3248.profile']\n"
     ]
    },
    {
     "name": "stderr",
     "output_type": "stream",
     "text": [
      "\r",
      " 89%|████████▉ | 142/159 [00:54<00:04,  4.22it/s]"
     ]
    },
    {
     "name": "stdout",
     "output_type": "stream",
     "text": [
      "duplicate ERR: ['./data/tree-rep-profiles_o2o_smallshort/small/56.onlinegames_0.8/G74/032c50814619cfefb6771674a9ea1f30cbee514e859a798463df1a58bae8fabd_3188.profile', './data/tree-rep-profiles_o2o_smallshort/short/56.onlinegames_0.8/G74/032c50814619cfefb6771674a9ea1f30cbee514e859a798463df1a58bae8fabd_3188.profile']\n",
      "duplicate ERR: ['./data/tree-rep-profiles_o2o_smallshort/small/56.onlinegames_0.8/G74/009ac6a7a40deb467b64d76bc1ed2a6dba744b57d455b0f2936d7a102ab633f4_3244.profile', './data/tree-rep-profiles_o2o_smallshort/short/56.onlinegames_0.8/G74/009ac6a7a40deb467b64d76bc1ed2a6dba744b57d455b0f2936d7a102ab633f4_3244.profile']\n",
      "duplicate ERR: ['./data/tree-rep-profiles_o2o_smallshort/small/56.onlinegames_0.8/G89/029ad96b2ac11afee2cda8e933bbeaa23a3d4c8ac091ac6bcdaaa6df28804e15_2864.profile', './data/tree-rep-profiles_o2o_smallshort/short/56.onlinegames_0.8/G89/029ad96b2ac11afee2cda8e933bbeaa23a3d4c8ac091ac6bcdaaa6df28804e15_2864.profile']\n",
      "duplicate ERR: ['./data/tree-rep-profiles_o2o_smallshort/small/56.onlinegames_0.8/G89/01e9a60304922969a417a1ad356258239b48e8e048a5cb10d76283816ed3509f_2948.profile', './data/tree-rep-profiles_o2o_smallshort/short/56.onlinegames_0.8/G89/01e9a60304922969a417a1ad356258239b48e8e048a5cb10d76283816ed3509f_2948.profile']\n",
      "duplicate ERR: ['./data/tree-rep-profiles_o2o_smallshort/small/56.onlinegames_0.8/G80/0f5872a8f440e873d70a50924fb17c6bd02bc41c3b2db24889b5bc79fe00d97b_2964.profile', './data/tree-rep-profiles_o2o_smallshort/short/56.onlinegames_0.8/G80/0f5872a8f440e873d70a50924fb17c6bd02bc41c3b2db24889b5bc79fe00d97b_2964.profile']\n",
      "duplicate ERR: ['./data/tree-rep-profiles_o2o_smallshort/small/56.onlinegames_0.8/G80/1ed002d88a8c52b737a7c999f103de6c43796296387d668547a79d0325dc63ff_3264.profile', './data/tree-rep-profiles_o2o_smallshort/short/56.onlinegames_0.8/G80/1ed002d88a8c52b737a7c999f103de6c43796296387d668547a79d0325dc63ff_3264.profile']\n",
      "duplicate ERR: ['./data/tree-rep-profiles_o2o_smallshort/small/56.onlinegames_0.8/G77/0d36fa424d403c306985f66762945a863e001dd655d4902b7f990e19bda5a0da_3156.profile', './data/tree-rep-profiles_o2o_smallshort/short/56.onlinegames_0.8/G77/0d36fa424d403c306985f66762945a863e001dd655d4902b7f990e19bda5a0da_3156.profile']\n",
      "duplicate ERR: ['./data/tree-rep-profiles_o2o_smallshort/small/56.onlinegames_0.8/G77/0f758d3c45dafbc1afe790ffb00b696359dca912af4675c16bf5a56a95ab1bf3_3288.profile', './data/tree-rep-profiles_o2o_smallshort/short/56.onlinegames_0.8/G77/0f758d3c45dafbc1afe790ffb00b696359dca912af4675c16bf5a56a95ab1bf3_3288.profile']\n",
      "duplicate ERR: ['./data/tree-rep-profiles_o2o_smallshort/small/43.tepfer_0.8/G101/0d616606d4263fdb1b47010d9ce2bb762628449cf365c6eb65efcdb219372dea_3292.profile', './data/tree-rep-profiles_o2o_smallshort/short/43.tepfer_0.8/G101/0d616606d4263fdb1b47010d9ce2bb762628449cf365c6eb65efcdb219372dea_3292.profile']\n",
      "duplicate ERR: ['./data/tree-rep-profiles_o2o_smallshort/small/43.tepfer_0.8/G101/0b8804057198ad3009fa47374822019eccca60551c32624250715c51ad164b33_3340.profile', './data/tree-rep-profiles_o2o_smallshort/short/43.tepfer_0.8/G101/0b8804057198ad3009fa47374822019eccca60551c32624250715c51ad164b33_3340.profile']\n",
      "duplicate ERR: ['./data/tree-rep-profiles_o2o_smallshort/small/43.tepfer_0.8/G107/10a43e8305b5133978de125c71eade8394f73a5918b5fc116dba572f32659ce7_3288.profile', './data/tree-rep-profiles_o2o_smallshort/short/43.tepfer_0.8/G107/10a43e8305b5133978de125c71eade8394f73a5918b5fc116dba572f32659ce7_3288.profile']\n",
      "duplicate ERR: ['./data/tree-rep-profiles_o2o_smallshort/small/43.tepfer_0.8/G107/0f5fa6dec8551408ed40937e1bb60270c0085c6ea6e7ab9465d375c99a196faa_3168.profile', './data/tree-rep-profiles_o2o_smallshort/short/43.tepfer_0.8/G107/0f5fa6dec8551408ed40937e1bb60270c0085c6ea6e7ab9465d375c99a196faa_3168.profile']\n",
      "duplicate ERR: ['./data/tree-rep-profiles_o2o_smallshort/small/43.tepfer_0.8/G99/0f1465db9755f2a68eba95bd4445d2ddd308c31044e0616d146e2a2988ffbd64_2920.profile', './data/tree-rep-profiles_o2o_smallshort/short/43.tepfer_0.8/G99/0f1465db9755f2a68eba95bd4445d2ddd308c31044e0616d146e2a2988ffbd64_2920.profile']\n",
      "duplicate ERR: ['./data/tree-rep-profiles_o2o_smallshort/small/43.tepfer_0.8/G99/0e215e4737cba08798af7d386c5b75d6ec8a6d1fc5cd9a8885e07a364bf0e8e7_3328.profile', './data/tree-rep-profiles_o2o_smallshort/short/43.tepfer_0.8/G99/0e215e4737cba08798af7d386c5b75d6ec8a6d1fc5cd9a8885e07a364bf0e8e7_3328.profile']\n",
      "duplicate ERR: ['./data/tree-rep-profiles_o2o_smallshort/small/43.tepfer_0.8/G106/0eb94dd526d3785efb6955db65ce8c21296c5577521ffff4c32de2b54efc57ea_3380.profile', './data/tree-rep-profiles_o2o_smallshort/short/43.tepfer_0.8/G106/0eb94dd526d3785efb6955db65ce8c21296c5577521ffff4c32de2b54efc57ea_3380.profile']\n",
      "duplicate ERR: ['./data/tree-rep-profiles_o2o_smallshort/small/43.tepfer_0.8/G106/013b951bd8b5e24e1844dd77e18c861118f40ea004379b4e93874ce7faa18e1b_2856.profile', './data/tree-rep-profiles_o2o_smallshort/short/43.tepfer_0.8/G106/013b951bd8b5e24e1844dd77e18c861118f40ea004379b4e93874ce7faa18e1b_2856.profile']\n"
     ]
    },
    {
     "name": "stderr",
     "output_type": "stream",
     "text": [
      "\r",
      " 90%|████████▉ | 143/159 [00:55<00:04,  3.64it/s]"
     ]
    },
    {
     "name": "stdout",
     "output_type": "stream",
     "text": [
      "duplicate ERR: ['./data/tree-rep-profiles_o2o_smallshort/small/43.tepfer_0.8/G114/05a28592d6dd79c060bf0fbc1cf4790071532a63651ac1d6222ca855e2556be9_3356.profile', './data/tree-rep-profiles_o2o_smallshort/short/43.tepfer_0.8/G114/05a28592d6dd79c060bf0fbc1cf4790071532a63651ac1d6222ca855e2556be9_3356.profile']\n",
      "duplicate ERR: ['./data/tree-rep-profiles_o2o_smallshort/small/43.tepfer_0.8/G114/05a28592d6dd79c060bf0fbc1cf4790071532a63651ac1d6222ca855e2556be9_3308.profile', './data/tree-rep-profiles_o2o_smallshort/short/43.tepfer_0.8/G114/05a28592d6dd79c060bf0fbc1cf4790071532a63651ac1d6222ca855e2556be9_3308.profile']\n",
      "duplicate ERR: ['./data/tree-rep-profiles_o2o_smallshort/small/43.tepfer_0.8/G112/15a63185b2336af79beeab9be2ac058001d735dbbc4163dd1e57ba6389fd9e63_2920.profile', './data/tree-rep-profiles_o2o_smallshort/short/43.tepfer_0.8/G112/15a63185b2336af79beeab9be2ac058001d735dbbc4163dd1e57ba6389fd9e63_2920.profile']\n",
      "duplicate ERR: ['./data/tree-rep-profiles_o2o_smallshort/small/43.tepfer_0.8/G112/02e649fd70d8930773895c40fcfc0399b2fa813314afe21b2f946a6b587f8410_3260.profile', './data/tree-rep-profiles_o2o_smallshort/short/43.tepfer_0.8/G112/02e649fd70d8930773895c40fcfc0399b2fa813314afe21b2f946a6b587f8410_3260.profile']\n",
      "duplicate ERR: ['./data/tree-rep-profiles_o2o_smallshort/small/43.tepfer_0.8/G115/0d600724bc370ce952f07c8e4180cd833f4a78aaafbf654fa43fd8bbedbdfb5f_3364.profile', './data/tree-rep-profiles_o2o_smallshort/short/43.tepfer_0.8/G115/0d600724bc370ce952f07c8e4180cd833f4a78aaafbf654fa43fd8bbedbdfb5f_3364.profile']\n",
      "duplicate ERR: ['./data/tree-rep-profiles_o2o_smallshort/small/43.tepfer_0.8/G115/0de7e6eb6375bb5d3c8e792f47de8c24d5aa1701f5e56ddeb9c0b7d8fd9f6579_3384.profile', './data/tree-rep-profiles_o2o_smallshort/short/43.tepfer_0.8/G115/0de7e6eb6375bb5d3c8e792f47de8c24d5aa1701f5e56ddeb9c0b7d8fd9f6579_3384.profile']\n",
      "duplicate ERR: ['./data/tree-rep-profiles_o2o_smallshort/small/69.clickdownload_0.8/G61/0a92a6bdfd4ed425584b401b949b627c655db1800a3ca5453c1b186d80604813_3272.profile', './data/tree-rep-profiles_o2o_smallshort/short/69.clickdownload_0.8/G61/0a92a6bdfd4ed425584b401b949b627c655db1800a3ca5453c1b186d80604813_3272.profile']\n",
      "duplicate ERR: ['./data/tree-rep-profiles_o2o_smallshort/small/69.clickdownload_0.8/G61/0de18579bd90c95c441ac9c479d2981b840dea299e5ae06a6b190c0cce5ac139_3460.profile', './data/tree-rep-profiles_o2o_smallshort/short/69.clickdownload_0.8/G61/0de18579bd90c95c441ac9c479d2981b840dea299e5ae06a6b190c0cce5ac139_3460.profile']\n"
     ]
    },
    {
     "name": "stderr",
     "output_type": "stream",
     "text": [
      " 91%|█████████ | 145/159 [00:55<00:02,  4.89it/s]"
     ]
    },
    {
     "name": "stdout",
     "output_type": "stream",
     "text": [
      "duplicate ERR: ['./data/tree-rep-profiles_o2o_smallshort/small/69.clickdownload_0.8/G59/01c7767983180db76a6ee0dc4269daad520f1c0fff20aabef1a6bcf3b76482ed_3344.profile', './data/tree-rep-profiles_o2o_smallshort/short/69.clickdownload_0.8/G59/01c7767983180db76a6ee0dc4269daad520f1c0fff20aabef1a6bcf3b76482ed_3344.profile']\n",
      "duplicate ERR: ['./data/tree-rep-profiles_o2o_smallshort/small/69.clickdownload_0.8/G59/0ad3ae2184b5f775ca5fea37f873246fdba4eba01eb1d971e1f2dee10a37a2f4_3260.profile', './data/tree-rep-profiles_o2o_smallshort/short/69.clickdownload_0.8/G59/0ad3ae2184b5f775ca5fea37f873246fdba4eba01eb1d971e1f2dee10a37a2f4_3260.profile']\n",
      "duplicate ERR: ['./data/tree-rep-profiles_o2o_smallshort/small/128.conduit_0.8/G25/933a70a1d032295c16edea8808f2b20f5612c27cb3b6a9d26f2dc0806dc82ba4_3260.profile', './data/tree-rep-profiles_o2o_smallshort/short/128.conduit_0.8/G25/933a70a1d032295c16edea8808f2b20f5612c27cb3b6a9d26f2dc0806dc82ba4_3260.profile']\n",
      "duplicate ERR: ['./data/tree-rep-profiles_o2o_smallshort/small/128.conduit_0.8/G25/f521a4866bfc6377b3975048948f5e42f1ea737d5c154340e03444637a184aaf_3128.profile', './data/tree-rep-profiles_o2o_smallshort/short/128.conduit_0.8/G25/f521a4866bfc6377b3975048948f5e42f1ea737d5c154340e03444637a184aaf_3128.profile']\n",
      "duplicate ERR: ['./data/tree-rep-profiles_o2o_smallshort/small/128.conduit_0.8/G26/8e81dc27a1e9cf3a79e5d38e81773ed7139cf6f0a6ad63287dfda64d45ce7b4d_3396.profile', './data/tree-rep-profiles_o2o_smallshort/short/128.conduit_0.8/G26/8e81dc27a1e9cf3a79e5d38e81773ed7139cf6f0a6ad63287dfda64d45ce7b4d_3396.profile']\n",
      "duplicate ERR: ['./data/tree-rep-profiles_o2o_smallshort/small/128.conduit_0.8/G26/8e81dc27a1e9cf3a79e5d38e81773ed7139cf6f0a6ad63287dfda64d45ce7b4d_3368.profile', './data/tree-rep-profiles_o2o_smallshort/short/128.conduit_0.8/G26/8e81dc27a1e9cf3a79e5d38e81773ed7139cf6f0a6ad63287dfda64d45ce7b4d_3368.profile']\n",
      "duplicate ERR: ['./data/tree-rep-profiles_o2o_smallshort/small/128.conduit_0.8/G28/41477cda4f7ae0031c6cd34de2f28d7c0b58f9461d9d1087e129b7de0471383a_3408.profile', './data/tree-rep-profiles_o2o_smallshort/short/128.conduit_0.8/G28/41477cda4f7ae0031c6cd34de2f28d7c0b58f9461d9d1087e129b7de0471383a_3408.profile']\n",
      "duplicate ERR: ['./data/tree-rep-profiles_o2o_smallshort/small/128.conduit_0.8/G28/41477cda4f7ae0031c6cd34de2f28d7c0b58f9461d9d1087e129b7de0471383a_2888.profile', './data/tree-rep-profiles_o2o_smallshort/short/128.conduit_0.8/G28/41477cda4f7ae0031c6cd34de2f28d7c0b58f9461d9d1087e129b7de0471383a_2888.profile']\n"
     ]
    },
    {
     "name": "stderr",
     "output_type": "stream",
     "text": [
      "\r",
      " 92%|█████████▏| 146/159 [00:55<00:02,  5.75it/s]"
     ]
    },
    {
     "name": "stdout",
     "output_type": "stream",
     "text": [
      "duplicate ERR: ['./data/tree-rep-profiles_o2o_smallshort/small/179.eorezo_0.8/G16/5e9a8ba6d12513a97da596b428c6a62cf5c79e7817802edc45d16322408699a5_3600.profile', './data/tree-rep-profiles_o2o_smallshort/short/179.eorezo_0.8/G16/5e9a8ba6d12513a97da596b428c6a62cf5c79e7817802edc45d16322408699a5_3600.profile']\n",
      "duplicate ERR: ['./data/tree-rep-profiles_o2o_smallshort/small/179.eorezo_0.8/G16/5e9a8ba6d12513a97da596b428c6a62cf5c79e7817802edc45d16322408699a5_3580.profile', './data/tree-rep-profiles_o2o_smallshort/short/179.eorezo_0.8/G16/5e9a8ba6d12513a97da596b428c6a62cf5c79e7817802edc45d16322408699a5_3580.profile']\n",
      "duplicate ERR: ['./data/tree-rep-profiles_o2o_smallshort/small/179.eorezo_0.8/G15/0c6182339c6e6cdb0215536fcda33d299a384ae9884b662874f45078f1b9fabc_3328.profile', './data/tree-rep-profiles_o2o_smallshort/short/179.eorezo_0.8/G15/0c6182339c6e6cdb0215536fcda33d299a384ae9884b662874f45078f1b9fabc_3328.profile']\n",
      "duplicate ERR: ['./data/tree-rep-profiles_o2o_smallshort/small/179.eorezo_0.8/G15/bce79cc541bdc5a65f6a88a9d69be227dfc11b208d96994b9e4801a8dfa24ee5_3356.profile', './data/tree-rep-profiles_o2o_smallshort/short/179.eorezo_0.8/G15/bce79cc541bdc5a65f6a88a9d69be227dfc11b208d96994b9e4801a8dfa24ee5_3356.profile']\n",
      "duplicate ERR: ['./data/tree-rep-profiles_o2o_smallshort/small/143.packer_0.8/G19/1eea1408bad376d0da1a481df28397bcb1df5058c9bdb9a0eeda2a92da8965df_2864.profile', './data/tree-rep-profiles_o2o_smallshort/short/143.packer_0.8/G19/1eea1408bad376d0da1a481df28397bcb1df5058c9bdb9a0eeda2a92da8965df_2864.profile']\n",
      "duplicate ERR: ['./data/tree-rep-profiles_o2o_smallshort/small/143.packer_0.8/G19/13b3cb7271eb1c158a0a23d2d1482d5cf796a7880b8359414f937b6be71ea540_3324.profile', './data/tree-rep-profiles_o2o_smallshort/short/143.packer_0.8/G19/13b3cb7271eb1c158a0a23d2d1482d5cf796a7880b8359414f937b6be71ea540_3324.profile']\n",
      "duplicate ERR: ['./data/tree-rep-profiles_o2o_smallshort/small/134.turkojan_0.8/G19/13c24d72415655025d89a97153f3fb93f781ae31a40cc7da2b5742ffbc7821f3_3212.profile', './data/tree-rep-profiles_o2o_smallshort/short/134.turkojan_0.8/G19/13c24d72415655025d89a97153f3fb93f781ae31a40cc7da2b5742ffbc7821f3_3212.profile']\n",
      "duplicate ERR: ['./data/tree-rep-profiles_o2o_smallshort/small/134.turkojan_0.8/G19/1f6c1c7ac6b3f29f0c12a68a8563d50b792959682b2a2fd164e4833d8d05d96c_2860.profile', './data/tree-rep-profiles_o2o_smallshort/short/134.turkojan_0.8/G19/1f6c1c7ac6b3f29f0c12a68a8563d50b792959682b2a2fd164e4833d8d05d96c_2860.profile']\n"
     ]
    },
    {
     "name": "stderr",
     "output_type": "stream",
     "text": [
      "\r",
      " 94%|█████████▎| 149/159 [00:55<00:01,  7.24it/s]"
     ]
    },
    {
     "name": "stdout",
     "output_type": "stream",
     "text": [
      "duplicate ERR: ['./data/tree-rep-profiles_o2o_smallshort/small/134.turkojan_0.8/G18/0fa53d461bae2a7d37d25a42f44f2b67b56fec8dcb05daf32fbb7a99f798986f_3156.profile', './data/tree-rep-profiles_o2o_smallshort/short/134.turkojan_0.8/G18/0fa53d461bae2a7d37d25a42f44f2b67b56fec8dcb05daf32fbb7a99f798986f_3156.profile']\n",
      "duplicate ERR: ['./data/tree-rep-profiles_o2o_smallshort/small/134.turkojan_0.8/G18/1f6c1c7ac6b3f29f0c12a68a8563d50b792959682b2a2fd164e4833d8d05d96c_2904.profile', './data/tree-rep-profiles_o2o_smallshort/short/134.turkojan_0.8/G18/1f6c1c7ac6b3f29f0c12a68a8563d50b792959682b2a2fd164e4833d8d05d96c_2904.profile']\n",
      "duplicate ERR: ['./data/tree-rep-profiles_o2o_smallshort/small/105.inffinity_0.8/G24/0c8e90acaaf705261459cfccb8cbd96a4279bc4e8bc62fa3ea175e0c8fdbedd9_3036.profile', './data/tree-rep-profiles_o2o_smallshort/short/105.inffinity_0.8/G24/0c8e90acaaf705261459cfccb8cbd96a4279bc4e8bc62fa3ea175e0c8fdbedd9_3036.profile']\n",
      "duplicate ERR: ['./data/tree-rep-profiles_o2o_smallshort/small/105.inffinity_0.8/G24/0aa8ca9b46c71a5e7c919348aea8d5f99e5207f53b823cfd72d0b8a477562351_3404.profile', './data/tree-rep-profiles_o2o_smallshort/short/105.inffinity_0.8/G24/0aa8ca9b46c71a5e7c919348aea8d5f99e5207f53b823cfd72d0b8a477562351_3404.profile']\n",
      "duplicate ERR: ['./data/tree-rep-profiles_o2o_smallshort/small/105.inffinity_0.8/G22/0db2469d65b5dd64b629474ceecb14fe0d219cc42a1449753c5fe9925cc95af0_3168.profile', './data/tree-rep-profiles_o2o_smallshort/short/105.inffinity_0.8/G22/0db2469d65b5dd64b629474ceecb14fe0d219cc42a1449753c5fe9925cc95af0_3168.profile']\n",
      "duplicate ERR: ['./data/tree-rep-profiles_o2o_smallshort/small/105.inffinity_0.8/G22/0f5e53e9016d899789b4ef886d09095fff4cbfe1d6447db3ef0d7fa865fd1776_2952.profile', './data/tree-rep-profiles_o2o_smallshort/short/105.inffinity_0.8/G22/0f5e53e9016d899789b4ef886d09095fff4cbfe1d6447db3ef0d7fa865fd1776_2952.profile']\n",
      "duplicate ERR: ['./data/tree-rep-profiles_o2o_smallshort/small/105.inffinity_0.8/G23/0c8e90acaaf705261459cfccb8cbd96a4279bc4e8bc62fa3ea175e0c8fdbedd9_3268.profile', './data/tree-rep-profiles_o2o_smallshort/short/105.inffinity_0.8/G23/0c8e90acaaf705261459cfccb8cbd96a4279bc4e8bc62fa3ea175e0c8fdbedd9_3268.profile']\n",
      "duplicate ERR: ['./data/tree-rep-profiles_o2o_smallshort/small/105.inffinity_0.8/G23/0aa8ca9b46c71a5e7c919348aea8d5f99e5207f53b823cfd72d0b8a477562351_3736.profile', './data/tree-rep-profiles_o2o_smallshort/short/105.inffinity_0.8/G23/0aa8ca9b46c71a5e7c919348aea8d5f99e5207f53b823cfd72d0b8a477562351_3736.profile']\n",
      "duplicate ERR: ['./data/tree-rep-profiles_o2o_smallshort/small/34.barys_0.8/G137/39b9aa92b98df93bb403066d46130197fec55ce3ac6720e9a2bdcddce58b1a48_3404.profile', './data/tree-rep-profiles_o2o_smallshort/short/34.barys_0.8/G137/39b9aa92b98df93bb403066d46130197fec55ce3ac6720e9a2bdcddce58b1a48_3404.profile']\n",
      "duplicate ERR: ['./data/tree-rep-profiles_o2o_smallshort/small/34.barys_0.8/G137/39b9aa92b98df93bb403066d46130197fec55ce3ac6720e9a2bdcddce58b1a48_2944.profile', './data/tree-rep-profiles_o2o_smallshort/short/34.barys_0.8/G137/39b9aa92b98df93bb403066d46130197fec55ce3ac6720e9a2bdcddce58b1a48_2944.profile']\n",
      "duplicate ERR: ['./data/tree-rep-profiles_o2o_smallshort/small/34.barys_0.8/G146/1dfe6f0e1e5d6be3bcdce16bb97a74dfe9ca2aef6f040b067af052ca5912a952_3212.profile', './data/tree-rep-profiles_o2o_smallshort/short/34.barys_0.8/G146/1dfe6f0e1e5d6be3bcdce16bb97a74dfe9ca2aef6f040b067af052ca5912a952_3212.profile']\n",
      "duplicate ERR: ['./data/tree-rep-profiles_o2o_smallshort/small/34.barys_0.8/G146/09fd4ac673b77aa05ab2d2302280f7a3e119ff466c0dee42cb3f16c931f5b7a4_3364.profile', './data/tree-rep-profiles_o2o_smallshort/short/34.barys_0.8/G146/09fd4ac673b77aa05ab2d2302280f7a3e119ff466c0dee42cb3f16c931f5b7a4_3364.profile']\n",
      "duplicate ERR: ['./data/tree-rep-profiles_o2o_smallshort/small/34.barys_0.8/G139/60b356b36901fd67010ef651a4269a0e96022eefd62253070aad6484bb11b23f_1052.profile', './data/tree-rep-profiles_o2o_smallshort/short/34.barys_0.8/G139/60b356b36901fd67010ef651a4269a0e96022eefd62253070aad6484bb11b23f_1052.profile']\n",
      "duplicate ERR: ['./data/tree-rep-profiles_o2o_smallshort/small/34.barys_0.8/G139/60b356b36901fd67010ef651a4269a0e96022eefd62253070aad6484bb11b23f_304.profile', './data/tree-rep-profiles_o2o_smallshort/short/34.barys_0.8/G139/60b356b36901fd67010ef651a4269a0e96022eefd62253070aad6484bb11b23f_304.profile']\n",
      "duplicate ERR: ['./data/tree-rep-profiles_o2o_smallshort/small/34.barys_0.8/G149/f32e9ccd2bdbd06da065cb11eb9087b7bd6a6bb2ac540dd248b2f3d9387bf4bb_3276.profile', './data/tree-rep-profiles_o2o_smallshort/short/34.barys_0.8/G149/f32e9ccd2bdbd06da065cb11eb9087b7bd6a6bb2ac540dd248b2f3d9387bf4bb_3276.profile']\n",
      "duplicate ERR: ['./data/tree-rep-profiles_o2o_smallshort/small/34.barys_0.8/G149/f32e9ccd2bdbd06da065cb11eb9087b7bd6a6bb2ac540dd248b2f3d9387bf4bb_3204.profile', './data/tree-rep-profiles_o2o_smallshort/short/34.barys_0.8/G149/f32e9ccd2bdbd06da065cb11eb9087b7bd6a6bb2ac540dd248b2f3d9387bf4bb_3204.profile']\n",
      "duplicate ERR: ['./data/tree-rep-profiles_o2o_smallshort/small/34.barys_0.8/G147/9db2fcffb386b2182877b3e842ec06ff575deb3895338bb59a131fed81b17c9c_3200.profile', './data/tree-rep-profiles_o2o_smallshort/short/34.barys_0.8/G147/9db2fcffb386b2182877b3e842ec06ff575deb3895338bb59a131fed81b17c9c_3200.profile']\n",
      "duplicate ERR: ['./data/tree-rep-profiles_o2o_smallshort/small/34.barys_0.8/G147/3cb45bafa0b666a8e9ba0d273621f0616dbc85ebc9789beeccac28f29f56b29a_2900.profile', './data/tree-rep-profiles_o2o_smallshort/short/34.barys_0.8/G147/3cb45bafa0b666a8e9ba0d273621f0616dbc85ebc9789beeccac28f29f56b29a_2900.profile']\n",
      "duplicate ERR: ['./data/tree-rep-profiles_o2o_smallshort/small/34.barys_0.8/G143/be8b355c76cf606d313f3ab406f5b74b4f26fe3eed3e57d2a0dddd3f6e764a83_3332.profile', './data/tree-rep-profiles_o2o_smallshort/short/34.barys_0.8/G143/be8b355c76cf606d313f3ab406f5b74b4f26fe3eed3e57d2a0dddd3f6e764a83_3332.profile']\n",
      "duplicate ERR: ['./data/tree-rep-profiles_o2o_smallshort/small/34.barys_0.8/G143/be8b355c76cf606d313f3ab406f5b74b4f26fe3eed3e57d2a0dddd3f6e764a83_3244.profile', './data/tree-rep-profiles_o2o_smallshort/short/34.barys_0.8/G143/be8b355c76cf606d313f3ab406f5b74b4f26fe3eed3e57d2a0dddd3f6e764a83_3244.profile']\n",
      "duplicate ERR: ['./data/tree-rep-profiles_o2o_smallshort/small/34.barys_0.8/G132/10c68a2d628effcf0bf5d1798b403e20cff6a586b72bfe4674969aa4f50acf11_3120.profile', './data/tree-rep-profiles_o2o_smallshort/short/34.barys_0.8/G132/10c68a2d628effcf0bf5d1798b403e20cff6a586b72bfe4674969aa4f50acf11_3120.profile']\n",
      "duplicate ERR: ['./data/tree-rep-profiles_o2o_smallshort/small/34.barys_0.8/G132/09a59e1c8ba500fa30bbc73d838a2d3b69c6323d08acf092452c75470b538494_2916.profile', './data/tree-rep-profiles_o2o_smallshort/short/34.barys_0.8/G132/09a59e1c8ba500fa30bbc73d838a2d3b69c6323d08acf092452c75470b538494_2916.profile']\n",
      "duplicate ERR: ['./data/tree-rep-profiles_o2o_smallshort/small/34.barys_0.8/G155/1b9dec099da9063ba6756b6971471aae576b40b14f404cdb2157076ad994bd90_3348.profile', './data/tree-rep-profiles_o2o_smallshort/short/34.barys_0.8/G155/1b9dec099da9063ba6756b6971471aae576b40b14f404cdb2157076ad994bd90_3348.profile']\n",
      "duplicate ERR: ['./data/tree-rep-profiles_o2o_smallshort/small/34.barys_0.8/G155/60b356b36901fd67010ef651a4269a0e96022eefd62253070aad6484bb11b23f_3216.profile', './data/tree-rep-profiles_o2o_smallshort/short/34.barys_0.8/G155/60b356b36901fd67010ef651a4269a0e96022eefd62253070aad6484bb11b23f_3216.profile']\n",
      "duplicate ERR: ['./data/tree-rep-profiles_o2o_smallshort/small/34.barys_0.8/G150/9f951633f2cab8d3c9f1228e81359cb4437a46a744d877c3af56aab31513ad21_3220.profile', './data/tree-rep-profiles_o2o_smallshort/short/34.barys_0.8/G150/9f951633f2cab8d3c9f1228e81359cb4437a46a744d877c3af56aab31513ad21_3220.profile']\n",
      "duplicate ERR: ['./data/tree-rep-profiles_o2o_smallshort/small/34.barys_0.8/G150/5e18bab3fba019cf64d3e7eebac81fc8e7f09f7be94062d40cbd88dd1aa698d5_2908.profile', './data/tree-rep-profiles_o2o_smallshort/short/34.barys_0.8/G150/5e18bab3fba019cf64d3e7eebac81fc8e7f09f7be94062d40cbd88dd1aa698d5_2908.profile']\n",
      "duplicate ERR: ['./data/tree-rep-profiles_o2o_smallshort/small/34.barys_0.8/G148/0a8e05af1b0ee06e490e2486ab97f81ce36901671f894d6f562d778fdc90ee88_3292.profile', './data/tree-rep-profiles_o2o_smallshort/short/34.barys_0.8/G148/0a8e05af1b0ee06e490e2486ab97f81ce36901671f894d6f562d778fdc90ee88_3292.profile']\n",
      "duplicate ERR: ['./data/tree-rep-profiles_o2o_smallshort/small/34.barys_0.8/G148/0eeb608462d8be3dd2a916e8c7aca1707f7b5b07ce65949a0c686e68b6f9806c_3288.profile', './data/tree-rep-profiles_o2o_smallshort/short/34.barys_0.8/G148/0eeb608462d8be3dd2a916e8c7aca1707f7b5b07ce65949a0c686e68b6f9806c_3288.profile']\n",
      "duplicate ERR: ['./data/tree-rep-profiles_o2o_smallshort/small/34.barys_0.8/G144/af8f1e9bcfd538ed725b978eead288c73855dcc7a5c2570e8153630f2c00e1f3_3184.profile', './data/tree-rep-profiles_o2o_smallshort/short/34.barys_0.8/G144/af8f1e9bcfd538ed725b978eead288c73855dcc7a5c2570e8153630f2c00e1f3_3184.profile']\n",
      "duplicate ERR: ['./data/tree-rep-profiles_o2o_smallshort/small/34.barys_0.8/G144/00aa551a6715302b8b74da344b3ac0c5b10d22367a60ec6d63bd1a39e46fbac3_3224.profile', './data/tree-rep-profiles_o2o_smallshort/short/34.barys_0.8/G144/00aa551a6715302b8b74da344b3ac0c5b10d22367a60ec6d63bd1a39e46fbac3_3224.profile']\n",
      "duplicate ERR: ['./data/tree-rep-profiles_o2o_smallshort/small/34.barys_0.8/G151/1dfe6f0e1e5d6be3bcdce16bb97a74dfe9ca2aef6f040b067af052ca5912a952_3172.profile', './data/tree-rep-profiles_o2o_smallshort/short/34.barys_0.8/G151/1dfe6f0e1e5d6be3bcdce16bb97a74dfe9ca2aef6f040b067af052ca5912a952_3172.profile']\n",
      "duplicate ERR: ['./data/tree-rep-profiles_o2o_smallshort/small/34.barys_0.8/G151/09fd4ac673b77aa05ab2d2302280f7a3e119ff466c0dee42cb3f16c931f5b7a4_3320.profile', './data/tree-rep-profiles_o2o_smallshort/short/34.barys_0.8/G151/09fd4ac673b77aa05ab2d2302280f7a3e119ff466c0dee42cb3f16c931f5b7a4_3320.profile']\n",
      "duplicate ERR: ['./data/tree-rep-profiles_o2o_smallshort/small/34.barys_0.8/G135/3b679dfeac3a1585e04ae6d1c63dd55356f624dd15a964f8a8c56e33d5324505_3304.profile', './data/tree-rep-profiles_o2o_smallshort/short/34.barys_0.8/G135/3b679dfeac3a1585e04ae6d1c63dd55356f624dd15a964f8a8c56e33d5324505_3304.profile']\n"
     ]
    },
    {
     "name": "stderr",
     "output_type": "stream",
     "text": [
      "\r",
      " 95%|█████████▍| 151/159 [00:56<00:01,  4.40it/s]"
     ]
    },
    {
     "name": "stdout",
     "output_type": "stream",
     "text": [
      "duplicate ERR: ['./data/tree-rep-profiles_o2o_smallshort/small/34.barys_0.8/G135/95df65b8b0067103bb9ac59d28d3075756f17590ffafdcf1263ee71d93048427_2964.profile', './data/tree-rep-profiles_o2o_smallshort/short/34.barys_0.8/G135/95df65b8b0067103bb9ac59d28d3075756f17590ffafdcf1263ee71d93048427_2964.profile']\n",
      "duplicate ERR: ['./data/tree-rep-profiles_o2o_smallshort/small/34.barys_0.8/G154/5d9cb8c41e90bf14dfb9f982d8d649085a560d98fb113d94b7b5529126fd5fa7_3268.profile', './data/tree-rep-profiles_o2o_smallshort/short/34.barys_0.8/G154/5d9cb8c41e90bf14dfb9f982d8d649085a560d98fb113d94b7b5529126fd5fa7_3268.profile']\n",
      "duplicate ERR: ['./data/tree-rep-profiles_o2o_smallshort/small/34.barys_0.8/G154/5d9cb8c41e90bf14dfb9f982d8d649085a560d98fb113d94b7b5529126fd5fa7_3208.profile', './data/tree-rep-profiles_o2o_smallshort/short/34.barys_0.8/G154/5d9cb8c41e90bf14dfb9f982d8d649085a560d98fb113d94b7b5529126fd5fa7_3208.profile']\n",
      "duplicate ERR: ['./data/tree-rep-profiles_o2o_smallshort/small/80.viking_0.8/G49/3cfc84ac8203522715e898cba7611eed636db19ca4bce9b6e7a80e311234ae11_3400.profile', './data/tree-rep-profiles_o2o_smallshort/short/80.viking_0.8/G49/3cfc84ac8203522715e898cba7611eed636db19ca4bce9b6e7a80e311234ae11_3400.profile']\n",
      "duplicate ERR: ['./data/tree-rep-profiles_o2o_smallshort/small/80.viking_0.8/G49/d9304bcb2eff931a17ee57b155d6473f4cea1a8b7e0c47ed749c47d8b8ad247f_3148.profile', './data/tree-rep-profiles_o2o_smallshort/short/80.viking_0.8/G49/d9304bcb2eff931a17ee57b155d6473f4cea1a8b7e0c47ed749c47d8b8ad247f_3148.profile']\n",
      "duplicate ERR: ['./data/tree-rep-profiles_o2o_smallshort/small/80.viking_0.8/G55/d9304bcb2eff931a17ee57b155d6473f4cea1a8b7e0c47ed749c47d8b8ad247f_3328.profile', './data/tree-rep-profiles_o2o_smallshort/short/80.viking_0.8/G55/d9304bcb2eff931a17ee57b155d6473f4cea1a8b7e0c47ed749c47d8b8ad247f_3328.profile']\n",
      "duplicate ERR: ['./data/tree-rep-profiles_o2o_smallshort/small/80.viking_0.8/G55/06b6895e4a04dca8617f97d759b714e31b92fb7c603be787c8144157ad55dcb7_3172.profile', './data/tree-rep-profiles_o2o_smallshort/short/80.viking_0.8/G55/06b6895e4a04dca8617f97d759b714e31b92fb7c603be787c8144157ad55dcb7_3172.profile']\n",
      "duplicate ERR: ['./data/tree-rep-profiles_o2o_smallshort/small/80.viking_0.8/G54/4168b05541813f4414d27f3ea873b56b7223d7fc19f49076d47fc3ea49314542_3128.profile', './data/tree-rep-profiles_o2o_smallshort/short/80.viking_0.8/G54/4168b05541813f4414d27f3ea873b56b7223d7fc19f49076d47fc3ea49314542_3128.profile']\n",
      "duplicate ERR: ['./data/tree-rep-profiles_o2o_smallshort/small/80.viking_0.8/G54/282eba1cb3cc7d7613733af11728228b1b0b43f540054fa8e28a753f550234f8_3140.profile', './data/tree-rep-profiles_o2o_smallshort/short/80.viking_0.8/G54/282eba1cb3cc7d7613733af11728228b1b0b43f540054fa8e28a753f550234f8_3140.profile']\n"
     ]
    },
    {
     "name": "stderr",
     "output_type": "stream",
     "text": [
      "\r",
      " 96%|█████████▌| 152/159 [00:56<00:01,  4.28it/s]"
     ]
    },
    {
     "name": "stdout",
     "output_type": "stream",
     "text": [
      "duplicate ERR: ['./data/tree-rep-profiles_o2o_smallshort/small/80.viking_0.8/G53/e97e1b63b4a44dd25a567ddf5a5b41e159869014217cf1375b3adc849184eb29_3272.profile', './data/tree-rep-profiles_o2o_smallshort/short/80.viking_0.8/G53/e97e1b63b4a44dd25a567ddf5a5b41e159869014217cf1375b3adc849184eb29_3272.profile']\n",
      "duplicate ERR: ['./data/tree-rep-profiles_o2o_smallshort/small/80.viking_0.8/G53/e97e1b63b4a44dd25a567ddf5a5b41e159869014217cf1375b3adc849184eb29_3016.profile', './data/tree-rep-profiles_o2o_smallshort/short/80.viking_0.8/G53/e97e1b63b4a44dd25a567ddf5a5b41e159869014217cf1375b3adc849184eb29_3016.profile']\n",
      "duplicate ERR: ['./data/tree-rep-profiles_o2o_smallshort/small/80.viking_0.8/G52/155d42df2a3d15c963ddfbef5818bc82d5a5744e914955dff3de5421a16ce5b8_3288.profile', './data/tree-rep-profiles_o2o_smallshort/short/80.viking_0.8/G52/155d42df2a3d15c963ddfbef5818bc82d5a5744e914955dff3de5421a16ce5b8_3288.profile']\n",
      "duplicate ERR: ['./data/tree-rep-profiles_o2o_smallshort/small/80.viking_0.8/G52/5d0f7d1d34ff3a0d191f66e91ef787fcc9c4a3f6baae9f557586dda60e308435_3268.profile', './data/tree-rep-profiles_o2o_smallshort/short/80.viking_0.8/G52/5d0f7d1d34ff3a0d191f66e91ef787fcc9c4a3f6baae9f557586dda60e308435_3268.profile']\n",
      "duplicate ERR: ['./data/tree-rep-profiles_o2o_smallshort/small/115.alman_0.8/G29/139b4811a0fe36561c89b51ed8b4b80ab06032434abc56cc137ba74b827ca2a9_2884.profile', './data/tree-rep-profiles_o2o_smallshort/short/115.alman_0.8/G29/139b4811a0fe36561c89b51ed8b4b80ab06032434abc56cc137ba74b827ca2a9_2884.profile']\n",
      "duplicate ERR: ['./data/tree-rep-profiles_o2o_smallshort/small/115.alman_0.8/G29/73d0450bba4c697541ca85c43db5cfbceee30b446caffaca34b33b2a027a78f5_3380.profile', './data/tree-rep-profiles_o2o_smallshort/short/115.alman_0.8/G29/73d0450bba4c697541ca85c43db5cfbceee30b446caffaca34b33b2a027a78f5_3380.profile']\n",
      "duplicate ERR: ['./data/tree-rep-profiles_o2o_smallshort/small/115.alman_0.8/G30/09de8ccdbeec19b34da389c297e34d4abbe663a8bab1259313d30febaceef2d1_3268.profile', './data/tree-rep-profiles_o2o_smallshort/short/115.alman_0.8/G30/09de8ccdbeec19b34da389c297e34d4abbe663a8bab1259313d30febaceef2d1_3268.profile']\n",
      "duplicate ERR: ['./data/tree-rep-profiles_o2o_smallshort/small/115.alman_0.8/G30/761f98b86030708872b7b6868ac566399a5afe78c5c50f566a2d5a98cc8dccf3_3376.profile', './data/tree-rep-profiles_o2o_smallshort/short/115.alman_0.8/G30/761f98b86030708872b7b6868ac566399a5afe78c5c50f566a2d5a98cc8dccf3_3376.profile']\n",
      "duplicate ERR: ['./data/tree-rep-profiles_o2o_smallshort/small/115.alman_0.8/G27/9becb8a2f6ae59cb066fd11b187a966f2e192665909cea737bb86b43bbd7f6c6_3264.profile', './data/tree-rep-profiles_o2o_smallshort/short/115.alman_0.8/G27/9becb8a2f6ae59cb066fd11b187a966f2e192665909cea737bb86b43bbd7f6c6_3264.profile']\n"
     ]
    },
    {
     "name": "stderr",
     "output_type": "stream",
     "text": [
      " 97%|█████████▋| 155/159 [00:57<00:00,  5.93it/s]"
     ]
    },
    {
     "name": "stdout",
     "output_type": "stream",
     "text": [
      "duplicate ERR: ['./data/tree-rep-profiles_o2o_smallshort/small/115.alman_0.8/G27/eeeb5d6b0a322fc19d1afcbb46745640c0d76bab4b3fa34723edcd2130b3694f_3168.profile', './data/tree-rep-profiles_o2o_smallshort/short/115.alman_0.8/G27/eeeb5d6b0a322fc19d1afcbb46745640c0d76bab4b3fa34723edcd2130b3694f_3168.profile']\n",
      "duplicate ERR: ['./data/tree-rep-profiles_o2o_smallshort/small/172.adgazelle_0.8/G20/8e2864173585154c9760620b5bb0e481d954dd7288746607fb281f7bdeda9127_324.profile', './data/tree-rep-profiles_o2o_smallshort/short/172.adgazelle_0.8/G20/8e2864173585154c9760620b5bb0e481d954dd7288746607fb281f7bdeda9127_324.profile']\n",
      "duplicate ERR: ['./data/tree-rep-profiles_o2o_smallshort/small/172.adgazelle_0.8/G20/8e2864173585154c9760620b5bb0e481d954dd7288746607fb281f7bdeda9127_880.profile', './data/tree-rep-profiles_o2o_smallshort/short/172.adgazelle_0.8/G20/8e2864173585154c9760620b5bb0e481d954dd7288746607fb281f7bdeda9127_880.profile']\n",
      "duplicate ERR: ['./data/tree-rep-profiles_o2o_smallshort/small/103.fynloski_0.8/G44/150e9b5d2fc9e45af2cbf3dd0d89d087e7c610f8506ee0499b7daf1b95ed3bf5_3092.profile', './data/tree-rep-profiles_o2o_smallshort/short/103.fynloski_0.8/G44/150e9b5d2fc9e45af2cbf3dd0d89d087e7c610f8506ee0499b7daf1b95ed3bf5_3092.profile']\n",
      "duplicate ERR: ['./data/tree-rep-profiles_o2o_smallshort/small/103.fynloski_0.8/G44/661fd0baa01726208477d594969c273dfe128348f4a37eb403f7c75b2be65812_3300.profile', './data/tree-rep-profiles_o2o_smallshort/short/103.fynloski_0.8/G44/661fd0baa01726208477d594969c273dfe128348f4a37eb403f7c75b2be65812_3300.profile']\n",
      "duplicate ERR: ['./data/tree-rep-profiles_o2o_smallshort/small/103.fynloski_0.8/G45/090b912680052864ebce185843b1a3a88fbdbc7aa6e002f35b99da3952b08464_3180.profile', './data/tree-rep-profiles_o2o_smallshort/short/103.fynloski_0.8/G45/090b912680052864ebce185843b1a3a88fbdbc7aa6e002f35b99da3952b08464_3180.profile']\n",
      "duplicate ERR: ['./data/tree-rep-profiles_o2o_smallshort/small/103.fynloski_0.8/G45/0ab3f6999047bb98f3bc29b8e869f742f3dcf9e7bcbeef261281ead8b65a71e1_3352.profile', './data/tree-rep-profiles_o2o_smallshort/short/103.fynloski_0.8/G45/0ab3f6999047bb98f3bc29b8e869f742f3dcf9e7bcbeef261281ead8b65a71e1_3352.profile']\n",
      "duplicate ERR: ['./data/tree-rep-profiles_o2o_smallshort/small/68.installerex_0.8/G75/e7a065ee7aa39f90caad72c65f04dcf18cc002d0cf7c8bf5c112fc1b70dd5143_3356.profile', './data/tree-rep-profiles_o2o_smallshort/short/68.installerex_0.8/G75/e7a065ee7aa39f90caad72c65f04dcf18cc002d0cf7c8bf5c112fc1b70dd5143_3356.profile']\n",
      "duplicate ERR: ['./data/tree-rep-profiles_o2o_smallshort/small/68.installerex_0.8/G75/2a1952bdfe62715f270d31b8b806c66631e443ada5741ab00d4ff2bf67db88da_3372.profile', './data/tree-rep-profiles_o2o_smallshort/short/68.installerex_0.8/G75/2a1952bdfe62715f270d31b8b806c66631e443ada5741ab00d4ff2bf67db88da_3372.profile']\n",
      "duplicate ERR: ['./data/tree-rep-profiles_o2o_smallshort/small/68.installerex_0.8/G84/163015804ac51b0fe012a3e0d0fae37eea182d48da30ad9a0e842c6b7ed6501c_3200.profile', './data/tree-rep-profiles_o2o_smallshort/short/68.installerex_0.8/G84/163015804ac51b0fe012a3e0d0fae37eea182d48da30ad9a0e842c6b7ed6501c_3200.profile']\n",
      "duplicate ERR: ['./data/tree-rep-profiles_o2o_smallshort/small/68.installerex_0.8/G84/91d399175fc11d048d33a11c624e66ade7d4a7a41bbf80e1548eddcf4156b432_3252.profile', './data/tree-rep-profiles_o2o_smallshort/short/68.installerex_0.8/G84/91d399175fc11d048d33a11c624e66ade7d4a7a41bbf80e1548eddcf4156b432_3252.profile']\n",
      "duplicate ERR: ['./data/tree-rep-profiles_o2o_smallshort/small/68.installerex_0.8/G87/943007c8f9dac08a378bf3a8df4822a3db1202a50649ed01a417b039eeb0bc7b_3304.profile', './data/tree-rep-profiles_o2o_smallshort/short/68.installerex_0.8/G87/943007c8f9dac08a378bf3a8df4822a3db1202a50649ed01a417b039eeb0bc7b_3304.profile']\n",
      "duplicate ERR: ['./data/tree-rep-profiles_o2o_smallshort/small/68.installerex_0.8/G87/943007c8f9dac08a378bf3a8df4822a3db1202a50649ed01a417b039eeb0bc7b_3280.profile', './data/tree-rep-profiles_o2o_smallshort/short/68.installerex_0.8/G87/943007c8f9dac08a378bf3a8df4822a3db1202a50649ed01a417b039eeb0bc7b_3280.profile']\n",
      "duplicate ERR: ['./data/tree-rep-profiles_o2o_smallshort/small/68.installerex_0.8/G86/f8c58a9862de531cae79cf074f7acd65328ce13dcaff8b1e96310785cc96cecf_3324.profile', './data/tree-rep-profiles_o2o_smallshort/short/68.installerex_0.8/G86/f8c58a9862de531cae79cf074f7acd65328ce13dcaff8b1e96310785cc96cecf_3324.profile']\n",
      "duplicate ERR: ['./data/tree-rep-profiles_o2o_smallshort/small/68.installerex_0.8/G86/d44cce0ee7f80dca08a9bc8870207d1e76af7d42ff9bacd020143cb513f69587_2948.profile', './data/tree-rep-profiles_o2o_smallshort/short/68.installerex_0.8/G86/d44cce0ee7f80dca08a9bc8870207d1e76af7d42ff9bacd020143cb513f69587_2948.profile']\n",
      "duplicate ERR: ['./data/tree-rep-profiles_o2o_smallshort/small/68.installerex_0.8/G82/b14985cb6d863bcf7d34297f1f275ebafd3283fc1bc1c1acade55507535f6a34_3220.profile', './data/tree-rep-profiles_o2o_smallshort/short/68.installerex_0.8/G82/b14985cb6d863bcf7d34297f1f275ebafd3283fc1bc1c1acade55507535f6a34_3220.profile']\n"
     ]
    },
    {
     "name": "stderr",
     "output_type": "stream",
     "text": [
      "\r",
      " 98%|█████████▊| 156/159 [00:57<00:00,  5.06it/s]"
     ]
    },
    {
     "name": "stdout",
     "output_type": "stream",
     "text": [
      "duplicate ERR: ['./data/tree-rep-profiles_o2o_smallshort/small/68.installerex_0.8/G82/50d5689859207d82e97394e0511ad0f387d825c73ed31f0c69c91fb29a293519_2952.profile', './data/tree-rep-profiles_o2o_smallshort/short/68.installerex_0.8/G82/50d5689859207d82e97394e0511ad0f387d825c73ed31f0c69c91fb29a293519_2952.profile']\n",
      "duplicate ERR: ['./data/tree-rep-profiles_o2o_smallshort/small/94.bundlore_0.8/G44/bd266b12436ba846a573fdd3e85dc332a6a210c61c65abda08516c506925b514_3400.profile', './data/tree-rep-profiles_o2o_smallshort/short/94.bundlore_0.8/G44/bd266b12436ba846a573fdd3e85dc332a6a210c61c65abda08516c506925b514_3400.profile']\n",
      "duplicate ERR: ['./data/tree-rep-profiles_o2o_smallshort/small/94.bundlore_0.8/G44/bd266b12436ba846a573fdd3e85dc332a6a210c61c65abda08516c506925b514_3208.profile', './data/tree-rep-profiles_o2o_smallshort/short/94.bundlore_0.8/G44/bd266b12436ba846a573fdd3e85dc332a6a210c61c65abda08516c506925b514_3208.profile']\n",
      "duplicate ERR: ['./data/tree-rep-profiles_o2o_smallshort/small/94.bundlore_0.8/G52/44016f2398143b0caefcbd03d5806355788db845ff95c7e9b8db8f3363ea14a0_3036.profile', './data/tree-rep-profiles_o2o_smallshort/short/94.bundlore_0.8/G52/44016f2398143b0caefcbd03d5806355788db845ff95c7e9b8db8f3363ea14a0_3036.profile']\n",
      "duplicate ERR: ['./data/tree-rep-profiles_o2o_smallshort/small/94.bundlore_0.8/G52/b4af2a6c1d08d6bac024e43cd99a21df849b6352d229771e9eb72e66be20c508_3332.profile', './data/tree-rep-profiles_o2o_smallshort/short/94.bundlore_0.8/G52/b4af2a6c1d08d6bac024e43cd99a21df849b6352d229771e9eb72e66be20c508_3332.profile']\n",
      "duplicate ERR: ['./data/tree-rep-profiles_o2o_smallshort/small/94.bundlore_0.8/G48/c1d331401192e903b6c9099dc481346ec9423ac2f1640e6305ec62ab4fbf1661_2972.profile', './data/tree-rep-profiles_o2o_smallshort/short/94.bundlore_0.8/G48/c1d331401192e903b6c9099dc481346ec9423ac2f1640e6305ec62ab4fbf1661_2972.profile']\n",
      "duplicate ERR: ['./data/tree-rep-profiles_o2o_smallshort/small/94.bundlore_0.8/G48/86fc3e627270e50c85268158d109bd0075ffcfc9f9981f0a1cc725b71b1b019a_3316.profile', './data/tree-rep-profiles_o2o_smallshort/short/94.bundlore_0.8/G48/86fc3e627270e50c85268158d109bd0075ffcfc9f9981f0a1cc725b71b1b019a_3316.profile']\n",
      "duplicate ERR: ['./data/tree-rep-profiles_o2o_smallshort/small/94.bundlore_0.8/G47/16eb6f09233b94724bdd3032d0dc76c9916e5640c3e4f35c5d5669e7f08b312d_2912.profile', './data/tree-rep-profiles_o2o_smallshort/short/94.bundlore_0.8/G47/16eb6f09233b94724bdd3032d0dc76c9916e5640c3e4f35c5d5669e7f08b312d_2912.profile']\n"
     ]
    },
    {
     "name": "stderr",
     "output_type": "stream",
     "text": [
      "\r",
      " 99%|█████████▊| 157/159 [00:57<00:00,  4.04it/s]"
     ]
    },
    {
     "name": "stdout",
     "output_type": "stream",
     "text": [
      "duplicate ERR: ['./data/tree-rep-profiles_o2o_smallshort/small/94.bundlore_0.8/G47/16eb6f09233b94724bdd3032d0dc76c9916e5640c3e4f35c5d5669e7f08b312d_3252.profile', './data/tree-rep-profiles_o2o_smallshort/short/94.bundlore_0.8/G47/16eb6f09233b94724bdd3032d0dc76c9916e5640c3e4f35c5d5669e7f08b312d_3252.profile']\n",
      "duplicate ERR: ['./data/tree-rep-profiles_o2o_smallshort/small/94.bundlore_0.8/G45/5a9f626f98e5f6c611c5c81eee3245e462273aa4f9ffd60b9686fa7c9639c471_2928.profile', './data/tree-rep-profiles_o2o_smallshort/short/94.bundlore_0.8/G45/5a9f626f98e5f6c611c5c81eee3245e462273aa4f9ffd60b9686fa7c9639c471_2928.profile']\n",
      "duplicate ERR: ['./data/tree-rep-profiles_o2o_smallshort/small/94.bundlore_0.8/G45/5a9f626f98e5f6c611c5c81eee3245e462273aa4f9ffd60b9686fa7c9639c471_3304.profile', './data/tree-rep-profiles_o2o_smallshort/short/94.bundlore_0.8/G45/5a9f626f98e5f6c611c5c81eee3245e462273aa4f9ffd60b9686fa7c9639c471_3304.profile']\n",
      "duplicate ERR: ['./data/tree-rep-profiles_o2o_smallshort/small/94.bundlore_0.8/G51/6e756bf437c0f0f7ca12e6b67ae022a8d73dd116443adac45ee493c8fdc60996_2952.profile', './data/tree-rep-profiles_o2o_smallshort/short/94.bundlore_0.8/G51/6e756bf437c0f0f7ca12e6b67ae022a8d73dd116443adac45ee493c8fdc60996_2952.profile']\n",
      "duplicate ERR: ['./data/tree-rep-profiles_o2o_smallshort/small/94.bundlore_0.8/G51/7fa3154e90413cf45e71ca0e98c51b616d63371c7c492f0c1183af3cef3ebb3c_3404.profile', './data/tree-rep-profiles_o2o_smallshort/short/94.bundlore_0.8/G51/7fa3154e90413cf45e71ca0e98c51b616d63371c7c492f0c1183af3cef3ebb3c_3404.profile']\n",
      "duplicate ERR: ['./data/tree-rep-profiles_o2o_smallshort/small/94.bundlore_0.8/G50/6e756bf437c0f0f7ca12e6b67ae022a8d73dd116443adac45ee493c8fdc60996_3148.profile', './data/tree-rep-profiles_o2o_smallshort/short/94.bundlore_0.8/G50/6e756bf437c0f0f7ca12e6b67ae022a8d73dd116443adac45ee493c8fdc60996_3148.profile']\n",
      "duplicate ERR: ['./data/tree-rep-profiles_o2o_smallshort/small/94.bundlore_0.8/G50/ea49017a6f1c1738ff943a75dabbfa0580f3aa5ae89da7322c33dd81a902a17f_3600.profile', './data/tree-rep-profiles_o2o_smallshort/short/94.bundlore_0.8/G50/ea49017a6f1c1738ff943a75dabbfa0580f3aa5ae89da7322c33dd81a902a17f_3600.profile']\n",
      "duplicate ERR: ['./data/tree-rep-profiles_o2o_smallshort/small/121.dialer_0.8/G29/133b0920838fe2b0aaffff6c6bd44d6572fced039a3ff723607f7cd50d4501a8_2852.profile', './data/tree-rep-profiles_o2o_smallshort/short/121.dialer_0.8/G29/133b0920838fe2b0aaffff6c6bd44d6572fced039a3ff723607f7cd50d4501a8_2852.profile']\n"
     ]
    },
    {
     "name": "stderr",
     "output_type": "stream",
     "text": [
      "100%|██████████| 159/159 [00:57<00:00,  2.75it/s]\n",
      "  0%|          | 0/135 [00:00<?, ?it/s]"
     ]
    },
    {
     "name": "stdout",
     "output_type": "stream",
     "text": [
      "duplicate ERR: ['./data/tree-rep-profiles_o2o_smallshort/small/121.dialer_0.8/G29/107d1cd442e03489aa00997d5fe60434e8929817530fa9927a38cad596da1eae_2836.profile', './data/tree-rep-profiles_o2o_smallshort/short/121.dialer_0.8/G29/107d1cd442e03489aa00997d5fe60434e8929817530fa9927a38cad596da1eae_2836.profile']\n",
      "duplicate ERR: ['./data/tree-rep-profiles_o2o_smallshort/small/121.dialer_0.8/G27/107d1cd442e03489aa00997d5fe60434e8929817530fa9927a38cad596da1eae_2908.profile', './data/tree-rep-profiles_o2o_smallshort/short/121.dialer_0.8/G27/107d1cd442e03489aa00997d5fe60434e8929817530fa9927a38cad596da1eae_2908.profile']\n",
      "duplicate ERR: ['./data/tree-rep-profiles_o2o_smallshort/small/121.dialer_0.8/G27/133b0920838fe2b0aaffff6c6bd44d6572fced039a3ff723607f7cd50d4501a8_2908.profile', './data/tree-rep-profiles_o2o_smallshort/short/121.dialer_0.8/G27/133b0920838fe2b0aaffff6c6bd44d6572fced039a3ff723607f7cd50d4501a8_2908.profile']\n",
      "duplicate ERR: ['./data/tree-rep-profiles_o2o_smallshort/small/165.swisyn_0.8/G20/27df811f71273254ca0a61c929ee8c7204092a8b211d2f576e000397ee5846a9_3428.profile', './data/tree-rep-profiles_o2o_smallshort/short/165.swisyn_0.8/G20/27df811f71273254ca0a61c929ee8c7204092a8b211d2f576e000397ee5846a9_3428.profile']\n",
      "duplicate ERR: ['./data/tree-rep-profiles_o2o_smallshort/small/165.swisyn_0.8/G20/fa6d64ab58e83ef8997da894edf17363ba197303435f0519ceca15b159603328_3512.profile', './data/tree-rep-profiles_o2o_smallshort/short/165.swisyn_0.8/G20/fa6d64ab58e83ef8997da894edf17363ba197303435f0519ceca15b159603328_3512.profile']\n"
     ]
    },
    {
     "name": "stderr",
     "output_type": "stream",
     "text": [
      "100%|██████████| 135/135 [00:01<00:00, 89.25it/s]\n"
     ]
    },
    {
     "data": {
      "text/plain": [
       "13152"
      ]
     },
     "execution_count": 10,
     "metadata": {},
     "output_type": "execute_result"
    }
   ],
   "source": [
    "\n",
    "root_dir = './data/tree-rep-profiles_one2one/'\n",
    "# api_length = []\n",
    "profile_length = []\n",
    "processed_profile = []\n",
    "\n",
    "\n",
    "rasmma_dir = next(os.walk(root_dir))[1]\n",
    "for rasmma in rasmma_dir:\n",
    "    fam_dir = next(os.walk(root_dir+rasmma))[1]\n",
    "    for fam in tqdm(fam_dir):\n",
    "        tree_dir = next(os.walk(root_dir +rasmma+'/'+ fam))[1]\n",
    "        for tree in tree_dir:\n",
    "            in_directory = root_dir+ rasmma+'/'+ fam +  '/' + tree + '/'\n",
    "            hl_list = next(os.walk(in_directory))[2]\n",
    "            hl_list = [os.path.join(in_directory, f) for f in hl_list]\n",
    "            hl_list = list(filter(lambda f: f.endswith(\".profile\"), hl_list))\n",
    "            for profile in hl_list:\n",
    "                name = profile.split('/')[-1]\n",
    "                if name not in processed_profile:\n",
    "                    with open(profile,encoding='ISO 8859-1') as f:\n",
    "                        lines = f.read().splitlines()\n",
    "                    processed_profile.append(name)\n",
    "                    profile_length.append(len(lines))\n",
    "                else:\n",
    "                    paths = glob.glob(root_dir + '*/*/*/'+profile.split('/')[-1])\n",
    "                    print('duplicate ERR:',paths)\n",
    "\n",
    "len(processed_profile)"
   ]
  },
  {
   "cell_type": "code",
   "execution_count": 4,
   "metadata": {
    "scrolled": true
   },
   "outputs": [
    {
     "data": {
      "image/png": "[encoded data removed]",
      "text/plain": [
       "<Figure size 432x288 with 1 Axes>"
      ]
     },
     "metadata": {
      "needs_background": "light"
     },
     "output_type": "display_data"
    },
    {
     "data": {
      "text/html": [
       "<div>\n",
       "<style scoped>\n",
       "    .dataframe tbody tr th:only-of-type {\n",
       "        vertical-align: middle;\n",
       "    }\n",
       "\n",
       "    .dataframe tbody tr th {\n",
       "        vertical-align: top;\n",
       "    }\n",
       "\n",
       "    .dataframe thead th {\n",
       "        text-align: right;\n",
       "    }\n",
       "</style>\n",
       "<table border=\"1\" class=\"dataframe\">\n",
       "  <thead>\n",
       "    <tr style=\"text-align: right;\">\n",
       "      <th></th>\n",
       "      <th>length</th>\n",
       "    </tr>\n",
       "  </thead>\n",
       "  <tbody>\n",
       "    <tr>\n",
       "      <th>mean</th>\n",
       "      <td>140.258972</td>\n",
       "    </tr>\n",
       "    <tr>\n",
       "      <th>std</th>\n",
       "      <td>230.168801</td>\n",
       "    </tr>\n",
       "    <tr>\n",
       "      <th>mode</th>\n",
       "      <td>104.000000</td>\n",
       "    </tr>\n",
       "    <tr>\n",
       "      <th>min</th>\n",
       "      <td>1.000000</td>\n",
       "    </tr>\n",
       "    <tr>\n",
       "      <th>q1</th>\n",
       "      <td>29.000000</td>\n",
       "    </tr>\n",
       "    <tr>\n",
       "      <th>median</th>\n",
       "      <td>85.000000</td>\n",
       "    </tr>\n",
       "    <tr>\n",
       "      <th>q3</th>\n",
       "      <td>111.000000</td>\n",
       "    </tr>\n",
       "    <tr>\n",
       "      <th>max</th>\n",
       "      <td>11008.000000</td>\n",
       "    </tr>\n",
       "    <tr>\n",
       "      <th>iqr</th>\n",
       "      <td>82.000000</td>\n",
       "    </tr>\n",
       "    <tr>\n",
       "      <th>outlier</th>\n",
       "      <td>234.000000</td>\n",
       "    </tr>\n",
       "    <tr>\n",
       "      <th>far_out</th>\n",
       "      <td>357.000000</td>\n",
       "    </tr>\n",
       "    <tr>\n",
       "      <th>10%</th>\n",
       "      <td>11.000000</td>\n",
       "    </tr>\n",
       "    <tr>\n",
       "      <th>20%</th>\n",
       "      <td>21.000000</td>\n",
       "    </tr>\n",
       "    <tr>\n",
       "      <th>30%</th>\n",
       "      <td>35.000000</td>\n",
       "    </tr>\n",
       "    <tr>\n",
       "      <th>40%</th>\n",
       "      <td>64.000000</td>\n",
       "    </tr>\n",
       "    <tr>\n",
       "      <th>50%</th>\n",
       "      <td>85.000000</td>\n",
       "    </tr>\n",
       "    <tr>\n",
       "      <th>60%</th>\n",
       "      <td>93.000000</td>\n",
       "    </tr>\n",
       "    <tr>\n",
       "      <th>70%</th>\n",
       "      <td>105.000000</td>\n",
       "    </tr>\n",
       "    <tr>\n",
       "      <th>80%</th>\n",
       "      <td>160.000000</td>\n",
       "    </tr>\n",
       "    <tr>\n",
       "      <th>90%</th>\n",
       "      <td>498.000000</td>\n",
       "    </tr>\n",
       "    <tr>\n",
       "      <th>100%</th>\n",
       "      <td>11008.000000</td>\n",
       "    </tr>\n",
       "  </tbody>\n",
       "</table>\n",
       "</div>"
      ],
      "text/plain": [
       "               length\n",
       "mean       140.258972\n",
       "std        230.168801\n",
       "mode       104.000000\n",
       "min          1.000000\n",
       "q1          29.000000\n",
       "median      85.000000\n",
       "q3         111.000000\n",
       "max      11008.000000\n",
       "iqr         82.000000\n",
       "outlier    234.000000\n",
       "far_out    357.000000\n",
       "10%         11.000000\n",
       "20%         21.000000\n",
       "30%         35.000000\n",
       "40%         64.000000\n",
       "50%         85.000000\n",
       "60%         93.000000\n",
       "70%        105.000000\n",
       "80%        160.000000\n",
       "90%        498.000000\n",
       "100%     11008.000000"
      ]
     },
     "execution_count": 4,
     "metadata": {},
     "output_type": "execute_result"
    }
   ],
   "source": [
    "profile_stat_df = basic_statistics(profile_length)\n",
    "plt.hist(profile_length) #,bins=[10,20,30,40,50,60,70,80,90,100,110]\n",
    "plt.show()\n",
    "pro_df = pd.DataFrame(data={'profile':sorted(profile_length)})\n",
    "# pro_df.to_excel('data/tree-rep-profiles_o2o/profile_dist_overall_woLoners.xlsx',index=False)\n",
    "profile_stat_df"
   ]
  },
  {
   "cell_type": "markdown",
   "metadata": {},
   "source": [
    "### 計算normal processes length dist\n",
    "* o2m original normal\n",
    "* assertion test for checking dataset"
   ]
  },
  {
   "cell_type": "code",
   "execution_count": 19,
   "metadata": {},
   "outputs": [
    {
     "name": "stderr",
     "output_type": "stream",
     "text": [
      "100%|██████████| 159/159 [00:00<00:00, 698.18it/s]\n"
     ]
    },
    {
     "data": {
      "text/plain": [
       "3333"
      ]
     },
     "execution_count": 19,
     "metadata": {},
     "output_type": "execute_result"
    }
   ],
   "source": [
    "# corpus = []\n",
    "# window_size = 6\n",
    "# dil= r\"[,.;\\-+^()/@#?!&$:{}\\\\*%~\\'\\\"]+\\ *\" #等號、底線被保留\n",
    "root_dir = './data/tree-rep-profiles_o2o/small_short/'\n",
    "fam_dir = next(os.walk(root_dir))[1]\n",
    "# api_length = []\n",
    "profile_length = []\n",
    "processed_profile = []\n",
    "count = 0\n",
    "\n",
    "for fam in tqdm(fam_dir):\n",
    "    tree_dir = next(os.walk(root_dir + fam))[1]\n",
    "    for tree in tree_dir:\n",
    "        in_directory = root_dir + fam +  '/' + tree + '/'\n",
    "        hl_list = next(os.walk(in_directory))[2]\n",
    "        hl_list = [os.path.join(in_directory, f) for f in hl_list]\n",
    "        hl_list = list(filter(lambda f: f.endswith(\".profile\"), hl_list))\n",
    "        if len(hl_list) > 2:\n",
    "            rep = pickle.load(open(in_directory + 'rep.pickle','rb'))\n",
    "            rep = sum(rep,[])\n",
    "            if len(rep)>10:\n",
    "#                 count = count + 1 #normal\n",
    "                print('ERR:',in_directory) #small_short\n",
    "        for profile in hl_list:\n",
    "            name = profile.split('/')[-1]\n",
    "            if name not in processed_profile:\n",
    "                with open(profile,encoding='ISO 8859-1') as f:\n",
    "                    lines = f.read().splitlines()\n",
    "                processed_profile.append(name)\n",
    "                profile_length.append(len(lines))\n",
    "\n",
    "len(processed_profile)"
   ]
  },
  {
   "cell_type": "code",
   "execution_count": 9,
   "metadata": {},
   "outputs": [
    {
     "name": "stderr",
     "output_type": "stream",
     "text": [
      "100%|██████████| 135/135 [00:01<00:00, 119.02it/s]\n"
     ]
    },
    {
     "data": {
      "text/plain": [
       "9819"
      ]
     },
     "execution_count": 9,
     "metadata": {},
     "output_type": "execute_result"
    }
   ],
   "source": [
    "# corpus = []\n",
    "# window_size = 6\n",
    "# dil= r\"[,.;\\-+^()/@#?!&$:{}\\\\*%~\\'\\\"]+\\ *\" #等號、底線被保留\n",
    "root_dir = './data/tree-rep-profiles_o2o/normal/'\n",
    "fam_dir = next(os.walk(root_dir))[1]\n",
    "# api_length = []\n",
    "profile_length = []\n",
    "processed_profile = []\n",
    "count = 0\n",
    "\n",
    "for fam in tqdm(fam_dir):\n",
    "    tree_dir = next(os.walk(root_dir + fam))[1]\n",
    "    for tree in tree_dir:\n",
    "        in_directory = root_dir + fam +  '/' + tree + '/'\n",
    "        hl_list = next(os.walk(in_directory))[2]\n",
    "        hl_list = [os.path.join(in_directory, f) for f in hl_list]\n",
    "        hl_list = list(filter(lambda f: f.endswith(\".profile\"), hl_list))\n",
    "        if len(hl_list) < 3:\n",
    "            print('ERR:',hl_list)\n",
    "        rep = pickle.load(open(in_directory + 'rep.pickle','rb'))\n",
    "        rep = sum(rep,[])\n",
    "        if len(rep)<10:\n",
    "#                 count = count + 1 #normal\n",
    "            print('ERR:',in_directory) #small_short\n",
    "        for profile in hl_list:\n",
    "            name = profile.split('/')[-1]\n",
    "            if name not in processed_profile:\n",
    "                with open(profile,encoding='ISO 8859-1') as f:\n",
    "                    lines = f.read().splitlines()\n",
    "                processed_profile.append(name)\n",
    "                profile_length.append(len(lines))\n",
    "\n",
    "len(processed_profile)"
   ]
  },
  {
   "cell_type": "code",
   "execution_count": 15,
   "metadata": {},
   "outputs": [],
   "source": [
    "in_directory = './data/tree-rep-profiles_o2o_smallshort/short/151.brresmon_0.8/G17/'"
   ]
  },
  {
   "cell_type": "code",
   "execution_count": 16,
   "metadata": {},
   "outputs": [],
   "source": [
    "rep = pickle.load(open(in_directory + 'rep.pickle','rb'))\n",
    "byte = pickle.load(open(in_directory + '3fb338d03c574cb7535ab5735de39eaf5c82c37f26b500f95aace158972cbb3b_2960_byterep.pickle'\n",
    "                        ,'rb'))"
   ]
  },
  {
   "cell_type": "code",
   "execution_count": 17,
   "metadata": {
    "scrolled": true
   },
   "outputs": [
    {
     "data": {
      "text/plain": [
       "([1,\n",
       "  1,\n",
       "  1,\n",
       "  1,\n",
       "  1,\n",
       "  1,\n",
       "  1,\n",
       "  1,\n",
       "  1,\n",
       "  1,\n",
       "  1,\n",
       "  1,\n",
       "  1,\n",
       "  1,\n",
       "  1,\n",
       "  1,\n",
       "  1,\n",
       "  1,\n",
       "  1,\n",
       "  1,\n",
       "  1,\n",
       "  1,\n",
       "  1,\n",
       "  1,\n",
       "  1,\n",
       "  1,\n",
       "  1,\n",
       "  0,\n",
       "  0,\n",
       "  1,\n",
       "  1,\n",
       "  1],\n",
       " './data/tree-rep-profiles_o2o_smallshort/short/151.brresmon_0.8/G17/')"
      ]
     },
     "execution_count": 17,
     "metadata": {},
     "output_type": "execute_result"
    }
   ],
   "source": [
    "byte , in_directory"
   ]
  },
  {
   "cell_type": "code",
   "execution_count": 18,
   "metadata": {},
   "outputs": [
    {
     "data": {
      "text/plain": [
       "32"
      ]
     },
     "execution_count": 18,
     "metadata": {},
     "output_type": "execute_result"
    }
   ],
   "source": [
    "len(byte)"
   ]
  },
  {
   "cell_type": "code",
   "execution_count": 26,
   "metadata": {},
   "outputs": [
    {
     "data": {
      "text/plain": [
       "[['RegQueryValue#PR@HKLM@sys_curCtlSet_ctl_sessionManager\\\\*#PR@SUBK@criticalsectiontimeout#PR@0#PR@12f9b0#Ret#0',\n",
       "  'RegQueryValue#PR@HKLM@soft_ms_ole\\\\*#PR@SUBK@rwlockresourcetimeout#PR@0#PR@12f9b4#Ret#P',\n",
       "  'RegQueryValue#PR@HKLM@soft_ms_ole\\\\*#PR@SUBK@minimumfreemempercentagetocreateprocess#PR@12f9b8#PR@12f9b4#Ret#P',\n",
       "  'RegQueryValue#PR@HKLM@soft_ms_ole\\\\*#PR@SUBK@minimumfreemempercentagetocreateobject#PR@12f9b8#PR@12f9b4#Ret#P',\n",
       "  'RegQueryValue#PR@HKLM@sys_setup\\\\#PR@SUBK@systemsetupinprogress#PR@REG_DWORD#PR@0#Ret#0',\n",
       "  'LoadLibrary#PR@ARB@windowsshell@MANIFEST#Ret#N',\n",
       "  'CreateFile#PR@ARB@MANIFEST#PR@GENERIC_READ#PR@OPEN_EXISTING#PR@FILE_SHARE_DELETE;FILE_SHARE_READ#Ret#0',\n",
       "  'RegQueryValue#PR@HKCU@desktop\\\\#PR@SUBK@smoothscroll#PR@0#PR@77462a48#Ret#P',\n",
       "  'RegQueryValue#PR@HKCU@soft_ms_win_explorer\\\\advanced#PR@SUBK@enableballoontips#PR@0#PR@77462170#Ret#P',\n",
       "  'RegEnumValue#PR@HKLM@soft_ms_winNT_languagepack\\\\*#PR@SUBK@surr#PR@REG_DWORD#PR@2#Ret#0',\n",
       "  'RegQueryValue#PR@HKCU@desktop\\\\#PR@SUBK@smoothscroll#PR@0#PR@5d102058#Ret#P',\n",
       "  'RegQueryValue#PR@HKLM@soft_ms_winNT_winlogon\\\\*#PR@SUBK@userenvdebuglevel#PR@12f548#PR@76a611e4#Ret#P',\n",
       "  'RegQueryValue#PR@HKLM@soft_ms_winNT_winlogon\\\\*#PR@SUBK@chkaccdebuglevel#PR@12f548#PR@76a61134#Ret#P',\n",
       "  'RegQueryValue#PR@HKLM@sys_curCtlSet_ctl_productoptions\\\\*#PR@SUBK@producttype#PR@REG_SZ#PR@WinNT#Ret#0',\n",
       "  'RegQueryValue#PR@HKCU@soft_ms_win_explorer_userShellFolder\\\\*#PR@SUBK@personal#PR@REG_EXPAND_SZ#PR@%#Ret#0',\n",
       "  'RegQueryValue#PR@HKCU@soft_ms_win_explorer_userShellFolder\\\\*#PR@SUBK@local settings#PR@REG_EXPAND_SZ#PR@%#Ret#0',\n",
       "  'RegQueryValue#PR@HKLM@soft_ms_winNT_winlogon\\\\*#PR@SUBK@rsopdebuglevel#PR@12f340#PR@76a6123c#Ret#P',\n",
       "  'RegQueryValue#PR@HKLM@soft_ms_winNT_winlogon\\\\*#PR@SUBK@userenvdebuglevel#PR@12f268#PR@76a612c8#Ret#P',\n",
       "  'RegQueryValue#PR@HKLM@soft_ms_winNT_winlogon\\\\*#PR@SUBK@rsoplogging#PR@12f268#PR@76a612d0#Ret#P',\n",
       "  'RegQueryValue#PR@HKLM@soft_ms_winNT_winlogon\\\\*#PR@SUBK@userenvdebuglevel#PR@12edc4#PR@76a6118c#Ret#P',\n",
       "  'CreateFile#PR@USR@EXE#PR@GENERIC_READ#PR@OPEN_EXISTING#PR@FILE_SHARE_READ#Ret#0',\n",
       "  'LoadLibrary#PR@SYS@psapi@DLL#Ret#0',\n",
       "  'LoadLibrary#PR@SYS@msimg32@DLL#Ret#0',\n",
       "  'LoadLibrary#PR@SYS@comdlg32@DLL#Ret#0',\n",
       "  'LoadLibrary#PR@SYS@winhttp@DLL#Ret#0']]"
      ]
     },
     "execution_count": 26,
     "metadata": {},
     "output_type": "execute_result"
    }
   ],
   "source": [
    "rep"
   ]
  },
  {
   "cell_type": "code",
   "execution_count": 28,
   "metadata": {},
   "outputs": [
    {
     "data": {
      "text/plain": [
       "25"
      ]
     },
     "execution_count": 28,
     "metadata": {},
     "output_type": "execute_result"
    }
   ],
   "source": [
    "rep= sum(rep,[])\n",
    "len(rep)"
   ]
  },
  {
   "cell_type": "code",
   "execution_count": 6,
   "metadata": {},
   "outputs": [
    {
     "data": {
      "text/plain": [
       "['./data/tree-rep-profiles-partial/normal/4.zbot_0.8/G1332/6fb1ab2ea32499ee45ca81efb62f85aaf80a528511ec8841bb8c14713a02dfa9_2932.profile']"
      ]
     },
     "execution_count": 6,
     "metadata": {},
     "output_type": "execute_result"
    }
   ],
   "source": [
    "root_dir = './data/tree-rep-profiles-partial/'\n",
    "profile = '6fb1ab2ea32499ee45ca81efb62f85aaf80a528511ec8841bb8c14713a02dfa9_2932.profile'\n",
    "# profile = '78f986761db48863d3fb54fd0b346df84a123c7e4b87384abaccf592cb3d40d8_3228.profile'\n",
    "paths = glob.glob(root_dir + '*/*/*/'+profile)\n",
    "paths"
   ]
  },
  {
   "cell_type": "code",
   "execution_count": 38,
   "metadata": {
    "scrolled": true
   },
   "outputs": [
    {
     "ename": "ValueError",
     "evalue": "Found array with dim 3. Estimator expected <= 2.",
     "output_type": "error",
     "traceback": [
      "\u001b[0;31m---------------------------------------------------------------------------\u001b[0m",
      "\u001b[0;31mValueError\u001b[0m                                Traceback (most recent call last)",
      "\u001b[0;32m<ipython-input-38-4e503cc1f976>\u001b[0m in \u001b[0;36m<module>\u001b[0;34m\u001b[0m\n\u001b[1;32m      3\u001b[0m \u001b[0my\u001b[0m \u001b[0;34m=\u001b[0m \u001b[0;34m[\u001b[0m\u001b[0;36m1\u001b[0m\u001b[0;34m,\u001b[0m\u001b[0;36m2\u001b[0m\u001b[0;34m]\u001b[0m\u001b[0;34m\u001b[0m\u001b[0;34m\u001b[0m\u001b[0m\n\u001b[1;32m      4\u001b[0m \u001b[0mclf\u001b[0m \u001b[0;34m=\u001b[0m \u001b[0mNearestCentroid\u001b[0m\u001b[0;34m(\u001b[0m\u001b[0;34m)\u001b[0m\u001b[0;34m\u001b[0m\u001b[0;34m\u001b[0m\u001b[0m\n\u001b[0;32m----> 5\u001b[0;31m \u001b[0mclf\u001b[0m\u001b[0;34m.\u001b[0m\u001b[0mfit\u001b[0m\u001b[0;34m(\u001b[0m\u001b[0mx\u001b[0m\u001b[0;34m,\u001b[0m\u001b[0my\u001b[0m\u001b[0;34m)\u001b[0m\u001b[0;34m\u001b[0m\u001b[0;34m\u001b[0m\u001b[0m\n\u001b[0m",
      "\u001b[0;32m~/anaconda3/lib/python3.6/site-packages/sklearn/neighbors/nearest_centroid.py\u001b[0m in \u001b[0;36mfit\u001b[0;34m(self, X, y)\u001b[0m\n\u001b[1;32m    103\u001b[0m             \u001b[0mX\u001b[0m\u001b[0;34m,\u001b[0m \u001b[0my\u001b[0m \u001b[0;34m=\u001b[0m \u001b[0mcheck_X_y\u001b[0m\u001b[0;34m(\u001b[0m\u001b[0mX\u001b[0m\u001b[0;34m,\u001b[0m \u001b[0my\u001b[0m\u001b[0;34m,\u001b[0m \u001b[0;34m[\u001b[0m\u001b[0;34m'csc'\u001b[0m\u001b[0;34m]\u001b[0m\u001b[0;34m)\u001b[0m\u001b[0;34m\u001b[0m\u001b[0;34m\u001b[0m\u001b[0m\n\u001b[1;32m    104\u001b[0m         \u001b[0;32melse\u001b[0m\u001b[0;34m:\u001b[0m\u001b[0;34m\u001b[0m\u001b[0;34m\u001b[0m\u001b[0m\n\u001b[0;32m--> 105\u001b[0;31m             \u001b[0mX\u001b[0m\u001b[0;34m,\u001b[0m \u001b[0my\u001b[0m \u001b[0;34m=\u001b[0m \u001b[0mcheck_X_y\u001b[0m\u001b[0;34m(\u001b[0m\u001b[0mX\u001b[0m\u001b[0;34m,\u001b[0m \u001b[0my\u001b[0m\u001b[0;34m,\u001b[0m \u001b[0;34m[\u001b[0m\u001b[0;34m'csr'\u001b[0m\u001b[0;34m,\u001b[0m \u001b[0;34m'csc'\u001b[0m\u001b[0;34m]\u001b[0m\u001b[0;34m)\u001b[0m\u001b[0;34m\u001b[0m\u001b[0;34m\u001b[0m\u001b[0m\n\u001b[0m\u001b[1;32m    106\u001b[0m         \u001b[0mis_X_sparse\u001b[0m \u001b[0;34m=\u001b[0m \u001b[0msp\u001b[0m\u001b[0;34m.\u001b[0m\u001b[0missparse\u001b[0m\u001b[0;34m(\u001b[0m\u001b[0mX\u001b[0m\u001b[0;34m)\u001b[0m\u001b[0;34m\u001b[0m\u001b[0;34m\u001b[0m\u001b[0m\n\u001b[1;32m    107\u001b[0m         \u001b[0;32mif\u001b[0m \u001b[0mis_X_sparse\u001b[0m \u001b[0;32mand\u001b[0m \u001b[0mself\u001b[0m\u001b[0;34m.\u001b[0m\u001b[0mshrink_threshold\u001b[0m\u001b[0;34m:\u001b[0m\u001b[0;34m\u001b[0m\u001b[0;34m\u001b[0m\u001b[0m\n",
      "\u001b[0;32m~/anaconda3/lib/python3.6/site-packages/sklearn/utils/validation.py\u001b[0m in \u001b[0;36mcheck_X_y\u001b[0;34m(X, y, accept_sparse, accept_large_sparse, dtype, order, copy, force_all_finite, ensure_2d, allow_nd, multi_output, ensure_min_samples, ensure_min_features, y_numeric, warn_on_dtype, estimator)\u001b[0m\n\u001b[1;32m    717\u001b[0m                     \u001b[0mensure_min_features\u001b[0m\u001b[0;34m=\u001b[0m\u001b[0mensure_min_features\u001b[0m\u001b[0;34m,\u001b[0m\u001b[0;34m\u001b[0m\u001b[0;34m\u001b[0m\u001b[0m\n\u001b[1;32m    718\u001b[0m                     \u001b[0mwarn_on_dtype\u001b[0m\u001b[0;34m=\u001b[0m\u001b[0mwarn_on_dtype\u001b[0m\u001b[0;34m,\u001b[0m\u001b[0;34m\u001b[0m\u001b[0;34m\u001b[0m\u001b[0m\n\u001b[0;32m--> 719\u001b[0;31m                     estimator=estimator)\n\u001b[0m\u001b[1;32m    720\u001b[0m     \u001b[0;32mif\u001b[0m \u001b[0mmulti_output\u001b[0m\u001b[0;34m:\u001b[0m\u001b[0;34m\u001b[0m\u001b[0;34m\u001b[0m\u001b[0m\n\u001b[1;32m    721\u001b[0m         y = check_array(y, 'csr', force_all_finite=True, ensure_2d=False,\n",
      "\u001b[0;32m~/anaconda3/lib/python3.6/site-packages/sklearn/utils/validation.py\u001b[0m in \u001b[0;36mcheck_array\u001b[0;34m(array, accept_sparse, accept_large_sparse, dtype, order, copy, force_all_finite, ensure_2d, allow_nd, ensure_min_samples, ensure_min_features, warn_on_dtype, estimator)\u001b[0m\n\u001b[1;32m    537\u001b[0m         \u001b[0;32mif\u001b[0m \u001b[0;32mnot\u001b[0m \u001b[0mallow_nd\u001b[0m \u001b[0;32mand\u001b[0m \u001b[0marray\u001b[0m\u001b[0;34m.\u001b[0m\u001b[0mndim\u001b[0m \u001b[0;34m>=\u001b[0m \u001b[0;36m3\u001b[0m\u001b[0;34m:\u001b[0m\u001b[0;34m\u001b[0m\u001b[0;34m\u001b[0m\u001b[0m\n\u001b[1;32m    538\u001b[0m             raise ValueError(\"Found array with dim %d. %s expected <= 2.\"\n\u001b[0;32m--> 539\u001b[0;31m                              % (array.ndim, estimator_name))\n\u001b[0m\u001b[1;32m    540\u001b[0m         \u001b[0;32mif\u001b[0m \u001b[0mforce_all_finite\u001b[0m\u001b[0;34m:\u001b[0m\u001b[0;34m\u001b[0m\u001b[0;34m\u001b[0m\u001b[0m\n\u001b[1;32m    541\u001b[0m             _assert_all_finite(array,\n",
      "\u001b[0;31mValueError\u001b[0m: Found array with dim 3. Estimator expected <= 2."
     ]
    }
   ],
   "source": [
    "from sklearn.neighbors.nearest_centroid import NearestCentroid\n",
    "x = np.array([[[0,1],[0,1],[1,1]],[[1,1],[0,1],[0,1]]])\n",
    "y = [1,2]\n",
    "clf = NearestCentroid()\n",
    "clf.fit(x,y)"
   ]
  },
  {
   "cell_type": "code",
   "execution_count": 39,
   "metadata": {},
   "outputs": [
    {
     "name": "stdout",
     "output_type": "stream",
     "text": [
      "(2, 3, 2)\n"
     ]
    },
    {
     "data": {
      "text/plain": [
       "array([[1., 0.],\n",
       "       [0., 1.],\n",
       "       [1., 0.]])"
      ]
     },
     "execution_count": 39,
     "metadata": {},
     "output_type": "execute_result"
    }
   ],
   "source": [
    "x = np.array([[[0,1],[0,1],[1,1]],[[1,1],[0,1],[0,1]]])\n",
    "print(x.shape)\n",
    "y = np.array([[0,1],[1,0],[0,1]])\n",
    "y2 = np.array([[0,1],[1,0]])\n",
    "sklearn.metrics.pairwise.cosine_similarity(y,y2)"
   ]
  },
  {
   "cell_type": "code",
   "execution_count": 8,
   "metadata": {
    "scrolled": true
   },
   "outputs": [
    {
     "data": {
      "image/png": "[encoded data removed]",
      "text/plain": [
       "<Figure size 432x288 with 1 Axes>"
      ]
     },
     "metadata": {
      "needs_background": "light"
     },
     "output_type": "display_data"
    },
    {
     "data": {
      "text/html": [
       "<div>\n",
       "<style scoped>\n",
       "    .dataframe tbody tr th:only-of-type {\n",
       "        vertical-align: middle;\n",
       "    }\n",
       "\n",
       "    .dataframe tbody tr th {\n",
       "        vertical-align: top;\n",
       "    }\n",
       "\n",
       "    .dataframe thead th {\n",
       "        text-align: right;\n",
       "    }\n",
       "</style>\n",
       "<table border=\"1\" class=\"dataframe\">\n",
       "  <thead>\n",
       "    <tr style=\"text-align: right;\">\n",
       "      <th></th>\n",
       "      <th>length</th>\n",
       "    </tr>\n",
       "  </thead>\n",
       "  <tbody>\n",
       "    <tr>\n",
       "      <th>mean</th>\n",
       "      <td>104.100793</td>\n",
       "    </tr>\n",
       "    <tr>\n",
       "      <th>std</th>\n",
       "      <td>204.068370</td>\n",
       "    </tr>\n",
       "    <tr>\n",
       "      <th>mode</th>\n",
       "      <td>104.000000</td>\n",
       "    </tr>\n",
       "    <tr>\n",
       "      <th>min</th>\n",
       "      <td>1.000000</td>\n",
       "    </tr>\n",
       "    <tr>\n",
       "      <th>q1</th>\n",
       "      <td>24.000000</td>\n",
       "    </tr>\n",
       "    <tr>\n",
       "      <th>median</th>\n",
       "      <td>69.000000</td>\n",
       "    </tr>\n",
       "    <tr>\n",
       "      <th>q3</th>\n",
       "      <td>104.000000</td>\n",
       "    </tr>\n",
       "    <tr>\n",
       "      <th>max</th>\n",
       "      <td>11008.000000</td>\n",
       "    </tr>\n",
       "    <tr>\n",
       "      <th>iqr</th>\n",
       "      <td>80.000000</td>\n",
       "    </tr>\n",
       "    <tr>\n",
       "      <th>outlier</th>\n",
       "      <td>224.000000</td>\n",
       "    </tr>\n",
       "    <tr>\n",
       "      <th>far_out</th>\n",
       "      <td>344.000000</td>\n",
       "    </tr>\n",
       "    <tr>\n",
       "      <th>10%</th>\n",
       "      <td>10.000000</td>\n",
       "    </tr>\n",
       "    <tr>\n",
       "      <th>20%</th>\n",
       "      <td>20.000000</td>\n",
       "    </tr>\n",
       "    <tr>\n",
       "      <th>30%</th>\n",
       "      <td>32.000000</td>\n",
       "    </tr>\n",
       "    <tr>\n",
       "      <th>40%</th>\n",
       "      <td>48.000000</td>\n",
       "    </tr>\n",
       "    <tr>\n",
       "      <th>50%</th>\n",
       "      <td>69.000000</td>\n",
       "    </tr>\n",
       "    <tr>\n",
       "      <th>60%</th>\n",
       "      <td>87.000000</td>\n",
       "    </tr>\n",
       "    <tr>\n",
       "      <th>70%</th>\n",
       "      <td>104.000000</td>\n",
       "    </tr>\n",
       "    <tr>\n",
       "      <th>80%</th>\n",
       "      <td>107.000000</td>\n",
       "    </tr>\n",
       "    <tr>\n",
       "      <th>90%</th>\n",
       "      <td>196.400000</td>\n",
       "    </tr>\n",
       "    <tr>\n",
       "      <th>100%</th>\n",
       "      <td>11008.000000</td>\n",
       "    </tr>\n",
       "  </tbody>\n",
       "</table>\n",
       "</div>"
      ],
      "text/plain": [
       "               length\n",
       "mean       104.100793\n",
       "std        204.068370\n",
       "mode       104.000000\n",
       "min          1.000000\n",
       "q1          24.000000\n",
       "median      69.000000\n",
       "q3         104.000000\n",
       "max      11008.000000\n",
       "iqr         80.000000\n",
       "outlier    224.000000\n",
       "far_out    344.000000\n",
       "10%         10.000000\n",
       "20%         20.000000\n",
       "30%         32.000000\n",
       "40%         48.000000\n",
       "50%         69.000000\n",
       "60%         87.000000\n",
       "70%        104.000000\n",
       "80%        107.000000\n",
       "90%        196.400000\n",
       "100%     11008.000000"
      ]
     },
     "execution_count": 8,
     "metadata": {},
     "output_type": "execute_result"
    }
   ],
   "source": [
    "profile_stat_df = basic_statistics(profile_length)\n",
    "plt.hist(profile_length) #,bins=[10,20,30,40,50,60,70,80,90,100,110]\n",
    "plt.show()\n",
    "pro_df = pd.DataFrame(data={'profile':sorted(profile_length)})\n",
    "pro_df.to_excel('data/tree-rep-profiles_o2o/profile_dist_smallshort.xlsx',index=False)\n",
    "profile_stat_df"
   ]
  },
  {
   "cell_type": "markdown",
   "metadata": {},
   "source": [
    "## statistics\n",
    "* 從此開始跑\n",
    "* 需要tree-rep-profiles_one2one (read only)\n",
    "* 需要 tree-rep-profiles_o2o (write)"
   ]
  },
  {
   "cell_type": "code",
   "execution_count": 2,
   "metadata": {},
   "outputs": [
    {
     "data": {
      "text/plain": [
       "['151.brresmon_0.8',\n",
       " '18.domaiq_0.8',\n",
       " '85.ipamor_0.8',\n",
       " '75.crytex_0.8',\n",
       " '65.smshoax_0.8',\n",
       " '61.virlock_0.8',\n",
       " '79.lydra_0.8',\n",
       " '11.zusy_0.8',\n",
       " '2.zbot_0.8',\n",
       " '82.madangel_0.8',\n",
       " '158.amonetize_0.8',\n",
       " '26.autoit_0.8',\n",
       " '139.softonic_0.8',\n",
       " '148.dldpk_0.8',\n",
       " '57.vilsel_0.8',\n",
       " '77.bifrose_0.8',\n",
       " '25.browsefox_0.8',\n",
       " '137.vbna_0.8',\n",
       " '118.asoecem_0.8',\n",
       " '20.ramnit_0.8',\n",
       " '101.banker_0.8',\n",
       " '19.installcore_0.8',\n",
       " '17.sality_0.8',\n",
       " '53.killav_0.8',\n",
       " '51.ircbot_0.8',\n",
       " '70.lollipop_0.8',\n",
       " '72.gamevance_0.8',\n",
       " '113.ipz_0.8',\n",
       " '16.sytro_0.8',\n",
       " '48.upatre_0.8',\n",
       " '132.fareit_0.8',\n",
       " '30.kdz_0.8',\n",
       " '64.hupigon_0.8',\n",
       " '55.medfos_0.8',\n",
       " '93.casino_0.8',\n",
       " '6.virut_0.8',\n",
       " '59.installrex_0.8',\n",
       " '91.loring_0.8',\n",
       " '63.aira_0.8',\n",
       " '5.ursu_0.8',\n",
       " '12.expiro_0.8',\n",
       " '92.valla_0.8',\n",
       " '84.vbkrypt_0.8',\n",
       " '112.installmonetizer_0.8',\n",
       " '31.elkern_0.8',\n",
       " '32.outbrowse_0.8',\n",
       " '13.vobfus_0.8',\n",
       " '40.msil_0.8',\n",
       " '15.graftor_0.8',\n",
       " '4.kazy_0.8',\n",
       " '7.solimba_0.8',\n",
       " '129.dealply_0.8',\n",
       " '41.ibryte_0.8',\n",
       " '9.loadmoney_0.8',\n",
       " '106.gator_0.8',\n",
       " '44.startpage_0.8',\n",
       " '52.megasearch_0.8',\n",
       " '152.navipromo_0.8',\n",
       " '47.mikey_0.8',\n",
       " '14.hotbar_0.8',\n",
       " '45.bdmj_0.8',\n",
       " '29.parite_0.8',\n",
       " '1.fakeav_0.8',\n",
       " '37.somoto_0.8',\n",
       " '144.cosmu_0.8',\n",
       " '8.fakealert_0.8',\n",
       " '187.wenper_0.8',\n",
       " '76.chir_0.8',\n",
       " '38.firseria_0.8',\n",
       " '116.lethic_0.8',\n",
       " '140.bjlog_0.8',\n",
       " '87.adload_0.8',\n",
       " '89.downloadguide_0.8',\n",
       " '83.chydo_0.8',\n",
       " '182.cridex_0.8',\n",
       " '42.simda_0.8',\n",
       " '62.directdow_0.8',\n",
       " '109.bredo_0.8',\n",
       " '78.koutodoor_0.8',\n",
       " '39.sirefef_0.8',\n",
       " '50.shodi_0.8',\n",
       " '24.softpulse_0.8',\n",
       " '156.hybris_0.8',\n",
       " '141.peed_0.8',\n",
       " '312.katusha_0.8',\n",
       " '163.klez_0.8',\n",
       " '96.pcclient_0.8',\n",
       " '60.mydoom_0.8',\n",
       " '176.brontok_0.8',\n",
       " '86.bettersurf_0.8',\n",
       " '81.kryptik_0.8',\n",
       " '114.rbot_0.8',\n",
       " '123.almanahe_0.8',\n",
       " '58.picsys_0.8',\n",
       " '54.fesber_0.8',\n",
       " '36.delf_0.8',\n",
       " '67.mywebsearch_0.8',\n",
       " '28.strictor_0.8',\n",
       " '22.razy_0.8',\n",
       " '73.yantai_0.8',\n",
       " '108.zegost_0.8',\n",
       " '66.renos_0.8',\n",
       " '98.neshta_0.8',\n",
       " '119.shipup_0.8',\n",
       " '10.symmi_0.8',\n",
       " '33.mira_0.8',\n",
       " '133.installiq_0.8',\n",
       " '49.eggnog_0.8',\n",
       " '23.mplug_0.8',\n",
       " '147.ranpax_0.8',\n",
       " '3.allaple_0.8',\n",
       " '71.mabezat_0.8',\n",
       " '127.dalexis_0.8',\n",
       " '107.jorik_0.8',\n",
       " '131.qukart_0.8',\n",
       " '46.shiz_0.8',\n",
       " '100.jadtre_0.8',\n",
       " '97.downloadadmin_0.8',\n",
       " '111.imali_0.8',\n",
       " '35.morstar_0.8',\n",
       " '56.onlinegames_0.8',\n",
       " '43.tepfer_0.8',\n",
       " '69.clickdownload_0.8',\n",
       " '128.conduit_0.8',\n",
       " '124.mediafinder_0.8',\n",
       " '105.inffinity_0.8',\n",
       " '34.barys_0.8',\n",
       " '80.viking_0.8',\n",
       " '115.alman_0.8',\n",
       " '172.adgazelle_0.8',\n",
       " '103.fynloski_0.8',\n",
       " '68.installerex_0.8',\n",
       " '94.bundlore_0.8',\n",
       " '121.dialer_0.8',\n",
       " '165.swisyn_0.8']"
      ]
     },
     "execution_count": 2,
     "metadata": {},
     "output_type": "execute_result"
    }
   ],
   "source": [
    "root_dir = './data/tree-rep-profiles_one2one/normal/'\n",
    "fam_dir_normal = next(os.walk(root_dir))[1]\n",
    "fam_dir_normal"
   ]
  },
  {
   "cell_type": "code",
   "execution_count": 3,
   "metadata": {},
   "outputs": [
    {
     "name": "stderr",
     "output_type": "stream",
     "text": [
      "100%|██████████| 135/135 [00:05<00:00, 24.48it/s]\n",
      "100%|██████████| 159/159 [00:01<00:00, 123.00it/s]\n"
     ]
    }
   ],
   "source": [
    "\n",
    "root_dir = './data/tree-rep-profiles_one2one/'\n",
    "# api_length = []\n",
    "process_lengths_normal = []\n",
    "process_lengths_overall = []\n",
    "rep_length_normal = []\n",
    "rep_length_overall = []\n",
    "tree_samples_normal = []\n",
    "tree_samples_overall = []\n",
    "tree_processes_normal = []\n",
    "tree_processes_overall = []\n",
    "sample_processes_normal = {}\n",
    "sample_processes_overall = {}\n",
    "fam_processes_normal = []\n",
    "fam_processes_overall = dict.fromkeys(fam_dir_normal,0)\n",
    "fam_samples_normal = []\n",
    "fam_samples_overall = dict.fromkeys(fam_dir_normal,0)\n",
    "# processed_profile = []\n",
    "trees_normal = []\n",
    "trees_overall = dict.fromkeys(fam_dir_normal,0) \n",
    "\n",
    "rasmma_dir = next(os.walk(root_dir))[1]\n",
    "for rasmma in rasmma_dir:\n",
    "    fam_dir = next(os.walk(root_dir+rasmma))[1]\n",
    "    for fam in tqdm(fam_dir):\n",
    "        if fam not in fam_dir_normal:\n",
    "            continue\n",
    "        tree_dir = next(os.walk(root_dir +rasmma+'/'+ fam))[1]\n",
    "        if rasmma == 'normal':\n",
    "#             assert len(tree_dir)>2\n",
    "            trees_normal.append(len(tree_dir))\n",
    "        trees_overall[fam] = trees_overall[fam] + len(tree_dir)\n",
    "        fam_processes = 0\n",
    "        fam_sample = []\n",
    "        fam_sample_all = []\n",
    "        for tree in tree_dir:\n",
    "            in_directory = root_dir+ rasmma+'/'+ fam +  '/' + tree + '/'\n",
    "            hl_list = next(os.walk(in_directory))[2]\n",
    "            hl_list = [os.path.join(in_directory, f) for f in hl_list]\n",
    "            hl_list = list(filter(lambda f: f.endswith(\".profile\"), hl_list))\n",
    "            rep = pickle.load(open(in_directory + 'rep.pickle','rb'))\n",
    "            rep = sum(rep,[])\n",
    "            fam_processes_overall[fam] = fam_processes_overall[fam] + len(hl_list)\n",
    "            if rasmma == 'normal':\n",
    "                assert len(rep) > 10\n",
    "                assert len(hl_list) > 2\n",
    "                rep_length_normal.append(len(rep))\n",
    "                tree_processes_normal.append(len(hl_list))\n",
    "                fam_processes = fam_processes + len(hl_list)\n",
    "            rep_length_overall.append(len(rep))\n",
    "            tree_processes_overall.append(len(hl_list))\n",
    "            \n",
    "            tree_samples = []\n",
    "            for profile in hl_list:\n",
    "                hash_sample = profile.split('/')[-1].split('_')[0]\n",
    "                tree_samples.append(hash_sample)\n",
    "                try:\n",
    "                    sample_processes_overall[hash_sample] = sample_processes_overall[hash_sample] + 1\n",
    "                except KeyError:\n",
    "                    sample_processes_overall[hash_sample] = 1\n",
    "                \n",
    "#                 tree_samples_overall.append(hash_sample)\n",
    "#                 name = profile.split('/')[-1]\n",
    "#                 if name not in processed_profile:\n",
    "                with open(profile,encoding='ISO 8859-1') as f:\n",
    "                    lines = f.read()\n",
    "                lines = re.sub(r'[^\\x00-\\x7F]+','', lines)\n",
    "                lines = re.sub(r'[\\x1e\\x7f\\x15\\x10\\x0c]+','', lines)\n",
    "                lines = lines.splitlines()\n",
    "#                     processed_profile.append(name)\n",
    "                fam_sample_all.append(hash_sample)\n",
    "                if rasmma == 'normal':\n",
    "                    process_lengths_normal.append(len(lines))\n",
    "                    fam_sample.append(hash_sample)\n",
    "                    try:\n",
    "                        sample_processes_normal[hash_sample] = sample_processes_normal[hash_sample] + 1\n",
    "                    except KeyError:\n",
    "                        sample_processes_normal[hash_sample] = 1\n",
    "                process_lengths_overall.append(len(lines))\n",
    "            tree_samples_overall.append(len(set(tree_samples)))\n",
    "            if rasmma == 'normal':\n",
    "                tree_samples_normal.append(len(set(tree_samples)))\n",
    "        fam_samples_overall[fam] = fam_samples_overall[fam] + len(set(fam_sample_all))\n",
    "        if rasmma == 'normal':\n",
    "            fam_processes_normal.append(fam_processes)\n",
    "            fam_samples_normal.append(len(set(fam_sample)))\n",
    "#                 else:\n",
    "#                     paths = glob.glob(root_dir + '*/*/*/'+profile.split('/')[-1])\n",
    "#                     print('duplicate ERR:',paths)\n",
    "\n",
    "assert len(trees_normal) == len(fam_dir_normal) == len(fam_processes_normal) == len(fam_samples_normal)\n",
    "assert sum(trees_normal) == len(tree_samples_normal) == len(tree_processes_normal)\n",
    "# len(processed_profile)"
   ]
  },
  {
   "cell_type": "code",
   "execution_count": 4,
   "metadata": {},
   "outputs": [],
   "source": [
    "def output_xlsx(statistics,i):\n",
    "    '''\n",
    "    Input: list or dict. i for iter\n",
    "    Output: xlsx\n",
    "    '''\n",
    "    output_root_path = 'data/tree-rep-profiles_o2o/df' + str(i+1) + '.xlsx'\n",
    "    try:\n",
    "        df = basic_statistics(statistics)\n",
    "    except TypeError:\n",
    "        df = basic_statistics(list(statistics.values()))\n",
    "    df.to_excel(output_root_path,index=True,sheet_name='df'+str(i+1))\n",
    "    return df"
   ]
  },
  {
   "cell_type": "code",
   "execution_count": 7,
   "metadata": {},
   "outputs": [
    {
     "data": {
      "text/html": [
       "<div>\n",
       "<style scoped>\n",
       "    .dataframe tbody tr th:only-of-type {\n",
       "        vertical-align: middle;\n",
       "    }\n",
       "\n",
       "    .dataframe tbody tr th {\n",
       "        vertical-align: top;\n",
       "    }\n",
       "\n",
       "    .dataframe thead th {\n",
       "        text-align: right;\n",
       "    }\n",
       "</style>\n",
       "<table border=\"1\" class=\"dataframe\">\n",
       "  <thead>\n",
       "    <tr style=\"text-align: right;\">\n",
       "      <th></th>\n",
       "      <th>length</th>\n",
       "    </tr>\n",
       "  </thead>\n",
       "  <tbody>\n",
       "    <tr>\n",
       "      <th>mean</th>\n",
       "      <td>1.461927</td>\n",
       "    </tr>\n",
       "    <tr>\n",
       "      <th>std</th>\n",
       "      <td>1.271672</td>\n",
       "    </tr>\n",
       "    <tr>\n",
       "      <th>mode</th>\n",
       "      <td>1.000000</td>\n",
       "    </tr>\n",
       "    <tr>\n",
       "      <th>min</th>\n",
       "      <td>1.000000</td>\n",
       "    </tr>\n",
       "    <tr>\n",
       "      <th>q1</th>\n",
       "      <td>1.000000</td>\n",
       "    </tr>\n",
       "    <tr>\n",
       "      <th>median</th>\n",
       "      <td>1.000000</td>\n",
       "    </tr>\n",
       "    <tr>\n",
       "      <th>q3</th>\n",
       "      <td>1.000000</td>\n",
       "    </tr>\n",
       "    <tr>\n",
       "      <th>max</th>\n",
       "      <td>20.000000</td>\n",
       "    </tr>\n",
       "    <tr>\n",
       "      <th>iqr</th>\n",
       "      <td>0.000000</td>\n",
       "    </tr>\n",
       "    <tr>\n",
       "      <th>outlier</th>\n",
       "      <td>1.000000</td>\n",
       "    </tr>\n",
       "    <tr>\n",
       "      <th>far_out</th>\n",
       "      <td>1.000000</td>\n",
       "    </tr>\n",
       "    <tr>\n",
       "      <th>10%</th>\n",
       "      <td>1.000000</td>\n",
       "    </tr>\n",
       "    <tr>\n",
       "      <th>20%</th>\n",
       "      <td>1.000000</td>\n",
       "    </tr>\n",
       "    <tr>\n",
       "      <th>30%</th>\n",
       "      <td>1.000000</td>\n",
       "    </tr>\n",
       "    <tr>\n",
       "      <th>40%</th>\n",
       "      <td>1.000000</td>\n",
       "    </tr>\n",
       "    <tr>\n",
       "      <th>50%</th>\n",
       "      <td>1.000000</td>\n",
       "    </tr>\n",
       "    <tr>\n",
       "      <th>60%</th>\n",
       "      <td>1.000000</td>\n",
       "    </tr>\n",
       "    <tr>\n",
       "      <th>70%</th>\n",
       "      <td>1.000000</td>\n",
       "    </tr>\n",
       "    <tr>\n",
       "      <th>80%</th>\n",
       "      <td>2.000000</td>\n",
       "    </tr>\n",
       "    <tr>\n",
       "      <th>90%</th>\n",
       "      <td>2.000000</td>\n",
       "    </tr>\n",
       "    <tr>\n",
       "      <th>100%</th>\n",
       "      <td>20.000000</td>\n",
       "    </tr>\n",
       "  </tbody>\n",
       "</table>\n",
       "</div>"
      ],
      "text/plain": [
       "            length\n",
       "mean      1.461927\n",
       "std       1.271672\n",
       "mode      1.000000\n",
       "min       1.000000\n",
       "q1        1.000000\n",
       "median    1.000000\n",
       "q3        1.000000\n",
       "max      20.000000\n",
       "iqr       0.000000\n",
       "outlier   1.000000\n",
       "far_out   1.000000\n",
       "10%       1.000000\n",
       "20%       1.000000\n",
       "30%       1.000000\n",
       "40%       1.000000\n",
       "50%       1.000000\n",
       "60%       1.000000\n",
       "70%       1.000000\n",
       "80%       2.000000\n",
       "90%       2.000000\n",
       "100%     20.000000"
      ]
     },
     "execution_count": 7,
     "metadata": {},
     "output_type": "execute_result"
    }
   ],
   "source": [
    "df_all_list = []\n",
    "for i,stat in enumerate([trees_normal,trees_overall,process_lengths_normal,process_lengths_overall\n",
    "                         ,rep_length_normal,rep_length_overall,tree_samples_normal,tree_processes_normal,\n",
    "                        tree_samples_overall,tree_processes_overall,fam_samples_normal,fam_processes_normal,\n",
    "                        fam_samples_overall,fam_processes_overall,sample_processes_normal,sample_processes_overall]):\n",
    "    df_all_list.append(output_xlsx(stat,i))\n",
    "df_all_list[-1]"
   ]
  },
  {
   "cell_type": "code",
   "execution_count": 8,
   "metadata": {},
   "outputs": [
    {
     "data": {
      "text/plain": [
       "Counter({1: 6766,\n",
       "         2: 1474,\n",
       "         4: 293,\n",
       "         9: 12,\n",
       "         8: 38,\n",
       "         3: 150,\n",
       "         6: 37,\n",
       "         7: 39,\n",
       "         11: 1,\n",
       "         5: 58,\n",
       "         10: 11,\n",
       "         12: 7,\n",
       "         15: 3,\n",
       "         14: 6,\n",
       "         20: 2,\n",
       "         17: 2,\n",
       "         13: 2,\n",
       "         16: 2,\n",
       "         18: 1})"
      ]
     },
     "execution_count": 8,
     "metadata": {},
     "output_type": "execute_result"
    }
   ],
   "source": [
    "Counter(list(sample_processes_overall.values()))"
   ]
  },
  {
   "cell_type": "markdown",
   "metadata": {},
   "source": [
    "## outlier remove to 5.long"
   ]
  },
  {
   "cell_type": "code",
   "execution_count": 9,
   "metadata": {},
   "outputs": [
    {
     "data": {
      "text/plain": [
       "216.0"
      ]
     },
     "execution_count": 9,
     "metadata": {},
     "output_type": "execute_result"
    }
   ],
   "source": [
    "outlier_len_profile = df_all_list[2].loc['outlier'].values[0] #outlier\n",
    "outlier_len_profile"
   ]
  },
  {
   "cell_type": "code",
   "execution_count": 10,
   "metadata": {},
   "outputs": [
    {
     "name": "stderr",
     "output_type": "stream",
     "text": [
      "100%|██████████| 135/135 [00:00<00:00, 281.75it/s]"
     ]
    },
    {
     "name": "stdout",
     "output_type": "stream",
     "text": [
      "remove processes: 1759 No byteseq: 0\n"
     ]
    },
    {
     "name": "stderr",
     "output_type": "stream",
     "text": [
      "\n"
     ]
    }
   ],
   "source": [
    "# corpus = []\n",
    "# window_size = 6\n",
    "# dil= r\"[,.;\\-+^()/@#?!&$:{}\\\\*%~\\'\\\"]+\\ *\" #等號、底線被保留\n",
    "mv_dir = './data/tree-rep-profiles_o2o/5.long/'\n",
    "root_dir = './data/tree-rep-profiles_o2o/normal/'\n",
    "fam_dir = next(os.walk(root_dir))[1]\n",
    "remove_pids = 0\n",
    "nobyteseq = 0\n",
    "\n",
    "for fam in tqdm(fam_dir):\n",
    "    tree_dir = next(os.walk(root_dir + fam))[1]\n",
    "    for tree in tree_dir:\n",
    "        in_directory = root_dir + fam +  '/' + tree + '/'\n",
    "        hl_list = next(os.walk(in_directory))[2]\n",
    "        hl_list = [os.path.join(in_directory, f) for f in hl_list]\n",
    "        hl_list = list(filter(lambda f: f.endswith(\".profile\"), hl_list))\n",
    "        for profile in hl_list:\n",
    "            with open(profile,encoding='ISO 8859-1') as f:\n",
    "                lines = f.read().splitlines()\n",
    "            if len(lines)> outlier_len_profile:\n",
    "                dest_path = mv_dir + fam + '/' + tree + '/'\n",
    "                if not os.path.exists(dest_path):\n",
    "                    os.makedirs(dest_path,exist_ok=True)\n",
    "                shutil.move(profile,dest_path+profile.split('/')[-1])\n",
    "                byteseq = profile.split('.profile')[0] + '_byterep.pickle'\n",
    "                try:\n",
    "                    shutil.move(byteseq,dest_path+byteseq.split('/')[-1])\n",
    "                except FileNotFoundError:\n",
    "                    print(fam,tree)\n",
    "                    nobyteseq +=1\n",
    "                remove_pids +=1\n",
    "print('remove processes:',remove_pids,'No byteseq:',nobyteseq)\n",
    "#remove processes: 1759"
   ]
  },
  {
   "cell_type": "code",
   "execution_count": 11,
   "metadata": {},
   "outputs": [],
   "source": [
    "def statistic_hash_pids(root_dir):\n",
    "    fam_dir = next(os.walk(root_dir))[1]\n",
    "    all_pids= []\n",
    "    all_pid_list = []\n",
    "    tree_count = 0\n",
    "    for fam in tqdm(fam_dir):\n",
    "        tree_dir = next(os.walk(root_dir + fam))[1]\n",
    "        tree_count += len(tree_dir)\n",
    "        for tree in tree_dir:\n",
    "            in_directory = root_dir + fam +  '/' + tree + '/'\n",
    "            hl_list = next(os.walk(in_directory))[2]\n",
    "            hl_list = [os.path.join(in_directory, f) for f in hl_list]\n",
    "            hl_list = list(filter(lambda f: f.endswith(\".profile\"), hl_list))\n",
    "            hash_list = [f.split('/')[-1].split('_')[0] for f in hl_list]\n",
    "            pid_list = [f.split('/')[-1] for f in hl_list]\n",
    "            all_pids.extend(hash_list)\n",
    "            all_pid_list.extend(pid_list)\n",
    "#             print(fam,len(hash_list)) #DEBUG\n",
    "    all_hash = set(all_pids)\n",
    "    print('Families#:',len(fam_dir),'Samples#:',len(all_hash),',Processes#:',len(set(all_pid_list)),',Trees#:',tree_count)\n",
    "    return all_hash, list(set(all_pid_list))"
   ]
  },
  {
   "cell_type": "code",
   "execution_count": 12,
   "metadata": {},
   "outputs": [
    {
     "name": "stderr",
     "output_type": "stream",
     "text": [
      "100%|██████████| 71/71 [00:00<00:00, 2783.06it/s]"
     ]
    },
    {
     "name": "stdout",
     "output_type": "stream",
     "text": [
      "Families#: 71 Samples#: 1631 ,Processes#: 1759 ,Trees#: 233\n"
     ]
    },
    {
     "name": "stderr",
     "output_type": "stream",
     "text": [
      "\n"
     ]
    }
   ],
   "source": [
    "temp = statistic_hash_pids(mv_dir)"
   ]
  },
  {
   "cell_type": "code",
   "execution_count": 15,
   "metadata": {},
   "outputs": [
    {
     "name": "stderr",
     "output_type": "stream",
     "text": [
      "100%|██████████| 130/130 [00:00<00:00, 2501.62it/s]\n",
      "100%|██████████| 130/130 [00:00<00:00, 2709.24it/s]"
     ]
    },
    {
     "name": "stdout",
     "output_type": "stream",
     "text": [
      "Empty Tree#: 0 Empty Fam#: 0\n",
      "Families#: 130 Samples#: 5952 ,Processes#: 8060 ,Trees#: 785\n"
     ]
    },
    {
     "name": "stderr",
     "output_type": "stream",
     "text": [
      "\n"
     ]
    }
   ],
   "source": [
    "#要多執行幾次直到把空fam或是tree皆移除\n",
    "root_dir = './data/tree-rep-profiles_o2o/normal/'\n",
    "fam_dir = next(os.walk(root_dir))[1]\n",
    "empty_tree = 0\n",
    "empty_fam = 0\n",
    "for fam in tqdm(fam_dir):\n",
    "    tree_dir = next(os.walk(root_dir + fam))[1]\n",
    "    fam_tree = {}\n",
    "    if len(tree_dir) == 0:\n",
    "        shutil.move(root_dir + fam  ,mv_dir+fam)\n",
    "        empty_fam +=1\n",
    "        print(fam)\n",
    "    for tree in tree_dir:\n",
    "        in_directory = root_dir + fam +  '/' + tree + '/'\n",
    "        hl_list = next(os.walk(in_directory))[2]\n",
    "        hl_list = [os.path.join(in_directory, f) for f in hl_list]\n",
    "        hl_list = list(filter(lambda f: f.endswith(\".profile\"), hl_list))\n",
    "        if len(hl_list) == 0: #移除tree底下的member僅有0個者\n",
    "            shutil.move(root_dir + fam +  '/' + tree ,mv_dir+fam+'/'+tree)\n",
    "            empty_tree +=1\n",
    "print('Empty Tree#:',empty_tree,'Empty Fam#:',empty_fam)\n",
    "\n",
    "\n",
    "all_hash,all_pid_list = statistic_hash_pids(root_dir)"
   ]
  },
  {
   "cell_type": "code",
   "execution_count": 16,
   "metadata": {},
   "outputs": [
    {
     "name": "stderr",
     "output_type": "stream",
     "text": [
      "100%|██████████| 157/157 [00:00<00:00, 3700.88it/s]\n",
      "100%|██████████| 159/159 [00:00<00:00, 4514.95it/s]"
     ]
    },
    {
     "name": "stdout",
     "output_type": "stream",
     "text": [
      "Families#: 157 Samples#: 1796 ,Processes#: 2274 ,Trees#: 1189\n",
      "Families#: 159 Samples#: 2418 ,Processes#: 3333 ,Trees#: 1351\n"
     ]
    },
    {
     "name": "stderr",
     "output_type": "stream",
     "text": [
      "\n"
     ]
    }
   ],
   "source": [
    "root_dir = './data/tree-rep-profiles_o2o_smallshort/small/'\n",
    "tmp = statistic_hash_pids(root_dir)\n",
    "root_dir = './data/tree-rep-profiles_o2o_smallshort/short/'\n",
    "tmp = statistic_hash_pids(root_dir)"
   ]
  },
  {
   "cell_type": "markdown",
   "metadata": {},
   "source": [
    "## Train, Dev, Test split\n",
    "* 拿tree數量sample的10%給valid、10%給test\n",
    "* 不足此數量的tree跳過\n",
    "* 拿回該sample所有在fam tree的process (僅第一種還原fam方法才有)"
   ]
  },
  {
   "cell_type": "code",
   "execution_count": 24,
   "metadata": {},
   "outputs": [],
   "source": [
    "root_dir = './data/tree-rep-profiles_o2o/normal/'\n",
    "fam_dir = next(os.walk(root_dir))[1]\n",
    "\n",
    "valid_dir = './data/tree-rep-profiles_o2o/DEV/'\n",
    "test_dir = './data/tree-rep-profiles_o2o/TEST/'"
   ]
  },
  {
   "cell_type": "code",
   "execution_count": 133,
   "metadata": {},
   "outputs": [
    {
     "name": "stderr",
     "output_type": "stream",
     "text": [
      "100%|██████████| 130/130 [00:12<00:00, 10.12it/s]\n"
     ]
    }
   ],
   "source": [
    "# 此做法為希望系統可以還原family，而非評估individual tree rep，依照sample來分並且會拿process\n",
    "'''for fam in tqdm(fam_dir):\n",
    "    tree_dir = next(os.walk(root_dir + fam))[1]\n",
    "    for tree in tree_dir:\n",
    "        in_directory = root_dir + fam +  '/' + tree + '/'\n",
    "        hl_list = next(os.walk(in_directory))[2]\n",
    "        hl_list = [os.path.join(in_directory, f) for f in hl_list]\n",
    "        hl_list = list(filter(lambda f: f.endswith(\".profile\"), hl_list))\n",
    "        hash_list = list(set([x.split('/')[-1].split('_')[0] for x in hl_list]))\n",
    "        if len(hash_list)>10:# 從各tree拿一個sample給dev一個給test\n",
    "#             dest_path = valid_dir + fam + '/' + tree + '/'\n",
    "#             if not os.path.exists(dest_path):\n",
    "#                 os.makedirs(dest_path,exist_ok=True)\n",
    "            inf_idx = random.sample(range(0,len(hash_list)),int(len(hash_list)*0.2))\n",
    "            valid_idx = random.sample(inf_idx,int(len(inf_idx)/2))\n",
    "            test_idx = list(set(inf_idx)-set(valid_idx))\n",
    "            valid_hash = [hash_list[x] for x in valid_idx]\n",
    "            test_hash = [hash_list[x] for x in test_idx]\n",
    "            valid_paths = []\n",
    "            for valid in valid_hash:\n",
    "                paths = glob.glob(root_dir + '*/*/' + valid + '*')\n",
    "                valid_paths.extend(paths)\n",
    "            test_paths = []\n",
    "            for test in test_hash:\n",
    "                paths = glob.glob(root_dir + '*/*/' + test + '*')\n",
    "                test_paths.extend(paths)  \n",
    "            for source_path in valid_paths:\n",
    "                dest_path = source_path.replace(root_dir.split('/')[-2],valid_dir.split('/')[-2])\n",
    "                dev_dir = '/'.join(dest_path.split('/')[:-1]) + '/'\n",
    "                if not os.path.exists(dev_dir):\n",
    "                    os.makedirs(dev_dir,exist_ok=True)\n",
    "                shutil.move(source_path,dest_path)\n",
    "            for source_path in test_paths:\n",
    "                dest_path = source_path.replace(root_dir.split('/')[-2],test_dir.split('/')[-2])\n",
    "                dev_dir = '/'.join(dest_path.split('/')[:-1]) + '/'\n",
    "                if not os.path.exists(dev_dir):\n",
    "                    os.makedirs(dev_dir,exist_ok=True)\n",
    "                shutil.move(source_path,dest_path)\n",
    "            '''"
   ]
  },
  {
   "cell_type": "code",
   "execution_count": 36,
   "metadata": {},
   "outputs": [
    {
     "name": "stderr",
     "output_type": "stream",
     "text": [
      "100%|██████████| 130/130 [00:00<00:00, 1756.26it/s]\n"
     ]
    }
   ],
   "source": [
    "# 此做法為還原tree，依照process來分\n",
    "for fam in tqdm(fam_dir):\n",
    "    tree_dir = next(os.walk(root_dir + fam))[1]\n",
    "    for tree in tree_dir:\n",
    "        in_directory = root_dir + fam +  '/' + tree + '/'\n",
    "        hl_list = next(os.walk(in_directory))[2]\n",
    "        hl_list = [os.path.join(in_directory, f) for f in hl_list]\n",
    "        hl_list = list(filter(lambda f: f.endswith(\".profile\"), hl_list))\n",
    "#         hash_list = list(set([x.split('/')[-1].split('_')[0] for x in hl_list]))\n",
    "        if len(hl_list)>10:# 從各tree拿一個sample給dev一個給test\n",
    "#             dest_path = valid_dir + fam + '/' + tree + '/'\n",
    "#             if not os.path.exists(dest_path):\n",
    "#                 os.makedirs(dest_path,exist_ok=True)\n",
    "            inf_idx = random.sample(range(0,len(hl_list)),int(len(hl_list)*0.2))\n",
    "            valid_idx = random.sample(inf_idx,int(len(inf_idx)/2))\n",
    "            test_idx = list(set(inf_idx)-set(valid_idx))\n",
    "            valid_paths = [hl_list[x] for x in valid_idx]\n",
    "            test_paths = [hl_list[x] for x in test_idx]\n",
    "#             valid_paths = []\n",
    "#             for valid in valid_pid:\n",
    "#                 paths = glob.glob(root_dir + '*/*/' + valid + '*')\n",
    "#                 valid_paths.extend(paths)\n",
    "#             test_paths = []\n",
    "#             for test in test_pid:\n",
    "#                 paths = glob.glob(root_dir + '*/*/' + test + '*')\n",
    "#                 test_paths.extend(paths)  \n",
    "            for source_path in valid_paths:\n",
    "                dest_path = source_path.replace(root_dir.split('/')[-2],valid_dir.split('/')[-2])\n",
    "                dev_dir = '/'.join(dest_path.split('/')[:-1]) + '/'\n",
    "                if not os.path.exists(dev_dir):\n",
    "                    os.makedirs(dev_dir,exist_ok=True)\n",
    "                shutil.move(source_path,dest_path)\n",
    "            for source_path in test_paths:\n",
    "                dest_path = source_path.replace(root_dir.split('/')[-2],test_dir.split('/')[-2])\n",
    "                dev_dir = '/'.join(dest_path.split('/')[:-1]) + '/'\n",
    "                if not os.path.exists(dev_dir):\n",
    "                    os.makedirs(dev_dir,exist_ok=True)\n",
    "                shutil.move(source_path,dest_path)\n",
    "            "
   ]
  },
  {
   "cell_type": "code",
   "execution_count": 38,
   "metadata": {},
   "outputs": [
    {
     "name": "stderr",
     "output_type": "stream",
     "text": [
      "100%|██████████| 130/130 [00:00<00:00, 2038.49it/s]\n",
      "100%|██████████| 45/45 [00:00<00:00, 13701.90it/s]\n",
      "100%|██████████| 45/45 [00:00<00:00, 12537.78it/s]"
     ]
    },
    {
     "name": "stdout",
     "output_type": "stream",
     "text": [
      "Families#: 130 Samples#: 5358 ,Processes#: 7103 ,Trees#: 785\n",
      "Families#: 45 Samples#: 435 ,Processes#: 451 ,Trees#: 133\n",
      "Families#: 45 Samples#: 480 ,Processes#: 506 ,Trees#: 133\n"
     ]
    },
    {
     "name": "stderr",
     "output_type": "stream",
     "text": [
      "\n"
     ]
    }
   ],
   "source": [
    "temp = statistic_hash_pids(root_dir)\n",
    "temp = statistic_hash_pids(valid_dir)\n",
    "temp = statistic_hash_pids(test_dir)\n"
   ]
  },
  {
   "cell_type": "markdown",
   "metadata": {},
   "source": [
    "## Loners similarity computation\n",
    "* 取出實驗家族exp_fam所含有的profiles\n",
    "* 利用RasMMA計算是否是跟自己家族的行為樹最相近\n",
    "* 如果是就把它移到exp_dir"
   ]
  },
  {
   "cell_type": "code",
   "execution_count": 39,
   "metadata": {
    "scrolled": true
   },
   "outputs": [
    {
     "data": {
      "text/plain": [
       "['18.domaiq',\n",
       " '85.ipamor',\n",
       " '79.lydra',\n",
       " '11.zusy',\n",
       " '2.zbot',\n",
       " '26.autoit',\n",
       " '57.vilsel',\n",
       " '25.browsefox',\n",
       " '20.ramnit',\n",
       " '17.sality',\n",
       " '16.sytro',\n",
       " '55.medfos',\n",
       " '6.virut',\n",
       " '5.ursu',\n",
       " '12.expiro',\n",
       " '32.outbrowse',\n",
       " '13.vobfus',\n",
       " '15.graftor',\n",
       " '4.kazy',\n",
       " '7.solimba',\n",
       " '52.megasearch',\n",
       " '14.hotbar',\n",
       " '45.bdmj',\n",
       " '29.parite',\n",
       " '1.fakeav',\n",
       " '37.somoto',\n",
       " '8.fakealert',\n",
       " '62.directdow',\n",
       " '39.sirefef',\n",
       " '50.shodi',\n",
       " '24.softpulse',\n",
       " '312.katusha',\n",
       " '96.pcclient',\n",
       " '58.picsys',\n",
       " '54.fesber',\n",
       " '22.razy',\n",
       " '73.yantai',\n",
       " '10.symmi',\n",
       " '33.mira',\n",
       " '49.eggnog',\n",
       " '23.mplug',\n",
       " '3.allaple',\n",
       " '35.morstar',\n",
       " '69.clickdownload',\n",
       " '68.installerex']"
      ]
     },
     "execution_count": 39,
     "metadata": {},
     "output_type": "execute_result"
    }
   ],
   "source": [
    "root_dir = './data/tree-rep-profiles_o2o/normal/'\n",
    "loner_dir = './data/tree-rep-profiles_o2o_loner/'\n",
    "exp_dir = './data/tree-rep-profiles_o2o/EXP/'\n",
    "\n",
    "exp_fam = next(os.walk(test_dir))[1] #改align root_dir? 要進行家族歸類的家族\n",
    "exp_fam_dir = [x.split('_')[0] for x in exp_fam]\n",
    "exp_fam_dir"
   ]
  },
  {
   "cell_type": "markdown",
   "metadata": {},
   "source": [
    "RasMMA similarity function"
   ]
  },
  {
   "cell_type": "code",
   "execution_count": 40,
   "metadata": {},
   "outputs": [],
   "source": [
    "%run Alignment_Fast3.ipynb\n",
    "\n",
    "# Doing global alignment and find commonAPISequence.\n",
    "def do_globalAlignment(rep1, rep2):\n",
    "    '''\n",
    "    Input: 兩個1D list (profile(rep1) , rep(rep2))\n",
    "    Output: 一個1D list (common)\n",
    "    '''\n",
    "    # Aligment\n",
    "    commonAPISequence = []\n",
    "    alignment_result = globalAlign( rep1, rep2, score_matched=10, score_mismatched=-1, score_gap=0)[2]\n",
    "    common_motif_sequence = motif_delimit(alignment_result)\n",
    "    return common_motif_sequence\n",
    "\n",
    "# input: two R\n",
    "# output: new Rep's common motif sequence of input CMS;\n",
    "def get_Rep_CommMotifSeq(Ri, Rj):\n",
    "    '''\n",
    "    Input: 兩個1D list (profile(Ri) , rep(Rj))\n",
    "    Output: common motif 1D list\n",
    "    '''\n",
    "    rep1 = Ri\n",
    "    rep2 = Rj\n",
    "    repNew_CMS = []\n",
    "#     print(rep2)\n",
    "    if(rep1 and rep2):\n",
    "#         print(\"===in rep1 and rep2===\")\n",
    "        commonSequence = do_globalAlignment(rep1, rep2) # do Alignment\n",
    "#         print(commonSequence)\n",
    "        repNew = commonSequence\n",
    "    else: ##ADD\n",
    "        repNew = [] #ADD\n",
    "#     print('===out===')\n",
    "    return repNew\n",
    "\n",
    "# compute score of Rnew\n",
    "# the score calculate method is the length ratio of new to origin one\n",
    "def compute_Score(Ri, Rj, Rnew):\n",
    "    '''\n",
    "    Input: 3個 1D list (Profile(Ri), Rep(Rj), Common(Rnew))\n",
    "    Output: 相似度分數\n",
    "    '''\n",
    "    if(Rnew):\n",
    "        repI = Ri\n",
    "        repJ = Rj\n",
    "        repNew = Rnew\n",
    "        L_Ri = len(repI)\n",
    "        L_Rj = len(repJ)\n",
    "        Lorg = max(L_Ri, L_Rj)\n",
    "        Lnew = len(repNew)\n",
    "        return float(Lnew)/Lorg\n",
    "    else:\n",
    "        return 0"
   ]
  },
  {
   "cell_type": "code",
   "execution_count": 41,
   "metadata": {
    "scrolled": true
   },
   "outputs": [
    {
     "name": "stderr",
     "output_type": "stream",
     "text": [
      "100%|██████████| 45/45 [45:05<00:00, 22.90s/it]   "
     ]
    },
    {
     "name": "stdout",
     "output_type": "stream",
     "text": [
      "743\n"
     ]
    },
    {
     "name": "stderr",
     "output_type": "stream",
     "text": [
      "\n"
     ]
    }
   ],
   "source": [
    "count_accept_loner = 0 # 1 hr\n",
    "accept_loner_paths = []\n",
    "max_scores = []\n",
    "\n",
    "for fam in tqdm(exp_fam_dir):\n",
    "    in_directory = loner_dir+ fam+'/' + 'G0' + '/'\n",
    "    profiles = next(os.walk(in_directory))[2]\n",
    "    hl_list = [os.path.join(in_directory, f) for f in profiles]\n",
    "    hl_list = list(filter(lambda f: f.endswith(\".profile\"), hl_list))\n",
    "    for profile in hl_list:\n",
    "        with open(profile,encoding='ISO 8859-1') as f:\n",
    "            lines = f.read()\n",
    "        lines = re.sub(r'[^\\x00-\\x7F]+','', lines)\n",
    "        lines = re.sub(r'[\\x1e\\x7f\\x15\\x10\\x0c]+','', lines)\n",
    "        lines = lines.splitlines() #Ri\n",
    "        if len(lines) > outlier_len_profile: #太長的放不進去model\n",
    "            continue\n",
    "        ori_fam = fam+'_0.8'\n",
    "        ori_rep_trees = next(os.walk(root_dir + ori_fam + '/'))[1] # 原所屬家族tree的rep找出來\n",
    "        ori_scores = []\n",
    "        for tree in ori_rep_trees:\n",
    "            rep_directory = root_dir + ori_fam + '/' + tree + '/' + 'rep.pickle'\n",
    "            rep = pickle.load(open(rep_directory,'rb'))\n",
    "            rep = sum(rep,[])\n",
    "            common = get_Rep_CommMotifSeq(lines,rep)\n",
    "            score = compute_Score(lines,rep,common)\n",
    "            ori_scores.append(score)\n",
    "        ori_max_score = max(ori_scores)\n",
    "        flag = True\n",
    "        rest_dir = list(set(exp_fam) - set([ori_fam]))\n",
    "        for rep_dir in rest_dir:\n",
    "            rep_trees = next(os.walk(root_dir + rep_dir + '/'))[1]\n",
    "            for tree in rep_trees:\n",
    "                rep_directory = root_dir + rep_dir + '/' + tree + '/' + 'rep.pickle'\n",
    "                rep = pickle.load(open(rep_directory,'rb'))\n",
    "                rep = sum(rep,[])\n",
    "                common = get_Rep_CommMotifSeq(lines,rep)\n",
    "                score = compute_Score(lines,rep,common)\n",
    "                if score > ori_max_score: #loner跟別的家族tree分數比較高\n",
    "                    flag = False\n",
    "                    break\n",
    "            if flag == False:\n",
    "                break\n",
    "        if (flag == True) and (score>0):\n",
    "            accept_loner_paths.append(profile)\n",
    "            max_scores.append(ori_max_score)\n",
    "            count_accept_loner+=1\n",
    "assert len(accept_loner_paths) == count_accept_loner == len(max_scores)\n",
    "print(count_accept_loner)"
   ]
  },
  {
   "cell_type": "code",
   "execution_count": 56,
   "metadata": {
    "scrolled": true
   },
   "outputs": [
    {
     "name": "stdout",
     "output_type": "stream",
     "text": [
      "Processes#: 409 Hash#: 404\n"
     ]
    },
    {
     "data": {
      "text/plain": [
       "34"
      ]
     },
     "execution_count": 56,
     "metadata": {},
     "output_type": "execute_result"
    }
   ],
   "source": [
    "final_lon = []\n",
    "final_hash_lon = []\n",
    "final_fam_lon = []\n",
    "final_score = []\n",
    "for lon,score in zip(accept_loner_paths,max_scores):\n",
    "    hash_lon = lon.split('/')[-1].split('_')[0]\n",
    "    fam_name = lon.split('/')[3]\n",
    "    if score>0:\n",
    "        final_lon.append(lon)\n",
    "        final_hash_lon.append(hash_lon)\n",
    "        final_fam_lon.append(fam_name)\n",
    "        final_score.append(score)\n",
    "final_hash_lon = list(set(final_hash_lon))\n",
    "assert len(final_hash_lon) <= len(final_lon)\n",
    "print('Processes#:',len(final_lon),'Hash#:',len(final_hash_lon))\n",
    "final_fam_lon = dict(Counter(final_fam_lon))\n",
    "len(final_fam_lon)"
   ]
  },
  {
   "cell_type": "markdown",
   "metadata": {},
   "source": [
    "copy to root_dir"
   ]
  },
  {
   "cell_type": "code",
   "execution_count": 70,
   "metadata": {},
   "outputs": [
    {
     "name": "stderr",
     "output_type": "stream",
     "text": [
      "100%|██████████| 409/409 [00:00<00:00, 11687.99it/s]\n"
     ]
    }
   ],
   "source": [
    "for lon in tqdm(final_lon):\n",
    "    dest_dir = exp_dir + lon.split('/')[3] + '/'\n",
    "    if not os.path.exists(dest_dir):\n",
    "        os.makedirs(dest_dir,exist_ok=True)\n",
    "    shutil.copy(lon,dest_dir+lon.split('/')[-1])"
   ]
  },
  {
   "cell_type": "markdown",
   "metadata": {},
   "source": [
    "# Sent2Vec Prepare"
   ]
  },
  {
   "cell_type": "code",
   "execution_count": 71,
   "metadata": {},
   "outputs": [
    {
     "name": "stderr",
     "output_type": "stream",
     "text": [
      "100%|██████████| 130/130 [00:03<00:00, 37.72it/s]\n"
     ]
    }
   ],
   "source": [
    "dil= r\"[,.;\\-+^()/@#?!&$:{}\\\\*%~\\'\\\"\\=\\_]+\\ *\" #等號、底線被保留\n",
    "root_dir = './data/tree-rep-profiles_o2o/normal/'\n",
    "fam_dir = next(os.walk(root_dir))[1]\n",
    "api_length = []\n",
    "profile_length = []\n",
    "\n",
    "for fam in tqdm(fam_dir):\n",
    "    tree_dir = next(os.walk(root_dir + fam))[1]\n",
    "    for tree in tree_dir:\n",
    "        in_directory = root_dir + fam +  '/' + tree + '/'\n",
    "        hl_list = next(os.walk(in_directory))[2]\n",
    "        hl_list = [os.path.join(in_directory, f) for f in hl_list]\n",
    "        hl_list = list(filter(lambda f: f.endswith(\".profile\"), hl_list))\n",
    "        for profile in hl_list:\n",
    "            with open(profile,encoding='ISO 8859-1') as f:\n",
    "                lines = f.read().splitlines()\n",
    "            for line in lines:\n",
    "                temp = re.sub(dil,\" \",line.lower())\n",
    "                temp = temp.split(\" \")\n",
    "                temp = list(filter(None, temp))\n",
    "                api_length.append(len(temp))"
   ]
  },
  {
   "cell_type": "code",
   "execution_count": 72,
   "metadata": {
    "scrolled": true
   },
   "outputs": [
    {
     "data": {
      "text/html": [
       "<div>\n",
       "<style scoped>\n",
       "    .dataframe tbody tr th:only-of-type {\n",
       "        vertical-align: middle;\n",
       "    }\n",
       "\n",
       "    .dataframe tbody tr th {\n",
       "        vertical-align: top;\n",
       "    }\n",
       "\n",
       "    .dataframe thead th {\n",
       "        text-align: right;\n",
       "    }\n",
       "</style>\n",
       "<table border=\"1\" class=\"dataframe\">\n",
       "  <thead>\n",
       "    <tr style=\"text-align: right;\">\n",
       "      <th></th>\n",
       "      <th>length</th>\n",
       "    </tr>\n",
       "  </thead>\n",
       "  <tbody>\n",
       "    <tr>\n",
       "      <th>mean</th>\n",
       "      <td>15.239345</td>\n",
       "    </tr>\n",
       "    <tr>\n",
       "      <th>std</th>\n",
       "      <td>4.448034</td>\n",
       "    </tr>\n",
       "    <tr>\n",
       "      <th>mode</th>\n",
       "      <td>18.000000</td>\n",
       "    </tr>\n",
       "    <tr>\n",
       "      <th>min</th>\n",
       "      <td>3.000000</td>\n",
       "    </tr>\n",
       "    <tr>\n",
       "      <th>q1</th>\n",
       "      <td>13.000000</td>\n",
       "    </tr>\n",
       "    <tr>\n",
       "      <th>median</th>\n",
       "      <td>16.000000</td>\n",
       "    </tr>\n",
       "    <tr>\n",
       "      <th>q3</th>\n",
       "      <td>18.000000</td>\n",
       "    </tr>\n",
       "    <tr>\n",
       "      <th>max</th>\n",
       "      <td>38.000000</td>\n",
       "    </tr>\n",
       "    <tr>\n",
       "      <th>iqr</th>\n",
       "      <td>5.000000</td>\n",
       "    </tr>\n",
       "    <tr>\n",
       "      <th>outlier</th>\n",
       "      <td>25.500000</td>\n",
       "    </tr>\n",
       "    <tr>\n",
       "      <th>far_out</th>\n",
       "      <td>33.000000</td>\n",
       "    </tr>\n",
       "    <tr>\n",
       "      <th>10%</th>\n",
       "      <td>7.000000</td>\n",
       "    </tr>\n",
       "    <tr>\n",
       "      <th>20%</th>\n",
       "      <td>11.000000</td>\n",
       "    </tr>\n",
       "    <tr>\n",
       "      <th>30%</th>\n",
       "      <td>15.000000</td>\n",
       "    </tr>\n",
       "    <tr>\n",
       "      <th>40%</th>\n",
       "      <td>16.000000</td>\n",
       "    </tr>\n",
       "    <tr>\n",
       "      <th>50%</th>\n",
       "      <td>16.000000</td>\n",
       "    </tr>\n",
       "    <tr>\n",
       "      <th>60%</th>\n",
       "      <td>17.000000</td>\n",
       "    </tr>\n",
       "    <tr>\n",
       "      <th>70%</th>\n",
       "      <td>18.000000</td>\n",
       "    </tr>\n",
       "    <tr>\n",
       "      <th>80%</th>\n",
       "      <td>18.000000</td>\n",
       "    </tr>\n",
       "    <tr>\n",
       "      <th>90%</th>\n",
       "      <td>20.000000</td>\n",
       "    </tr>\n",
       "    <tr>\n",
       "      <th>100%</th>\n",
       "      <td>38.000000</td>\n",
       "    </tr>\n",
       "  </tbody>\n",
       "</table>\n",
       "</div>"
      ],
      "text/plain": [
       "            length\n",
       "mean     15.239345\n",
       "std       4.448034\n",
       "mode     18.000000\n",
       "min       3.000000\n",
       "q1       13.000000\n",
       "median   16.000000\n",
       "q3       18.000000\n",
       "max      38.000000\n",
       "iqr       5.000000\n",
       "outlier  25.500000\n",
       "far_out  33.000000\n",
       "10%       7.000000\n",
       "20%      11.000000\n",
       "30%      15.000000\n",
       "40%      16.000000\n",
       "50%      16.000000\n",
       "60%      17.000000\n",
       "70%      18.000000\n",
       "80%      18.000000\n",
       "90%      20.000000\n",
       "100%     38.000000"
      ]
     },
     "execution_count": 72,
     "metadata": {},
     "output_type": "execute_result"
    }
   ],
   "source": [
    "basic_statistics(api_length)"
   ]
  }
 ],
 "metadata": {
  "kernelspec": {
   "display_name": "Python [conda env:root] *",
   "language": "python",
   "name": "conda-root-py"
  },
  "language_info": {
   "codemirror_mode": {
    "name": "ipython",
    "version": 3
   },
   "file_extension": ".py",
   "mimetype": "text/x-python",
   "name": "python",
   "nbconvert_exporter": "python",
   "pygments_lexer": "ipython3",
   "version": "3.6.8"
  }
 },
 "nbformat": 4,
 "nbformat_minor": 2
}
